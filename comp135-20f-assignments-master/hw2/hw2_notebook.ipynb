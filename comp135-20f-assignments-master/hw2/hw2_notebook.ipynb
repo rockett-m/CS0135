{
 "cells": [
  {
   "cell_type": "markdown",
   "metadata": {},
   "source": [
    "# HW2: Classification with Logistic Regression"
   ]
  },
  {
   "cell_type": "markdown",
   "metadata": {},
   "source": [
    "## Note: \n",
    "* You will need to finish **Code Task** for **Problem 1** before working on this notebook. \n",
    "* Your outputs, including tables and figures, don't need to be exactly the same as our sample outputs, but we do expect something as clear."
   ]
  },
  {
   "cell_type": "code",
   "execution_count": 1,
   "metadata": {},
   "outputs": [],
   "source": [
    "import os\n",
    "import numpy as np\n",
    "import pandas as pd\n",
    "\n",
    "import sklearn.linear_model\n",
    "import sklearn.metrics"
   ]
  },
  {
   "cell_type": "code",
   "execution_count": 2,
   "metadata": {},
   "outputs": [],
   "source": [
    "# import plotting libraries\n",
    "import matplotlib\n",
    "import matplotlib.pyplot as plt\n",
    "\n",
    "%matplotlib inline\n",
    "plt.style.use('seaborn') # pretty matplotlib plots\n",
    "\n",
    "import seaborn as sns\n",
    "sns.set('notebook', style='whitegrid', font_scale=1.25)"
   ]
  },
  {
   "cell_type": "markdown",
   "metadata": {},
   "source": [
    "# Import starter code (should be completed by student in Problem 1)"
   ]
  },
  {
   "cell_type": "code",
   "execution_count": 3,
   "metadata": {},
   "outputs": [],
   "source": [
    "from performance_metrics_for_binary_predictions import (\n",
    "    calc_ACC, calc_TPR, calc_PPV, calc_TNR, calc_NPV)"
   ]
  },
  {
   "cell_type": "markdown",
   "metadata": {},
   "source": [
    "# Import starter code (will work as distributed)"
   ]
  },
  {
   "cell_type": "code",
   "execution_count": 4,
   "metadata": {},
   "outputs": [],
   "source": [
    "import threshold_selection"
   ]
  },
  {
   "cell_type": "code",
   "execution_count": 5,
   "metadata": {},
   "outputs": [],
   "source": [
    "from confusion_matrix import calc_confusion_matrix_for_probas_and_threshold"
   ]
  },
  {
   "cell_type": "markdown",
   "metadata": {},
   "source": [
    "# Provided function for computing mean binary cross entropy\n",
    "\n",
    "Here, we provide a *completed* function you can use as is for Problem 1 report.\n",
    "\n",
    "Later in Problem 2, you'll write your own version of this function without using sklearn.\n",
    "\n",
    "Remember, we want the *base-2* cross entropy:\n",
    "\n",
    "$$\n",
    "BCE(y, p) = - y \\log_2 p - (1-y) \\log_2(1-p)\n",
    "$$"
   ]
  },
  {
   "cell_type": "code",
   "execution_count": 6,
   "metadata": {},
   "outputs": [],
   "source": [
    "def calc_mean_binary_cross_entropy_from_probas(ytrue_N, yproba1_N):\n",
    "    ''' Compute mean binary cross entropy\n",
    "    \n",
    "    Args\n",
    "    ----\n",
    "    ytrue_N : 1D array, size (n_examples,) = (N,)\n",
    "    yproba1_N : 1D array, size (n_examples,) = (N,)\n",
    "    \n",
    "    Returns\n",
    "    -------\n",
    "    mean_bce : float\n",
    "        mean binary cross entropy across all N examples\n",
    "    '''\n",
    "    return sklearn.metrics.log_loss(ytrue_N, yproba1_N, labels=[0,1]) / np.log(2.0)"
   ]
  },
  {
   "cell_type": "code",
   "execution_count": 17,
   "metadata": {},
   "outputs": [
    {
     "data": {
      "text/plain": [
       "6.643856189774724"
      ]
     },
     "execution_count": 17,
     "metadata": {},
     "output_type": "execute_result"
    }
   ],
   "source": [
    "# Check that BCE loss is high if true class is 1 but probability is low\n",
    "calc_mean_binary_cross_entropy_from_probas([1.], [0.01])"
   ]
  },
  {
   "cell_type": "code",
   "execution_count": 18,
   "metadata": {},
   "outputs": [
    {
     "data": {
      "text/plain": [
       "1.0"
      ]
     },
     "execution_count": 18,
     "metadata": {},
     "output_type": "execute_result"
    }
   ],
   "source": [
    "# Check that BCE loss is exactly 1 if true class is 1 but probability is 0.5\n",
    "calc_mean_binary_cross_entropy_from_probas([1.], [0.5])"
   ]
  },
  {
   "cell_type": "code",
   "execution_count": 19,
   "metadata": {},
   "outputs": [
    {
     "data": {
      "text/plain": [
       "0.01449956969511509"
      ]
     },
     "execution_count": 19,
     "metadata": {},
     "output_type": "execute_result"
    }
   ],
   "source": [
    "# Check that BCE loss is close to zero if true class is 1 but probability is 0.99\n",
    "calc_mean_binary_cross_entropy_from_probas([1.], [0.99])"
   ]
  },
  {
   "cell_type": "markdown",
   "metadata": {},
   "source": [
    "# Problem 1: Binary Classifier for Cancer-Risk Screening"
   ]
  },
  {
   "cell_type": "markdown",
   "metadata": {},
   "source": [
    "### Load the dataset"
   ]
  },
  {
   "cell_type": "code",
   "execution_count": 10,
   "metadata": {},
   "outputs": [],
   "source": [
    "DATA_DIR = os.path.join('..', 'data_cancer') #Make sure you have downloaded data and your directory is correct"
   ]
  },
  {
   "cell_type": "code",
   "execution_count": 11,
   "metadata": {},
   "outputs": [],
   "source": [
    "# Load 3 feature version of x arrays\n",
    "x_tr_M3 = np.loadtxt(os.path.join(DATA_DIR, 'x_train.csv'), delimiter=',', skiprows=1)\n",
    "x_va_N3 = np.loadtxt(os.path.join(DATA_DIR, 'x_valid.csv'), delimiter=',', skiprows=1)\n",
    "x_te_N3 = np.loadtxt(os.path.join(DATA_DIR, 'x_test.csv'), delimiter=',', skiprows=1)"
   ]
  },
  {
   "cell_type": "code",
   "execution_count": 12,
   "metadata": {},
   "outputs": [],
   "source": [
    "N_shape = x_va_N3.shape\n",
    "M_shape = x_tr_M3.shape\n",
    "\n",
    "N = N_shape[0]\n",
    "M = M_shape[0]"
   ]
  },
  {
   "cell_type": "markdown",
   "metadata": {},
   "source": [
    "**TODO** : Load outcomes **y** arrays"
   ]
  },
  {
   "cell_type": "code",
   "execution_count": 13,
   "metadata": {},
   "outputs": [],
   "source": [
    "# TODO : Load outcomes y arrays\n",
    "# Hint: Follow the way we import x arrays.\n",
    "y_tr_M = np.zeros(M)\n",
    "y_va_N = np.zeros(N)\n",
    "y_te_N = np.zeros(N) "
   ]
  },
  {
   "cell_type": "code",
   "execution_count": 14,
   "metadata": {},
   "outputs": [],
   "source": [
    "# Load 2 feature version of x arrays\n",
    "x_tr_M2 = x_tr_M3[:, :2].copy()\n",
    "x_va_N2 = x_va_N3[:, :2].copy()\n",
    "x_te_N2 = x_te_N3[:, :2].copy()"
   ]
  },
  {
   "cell_type": "markdown",
   "metadata": {},
   "source": [
    "# Problem 1:\n",
    "## Implementation Step 1A: Data Exploration"
   ]
  },
  {
   "cell_type": "markdown",
   "metadata": {},
   "source": [
    "### Table 1 TODO\n",
    "Provide a table summarizing some basic properties of the provided training set, validation set, and test set:\n",
    "\n",
    "* Row 1 'total count': how many total examples are in each set, total?\n",
    "* Row 2 'positive label count': how many examples have a positive label (means cancer)?\n",
    "* Row 3 'fraction positive' : what fraction (between 0 and 1) of the examples have cancer?\n",
    "\n",
    "Your result should be 3 by 3 containing 'total count', 'positive label count' and 'fraction positive' of training, valid and test sets. An example of the output looks like this:\n",
    "\n",
    "|                                 |train    |valid     |test|\n",
    "|:-|-:|-:|-:|\n",
    "|num. total examples            |567.000  |123.000  |123.000\n",
    "|num. positive examples         |56.000   |23.000   |23.000\n",
    "|fraction of positive examples  |0.123    |0.123    |0.123\n",
    "\n",
    "All results should **keep 3 digits**. "
   ]
  },
  {
   "cell_type": "markdown",
   "metadata": {},
   "source": [
    "##  Implementation Step 1B: The predict-0-always baseline"
   ]
  },
  {
   "cell_type": "markdown",
   "metadata": {},
   "source": [
    "**TODO**: predict zero for all test data points"
   ]
  },
  {
   "cell_type": "code",
   "execution_count": 15,
   "metadata": {},
   "outputs": [
    {
     "ename": "SyntaxError",
     "evalue": "invalid syntax (<ipython-input-15-b92fc6126c61>, line 1)",
     "output_type": "error",
     "traceback": [
      "\u001b[0;36m  File \u001b[0;32m\"<ipython-input-15-b92fc6126c61>\"\u001b[0;36m, line \u001b[0;32m1\u001b[0m\n\u001b[0;31m    baseline_yhat_te_N = #TODO predict zero for all test data points\u001b[0m\n\u001b[0m                                                                    ^\u001b[0m\n\u001b[0;31mSyntaxError\u001b[0m\u001b[0;31m:\u001b[0m invalid syntax\n"
     ]
    }
   ],
   "source": [
    "baseline_yhat_te_N = #TODO predict zero for all test data points"
   ]
  },
  {
   "cell_type": "code",
   "execution_count": null,
   "metadata": {},
   "outputs": [],
   "source": [
    "print(calc_confusion_matrix_for_probas_and_threshold(y_te_N, baseline_yhat_te_N, 0.5))"
   ]
  },
  {
   "cell_type": "markdown",
   "metadata": {},
   "source": [
    "**TODO** Use the printed information from the previous code cell to calculate the accuracy of baseline. \n",
    "\n",
    "Keep 3 digits in your PDF report for short Answer 1a."
   ]
  },
  {
   "cell_type": "code",
   "execution_count": null,
   "metadata": {},
   "outputs": [],
   "source": [
    "baseline_acc = 0.0 # TODO: calculate the accuracy of baseline.\n",
    "print(\"Baseline has accuracy:\", baseline_acc)"
   ]
  },
  {
   "cell_type": "markdown",
   "metadata": {},
   "source": [
    "#### Short Answer 1a  in Report\n",
    "What accuracy (i.e. **baseline_acc** from above) does the \"predict-0-always\" classifier get on the test set (report to 3 decimal places)? (You should see a pretty good number). Does this mean we should use this classifier?"
   ]
  },
  {
   "cell_type": "markdown",
   "metadata": {},
   "source": [
    "#### Short Answer 1b in Report\n",
    "\n",
    "For the intended application (screening patients before biopsy), describe the possible mistakes the classifier can make in task-specific terms. What costs does each mistake entail (lost time? lost money? life-threatening harm?). How do you recommend evaluating a potential classifier to be mindful of these costs?"
   ]
  },
  {
   "cell_type": "code",
   "execution_count": null,
   "metadata": {},
   "outputs": [],
   "source": []
  },
  {
   "cell_type": "markdown",
   "metadata": {},
   "source": [
    "## Implementation Step 1C : Logistic Regression with F=2 dataset"
   ]
  },
  {
   "cell_type": "markdown",
   "metadata": {},
   "source": [
    "**TODO**: Finish Part a, b, c, d in the next code block."
   ]
  },
  {
   "cell_type": "code",
   "execution_count": 21,
   "metadata": {},
   "outputs": [
    {
     "ename": "SyntaxError",
     "evalue": "invalid syntax (<ipython-input-21-820862198cb1>, line 21)",
     "output_type": "error",
     "traceback": [
      "\u001b[0;36m  File \u001b[0;32m\"<ipython-input-21-820862198cb1>\"\u001b[0;36m, line \u001b[0;32m21\u001b[0m\n\u001b[0;31m    lr_F2 =     # Part a\u001b[0m\n\u001b[0m                        ^\u001b[0m\n\u001b[0;31mSyntaxError\u001b[0m\u001b[0;31m:\u001b[0m invalid syntax\n"
     ]
    }
   ],
   "source": [
    "C_grid = np.logspace(-9, 6, 31)\n",
    "\n",
    "# Store binary cross entropy (bce) for all C in C_grid;\n",
    "# So we can compare and select the best C in the future steps.\n",
    "tr_bce_list = list()\n",
    "va_bce_list = list()\n",
    "te_bce_list = list()\n",
    "\n",
    "# Store the error rate: Fraction of examples that are mis-classified (using threshold=0.5)\n",
    "# (We visualize it later, but don't use it in the report).\n",
    "# Remember, we justified using BCE for training our classifier by saying\n",
    "# it provides an *upper bound* on the error rate.\n",
    "tr_err_list = list()\n",
    "va_err_list = list()\n",
    "te_err_list = list()\n",
    "\n",
    "for C in C_grid:\n",
    "    # TODO: Follow the instruction in HW2 and train the model lr_F2\n",
    "    # Part a: Initialize your LogisticRegression classifier \n",
    "    # Part b: train the model with the 2-feature dataset\n",
    "    lr_F2 =     # Part a\n",
    "    lr_F2.fit() # Part b\n",
    "    \n",
    "    yproba1_tr_M = lr_F2.predict_proba(x_tr_M2)[:,1] # The probability of predicting class 1 on the training set\n",
    "    yproba1_va_N = lr_F2.predict_proba(x_va_N2)[:,1] # The probability of predicting class 1 on the validation set\n",
    "    \n",
    "    tr_err_list.append(sklearn.metrics.zero_one_loss(y_tr_M, yproba1_tr_M >= 0.5)) # Error rate for training set. \n",
    "    va_err_list.append(sklearn.metrics.zero_one_loss(y_va_N, yproba1_va_N >= 0.5)) # Error rate for validation set. \n",
    "    \n",
    "    # TODO: using the calc_mean_binary_cross_entropy_from_probas() function from above:\n",
    "    # Part c: calculate the binary cross entropy (bce) on the training set\n",
    "    # Part d: calculate the binary cross entropy (bce) on the validation set\n",
    "    my_tr_bce=  # Part c\n",
    "    my_va_bce=  # Part d\n",
    "    \n",
    "    # Save bce for future selection on Models.\n",
    "    tr_bce_list.append(my_tr_bce) \n",
    "    va_bce_list.append(my_va_bce) "
   ]
  },
  {
   "cell_type": "code",
   "execution_count": 22,
   "metadata": {},
   "outputs": [
    {
     "ename": "NameError",
     "evalue": "name 'C_grid' is not defined",
     "output_type": "error",
     "traceback": [
      "\u001b[0;31m---------------------------------------------------------------------------\u001b[0m",
      "\u001b[0;31mNameError\u001b[0m                                 Traceback (most recent call last)",
      "\u001b[0;32m<ipython-input-22-e7a7d6cb87d6>\u001b[0m in \u001b[0;36m<module>\u001b[0;34m\u001b[0m\n\u001b[0;32m----> 1\u001b[0;31m \u001b[0mplt\u001b[0m\u001b[0;34m.\u001b[0m\u001b[0mplot\u001b[0m\u001b[0;34m(\u001b[0m\u001b[0mnp\u001b[0m\u001b[0;34m.\u001b[0m\u001b[0mlog10\u001b[0m\u001b[0;34m(\u001b[0m\u001b[0mC_grid\u001b[0m\u001b[0;34m)\u001b[0m\u001b[0;34m,\u001b[0m \u001b[0mtr_bce_list\u001b[0m\u001b[0;34m,\u001b[0m \u001b[0;34m'b.-'\u001b[0m\u001b[0;34m,\u001b[0m \u001b[0mlabel\u001b[0m\u001b[0;34m=\u001b[0m\u001b[0;34m'train binary cross entropy'\u001b[0m\u001b[0;34m)\u001b[0m\u001b[0;34m\u001b[0m\u001b[0;34m\u001b[0m\u001b[0m\n\u001b[0m\u001b[1;32m      2\u001b[0m \u001b[0mplt\u001b[0m\u001b[0;34m.\u001b[0m\u001b[0mplot\u001b[0m\u001b[0;34m(\u001b[0m\u001b[0mnp\u001b[0m\u001b[0;34m.\u001b[0m\u001b[0mlog10\u001b[0m\u001b[0;34m(\u001b[0m\u001b[0mC_grid\u001b[0m\u001b[0;34m)\u001b[0m\u001b[0;34m,\u001b[0m \u001b[0mva_bce_list\u001b[0m\u001b[0;34m,\u001b[0m \u001b[0;34m'r.-'\u001b[0m\u001b[0;34m,\u001b[0m \u001b[0mlabel\u001b[0m\u001b[0;34m=\u001b[0m\u001b[0;34m'valid binary cross entropy'\u001b[0m\u001b[0;34m)\u001b[0m\u001b[0;34m\u001b[0m\u001b[0;34m\u001b[0m\u001b[0m\n\u001b[1;32m      3\u001b[0m \u001b[0;34m\u001b[0m\u001b[0m\n\u001b[1;32m      4\u001b[0m \u001b[0mplt\u001b[0m\u001b[0;34m.\u001b[0m\u001b[0mplot\u001b[0m\u001b[0;34m(\u001b[0m\u001b[0mnp\u001b[0m\u001b[0;34m.\u001b[0m\u001b[0mlog10\u001b[0m\u001b[0;34m(\u001b[0m\u001b[0mC_grid\u001b[0m\u001b[0;34m)\u001b[0m\u001b[0;34m,\u001b[0m \u001b[0mtr_err_list\u001b[0m\u001b[0;34m,\u001b[0m \u001b[0;34m'b:'\u001b[0m\u001b[0;34m,\u001b[0m \u001b[0mlabel\u001b[0m\u001b[0;34m=\u001b[0m\u001b[0;34m'train err'\u001b[0m\u001b[0;34m)\u001b[0m\u001b[0;34m\u001b[0m\u001b[0;34m\u001b[0m\u001b[0m\n\u001b[1;32m      5\u001b[0m \u001b[0mplt\u001b[0m\u001b[0;34m.\u001b[0m\u001b[0mplot\u001b[0m\u001b[0;34m(\u001b[0m\u001b[0mnp\u001b[0m\u001b[0;34m.\u001b[0m\u001b[0mlog10\u001b[0m\u001b[0;34m(\u001b[0m\u001b[0mC_grid\u001b[0m\u001b[0;34m)\u001b[0m\u001b[0;34m,\u001b[0m \u001b[0mva_err_list\u001b[0m\u001b[0;34m,\u001b[0m \u001b[0;34m'r:'\u001b[0m\u001b[0;34m,\u001b[0m \u001b[0mlabel\u001b[0m\u001b[0;34m=\u001b[0m\u001b[0;34m'valid err'\u001b[0m\u001b[0;34m)\u001b[0m\u001b[0;34m\u001b[0m\u001b[0;34m\u001b[0m\u001b[0m\n",
      "\u001b[0;31mNameError\u001b[0m: name 'C_grid' is not defined"
     ]
    }
   ],
   "source": [
    "plt.plot(np.log10(C_grid), tr_bce_list, 'b.-', label='train binary cross entropy')\n",
    "plt.plot(np.log10(C_grid), va_bce_list, 'r.-', label='valid binary cross entropy')\n",
    "\n",
    "plt.plot(np.log10(C_grid), tr_err_list, 'b:', label='train err')\n",
    "plt.plot(np.log10(C_grid), va_err_list, 'r:', label='valid err')\n",
    "\n",
    "plt.ylabel('error')\n",
    "plt.xlabel(\"log_{10} C\");\n",
    "plt.legend(bbox_to_anchor=(1.5, 0.5)) # make legend outside plot\n",
    "plt.ylim([0, 0.7]);"
   ]
  },
  {
   "attachments": {
    "image.png": {
     "image/png": "[encoded data removed]"
    }
   },
   "cell_type": "markdown",
   "metadata": {},
   "source": [
    "### Check Point:\n",
    "\n",
    "If your code is correct, you should produce exactly the same figure when you run the cell above as:\n",
    "\n",
    "**\"Checkpoint1C.jpg\"** in the same folder as your starter code.\n",
    "![image.png](attachment:image.png)"
   ]
  },
  {
   "cell_type": "code",
   "execution_count": null,
   "metadata": {},
   "outputs": [],
   "source": [
    "print(\"Searched over these C values:\")\n",
    "print(C_grid)"
   ]
  },
  {
   "cell_type": "markdown",
   "metadata": {},
   "source": [
    "**TODO** Find the best C with the samllest cross entropy loss on the validation set."
   ]
  },
  {
   "cell_type": "code",
   "execution_count": null,
   "metadata": {},
   "outputs": [],
   "source": [
    "# TODO Find the best C with the samllest cross entropy loss on the validation set\n",
    "best_C__lrF2= \n",
    "\n",
    "print(\"Best C value for F2 model:\")\n",
    "print(best_C__lrF2)"
   ]
  },
  {
   "cell_type": "markdown",
   "metadata": {},
   "source": [
    "**TODO** Initialize and train using the Best C from the previous experiment."
   ]
  },
  {
   "cell_type": "code",
   "execution_count": null,
   "metadata": {},
   "outputs": [],
   "source": [
    "# TODO Initialize and train using the Best C from the previous experiment.\n",
    "# Part a: Initialize the model using the Best C (i.e. best_C__lrF2) from the previous experiment \n",
    "# Part b: retrieve the best model by training on the training set again.\n",
    "\n",
    "best_lrF2 =     #Part a\n",
    "best_lrF2.fit() #Part b"
   ]
  },
  {
   "cell_type": "code",
   "execution_count": null,
   "metadata": {},
   "outputs": [],
   "source": [
    "# Output the prediction of your best model for 2-feature data on the training, valid, and test set. \n",
    "# Return the posibility of predicting true\n",
    "# We'll use them for the ROC curve\n",
    "bestlrF2_yproba1_tr_M = best_lrF2.predict_proba(x_tr_M2)[:,1]\n",
    "bestlrF2_yproba1_va_N = best_lrF2.predict_proba(x_va_N2)[:,1]\n",
    "bestlrF2_yproba1_te_N = best_lrF2.predict_proba(x_te_N2)[:,1]"
   ]
  },
  {
   "cell_type": "markdown",
   "metadata": {},
   "source": [
    "## Implementation Step 1D : Logistic Regression with F=3 dataset\n",
    "**TODO**: \n",
    "* Repeat Step 1C for 3-feature Dataset to find the best C. "
   ]
  },
  {
   "cell_type": "code",
   "execution_count": null,
   "metadata": {},
   "outputs": [],
   "source": []
  },
  {
   "cell_type": "markdown",
   "metadata": {},
   "source": [
    "**TODO**:\n",
    "* Select the best C and retrieve the best model. You should name the model as \"**best_lrF3**\"."
   ]
  },
  {
   "cell_type": "code",
   "execution_count": null,
   "metadata": {},
   "outputs": [],
   "source": []
  },
  {
   "cell_type": "markdown",
   "metadata": {},
   "source": [
    "**TODO**:\n",
    "* Return the posibility of predicting true on training, validation and test set."
   ]
  },
  {
   "cell_type": "code",
   "execution_count": null,
   "metadata": {},
   "outputs": [],
   "source": [
    "# TODO: Return the posibility of predicting true on training, validation and test set.\n",
    "# Part a Return the posibility of predicting true on training set.\n",
    "# Part b Return the posibility of predicting true on validation set.\n",
    "# Part c Return the posibility of predicting true on test set.\n",
    "\n",
    "# Hint: follow what's done in the last code block of Step 1C.\n",
    "\n",
    "bestlrF3_yproba1_tr_M = # Part a\n",
    "bestlrF3_yproba1_va_N = # Part b\n",
    "bestlrF3_yproba1_te_N = # Part c"
   ]
  },
  {
   "cell_type": "markdown",
   "metadata": {},
   "source": [
    "### Figure 1 for the report: Comparing models using ROC analysis\n",
    "**TODO**:\n",
    "Follow the instruction to produce the figure for your report"
   ]
  },
  {
   "cell_type": "code",
   "execution_count": null,
   "metadata": {},
   "outputs": [],
   "source": [
    "# Follow the instruction of HW2 and produce Figure 1 for your report:\n",
    "plt.subplots(nrows=1, ncols=1, figsize=(5,5));\n",
    "\n",
    "#TODO Using your data and predictions of the Validation set, Produce the ROC Curve utilizing  \n",
    "#     `sklearn.metrics.roc_curve' within plt defined above.\n",
    "#     To Start with, Google and Read the official Document and examples of 'sklearn.metrics.roc_curve'. \n",
    "\n",
    "#     Read the instruction of HW2 carefully about the requirements of your plot (line type, line color, etc.)\n",
    "\n",
    "plt.title(\"ROC on Validation Set\");\n",
    "plt.xlabel('false positive rate');\n",
    "plt.ylabel('true positive rate');\n",
    "plt.legend(loc='lower right');\n",
    "B = 0.01\n",
    "plt.xlim([0 - B, 1 + B]);\n",
    "plt.ylim([0 - B, 1 + B]);"
   ]
  },
  {
   "cell_type": "markdown",
   "metadata": {},
   "source": [
    "#### Short Answer 1c in Report\n",
    "\n",
    "Compare the two models in terms of their ROC curves from Figure 1. Does one dominate the other in terms of overall performance, or are there areas where one model “wins” and others where the other model does? Which model do recommend for the task at hand?"
   ]
  },
  {
   "cell_type": "code",
   "execution_count": null,
   "metadata": {},
   "outputs": [],
   "source": []
  },
  {
   "cell_type": "markdown",
   "metadata": {},
   "source": [
    "## Implementation Step 1E & F: Selecting a decision threshold"
   ]
  },
  {
   "cell_type": "markdown",
   "metadata": {},
   "source": [
    "### Figure 2 for Report"
   ]
  },
  {
   "cell_type": "markdown",
   "metadata": {},
   "source": [
    "**TODO**: Follow the instructions for **Figure2 Column 1,2,3** and produce a plot such that:  \n",
    "Each column should correspond to one of the following models:\n",
    "\n",
    "* F=3 Logistic Regression (from 1D above), using threshold 0.5\n",
    "* F=3 Logistic Regression (from 1D above), using threshold from 1E above\n",
    "* F=3 Logistic Regression (from 1D above), using threshold from 1F above\n",
    "\n",
    "Each row should report some performance of the model on the **test** set:\n",
    "* Title: **Threshold** **(with 4 digits)** + which case (i.e **default**, **PPV >= 0.98** or **TPR>=0.98**)\n",
    "* Top Row: **Confusion Matrix** on the test set. **(with Integers)**\n",
    "* Bottom Row: at least **TPR** and **PPV** on the test set. **(with 3 digits)**\n",
    "\n",
    "**Once you finish all three Columns of figure 2, please combine them into one figure and include it in your PDF report.**"
   ]
  },
  {
   "cell_type": "code",
   "execution_count": null,
   "metadata": {},
   "outputs": [],
   "source": []
  },
  {
   "cell_type": "markdown",
   "metadata": {},
   "source": [
    "### Figure2 Column1: Use F=3 LR model, Use default 0.5 threshold\n",
    "#### TODO: \n",
    "* Produce the confusion matrix \n",
    "* Return at least TPR and PPV on the test set\n",
    "\n",
    "A sample output looks like this: "
   ]
  },
  {
   "cell_type": "markdown",
   "metadata": {},
   "source": [
    "<center>Chosen thr = 0.5000 (Default)</center>\n",
    "\n",
    "||**Predicted**|**0**|**1**|\n",
    "|:-:|:-|-:|-:|\n",
    "|**True Result**| | | |\n",
    "|**0**     |     |100   |5|\n",
    "|**1**     |      |10  |10| \n",
    "\n",
    "|**Metric**|**Score**|\n",
    "|-:|-:|\n",
    "|TPR  |0.300|\n",
    "|PPV  |0.719|\n",
    "|TNR  |0.234|\n",
    "|NPV  |0.900|"
   ]
  },
  {
   "cell_type": "code",
   "execution_count": null,
   "metadata": {},
   "outputs": [],
   "source": []
  },
  {
   "cell_type": "markdown",
   "metadata": {},
   "source": [
    "### Figure2 Column2: Use F=3 LR model, Pick threshold to maximize TPR s.t. PPV >= 0.98"
   ]
  },
  {
   "cell_type": "code",
   "execution_count": 16,
   "metadata": {},
   "outputs": [
    {
     "ename": "NameError",
     "evalue": "name 'bestlrF3_yproba1_va_N' is not defined",
     "output_type": "error",
     "traceback": [
      "\u001b[0;31m---------------------------------------------------------------------------\u001b[0m",
      "\u001b[0;31mNameError\u001b[0m                                 Traceback (most recent call last)",
      "\u001b[0;32m<ipython-input-16-02c6e04bd50a>\u001b[0m in \u001b[0;36m<module>\u001b[0;34m\u001b[0m\n\u001b[1;32m      1\u001b[0m thresh_grid, va_perf_grid = threshold_selection.compute_perf_metrics_across_thresholds(\n\u001b[0;32m----> 2\u001b[0;31m     y_va_N, bestlrF3_yproba1_va_N)\n\u001b[0m\u001b[1;32m      3\u001b[0m \u001b[0;34m\u001b[0m\u001b[0m\n\u001b[1;32m      4\u001b[0m \u001b[0mva_tpr\u001b[0m \u001b[0;34m=\u001b[0m \u001b[0mva_perf_grid\u001b[0m\u001b[0;34m[\u001b[0m\u001b[0;34m'tpr'\u001b[0m\u001b[0;34m]\u001b[0m\u001b[0;34m\u001b[0m\u001b[0;34m\u001b[0m\u001b[0m\n\u001b[1;32m      5\u001b[0m \u001b[0mva_ppv\u001b[0m \u001b[0;34m=\u001b[0m \u001b[0mva_perf_grid\u001b[0m\u001b[0;34m[\u001b[0m\u001b[0;34m'ppv'\u001b[0m\u001b[0;34m]\u001b[0m\u001b[0;34m\u001b[0m\u001b[0;34m\u001b[0m\u001b[0m\n",
      "\u001b[0;31mNameError\u001b[0m: name 'bestlrF3_yproba1_va_N' is not defined"
     ]
    }
   ],
   "source": [
    "thresh_grid, va_perf_grid = threshold_selection.compute_perf_metrics_across_thresholds(\n",
    "    y_va_N, bestlrF3_yproba1_va_N)\n",
    "\n",
    "va_tpr = va_perf_grid['tpr']\n",
    "va_ppv = va_perf_grid['ppv']\n",
    "\n",
    "feasible_mask = va_ppv >= 0.98 # Select all indexes in the array va_ppv that has ppv >= 0.98\n",
    "\n",
    "# Pull out all feasible thresholds as well as their tpr and ppv values.\n",
    "thr_feasible = thresh_grid[feasible_mask]\n",
    "tpr_feasible = va_tpr[feasible_mask]\n",
    "ppv_feasible = va_ppv[feasible_mask]"
   ]
  },
  {
   "cell_type": "markdown",
   "metadata": {},
   "source": [
    "**TODO**: Finish the code block to get the best threshold."
   ]
  },
  {
   "cell_type": "code",
   "execution_count": null,
   "metadata": {},
   "outputs": [],
   "source": [
    "# Find threshold that makes TPR as large as possible, while satisfying PPV >= 0.98\n",
    "# TODO Find the index (i.e. ii) of the largest TPR while PPV >= 0.98\n",
    "ii = # Find the index of the largest TPR while PPV >= 0.98\n",
    "best_thr = thr_feasible[ii] # Get the threshold\n",
    "\n",
    "print(\"Chosen thr = %.4f\" % best_thr)"
   ]
  },
  {
   "cell_type": "markdown",
   "metadata": {},
   "source": [
    "**TODO**: Using the chosen **best_thr** above\n",
    "* Produce the confusion matrix \n",
    "* Return at least TPR and PPV on the test set\n",
    "\n",
    "A sample output looks like this:"
   ]
  },
  {
   "cell_type": "markdown",
   "metadata": {},
   "source": [
    "<center>Chosen thr = 0.5678 (PPV >= 0.98)</center>\n",
    "\n",
    "||**Predicted**|**0**|**1**|\n",
    "|:-:|:-|-:|-:|\n",
    "|**True Result**| | | |\n",
    "|**0**     |     |100   |5|\n",
    "|**1**     |      |10  |10| \n",
    "\n",
    "|**Metric**|**Score**|\n",
    "|-:|-:|\n",
    "|TPR  |0.300|\n",
    "|PPV  |0.719|\n",
    "|TNR  |0.234|\n",
    "|NPV  |0.900|"
   ]
  },
  {
   "cell_type": "code",
   "execution_count": null,
   "metadata": {},
   "outputs": [],
   "source": []
  },
  {
   "cell_type": "markdown",
   "metadata": {},
   "source": [
    "### Figure2 Column3: Use F=3 LR model, Pick threshold to maximize PPV s.t. TPR >= 0.98\n",
    "#### TODO: \n",
    "Using a similar logistic from **Figure2 Column2**,\n",
    "* Choose threshold that makes TPR as large as possible, while satisfying PPV >= 0.98\n",
    "* Produce the confusion matrix using the chosen threshold\n",
    "* Return at least TPR and PPV on the test set using the chosen threshold\n",
    "\n",
    "A sample output looks like this:"
   ]
  },
  {
   "cell_type": "markdown",
   "metadata": {},
   "source": [
    "<center>Chosen thr = 0.1234 (TPR >= 0.98)</center>\n",
    "\n",
    "||**Predicted**|**0**|**1**|\n",
    "|:-:|:-|-:|-:|\n",
    "|**True Result**| | | |\n",
    "|**0**     |     |100   |5|\n",
    "|**1**     |      |10  |10| \n",
    "\n",
    "|**Metric**|**Score**|\n",
    "|-:|-:|\n",
    "|TPR  |0.300|\n",
    "|PPV  |0.719|\n",
    "|TNR  |0.234|\n",
    "|NPV  |0.900|"
   ]
  },
  {
   "cell_type": "markdown",
   "metadata": {},
   "source": [
    "Once you finish all three parts of figure 2, plase **combine all 3 column** into **one figure** and include it in your PDF report. Remember to **add titles** (Threshold + which case) to each column."
   ]
  },
  {
   "cell_type": "code",
   "execution_count": null,
   "metadata": {},
   "outputs": [],
   "source": []
  },
  {
   "cell_type": "markdown",
   "metadata": {},
   "source": [
    "#### Short Answer 1d in Report\n",
    "\n",
    "Compare the confusion matrices in Figure 1. Which model and thresholding strategy best meets our preferences from 1b: avoid life-threatening mistakes at all costs, while also eliminating unnecessary biopsies?\n",
    "\n",
    "#### Short Answer 1e in Report\n",
    "\n",
    "By carefully reading the confusion matrices from Figure 2, estimate how many subjects in the test set are saved from unnecessary biopsies using your selected thresholding strategy. What fraction of current biopsies might be avoided if this classifier was adopted by the hospital?"
   ]
  },
  {
   "cell_type": "code",
   "execution_count": null,
   "metadata": {},
   "outputs": [],
   "source": []
  }
 ],
 "metadata": {
  "kernelspec": {
   "display_name": "Python 3",
   "language": "python",
   "name": "python3"
  },
  "language_info": {
   "codemirror_mode": {
    "name": "ipython",
    "version": 3
   },
   "file_extension": ".py",
   "mimetype": "text/x-python",
   "name": "python",
   "nbconvert_exporter": "python",
   "pygments_lexer": "ipython3",
   "version": "3.6.5"
  }
 },
 "nbformat": 4,
 "nbformat_minor": 2
}
