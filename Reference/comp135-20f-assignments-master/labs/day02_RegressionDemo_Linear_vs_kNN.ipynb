{
 "cells": [
  {
   "cell_type": "markdown",
   "metadata": {},
   "source": [
    "# COMP 135 day02: Basics of Regression Methods"
   ]
  },
  {
   "cell_type": "markdown",
   "metadata": {},
   "source": [
    "# Objectives\n",
    "\n",
    "* Practice loading data from CSV files and manipulating that data with Pandas and NumPy\n",
    "* Try out sklearn's linear regression on a dataset with 1-dim. features and many features\n",
    "* Try out sklearn's k-nearest neighbor regression on a dataset with 1-dim. features and many features\n",
    "* Try out comparing models using mean squared error as a performance metric"
   ]
  },
  {
   "cell_type": "markdown",
   "metadata": {},
   "source": [
    "# What to do\n",
    "\n",
    "Download the *abalone* dataset from our course starter-code repo here:\n",
    "\n",
    "* Dataset CSV files: https://github.com/tufts-ml-courses/comp135-20f-assignments/tree/master/labs/data_abalone\n",
    "* Dataset README: https://github.com/tufts-ml-courses/comp135-20f-assignments/tree/master/labs/data_abalone/README.md\n",
    "\n",
    "In class (or later at home), work your way through this notebook. \n",
    "\n",
    "Each \"part\" has a structure like this:\n",
    "\n",
    "* First, some prefilled content so you can learn how to do basic ML operations with sklearn.\n",
    "* Second, some simple exercises to try to figure things out yourself\n"
   ]
  },
  {
   "cell_type": "markdown",
   "metadata": {},
   "source": [
    "# Outline\n",
    "\n",
    "* [Part 1: Linear Regression with 1-dim. features](#part1)\n",
    "* * Real Task: Regression of 'rings' given 'length' using abalone dataset\n",
    "* * Exercise 1a: Reproduce the `predict` method\n",
    "* [Part 2: Linear Regression with 3-dim. features](#part2)\n",
    "* * Real Task: Regression of 'rings' given 'length', 'height', 'weight'\n",
    "* * Exercise 2a: Reproduce the `predict` method\n",
    "* * Exercise 2b: Compare mean squared error on training set with model from part 1\n",
    "* [Part 3: K-nearest neighbor regression](#part3)\n",
    "* * Real Task: Regression of 'rings' given 'length'\n",
    "* * Exercise 3a: How does training set error vary with number of neighbors?\n",
    "* * Exercise 3b: Repeat using all available features (not just length)\n",
    "* * Exercise 3c: Reproduce the `predict` method for k-NN\n"
   ]
  },
  {
   "cell_type": "markdown",
   "metadata": {},
   "source": [
    "# Import libraries"
   ]
  },
  {
   "cell_type": "code",
   "execution_count": 1,
   "metadata": {},
   "outputs": [],
   "source": [
    "import numpy as np\n",
    "import pandas as pd"
   ]
  },
  {
   "cell_type": "code",
   "execution_count": 2,
   "metadata": {},
   "outputs": [],
   "source": [
    "import sklearn"
   ]
  },
  {
   "cell_type": "code",
   "execution_count": 3,
   "metadata": {},
   "outputs": [],
   "source": [
    "# import plotting libraries\n",
    "import matplotlib\n",
    "import matplotlib.pyplot as plt\n",
    "\n",
    "%matplotlib inline\n",
    "plt.style.use('seaborn') # pretty matplotlib plots\n",
    "\n",
    "import seaborn as sns\n",
    "sns.set('notebook', style='whitegrid', font_scale=1.25)"
   ]
  },
  {
   "cell_type": "markdown",
   "metadata": {},
   "source": [
    "<a id=\"part1\"></a>"
   ]
  },
  {
   "cell_type": "markdown",
   "metadata": {},
   "source": [
    "# Part 1: Simple Linear Regression with 1-dim. features\n",
    "\n"
   ]
  },
  {
   "cell_type": "markdown",
   "metadata": {},
   "source": [
    "### Goal: Predict 'rings' outcome given 'length' of abalone\n",
    "\n",
    "We'll do this in a few easy steps below:\n",
    "\n",
    "1) Load in 'x' training data, the 'length' of each abalone\n",
    "\n",
    "2) Load in 'y' training data, the 'rings' count of each abalone\n",
    "\n",
    "3) Train a linear regression model by calling 'fit'\n",
    "\n",
    "4) Make predictions using this model by calling 'predict'"
   ]
  },
  {
   "cell_type": "markdown",
   "metadata": {},
   "source": [
    "### Step 1: Load in 'x', the inputs for our regression task"
   ]
  },
  {
   "cell_type": "code",
   "execution_count": 4,
   "metadata": {},
   "outputs": [
    {
     "name": "stdout",
     "output_type": "stream",
     "text": [
      "is_male,length_mm,diam_mm,height_mm,whole_weight_g,shucked_weight_g,viscera_weight_g,shell_weight_g\n",
      "0.0,0.43,0.325,0.09,0.425,0.217,0.087,0.095\n",
      "0.0,0.575,0.445,0.135,0.883,0.381,0.2035,0.26\n",
      "0.0,0.585,0.475,0.185,0.8575,0.3465,0.1785,0.275\n",
      "0.0,0.48,0.35,0.1,0.519,0.2365,0.1275,0.126\n"
     ]
    }
   ],
   "source": [
    "# Show the first 5 lines of this CSV:\n",
    "\n",
    "with open('data_abalone/x_train.csv', 'r') as f:\n",
    "    for line in f.readlines()[:5]:\n",
    "        print(line.strip())"
   ]
  },
  {
   "cell_type": "code",
   "execution_count": 5,
   "metadata": {},
   "outputs": [
    {
     "data": {
      "text/html": [
       "<div>\n",
       "<style scoped>\n",
       "    .dataframe tbody tr th:only-of-type {\n",
       "        vertical-align: middle;\n",
       "    }\n",
       "\n",
       "    .dataframe tbody tr th {\n",
       "        vertical-align: top;\n",
       "    }\n",
       "\n",
       "    .dataframe thead th {\n",
       "        text-align: right;\n",
       "    }\n",
       "</style>\n",
       "<table border=\"1\" class=\"dataframe\">\n",
       "  <thead>\n",
       "    <tr style=\"text-align: right;\">\n",
       "      <th></th>\n",
       "      <th>is_male</th>\n",
       "      <th>length_mm</th>\n",
       "      <th>diam_mm</th>\n",
       "      <th>height_mm</th>\n",
       "      <th>whole_weight_g</th>\n",
       "      <th>shucked_weight_g</th>\n",
       "      <th>viscera_weight_g</th>\n",
       "      <th>shell_weight_g</th>\n",
       "    </tr>\n",
       "  </thead>\n",
       "  <tbody>\n",
       "    <tr>\n",
       "      <th>count</th>\n",
       "      <td>3176.000000</td>\n",
       "      <td>3176.000000</td>\n",
       "      <td>3176.000000</td>\n",
       "      <td>3176.000000</td>\n",
       "      <td>3176.000000</td>\n",
       "      <td>3176.000000</td>\n",
       "      <td>3176.000000</td>\n",
       "      <td>3176.000000</td>\n",
       "    </tr>\n",
       "    <tr>\n",
       "      <th>mean</th>\n",
       "      <td>0.360516</td>\n",
       "      <td>0.523352</td>\n",
       "      <td>0.407434</td>\n",
       "      <td>0.139406</td>\n",
       "      <td>0.824952</td>\n",
       "      <td>0.358798</td>\n",
       "      <td>0.179893</td>\n",
       "      <td>0.237566</td>\n",
       "    </tr>\n",
       "    <tr>\n",
       "      <th>std</th>\n",
       "      <td>0.480226</td>\n",
       "      <td>0.119343</td>\n",
       "      <td>0.098652</td>\n",
       "      <td>0.042651</td>\n",
       "      <td>0.487228</td>\n",
       "      <td>0.221327</td>\n",
       "      <td>0.109260</td>\n",
       "      <td>0.138865</td>\n",
       "    </tr>\n",
       "    <tr>\n",
       "      <th>min</th>\n",
       "      <td>0.000000</td>\n",
       "      <td>0.075000</td>\n",
       "      <td>0.055000</td>\n",
       "      <td>0.000000</td>\n",
       "      <td>0.002000</td>\n",
       "      <td>0.001000</td>\n",
       "      <td>0.000500</td>\n",
       "      <td>0.001500</td>\n",
       "    </tr>\n",
       "    <tr>\n",
       "      <th>25%</th>\n",
       "      <td>0.000000</td>\n",
       "      <td>0.450000</td>\n",
       "      <td>0.350000</td>\n",
       "      <td>0.115000</td>\n",
       "      <td>0.442875</td>\n",
       "      <td>0.186500</td>\n",
       "      <td>0.093000</td>\n",
       "      <td>0.130000</td>\n",
       "    </tr>\n",
       "    <tr>\n",
       "      <th>50%</th>\n",
       "      <td>0.000000</td>\n",
       "      <td>0.545000</td>\n",
       "      <td>0.425000</td>\n",
       "      <td>0.140000</td>\n",
       "      <td>0.800250</td>\n",
       "      <td>0.335500</td>\n",
       "      <td>0.170000</td>\n",
       "      <td>0.229500</td>\n",
       "    </tr>\n",
       "    <tr>\n",
       "      <th>75%</th>\n",
       "      <td>1.000000</td>\n",
       "      <td>0.615000</td>\n",
       "      <td>0.480000</td>\n",
       "      <td>0.165000</td>\n",
       "      <td>1.146625</td>\n",
       "      <td>0.498500</td>\n",
       "      <td>0.248500</td>\n",
       "      <td>0.326125</td>\n",
       "    </tr>\n",
       "    <tr>\n",
       "      <th>max</th>\n",
       "      <td>1.000000</td>\n",
       "      <td>0.815000</td>\n",
       "      <td>0.650000</td>\n",
       "      <td>1.130000</td>\n",
       "      <td>2.825500</td>\n",
       "      <td>1.488000</td>\n",
       "      <td>0.760000</td>\n",
       "      <td>1.005000</td>\n",
       "    </tr>\n",
       "  </tbody>\n",
       "</table>\n",
       "</div>"
      ],
      "text/plain": [
       "           is_male    length_mm      diam_mm    height_mm  whole_weight_g  \\\n",
       "count  3176.000000  3176.000000  3176.000000  3176.000000     3176.000000   \n",
       "mean      0.360516     0.523352     0.407434     0.139406        0.824952   \n",
       "std       0.480226     0.119343     0.098652     0.042651        0.487228   \n",
       "min       0.000000     0.075000     0.055000     0.000000        0.002000   \n",
       "25%       0.000000     0.450000     0.350000     0.115000        0.442875   \n",
       "50%       0.000000     0.545000     0.425000     0.140000        0.800250   \n",
       "75%       1.000000     0.615000     0.480000     0.165000        1.146625   \n",
       "max       1.000000     0.815000     0.650000     1.130000        2.825500   \n",
       "\n",
       "       shucked_weight_g  viscera_weight_g  shell_weight_g  \n",
       "count       3176.000000       3176.000000     3176.000000  \n",
       "mean           0.358798          0.179893        0.237566  \n",
       "std            0.221327          0.109260        0.138865  \n",
       "min            0.001000          0.000500        0.001500  \n",
       "25%            0.186500          0.093000        0.130000  \n",
       "50%            0.335500          0.170000        0.229500  \n",
       "75%            0.498500          0.248500        0.326125  \n",
       "max            1.488000          0.760000        1.005000  "
      ]
     },
     "execution_count": 5,
     "metadata": {},
     "output_type": "execute_result"
    }
   ],
   "source": [
    "# Load in the data into a Panda's dataframe called 'x_df'\n",
    "x_df = pd.read_csv('data_abalone/x_train.csv')\n",
    "x_df.describe()"
   ]
  },
  {
   "cell_type": "code",
   "execution_count": 6,
   "metadata": {},
   "outputs": [
    {
     "name": "stdout",
     "output_type": "stream",
     "text": [
      "is_male\n",
      "length_mm\n",
      "diam_mm\n",
      "height_mm\n",
      "whole_weight_g\n",
      "shucked_weight_g\n",
      "viscera_weight_g\n",
      "shell_weight_g\n"
     ]
    }
   ],
   "source": [
    "for col in x_df.columns:\n",
    "    print(col)"
   ]
  },
  {
   "cell_type": "code",
   "execution_count": 7,
   "metadata": {},
   "outputs": [],
   "source": [
    "# Convert from pandas DataFrame to a numpy array with N rows and F columns\n",
    "x_NF = x_df.values.copy()"
   ]
  },
  {
   "cell_type": "code",
   "execution_count": 8,
   "metadata": {},
   "outputs": [
    {
     "name": "stdout",
     "output_type": "stream",
     "text": [
      "(3176, 8)\n"
     ]
    }
   ],
   "source": [
    "print(x_NF.shape)"
   ]
  },
  {
   "cell_type": "code",
   "execution_count": 9,
   "metadata": {},
   "outputs": [
    {
     "name": "stdout",
     "output_type": "stream",
     "text": [
      "float64\n"
     ]
    }
   ],
   "source": [
    "print(x_NF.dtype)"
   ]
  },
  {
   "cell_type": "code",
   "execution_count": 10,
   "metadata": {},
   "outputs": [
    {
     "name": "stdout",
     "output_type": "stream",
     "text": [
      "(3176, 1)\n"
     ]
    }
   ],
   "source": [
    "# Convert only the 'length' column into a numpy array\n",
    "\n",
    "xlength_N1 = x_df.loc[:, ['length_mm']].values.copy()\n",
    "\n",
    "print(xlength_N1.shape)"
   ]
  },
  {
   "cell_type": "markdown",
   "metadata": {},
   "source": [
    "OK, now we've got our input! Time for step 2...."
   ]
  },
  {
   "cell_type": "markdown",
   "metadata": {},
   "source": [
    "### Step 2: Load in 'y', the output of our regression task"
   ]
  },
  {
   "cell_type": "code",
   "execution_count": 11,
   "metadata": {},
   "outputs": [
    {
     "data": {
      "text/html": [
       "<div>\n",
       "<style scoped>\n",
       "    .dataframe tbody tr th:only-of-type {\n",
       "        vertical-align: middle;\n",
       "    }\n",
       "\n",
       "    .dataframe tbody tr th {\n",
       "        vertical-align: top;\n",
       "    }\n",
       "\n",
       "    .dataframe thead th {\n",
       "        text-align: right;\n",
       "    }\n",
       "</style>\n",
       "<table border=\"1\" class=\"dataframe\">\n",
       "  <thead>\n",
       "    <tr style=\"text-align: right;\">\n",
       "      <th></th>\n",
       "      <th>rings</th>\n",
       "    </tr>\n",
       "  </thead>\n",
       "  <tbody>\n",
       "    <tr>\n",
       "      <th>count</th>\n",
       "      <td>3176.000000</td>\n",
       "    </tr>\n",
       "    <tr>\n",
       "      <th>mean</th>\n",
       "      <td>9.902393</td>\n",
       "    </tr>\n",
       "    <tr>\n",
       "      <th>std</th>\n",
       "      <td>3.205887</td>\n",
       "    </tr>\n",
       "    <tr>\n",
       "      <th>min</th>\n",
       "      <td>1.000000</td>\n",
       "    </tr>\n",
       "    <tr>\n",
       "      <th>25%</th>\n",
       "      <td>8.000000</td>\n",
       "    </tr>\n",
       "    <tr>\n",
       "      <th>50%</th>\n",
       "      <td>9.000000</td>\n",
       "    </tr>\n",
       "    <tr>\n",
       "      <th>75%</th>\n",
       "      <td>11.000000</td>\n",
       "    </tr>\n",
       "    <tr>\n",
       "      <th>max</th>\n",
       "      <td>29.000000</td>\n",
       "    </tr>\n",
       "  </tbody>\n",
       "</table>\n",
       "</div>"
      ],
      "text/plain": [
       "             rings\n",
       "count  3176.000000\n",
       "mean      9.902393\n",
       "std       3.205887\n",
       "min       1.000000\n",
       "25%       8.000000\n",
       "50%       9.000000\n",
       "75%      11.000000\n",
       "max      29.000000"
      ]
     },
     "execution_count": 11,
     "metadata": {},
     "output_type": "execute_result"
    }
   ],
   "source": [
    "y_df = pd.read_csv('data_abalone/y_train.csv')\n",
    "y_df.describe()"
   ]
  },
  {
   "cell_type": "code",
   "execution_count": 12,
   "metadata": {},
   "outputs": [],
   "source": [
    "y_N1 = y_df.loc[:, ['rings']].values.copy()"
   ]
  },
  {
   "cell_type": "code",
   "execution_count": 13,
   "metadata": {},
   "outputs": [
    {
     "data": {
      "text/plain": [
       "(3176, 1)"
      ]
     },
     "execution_count": 13,
     "metadata": {},
     "output_type": "execute_result"
    }
   ],
   "source": [
    "y_N1.shape"
   ]
  },
  {
   "cell_type": "markdown",
   "metadata": {},
   "source": [
    "### Step 3: Fit a linear regression model, using sklearn"
   ]
  },
  {
   "cell_type": "code",
   "execution_count": 14,
   "metadata": {},
   "outputs": [],
   "source": [
    "import sklearn.linear_model"
   ]
  },
  {
   "cell_type": "code",
   "execution_count": 15,
   "metadata": {},
   "outputs": [],
   "source": [
    "# Construct the regression \"object\"\n",
    "# The variable 'lin_regr' here is an \"instance\" of the LinearRegression class\n",
    "\n",
    "lin_regr = sklearn.linear_model.LinearRegression()"
   ]
  },
  {
   "cell_type": "markdown",
   "metadata": {},
   "source": [
    "See the documentation:\n",
    "\n",
    "<https://scikit-learn.org/stable/modules/generated/sklearn.linear_model.LinearRegression>\n",
    "\n",
    "\n",
    "Any constructed regressor in sklearn (like 'lin_regr') has two useful methods:\n",
    "* 'fit' method\n",
    "* 'predict' method (only works after 'fit' is called)"
   ]
  },
  {
   "cell_type": "markdown",
   "metadata": {},
   "source": [
    "The 'fit' method will *TRAIN* the model\n",
    "\n",
    "Practically, this method call will \n",
    "\n",
    "1) Estimate weight coefficients $w$ and bias/intercept $b$ to minimize mean squared error\n",
    "\n",
    "2) Updates internal state of the object with these estimated values.\n",
    "\n",
    "For linear regression specifically:\n",
    "\n",
    "* an attribute called `coef_` holds the weights\n",
    "* an attribute called `intercept_` holds the intercept value"
   ]
  },
  {
   "cell_type": "code",
   "execution_count": 16,
   "metadata": {},
   "outputs": [],
   "source": [
    "lin_regr.fit(xlength_N1, y_N1);"
   ]
  },
  {
   "cell_type": "markdown",
   "metadata": {},
   "source": [
    "What changed after calling fit?\n",
    "\n",
    "The *internal state* of the object was updated.\n",
    "\n",
    "We can see the *internal state* via the \"coef\" attribute and the \"intercept\" attribute"
   ]
  },
  {
   "cell_type": "code",
   "execution_count": 17,
   "metadata": {},
   "outputs": [
    {
     "data": {
      "text/plain": [
       "array([[14.77184885]])"
      ]
     },
     "execution_count": 17,
     "metadata": {},
     "output_type": "execute_result"
    }
   ],
   "source": [
    "lin_regr.coef_"
   ]
  },
  {
   "cell_type": "code",
   "execution_count": 18,
   "metadata": {},
   "outputs": [
    {
     "data": {
      "text/plain": [
       "array([2.17152073])"
      ]
     },
     "execution_count": 18,
     "metadata": {},
     "output_type": "execute_result"
    }
   ],
   "source": [
    "lin_regr.intercept_"
   ]
  },
  {
   "cell_type": "markdown",
   "metadata": {},
   "source": [
    "How would you know what an object can do??\n",
    "\n",
    "Pro tip: in an active Jupyter notebook, you can use *tab completion* to interactively inspect an object\n",
    "\n",
    "Just type \"lin_regr.\" and then press the <tab> key.\n",
    "    \n",
    "You should see a pop up menu that let's you see what methods and attributes are accessible, like this:\n",
    "    \n",
    "![Image of tab completion](https://www.cs.tufts.edu/comp/135/2020f/images/day02_jupyter_object_inspect_on_tab.png)"
   ]
  },
  {
   "cell_type": "code",
   "execution_count": 19,
   "metadata": {},
   "outputs": [
    {
     "data": {
      "text/plain": [
       "LinearRegression()"
      ]
     },
     "execution_count": 19,
     "metadata": {},
     "output_type": "execute_result"
    }
   ],
   "source": [
    "# Try it here, add \".\" plus <tab>\n",
    "lin_regr"
   ]
  },
  {
   "cell_type": "markdown",
   "metadata": {},
   "source": [
    "### Step 4: Make predictions using this trained linear regression model"
   ]
  },
  {
   "cell_type": "code",
   "execution_count": 20,
   "metadata": {},
   "outputs": [
    {
     "name": "stdout",
     "output_type": "stream",
     "text": [
      "[0.   0.25 0.5  0.75 1.   1.25 1.5 ]\n"
     ]
    }
   ],
   "source": [
    "# Prepare to evaluate predictions at several possible length values:\n",
    "G = 7\n",
    "x_grid_G = np.asarray([0.0, 0.25, 0.5, 0.75, 1.0, 1.25, 1.5])\n",
    "print(x_grid_G)"
   ]
  },
  {
   "cell_type": "code",
   "execution_count": 21,
   "metadata": {},
   "outputs": [],
   "source": [
    "# Turn this into a G x 1 2-dim array, since sklearn *always* expects feature input to be 2-dim\n",
    "x_grid_G1 = x_grid_G[:,np.newaxis]"
   ]
  },
  {
   "cell_type": "markdown",
   "metadata": {},
   "source": [
    "Now, we call `predict`, which, when given 2-dim array with shape (G,F) of features, will return a 2-dim array of size (G, 1) of *predicted values*"
   ]
  },
  {
   "cell_type": "code",
   "execution_count": 22,
   "metadata": {},
   "outputs": [
    {
     "name": "stdout",
     "output_type": "stream",
     "text": [
      "[[ 2.17152073]\n",
      " [ 5.86448295]\n",
      " [ 9.55744516]\n",
      " [13.25040737]\n",
      " [16.94336959]\n",
      " [20.6363318 ]\n",
      " [24.32929401]]\n",
      "(7, 1)\n"
     ]
    }
   ],
   "source": [
    "yhat_lin_G1 = lin_regr.predict(x_grid_G1)\n",
    "print(yhat_lin_G1)\n",
    "print(yhat_lin_G1.shape)"
   ]
  },
  {
   "cell_type": "markdown",
   "metadata": {},
   "source": [
    "### Step 5: Plot the *predicted* values side by side with the observed training data"
   ]
  },
  {
   "cell_type": "code",
   "execution_count": 23,
   "metadata": {},
   "outputs": [
    {
     "data": {
      "image/png": "[encoded data removed]",
      "text/plain": [
       "<Figure size 576x396 with 1 Axes>"
      ]
     },
     "metadata": {},
     "output_type": "display_data"
    }
   ],
   "source": [
    "plt.plot(xlength_N1, y_N1, 'k.', alpha=0.2)\n",
    "plt.plot(x_grid_G, yhat_lin_G1, 'bs-', linewidth=3);\n",
    "plt.xlabel('length (mm)'); plt.ylabel('ring count');\n",
    "plt.title(\"Linear Regression using 'length' feature\");"
   ]
  },
  {
   "cell_type": "markdown",
   "metadata": {},
   "source": [
    "# Exercises for Part 1"
   ]
  },
  {
   "cell_type": "markdown",
   "metadata": {},
   "source": [
    "### Exercise 1a: What happens inside lin_regr.predict?"
   ]
  },
  {
   "cell_type": "markdown",
   "metadata": {},
   "source": [
    "Can you figure out how to write your own function that would produce the predicted values?\n",
    "\n",
    "Hint, you should use pass in as args the values of lin_regr's trained attributes: `coef_` and `intercept_`\n",
    "\n",
    "The goal is to write a version of this `predict` function using only numpy functions. Do NOT use code from `sklearn.linear_model.LinearRegression` here. We want to show that we understand what is going on under the hood."
   ]
  },
  {
   "cell_type": "code",
   "execution_count": 24,
   "metadata": {
    "scrolled": true
   },
   "outputs": [],
   "source": [
    "def predict(x_GF, coef_1F, intercept):\n",
    "    ''' Predict outcomes using linear regression\n",
    "    \n",
    "    Args\n",
    "    ----\n",
    "    x_GF : 2D numpy array, shape (G, F)\n",
    "        Features for a dataset with G examples\n",
    "        Each feature vector has F entries\n",
    "    coef_1F : 2D numpy array, shape (1,F)\n",
    "        Weight coeficient array. 'w' in the math.\n",
    "        Contains one entry for each feature.\n",
    "    intercept : scalar float\n",
    "        Intercept or bias. 'b' in the math.\n",
    "        \n",
    "    Returns\n",
    "    -------\n",
    "    yhat_G1 : 2D numpy array, shape (G,1)\n",
    "        Predictions for each example\n",
    "    '''\n",
    "    G, F = x_GF.shape\n",
    "    yhat_G1 = np.zeros(G,1) # TODO fix with your code here\n",
    "    return yhat_G1"
   ]
  },
  {
   "cell_type": "code",
   "execution_count": 25,
   "metadata": {},
   "outputs": [],
   "source": [
    "# TODO test your code.\n",
    "# Given the same input, can you produce the same predictions as calling the built-in method?"
   ]
  },
  {
   "cell_type": "markdown",
   "metadata": {},
   "source": [
    "<a id=\"part2\"></a>"
   ]
  },
  {
   "cell_type": "markdown",
   "metadata": {},
   "source": [
    "# Part 2: Linear Regression with multiple features\n",
    "\n",
    "### Goal: Predict 'rings' outcome given 'length', 'height', and 'weight' of abalone\n",
    "\n",
    "How would we do if we wanted to predict 'rings' given not just length, but also height and weight?"
   ]
  },
  {
   "cell_type": "markdown",
   "metadata": {},
   "source": [
    "### Prepare the data\n",
    "\n",
    "We now want our features array to have shape: (n_examples, 3)\n",
    "\n",
    "Since 3 would let us use length and height and weight"
   ]
  },
  {
   "cell_type": "code",
   "execution_count": 26,
   "metadata": {},
   "outputs": [
    {
     "name": "stdout",
     "output_type": "stream",
     "text": [
      "is_male\n",
      "length_mm\n",
      "diam_mm\n",
      "height_mm\n",
      "whole_weight_g\n",
      "shucked_weight_g\n",
      "viscera_weight_g\n",
      "shell_weight_g\n"
     ]
    }
   ],
   "source": [
    "for col in x_df.columns:\n",
    "    print(col)"
   ]
  },
  {
   "cell_type": "code",
   "execution_count": 27,
   "metadata": {},
   "outputs": [
    {
     "name": "stdout",
     "output_type": "stream",
     "text": [
      "<class 'numpy.ndarray'>\n",
      "float64\n",
      "(3176, 3)\n"
     ]
    }
   ],
   "source": [
    "# Grab relevant columns only, convert to a numeric array\n",
    "x_N3 = x_df.loc[:, ['length_mm', 'height_mm', 'whole_weight_g']].values.copy()\n",
    "print(type(x_N3))\n",
    "print(x_N3.dtype)\n",
    "print(x_N3.shape)"
   ]
  },
  {
   "cell_type": "markdown",
   "metadata": {},
   "source": [
    "#### Construct the model as an sklearn regressor object"
   ]
  },
  {
   "cell_type": "code",
   "execution_count": 28,
   "metadata": {},
   "outputs": [],
   "source": [
    "lin_regr_3dim = sklearn.linear_model.LinearRegression()"
   ]
  },
  {
   "cell_type": "markdown",
   "metadata": {},
   "source": [
    "#### Fit the model"
   ]
  },
  {
   "cell_type": "code",
   "execution_count": 29,
   "metadata": {},
   "outputs": [
    {
     "data": {
      "text/plain": [
       "LinearRegression()"
      ]
     },
     "execution_count": 29,
     "metadata": {},
     "output_type": "execute_result"
    }
   ],
   "source": [
    "lin_regr_3dim.fit(x_N3, y_N1)"
   ]
  },
  {
   "cell_type": "code",
   "execution_count": 30,
   "metadata": {},
   "outputs": [],
   "source": [
    "# TODO: what are the learned weights?"
   ]
  },
  {
   "cell_type": "code",
   "execution_count": 31,
   "metadata": {},
   "outputs": [],
   "source": [
    "# TODO: what is the learned intercept?"
   ]
  },
  {
   "cell_type": "code",
   "execution_count": null,
   "metadata": {},
   "outputs": [],
   "source": []
  },
  {
   "cell_type": "markdown",
   "metadata": {},
   "source": [
    "# Exercises for Part 2"
   ]
  },
  {
   "cell_type": "markdown",
   "metadata": {},
   "source": [
    "### Exercise 2a: Make your `predict` function above work on this 3-dim feature case"
   ]
  },
  {
   "cell_type": "markdown",
   "metadata": {},
   "source": [
    "### Exercise 2b: Is your new model using 3-dim features any better than the original model with just length?"
   ]
  },
  {
   "cell_type": "markdown",
   "metadata": {},
   "source": [
    "Recall the definition of mean squared error (MSE), given two vectors $y$ and $\\hat{y}$ with $N$ entries each:\n",
    "\n",
    "$$\n",
    "\\text{MSE}(y, \\hat{y}) = \\frac{1}{N} \\sum_{n=1}^N (y_n - \\hat{y}_n)^2\n",
    "$$"
   ]
  },
  {
   "cell_type": "markdown",
   "metadata": {},
   "source": [
    "TODO: Compute mean squared error on training set for:\n",
    "* lin_regr_1dim from part 1\n",
    "* lin_regr_3dim from part 2"
   ]
  },
  {
   "cell_type": "code",
   "execution_count": null,
   "metadata": {},
   "outputs": [],
   "source": []
  },
  {
   "cell_type": "markdown",
   "metadata": {},
   "source": [
    "<a id=\"part3\"></a>"
   ]
  },
  {
   "cell_type": "markdown",
   "metadata": {},
   "source": [
    "# Part 3: K-nearest Neighbor Regression with 1-dim features\n",
    "\n",
    "### Goal: Try out sklearn's built-in nearest neighbor regressor\n",
    "\n",
    "### First, consider a TOY task"
   ]
  },
  {
   "cell_type": "code",
   "execution_count": 32,
   "metadata": {},
   "outputs": [
    {
     "data": {
      "image/png": "[encoded data removed]",
      "text/plain": [
       "<Figure size 576x396 with 1 Axes>"
      ]
     },
     "metadata": {},
     "output_type": "display_data"
    }
   ],
   "source": [
    "#### First, create a \"toy\" dataset of 10 x,y pairs\n",
    "\n",
    "N = 10\n",
    "toy_x_N1 = np.asarray([0.12, 0.21, 0.33, 0.41, 0.51, 0.63, 0.75, 0.84, 0.93, 1.00]).reshape((N,1))\n",
    "\n",
    "toy_y_N1 = np.asarray([0.11, 0.23, 0.31, 0.44, 0.58, 0.41, 0.38, 0.79, 0.99, 0.85]).reshape((N,1))\n",
    "\n",
    "plt.plot(toy_x_N1, toy_y_N1, 'ks');\n",
    "plt.xlabel('x'); \n",
    "plt.ylabel('y');"
   ]
  },
  {
   "cell_type": "code",
   "execution_count": 33,
   "metadata": {},
   "outputs": [],
   "source": [
    "import sklearn.neighbors"
   ]
  },
  {
   "cell_type": "code",
   "execution_count": 34,
   "metadata": {},
   "outputs": [],
   "source": [
    "# Construct the model object4\n",
    "k1nn_regr = sklearn.neighbors.KNeighborsRegressor(\n",
    "    n_neighbors=1,  metric='euclidean', algorithm='brute')"
   ]
  },
  {
   "cell_type": "code",
   "execution_count": 35,
   "metadata": {},
   "outputs": [],
   "source": [
    "# Fit the model\n",
    "k1nn_regr.fit(toy_x_N1, toy_y_N1);"
   ]
  },
  {
   "cell_type": "code",
   "execution_count": 36,
   "metadata": {},
   "outputs": [],
   "source": [
    "# Prepare to evaluate predictions at many possible x values\n",
    "# densely spaced grid between 0 and 1.5\n",
    "G = 101\n",
    "x_grid_G = np.linspace(0, 1.5, G)\n",
    "x_grid_G1 = np.reshape(x_grid_G, (G, 1))"
   ]
  },
  {
   "cell_type": "code",
   "execution_count": 37,
   "metadata": {},
   "outputs": [],
   "source": [
    "# Make predictions on at each x value in the provided 'grid'\n",
    "toy_yhat_k1nn_G1 = k1nn_regr.predict(x_grid_G1)"
   ]
  },
  {
   "cell_type": "code",
   "execution_count": 38,
   "metadata": {},
   "outputs": [
    {
     "data": {
      "image/png": "[encoded data removed]",
      "text/plain": [
       "<Figure size 576x396 with 1 Axes>"
      ]
     },
     "metadata": {},
     "output_type": "display_data"
    }
   ],
   "source": [
    "plt.plot(x_grid_G, toy_yhat_k1nn_G1, 'b.-', linewidth=3, label='1-NN predictions');\n",
    "plt.plot(toy_x_N1, toy_y_N1, 'ks', label='training data')\n",
    "plt.xlabel('x'); plt.ylabel('y');\n",
    "plt.legend(loc='lower right');\n",
    "plt.title('K=1 Nearest Neighbor Regression');"
   ]
  },
  {
   "cell_type": "markdown",
   "metadata": {},
   "source": [
    "### Now try on the abalone task: predict 'rings' from 'length'"
   ]
  },
  {
   "cell_type": "code",
   "execution_count": 39,
   "metadata": {},
   "outputs": [],
   "source": [
    "# Fit the model\n",
    "k1nn_regr.fit(xlength_N1, y_N1);"
   ]
  },
  {
   "cell_type": "code",
   "execution_count": 40,
   "metadata": {},
   "outputs": [
    {
     "name": "stdout",
     "output_type": "stream",
     "text": [
      "[0.   0.25 0.5  0.75 1.   1.25 1.5 ]\n"
     ]
    }
   ],
   "source": [
    "# Prepare to evaluate predictions at several possible length values:\n",
    "G = 7\n",
    "x_grid_G = np.asarray([0.0, 0.25, 0.5, 0.75, 1.0, 1.25, 1.5]) # <-- TODO try to change me!\n",
    "print(x_grid_G)"
   ]
  },
  {
   "cell_type": "code",
   "execution_count": 41,
   "metadata": {},
   "outputs": [],
   "source": [
    "x_grid_G1 = np.reshape(x_grid_G, (G, 1))"
   ]
  },
  {
   "cell_type": "code",
   "execution_count": 42,
   "metadata": {},
   "outputs": [],
   "source": [
    "# Make predictions on the same grid of x input values\n",
    "yhat_k1nn_G1 = k1nn_regr.predict(x_grid_G1)"
   ]
  },
  {
   "cell_type": "code",
   "execution_count": 43,
   "metadata": {},
   "outputs": [
    {
     "data": {
      "image/png": "[encoded data removed]",
      "text/plain": [
       "<Figure size 576x396 with 1 Axes>"
      ]
     },
     "metadata": {},
     "output_type": "display_data"
    }
   ],
   "source": [
    "plt.plot(xlength_N1, y_N1, 'k.', alpha=0.2)\n",
    "plt.plot(x_grid_G, yhat_k1nn_G1, 'bs-', linewidth=3);\n",
    "plt.xlabel('length (mm)'); plt.ylabel('ring count');\n",
    "plt.title('K=1 Nearest Neighbor Regression');"
   ]
  },
  {
   "cell_type": "markdown",
   "metadata": {},
   "source": [
    "#### Retry with 5 nearest neighbors"
   ]
  },
  {
   "cell_type": "code",
   "execution_count": 44,
   "metadata": {},
   "outputs": [],
   "source": [
    "k5nn_regr = sklearn.neighbors.KNeighborsRegressor(\n",
    "    n_neighbors=5, algorithm='brute', metric='euclidean')"
   ]
  },
  {
   "cell_type": "code",
   "execution_count": 45,
   "metadata": {},
   "outputs": [],
   "source": [
    "# Fit the model\n",
    "k5nn_regr.fit(xlength_N1, y_N1);"
   ]
  },
  {
   "cell_type": "code",
   "execution_count": 46,
   "metadata": {},
   "outputs": [],
   "source": [
    "# Make predictions on the same grid of x input values\n",
    "yhat_k5nn_G1 = k5nn_regr.predict(x_grid_G1)"
   ]
  },
  {
   "cell_type": "code",
   "execution_count": 47,
   "metadata": {},
   "outputs": [
    {
     "data": {
      "image/png": "[encoded data removed]",
      "text/plain": [
       "<Figure size 576x396 with 1 Axes>"
      ]
     },
     "metadata": {},
     "output_type": "display_data"
    }
   ],
   "source": [
    "plt.plot(xlength_N1, y_N1, 'k.', alpha=0.2)\n",
    "plt.plot(x_grid_G1, yhat_k5nn_G1, 'bs-', linewidth=3);\n",
    "plt.xlabel('length (mm)'); plt.ylabel('ring count');\n",
    "plt.title('K=5 Nearest Neighbor Regression');"
   ]
  },
  {
   "cell_type": "markdown",
   "metadata": {},
   "source": [
    "# Exercises for Part 3"
   ]
  },
  {
   "cell_type": "markdown",
   "metadata": {},
   "source": [
    "### Discussion Question 3(i): What happens when you call `fit` for a k-NN regressor? \n",
    "\n",
    "What (if anything) gets estimated or computed?\n",
    "What (if anything) gets updated as an attribute of the regressor object?"
   ]
  },
  {
   "cell_type": "markdown",
   "metadata": {},
   "source": [
    "### Discussion Question 3(ii): k-NN should have a piecewise constant predictions.... why do the plots above look different?"
   ]
  },
  {
   "cell_type": "markdown",
   "metadata": {},
   "source": [
    "### Exercise 3a (code): Make a plot of the mean squared error on the *training* set as a function of the number of neighbors"
   ]
  },
  {
   "cell_type": "markdown",
   "metadata": {},
   "source": [
    "### Exercise 3b (code): Repeat part 3 using *all* available features (not just length). Does your performance improve?"
   ]
  },
  {
   "cell_type": "markdown",
   "metadata": {},
   "source": [
    "# Challenge Yourself\n",
    "\n",
    "### Exercise 3c (code): Can you write a function to reproduce what happens when you call `predict()` with kNN?"
   ]
  },
  {
   "cell_type": "code",
   "execution_count": null,
   "metadata": {},
   "outputs": [],
   "source": []
  }
 ],
 "metadata": {
  "kernelspec": {
   "display_name": "Python 3",
   "language": "python",
   "name": "python3"
  },
  "language_info": {
   "codemirror_mode": {
    "name": "ipython",
    "version": 3
   },
   "file_extension": ".py",
   "mimetype": "text/x-python",
   "name": "python",
   "nbconvert_exporter": "python",
   "pygments_lexer": "ipython3",
   "version": "3.6.10"
  }
 },
 "nbformat": 4,
 "nbformat_minor": 4
}
