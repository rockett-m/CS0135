{
 "cells": [
  {
   "cell_type": "markdown",
   "metadata": {},
   "source": [
    "# day08: Evaluating Binary Classifiers\n",
    "\n",
    "# Objectives\n",
    "\n",
    "* See how evaluation metrics vary over possible decision thresholds\n",
    "* Learn how to use sklearn utilities to compute ROC curves and confusion matrices\n",
    "* Learn how to make plots to understand different loss functions\n",
    "\n",
    "\n",
    "# Outline\n",
    "* [Setup: Binary classification on 1-dim. toy example](#setup)\n",
    "* * Same as last time\n",
    "* [Part 1: Confusion matrix at different thresholds](#part1)\n",
    "* [Part 2: ROC curves and area under the curve](#part2)\n",
    "* [Part 3: Zero one loss (aka error rate)](#part3)\n",
    "* [Part 4: Log loss (aka cross entropy)](#part4)\n",
    "\n",
    "\n",
    "We expect you'll get through the first 3 parts during the assigned class period.\n",
    "\n",
    "\n",
    "# Takeaways\n",
    "\n",
    "* Confusion matrices and their derived metrics (ACC, TPR, TNR, etc) require selecting a threshold\n",
    "* * Default threshold in sklearn is 0.5\n",
    "* * This default is not always the best one to pick depending on your application\n",
    "\n",
    "* ROC curves allow us to visualize what the classifier can achieve across possible thresholds\n",
    "* * Look at tradeoffs between TPR and FPR\n",
    "* * Area under the ROC curve (abbreviated AUROC) is a single score often used to measure classifier quality\n",
    "* * AUROC is not sensitive to the scale of the predicted probabilities, only their relative ranking\n",
    "\n",
    "* Log loss (aka binary cross entropy) \n",
    "* * Can be used to directly assess quality of predicted probabilities (no threshold needed)\n",
    "* * Justified as upper bound of error rate (zero one loss with threshold 0.5)\n",
    "* * Might have some numerical issues -- log(0.0) -- that you want to avoid in practice"
   ]
  },
  {
   "cell_type": "code",
   "execution_count": 1,
   "metadata": {},
   "outputs": [],
   "source": [
    "import numpy as np"
   ]
  },
  {
   "cell_type": "code",
   "execution_count": 2,
   "metadata": {},
   "outputs": [],
   "source": [
    "import sklearn.linear_model\n",
    "import sklearn.neighbors"
   ]
  },
  {
   "cell_type": "code",
   "execution_count": 3,
   "metadata": {},
   "outputs": [],
   "source": [
    "# import plotting libraries\n",
    "import matplotlib\n",
    "import matplotlib.pyplot as plt\n",
    "\n",
    "%matplotlib inline\n",
    "plt.style.use('seaborn') # pretty matplotlib plots\n",
    "\n",
    "import seaborn as sns\n",
    "sns.set('notebook', font_scale=1.25, style='whitegrid')"
   ]
  },
  {
   "cell_type": "markdown",
   "metadata": {},
   "source": [
    "<a id=\"setup\"></a>"
   ]
  },
  {
   "cell_type": "markdown",
   "metadata": {},
   "source": [
    "# Setting up a simple classification task with 1-dim features"
   ]
  },
  {
   "cell_type": "markdown",
   "metadata": {},
   "source": [
    "Let's think about a classification task where:\n",
    "\n",
    "Each input is just scalar $x$ between -1 and +1.\n",
    "\n",
    "The \"true\" label assignment function is as follows:\n",
    "\n",
    "$$\n",
    "y(x) = \\begin{cases} \n",
    "1 & \\text{if} ~ x > 0 \\\\\n",
    "0 & \\text{otherwise}\n",
    "\\end{cases}\n",
    "$$\n",
    "\n",
    "The true labeling process also has some noise: after assigning a label with the above function, each example has a ~15% chance of the opposite label. \n",
    "\n",
    "This noise makes our classification interesting. The \"best case\" error rate is about ~15%."
   ]
  },
  {
   "cell_type": "markdown",
   "metadata": {},
   "source": [
    "### Make training set for 1-dim. toy example"
   ]
  },
  {
   "cell_type": "code",
   "execution_count": 4,
   "metadata": {},
   "outputs": [],
   "source": [
    "# We generated this training set for you.\n",
    "\n",
    "N = 12\n",
    "\n",
    "x_N = np.asarray([\n",
    "    -0.975, -0.825, -0.603, -0.378, -0.284, -0.102,\n",
    "     0.169,  0.311,  0.431,  0.663,  0.795,  0.976])\n",
    "x_N1 = x_N.reshape((N,1)) # need an (N,1) shaped array for later use with sklearn\n",
    "\n",
    "y_N = np.asarray([0, 1, 0, 1, 0, 0, 1, 1, 1, 0, 0, 1])"
   ]
  },
  {
   "cell_type": "code",
   "execution_count": 5,
   "metadata": {},
   "outputs": [
    {
     "data": {
      "image/png": "[encoded data removed]",
      "text/plain": [
       "<Figure size 576x396 with 1 Axes>"
      ]
     },
     "metadata": {},
     "output_type": "display_data"
    }
   ],
   "source": [
    "plt.plot(x_N, y_N, 'ks', label='training set');\n",
    "plt.xlabel('x');\n",
    "plt.ylabel('y');\n",
    "plt.legend(bbox_to_anchor=(1.0, 0.5));"
   ]
  },
  {
   "cell_type": "markdown",
   "metadata": {},
   "source": [
    "### Make validation set for 1-d toy example"
   ]
  },
  {
   "cell_type": "code",
   "execution_count": 6,
   "metadata": {},
   "outputs": [],
   "source": [
    "def make_dataset(n_examples=10, seed=101, flip_fraction=0.15):\n",
    "    N = int(n_examples)\n",
    "    prng = np.random.RandomState(seed)\n",
    "\n",
    "    # Make x values between -1 and 1, roughly evenly spaced\n",
    "    x_N = np.linspace(-1, 1, N) + 0.05 * prng.randn(N)\n",
    "\n",
    "    # Make y values such that broadly, the true function says:\n",
    "    # y_n = 1  if x_n > 0 \n",
    "    # y_n = 0  otherwise\n",
    "    y_N = np.asarray(x_N > 0, dtype=np.int32)\n",
    "\n",
    "    # flip a small percentage of the values\n",
    "    chosen_ids = prng.permutation(np.arange(N))[:int(np.floor(flip_fraction * N))]\n",
    "    y_N[chosen_ids] = 1 - y_N[chosen_ids]\n",
    "    return x_N.reshape((N,1)), y_N"
   ]
  },
  {
   "cell_type": "code",
   "execution_count": 7,
   "metadata": {},
   "outputs": [],
   "source": [
    "M = 100\n",
    "x_va_M1, y_va_M = make_dataset(n_examples=M, seed=201)"
   ]
  },
  {
   "cell_type": "code",
   "execution_count": 8,
   "metadata": {},
   "outputs": [
    {
     "data": {
      "image/png": "[encoded data removed]",
      "text/plain": [
       "<Figure size 576x396 with 1 Axes>"
      ]
     },
     "metadata": {},
     "output_type": "display_data"
    }
   ],
   "source": [
    "plt.plot(x_N, y_N, 'ks', label='training set');\n",
    "plt.plot(x_va_M1, y_va_M - 0.01, 'rs', label='validation set'); # add small vertical offset so you can see\n",
    "\n",
    "plt.xlabel('x');\n",
    "plt.ylabel('y');\n",
    "plt.legend(bbox_to_anchor=(1.0, 0.5));"
   ]
  },
  {
   "cell_type": "markdown",
   "metadata": {},
   "source": [
    "<a id=\"part1\"></a>"
   ]
  },
  {
   "cell_type": "markdown",
   "metadata": {},
   "source": [
    "# Setup: Train a logistic regression model for F=1 data\n",
    "\n",
    "Here, we'll fit a Logistic Regression probabilistic classifier to the above 1-dim. feature dataset."
   ]
  },
  {
   "cell_type": "code",
   "execution_count": 9,
   "metadata": {},
   "outputs": [],
   "source": [
    "# We'll use C = 10000.0 for now. You could select it like any hyperparameter on validation data.\n",
    "\n",
    "lr = sklearn.linear_model.LogisticRegression(C=10000.0, penalty='l2');"
   ]
  },
  {
   "cell_type": "code",
   "execution_count": 10,
   "metadata": {},
   "outputs": [
    {
     "data": {
      "text/plain": [
       "LogisticRegression(C=10000.0)"
      ]
     },
     "execution_count": 10,
     "metadata": {},
     "output_type": "execute_result"
    }
   ],
   "source": [
    "lr.fit(x_N1, y_N)"
   ]
  },
  {
   "cell_type": "markdown",
   "metadata": {},
   "source": [
    "# Setup: Train a k-nearest neighbors model for F=1 data\n",
    "\n",
    "Here, we'll fit a K Nearest probabilistic classifier to the above 1-dim. feature dataset."
   ]
  },
  {
   "cell_type": "code",
   "execution_count": 11,
   "metadata": {},
   "outputs": [],
   "source": [
    "# We'll use K = 3 neighbors for now. In a real task, could select it like any hyperparameter on validation data.\n",
    "\n",
    "knn = sklearn.neighbors.KNeighborsClassifier(n_neighbors=3)"
   ]
  },
  {
   "cell_type": "code",
   "execution_count": 12,
   "metadata": {},
   "outputs": [
    {
     "data": {
      "text/plain": [
       "KNeighborsClassifier(n_neighbors=3)"
      ]
     },
     "execution_count": 12,
     "metadata": {},
     "output_type": "execute_result"
    }
   ],
   "source": [
    "knn.fit(x_N1, y_N)"
   ]
  },
  {
   "cell_type": "markdown",
   "metadata": {},
   "source": [
    "# Setup: Plot predicted probabilities vs feature value\n",
    "\n",
    "We'll again use the same dense grid of L inputs to understand the predicted probability function."
   ]
  },
  {
   "cell_type": "code",
   "execution_count": 13,
   "metadata": {},
   "outputs": [],
   "source": [
    "# Create dense grid of L input examples from -1.5 to 1.5\n",
    "# so we can better understand the learned predictions\n",
    "L = 101\n",
    "dense_x_L1 = np.linspace(-1.5, 1.5, L).reshape((L,1))\n",
    "yproba1_dense_L = lr.predict_proba(dense_x_L1)[:,1]"
   ]
  },
  {
   "cell_type": "code",
   "execution_count": 14,
   "metadata": {},
   "outputs": [
    {
     "data": {
      "image/png": "[encoded data removed]",
      "text/plain": [
       "<Figure size 576x396 with 1 Axes>"
      ]
     },
     "metadata": {},
     "output_type": "display_data"
    }
   ],
   "source": [
    "plt.plot(x_N, y_N, 'ks', label='training set');\n",
    "\n",
    "plt.plot(dense_x_L1, lr.predict_proba(dense_x_L1)[:,1], 'g-', label='LR probabilities on dense grid')\n",
    "plt.plot(dense_x_L1, knn.predict_proba(dense_x_L1)[:,1], 'b-', label='knn probabilities on dense grid')\n",
    "\n",
    "plt.xlabel('x');\n",
    "plt.ylabel('y');\n",
    "plt.legend(bbox_to_anchor=(1.0, 0.5));"
   ]
  },
  {
   "cell_type": "markdown",
   "metadata": {},
   "source": [
    "<a id=\"part1\"></a>"
   ]
  },
  {
   "cell_type": "markdown",
   "metadata": {},
   "source": [
    "# Part 1: Computing confusion matrices on validation set\n",
    "\n",
    "Remember, the order of the cells in a confusion matrix is like this diagram:\n",
    "\n",
    "    | -- | -- |\n",
    "    | TN | FP |\n",
    "    | FN | TP |\n",
    "    | -- | -- |"
   ]
  },
  {
   "cell_type": "markdown",
   "metadata": {},
   "source": [
    "First, get the logistic regression predicted probabilities"
   ]
  },
  {
   "cell_type": "code",
   "execution_count": 15,
   "metadata": {},
   "outputs": [],
   "source": [
    "lr_yproba1_va_M = lr.predict_proba(x_va_M1)[:,1]\n"
   ]
  },
  {
   "cell_type": "markdown",
   "metadata": {},
   "source": [
    "### Exercise 1a: Now, get the K-NN classifier's predicted probabilities of positive class"
   ]
  },
  {
   "cell_type": "code",
   "execution_count": 16,
   "metadata": {},
   "outputs": [],
   "source": [
    "knn_yproba1_va_M = np.zeros(M) # TODO call predict_proba on knn"
   ]
  },
  {
   "cell_type": "markdown",
   "metadata": {},
   "source": [
    "### Exercise 1b: Compute the confusion matrix at threshold of 0.5"
   ]
  },
  {
   "cell_type": "code",
   "execution_count": 17,
   "metadata": {},
   "outputs": [
    {
     "name": "stdout",
     "output_type": "stream",
     "text": [
      "LR confusion at threshold 0.5\n",
      "[[47 11]\n",
      " [ 4 38]]\n"
     ]
    }
   ],
   "source": [
    "print(\"LR confusion at threshold 0.5\")\n",
    "print(sklearn.metrics.confusion_matrix(y_va_M, lr_yproba1_va_M >= 0.5))"
   ]
  },
  {
   "cell_type": "markdown",
   "metadata": {},
   "source": [
    "### Exercise 1c: Compute confusion matrix across range of thresholds 0.1, .... 0.9"
   ]
  },
  {
   "cell_type": "code",
   "execution_count": 18,
   "metadata": {},
   "outputs": [
    {
     "name": "stdout",
     "output_type": "stream",
     "text": [
      "LR confusion at threshold 0.000\n",
      "[[ 0 58]\n",
      " [ 0 42]]\n",
      "LR confusion at threshold 0.200\n",
      "[[ 0 58]\n",
      " [ 0 42]]\n",
      "LR confusion at threshold 0.400\n",
      "[[13 45]\n",
      " [ 0 42]]\n",
      "LR confusion at threshold 0.500\n",
      "[[47 11]\n",
      " [ 4 38]]\n",
      "LR confusion at threshold 0.600\n",
      "[[57  1]\n",
      " [33  9]]\n",
      "LR confusion at threshold 0.800\n",
      "[[58  0]\n",
      " [42  0]]\n",
      "LR confusion at threshold 1.000\n",
      "[[58  0]\n",
      " [42  0]]\n"
     ]
    }
   ],
   "source": [
    "for thr in [0.0, 0.2, 0.4, 0.5, 0.6, 0.8, 1.0]:\n",
    "    print(\"LR confusion at threshold %.3f\" % thr)\n",
    "    print(sklearn.metrics.confusion_matrix(y_va_M, lr_yproba1_va_M >= thr))"
   ]
  },
  {
   "cell_type": "markdown",
   "metadata": {},
   "source": [
    "### Exercise 1d: Which of the above thresholds gives the best *accuracy*?"
   ]
  },
  {
   "cell_type": "code",
   "execution_count": 19,
   "metadata": {},
   "outputs": [],
   "source": [
    "# TODO manually compute the accuracy at each threshold given printed matrices above"
   ]
  },
  {
   "cell_type": "markdown",
   "metadata": {},
   "source": [
    "### Exercise 1e: Which of the above thresholds gives the best *true positive rate*?"
   ]
  },
  {
   "cell_type": "code",
   "execution_count": 20,
   "metadata": {},
   "outputs": [],
   "source": [
    "# TODO manually compute the TPR at each threshold given printed matrices above"
   ]
  },
  {
   "cell_type": "markdown",
   "metadata": {},
   "source": [
    "### Exercise 1e: Repeat 1c for the KNN classifier"
   ]
  },
  {
   "cell_type": "code",
   "execution_count": 21,
   "metadata": {},
   "outputs": [],
   "source": [
    "# TODO code here to print confusion matrix at several thresholds"
   ]
  },
  {
   "cell_type": "markdown",
   "metadata": {},
   "source": [
    "<a id=\"part2\"></a>"
   ]
  },
  {
   "cell_type": "markdown",
   "metadata": {},
   "source": [
    "# Part 2: ROC curves\n",
    "\n",
    "This is a brief demo of creating an ROC curve for comparing the LR and KNN classifiers from above."
   ]
  },
  {
   "cell_type": "code",
   "execution_count": 22,
   "metadata": {},
   "outputs": [],
   "source": [
    "lr_proba1_va_M = lr.predict_proba(x_va_M1)[:,1]\n",
    "knn_proba1_va_M = knn.predict_proba(x_va_M1)[:,1]"
   ]
  },
  {
   "cell_type": "code",
   "execution_count": 23,
   "metadata": {},
   "outputs": [],
   "source": [
    "lr_fpr, lr_tpr, ignore_this = sklearn.metrics.roc_curve(y_va_M, lr_proba1_va_M)\n",
    "knn_fpr, knn_tpr, ignore_this2 = sklearn.metrics.roc_curve(y_va_M, knn_proba1_va_M)"
   ]
  },
  {
   "cell_type": "code",
   "execution_count": 24,
   "metadata": {},
   "outputs": [
    {
     "data": {
      "image/png": "[encoded data removed]",
      "text/plain": [
       "<Figure size 360x360 with 1 Axes>"
      ]
     },
     "metadata": {},
     "output_type": "display_data"
    }
   ],
   "source": [
    "plt.figure(figsize=(5,5));\n",
    "plt.plot(lr_fpr, lr_tpr, 'g.-', label='Logistic Regression');\n",
    "plt.plot(knn_fpr, knn_tpr, 'm.-', label='3-Nearest Neighbor');\n",
    "\n",
    "plt.xlabel('FPR');\n",
    "plt.ylabel('TPR');\n",
    "plt.legend(bbox_to_anchor=(1.75, 0.5));"
   ]
  },
  {
   "cell_type": "markdown",
   "metadata": {},
   "source": [
    "### Discussion 2a: Is there any FPR value where the 3-NN classifier has better TPR than the LR classifier?"
   ]
  },
  {
   "cell_type": "code",
   "execution_count": 25,
   "metadata": {},
   "outputs": [],
   "source": [
    "# TODO write your answer here, then discuss"
   ]
  },
  {
   "cell_type": "markdown",
   "metadata": {},
   "source": [
    "### Exercise 2b: Visually, estimate the area under the 3-NN ROC curve above"
   ]
  },
  {
   "cell_type": "code",
   "execution_count": 26,
   "metadata": {},
   "outputs": [],
   "source": [
    "# TODO write your answer here for the 3-NN curves, by manually interpreting the plot above."
   ]
  },
  {
   "cell_type": "markdown",
   "metadata": {},
   "source": [
    "### Exercise 2c: Use sklearn functions to compute AUROC (area under roc curve)\n",
    "\n",
    "Use the `roc_auc_score` function, with docs here:\n",
    "\n",
    "https://scikit-learn.org/stable/modules/generated/sklearn.metrics.roc_auc_score.html\n"
   ]
  },
  {
   "cell_type": "code",
   "execution_count": 27,
   "metadata": {},
   "outputs": [
    {
     "data": {
      "text/plain": [
       "0.5"
      ]
     },
     "execution_count": 27,
     "metadata": {},
     "output_type": "execute_result"
    }
   ],
   "source": [
    "sklearn.metrics.roc_auc_score(y_va_M, np.zeros(M)) # TODO replace \"zeros\" array with predicted probas from 3-NN"
   ]
  },
  {
   "cell_type": "markdown",
   "metadata": {},
   "source": [
    "### Exercise 2d: Suppose you multiplied all probabilities by 0.5.... what happens to the AUROC?"
   ]
  },
  {
   "cell_type": "code",
   "execution_count": 28,
   "metadata": {},
   "outputs": [
    {
     "data": {
      "text/plain": [
       "0.5"
      ]
     },
     "execution_count": 28,
     "metadata": {},
     "output_type": "execute_result"
    }
   ],
   "source": [
    "sklearn.metrics.roc_auc_score(y_va_M, 0.5 * np.zeros(M)) # TODO replace \"zeros\" array with predicted probas from 3-NN"
   ]
  },
  {
   "cell_type": "markdown",
   "metadata": {},
   "source": [
    "Punchline: AUROC scores are about *relative ranking*, and have little to do with the *absolute scale* of the predicted probabilities or scores"
   ]
  },
  {
   "cell_type": "markdown",
   "metadata": {},
   "source": [
    "<a id=\"part3\"></a>"
   ]
  },
  {
   "cell_type": "markdown",
   "metadata": {},
   "source": [
    "# Part 3: Zero-one loss aka mean error rate\n",
    "\n",
    "Given a predicted probability $p$, we can make a hard binary decision by *thresholding*\n",
    "\n",
    "$$\n",
    "\\hat{y}(p, \\tau) = \\begin{cases}\n",
    "1 & \\text{if}~ p >= \\tau\n",
    "\\\\\n",
    "0 & \\text{otherwise}\n",
    "\\end{cases}\n",
    "$$\n",
    "\n",
    "Zero one loss as a function of predicted probability $p$\n",
    "\n",
    "$$\n",
    "\\ell(p) = \\begin{cases}\n",
    "1 & \\text{if}~ y == \\hat{y}(p, \\tau)\n",
    "\\\\\n",
    "0 & \\text{otherwise}\n",
    "\\end{cases}\n",
    "$$\n",
    "\n",
    "The average zero-one loss across $N$ examples is the same as the *error rate*.\n",
    "\n",
    "You can interpret this as fraction of mistakes.\n"
   ]
  },
  {
   "cell_type": "code",
   "execution_count": 29,
   "metadata": {},
   "outputs": [
    {
     "data": {
      "image/png": "[encoded data removed]",
      "text/plain": [
       "<Figure size 576x396 with 1 Axes>"
      ]
     },
     "metadata": {},
     "output_type": "display_data"
    }
   ],
   "source": [
    "# Consider loss as a function of predicted probability\n",
    "\n",
    "ytrue = 1\n",
    "thr = 0.5 # decision threshold\n",
    "\n",
    "eps = 0.001\n",
    "p_grid = np.linspace(eps, 1.0 - eps, 1000)\n",
    "ytrue_grid = ytrue * np.ones_like(p_grid)\n",
    "\n",
    "zeroone_loss_grid = np.asarray(p_grid < thr, dtype=np.float64);\n",
    "\n",
    "plt.plot(p_grid, zeroone_loss_grid, 'k-', label='error loss (aka 0-1 loss)');\n",
    "plt.legend(loc='upper right');\n",
    "plt.xlabel('probability');\n",
    "plt.ylabel('loss');\n",
    "plt.title('Zero-one loss when true label is y = 1')\n",
    "plt.ylim([0, 2.0]);"
   ]
  },
  {
   "cell_type": "markdown",
   "metadata": {},
   "source": [
    "### Exercise 3a: Repeat the above but make a plot for the case that true label is y = 0"
   ]
  },
  {
   "cell_type": "code",
   "execution_count": 30,
   "metadata": {},
   "outputs": [],
   "source": [
    "# TODO copy above code here and modify appropriately"
   ]
  },
  {
   "cell_type": "markdown",
   "metadata": {},
   "source": [
    "<a id=\"part4\"></a>"
   ]
  },
  {
   "cell_type": "markdown",
   "metadata": {},
   "source": [
    "# Part 4: Log loss aka binary cross entropy\n",
    "\n",
    "The log loss for a single prediction with true label $y$ and predicted probility of positive class $p \\in (0,1)$ is:\n",
    "$$\n",
    "\\text{log_loss}(y, p) = - y \\log_2 p - (1-y) \\log_2 (1 - p)\n",
    "$$\n",
    "\n",
    "The output of the log loss is a real number. It must be 0.0 or greater.\n",
    "\n",
    "The larger this loss value, the *worse* the predicted probability is."
   ]
  },
  {
   "cell_type": "code",
   "execution_count": 31,
   "metadata": {},
   "outputs": [
    {
     "data": {
      "image/png": "[encoded data removed]",
      "text/plain": [
       "<Figure size 576x396 with 1 Axes>"
      ]
     },
     "metadata": {},
     "output_type": "display_data"
    }
   ],
   "source": [
    "# Consider loss as a function of predicted probability\n",
    "\n",
    "ytrue = 1\n",
    "thr = 0.5 # decision threshold\n",
    "\n",
    "eps = 0.001\n",
    "p_grid = np.linspace(eps, 1.0 - eps, 1000)\n",
    "ytrue_grid = ytrue * np.ones_like(p_grid)\n",
    "\n",
    "zeroone_loss_grid = np.asarray(p_grid < 0.5, dtype=np.float64);\n",
    "log_loss_grid = -1 * (ytrue_grid * np.log2(p_grid) + (1-ytrue_grid) * np.log2(1-p_grid));\n",
    "\n",
    "plt.plot(p_grid, zeroone_loss_grid, 'k-', label='error loss (aka 0-1 loss)');\n",
    "plt.plot(p_grid, log_loss_grid, 'b-', label='log loss');\n",
    "plt.legend(loc='upper right');\n",
    "plt.xlabel('probability');\n",
    "plt.ylabel('loss');\n",
    "plt.title('Log loss when true label is y = 1')\n",
    "plt.ylim([0, 2.5]);"
   ]
  },
  {
   "cell_type": "markdown",
   "metadata": {},
   "source": [
    "### Exercise 4a: Repeat the above but make a plot for the case that true label is y = 0"
   ]
  },
  {
   "cell_type": "code",
   "execution_count": 32,
   "metadata": {},
   "outputs": [],
   "source": [
    "# TODO copy above code here and modify appropriately"
   ]
  },
  {
   "cell_type": "markdown",
   "metadata": {},
   "source": [
    "### Discussion 4b: What happens to log loss when the true label is 1 and predicted probability is exactly 1.0?\n",
    "\n",
    "Recall the formula:\n",
    "\n",
    "$$\n",
    "\\text{log_loss}(y, p) = - y \\log_2 p - (1-y) \\log_2 (1 - p)\n",
    "$$\n",
    "\n",
    "What is the log loss at $y=1$ and $p=1$?\n",
    "Is there any numerical trouble that you get into by evaluating the logarithm at this probability value?"
   ]
  },
  {
   "cell_type": "code",
   "execution_count": 33,
   "metadata": {},
   "outputs": [],
   "source": [
    "# TODO write your answer"
   ]
  },
  {
   "cell_type": "markdown",
   "metadata": {},
   "source": [
    "### Discussion 4c: What happens to log loss when the true label is 1 and predicted probability is exactly 0.0?\n",
    "\n",
    "What is the log loss at $y=1$ and $p=0.0$ (exact zero)?\n",
    "\n",
    "Is there any numerical trouble that you get into by evaluating the logarithm at this probability value?"
   ]
  },
  {
   "cell_type": "code",
   "execution_count": 34,
   "metadata": {},
   "outputs": [],
   "source": [
    "# TODO write your answer"
   ]
  },
  {
   "cell_type": "markdown",
   "metadata": {},
   "source": [
    "### Discussion 4d: How can we fix numerical issues with log(0)?"
   ]
  },
  {
   "cell_type": "markdown",
   "metadata": {},
   "source": [
    "See above how we do not let $p$ go to 0.0 but instead say that the smallest probability $p$ allowed is a small positive value `eps`.\n",
    "\n",
    "We assume here that $1.0 * \\log(0.0)$ should be replaced by $\\log(\\epsilon)$\n",
    "\n",
    "Why does this help?"
   ]
  },
  {
   "cell_type": "code",
   "execution_count": null,
   "metadata": {},
   "outputs": [],
   "source": []
  }
 ],
 "metadata": {
  "kernelspec": {
   "display_name": "Python 3",
   "language": "python",
   "name": "python3"
  },
  "language_info": {
   "codemirror_mode": {
    "name": "ipython",
    "version": 3
   },
   "file_extension": ".py",
   "mimetype": "text/x-python",
   "name": "python",
   "nbconvert_exporter": "python",
   "pygments_lexer": "ipython3",
   "version": "3.6.10"
  }
 },
 "nbformat": 4,
 "nbformat_minor": 2
}
