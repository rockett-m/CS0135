{
 "cells": [
  {
   "cell_type": "markdown",
   "metadata": {},
   "source": [
    "# COMP 135 day03: Training Linear Regression Models via Analytical Formulas"
   ]
  },
  {
   "cell_type": "markdown",
   "metadata": {},
   "source": [
    "# Objectives\n",
    "\n",
    "* Learn how to apply the standard \"least squares\" formulas for 'training' linear regression in 1 dimension\n",
    "* Learn how to apply the standard \"least squares\" formulas for 'training' linear regression in many dimensions (with matrix math)\n",
    "* Learn how these formulas minimize *mean squared error*, but maybe not other error metrics"
   ]
  },
  {
   "cell_type": "markdown",
   "metadata": {},
   "source": [
    "\n",
    "# Outline\n",
    "\n",
    "* [Part 1: Simplest Linear Regression](#part1) with 1-dim features, estimate slope only\n",
    "* * Exercise 1a: When does the formula fail?\n",
    "* * Exercise 1b: Can you show graphically the formula minimizes mean squared error?\n",
    "* * Exercise 1c: What would be optimal weight to minimize mean absolute error?\n",
    "* [Part 2: Simple Linear Regression](#part2) with 1-dim features, slope and intercept\n",
    "* [Part 3: General case of linear regression with F features](#part3)\n",
    "* [Part 4: What is a matrix inverse?](#part4)\n",
    "* [Part 5: When can we trust numerical computation of the inverse?](#part5)\n",
    "* [Part 6: General case of linear regression with F features, using numerically stable formulas](#part6)\n",
    "\n"
   ]
  },
  {
   "cell_type": "markdown",
   "metadata": {},
   "source": [
    "# Takeaways\n",
    "\n",
    "* Exact formulas exist for estimating the weight coefficients $w$ and bias/intercept $b$ for linear regression\n",
    "* * When $F=1$, just involves ratios of inner products\n",
    "* * When $F>1$, requires matrix multiplication and other operations, solving a linear system with $F+1$ unknowns ($F$ weights and 1 bias)\n",
    "* Prefer `np.linalg.solve` over `np.linalg.inv`.\n",
    "* * Numerical methods for computing inverses (like `np.linalg.inv`) are unreliable if the matrix $A$ is almost singular.\n",
    "* Linear algebra is a very important field of mathematics for understanding when a solution to a linear system of equations exists\n",
    "* These formulas minimize *mean squared error*, but likely may not minimize other error metrics\n",
    "* * Many ML methods are motivated by what is *mathematically convenient*.\n",
    "* * In practice, you should *definitely* consider if another objective is better for your regression task\n",
    "* * * Absolute error?"
   ]
  },
  {
   "cell_type": "markdown",
   "metadata": {},
   "source": [
    "# Import libraries"
   ]
  },
  {
   "cell_type": "code",
   "execution_count": 1,
   "metadata": {},
   "outputs": [],
   "source": [
    "import numpy as np\n",
    "import pandas as pd"
   ]
  },
  {
   "cell_type": "code",
   "execution_count": 2,
   "metadata": {},
   "outputs": [],
   "source": [
    "import sklearn"
   ]
  },
  {
   "cell_type": "code",
   "execution_count": 3,
   "metadata": {},
   "outputs": [],
   "source": [
    "# import plotting libraries\n",
    "import matplotlib\n",
    "import matplotlib.pyplot as plt\n",
    "\n",
    "%matplotlib inline\n",
    "plt.style.use('seaborn') # pretty matplotlib plots\n",
    "\n",
    "import seaborn as sns\n",
    "sns.set('notebook', style='whitegrid', font_scale=1.25)"
   ]
  },
  {
   "cell_type": "markdown",
   "metadata": {},
   "source": []
  },
  {
   "cell_type": "code",
   "execution_count": 4,
   "metadata": {},
   "outputs": [],
   "source": [
    "true_slope = 2.345\n",
    "\n",
    "N = 7\n",
    "x_N = np.linspace(-1, 1, N);\n",
    "y_N = true_slope * x_N\n",
    "\n",
    "prng = np.random.RandomState(33)\n",
    "ynoise_N = y_N + 0.7 * prng.randn(N)"
   ]
  },
  {
   "cell_type": "code",
   "execution_count": 5,
   "metadata": {},
   "outputs": [
    {
     "data": {
      "image/png": "[encoded data removed]",
      "text/plain": [
       "<Figure size 576x396 with 1 Axes>"
      ]
     },
     "metadata": {},
     "output_type": "display_data"
    }
   ],
   "source": [
    "plt.plot(x_N, y_N, 'bs-', label='y')\n",
    "plt.plot(x_N, ynoise_N, 'rs-', label='y + noise');\n",
    "plt.legend(loc='lower right');"
   ]
  },
  {
   "cell_type": "markdown",
   "metadata": {},
   "source": [
    "<a id=\"part1\"></a>"
   ]
  },
  {
   "cell_type": "markdown",
   "metadata": {},
   "source": [
    "# Part 1: Simplest Linear Regression with 1-dim features and only slope\n",
    "\n",
    "Estimate slope only. We assume the bias/intercept is fixed to zero."
   ]
  },
  {
   "cell_type": "markdown",
   "metadata": {},
   "source": [
    "### Exact formula to estimate \"least squares\" solution w in 1D:\n",
    "\n",
    "$$\n",
    "w^* = \\frac{\\sum_n x_n y_n}{\\sum_n x_n^2} = \\frac{ \\mathbf{x}^T \\mathbf{y} }{ \\mathbf{x}^T \\mathbf{x} }\n",
    "$$"
   ]
  },
  {
   "cell_type": "markdown",
   "metadata": {},
   "source": [
    "### Estimate w using the 'true', noise-free y value"
   ]
  },
  {
   "cell_type": "code",
   "execution_count": 6,
   "metadata": {},
   "outputs": [
    {
     "name": "stdout",
     "output_type": "stream",
     "text": [
      "2.3449999999999998\n"
     ]
    }
   ],
   "source": [
    "w_est = np.inner(x_N, y_N) / np.inner(x_N, x_N)\n",
    "print(w_est)"
   ]
  },
  {
   "cell_type": "markdown",
   "metadata": {},
   "source": [
    "### Estimate w using the noisy y values"
   ]
  },
  {
   "cell_type": "code",
   "execution_count": 7,
   "metadata": {},
   "outputs": [
    {
     "name": "stdout",
     "output_type": "stream",
     "text": [
      "2.7606807490017067\n"
     ]
    }
   ],
   "source": [
    "w_est = np.inner(x_N, ynoise_N) / np.inner(x_N, x_N)\n",
    "print(w_est)"
   ]
  },
  {
   "cell_type": "code",
   "execution_count": null,
   "metadata": {},
   "outputs": [],
   "source": []
  },
  {
   "cell_type": "markdown",
   "metadata": {},
   "source": [
    "# Exercise 1a: What if all examples had $x_n = 0$?\n",
    "\n",
    "What would happen? What does the algebra of the formula suggest?"
   ]
  },
  {
   "cell_type": "markdown",
   "metadata": {},
   "source": [
    "# Exercise 1b: Can you show graphically that this minimizes *mean squared error*?"
   ]
  },
  {
   "cell_type": "code",
   "execution_count": 8,
   "metadata": {},
   "outputs": [],
   "source": [
    "def predict_1d(x_N, w):\n",
    "    # TODO fix me\n",
    "    return 0.0"
   ]
  },
  {
   "cell_type": "code",
   "execution_count": 9,
   "metadata": {},
   "outputs": [],
   "source": [
    "def calc_mean_squared_error(yhat_N, y_N):\n",
    "    # TODO fix me\n",
    "    return 0.0"
   ]
  },
  {
   "cell_type": "code",
   "execution_count": 10,
   "metadata": {},
   "outputs": [
    {
     "data": {
      "text/plain": [
       "<matplotlib.legend.Legend at 0x1a25df6e10>"
      ]
     },
     "execution_count": 10,
     "metadata": {},
     "output_type": "execute_result"
    },
    {
     "data": {
      "image/png": "[encoded data removed]",
      "text/plain": [
       "<Figure size 576x396 with 1 Axes>"
      ]
     },
     "metadata": {},
     "output_type": "display_data"
    }
   ],
   "source": [
    "G = 30\n",
    "w_candidates_G = np.linspace(-3, 6, G)\n",
    "error_G = np.zeros(G)\n",
    "for gg, w in enumerate(w_candidates_G):\n",
    "    yhat_N = predict_1d(x_N, w)\n",
    "    error_G[gg] = calc_mean_squared_error(yhat_N, ynoise_N)\n",
    "plt.plot(w_candidates_G, error_G, 'r.-', label='objective function');\n",
    "plt.plot(w_est * np.ones(2), np.asarray([0, 1]), 'b:', label='optimal weight value');\n",
    "plt.xlabel('w');\n",
    "plt.ylabel('mean squared error');\n",
    "plt.legend()"
   ]
  },
  {
   "cell_type": "markdown",
   "metadata": {},
   "source": [
    "# Exercise 1c: What about *mean absolute error*?\n",
    "\n",
    "Does the least-squares estimate of $w$ minimize mean absolute error for this example?"
   ]
  },
  {
   "cell_type": "code",
   "execution_count": 11,
   "metadata": {},
   "outputs": [],
   "source": [
    "def calc_mean_abs_error(yhat_N, y_N):\n",
    "    # TODO fixme\n",
    "    return 0.0\n",
    "    "
   ]
  },
  {
   "cell_type": "code",
   "execution_count": 12,
   "metadata": {},
   "outputs": [
    {
     "data": {
      "image/png": "[encoded data removed]",
      "text/plain": [
       "<Figure size 576x396 with 1 Axes>"
      ]
     },
     "metadata": {},
     "output_type": "display_data"
    }
   ],
   "source": [
    "G = 100\n",
    "w_candidates_G = np.linspace(1, 4, G)\n",
    "error_G = np.zeros(G)\n",
    "for gg, w in enumerate(w_candidates_G):\n",
    "    yhat_N = predict_1d(x_N, w)\n",
    "    error_G[gg] = calc_mean_abs_error(yhat_N, ynoise_N)\n",
    "plt.plot(w_candidates_G, error_G, 'r.-', label='objective function');\n",
    "plt.plot(w_est * np.ones(2), np.asarray([0, 1]), 'b:', label='optimal weight value');\n",
    "\n",
    "plt.xlabel('w');\n",
    "plt.ylabel('mean absolute error');"
   ]
  },
  {
   "cell_type": "markdown",
   "metadata": {},
   "source": [
    "<a id=\"part2\"></a>"
   ]
  },
  {
   "cell_type": "markdown",
   "metadata": {},
   "source": [
    "# Part 2: Simpler Linear Regression with slope and bias\n",
    "\n",
    "Goal: estimate slope $w$ and bias $b$"
   ]
  },
  {
   "cell_type": "markdown",
   "metadata": {},
   "source": [
    "Then the best estimates of the slope and intercept are given by:\n",
    "\n",
    "$$\n",
    "w^* = \\frac{ \\sum_{n=1}^N (x_n - \\bar{x}) (y_n - \\bar{y}) }{\\sum_{n=1}^N (x_n - \\bar{x})^2 }\n",
    "$$\n",
    "\n",
    "and\n",
    "\n",
    "$$\n",
    "b^* = \\bar{y} - w^* \\bar{x}\n",
    "$$\n"
   ]
  },
  {
   "cell_type": "markdown",
   "metadata": {},
   "source": [
    "### Using the 'true', noise-free y value\n",
    "\n",
    "Sanity check : we should recover the true-slope, with zero intercept"
   ]
  },
  {
   "cell_type": "code",
   "execution_count": 13,
   "metadata": {},
   "outputs": [
    {
     "name": "stdout",
     "output_type": "stream",
     "text": [
      "2.3449999999999998\n",
      "-1.7938032012157886e-16\n"
     ]
    }
   ],
   "source": [
    "xbar = np.mean(x_N)\n",
    "ybar = np.mean(y_N)\n",
    "w_est = np.inner(x_N - xbar, y_N - ybar) / np.inner(x_N - xbar, x_N - xbar)\n",
    "print(w_est)\n",
    "\n",
    "b_est = ybar - w_est * xbar\n",
    "print(b_est)"
   ]
  },
  {
   "cell_type": "markdown",
   "metadata": {},
   "source": [
    "### Using the noisy y value"
   ]
  },
  {
   "cell_type": "code",
   "execution_count": 14,
   "metadata": {},
   "outputs": [
    {
     "name": "stdout",
     "output_type": "stream",
     "text": [
      "Estimated slope: 2.7606807490017067\n",
      "Estimated bias: -0.4138756764186623\n"
     ]
    }
   ],
   "source": [
    "xbar = np.mean(x_N)\n",
    "ybar = np.mean(ynoise_N)\n",
    "\n",
    "w_est = np.inner(x_N - xbar, ynoise_N - ybar) / np.inner(x_N - xbar, x_N - xbar)\n",
    "b_est = ybar - w_est * xbar\n",
    "\n",
    "print(\"Estimated slope: \" + str(w_est))\n",
    "print(\"Estimated bias: \" + str(b_est))"
   ]
  },
  {
   "cell_type": "markdown",
   "metadata": {},
   "source": [
    "<a id=\"part3\"></a>"
   ]
  },
  {
   "cell_type": "markdown",
   "metadata": {},
   "source": [
    "# Part 3: General case of Linear Regression\n",
    "\n",
    "Goal:\n",
    "* estimate the vector $w \\in \\mathbb{R}^F$ of weight coefficients\n",
    "* estimate the bias scalar $b$ (aka intercept)"
   ]
  },
  {
   "cell_type": "markdown",
   "metadata": {},
   "source": [
    "Given a dataset of $N$ examples and $F$ feature dimensions, where\n",
    "\n",
    "* $\\tilde{\\mathbf{X}}$ is an $N \\times F +1$ matrix of feature vectors, where we'll assume the last column is all ones\n",
    "* $\\mathbf{y}$ is an $N \\times 1$ column vector of outputs\n",
    "\n",
    "Remember that the formula is:\n",
    "    \n",
    "$$\n",
    "\\theta^* = (\\tilde{\\mathbf{X}}^T \\tilde{\\mathbf{X}} )^{-1} \\tilde{\\mathbf{X}}^T \\mathbf{y}\n",
    "\\\\\n",
    "~\\\\\n",
    "w^* = [\\theta^*_1 ~ \\theta^*_2 \\ldots \\theta^*_F ]^T\n",
    "\\\\\n",
    "~\\\\\n",
    "b^* = \\theta^*_{F+1}\n",
    "$$\n",
    "\n",
    "We need to compute a *matrix inverse* to do this.\n",
    "\n",
    "Let's try this out. Step by step.\n",
    "\n",
    "First, print out the $\\tilde{X}$ array"
   ]
  },
  {
   "cell_type": "code",
   "execution_count": 15,
   "metadata": {},
   "outputs": [],
   "source": [
    "x_N1 = x_N[:,np.newaxis]"
   ]
  },
  {
   "cell_type": "code",
   "execution_count": 60,
   "metadata": {},
   "outputs": [
    {
     "name": "stdout",
     "output_type": "stream",
     "text": [
      "[[-1.          1.        ]\n",
      " [-0.66666667  1.        ]\n",
      " [-0.33333333  1.        ]\n",
      " [ 0.          1.        ]\n",
      " [ 0.33333333  1.        ]\n",
      " [ 0.66666667  1.        ]\n",
      " [ 1.          1.        ]]\n"
     ]
    }
   ],
   "source": [
    "xtilde_N2 = np.hstack([x_N1, np.ones((x_N.size, 1))])\n",
    "print(xtilde_N2)"
   ]
  },
  {
   "cell_type": "markdown",
   "metadata": {},
   "source": [
    "Next, print out the $y$ array"
   ]
  },
  {
   "cell_type": "code",
   "execution_count": 62,
   "metadata": {},
   "outputs": [
    {
     "name": "stdout",
     "output_type": "stream",
     "text": [
      "[-2.56819745 -2.68541972 -1.85631918 -0.39928063  0.62995686  1.74174534\n",
      "  2.24038504]\n"
     ]
    }
   ],
   "source": [
    "print(ynoise_N)"
   ]
  },
  {
   "cell_type": "markdown",
   "metadata": {},
   "source": [
    "Next, lets compute the matrix product $\\tilde{X}^T \\tilde{X}$, which is a $2 \\times 2$ matrix"
   ]
  },
  {
   "cell_type": "code",
   "execution_count": 64,
   "metadata": {},
   "outputs": [
    {
     "name": "stdout",
     "output_type": "stream",
     "text": [
      "[[ 3.11111111e+00 -2.22044605e-16]\n",
      " [-2.22044605e-16  7.00000000e+00]]\n"
     ]
    }
   ],
   "source": [
    "xTx_22 = np.dot(xtilde_N2.T, xtilde_N2)\n",
    "print(xTx_22)"
   ]
  },
  {
   "cell_type": "markdown",
   "metadata": {},
   "source": [
    "Next, lets compute the INVERSE of $\\tilde{X}^T \\tilde{X}$, which is again a $2 \\times 2$ matrix"
   ]
  },
  {
   "cell_type": "code",
   "execution_count": 65,
   "metadata": {},
   "outputs": [
    {
     "name": "stdout",
     "output_type": "stream",
     "text": [
      "[[3.21428571e-01 1.01959257e-17]\n",
      " [1.01959257e-17 1.42857143e-01]]\n"
     ]
    }
   ],
   "source": [
    "inv_xTx_22 = np.linalg.inv(xTx_22) # compute the inverse!\n",
    "print(inv_xTx_22)"
   ]
  },
  {
   "cell_type": "markdown",
   "metadata": {},
   "source": [
    "Next, let's compute the optimal $\\theta$ vector according to our formula above"
   ]
  },
  {
   "cell_type": "code",
   "execution_count": 66,
   "metadata": {},
   "outputs": [
    {
     "name": "stdout",
     "output_type": "stream",
     "text": [
      "[[ 2.76068075]\n",
      " [-0.41387568]]\n"
     ]
    }
   ],
   "source": [
    "theta_G = np.dot(inv_xTx_22, np.dot(xtilde_N2.T, ynoise_N[:,np.newaxis])) # compute theta vector\n",
    "print(theta_G)"
   ]
  },
  {
   "cell_type": "code",
   "execution_count": 67,
   "metadata": {},
   "outputs": [
    {
     "name": "stdout",
     "output_type": "stream",
     "text": [
      "Estimated slope: [2.76068075]\n",
      "Estimated bias: [-0.41387568]\n"
     ]
    }
   ],
   "source": [
    "print(\"Estimated slope: \" + str(theta_G[0]))\n",
    "print(\"Estimated bias: \" + str(theta_G[1]))"
   ]
  },
  {
   "cell_type": "markdown",
   "metadata": {},
   "source": [
    "We should get the SAME results as in our simpler LR case in Part 2. \n",
    "\n",
    "So this formula for the general case looks super easy, right?"
   ]
  },
  {
   "cell_type": "markdown",
   "metadata": {},
   "source": [
    "Not so fast...\n",
    "\n",
    "Let's take a minute and review just what the heck an *inverse* is, before we just blindly implement this formula..."
   ]
  },
  {
   "cell_type": "markdown",
   "metadata": {},
   "source": [
    "<a id=\"part4\"></a>"
   ]
  },
  {
   "cell_type": "markdown",
   "metadata": {},
   "source": [
    "# Part 4: Linear Algebra Review: What is the inverse of a matrix?"
   ]
  },
  {
   "cell_type": "markdown",
   "metadata": {},
   "source": [
    "Let $A$ be a square matrix with shape $(D, D)$.\n",
    "\n",
    "We say that matrix $A^{-1}$ is the *inverse* of $A$ if the product of $A$ and $A^{-1}$ yields the $D \\times D$ *identity* matrix:\n",
    "\n",
    "$$\n",
    "A A^{-1} = I\n",
    "$$\n",
    "\n",
    "If $A^{-1}$ exists, it will also be a $D\\times D $ square matrix.\n",
    "\n",
    "In Python, we can compute the inverse of a matrix using `np.linalg.inv`"
   ]
  },
  {
   "cell_type": "code",
   "execution_count": 23,
   "metadata": {},
   "outputs": [
    {
     "name": "stdout",
     "output_type": "stream",
     "text": [
      "[[ 1.  0.  0.]\n",
      " [ 0. -2.  0.]\n",
      " [ 0.  0.  3.]]\n"
     ]
    }
   ],
   "source": [
    "# Define a square matrix with shape(3,3)\n",
    "A = np.diag(np.asarray([1., -2., 3.]))\n",
    "print(A)"
   ]
  },
  {
   "cell_type": "code",
   "execution_count": 24,
   "metadata": {},
   "outputs": [
    {
     "name": "stdout",
     "output_type": "stream",
     "text": [
      "[[ 1.          0.          0.        ]\n",
      " [-0.         -0.5        -0.        ]\n",
      " [ 0.          0.          0.33333333]]\n"
     ]
    }
   ],
   "source": [
    "# Compute its inverse\n",
    "invA = np.linalg.inv(A)\n",
    "print(invA)"
   ]
  },
  {
   "cell_type": "code",
   "execution_count": 25,
   "metadata": {},
   "outputs": [
    {
     "data": {
      "text/plain": [
       "array([[1., 0., 0.],\n",
       "       [0., 1., 0.],\n",
       "       [0., 0., 1.]])"
      ]
     },
     "execution_count": 25,
     "metadata": {},
     "output_type": "execute_result"
    }
   ],
   "source": [
    "np.dot(A, invA) # should equal identity"
   ]
  },
  {
   "cell_type": "markdown",
   "metadata": {},
   "source": [
    "Remember, in 1 dimensions, the inverse of $a$ is just $1/a$, since $a \\cdot \\frac{1}{a} = 1.0$"
   ]
  },
  {
   "cell_type": "code",
   "execution_count": 26,
   "metadata": {},
   "outputs": [
    {
     "name": "stdout",
     "output_type": "stream",
     "text": [
      "[[2]]\n"
     ]
    }
   ],
   "source": [
    "A = np.asarray([[2]])\n",
    "print(A)"
   ]
  },
  {
   "cell_type": "code",
   "execution_count": 27,
   "metadata": {},
   "outputs": [
    {
     "name": "stdout",
     "output_type": "stream",
     "text": [
      "[[0.5]]\n"
     ]
    }
   ],
   "source": [
    "invA = np.linalg.inv(A)\n",
    "print(invA)"
   ]
  },
  {
   "cell_type": "markdown",
   "metadata": {},
   "source": [
    "## Does the inverse always exist?\n",
    "\n",
    "No! Remember:\n",
    "\n",
    "* Even when $D=1$, if $A=0$, then the inverse does not exist ($\\frac{1}{A}$ is undefined)\n",
    "* When $D \\geq 2$, there are *infinitely many* square matrices $A$ that do not have an inverse\n",
    "\n"
   ]
  },
  {
   "cell_type": "code",
   "execution_count": 28,
   "metadata": {},
   "outputs": [
    {
     "name": "stdout",
     "output_type": "stream",
     "text": [
      "[[0.    0.   ]\n",
      " [0.    1.337]]\n",
      "<class 'numpy.linalg.LinAlgError'>: Singular matrix\n"
     ]
    }
   ],
   "source": [
    "# Example 1:\n",
    "A = np.asarray([[0, 0], [0, 1.337]])\n",
    "print(A)\n",
    "try:\n",
    "    np.linalg.inv(A)\n",
    "except Exception as e:\n",
    "    print(str(type(e)) + \": \" + str(e))"
   ]
  },
  {
   "cell_type": "code",
   "execution_count": 29,
   "metadata": {},
   "outputs": [
    {
     "name": "stdout",
     "output_type": "stream",
     "text": [
      "[[3.4 3.4]\n",
      " [3.4 3.4]]\n",
      "<class 'numpy.linalg.LinAlgError'>: Singular matrix\n"
     ]
    }
   ],
   "source": [
    "# Example 2:\n",
    "A = np.asarray([[3.4, 3.4], [3.4, 3.4]])\n",
    "print(A)\n",
    "try:\n",
    "    np.linalg.inv(A)\n",
    "except Exception as e:\n",
    "    print(str(type(e)) + \": \" + str(e))"
   ]
  },
  {
   "cell_type": "code",
   "execution_count": 30,
   "metadata": {},
   "outputs": [
    {
     "name": "stdout",
     "output_type": "stream",
     "text": [
      "[[-1.2  4.7]\n",
      " [-2.4  9.4]]\n",
      "<class 'numpy.linalg.LinAlgError'>: Singular matrix\n"
     ]
    }
   ],
   "source": [
    "# Example 3:\n",
    "A = np.asarray([[-1.2, 4.7], [-2.4, 9.4]])\n",
    "print(A)\n",
    "try:\n",
    "    np.linalg.inv(A)\n",
    "except Exception as e:\n",
    "    print(str(type(e)) + \": \" + str(e))"
   ]
  },
  {
   "cell_type": "markdown",
   "metadata": {},
   "source": [
    "What do these examples have in common???\n",
    "\n",
    "The columns of $A$ are not linearly independent!\n",
    "\n",
    "In other words, $A$ is not invertible whenever we can exactly construct one column of $A$ by a linear combination of other columns\n",
    "\n",
    "$$\n",
    "A_{:,D} = c_1 A_{:,1} + c_2 A_{:,2} + \\ldots c_{D-1} A_{:,D-1}\n",
    "$$\n",
    "\n",
    "where $c_1$, $c_2$, $\\ldots c_{D-1}$ are scalar weights."
   ]
  },
  {
   "cell_type": "code",
   "execution_count": 31,
   "metadata": {},
   "outputs": [
    {
     "data": {
      "text/plain": [
       "array([-1.2, -2.4])"
      ]
     },
     "execution_count": 31,
     "metadata": {},
     "output_type": "execute_result"
    }
   ],
   "source": [
    "# Look, here's the first column:\n",
    "A[:, 0]"
   ]
  },
  {
   "cell_type": "code",
   "execution_count": 32,
   "metadata": {},
   "outputs": [
    {
     "data": {
      "text/plain": [
       "array([-1.2, -2.4])"
      ]
     },
     "execution_count": 32,
     "metadata": {},
     "output_type": "execute_result"
    }
   ],
   "source": [
    "# And here's it being perfectly reconstructed by a scalar times the second column\n",
    "A[:, 1] * -1.2/4.7"
   ]
  },
  {
   "cell_type": "code",
   "execution_count": 33,
   "metadata": {},
   "outputs": [
    {
     "name": "stdout",
     "output_type": "stream",
     "text": [
      "[[ 1.  2. -3.]\n",
      " [ 2.  4. -6.]\n",
      " [ 1.  1.  1.]]\n",
      "<class 'numpy.linalg.LinAlgError'>: Singular matrix\n"
     ]
    }
   ],
   "source": [
    "# Example 3:\n",
    "A = np.asarray([[1.0, 2.0, -3.0], [2, 4, -6.0], [1.0, 1.0, 1.0]])\n",
    "print(A)\n",
    "try:\n",
    "    np.linalg.inv(A)\n",
    "except Exception as e:\n",
    "    print(str(type(e)) + \": \" + str(e))"
   ]
  },
  {
   "cell_type": "markdown",
   "metadata": {},
   "source": [
    "### Important result from linear algebra: Invertible Matrix Theorem\n",
    "\n",
    "\n",
    "Given a specific matrix $A$, the following statements are either *all* true or *all* false:\n",
    "\n",
    "* $A$ has an inverse (e.g. a matrix $A^{-1}$ exists s.t. $A A^{-1} = I$)\n",
    "* All $D$ columns of $A$ are linearly independent\n",
    "* The columns of $A$ span the space $\\mathbb{R}^D$\n",
    "* $A$ has a non-zero determinant\n",
    "\n",
    "For more implications, see the *Invertible Matrix Theorem*:\n",
    "\n",
    "<https://en.wikipedia.org/wiki/Invertible_matrix#Properties>"
   ]
  },
  {
   "cell_type": "markdown",
   "metadata": {},
   "source": [
    "<a id=\"part5\"></a>"
   ]
  },
  {
   "cell_type": "markdown",
   "metadata": {},
   "source": [
    "# Part 5: Is the numerical inverse reliable?\n",
    "\n",
    "Can we always trust the results of `np.linalg.inv`?\n",
    "\n",
    "Not really. Taking inverses is very tricky if the input matrix is not *very* well conditioned."
   ]
  },
  {
   "cell_type": "markdown",
   "metadata": {},
   "source": [
    "### A \"good\" example, where inverse works"
   ]
  },
  {
   "cell_type": "code",
   "execution_count": 34,
   "metadata": {},
   "outputs": [],
   "source": [
    "# 3 indep rows of size 3.\n",
    "x_NF = np.random.randn(3, 3)\n",
    "xTx_FF = np.dot(x_NF.T, x_NF)"
   ]
  },
  {
   "cell_type": "code",
   "execution_count": 35,
   "metadata": {},
   "outputs": [
    {
     "data": {
      "text/plain": [
       "array([[ 5.43270945, 12.90282235, -3.07602264],\n",
       "       [12.90282235, 32.54599487, -8.12515637],\n",
       "       [-3.07602264, -8.12515637,  2.41904465]])"
      ]
     },
     "execution_count": 35,
     "metadata": {},
     "output_type": "execute_result"
    }
   ],
   "source": [
    "np.linalg.inv(np.dot(x_NF.T, x_NF))"
   ]
  },
  {
   "cell_type": "code",
   "execution_count": 36,
   "metadata": {},
   "outputs": [
    {
     "name": "stdout",
     "output_type": "stream",
     "text": [
      "[[ 5.43270945 12.90282235 -3.07602264]\n",
      " [12.90282235 32.54599487 -8.12515637]\n",
      " [-3.07602264 -8.12515637  2.41904465]]\n"
     ]
    }
   ],
   "source": [
    "# First, verify the `inv` function computes *something* of the right shape\n",
    "\n",
    "inv_xTx_FF = np.linalg.inv(xTx_FF)\n",
    "print(inv_xTx_FF)"
   ]
  },
  {
   "cell_type": "code",
   "execution_count": 37,
   "metadata": {},
   "outputs": [
    {
     "name": "stdout",
     "output_type": "stream",
     "text": [
      "[[ 1.00000000e+00 -4.33114505e-16  3.73409184e-16]\n",
      " [ 3.94146478e-16  1.00000000e+00 -4.54028728e-16]\n",
      " [ 1.59364741e-16  8.07877021e-16  1.00000000e+00]]\n",
      "\n",
      "is this close enough to identity matrix? True\n"
     ]
    }
   ],
   "source": [
    "# Next, verify the `inv` function result is ACTUALLY the inverse\n",
    "\n",
    "ans_FF = np.dot(xTx_FF, inv_xTx_FF)\n",
    "\n",
    "print(ans_FF)\n",
    "print(\"\\nis this close enough to identity matrix? \" + str(\n",
    "    np.allclose(ans_FF, np.eye(3))))"
   ]
  },
  {
   "cell_type": "markdown",
   "metadata": {},
   "source": [
    "### A *bad* example, where `np.linalg.inv` may be unreliable"
   ]
  },
  {
   "cell_type": "code",
   "execution_count": 38,
   "metadata": {},
   "outputs": [],
   "source": [
    "# Only 2 indep rows of size 3. should NOT be invertible                      \n",
    "# verify: determinant is close to zero                              \n",
    "x_NF = np.random.randn(2, 3)  \n",
    "xTx_FF = np.dot(x_NF.T, x_NF)"
   ]
  },
  {
   "cell_type": "code",
   "execution_count": 39,
   "metadata": {},
   "outputs": [
    {
     "data": {
      "text/plain": [
       "array([[ 1.21324752, -0.03276769, -0.69721494],\n",
       "       [-0.03276769,  1.99197506, -0.99101908],\n",
       "       [-0.69721494, -0.99101908,  0.91284725]])"
      ]
     },
     "execution_count": 39,
     "metadata": {},
     "output_type": "execute_result"
    }
   ],
   "source": [
    "xTx_FF"
   ]
  },
  {
   "cell_type": "code",
   "execution_count": 40,
   "metadata": {},
   "outputs": [
    {
     "name": "stdout",
     "output_type": "stream",
     "text": [
      "[[5.11537121e+15 4.40955766e+15 8.69419178e+15]\n",
      " [4.40955766e+15 3.80113152e+15 7.49457632e+15]\n",
      " [8.69419178e+15 7.49457632e+15 1.47768300e+16]]\n"
     ]
    }
   ],
   "source": [
    "# First, verify the `inv` function computes *something* of the right shape\n",
    "\n",
    "inv_xTx_FF = np.linalg.inv(xTx_FF)\n",
    "print(inv_xTx_FF)"
   ]
  },
  {
   "cell_type": "code",
   "execution_count": 41,
   "metadata": {},
   "outputs": [
    {
     "name": "stdout",
     "output_type": "stream",
     "text": [
      "[[ 1.4520932   0.49807897 -0.24114104]\n",
      " [-0.20159063 -0.27703514 -1.15131685]\n",
      " [-1.53776313 -0.71804165 -0.59193815]]\n",
      "\n",
      "is this close enough to identity matrix? False\n"
     ]
    }
   ],
   "source": [
    "# Next, verify the `inv` function result is ACTUALLY the inverse\n",
    "\n",
    "ans_FF = np.dot(xTx_FF, inv_xTx_FF)\n",
    "\n",
    "print(ans_FF)\n",
    "print(\"\\nis this close enough to identity matrix? \" + str(\n",
    "    np.allclose(ans_FF, np.eye(3))))"
   ]
  },
  {
   "cell_type": "markdown",
   "metadata": {},
   "source": [
    "### What just happened?\n",
    "\n",
    "We just asked for an inverse.\n",
    "\n",
    "NumPy gave us a result that WAS NOT AN INVERSE, but we received NO WARNINGS OR ERRORS!\n",
    "\n",
    "So what should we do? Avoid naively calling `np.linalg.inv` and trusting the result. \n",
    "\n",
    "A better thing to do is use `np.linalg.solve`, as this will be more *stable* (trustworthy).\n",
    "\n",
    "<https://numpy.org/doc/stable/reference/generated/numpy.linalg.solve.html>"
   ]
  },
  {
   "cell_type": "markdown",
   "metadata": {},
   "source": [
    "What `np.linalg.solve(A, b)` does is that it uses DIFFERENT algorithm to directly return an answer to the question\n",
    "\n",
    "What vector $\\theta$ would be a valid solution to the equation\n",
    "\n",
    "$$\n",
    "A \\theta = b\n",
    "$$\n",
    "\n",
    "for some matrix $A$ and vector $b$\n",
    "\n",
    "So for our case, we are requesting a solution (a specific vector $\\theta$) to the equation\n",
    "\n",
    "$$\n",
    "\\tilde{X}^T \\tilde{X} \\theta = \\tilde{X}^T y\n",
    "$$"
   ]
  },
  {
   "cell_type": "markdown",
   "metadata": {},
   "source": [
    "<a id=\"part6\"></a>"
   ]
  },
  {
   "cell_type": "markdown",
   "metadata": {},
   "source": [
    "# Part 6: Returning to general case linear regression\n",
    "\n",
    "Construct a simple case with $N=2$ examples and $F=2$ features.\n",
    "\n",
    "For general linear regression, this is an UNDER-determined system (we have 3 unknowns, but only 2 examples).\n",
    "\n"
   ]
  },
  {
   "cell_type": "code",
   "execution_count": 70,
   "metadata": {},
   "outputs": [],
   "source": [
    "true_w_F1 = np.asarray([1.0, 1.0])[:,np.newaxis]\n",
    "true_b = np.asarray([0.0])"
   ]
  },
  {
   "cell_type": "code",
   "execution_count": 71,
   "metadata": {},
   "outputs": [
    {
     "name": "stdout",
     "output_type": "stream",
     "text": [
      "[[1.00145395 1.99803269]\n",
      " [1.00010652 0.99984927]]\n"
     ]
    }
   ],
   "source": [
    "x_NF = np.asarray([[1.0, 2.0], [1.0, 1.0]]) + np.random.randn(2,2) * 0.001\n",
    "print(x_NF)"
   ]
  },
  {
   "cell_type": "code",
   "execution_count": 72,
   "metadata": {},
   "outputs": [
    {
     "name": "stdout",
     "output_type": "stream",
     "text": [
      "[[2.99948664]\n",
      " [1.9999558 ]]\n"
     ]
    }
   ],
   "source": [
    "y_N1 = np.dot(x_NF, true_w_F1) + true_b\n",
    "print(y_N1)"
   ]
  },
  {
   "cell_type": "markdown",
   "metadata": {},
   "source": [
    "Punchline: there should be INFINITELY many weights $w$ and bias values $b$ that can reconstruct our $y$ **perfectly**\n",
    "\n",
    "Question: Can various estimation strategies find such weights?"
   ]
  },
  {
   "cell_type": "markdown",
   "metadata": {},
   "source": [
    "### Try out sklearn\n"
   ]
  },
  {
   "cell_type": "code",
   "execution_count": 73,
   "metadata": {},
   "outputs": [],
   "source": [
    "import sklearn.linear_model"
   ]
  },
  {
   "cell_type": "code",
   "execution_count": 74,
   "metadata": {},
   "outputs": [],
   "source": [
    "lr = sklearn.linear_model.LinearRegression()"
   ]
  },
  {
   "cell_type": "code",
   "execution_count": 75,
   "metadata": {},
   "outputs": [
    {
     "data": {
      "text/plain": [
       "LinearRegression()"
      ]
     },
     "execution_count": 75,
     "metadata": {},
     "output_type": "execute_result"
    }
   ],
   "source": [
    "lr.fit(x_NF, y_N1)"
   ]
  },
  {
   "cell_type": "markdown",
   "metadata": {},
   "source": [
    "Print the estimated weights $w$ and intercept $b$"
   ]
  },
  {
   "cell_type": "code",
   "execution_count": 76,
   "metadata": {},
   "outputs": [
    {
     "name": "stdout",
     "output_type": "stream",
     "text": [
      "[[0.0013517  1.00134805]]\n",
      "[0.99740683]\n"
     ]
    }
   ],
   "source": [
    "print(lr.coef_)\n",
    "print(lr.intercept_)"
   ]
  },
  {
   "cell_type": "markdown",
   "metadata": {},
   "source": [
    "Print the predicted values for $y$, alongside the *true* ones"
   ]
  },
  {
   "cell_type": "code",
   "execution_count": 77,
   "metadata": {},
   "outputs": [
    {
     "name": "stdout",
     "output_type": "stream",
     "text": [
      "Results for sklearn\n",
      "Predicted y: [2.99948664 1.9999558 ]\n",
      "True y:      [2.99948664 1.9999558 ]\n"
     ]
    }
   ],
   "source": [
    "print(\"Results for sklearn\")\n",
    "print(\"Predicted y: \" + str(np.squeeze(lr.predict(x_NF))))\n",
    "print(\"True y:      \" + str(np.squeeze(y_N1)))"
   ]
  },
  {
   "cell_type": "markdown",
   "metadata": {},
   "source": [
    "### Prep for our formulas: make the $\\tilde{\\mathbf{X}}$ array\n",
    "\n",
    "Will have shape $N \\times (F+1)$\n",
    "\n",
    "Let's define $G = F+1$"
   ]
  },
  {
   "cell_type": "code",
   "execution_count": 78,
   "metadata": {},
   "outputs": [
    {
     "name": "stdout",
     "output_type": "stream",
     "text": [
      "[[1.00145395 1.99803269 1.        ]\n",
      " [1.00010652 0.99984927 1.        ]]\n"
     ]
    }
   ],
   "source": [
    "xtilde_NG = np.hstack([x_NF, np.ones((2, 1))])\n",
    "print(xtilde_NG)"
   ]
  },
  {
   "cell_type": "code",
   "execution_count": 79,
   "metadata": {},
   "outputs": [],
   "source": [
    "xTx_GG = np.dot(xtilde_NG.T, xtilde_NG)"
   ]
  },
  {
   "cell_type": "markdown",
   "metadata": {},
   "source": [
    "### Try out using our least-squares formula, as implemented with `np.linalg.inv`"
   ]
  },
  {
   "cell_type": "code",
   "execution_count": 80,
   "metadata": {},
   "outputs": [],
   "source": [
    "inv_xTx_GG = np.linalg.inv(xTx_GG)\n",
    "theta_G1 = np.dot(inv_xTx_GG, np.dot(xtilde_NG.T, y_N1))"
   ]
  },
  {
   "cell_type": "markdown",
   "metadata": {},
   "source": [
    "Best estimate of the weights and bias (after \"unpacking\" the vector $\\theta$):"
   ]
  },
  {
   "cell_type": "code",
   "execution_count": 81,
   "metadata": {},
   "outputs": [
    {
     "name": "stdout",
     "output_type": "stream",
     "text": [
      "[0. 1.]\n",
      "[0.]\n"
     ]
    }
   ],
   "source": [
    "w_F = theta_G1[:-1, 0]\n",
    "b = theta_G1[-1]\n",
    "print(w_F)\n",
    "print(b)"
   ]
  },
  {
   "cell_type": "code",
   "execution_count": 82,
   "metadata": {},
   "outputs": [],
   "source": [
    "yhat_N1 = np.dot(xtilde_NG, theta_G1)"
   ]
  },
  {
   "cell_type": "code",
   "execution_count": 83,
   "metadata": {},
   "outputs": [
    {
     "name": "stdout",
     "output_type": "stream",
     "text": [
      "Results for using naive np.linalg.inv\n",
      "Predicted y: [1.99803269 0.99984927]\n",
      "True y:      [2.99948664 1.9999558 ]\n"
     ]
    }
   ],
   "source": [
    "print(\"Results for using naive np.linalg.inv\")\n",
    "print(\"Predicted y: \" + str(yhat_N1[:,0]))\n",
    "print(\"True y:      \" + str(y_N1[:,0]))"
   ]
  },
  {
   "cell_type": "markdown",
   "metadata": {},
   "source": [
    "Expected result: you should see that predictions might be *quite far* from true y values!"
   ]
  },
  {
   "cell_type": "markdown",
   "metadata": {},
   "source": [
    "### Try out using our formulas, as implemented with `np.linalg.solve`\n",
    "\n",
    "What should happen: We can find estimated parameters $w, b$ that perfectly predict the $y$"
   ]
  },
  {
   "cell_type": "code",
   "execution_count": 84,
   "metadata": {},
   "outputs": [],
   "source": [
    "theta_G1 = np.linalg.solve(xTx_GG, np.dot(xtilde_NG.T, y_N1))"
   ]
  },
  {
   "cell_type": "code",
   "execution_count": 85,
   "metadata": {},
   "outputs": [
    {
     "name": "stdout",
     "output_type": "stream",
     "text": [
      "[0.51859823 1.00064983]\n",
      "0.48080331139358556\n"
     ]
    }
   ],
   "source": [
    "w_F = theta_G1[:-1,0]\n",
    "b = theta_G1[-1,0]\n",
    "print(w_F)\n",
    "print(b)"
   ]
  },
  {
   "cell_type": "code",
   "execution_count": 86,
   "metadata": {},
   "outputs": [],
   "source": [
    "yhat_N1 = np.dot(xtilde_NG, theta_G1)"
   ]
  },
  {
   "cell_type": "code",
   "execution_count": 87,
   "metadata": {},
   "outputs": [
    {
     "name": "stdout",
     "output_type": "stream",
     "text": [
      "Results for using more stable formula implementation with np.linalg.solve\n",
      "Predicted y: [2.99948664 1.9999558 ]\n",
      "True y:      [2.99948664 1.9999558 ]\n"
     ]
    }
   ],
   "source": [
    "print(\"Results for using more stable formula implementation with np.linalg.solve\")\n",
    "print(\"Predicted y: \" + str(yhat_N1[:,0]))\n",
    "print(\"True y:      \" + str(y_N1[:,0]))"
   ]
  },
  {
   "cell_type": "code",
   "execution_count": null,
   "metadata": {},
   "outputs": [],
   "source": []
  },
  {
   "cell_type": "code",
   "execution_count": null,
   "metadata": {},
   "outputs": [],
   "source": []
  }
 ],
 "metadata": {
  "kernelspec": {
   "display_name": "Python 3",
   "language": "python",
   "name": "python3"
  },
  "language_info": {
   "codemirror_mode": {
    "name": "ipython",
    "version": 3
   },
   "file_extension": ".py",
   "mimetype": "text/x-python",
   "name": "python",
   "nbconvert_exporter": "python",
   "pygments_lexer": "ipython3",
   "version": "3.6.10"
  }
 },
 "nbformat": 4,
 "nbformat_minor": 4
}
