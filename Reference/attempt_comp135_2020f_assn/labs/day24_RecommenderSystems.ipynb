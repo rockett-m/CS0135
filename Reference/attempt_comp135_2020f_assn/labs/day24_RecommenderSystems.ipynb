{
 "cells": [
  {
   "cell_type": "markdown",
   "metadata": {},
   "source": [
    "# day24: Intro to MovieLens100k Dataset and Recommendation\n",
    "\n",
    "\n",
    "# Prerequisites\n",
    "\n",
    "Download the dataset and starter code associated with Project C:\n",
    "\n",
    "* Dataset CSV files: https://github.com/tufts-ml-courses/comp135-20f-assignments/tree/master/projectC/data_movie_lens_100k\n",
    "\n",
    "* Starter code files: https://github.com/tufts-ml-courses/comp135-20f-assignments/tree/master/projectC/\n",
    "\n",
    "# Objectives\n",
    "\n",
    "We will practice:\n",
    "\n",
    "* Understanding the MovieLens 100k dataset will will use in Project C\n",
    "* Getting a head start on Project C problem 1\n",
    "* Understanding the surprise Python package\n",
    "\n",
    "# Outline\n",
    "\n",
    "* [Part 1: Exploration of the dataset](#part1)\n",
    "* [Part 2: Using the provided starter code for Problem 1 of Proj C](#part2)\n",
    "* [Part 3: Using surprise for implementing latent matrix factorization models](#part3)\n",
    "\n",
    "\n",
    "# Takeaways\n",
    "\n",
    "* Start early on Project C!\n",
    "* Think carefully things like early stopping when you do SGD"
   ]
  },
  {
   "cell_type": "code",
   "execution_count": 1,
   "metadata": {},
   "outputs": [],
   "source": [
    "# Import numpy\n",
    "import numpy as np\n",
    "\n",
    "# Import pandas for data handling\n",
    "import pandas as pd"
   ]
  },
  {
   "cell_type": "code",
   "execution_count": 2,
   "metadata": {},
   "outputs": [],
   "source": [
    "import os"
   ]
  },
  {
   "cell_type": "code",
   "execution_count": 3,
   "metadata": {},
   "outputs": [],
   "source": [
    "# Import plotting libraries\n",
    "import matplotlib\n",
    "import matplotlib.pyplot as plt\n",
    "\n",
    "%matplotlib inline\n",
    "plt.style.use('seaborn') # pretty matplotlib plots\n",
    "\n",
    "import seaborn as sns\n",
    "sns.set('notebook', font_scale=1.25, style='whitegrid')"
   ]
  },
  {
   "cell_type": "markdown",
   "metadata": {},
   "source": [
    "# Import starter code"
   ]
  },
  {
   "cell_type": "code",
   "execution_count": 4,
   "metadata": {},
   "outputs": [],
   "source": [
    "import sys"
   ]
  },
  {
   "cell_type": "code",
   "execution_count": 5,
   "metadata": {},
   "outputs": [],
   "source": [
    "sys.path.append(\"../hw_src/projectC/src_starter\")"
   ]
  },
  {
   "cell_type": "code",
   "execution_count": 6,
   "metadata": {},
   "outputs": [],
   "source": [
    "from train_valid_test_loader import load_train_valid_test_datasets"
   ]
  },
  {
   "cell_type": "code",
   "execution_count": null,
   "metadata": {},
   "outputs": [],
   "source": []
  },
  {
   "cell_type": "markdown",
   "metadata": {},
   "source": [
    "# Part 1: Exploring the Movie Lens 100k dataset"
   ]
  },
  {
   "cell_type": "markdown",
   "metadata": {},
   "source": [
    "### How to import the dataset\n",
    "\n",
    "```\n",
    "Usage\n",
    "-----\n",
    ">>> train, valid, test, n_users, n_items = load_train_valid_test_datasets(\n",
    "...     data_path='/path/to/data_movie_lens_100k/')\n",
    ">>> n_users\n",
    "943\n",
    ">>> n_items\n",
    "1682\n",
    ">>> type(train)\n",
    "tuple\n",
    ">>> len(train)\n",
    "3\n",
    "```"
   ]
  },
  {
   "cell_type": "code",
   "execution_count": 7,
   "metadata": {},
   "outputs": [],
   "source": [
    "data_path = '../hw_src/projectC/data_movie_lens_100k/' # Path to where dataset csv files live on your system"
   ]
  },
  {
   "cell_type": "code",
   "execution_count": 8,
   "metadata": {},
   "outputs": [],
   "source": [
    "train_tuple, test_tuple, valid_tuple, n_users, n_items = load_train_valid_test_datasets(data_path=data_path)"
   ]
  },
  {
   "cell_type": "code",
   "execution_count": 9,
   "metadata": {},
   "outputs": [
    {
     "data": {
      "text/plain": [
       "tuple"
      ]
     },
     "execution_count": 9,
     "metadata": {},
     "output_type": "execute_result"
    }
   ],
   "source": [
    "type(train_tuple)"
   ]
  },
  {
   "cell_type": "code",
   "execution_count": 10,
   "metadata": {},
   "outputs": [
    {
     "data": {
      "text/plain": [
       "3"
      ]
     },
     "execution_count": 10,
     "metadata": {},
     "output_type": "execute_result"
    }
   ],
   "source": [
    "len(train_tuple)"
   ]
  },
  {
   "cell_type": "code",
   "execution_count": 11,
   "metadata": {},
   "outputs": [
    {
     "data": {
      "text/plain": [
       "943"
      ]
     },
     "execution_count": 11,
     "metadata": {},
     "output_type": "execute_result"
    }
   ],
   "source": [
    "n_users"
   ]
  },
  {
   "cell_type": "code",
   "execution_count": 12,
   "metadata": {},
   "outputs": [
    {
     "data": {
      "text/plain": [
       "1682"
      ]
     },
     "execution_count": 12,
     "metadata": {},
     "output_type": "execute_result"
    }
   ],
   "source": [
    "n_items"
   ]
  },
  {
   "cell_type": "markdown",
   "metadata": {},
   "source": [
    "### Structure of the dataset\n",
    "\n",
    "Each dataset *split* (train or valid or test) is represented as a *tuple* of 3 values:\n",
    "\n",
    "* a 1D array of user_ids\n",
    "* a 1D array of item_ids\n",
    "* a 1D array of ratings\n"
   ]
  },
  {
   "cell_type": "code",
   "execution_count": 13,
   "metadata": {},
   "outputs": [],
   "source": [
    "n_train_examples = len(train_tuple[0])\n",
    "N = n_train_examples\n",
    "\n",
    "# Unpack the tuple into its three contained arrays\n",
    "userids_tr_N = train_tuple[0]\n",
    "itemids_tr_N = train_tuple[1]\n",
    "ratings_tr_N = train_tuple[2]"
   ]
  },
  {
   "cell_type": "markdown",
   "metadata": {},
   "source": [
    "### Print first 5 values in each array\n",
    "\n",
    "We should see that:\n",
    "\n",
    "user 662 gave movie 761 a 5\n",
    "user 298 gave movie 90 a 4\n",
    "user 90 gave movie 349 a 4\n",
    "user 912 gave movie 917 a 4\n",
    "user 302 gave movie 42 a 3"
   ]
  },
  {
   "cell_type": "code",
   "execution_count": 14,
   "metadata": {},
   "outputs": [
    {
     "name": "stdout",
     "output_type": "stream",
     "text": [
      "[662 298  90 912 302]\n",
      "[761  90 349 917  42]\n",
      "[5 4 4 4 3]\n"
     ]
    }
   ],
   "source": [
    "print(userids_tr_N[:5])\n",
    "print(itemids_tr_N[:5])\n",
    "print(ratings_tr_N[:5])"
   ]
  },
  {
   "cell_type": "markdown",
   "metadata": {},
   "source": [
    "### Exercise 1a: How many examples are in each split (train/valid/test)?"
   ]
  },
  {
   "cell_type": "markdown",
   "metadata": {},
   "source": [
    "TODO write code"
   ]
  },
  {
   "cell_type": "markdown",
   "metadata": {},
   "source": [
    "### Exercise 1b: What is the *average* rating (on the 5 star scale) for each split (train/valid/test)?"
   ]
  },
  {
   "cell_type": "markdown",
   "metadata": {},
   "source": [
    "TODO write code"
   ]
  },
  {
   "cell_type": "markdown",
   "metadata": {},
   "source": [
    "### Load info about each movie"
   ]
  },
  {
   "cell_type": "code",
   "execution_count": 15,
   "metadata": {},
   "outputs": [],
   "source": [
    "movie_df = pd.read_csv(os.path.join(data_path, 'movie_info.csv'))"
   ]
  },
  {
   "cell_type": "code",
   "execution_count": 16,
   "metadata": {},
   "outputs": [
    {
     "data": {
      "text/plain": [
       "(1681, 4)"
      ]
     },
     "execution_count": 16,
     "metadata": {},
     "output_type": "execute_result"
    }
   ],
   "source": [
    "movie_df.shape"
   ]
  },
  {
   "cell_type": "code",
   "execution_count": 17,
   "metadata": {},
   "outputs": [
    {
     "data": {
      "text/html": [
       "<div>\n",
       "<style scoped>\n",
       "    .dataframe tbody tr th:only-of-type {\n",
       "        vertical-align: middle;\n",
       "    }\n",
       "\n",
       "    .dataframe tbody tr th {\n",
       "        vertical-align: top;\n",
       "    }\n",
       "\n",
       "    .dataframe thead th {\n",
       "        text-align: right;\n",
       "    }\n",
       "</style>\n",
       "<table border=\"1\" class=\"dataframe\">\n",
       "  <thead>\n",
       "    <tr style=\"text-align: right;\">\n",
       "      <th></th>\n",
       "      <th>item_id</th>\n",
       "      <th>title</th>\n",
       "      <th>release_year</th>\n",
       "      <th>orig_item_id</th>\n",
       "    </tr>\n",
       "  </thead>\n",
       "  <tbody>\n",
       "    <tr>\n",
       "      <th>0</th>\n",
       "      <td>0</td>\n",
       "      <td>Toy Story (1995)</td>\n",
       "      <td>1995</td>\n",
       "      <td>1</td>\n",
       "    </tr>\n",
       "    <tr>\n",
       "      <th>1</th>\n",
       "      <td>1</td>\n",
       "      <td>GoldenEye (1995)</td>\n",
       "      <td>1995</td>\n",
       "      <td>2</td>\n",
       "    </tr>\n",
       "    <tr>\n",
       "      <th>2</th>\n",
       "      <td>2</td>\n",
       "      <td>Four Rooms (1995)</td>\n",
       "      <td>1995</td>\n",
       "      <td>3</td>\n",
       "    </tr>\n",
       "    <tr>\n",
       "      <th>3</th>\n",
       "      <td>3</td>\n",
       "      <td>Get Shorty (1995)</td>\n",
       "      <td>1995</td>\n",
       "      <td>4</td>\n",
       "    </tr>\n",
       "    <tr>\n",
       "      <th>4</th>\n",
       "      <td>4</td>\n",
       "      <td>Copycat (1995)</td>\n",
       "      <td>1995</td>\n",
       "      <td>5</td>\n",
       "    </tr>\n",
       "  </tbody>\n",
       "</table>\n",
       "</div>"
      ],
      "text/plain": [
       "   item_id              title  release_year  orig_item_id\n",
       "0        0   Toy Story (1995)          1995             1\n",
       "1        1   GoldenEye (1995)          1995             2\n",
       "2        2  Four Rooms (1995)          1995             3\n",
       "3        3  Get Shorty (1995)          1995             4\n",
       "4        4     Copycat (1995)          1995             5"
      ]
     },
     "execution_count": 17,
     "metadata": {},
     "output_type": "execute_result"
    }
   ],
   "source": [
    "movie_df.head()"
   ]
  },
  {
   "cell_type": "code",
   "execution_count": 18,
   "metadata": {},
   "outputs": [
    {
     "data": {
      "text/html": [
       "<div>\n",
       "<style scoped>\n",
       "    .dataframe tbody tr th:only-of-type {\n",
       "        vertical-align: middle;\n",
       "    }\n",
       "\n",
       "    .dataframe tbody tr th {\n",
       "        vertical-align: top;\n",
       "    }\n",
       "\n",
       "    .dataframe thead th {\n",
       "        text-align: right;\n",
       "    }\n",
       "</style>\n",
       "<table border=\"1\" class=\"dataframe\">\n",
       "  <thead>\n",
       "    <tr style=\"text-align: right;\">\n",
       "      <th></th>\n",
       "      <th>item_id</th>\n",
       "      <th>title</th>\n",
       "      <th>release_year</th>\n",
       "      <th>orig_item_id</th>\n",
       "    </tr>\n",
       "  </thead>\n",
       "  <tbody>\n",
       "    <tr>\n",
       "      <th>1676</th>\n",
       "      <td>1676</td>\n",
       "      <td>Mat' i syn (1997)</td>\n",
       "      <td>1998</td>\n",
       "      <td>1678</td>\n",
       "    </tr>\n",
       "    <tr>\n",
       "      <th>1677</th>\n",
       "      <td>1677</td>\n",
       "      <td>B. Monkey (1998)</td>\n",
       "      <td>1998</td>\n",
       "      <td>1679</td>\n",
       "    </tr>\n",
       "    <tr>\n",
       "      <th>1678</th>\n",
       "      <td>1678</td>\n",
       "      <td>Sliding Doors (1998)</td>\n",
       "      <td>1998</td>\n",
       "      <td>1680</td>\n",
       "    </tr>\n",
       "    <tr>\n",
       "      <th>1679</th>\n",
       "      <td>1679</td>\n",
       "      <td>You So Crazy (1994)</td>\n",
       "      <td>1994</td>\n",
       "      <td>1681</td>\n",
       "    </tr>\n",
       "    <tr>\n",
       "      <th>1680</th>\n",
       "      <td>1680</td>\n",
       "      <td>Scream of Stone (Schrei aus Stein) (1991)</td>\n",
       "      <td>1996</td>\n",
       "      <td>1682</td>\n",
       "    </tr>\n",
       "  </tbody>\n",
       "</table>\n",
       "</div>"
      ],
      "text/plain": [
       "      item_id                                      title  release_year  \\\n",
       "1676     1676                          Mat' i syn (1997)          1998   \n",
       "1677     1677                           B. Monkey (1998)          1998   \n",
       "1678     1678                       Sliding Doors (1998)          1998   \n",
       "1679     1679                        You So Crazy (1994)          1994   \n",
       "1680     1680  Scream of Stone (Schrei aus Stein) (1991)          1996   \n",
       "\n",
       "      orig_item_id  \n",
       "1676          1678  \n",
       "1677          1679  \n",
       "1678          1680  \n",
       "1679          1681  \n",
       "1680          1682  "
      ]
     },
     "execution_count": 18,
     "metadata": {},
     "output_type": "execute_result"
    }
   ],
   "source": [
    "movie_df.tail()"
   ]
  },
  {
   "cell_type": "markdown",
   "metadata": {},
   "source": [
    "### Worked Example 1c: How many movies are *never* rated in the training set? What are they?"
   ]
  },
  {
   "cell_type": "code",
   "execution_count": 19,
   "metadata": {},
   "outputs": [],
   "source": [
    "M = n_items"
   ]
  },
  {
   "cell_type": "code",
   "execution_count": 20,
   "metadata": {},
   "outputs": [],
   "source": [
    "count_per_movie_M = np.zeros(M)\n",
    "\n",
    "# Loop over all movie ids, count how often they appear in dataset\n",
    "for m in range(M):\n",
    "    count_per_movie_M[m] = np.sum(itemids_tr_N == m)"
   ]
  },
  {
   "cell_type": "code",
   "execution_count": 21,
   "metadata": {},
   "outputs": [],
   "source": [
    "zero_count_movie_ids = np.flatnonzero(count_per_movie_M == 0)"
   ]
  },
  {
   "cell_type": "code",
   "execution_count": 22,
   "metadata": {},
   "outputs": [
    {
     "data": {
      "text/plain": [
       "array([ 709,  850, 1233, 1288, 1307, 1308, 1318, 1321, 1327, 1329, 1340,\n",
       "       1341, 1350, 1372, 1450, 1459, 1484, 1505, 1508, 1513, 1517, 1541,\n",
       "       1549, 1559, 1561, 1562, 1568, 1572, 1574, 1576, 1582, 1584, 1594,\n",
       "       1599, 1601, 1604, 1609, 1612, 1616, 1617, 1630, 1632, 1635, 1644,\n",
       "       1645, 1646, 1649, 1652, 1653, 1664, 1673, 1674, 1675, 1677, 1680,\n",
       "       1681])"
      ]
     },
     "execution_count": 22,
     "metadata": {},
     "output_type": "execute_result"
    }
   ],
   "source": [
    "zero_count_movie_ids"
   ]
  },
  {
   "cell_type": "code",
   "execution_count": 23,
   "metadata": {},
   "outputs": [
    {
     "data": {
      "text/plain": [
       "56"
      ]
     },
     "execution_count": 23,
     "metadata": {},
     "output_type": "execute_result"
    }
   ],
   "source": [
    "len(zero_count_movie_ids)"
   ]
  },
  {
   "cell_type": "code",
   "execution_count": 24,
   "metadata": {},
   "outputs": [
    {
     "data": {
      "text/html": [
       "<div>\n",
       "<style scoped>\n",
       "    .dataframe tbody tr th:only-of-type {\n",
       "        vertical-align: middle;\n",
       "    }\n",
       "\n",
       "    .dataframe tbody tr th {\n",
       "        vertical-align: top;\n",
       "    }\n",
       "\n",
       "    .dataframe thead th {\n",
       "        text-align: right;\n",
       "    }\n",
       "</style>\n",
       "<table border=\"1\" class=\"dataframe\">\n",
       "  <thead>\n",
       "    <tr style=\"text-align: right;\">\n",
       "      <th></th>\n",
       "      <th>item_id</th>\n",
       "      <th>title</th>\n",
       "      <th>release_year</th>\n",
       "      <th>orig_item_id</th>\n",
       "    </tr>\n",
       "  </thead>\n",
       "  <tbody>\n",
       "    <tr>\n",
       "      <th>709</th>\n",
       "      <td>709</td>\n",
       "      <td>Substance of Fire, The (1996)</td>\n",
       "      <td>1996</td>\n",
       "      <td>711</td>\n",
       "    </tr>\n",
       "    <tr>\n",
       "      <th>850</th>\n",
       "      <td>850</td>\n",
       "      <td>Bloody Child, The (1996)</td>\n",
       "      <td>1996</td>\n",
       "      <td>852</td>\n",
       "    </tr>\n",
       "    <tr>\n",
       "      <th>1233</th>\n",
       "      <td>1233</td>\n",
       "      <td>Big Bang Theory, The (1994)</td>\n",
       "      <td>1994</td>\n",
       "      <td>1235</td>\n",
       "    </tr>\n",
       "    <tr>\n",
       "      <th>1288</th>\n",
       "      <td>1288</td>\n",
       "      <td>Country Life (1994)</td>\n",
       "      <td>1994</td>\n",
       "      <td>1290</td>\n",
       "    </tr>\n",
       "    <tr>\n",
       "      <th>1307</th>\n",
       "      <td>1307</td>\n",
       "      <td>Very Natural Thing, A (1974)</td>\n",
       "      <td>1974</td>\n",
       "      <td>1309</td>\n",
       "    </tr>\n",
       "  </tbody>\n",
       "</table>\n",
       "</div>"
      ],
      "text/plain": [
       "      item_id                          title  release_year  orig_item_id\n",
       "709       709  Substance of Fire, The (1996)          1996           711\n",
       "850       850       Bloody Child, The (1996)          1996           852\n",
       "1233     1233    Big Bang Theory, The (1994)          1994          1235\n",
       "1288     1288            Country Life (1994)          1994          1290\n",
       "1307     1307   Very Natural Thing, A (1974)          1974          1309"
      ]
     },
     "execution_count": 24,
     "metadata": {},
     "output_type": "execute_result"
    }
   ],
   "source": [
    "movie_df.loc[zero_count_movie_ids[:10]].head(5) # First 5 movies that were never rated in training set"
   ]
  },
  {
   "cell_type": "markdown",
   "metadata": {},
   "source": [
    "### Exercise 1d: Which movie occurs *most often* in the training set?"
   ]
  },
  {
   "cell_type": "markdown",
   "metadata": {},
   "source": [
    "TODO write code to solve"
   ]
  },
  {
   "cell_type": "markdown",
   "metadata": {},
   "source": [
    "### Exercise 1e: What is the average (mean) rating of Toy Story in the training set?"
   ]
  },
  {
   "cell_type": "markdown",
   "metadata": {},
   "source": [
    "TODO write code to solve"
   ]
  },
  {
   "cell_type": "markdown",
   "metadata": {},
   "source": [
    "### Load info about each user"
   ]
  },
  {
   "cell_type": "code",
   "execution_count": 25,
   "metadata": {},
   "outputs": [],
   "source": [
    "user_df = pd.read_csv(os.path.join(data_path, 'user_info.csv'))"
   ]
  },
  {
   "cell_type": "code",
   "execution_count": 26,
   "metadata": {},
   "outputs": [
    {
     "data": {
      "text/plain": [
       "(943, 4)"
      ]
     },
     "execution_count": 26,
     "metadata": {},
     "output_type": "execute_result"
    }
   ],
   "source": [
    "user_df.shape"
   ]
  },
  {
   "cell_type": "code",
   "execution_count": 27,
   "metadata": {},
   "outputs": [
    {
     "data": {
      "text/plain": [
       "943"
      ]
     },
     "execution_count": 27,
     "metadata": {},
     "output_type": "execute_result"
    }
   ],
   "source": [
    "n_users"
   ]
  },
  {
   "cell_type": "markdown",
   "metadata": {},
   "source": [
    "Print first 5 rows of the user id Data Frame"
   ]
  },
  {
   "cell_type": "code",
   "execution_count": 28,
   "metadata": {},
   "outputs": [
    {
     "data": {
      "text/html": [
       "<div>\n",
       "<style scoped>\n",
       "    .dataframe tbody tr th:only-of-type {\n",
       "        vertical-align: middle;\n",
       "    }\n",
       "\n",
       "    .dataframe tbody tr th {\n",
       "        vertical-align: top;\n",
       "    }\n",
       "\n",
       "    .dataframe thead th {\n",
       "        text-align: right;\n",
       "    }\n",
       "</style>\n",
       "<table border=\"1\" class=\"dataframe\">\n",
       "  <thead>\n",
       "    <tr style=\"text-align: right;\">\n",
       "      <th></th>\n",
       "      <th>user_id</th>\n",
       "      <th>age</th>\n",
       "      <th>is_male</th>\n",
       "      <th>orig_user_id</th>\n",
       "    </tr>\n",
       "  </thead>\n",
       "  <tbody>\n",
       "    <tr>\n",
       "      <th>0</th>\n",
       "      <td>0</td>\n",
       "      <td>24</td>\n",
       "      <td>1</td>\n",
       "      <td>1</td>\n",
       "    </tr>\n",
       "    <tr>\n",
       "      <th>1</th>\n",
       "      <td>1</td>\n",
       "      <td>53</td>\n",
       "      <td>0</td>\n",
       "      <td>2</td>\n",
       "    </tr>\n",
       "    <tr>\n",
       "      <th>2</th>\n",
       "      <td>2</td>\n",
       "      <td>23</td>\n",
       "      <td>1</td>\n",
       "      <td>3</td>\n",
       "    </tr>\n",
       "    <tr>\n",
       "      <th>3</th>\n",
       "      <td>3</td>\n",
       "      <td>24</td>\n",
       "      <td>1</td>\n",
       "      <td>4</td>\n",
       "    </tr>\n",
       "    <tr>\n",
       "      <th>4</th>\n",
       "      <td>4</td>\n",
       "      <td>33</td>\n",
       "      <td>0</td>\n",
       "      <td>5</td>\n",
       "    </tr>\n",
       "  </tbody>\n",
       "</table>\n",
       "</div>"
      ],
      "text/plain": [
       "   user_id  age  is_male  orig_user_id\n",
       "0        0   24        1             1\n",
       "1        1   53        0             2\n",
       "2        2   23        1             3\n",
       "3        3   24        1             4\n",
       "4        4   33        0             5"
      ]
     },
     "execution_count": 28,
     "metadata": {},
     "output_type": "execute_result"
    }
   ],
   "source": [
    "user_df.head()"
   ]
  },
  {
   "cell_type": "markdown",
   "metadata": {},
   "source": [
    "### Exercise 1f: What is the average age of the users in our dataset?"
   ]
  },
  {
   "cell_type": "markdown",
   "metadata": {},
   "source": [
    "TODO solve code to do this"
   ]
  },
  {
   "cell_type": "markdown",
   "metadata": {},
   "source": [
    "### Load info about select handful of movies"
   ]
  },
  {
   "cell_type": "code",
   "execution_count": 29,
   "metadata": {},
   "outputs": [],
   "source": [
    "select_movies_df = pd.read_csv(os.path.join(data_path, 'select_movies.csv'))"
   ]
  },
  {
   "cell_type": "code",
   "execution_count": 30,
   "metadata": {},
   "outputs": [
    {
     "data": {
      "text/html": [
       "<div>\n",
       "<style scoped>\n",
       "    .dataframe tbody tr th:only-of-type {\n",
       "        vertical-align: middle;\n",
       "    }\n",
       "\n",
       "    .dataframe tbody tr th {\n",
       "        vertical-align: top;\n",
       "    }\n",
       "\n",
       "    .dataframe thead th {\n",
       "        text-align: right;\n",
       "    }\n",
       "</style>\n",
       "<table border=\"1\" class=\"dataframe\">\n",
       "  <thead>\n",
       "    <tr style=\"text-align: right;\">\n",
       "      <th></th>\n",
       "      <th>item_id</th>\n",
       "      <th>title</th>\n",
       "      <th>release_year</th>\n",
       "      <th>orig_item_id</th>\n",
       "    </tr>\n",
       "  </thead>\n",
       "  <tbody>\n",
       "    <tr>\n",
       "      <th>0</th>\n",
       "      <td>0</td>\n",
       "      <td>Toy Story (1995)</td>\n",
       "      <td>1995</td>\n",
       "      <td>1</td>\n",
       "    </tr>\n",
       "    <tr>\n",
       "      <th>1</th>\n",
       "      <td>70</td>\n",
       "      <td>Lion King, The (1994)</td>\n",
       "      <td>1994</td>\n",
       "      <td>71</td>\n",
       "    </tr>\n",
       "    <tr>\n",
       "      <th>2</th>\n",
       "      <td>98</td>\n",
       "      <td>Snow White and the Seven Dwarfs (1937)</td>\n",
       "      <td>1937</td>\n",
       "      <td>99</td>\n",
       "    </tr>\n",
       "    <tr>\n",
       "      <th>3</th>\n",
       "      <td>131</td>\n",
       "      <td>Wizard of Oz, The (1939)</td>\n",
       "      <td>1939</td>\n",
       "      <td>132</td>\n",
       "    </tr>\n",
       "    <tr>\n",
       "      <th>4</th>\n",
       "      <td>142</td>\n",
       "      <td>Sound of Music, The (1965)</td>\n",
       "      <td>1965</td>\n",
       "      <td>143</td>\n",
       "    </tr>\n",
       "    <tr>\n",
       "      <th>5</th>\n",
       "      <td>49</td>\n",
       "      <td>Star Wars (1977)</td>\n",
       "      <td>1977</td>\n",
       "      <td>50</td>\n",
       "    </tr>\n",
       "    <tr>\n",
       "      <th>6</th>\n",
       "      <td>171</td>\n",
       "      <td>Empire Strikes Back, The (1980)</td>\n",
       "      <td>1980</td>\n",
       "      <td>172</td>\n",
       "    </tr>\n",
       "    <tr>\n",
       "      <th>7</th>\n",
       "      <td>180</td>\n",
       "      <td>Return of the Jedi (1983)</td>\n",
       "      <td>1997</td>\n",
       "      <td>181</td>\n",
       "    </tr>\n",
       "    <tr>\n",
       "      <th>8</th>\n",
       "      <td>81</td>\n",
       "      <td>Jurassic Park (1993)</td>\n",
       "      <td>1993</td>\n",
       "      <td>82</td>\n",
       "    </tr>\n",
       "    <tr>\n",
       "      <th>9</th>\n",
       "      <td>251</td>\n",
       "      <td>Lost World: Jurassic Park, The (1997)</td>\n",
       "      <td>1997</td>\n",
       "      <td>252</td>\n",
       "    </tr>\n",
       "    <tr>\n",
       "      <th>10</th>\n",
       "      <td>173</td>\n",
       "      <td>Raiders of the Lost Ark (1981)</td>\n",
       "      <td>1981</td>\n",
       "      <td>174</td>\n",
       "    </tr>\n",
       "    <tr>\n",
       "      <th>11</th>\n",
       "      <td>209</td>\n",
       "      <td>Indiana Jones and the Last Crusade (1989)</td>\n",
       "      <td>1989</td>\n",
       "      <td>210</td>\n",
       "    </tr>\n",
       "    <tr>\n",
       "      <th>12</th>\n",
       "      <td>65</td>\n",
       "      <td>While You Were Sleeping (1995)</td>\n",
       "      <td>1995</td>\n",
       "      <td>66</td>\n",
       "    </tr>\n",
       "    <tr>\n",
       "      <th>13</th>\n",
       "      <td>87</td>\n",
       "      <td>Sleepless in Seattle (1993)</td>\n",
       "      <td>1993</td>\n",
       "      <td>88</td>\n",
       "    </tr>\n",
       "    <tr>\n",
       "      <th>14</th>\n",
       "      <td>254</td>\n",
       "      <td>My Best Friend's Wedding (1997)</td>\n",
       "      <td>1997</td>\n",
       "      <td>255</td>\n",
       "    </tr>\n",
       "    <tr>\n",
       "      <th>15</th>\n",
       "      <td>90</td>\n",
       "      <td>Nightmare Before Christmas, The (1993)</td>\n",
       "      <td>1993</td>\n",
       "      <td>91</td>\n",
       "    </tr>\n",
       "    <tr>\n",
       "      <th>16</th>\n",
       "      <td>199</td>\n",
       "      <td>Shining, The (1980)</td>\n",
       "      <td>1980</td>\n",
       "      <td>200</td>\n",
       "    </tr>\n",
       "    <tr>\n",
       "      <th>17</th>\n",
       "      <td>218</td>\n",
       "      <td>Nightmare on Elm Street, A (1984)</td>\n",
       "      <td>1984</td>\n",
       "      <td>219</td>\n",
       "    </tr>\n",
       "    <tr>\n",
       "      <th>18</th>\n",
       "      <td>286</td>\n",
       "      <td>Scream (1996)</td>\n",
       "      <td>1996</td>\n",
       "      <td>288</td>\n",
       "    </tr>\n",
       "    <tr>\n",
       "      <th>19</th>\n",
       "      <td>893</td>\n",
       "      <td>Scream 2 (1997)</td>\n",
       "      <td>1997</td>\n",
       "      <td>895</td>\n",
       "    </tr>\n",
       "  </tbody>\n",
       "</table>\n",
       "</div>"
      ],
      "text/plain": [
       "    item_id                                      title  release_year  \\\n",
       "0         0                           Toy Story (1995)          1995   \n",
       "1        70                      Lion King, The (1994)          1994   \n",
       "2        98     Snow White and the Seven Dwarfs (1937)          1937   \n",
       "3       131                   Wizard of Oz, The (1939)          1939   \n",
       "4       142                 Sound of Music, The (1965)          1965   \n",
       "5        49                           Star Wars (1977)          1977   \n",
       "6       171            Empire Strikes Back, The (1980)          1980   \n",
       "7       180                  Return of the Jedi (1983)          1997   \n",
       "8        81                       Jurassic Park (1993)          1993   \n",
       "9       251      Lost World: Jurassic Park, The (1997)          1997   \n",
       "10      173             Raiders of the Lost Ark (1981)          1981   \n",
       "11      209  Indiana Jones and the Last Crusade (1989)          1989   \n",
       "12       65             While You Were Sleeping (1995)          1995   \n",
       "13       87                Sleepless in Seattle (1993)          1993   \n",
       "14      254            My Best Friend's Wedding (1997)          1997   \n",
       "15       90     Nightmare Before Christmas, The (1993)          1993   \n",
       "16      199                        Shining, The (1980)          1980   \n",
       "17      218          Nightmare on Elm Street, A (1984)          1984   \n",
       "18      286                              Scream (1996)          1996   \n",
       "19      893                            Scream 2 (1997)          1997   \n",
       "\n",
       "    orig_item_id  \n",
       "0              1  \n",
       "1             71  \n",
       "2             99  \n",
       "3            132  \n",
       "4            143  \n",
       "5             50  \n",
       "6            172  \n",
       "7            181  \n",
       "8             82  \n",
       "9            252  \n",
       "10           174  \n",
       "11           210  \n",
       "12            66  \n",
       "13            88  \n",
       "14           255  \n",
       "15            91  \n",
       "16           200  \n",
       "17           219  \n",
       "18           288  \n",
       "19           895  "
      ]
     },
     "execution_count": 30,
     "metadata": {},
     "output_type": "execute_result"
    }
   ],
   "source": [
    "select_movies_df"
   ]
  },
  {
   "cell_type": "code",
   "execution_count": null,
   "metadata": {},
   "outputs": [],
   "source": []
  },
  {
   "cell_type": "markdown",
   "metadata": {},
   "source": [
    "# Part 2: Head start on Project C Problem 1"
   ]
  },
  {
   "cell_type": "markdown",
   "metadata": {},
   "source": [
    "### Discussion 2a: Do you understand what Problem 1 is asking you to do? Work with your group to understand it.\n",
    "\n",
    "Go read the prompt for Problem 1 (if you haven't already)\n",
    "\n",
    "Link: https://www.cs.tufts.edu/comp/135/2020f/projectC.html#problem1"
   ]
  },
  {
   "cell_type": "markdown",
   "metadata": {},
   "source": [
    "### Discussion 2b: Do you understand how the starter code works?\n",
    "\n",
    "Go read through the CollabFilterMeanOnly class\n",
    "\n",
    "Link: https://github.com/tufts-ml-courses/comp135-20f-assignments/blob/master/projectC/CollabFilterMeanOnly.py\n",
    "\n",
    "This class defines 3 key methods:\n",
    "\n",
    "* `init_parameter_dict` THIS IS PROVIDED FOR YOU\n",
    "* `predict` YOU WILL COMPLETE THIS\n",
    "* `calc_loss_wrt_parameter_dict` YOU WILL COMPLETE THIS\n",
    "\n",
    "It inherits 2 other key methods from AbstractBaseClassSGD:\n",
    "\n",
    "* `__init__` the constructor\n",
    "* `fit` : which fits the model to provided dataset via SGD\n",
    "\n",
    "#### Docstring of the CollabFilterMeanOnly class:\n",
    "\n",
    "```\n",
    "Simple baseline recommendation model.\n",
    "\n",
    "Always predicts same scalar no matter what user/movie.\n",
    "\n",
    "Attributes required in param_dict\n",
    "---------------------------------\n",
    "mu : 1D array of size (1,)\n",
    "\n",
    "Notes\n",
    "-----\n",
    "Inherits *__init__** constructor from AbstractBaseCollabFilterSGD.\n",
    "Inherits *fit* method from AbstractBaseCollabFilterSGD.\n",
    "Init docstring:\n",
    "Construct instance and set its attributes\n",
    "\n",
    "Args\n",
    "----\n",
    "step_size  : float\n",
    "    Step size / learning rate used in each gradient descent step.\n",
    "n_epochs : int\n",
    "    Total number of epochs (complete passes thru provided training set)\n",
    "    to complete during a call to fit. \n",
    "batch_size : int\n",
    "    Number of rating examples to process in each 'batch' or 'minibatch'\n",
    "    of stochastic gradient descent. \n",
    "\n",
    "Returns\n",
    "-------\n",
    "New instance of this class\n",
    "```"
   ]
  },
  {
   "cell_type": "markdown",
   "metadata": {},
   "source": [
    "### Import the starter code from problem 1"
   ]
  },
  {
   "cell_type": "code",
   "execution_count": 31,
   "metadata": {},
   "outputs": [],
   "source": [
    "from CollabFilterMeanOnly import CollabFilterMeanOnly"
   ]
  },
  {
   "cell_type": "markdown",
   "metadata": {},
   "source": [
    "### Create an instance of Model 1 (M1)"
   ]
  },
  {
   "cell_type": "code",
   "execution_count": 32,
   "metadata": {},
   "outputs": [],
   "source": [
    "# Create the model\n",
    "model = CollabFilterMeanOnly(\n",
    "    n_epochs=6, batch_size=10000, step_size=0.1)"
   ]
  },
  {
   "cell_type": "code",
   "execution_count": 33,
   "metadata": {},
   "outputs": [
    {
     "data": {
      "text/plain": [
       "False"
      ]
     },
     "execution_count": 33,
     "metadata": {},
     "output_type": "execute_result"
    }
   ],
   "source": [
    "# We only just constructed this model\n",
    "# We don't yet have initialized parameters yet\n",
    "hasattr(model, 'param_dict')"
   ]
  },
  {
   "cell_type": "markdown",
   "metadata": {},
   "source": [
    "### Initialize the parameters of our M1 to all zeros"
   ]
  },
  {
   "cell_type": "code",
   "execution_count": 34,
   "metadata": {},
   "outputs": [],
   "source": [
    "model.init_parameter_dict(n_users, n_items, train_tuple)"
   ]
  },
  {
   "cell_type": "code",
   "execution_count": 35,
   "metadata": {},
   "outputs": [
    {
     "data": {
      "text/plain": [
       "True"
      ]
     },
     "execution_count": 35,
     "metadata": {},
     "output_type": "execute_result"
    }
   ],
   "source": [
    "hasattr(model, 'param_dict')"
   ]
  },
  {
   "cell_type": "code",
   "execution_count": 36,
   "metadata": {},
   "outputs": [
    {
     "data": {
      "text/plain": [
       "{'mu': array([0.])}"
      ]
     },
     "execution_count": 36,
     "metadata": {},
     "output_type": "execute_result"
    }
   ],
   "source": [
    "model.param_dict"
   ]
  },
  {
   "cell_type": "markdown",
   "metadata": {},
   "source": [
    "### Call fit to run SGD training\n",
    "\n",
    "We are intentionally calling this with out-of-the-box starter code.\n",
    "\n",
    "It should just show several steps of SGD that do not change the parameters\n",
    "\n",
    "We *expect* this will yield the warning \"Output seems independent of input.\", because the loss function is set to zero always in the starter code. If you fix the loss, this warning will go away."
   ]
  },
  {
   "cell_type": "code",
   "execution_count": 37,
   "metadata": {},
   "outputs": [
    {
     "name": "stdout",
     "output_type": "stream",
     "text": [
      "epoch       0.000 | loss_total     0.00000 | train_MAE     2.53059 | valid_MAE     2.50620 | grad_wrt_mu     0.00000\n",
      "epoch       0.143 | loss_total     0.00000 | train_MAE     2.53059 | valid_MAE     2.50620 | grad_wrt_mu     0.00000\n",
      "epoch       0.286 | loss_total     0.00000 | train_MAE     2.53059 | valid_MAE     2.50620 | grad_wrt_mu     0.00000\n",
      "epoch       0.429 | loss_total     0.00000 | train_MAE     2.53059 | valid_MAE     2.50620 | grad_wrt_mu     0.00000\n",
      "epoch       0.571 | loss_total     0.00000 | train_MAE     2.53059 | valid_MAE     2.50620 | grad_wrt_mu     0.00000\n",
      "epoch       0.714 | loss_total     0.00000 | train_MAE     2.53059 | valid_MAE     2.50620 | grad_wrt_mu     0.00000\n",
      "epoch       0.857 | loss_total     0.00000 | train_MAE     2.53059 | valid_MAE     2.50620 | grad_wrt_mu     0.00000\n",
      "epoch       1.000 | loss_total     0.00000 | train_MAE     2.53059 | valid_MAE     2.50620 | grad_wrt_mu     0.00000\n",
      "epoch       1.143 | loss_total     0.00000 | train_MAE     2.53059 | valid_MAE     2.50620 | grad_wrt_mu     0.00000\n",
      "epoch       1.286 | loss_total     0.00000 | train_MAE     2.53059 | valid_MAE     2.50620 | grad_wrt_mu     0.00000\n",
      "epoch       1.429 | loss_total     0.00000 | train_MAE     2.53059 | valid_MAE     2.50620 | grad_wrt_mu     0.00000\n",
      "epoch       1.571 | loss_total     0.00000 | train_MAE     2.53059 | valid_MAE     2.50620 | grad_wrt_mu     0.00000\n",
      "epoch       1.714 | loss_total     0.00000 | train_MAE     2.53059 | valid_MAE     2.50620 | grad_wrt_mu     0.00000\n",
      "epoch       1.857 | loss_total     0.00000 | train_MAE     2.53059 | valid_MAE     2.50620 | grad_wrt_mu     0.00000\n",
      "epoch       2.000 | loss_total     0.00000 | train_MAE     2.53059 | valid_MAE     2.50620 | grad_wrt_mu     0.00000\n",
      "epoch       2.571 | loss_total     0.00000 | train_MAE     2.53059 | valid_MAE     2.50620 | grad_wrt_mu     0.00000\n",
      "epoch       3.000 | loss_total     0.00000 | train_MAE     2.53059 | valid_MAE     2.50620 | grad_wrt_mu     0.00000\n",
      "epoch       3.571 | loss_total     0.00000 | train_MAE     2.53059 | valid_MAE     2.50620 | grad_wrt_mu     0.00000\n",
      "epoch       4.000 | loss_total     0.00000 | train_MAE     2.53059 | valid_MAE     2.50620 | grad_wrt_mu     0.00000\n",
      "epoch       4.571 | loss_total     0.00000 | train_MAE     2.53059 | valid_MAE     2.50620 | grad_wrt_mu     0.00000\n",
      "epoch       5.000 | loss_total     0.00000 | train_MAE     2.53059 | valid_MAE     2.50620 | grad_wrt_mu     0.00000\n",
      "epoch       5.571 | loss_total     0.00000 | train_MAE     2.53059 | valid_MAE     2.50620 | grad_wrt_mu     0.00000\n",
      "epoch       5.857 | loss_total     0.00000 | train_MAE     2.53059 | valid_MAE     2.50620 | grad_wrt_mu     0.00000\n"
     ]
    },
    {
     "name": "stderr",
     "output_type": "stream",
     "text": [
      "/Users/mhughes/miniconda3/envs/comp135_2020f_env/lib/python3.6/site-packages/autograd/tracer.py:14: UserWarning: Output seems independent of input.\n",
      "  warnings.warn(\"Output seems independent of input.\")\n"
     ]
    }
   ],
   "source": [
    "model.fit(train_tuple, valid_tuple)"
   ]
  },
  {
   "cell_type": "markdown",
   "metadata": {},
   "source": [
    "After calling `fit`, we have access to many useful attributes that help us track the history of the SGD\n",
    "\n",
    "These include:\n",
    "\n",
    "* trace_epoch\n",
    "* trace_mae_train\n",
    "* trace_mae_valid\n",
    "\n",
    "... and many more!"
   ]
  },
  {
   "cell_type": "code",
   "execution_count": 38,
   "metadata": {},
   "outputs": [
    {
     "data": {
      "text/plain": [
       "[0.0,\n",
       " 0.14285714285714285,\n",
       " 0.2857142857142857,\n",
       " 0.42857142857142855,\n",
       " 0.5714285714285714,\n",
       " 0.7142857142857142,\n",
       " 0.857142857142857,\n",
       " 1.0,\n",
       " 1.1428571428571428,\n",
       " 1.2857142857142856,\n",
       " 1.4285714285714284,\n",
       " 1.5714285714285712,\n",
       " 1.714285714285714,\n",
       " 1.8571428571428568,\n",
       " 2.0,\n",
       " 2.571428571428571,\n",
       " 3.0,\n",
       " 3.571428571428571,\n",
       " 4.0,\n",
       " 4.571428571428573,\n",
       " 5.0,\n",
       " 5.571428571428573,\n",
       " 5.857142857142859]"
      ]
     },
     "execution_count": 38,
     "metadata": {},
     "output_type": "execute_result"
    }
   ],
   "source": [
    "# Here we show at which epochs we collected a snapshot of model performance\n",
    "\n",
    "model.trace_epoch"
   ]
  },
  {
   "cell_type": "code",
   "execution_count": 39,
   "metadata": {},
   "outputs": [
    {
     "data": {
      "text/plain": [
       "[2.5305857142857144,\n",
       " 2.5305857142857144,\n",
       " 2.5305857142857144,\n",
       " 2.5305857142857144,\n",
       " 2.5305857142857144,\n",
       " 2.5305857142857144,\n",
       " 2.5305857142857144,\n",
       " 2.5305857142857144,\n",
       " 2.5305857142857144,\n",
       " 2.5305857142857144,\n",
       " 2.5305857142857144,\n",
       " 2.5305857142857144,\n",
       " 2.5305857142857144,\n",
       " 2.5305857142857144,\n",
       " 2.5305857142857144,\n",
       " 2.5305857142857144,\n",
       " 2.5305857142857144,\n",
       " 2.5305857142857144,\n",
       " 2.5305857142857144,\n",
       " 2.5305857142857144,\n",
       " 2.5305857142857144,\n",
       " 2.5305857142857144,\n",
       " 2.5305857142857144]"
      ]
     },
     "execution_count": 39,
     "metadata": {},
     "output_type": "execute_result"
    }
   ],
   "source": [
    "# Here we show what the recorded MAE on the training set was at each epoch\n",
    "\n",
    "model.trace_mae_train"
   ]
  },
  {
   "cell_type": "markdown",
   "metadata": {},
   "source": [
    "### Example code for a trace plot of error vs epoch\n",
    "\n",
    "Starter code should produce a flat line (since its loss is wrong).\n",
    "\n",
    "Your goal is to implement the loss correctly. When you do, you should see *improvement* in the MAE as you train for many epochs."
   ]
  },
  {
   "cell_type": "code",
   "execution_count": 40,
   "metadata": {},
   "outputs": [
    {
     "data": {
      "text/plain": [
       "(0.0, 3.0)"
      ]
     },
     "execution_count": 40,
     "metadata": {},
     "output_type": "execute_result"
    },
    {
     "data": {
      "image/png": "[encoded data removed]",
      "text/plain": [
       "<Figure size 576x396 with 1 Axes>"
      ]
     },
     "metadata": {},
     "output_type": "display_data"
    }
   ],
   "source": [
    "plt.plot(model.trace_epoch, model.trace_mae_train, 'b.-', label='MAE on train')\n",
    "plt.plot(model.trace_epoch, model.trace_mae_valid, 'r.-', label='MAE on valid')\n",
    "\n",
    "plt.xlabel('epoch');\n",
    "plt.ylabel('mean absolute error');\n",
    "plt.legend(loc='lower right');\n",
    "plt.ylim([0, 3])"
   ]
  },
  {
   "cell_type": "markdown",
   "metadata": {},
   "source": [
    "### Discussion 2c: Do you understand what happens under the hood when you call `fit`?\n",
    "\n",
    "Go read through the provided `fit` method\n",
    "\n",
    "Link: https://github.com/tufts-ml-courses/comp135-20f-assignments/blob/master/projectC/AbstractBaseCollabFilterSGD.py#L107\n",
    "\n",
    "You do not need to EDIT this at all, you can use it out of the box. The hard work of SGD implementation has been done for you.\n",
    "\n",
    "We just want you to understand conceptually how it works.\n",
    "\n",
    "In particular, you should focus your reading on these bits of code:\n",
    "\n",
    "* [Line 165](https://github.com/tufts-ml-courses/comp135-20f-assignments/blob/master/projectC/AbstractBaseCollabFilterSGD.py#L165) is where we loop over epochs\n",
    "* [Line 169](https://github.com/tufts-ml-courses/comp135-20f-assignments/blob/master/projectC/AbstractBaseCollabFilterSGD.py#L169) is where we loop over each minibatches for the current epoch\n",
    "* [Line 176](https://github.com/tufts-ml-courses/comp135-20f-assignments/blob/master/projectC/AbstractBaseCollabFilterSGD.py#L176) is where we compute the loss and gradient for the current minibatch\n",
    "* [Line 222](https://github.com/tufts-ml-courses/comp135-20f-assignments/blob/master/projectC/AbstractBaseCollabFilterSGD.py#L222) is where we update the current parameters by taking a small step in the direction of the gradient\n",
    "\n"
   ]
  },
  {
   "cell_type": "markdown",
   "metadata": {},
   "source": [
    "### Discussion 2d: Where in the `fit` code do you see autograd at work?\n",
    "\n",
    "\n",
    "Hint: In Line 176 we call a function named `calc_loss_and_grad_wrt_parameter_dict`\n",
    "\n",
    "Go see that function in Line 81:\n",
    "\n",
    "https://github.com/tufts-ml-courses/comp135-20f-assignments/blob/master/projectC/AbstractBaseCollabFilterSGD.py#L81\n",
    "\n",
    "This function calls `autograd.value_and_grad`, which will, given a function f, compute for a given input x *both* of:\n",
    "\n",
    "* the value of the function at x: $f(x)$\n",
    "* the gradient of the function at: $g(x)$"
   ]
  },
  {
   "cell_type": "markdown",
   "metadata": {},
   "source": [
    "<a name=\"part3\"></a>"
   ]
  },
  {
   "cell_type": "markdown",
   "metadata": {},
   "source": [
    "# Part 3: Using the surprise library"
   ]
  },
  {
   "cell_type": "markdown",
   "metadata": {},
   "source": [
    "Surprise is a Python library built to make recommendation systems\n",
    "\n",
    "You can use it for *Problem 4* (our Open ended prediction challenge)\n",
    "\n",
    "Here we give a very brief demo of how to use surprise on our data\n",
    "\n",
    "### Check out its documentation here:\n",
    "\n",
    "https://surprise.readthedocs.io/en/stable/index.html"
   ]
  },
  {
   "cell_type": "markdown",
   "metadata": {},
   "source": [
    "### Import surprise library\n",
    "\n",
    "If this breaks, you need to follow install instructions here: \n",
    "https://www.cs.tufts.edu/comp/135/2020f/projectC.html#code"
   ]
  },
  {
   "cell_type": "code",
   "execution_count": 41,
   "metadata": {},
   "outputs": [],
   "source": [
    "import surprise"
   ]
  },
  {
   "cell_type": "markdown",
   "metadata": {},
   "source": [
    "Create a specialized Reader object for surprise to read the dataset"
   ]
  },
  {
   "cell_type": "code",
   "execution_count": 42,
   "metadata": {},
   "outputs": [],
   "source": [
    "reader = surprise.Reader(\n",
    "    line_format='user item rating', sep=',',\n",
    "    rating_scale=(1, 5), skip_lines=1)"
   ]
  },
  {
   "cell_type": "markdown",
   "metadata": {},
   "source": [
    "### Load the entire development set into surprise's format"
   ]
  },
  {
   "cell_type": "code",
   "execution_count": 43,
   "metadata": {},
   "outputs": [],
   "source": [
    "dev_set = surprise.Dataset.load_from_file(\n",
    "    os.path.join(data_path, 'ratings_all_development_set.csv'), reader=reader)"
   ]
  },
  {
   "cell_type": "code",
   "execution_count": 44,
   "metadata": {},
   "outputs": [],
   "source": [
    "dev_set_for_fit = dev_set.build_full_trainset()"
   ]
  },
  {
   "cell_type": "code",
   "execution_count": 45,
   "metadata": {},
   "outputs": [],
   "source": [
    "dev_set_for_predict = dev_set_for_fit.build_testset()"
   ]
  },
  {
   "cell_type": "code",
   "execution_count": 46,
   "metadata": {},
   "outputs": [
    {
     "data": {
      "text/plain": [
       "3.529480398257623"
      ]
     },
     "execution_count": 46,
     "metadata": {},
     "output_type": "execute_result"
    }
   ],
   "source": [
    "dev_set_for_fit.global_mean"
   ]
  },
  {
   "cell_type": "code",
   "execution_count": 47,
   "metadata": {},
   "outputs": [
    {
     "data": {
      "text/plain": [
       "(1, 5)"
      ]
     },
     "execution_count": 47,
     "metadata": {},
     "output_type": "execute_result"
    }
   ],
   "source": [
    "dev_set_for_fit.rating_scale"
   ]
  },
  {
   "cell_type": "markdown",
   "metadata": {},
   "source": [
    "### Fit a latent factor model\n",
    "\n",
    "See the surprise.SVD documentation: \n",
    "\n",
    "https://surprise.readthedocs.io/en/stable/matrix_factorization.html#surprise.prediction_algorithms.matrix_factorization.SVD"
   ]
  },
  {
   "cell_type": "code",
   "execution_count": 50,
   "metadata": {},
   "outputs": [
    {
     "data": {
      "text/plain": [
       "<surprise.prediction_algorithms.matrix_factorization.SVD at 0x1a2509ff98>"
      ]
     },
     "execution_count": 50,
     "metadata": {},
     "output_type": "execute_result"
    }
   ],
   "source": [
    "# Fit SVD model, which is like our M3\n",
    "# Only difference from our M3 is that the regularization is applied slightly differently (to the per-item and per-users bias parameters)\n",
    "\n",
    "model = surprise.SVD(n_factors=2, n_epochs=10, lr_all=0.01, random_state=0)\n",
    "model.fit(dev_set_for_fit)"
   ]
  },
  {
   "cell_type": "markdown",
   "metadata": {},
   "source": [
    "### Make predictions on development set (attempt 1)"
   ]
  },
  {
   "cell_type": "markdown",
   "metadata": {},
   "source": [
    "Weirdly, surprise doesn't let you use the same dataset representation to do fit and do predict\n",
    "\n",
    "We *expect* this line to fail"
   ]
  },
  {
   "cell_type": "code",
   "execution_count": 51,
   "metadata": {},
   "outputs": [
    {
     "ename": "TypeError",
     "evalue": "'Trainset' object is not iterable",
     "output_type": "error",
     "traceback": [
      "\u001b[0;31m---------------------------------------------------------------------------\u001b[0m",
      "\u001b[0;31mTypeError\u001b[0m                                 Traceback (most recent call last)",
      "\u001b[0;32m<ipython-input-51-d0522b7bc8ca>\u001b[0m in \u001b[0;36m<module>\u001b[0;34m\u001b[0m\n\u001b[0;32m----> 1\u001b[0;31m \u001b[0mmodel\u001b[0m\u001b[0;34m.\u001b[0m\u001b[0mtest\u001b[0m\u001b[0;34m(\u001b[0m\u001b[0mdev_set_for_fit\u001b[0m\u001b[0;34m)\u001b[0m\u001b[0;34m\u001b[0m\u001b[0;34m\u001b[0m\u001b[0m\n\u001b[0m",
      "\u001b[0;32m~/miniconda3/envs/comp135_2020f_env/lib/python3.6/site-packages/surprise/prediction_algorithms/algo_base.py\u001b[0m in \u001b[0;36mtest\u001b[0;34m(self, testset, verbose)\u001b[0m\n\u001b[1;32m    166\u001b[0m                                     \u001b[0mr_ui_trans\u001b[0m\u001b[0;34m,\u001b[0m\u001b[0;34m\u001b[0m\u001b[0;34m\u001b[0m\u001b[0m\n\u001b[1;32m    167\u001b[0m                                     verbose=verbose)\n\u001b[0;32m--> 168\u001b[0;31m                        for (uid, iid, r_ui_trans) in testset]\n\u001b[0m\u001b[1;32m    169\u001b[0m         \u001b[0;32mreturn\u001b[0m \u001b[0mpredictions\u001b[0m\u001b[0;34m\u001b[0m\u001b[0;34m\u001b[0m\u001b[0m\n\u001b[1;32m    170\u001b[0m \u001b[0;34m\u001b[0m\u001b[0m\n",
      "\u001b[0;31mTypeError\u001b[0m: 'Trainset' object is not iterable"
     ]
    }
   ],
   "source": [
    "model.test(dev_set_for_fit)"
   ]
  },
  {
   "cell_type": "markdown",
   "metadata": {},
   "source": [
    "### Make predictions on the development set (attempt 2)\n",
    "\n",
    "This is the proper way to ask for predictions"
   ]
  },
  {
   "cell_type": "code",
   "execution_count": 52,
   "metadata": {},
   "outputs": [
    {
     "data": {
      "text/plain": [
       "[Prediction(uid='772', iid='36', r_ui=3.0, est=2.7544139699224877, details={'was_impossible': False}),\n",
       " Prediction(uid='772', iid='175', r_ui=4.0, est=3.6351699413391376, details={'was_impossible': False}),\n",
       " Prediction(uid='772', iid='1168', r_ui=3.0, est=2.864122198932828, details={'was_impossible': False}),\n",
       " Prediction(uid='772', iid='208', r_ui=5.0, est=3.66237014292207, details={'was_impossible': False}),\n",
       " Prediction(uid='772', iid='322', r_ui=3.0, est=2.781590281352215, details={'was_impossible': False}),\n",
       " Prediction(uid='772', iid='10', r_ui=2.0, est=3.4909390383839556, details={'was_impossible': False}),\n",
       " Prediction(uid='772', iid='90', r_ui=4.0, est=3.28503507316072, details={'was_impossible': False}),\n",
       " Prediction(uid='772', iid='853', r_ui=2.0, est=3.447567488743219, details={'was_impossible': False}),\n",
       " Prediction(uid='772', iid='520', r_ui=4.0, est=3.676881893677601, details={'was_impossible': False}),\n",
       " Prediction(uid='772', iid='718', r_ui=1.0, est=2.6360915836606584, details={'was_impossible': False}),\n",
       " Prediction(uid='772', iid='186', r_ui=5.0, est=3.8022331784545, details={'was_impossible': False}),\n",
       " Prediction(uid='772', iid='250', r_ui=3.0, est=3.9267406203704662, details={'was_impossible': False}),\n",
       " Prediction(uid='772', iid='173', r_ui=3.0, est=3.90545194867554, details={'was_impossible': False}),\n",
       " Prediction(uid='772', iid='99', r_ui=4.0, est=3.766371652831956, details={'was_impossible': False}),\n",
       " Prediction(uid='772', iid='431', r_ui=3.0, est=3.3826628899657374, details={'was_impossible': False}),\n",
       " Prediction(uid='772', iid='203', r_ui=3.0, est=3.544797127778221, details={'was_impossible': False}),\n",
       " Prediction(uid='772', iid='1250', r_ui=4.0, est=3.1234296829681814, details={'was_impossible': False}),\n",
       " Prediction(uid='772', iid='473', r_ui=3.0, est=3.4903961081216575, details={'was_impossible': False}),\n",
       " Prediction(uid='772', iid='946', r_ui=2.0, est=1.9097432387266664, details={'was_impossible': False}),\n",
       " Prediction(uid='772', iid='266', r_ui=4.0, est=3.3757262969278754, details={'was_impossible': False}),\n",
       " Prediction(uid='772', iid='1553', r_ui=4.0, est=3.0857097524091284, details={'was_impossible': False}),\n",
       " Prediction(uid='772', iid='938', r_ui=2.0, est=2.183946647576814, details={'was_impossible': False}),\n",
       " Prediction(uid='772', iid='26', r_ui=1.0, est=2.8360640348598207, details={'was_impossible': False}),\n",
       " Prediction(uid='772', iid='565', r_ui=2.0, est=2.6205221483279666, details={'was_impossible': False}),\n",
       " Prediction(uid='772', iid='234', r_ui=4.0, est=2.4939416810488444, details={'was_impossible': False}),\n",
       " Prediction(uid='772', iid='23', r_ui=3.0, est=3.0131551627401936, details={'was_impossible': False}),\n",
       " Prediction(uid='772', iid='355', r_ui=4.0, est=3.9273116791777616, details={'was_impossible': False}),\n",
       " Prediction(uid='772', iid='749', r_ui=3.0, est=3.071875409919961, details={'was_impossible': False}),\n",
       " Prediction(uid='772', iid='663', r_ui=2.0, est=2.687745312230733, details={'was_impossible': False}),\n",
       " Prediction(uid='772', iid='362', r_ui=4.0, est=2.3711908524602303, details={'was_impossible': False}),\n",
       " Prediction(uid='772', iid='231', r_ui=3.0, est=2.989109479251282, details={'was_impossible': False}),\n",
       " Prediction(uid='772', iid='1019', r_ui=5.0, est=3.51585845817975, details={'was_impossible': False}),\n",
       " Prediction(uid='772', iid='956', r_ui=4.0, est=3.710110205243731, details={'was_impossible': False}),\n",
       " Prediction(uid='772', iid='284', r_ui=3.0, est=3.280051929519022, details={'was_impossible': False}),\n",
       " Prediction(uid='772', iid='429', r_ui=1.0, est=3.3679590296998665, details={'was_impossible': False}),\n",
       " Prediction(uid='772', iid='31', r_ui=4.0, est=3.582629752444322, details={'was_impossible': False}),\n",
       " Prediction(uid='772', iid='545', r_ui=4.0, est=3.1200002561214917, details={'was_impossible': False}),\n",
       " Prediction(uid='772', iid='425', r_ui=3.0, est=4.004363110962659, details={'was_impossible': False}),\n",
       " Prediction(uid='772', iid='790', r_ui=4.0, est=3.4276708928927864, details={'was_impossible': False}),\n",
       " Prediction(uid='772', iid='316', r_ui=4.0, est=4.180628607916344, details={'was_impossible': False}),\n",
       " Prediction(uid='772', iid='401', r_ui=2.0, est=3.131040627379854, details={'was_impossible': False}),\n",
       " Prediction(uid='772', iid='151', r_ui=5.0, est=3.4628659079550976, details={'was_impossible': False}),\n",
       " Prediction(uid='772', iid='178', r_ui=5.0, est=3.6277007930661744, details={'was_impossible': False}),\n",
       " Prediction(uid='772', iid='182', r_ui=4.0, est=3.74694695061736, details={'was_impossible': False}),\n",
       " Prediction(uid='772', iid='232', r_ui=1.0, est=3.1080343870396128, details={'was_impossible': False}),\n",
       " Prediction(uid='772', iid='13', r_ui=5.0, est=3.6607750336267104, details={'was_impossible': False}),\n",
       " Prediction(uid='772', iid='41', r_ui=3.0, est=3.5263251162845966, details={'was_impossible': False}),\n",
       " Prediction(uid='772', iid='586', r_ui=1.0, est=3.5383030412847476, details={'was_impossible': False}),\n",
       " Prediction(uid='772', iid='637', r_ui=4.0, est=3.475641263701675, details={'was_impossible': False}),\n",
       " Prediction(uid='772', iid='352', r_ui=2.0, est=3.038754282972734, details={'was_impossible': False}),\n",
       " Prediction(uid='772', iid='1527', r_ui=5.0, est=3.1276114548625156, details={'was_impossible': False}),\n",
       " Prediction(uid='772', iid='190', r_ui=4.0, est=3.8223566199431467, details={'was_impossible': False}),\n",
       " Prediction(uid='772', iid='51', r_ui=3.0, est=3.589994904098478, details={'was_impossible': False}),\n",
       " Prediction(uid='772', iid='97', r_ui=4.0, est=3.9782703253142, details={'was_impossible': False}),\n",
       " Prediction(uid='772', iid='188', r_ui=5.0, est=3.836733982843402, details={'was_impossible': False}),\n",
       " Prediction(uid='772', iid='181', r_ui=4.0, est=3.6341396895687885, details={'was_impossible': False}),\n",
       " Prediction(uid='772', iid='708', r_ui=3.0, est=3.340517014990731, details={'was_impossible': False}),\n",
       " Prediction(uid='772', iid='557', r_ui=2.0, est=2.8626976708682834, details={'was_impossible': False}),\n",
       " Prediction(uid='772', iid='380', r_ui=3.0, est=3.3197925124571537, details={'was_impossible': False}),\n",
       " Prediction(uid='772', iid='237', r_ui=4.0, est=3.5644355448299514, details={'was_impossible': False}),\n",
       " Prediction(uid='772', iid='264', r_ui=2.0, est=3.543037350491065, details={'was_impossible': False}),\n",
       " Prediction(uid='772', iid='0', r_ui=3.0, est=3.525105460856227, details={'was_impossible': False}),\n",
       " Prediction(uid='772', iid='169', r_ui=5.0, est=3.867856756354157, details={'was_impossible': False}),\n",
       " Prediction(uid='772', iid='95', r_ui=2.0, est=3.7543503054662946, details={'was_impossible': False}),\n",
       " Prediction(uid='772', iid='153', r_ui=5.0, est=3.5042777513628156, details={'was_impossible': False}),\n",
       " Prediction(uid='772', iid='216', r_ui=3.0, est=2.9147694846068832, details={'was_impossible': False}),\n",
       " Prediction(uid='772', iid='460', r_ui=5.0, est=3.5676232192639286, details={'was_impossible': False}),\n",
       " Prediction(uid='772', iid='168', r_ui=5.0, est=4.228165103911078, details={'was_impossible': False}),\n",
       " Prediction(uid='772', iid='1', r_ui=3.0, est=3.036419224116619, details={'was_impossible': False}),\n",
       " Prediction(uid='772', iid='22', r_ui=5.0, est=3.810873918740923, details={'was_impossible': False}),\n",
       " Prediction(uid='772', iid='69', r_ui=3.0, est=3.3373544537397315, details={'was_impossible': False}),\n",
       " Prediction(uid='772', iid='184', r_ui=4.0, est=3.724950749245291, details={'was_impossible': False}),\n",
       " Prediction(uid='772', iid='197', r_ui=4.0, est=3.817785118285619, details={'was_impossible': False}),\n",
       " Prediction(uid='772', iid='1016', r_ui=3.0, est=3.0753966246618467, details={'was_impossible': False}),\n",
       " Prediction(uid='772', iid='1067', r_ui=4.0, est=3.069923862594064, details={'was_impossible': False}),\n",
       " Prediction(uid='772', iid='211', r_ui=2.0, est=3.25520787894429, details={'was_impossible': False}),\n",
       " Prediction(uid='772', iid='259', r_ui=2.0, est=2.178781979723477, details={'was_impossible': False}),\n",
       " Prediction(uid='772', iid='120', r_ui=2.0, est=3.0962950963857883, details={'was_impossible': False}),\n",
       " Prediction(uid='772', iid='199', r_ui=4.0, est=3.4388759238455555, details={'was_impossible': False}),\n",
       " Prediction(uid='772', iid='63', r_ui=4.0, est=4.19302666338734, details={'was_impossible': False}),\n",
       " Prediction(uid='772', iid='55', r_ui=2.0, est=3.667874236063284, details={'was_impossible': False}),\n",
       " Prediction(uid='772', iid='167', r_ui=5.0, est=3.7071107755906687, details={'was_impossible': False}),\n",
       " Prediction(uid='772', iid='228', r_ui=3.0, est=2.848647738380186, details={'was_impossible': False}),\n",
       " Prediction(uid='772', iid='170', r_ui=5.0, est=3.610664799209616, details={'was_impossible': False}),\n",
       " Prediction(uid='772', iid='6', r_ui=2.0, est=3.4558981956343047, details={'was_impossible': False}),\n",
       " Prediction(uid='772', iid='220', r_ui=2.0, est=3.419488966761142, details={'was_impossible': False}),\n",
       " Prediction(uid='772', iid='91', r_ui=4.0, est=3.309280409054455, details={'was_impossible': False}),\n",
       " Prediction(uid='772', iid='1069', r_ui=2.0, est=2.85207677539017, details={'was_impossible': False}),\n",
       " Prediction(uid='772', iid='152', r_ui=5.0, est=3.5221519757176245, details={'was_impossible': False}),\n",
       " Prediction(uid='772', iid='239', r_ui=2.0, est=2.3977420395059656, details={'was_impossible': False}),\n",
       " Prediction(uid='772', iid='430', r_ui=4.0, est=3.4978026819335772, details={'was_impossible': False}),\n",
       " Prediction(uid='772', iid='28', r_ui=2.0, est=2.4042245110943905, details={'was_impossible': False}),\n",
       " Prediction(uid='772', iid='1095', r_ui=4.0, est=3.3774678467406134, details={'was_impossible': False}),\n",
       " Prediction(uid='772', iid='807', r_ui=1.0, est=2.7093851771491564, details={'was_impossible': False}),\n",
       " Prediction(uid='772', iid='426', r_ui=4.0, est=3.577367795787706, details={'was_impossible': False}),\n",
       " Prediction(uid='772', iid='195', r_ui=4.0, est=3.6032512596655892, details={'was_impossible': False}),\n",
       " Prediction(uid='772', iid='1365', r_ui=5.0, est=3.5889090619524664, details={'was_impossible': False}),\n",
       " Prediction(uid='772', iid='539', r_ui=1.0, est=2.6475908334090503, details={'was_impossible': False}),\n",
       " Prediction(uid='772', iid='917', r_ui=5.0, est=3.488539497606026, details={'was_impossible': False}),\n",
       " Prediction(uid='772', iid='730', r_ui=3.0, est=3.400235209735371, details={'was_impossible': False}),\n",
       " Prediction(uid='772', iid='673', r_ui=5.0, est=3.3768376159170534, details={'was_impossible': False}),\n",
       " Prediction(uid='772', iid='215', r_ui=4.0, est=3.591461172719616, details={'was_impossible': False}),\n",
       " Prediction(uid='772', iid='957', r_ui=4.0, est=3.3223029013009877, details={'was_impossible': False}),\n",
       " Prediction(uid='772', iid='180', r_ui=5.0, est=3.632179182633553, details={'was_impossible': False}),\n",
       " Prediction(uid='772', iid='209', r_ui=2.0, est=3.6295174898494897, details={'was_impossible': False}),\n",
       " Prediction(uid='772', iid='735', r_ui=3.0, est=2.780474735745664, details={'was_impossible': False}),\n",
       " Prediction(uid='772', iid='52', r_ui=3.0, est=2.752916204780448, details={'was_impossible': False}),\n",
       " Prediction(uid='772', iid='778', r_ui=4.0, est=2.6860120901037803, details={'was_impossible': False}),\n",
       " Prediction(uid='772', iid='171', r_ui=5.0, est=3.874472584893843, details={'was_impossible': False}),\n",
       " Prediction(uid='772', iid='60', r_ui=5.0, est=3.6182419306387614, details={'was_impossible': False}),\n",
       " Prediction(uid='772', iid='893', r_ui=2.0, est=2.947047076156393, details={'was_impossible': False}),\n",
       " Prediction(uid='772', iid='174', r_ui=4.0, est=3.623222020362585, details={'was_impossible': False}),\n",
       " Prediction(uid='772', iid='406', r_ui=5.0, est=4.280070860902743, details={'was_impossible': False}),\n",
       " Prediction(uid='772', iid='1034', r_ui=3.0, est=2.5222373998896557, details={'was_impossible': False}),\n",
       " Prediction(uid='772', iid='183', r_ui=2.0, est=3.1719792064161685, details={'was_impossible': False}),\n",
       " Prediction(uid='772', iid='67', r_ui=2.0, est=3.131098695580455, details={'was_impossible': False}),\n",
       " Prediction(uid='772', iid='11', r_ui=3.0, est=4.065594929776657, details={'was_impossible': False}),\n",
       " Prediction(uid='772', iid='1186', r_ui=2.0, est=2.6997682802910483, details={'was_impossible': False}),\n",
       " Prediction(uid='772', iid='341', r_ui=1.0, est=2.774307611091494, details={'was_impossible': False}),\n",
       " Prediction(uid='772', iid='1473', r_ui=4.0, est=2.9611448066911996, details={'was_impossible': False}),\n",
       " Prediction(uid='772', iid='89', r_ui=4.0, est=2.7645858154028886, details={'was_impossible': False}),\n",
       " Prediction(uid='772', iid='885', r_ui=2.0, est=3.359793735089522, details={'was_impossible': False}),\n",
       " Prediction(uid='772', iid='384', r_ui=3.0, est=2.5707781279239215, details={'was_impossible': False}),\n",
       " Prediction(uid='772', iid='126', r_ui=5.0, est=3.845019256481856, details={'was_impossible': False}),\n",
       " Prediction(uid='772', iid='187', r_ui=3.0, est=3.363832560164426, details={'was_impossible': False}),\n",
       " Prediction(uid='772', iid='227', r_ui=3.0, est=3.549197503355146, details={'was_impossible': False}),\n",
       " Prediction(uid='772', iid='230', r_ui=2.0, est=2.434460775909691, details={'was_impossible': False}),\n",
       " Prediction(uid='772', iid='257', r_ui=5.0, est=3.3881510141117395, details={'was_impossible': False}),\n",
       " Prediction(uid='772', iid='44', r_ui=4.0, est=3.8481401189641544, details={'was_impossible': False}),\n",
       " Prediction(uid='772', iid='453', r_ui=4.0, est=2.9124217233233107, details={'was_impossible': False}),\n",
       " Prediction(uid='772', iid='217', r_ui=2.0, est=3.1334388285515247, details={'was_impossible': False}),\n",
       " Prediction(uid='772', iid='92', r_ui=3.0, est=3.3586275338609757, details={'was_impossible': False}),\n",
       " Prediction(uid='772', iid='788', r_ui=3.0, est=2.6538340042936923, details={'was_impossible': False}),\n",
       " Prediction(uid='772', iid='767', r_ui=1.0, est=2.105187589741242, details={'was_impossible': False}),\n",
       " Prediction(uid='772', iid='233', r_ui=2.0, est=3.3472452852994152, details={'was_impossible': False}),\n",
       " Prediction(uid='772', iid='71', r_ui=3.0, est=2.9205095499065674, details={'was_impossible': False}),\n",
       " Prediction(uid='772', iid='59', r_ui=5.0, est=3.789082936745628, details={'was_impossible': False}),\n",
       " Prediction(uid='772', iid='12', r_ui=4.0, est=3.0521329890343205, details={'was_impossible': False}),\n",
       " Prediction(uid='772', iid='529', r_ui=5.0, est=3.6461858323037655, details={'was_impossible': False}),\n",
       " Prediction(uid='772', iid='46', r_ui=4.0, est=3.273869432628258, details={'was_impossible': False}),\n",
       " Prediction(uid='772', iid='1185', r_ui=3.0, est=3.2520930072526535, details={'was_impossible': False}),\n",
       " Prediction(uid='772', iid='507', r_ui=4.0, est=3.557650990615947, details={'was_impossible': False}),\n",
       " Prediction(uid='772', iid='650', r_ui=3.0, est=3.6194562713866034, details={'was_impossible': False}),\n",
       " Prediction(uid='772', iid='922', r_ui=1.0, est=3.0781318857921036, details={'was_impossible': False}),\n",
       " Prediction(uid='772', iid='365', r_ui=2.0, est=3.1841308877206744, details={'was_impossible': False}),\n",
       " Prediction(uid='772', iid='391', r_ui=2.0, est=3.151932941229952, details={'was_impossible': False}),\n",
       " Prediction(uid='772', iid='1238', r_ui=3.0, est=3.421549947100464, details={'was_impossible': False}),\n",
       " Prediction(uid='772', iid='728', r_ui=3.0, est=3.366041749185773, details={'was_impossible': False}),\n",
       " Prediction(uid='471', iid='228', r_ui=5.0, est=4.1059857392313015, details={'was_impossible': False}),\n",
       " Prediction(uid='471', iid='203', r_ui=5.0, est=4.813380000052596, details={'was_impossible': False}),\n",
       " Prediction(uid='471', iid='574', r_ui=5.0, est=4.046480985205102, details={'was_impossible': False}),\n",
       " Prediction(uid='471', iid='190', r_ui=5.0, est=4.953405656910257, details={'was_impossible': False}),\n",
       " Prediction(uid='471', iid='663', r_ui=4.0, est=3.878946987328771, details={'was_impossible': False}),\n",
       " Prediction(uid='471', iid='32', r_ui=5.0, est=4.34435179555126, details={'was_impossible': False}),\n",
       " Prediction(uid='471', iid='579', r_ui=4.0, est=4.105170075751243, details={'was_impossible': False}),\n",
       " Prediction(uid='471', iid='1467', r_ui=4.0, est=4.11553985045634, details={'was_impossible': False}),\n",
       " Prediction(uid='471', iid='21', r_ui=5.0, est=5, details={'was_impossible': False}),\n",
       " Prediction(uid='471', iid='975', r_ui=3.0, est=3.5956408457065443, details={'was_impossible': False}),\n",
       " Prediction(uid='471', iid='217', r_ui=4.0, est=4.2877104947313605, details={'was_impossible': False}),\n",
       " Prediction(uid='471', iid='538', r_ui=3.0, est=3.5118903659319947, details={'was_impossible': False}),\n",
       " Prediction(uid='471', iid='687', r_ui=4.0, est=3.9549114485897574, details={'was_impossible': False}),\n",
       " Prediction(uid='471', iid='658', r_ui=5.0, est=4.628411193460353, details={'was_impossible': False}),\n",
       " Prediction(uid='471', iid='1034', r_ui=4.0, est=3.724566435125059, details={'was_impossible': False}),\n",
       " Prediction(uid='471', iid='576', r_ui=5.0, est=4.063568276722094, details={'was_impossible': False}),\n",
       " Prediction(uid='471', iid='1226', r_ui=4.0, est=3.3989918055612907, details={'was_impossible': False}),\n",
       " Prediction(uid='471', iid='175', r_ui=5.0, est=4.766944777856634, details={'was_impossible': False}),\n",
       " Prediction(uid='471', iid='824', r_ui=3.0, est=3.3790334875818275, details={'was_impossible': False}),\n",
       " Prediction(uid='471', iid='756', r_ui=1.0, est=2.940779365330883, details={'was_impossible': False}),\n",
       " Prediction(uid='471', iid='384', r_ui=5.0, est=3.75699770671541, details={'was_impossible': False}),\n",
       " Prediction(uid='471', iid='66', r_ui=4.0, est=3.8889803670186303, details={'was_impossible': False}),\n",
       " Prediction(uid='471', iid='737', r_ui=5.0, est=4.2402621199785235, details={'was_impossible': False}),\n",
       " Prediction(uid='471', iid='227', r_ui=5.0, est=4.761252858825848, details={'was_impossible': False}),\n",
       " Prediction(uid='471', iid='1012', r_ui=4.0, est=3.8558785661973216, details={'was_impossible': False}),\n",
       " Prediction(uid='471', iid='3', r_ui=3.0, est=4.2873240993033, details={'was_impossible': False}),\n",
       " Prediction(uid='471', iid='372', r_ui=2.0, est=3.512439061852319, details={'was_impossible': False}),\n",
       " Prediction(uid='471', iid='77', r_ui=1.0, est=3.410136464475024, details={'was_impossible': False}),\n",
       " Prediction(uid='471', iid='463', r_ui=3.0, est=4.351005799871181, details={'was_impossible': False}),\n",
       " Prediction(uid='471', iid='419', r_ui=5.0, est=4.735738639099124, details={'was_impossible': False}),\n",
       " Prediction(uid='471', iid='740', r_ui=5.0, est=4.498014568874006, details={'was_impossible': False}),\n",
       " Prediction(uid='471', iid='176', r_ui=4.0, est=4.650172158025803, details={'was_impossible': False}),\n",
       " Prediction(uid='471', iid='430', r_ui=5.0, est=4.771372676403305, details={'was_impossible': False}),\n",
       " Prediction(uid='471', iid='547', r_ui=5.0, est=4.433142463916008, details={'was_impossible': False}),\n",
       " Prediction(uid='471', iid='601', r_ui=5.0, est=5, details={'was_impossible': False}),\n",
       " Prediction(uid='471', iid='559', r_ui=5.0, est=4.065460834071927, details={'was_impossible': False}),\n",
       " Prediction(uid='471', iid='256', r_ui=4.0, est=4.7861585757559135, details={'was_impossible': False}),\n",
       " Prediction(uid='471', iid='336', r_ui=4.0, est=3.5845046837351973, details={'was_impossible': False}),\n",
       " Prediction(uid='471', iid='741', r_ui=4.0, est=2.987603139966331, details={'was_impossible': False}),\n",
       " Prediction(uid='471', iid='269', r_ui=5.0, est=4.081571051011867, details={'was_impossible': False}),\n",
       " Prediction(uid='471', iid='402', r_ui=3.0, est=4.520915523218133, details={'was_impossible': False}),\n",
       " Prediction(uid='471', iid='929', r_ui=2.0, est=2.9827866273264507, details={'was_impossible': False}),\n",
       " Prediction(uid='471', iid='131', r_ui=5.0, est=4.836282486244576, details={'was_impossible': False}),\n",
       " Prediction(uid='471', iid='758', r_ui=5.0, est=3.4997523643582027, details={'was_impossible': False}),\n",
       " Prediction(uid='471', iid='99', r_ui=5.0, est=4.887982802059476, details={'was_impossible': False}),\n",
       " Prediction(uid='471', iid='429', r_ui=5.0, est=4.621011725230252, details={'was_impossible': False}),\n",
       " Prediction(uid='471', iid='140', r_ui=4.0, est=4.36353002824373, details={'was_impossible': False}),\n",
       " Prediction(uid='471', iid='653', r_ui=5.0, est=4.78422422669574, details={'was_impossible': False}),\n",
       " Prediction(uid='471', iid='364', r_ui=4.0, est=4.348282641031105, details={'was_impossible': False}),\n",
       " Prediction(uid='471', iid='829', r_ui=5.0, est=3.426703567619774, details={'was_impossible': False}),\n",
       " Prediction(uid='471', iid='938', r_ui=4.0, est=3.3929345872298984, details={'was_impossible': False}),\n",
       " Prediction(uid='471', iid='356', r_ui=5.0, est=3.43190040240627, details={'was_impossible': False}),\n",
       " Prediction(uid='471', iid='321', r_ui=4.0, est=3.8004691251014107, details={'was_impossible': False}),\n",
       " Prediction(uid='471', iid='184', r_ui=5.0, est=4.89514682576358, details={'was_impossible': False}),\n",
       " Prediction(uid='471', iid='1', r_ui=5.0, est=4.290860445812213, details={'was_impossible': False}),\n",
       " Prediction(uid='471', iid='213', r_ui=4.0, est=4.094201940505293, details={'was_impossible': False}),\n",
       " Prediction(uid='471', iid='794', r_ui=4.0, est=4.046810056926326, details={'was_impossible': False}),\n",
       " Prediction(uid='471', iid='376', r_ui=4.0, est=4.703014801681854, details={'was_impossible': False}),\n",
       " Prediction(uid='471', iid='944', r_ui=2.0, est=3.987447807059764, details={'was_impossible': False}),\n",
       " Prediction(uid='471', iid='926', r_ui=4.0, est=3.8697809088369803, details={'was_impossible': False}),\n",
       " Prediction(uid='471', iid='195', r_ui=4.0, est=4.7550389584622295, details={'was_impossible': False}),\n",
       " Prediction(uid='471', iid='201', r_ui=5.0, est=4.671060231343246, details={'was_impossible': False}),\n",
       " Prediction(uid='471', iid='150', r_ui=3.0, est=4.476865103552721, details={'was_impossible': False}),\n",
       " Prediction(uid='471', iid='71', r_ui=5.0, est=4.128702877410957, details={'was_impossible': False}),\n",
       " Prediction(uid='471', iid='575', r_ui=3.0, est=3.1800502424420944, details={'was_impossible': False}),\n",
       " Prediction(uid='471', iid='399', r_ui=4.0, est=3.682500205691453, details={'was_impossible': False}),\n",
       " Prediction(uid='471', iid='231', r_ui=4.0, est=4.176347051894715, details={'was_impossible': False}),\n",
       " Prediction(uid='471', iid='471', r_ui=4.0, est=4.029479786878969, details={'was_impossible': False}),\n",
       " Prediction(uid='471', iid='182', r_ui=5.0, est=4.904600098371828, details={'was_impossible': False}),\n",
       " Prediction(uid='471', iid='560', r_ui=5.0, est=4.163489326917492, details={'was_impossible': False}),\n",
       " Prediction(uid='471', iid='607', r_ui=5.0, est=4.377013037067209, details={'was_impossible': False}),\n",
       " Prediction(uid='471', iid='1208', r_ui=3.0, est=3.5291433260750975, details={'was_impossible': False}),\n",
       " Prediction(uid='471', iid='566', r_ui=5.0, est=4.689790915607197, details={'was_impossible': False}),\n",
       " Prediction(uid='471', iid='754', r_ui=4.0, est=3.839144887173626, details={'was_impossible': False}),\n",
       " Prediction(uid='471', iid='360', r_ui=5.0, est=3.8198326697663116, details={'was_impossible': False}),\n",
       " Prediction(uid='471', iid='94', r_ui=3.0, est=4.704636563724923, details={'was_impossible': False}),\n",
       " Prediction(uid='471', iid='875', r_ui=3.0, est=3.4857719397299785, details={'was_impossible': False}),\n",
       " Prediction(uid='471', iid='257', r_ui=5.0, est=4.510162840928856, details={'was_impossible': False}),\n",
       " Prediction(uid='471', iid='928', r_ui=5.0, est=3.5514420493771213, details={'was_impossible': False}),\n",
       " Prediction(uid='471', iid='180', r_ui=5.0, est=4.8357939541624635, details={'was_impossible': False}),\n",
       " Prediction(uid='471', iid='160', r_ui=5.0, est=4.484281346598561, details={'was_impossible': False}),\n",
       " Prediction(uid='471', iid='424', r_ui=4.0, est=3.908620704040306, details={'was_impossible': False}),\n",
       " Prediction(uid='471', iid='316', r_ui=5.0, est=5, details={'was_impossible': False}),\n",
       " Prediction(uid='471', iid='1077', r_ui=4.0, est=3.149531499628068, details={'was_impossible': False}),\n",
       " Prediction(uid='471', iid='216', r_ui=5.0, est=4.067728180874597, details={'was_impossible': False}),\n",
       " Prediction(uid='471', iid='749', r_ui=5.0, est=4.204437932023208, details={'was_impossible': False}),\n",
       " Prediction(uid='471', iid='363', r_ui=4.0, est=4.1362939640453025, details={'was_impossible': False}),\n",
       " Prediction(uid='471', iid='104', r_ui=3.0, est=3.344307782271022, details={'was_impossible': False}),\n",
       " Prediction(uid='471', iid='232', r_ui=4.0, est=4.365887548954541, details={'was_impossible': False}),\n",
       " Prediction(uid='471', iid='263', r_ui=3.0, est=3.595382593714294, details={'was_impossible': False}),\n",
       " Prediction(uid='471', iid='95', r_ui=5.0, est=4.954593727699095, details={'was_impossible': False}),\n",
       " Prediction(uid='471', iid='753', r_ui=4.0, est=4.342437977322079, details={'was_impossible': False}),\n",
       " Prediction(uid='471', iid='63', r_ui=5.0, est=5, details={'was_impossible': False}),\n",
       " Prediction(uid='471', iid='683', r_ui=3.0, est=4.216281976675117, details={'was_impossible': False}),\n",
       " Prediction(uid='471', iid='139', r_ui=3.0, est=3.9671537524865053, details={'was_impossible': False}),\n",
       " Prediction(uid='471', iid='174', r_ui=5.0, est=4.741769521472271, details={'was_impossible': False}),\n",
       " Prediction(uid='471', iid='499', r_ui=3.0, est=4.365369557435596, details={'was_impossible': False}),\n",
       " Prediction(uid='471', iid='207', r_ui=5.0, est=4.825670584455289, details={'was_impossible': False}),\n",
       " Prediction(uid='471', iid='185', r_ui=5.0, est=4.757149483223061, details={'was_impossible': False}),\n",
       " Prediction(uid='471', iid='475', r_ui=5.0, est=3.9816201044598936, details={'was_impossible': False}),\n",
       " Prediction(uid='471', iid='417', r_ui=4.0, est=4.726767568953377, details={'was_impossible': False}),\n",
       " Prediction(uid='471', iid='70', r_ui=2.0, est=4.560729950370727, details={'was_impossible': False}),\n",
       " Prediction(uid='471', iid='914', r_ui=5.0, est=3.978898442106845, details={'was_impossible': False}),\n",
       " Prediction(uid='471', iid='354', r_ui=3.0, est=4.22245817629008, details={'was_impossible': False}),\n",
       " Prediction(uid='471', iid='1089', r_ui=4.0, est=3.6276262476729517, details={'was_impossible': False}),\n",
       " Prediction(uid='471', iid='341', r_ui=5.0, est=3.9087049460578007, details={'was_impossible': False}),\n",
       " Prediction(uid='471', iid='134', r_ui=4.0, est=4.8008401607215, details={'was_impossible': False}),\n",
       " Prediction(uid='471', iid='368', r_ui=4.0, est=3.6967414462127115, details={'was_impossible': False}),\n",
       " Prediction(uid='471', iid='565', r_ui=4.0, est=3.7938754954823795, details={'was_impossible': False}),\n",
       " Prediction(uid='471', iid='173', r_ui=5.0, est=5, details={'was_impossible': False}),\n",
       " Prediction(uid='471', iid='623', r_ui=4.0, est=4.1939779173124005, details={'was_impossible': False}),\n",
       " Prediction(uid='471', iid='409', r_ui=4.0, est=3.833136828489588, details={'was_impossible': False}),\n",
       " Prediction(uid='471', iid='421', r_ui=5.0, est=4.87450536937609, details={'was_impossible': False}),\n",
       " Prediction(uid='471', iid='117', r_ui=4.0, est=4.099854851607126, details={'was_impossible': False}),\n",
       " Prediction(uid='471', iid='40', r_ui=4.0, est=3.9299019767001484, details={'was_impossible': False}),\n",
       " Prediction(uid='471', iid='393', r_ui=3.0, est=3.3387755898937286, details={'was_impossible': False}),\n",
       " Prediction(uid='471', iid='656', r_ui=5.0, est=4.357987276960731, details={'was_impossible': False}),\n",
       " Prediction(uid='471', iid='234', r_ui=5.0, est=3.623732476317252, details={'was_impossible': False}),\n",
       " Prediction(uid='471', iid='564', r_ui=4.0, est=4.436052377361568, details={'was_impossible': False}),\n",
       " Prediction(uid='471', iid='447', r_ui=5.0, est=3.9797223820587777, details={'was_impossible': False}),\n",
       " Prediction(uid='471', iid='78', r_ui=5.0, est=5, details={'was_impossible': False}),\n",
       " Prediction(uid='471', iid='788', r_ui=3.0, est=3.896911824676075, details={'was_impossible': False}),\n",
       " Prediction(uid='471', iid='87', r_ui=2.0, est=4.453541693648852, details={'was_impossible': False}),\n",
       " Prediction(uid='471', iid='1246', r_ui=4.0, est=3.967136226637765, details={'was_impossible': False}),\n",
       " Prediction(uid='471', iid='81', r_ui=5.0, est=4.709040907455769, details={'was_impossible': False}),\n",
       " Prediction(uid='471', iid='264', r_ui=4.0, est=4.652632020987477, details={'was_impossible': False}),\n",
       " Prediction(uid='471', iid='389', r_ui=2.0, est=3.639347493891142, details={'was_impossible': False}),\n",
       " Prediction(uid='471', iid='582', r_ui=1.0, est=4.322310001468318, details={'was_impossible': False}),\n",
       " Prediction(uid='471', iid='192', r_ui=5.0, est=4.702191324449082, details={'was_impossible': False}),\n",
       " Prediction(uid='471', iid='745', r_ui=5.0, est=4.328100792768192, details={'was_impossible': False}),\n",
       " Prediction(uid='471', iid='378', r_ui=5.0, est=4.343338041966972, details={'was_impossible': False}),\n",
       " Prediction(uid='471', iid='89', r_ui=5.0, est=3.9038532479928696, details={'was_impossible': False}),\n",
       " Prediction(uid='471', iid='239', r_ui=4.0, est=3.5646230323981913, details={'was_impossible': False}),\n",
       " Prediction(uid='471', iid='353', r_ui=3.0, est=3.705245654198817, details={'was_impossible': False}),\n",
       " Prediction(uid='471', iid='194', r_ui=5.0, est=4.921524709887353, details={'was_impossible': False}),\n",
       " Prediction(uid='471', iid='595', r_ui=5.0, est=3.954929225201192, details={'was_impossible': False}),\n",
       " Prediction(uid='471', iid='769', r_ui=4.0, est=3.4829880046530213, details={'was_impossible': False}),\n",
       " Prediction(uid='471', iid='238', r_ui=5.0, est=4.498088584803077, details={'was_impossible': False}),\n",
       " Prediction(uid='471', iid='808', r_ui=5.0, est=3.7817375367619444, details={'was_impossible': False}),\n",
       " Prediction(uid='471', iid='121', r_ui=3.0, est=3.2395369909541243, details={'was_impossible': False}),\n",
       " Prediction(uid='471', iid='823', r_ui=5.0, est=3.974889393650867, details={'was_impossible': False}),\n",
       " Prediction(uid='471', iid='225', r_ui=5.0, est=4.355064723690154, details={'was_impossible': False}),\n",
       " Prediction(uid='471', iid='403', r_ui=5.0, est=4.286818196313209, details={'was_impossible': False}),\n",
       " Prediction(uid='471', iid='1027', r_ui=4.0, est=3.2285613566745, details={'was_impossible': False}),\n",
       " Prediction(uid='471', iid='253', r_ui=4.0, est=3.268481245963331, details={'was_impossible': False}),\n",
       " Prediction(uid='471', iid='1137', r_ui=5.0, est=3.78315131210036, details={'was_impossible': False}),\n",
       " Prediction(uid='471', iid='398', r_ui=5.0, est=3.620084964599882, details={'was_impossible': False}),\n",
       " Prediction(uid='471', iid='98', r_ui=3.0, est=4.616982742759661, details={'was_impossible': False}),\n",
       " Prediction(uid='471', iid='544', r_ui=4.0, est=3.9438956763885966, details={'was_impossible': False}),\n",
       " Prediction(uid='471', iid='893', r_ui=4.0, est=4.200562868598101, details={'was_impossible': False}),\n",
       " Prediction(uid='471', iid='116', r_ui=3.0, est=4.683344878319533, details={'was_impossible': False}),\n",
       " Prediction(uid='471', iid='922', r_ui=2.0, est=4.248468280288113, details={'was_impossible': False}),\n",
       " Prediction(uid='471', iid='119', r_ui=5.0, est=3.054874996820212, details={'was_impossible': False}),\n",
       " Prediction(uid='471', iid='230', r_ui=5.0, est=3.6357178432273862, details={'was_impossible': False}),\n",
       " Prediction(uid='471', iid='93', r_ui=5.0, est=4.137732811486013, details={'was_impossible': False}),\n",
       " Prediction(uid='471', iid='713', r_ui=4.0, est=4.086004470061534, details={'was_impossible': False}),\n",
       " Prediction(uid='471', iid='2', r_ui=5.0, est=3.91185341326471, details={'was_impossible': False}),\n",
       " Prediction(uid='471', iid='68', r_ui=5.0, est=4.780279556256636, details={'was_impossible': False}),\n",
       " Prediction(uid='471', iid='20', r_ui=3.0, est=3.691972094657823, details={'was_impossible': False}),\n",
       " Prediction(uid='471', iid='718', r_ui=5.0, est=3.8190860809126197, details={'was_impossible': False}),\n",
       " Prediction(uid='471', iid='49', r_ui=5.0, est=5, details={'was_impossible': False}),\n",
       " Prediction(uid='471', iid='120', r_ui=5.0, est=4.3308521915604095, details={'was_impossible': False}),\n",
       " Prediction(uid='471', iid='251', r_ui=4.0, est=3.701684344183454, details={'was_impossible': False}),\n",
       " Prediction(uid='471', iid='548', r_ui=5.0, est=4.402056141349373, details={'was_impossible': False}),\n",
       " Prediction(uid='471', iid='233', r_ui=4.0, est=4.450754286124358, details={'was_impossible': False}),\n",
       " Prediction(uid='471', iid='415', r_ui=4.0, est=3.9847087085720445, details={'was_impossible': False}),\n",
       " Prediction(uid='471', iid='546', r_ui=1.0, est=3.5419897454102993, details={'was_impossible': False}),\n",
       " Prediction(uid='471', iid='453', r_ui=4.0, est=4.109287716414436, details={'was_impossible': False}),\n",
       " Prediction(uid='471', iid='67', r_ui=5.0, est=4.314591809583396, details={'was_impossible': False}),\n",
       " Prediction(uid='471', iid='365', r_ui=5.0, est=4.319669994637918, details={'was_impossible': False}),\n",
       " Prediction(uid='471', iid='400', r_ui=5.0, est=4.482996577482, details={'was_impossible': False}),\n",
       " Prediction(uid='471', iid='214', r_ui=4.0, est=4.631257208649329, details={'was_impossible': False}),\n",
       " Prediction(uid='471', iid='27', r_ui=5.0, est=4.827621236637517, details={'was_impossible': False}),\n",
       " Prediction(uid='471', iid='539', r_ui=5.0, est=3.8054927751735597, details={'was_impossible': False}),\n",
       " Prediction(uid='471', iid='1237', r_ui=5.0, est=3.365097294330855, details={'was_impossible': False}),\n",
       " Prediction(uid='471', iid='470', r_ui=5.0, est=3.995302245988661, details={'was_impossible': False}),\n",
       " Prediction(uid='471', iid='72', r_ui=4.0, est=4.39596040190339, details={'was_impossible': False}),\n",
       " Prediction(uid='471', iid='48', r_ui=5.0, est=4.136594319199509, details={'was_impossible': False}),\n",
       " Prediction(uid='471', iid='171', r_ui=5.0, est=5, details={'was_impossible': False}),\n",
       " Prediction(uid='471', iid='649', r_ui=4.0, est=5, details={'was_impossible': False}),\n",
       " Prediction(uid='471', iid='61', r_ui=5.0, est=4.101283213422157, details={'was_impossible': False}),\n",
       " Prediction(uid='471', iid='37', r_ui=4.0, est=3.952976169290554, details={'was_impossible': False}),\n",
       " Prediction(uid='471', iid='441', r_ui=4.0, est=4.542718482080836, details={'was_impossible': False}),\n",
       " Prediction(uid='471', iid='249', r_ui=5.0, est=4.319843767687103, details={'was_impossible': False}),\n",
       " Prediction(uid='471', iid='864', r_ui=5.0, est=4.0200495618695715, details={'was_impossible': False}),\n",
       " Prediction(uid='471', iid='100', r_ui=5.0, est=4.284026443196536, details={'was_impossible': False}),\n",
       " Prediction(uid='471', iid='26', r_ui=4.0, est=3.9867974198121936, details={'was_impossible': False}),\n",
       " Prediction(uid='471', iid='149', r_ui=3.0, est=4.604181275322941, details={'was_impossible': False}),\n",
       " Prediction(uid='471', iid='1108', r_ui=5.0, est=3.8388377970056613, details={'was_impossible': False}),\n",
       " Prediction(uid='471', iid='382', r_ui=3.0, est=3.8256343959162904, details={'was_impossible': False}),\n",
       " Prediction(uid='471', iid='10', r_ui=5.0, est=4.683648364463319, details={'was_impossible': False}),\n",
       " Prediction(uid='471', iid='744', r_ui=5.0, est=4.582614228876723, details={'was_impossible': False}),\n",
       " Prediction(uid='471', iid='473', r_ui=5.0, est=4.633197128649582, details={'was_impossible': False}),\n",
       " Prediction(uid='471', iid='832', r_ui=3.0, est=3.4328159532448916, details={'was_impossible': False}),\n",
       " Prediction(uid='471', iid='11', r_ui=5.0, est=5, details={'was_impossible': False}),\n",
       " Prediction(uid='471', iid='680', r_ui=4.0, est=3.9786706216986243, details={'was_impossible': False}),\n",
       " Prediction(uid='471', iid='292', r_ui=4.0, est=4.107732598117083, details={'was_impossible': False}),\n",
       " Prediction(uid='471', iid='1088', r_ui=5.0, est=3.309417515755281, details={'was_impossible': False}),\n",
       " Prediction(uid='471', iid='90', r_ui=5.0, est=4.468497821737734, details={'was_impossible': False}),\n",
       " Prediction(uid='471', iid='1000', r_ui=4.0, est=3.5008835655577792, details={'was_impossible': False}),\n",
       " Prediction(uid='471', iid='259', r_ui=4.0, est=3.301622511794343, details={'was_impossible': False}),\n",
       " Prediction(uid='471', iid='1056', r_ui=4.0, est=4.236698877972563, details={'was_impossible': False}),\n",
       " Prediction(uid='471', iid='142', r_ui=4.0, est=4.545443812405976, details={'was_impossible': False}),\n",
       " Prediction(uid='471', iid='0', r_ui=5.0, est=4.725233272194922, details={'was_impossible': False}),\n",
       " Prediction(uid='471', iid='567', r_ui=4.0, est=3.764592597702507, details={'was_impossible': False}),\n",
       " Prediction(uid='471', iid='199', r_ui=4.0, est=4.553567159763672, details={'was_impossible': False}),\n",
       " Prediction(uid='471', iid='122', r_ui=4.0, est=4.092907424327955, details={'was_impossible': False}),\n",
       " Prediction(uid='471', iid='1032', r_ui=3.0, est=3.2374881828540425, details={'was_impossible': False}),\n",
       " Prediction(uid='471', iid='746', r_ui=5.0, est=3.823105206044293, details={'was_impossible': False}),\n",
       " Prediction(uid='471', iid='286', r_ui=5.0, est=4.369878816856992, details={'was_impossible': False}),\n",
       " Prediction(uid='471', iid='1045', r_ui=4.0, est=3.6891676975491894, details={'was_impossible': False}),\n",
       " Prediction(uid='471', iid='167', r_ui=5.0, est=4.866138840740202, details={'was_impossible': False}),\n",
       " Prediction(uid='471', iid='65', r_ui=5.0, est=4.460209302446597, details={'was_impossible': False}),\n",
       " Prediction(uid='471', iid='50', r_ui=5.0, est=4.320026940801959, details={'was_impossible': False}),\n",
       " Prediction(uid='471', iid='494', r_ui=4.0, est=4.993232287884359, details={'was_impossible': False}),\n",
       " Prediction(uid='471', iid='401', r_ui=5.0, est=4.326114551506916, details={'was_impossible': False}),\n",
       " Prediction(uid='471', iid='215', r_ui=4.0, est=4.732277416615818, details={'was_impossible': False}),\n",
       " Prediction(uid='471', iid='96', r_ui=3.0, est=4.648826681030494, details={'was_impossible': False}),\n",
       " Prediction(uid='471', iid='416', r_ui=3.0, est=4.389979719109982, details={'was_impossible': False}),\n",
       " Prediction(uid='471', iid='670', r_ui=4.0, est=3.629651846329606, details={'was_impossible': False}),\n",
       " Prediction(uid='471', iid='631', r_ui=4.0, est=4.830049930354046, details={'was_impossible': False}),\n",
       " Prediction(uid='471', iid='766', r_ui=5.0, est=3.882241447712457, details={'was_impossible': False}),\n",
       " Prediction(uid='471', iid='586', r_ui=3.0, est=4.699730506825973, details={'was_impossible': False}),\n",
       " Prediction(uid='471', iid='1051', r_ui=4.0, est=4.263339622985481, details={'was_impossible': False}),\n",
       " Prediction(uid='471', iid='226', r_ui=5.0, est=4.239590285248368, details={'was_impossible': False}),\n",
       " Prediction(uid='471', iid='108', r_ui=4.0, est=4.376097075041523, details={'was_impossible': False}),\n",
       " Prediction(uid='471', iid='254', r_ui=5.0, est=4.270847398750225, details={'was_impossible': False}),\n",
       " Prediction(uid='471', iid='221', r_ui=5.0, est=4.650095202512716, details={'was_impossible': False}),\n",
       " Prediction(uid='471', iid='172', r_ui=5.0, est=5, details={'was_impossible': False}),\n",
       " Prediction(uid='471', iid='62', r_ui=4.0, est=4.1677863721128325, details={'was_impossible': False}),\n",
       " Prediction(uid='471', iid='676', r_ui=4.0, est=3.6936396268136678, details={'was_impossible': False}),\n",
       " Prediction(uid='471', iid='949', r_ui=1.0, est=3.5182639190032785, details={'was_impossible': False}),\n",
       " Prediction(uid='471', iid='483', r_ui=3.0, est=4.674521628924734, details={'was_impossible': False}),\n",
       " Prediction(uid='471', iid='55', r_ui=5.0, est=4.748351056545202, details={'was_impossible': False}),\n",
       " Prediction(uid='471', iid='383', r_ui=5.0, est=4.725829766892863, details={'was_impossible': False}),\n",
       " Prediction(uid='471', iid='418', r_ui=3.0, est=4.423399842235243, details={'was_impossible': False}),\n",
       " Prediction(uid='641', iid='401', r_ui=4.0, est=3.823955973363952, details={'was_impossible': False}),\n",
       " Prediction(uid='641', iid='582', r_ui=4.0, est=4.031730129480749, details={'was_impossible': False}),\n",
       " Prediction(uid='641', iid='754', r_ui=5.0, est=3.2986185993259896, details={'was_impossible': False}),\n",
       " Prediction(uid='641', iid='1176', r_ui=3.0, est=3.0352932727564315, details={'was_impossible': False}),\n",
       " Prediction(uid='641', iid='96', r_ui=4.0, est=4.156290716597999, details={'was_impossible': False}),\n",
       " Prediction(uid='641', iid='967', r_ui=2.0, est=4.146453297482889, details={'was_impossible': False}),\n",
       " Prediction(uid='641', iid='649', r_ui=4.0, est=4.427057508541563, details={'was_impossible': False}),\n",
       " Prediction(uid='641', iid='1285', r_ui=2.0, est=3.1149484946539925, details={'was_impossible': False}),\n",
       " Prediction(uid='641', iid='72', r_ui=4.0, est=3.889495710122814, details={'was_impossible': False}),\n",
       " Prediction(uid='641', iid='37', r_ui=4.0, est=3.3773410439001945, details={'was_impossible': False}),\n",
       " Prediction(uid='641', iid='256', r_ui=5.0, est=4.060507742767404, details={'was_impossible': False}),\n",
       " Prediction(uid='641', iid='1074', r_ui=2.0, est=3.243593572907824, details={'was_impossible': False}),\n",
       " Prediction(uid='641', iid='400', r_ui=4.0, est=3.956420506927549, details={'was_impossible': False}),\n",
       " Prediction(uid='641', iid='1334', r_ui=2.0, est=2.9655089028673403, details={'was_impossible': False}),\n",
       " Prediction(uid='641', iid='792', r_ui=4.0, est=3.868752885649499, details={'was_impossible': False}),\n",
       " Prediction(uid='641', iid='744', r_ui=3.0, est=4.1652142272895345, details={'was_impossible': False}),\n",
       " Prediction(uid='641', iid='577', r_ui=4.0, est=3.177610598608261, details={'was_impossible': False}),\n",
       " Prediction(uid='641', iid='558', r_ui=4.0, est=3.140430283906247, details={'was_impossible': False}),\n",
       " Prediction(uid='641', iid='381', r_ui=5.0, est=2.699504886880721, details={'was_impossible': False}),\n",
       " Prediction(uid='641', iid='155', r_ui=1.0, est=4.3993691549393175, details={'was_impossible': False}),\n",
       " Prediction(uid='641', iid='292', r_ui=5.0, est=3.648455645529884, details={'was_impossible': False}),\n",
       " Prediction(uid='641', iid='70', r_ui=5.0, est=4.187749157552119, details={'was_impossible': False}),\n",
       " Prediction(uid='641', iid='551', r_ui=5.0, est=3.8466409577215237, details={'was_impossible': False}),\n",
       " Prediction(uid='641', iid='753', r_ui=3.0, est=3.749459549974009, details={'was_impossible': False}),\n",
       " Prediction(uid='641', iid='244', r_ui=4.0, est=3.6276962056813438, details={'was_impossible': False}),\n",
       " Prediction(uid='641', iid='461', r_ui=3.0, est=4.394206720722917, details={'was_impossible': False}),\n",
       " Prediction(uid='641', iid='718', r_ui=5.0, est=3.28477034304004, details={'was_impossible': False}),\n",
       " Prediction(uid='641', iid='730', r_ui=4.0, est=4.15195445217323, details={'was_impossible': False}),\n",
       " Prediction(uid='641', iid='185', r_ui=5.0, est=4.2473175738542785, details={'was_impossible': False}),\n",
       " Prediction(uid='641', iid='101', r_ui=5.0, est=3.5539825203069193, details={'was_impossible': False}),\n",
       " Prediction(uid='641', iid='697', r_ui=5.0, est=4.215679940530958, details={'was_impossible': False}),\n",
       " Prediction(uid='641', iid='830', r_ui=3.0, est=2.9683214004733736, details={'was_impossible': False}),\n",
       " Prediction(uid='641', iid='190', r_ui=4.0, est=4.653088786237726, details={'was_impossible': False}),\n",
       " Prediction(uid='641', iid='944', r_ui=2.0, est=3.572624886641266, details={'was_impossible': False}),\n",
       " Prediction(uid='641', iid='566', r_ui=4.0, est=3.9909278420038015, details={'was_impossible': False}),\n",
       " Prediction(uid='641', iid='810', r_ui=4.0, est=3.558511510658402, details={'was_impossible': False}),\n",
       " Prediction(uid='641', iid='389', r_ui=4.0, est=3.2430673562270687, details={'was_impossible': False}),\n",
       " Prediction(uid='641', iid='399', r_ui=4.0, est=3.1010245181231464, details={'was_impossible': False}),\n",
       " Prediction(uid='641', iid='417', r_ui=4.0, est=4.052176475792213, details={'was_impossible': False}),\n",
       " Prediction(uid='641', iid='230', r_ui=3.0, est=3.0346601826212893, details={'was_impossible': False}),\n",
       " Prediction(uid='641', iid='824', r_ui=5.0, est=2.9442917353188736, details={'was_impossible': False}),\n",
       " Prediction(uid='641', iid='1', r_ui=4.0, est=3.67140336239901, details={'was_impossible': False}),\n",
       " Prediction(uid='641', iid='147', r_ui=5.0, est=3.5810935375164052, details={'was_impossible': False}),\n",
       " Prediction(uid='641', iid='14', r_ui=5.0, est=4.169228642160298, details={'was_impossible': False}),\n",
       " Prediction(uid='641', iid='216', r_ui=2.0, est=3.7113993005407657, details={'was_impossible': False}),\n",
       " Prediction(uid='641', iid='953', r_ui=3.0, est=3.9080362996533924, details={'was_impossible': False}),\n",
       " Prediction(uid='641', iid='1529', r_ui=3.0, est=3.7919199689386955, details={'was_impossible': False}),\n",
       " Prediction(uid='641', iid='414', r_ui=5.0, est=3.892027356648067, details={'was_impossible': False}),\n",
       " Prediction(uid='641', iid='445', r_ui=4.0, est=4.083894106772525, details={'was_impossible': False}),\n",
       " Prediction(uid='641', iid='441', r_ui=2.0, est=4.140745033932949, details={'was_impossible': False}),\n",
       " Prediction(uid='641', iid='224', r_ui=4.0, est=3.402617337092601, details={'was_impossible': False}),\n",
       " Prediction(uid='641', iid='7', r_ui=5.0, est=4.51070016434168, details={'was_impossible': False}),\n",
       " Prediction(uid='641', iid='746', r_ui=5.0, est=3.693106870555827, details={'was_impossible': False}),\n",
       " Prediction(uid='641', iid='740', r_ui=5.0, est=3.8754131056489434, details={'was_impossible': False}),\n",
       " Prediction(uid='641', iid='124', r_ui=4.0, est=3.93604904493014, details={'was_impossible': False}),\n",
       " Prediction(uid='641', iid='573', r_ui=3.0, est=3.0212645833956913, details={'was_impossible': False}),\n",
       " Prediction(uid='641', iid='286', r_ui=1.0, est=3.6388575746033975, details={'was_impossible': False}),\n",
       " Prediction(uid='641', iid='940', r_ui=4.0, est=4.034669162183434, details={'was_impossible': False}),\n",
       " Prediction(uid='641', iid='217', r_ui=3.0, est=3.844682040038591, details={'was_impossible': False}),\n",
       " Prediction(uid='641', iid='93', r_ui=2.0, est=3.4505858672615, details={'was_impossible': False}),\n",
       " Prediction(uid='641', iid='402', r_ui=3.0, est=3.973465167158527, details={'was_impossible': False}),\n",
       " Prediction(uid='641', iid='919', r_ui=5.0, est=4.572204171610951, details={'was_impossible': False}),\n",
       " Prediction(uid='641', iid='180', r_ui=5.0, est=4.413706515606749, details={'was_impossible': False}),\n",
       " Prediction(uid='641', iid='973', r_ui=2.0, est=3.582556729459052, details={'was_impossible': False}),\n",
       " Prediction(uid='641', iid='173', r_ui=5.0, est=4.635819044609759, details={'was_impossible': False}),\n",
       " Prediction(uid='641', iid='0', r_ui=5.0, est=4.28992919030423, details={'was_impossible': False}),\n",
       " Prediction(uid='641', iid='1237', r_ui=4.0, est=3.0449337527842304, details={'was_impossible': False}),\n",
       " Prediction(uid='641', iid='355', r_ui=2.0, est=4.711675953701797, details={'was_impossible': False}),\n",
       " Prediction(uid='641', iid='499', r_ui=2.0, est=3.856690167543196, details={'was_impossible': False}),\n",
       " Prediction(uid='641', iid='938', r_ui=2.0, est=2.852576109714334, details={'was_impossible': False}),\n",
       " Prediction(uid='641', iid='439', r_ui=1.0, est=3.0687667503435243, details={'was_impossible': False}),\n",
       " Prediction(uid='641', iid='354', r_ui=4.0, est=3.7994644191267315, details={'was_impossible': False}),\n",
       " Prediction(uid='641', iid='926', r_ui=5.0, est=3.5747065198213814, details={'was_impossible': False}),\n",
       " Prediction(uid='641', iid='207', r_ui=5.0, est=4.3535307809169375, details={'was_impossible': False}),\n",
       " Prediction(uid='641', iid='146', r_ui=4.0, est=3.875422833230759, details={'was_impossible': False}),\n",
       " Prediction(uid='641', iid='135', r_ui=3.0, est=4.418795695568132, details={'was_impossible': False}),\n",
       " Prediction(uid='641', iid='63', r_ui=5.0, est=4.865514428965056, details={'was_impossible': False}),\n",
       " Prediction(uid='641', iid='66', r_ui=4.0, est=3.5405300473475068, details={'was_impossible': False}),\n",
       " Prediction(uid='641', iid='215', r_ui=3.0, est=4.390510228108157, details={'was_impossible': False}),\n",
       " Prediction(uid='641', iid='813', r_ui=4.0, est=3.5817452892364186, details={'was_impossible': False}),\n",
       " Prediction(uid='641', iid='418', r_ui=4.0, est=4.0296634930989015, details={'was_impossible': False}),\n",
       " Prediction(uid='641', iid='239', r_ui=3.0, est=3.0817936655128504, details={'was_impossible': False}),\n",
       " Prediction(uid='641', iid='52', r_ui=2.0, est=3.324285234759227, details={'was_impossible': False}),\n",
       " Prediction(uid='641', iid='1131', r_ui=3.0, est=3.574990511187695, details={'was_impossible': False}),\n",
       " Prediction(uid='641', iid='94', r_ui=5.0, est=4.25516015446659, details={'was_impossible': False}),\n",
       " Prediction(uid='641', iid='994', r_ui=2.0, est=3.146570576324675, details={'was_impossible': False}),\n",
       " Prediction(uid='641', iid='89', r_ui=4.0, est=3.542336277525292, details={'was_impossible': False}),\n",
       " Prediction(uid='641', iid='130', r_ui=3.0, est=4.112508934178505, details={'was_impossible': False}),\n",
       " Prediction(uid='641', iid='621', r_ui=4.0, est=3.41701857584401, details={'was_impossible': False}),\n",
       " Prediction(uid='641', iid='778', r_ui=5.0, est=3.447968211338478, details={'was_impossible': False}),\n",
       " Prediction(uid='641', iid='825', r_ui=1.0, est=3.1914390289005943, details={'was_impossible': False}),\n",
       " Prediction(uid='641', iid='552', r_ui=4.0, est=3.3929887360435065, details={'was_impossible': False}),\n",
       " Prediction(uid='641', iid='43', r_ui=3.0, est=3.6142960992427735, details={'was_impossible': False}),\n",
       " Prediction(uid='641', iid='583', r_ui=5.0, est=3.1238903917795087, details={'was_impossible': False}),\n",
       " Prediction(uid='641', iid='20', r_ui=5.0, est=3.3501997112961037, details={'was_impossible': False}),\n",
       " Prediction(uid='641', iid='799', r_ui=3.0, est=3.381243092948948, details={'was_impossible': False}),\n",
       " Prediction(uid='641', iid='773', r_ui=4.0, est=3.243893133738749, details={'was_impossible': False}),\n",
       " Prediction(uid='641', iid='466', r_ui=3.0, est=3.7417381807634724, details={'was_impossible': False}),\n",
       " Prediction(uid='641', iid='1026', r_ui=4.0, est=3.4392261584839745, details={'was_impossible': False}),\n",
       " Prediction(uid='641', iid='201', r_ui=3.0, est=4.183035236992703, details={'was_impossible': False}),\n",
       " Prediction(uid='641', iid='77', r_ui=3.0, est=2.972100268091557, details={'was_impossible': False}),\n",
       " Prediction(uid='641', iid='1423', r_ui=2.0, est=3.2509990733101173, details={'was_impossible': False}),\n",
       " Prediction(uid='641', iid='154', r_ui=3.0, est=3.554692037490144, details={'was_impossible': False}),\n",
       " Prediction(uid='641', iid='416', r_ui=5.0, est=3.8635011007365625, details={'was_impossible': False}),\n",
       " Prediction(uid='641', iid='622', r_ui=3.0, est=3.7103302484013905, details={'was_impossible': False}),\n",
       " Prediction(uid='641', iid='964', r_ui=5.0, est=4.5098636747212195, details={'was_impossible': False}),\n",
       " Prediction(uid='641', iid='1471', r_ui=4.0, est=3.7786060180945333, details={'was_impossible': False}),\n",
       " Prediction(uid='641', iid='1411', r_ui=3.0, est=3.472794216631955, details={'was_impossible': False}),\n",
       " Prediction(uid='641', iid='116', r_ui=4.0, est=4.076435438824852, details={'was_impossible': False}),\n",
       " Prediction(uid='641', iid='374', r_ui=3.0, est=3.2856498585799243, details={'was_impossible': False}),\n",
       " Prediction(uid='641', iid='203', r_ui=4.0, est=4.090800968499968, details={'was_impossible': False}),\n",
       " Prediction(uid='641', iid='623', r_ui=3.0, est=3.6949487133973142, details={'was_impossible': False}),\n",
       " Prediction(uid='641', iid='991', r_ui=4.0, est=3.903618124305005, details={'was_impossible': False}),\n",
       " Prediction(uid='641', iid='209', r_ui=5.0, est=4.377497956960162, details={'was_impossible': False}),\n",
       " Prediction(uid='641', iid='1283', r_ui=4.0, est=3.609405452666787, details={'was_impossible': False}),\n",
       " Prediction(uid='641', iid='21', r_ui=4.0, est=4.562867219581099, details={'was_impossible': False}),\n",
       " Prediction(uid='641', iid='1180', r_ui=2.0, est=3.099550055559965, details={'was_impossible': False}),\n",
       " Prediction(uid='641', iid='471', r_ui=1.0, est=3.5923689863101904, details={'was_impossible': False}),\n",
       " Prediction(uid='641', iid='721', r_ui=4.0, est=3.727846629548514, details={'was_impossible': False}),\n",
       " Prediction(uid='641', iid='142', r_ui=5.0, est=4.030376532664325, details={'was_impossible': False}),\n",
       " Prediction(uid='641', iid='69', r_ui=2.0, est=4.201951335513663, details={'was_impossible': False}),\n",
       " Prediction(uid='641', iid='82', r_ui=5.0, est=4.56922385235853, details={'was_impossible': False}),\n",
       " Prediction(uid='641', iid='732', r_ui=3.0, est=3.196571677528768, details={'was_impossible': False}),\n",
       " Prediction(uid='641', iid='90', r_ui=4.0, est=3.9871782104218143, details={'was_impossible': False}),\n",
       " Prediction(uid='641', iid='27', r_ui=5.0, est=4.358730336010625, details={'was_impossible': False}),\n",
       " Prediction(uid='641', iid='586', r_ui=5.0, est=4.383024818341528, details={'was_impossible': False}),\n",
       " Prediction(uid='641', iid='972', r_ui=3.0, est=3.4253590075314317, details={'was_impossible': False}),\n",
       " Prediction(uid='641', iid='393', r_ui=5.0, est=3.0612793156193834, details={'was_impossible': False}),\n",
       " Prediction(uid='641', iid='430', r_ui=2.0, est=3.969596458647768, details={'was_impossible': False}),\n",
       " Prediction(uid='641', iid='449', r_ui=5.0, est=3.859764126043032, details={'was_impossible': False}),\n",
       " Prediction(uid='641', iid='396', r_ui=2.0, est=2.655262860584616, details={'was_impossible': False}),\n",
       " Prediction(uid='641', iid='1037', r_ui=5.0, est=4.437989473516523, details={'was_impossible': False}),\n",
       " Prediction(uid='641', iid='483', r_ui=5.0, est=4.390016259301293, details={'was_impossible': False}),\n",
       " Prediction(uid='641', iid='131', r_ui=3.0, est=4.443035444576743, details={'was_impossible': False}),\n",
       " Prediction(uid='641', iid='1077', r_ui=5.0, est=2.767592074020714, details={'was_impossible': False}),\n",
       " Prediction(uid='641', iid='475', r_ui=5.0, est=3.63624980785159, details={'was_impossible': False}),\n",
       " Prediction(uid='641', iid='942', r_ui=5.0, est=3.4385660345673164, details={'was_impossible': False}),\n",
       " Prediction(uid='641', iid='575', r_ui=4.0, est=2.8344608724489904, details={'was_impossible': False}),\n",
       " Prediction(uid='641', iid='726', r_ui=4.0, est=3.443870060204009, details={'was_impossible': False}),\n",
       " Prediction(uid='641', iid='563', r_ui=4.0, est=3.3946624691175695, details={'was_impossible': False}),\n",
       " Prediction(uid='641', iid='165', r_ui=5.0, est=4.509039383120362, details={'was_impossible': False}),\n",
       " Prediction(uid='641', iid='620', r_ui=4.0, est=3.7119777781344983, details={'was_impossible': False}),\n",
       " Prediction(uid='641', iid='862', r_ui=3.0, est=3.476289255547175, details={'was_impossible': False}),\n",
       " Prediction(uid='641', iid='253', r_ui=4.0, est=2.872327700370983, details={'was_impossible': False}),\n",
       " Prediction(uid='641', iid='407', r_ui=5.0, est=3.505945202485089, details={'was_impossible': False}),\n",
       " Prediction(uid='641', iid='384', r_ui=5.0, est=3.2637210761255733, details={'was_impossible': False}),\n",
       " Prediction(uid='641', iid='841', r_ui=3.0, est=3.38826974239024, details={'was_impossible': False}),\n",
       " Prediction(uid='641', iid='720', r_ui=3.0, est=3.3741314082772824, details={'was_impossible': False}),\n",
       " Prediction(uid='641', iid='405', r_ui=5.0, est=2.9030571277836534, details={'was_impossible': False}),\n",
       " Prediction(uid='641', iid='1089', r_ui=4.0, est=3.201073273891589, details={'was_impossible': False}),\n",
       " Prediction(uid='641', iid='1413', r_ui=4.0, est=3.4292038663178523, details={'was_impossible': False}),\n",
       " Prediction(uid='641', iid='1061', r_ui=3.0, est=4.027892653518496, details={'was_impossible': False}),\n",
       " Prediction(uid='641', iid='403', r_ui=3.0, est=3.6981395854032244, details={'was_impossible': False}),\n",
       " Prediction(uid='641', iid='1064', r_ui=3.0, est=3.7828297290037765, details={'was_impossible': False}),\n",
       " Prediction(uid='641', iid='1030', r_ui=4.0, est=3.416156318080971, details={'was_impossible': False}),\n",
       " Prediction(uid='641', iid='757', r_ui=3.0, est=3.0610374429833933, details={'was_impossible': False}),\n",
       " Prediction(uid='641', iid='626', r_ui=3.0, est=4.107344883893858, details={'was_impossible': False}),\n",
       " Prediction(uid='641', iid='677', r_ui=2.0, est=3.601317075083802, details={'was_impossible': False}),\n",
       " Prediction(uid='641', iid='777', r_ui=3.0, est=3.078564985341645, details={'was_impossible': False}),\n",
       " Prediction(uid='641', iid='949', r_ui=3.0, est=3.270865696973181, details={'was_impossible': False}),\n",
       " Prediction(uid='641', iid='793', r_ui=4.0, est=2.925939481766606, details={'was_impossible': False}),\n",
       " Prediction(uid='641', iid='766', r_ui=4.0, est=3.522462792438874, details={'was_impossible': False}),\n",
       " Prediction(uid='641', iid='257', r_ui=3.0, est=4.326577287359853, details={'was_impossible': False}),\n",
       " Prediction(uid='641', iid='48', r_ui=4.0, est=3.738208267406685, details={'was_impossible': False}),\n",
       " Prediction(uid='641', iid='567', r_ui=2.0, est=3.158214258896961, details={'was_impossible': False}),\n",
       " Prediction(uid='641', iid='550', r_ui=4.0, est=3.2663508969504207, details={'was_impossible': False}),\n",
       " Prediction(uid='641', iid='450', r_ui=1.0, est=3.0562618133644586, details={'was_impossible': False}),\n",
       " Prediction(uid='641', iid='737', r_ui=5.0, est=3.7658384824891296, details={'was_impossible': False}),\n",
       " Prediction(uid='641', iid='40', r_ui=3.0, est=3.5248514703921834, details={'was_impossible': False}),\n",
       " Prediction(uid='641', iid='932', r_ui=2.0, est=3.116537823172747, details={'was_impossible': False}),\n",
       " Prediction(uid='641', iid='362', r_ui=5.0, est=3.0901054481566135, details={'was_impossible': False}),\n",
       " Prediction(uid='641', iid='53', r_ui=4.0, est=3.6741879846851075, details={'was_impossible': False}),\n",
       " Prediction(uid='641', iid='684', r_ui=5.0, est=4.166413014526055, details={'was_impossible': False}),\n",
       " Prediction(uid='641', iid='579', r_ui=2.0, est=3.7351122060871336, details={'was_impossible': False}),\n",
       " Prediction(uid='641', iid='121', r_ui=2.0, est=2.8452170186959, details={'was_impossible': False}),\n",
       " Prediction(uid='641', iid='375', r_ui=3.0, est=2.9053664008358333, details={'was_impossible': False}),\n",
       " Prediction(uid='641', iid='64', r_ui=4.0, est=4.072626234175889, details={'was_impossible': False}),\n",
       " Prediction(uid='641', iid='365', r_ui=5.0, est=4.000932367050117, details={'was_impossible': False}),\n",
       " Prediction(uid='641', iid='420', r_ui=3.0, est=3.3559452800303244, details={'was_impossible': False}),\n",
       " Prediction(uid='641', iid='1138', r_ui=4.0, est=2.770000188151711, details={'was_impossible': False}),\n",
       " Prediction(uid='641', iid='1478', r_ui=1.0, est=3.276638952801914, details={'was_impossible': False}),\n",
       " Prediction(uid='641', iid='141', r_ui=4.0, est=3.586689417439216, details={'was_impossible': False}),\n",
       " Prediction(uid='641', iid='248', r_ui=5.0, est=3.56418824512581, details={'was_impossible': False}),\n",
       " Prediction(uid='641', iid='1021', r_ui=3.0, est=3.1741515964097107, details={'was_impossible': False}),\n",
       " Prediction(uid='641', iid='137', r_ui=4.0, est=3.081607111605285, details={'was_impossible': False}),\n",
       " Prediction(uid='641', iid='219', r_ui=4.0, est=3.8396923514239405, details={'was_impossible': False}),\n",
       " Prediction(uid='641', iid='152', r_ui=3.0, est=4.257033477674551, details={'was_impossible': False}),\n",
       " Prediction(uid='641', iid='1150', r_ui=5.0, est=3.83767212661151, details={'was_impossible': False}),\n",
       " Prediction(uid='641', iid='150', r_ui=3.0, est=4.040267393460899, details={'was_impossible': False}),\n",
       " Prediction(uid='641', iid='767', r_ui=5.0, est=2.889420474246444, details={'was_impossible': False}),\n",
       " Prediction(uid='641', iid='109', r_ui=2.0, est=3.010186434228872, details={'was_impossible': False}),\n",
       " Prediction(uid='641', iid='363', r_ui=4.0, est=3.679273650434239, details={'was_impossible': False}),\n",
       " Prediction(uid='641', iid='568', r_ui=1.0, est=3.3349845275437002, details={'was_impossible': False}),\n",
       " Prediction(uid='641', iid='540', r_ui=5.0, est=3.002221317280665, details={'was_impossible': False}),\n",
       " Prediction(uid='641', iid='625', r_ui=3.0, est=3.5750464913302875, details={'was_impossible': False}),\n",
       " Prediction(uid='641', iid='382', r_ui=5.0, est=3.2355647072848286, details={'was_impossible': False}),\n",
       " Prediction(uid='641', iid='3', r_ui=3.0, est=3.8679277315696736, details={'was_impossible': False}),\n",
       " Prediction(uid='641', iid='249', r_ui=5.0, est=3.854035209895313, details={'was_impossible': False}),\n",
       " Prediction(uid='641', iid='119', r_ui=3.0, est=2.4917915732274887, details={'was_impossible': False}),\n",
       " Prediction(uid='641', iid='117', r_ui=3.0, est=3.6173797262813596, details={'was_impossible': False}),\n",
       " Prediction(uid='641', iid='1183', r_ui=4.0, est=2.9404021955336144, details={'was_impossible': False}),\n",
       " Prediction(uid='641', iid='658', r_ui=3.0, est=4.258593589359659, details={'was_impossible': False}),\n",
       " Prediction(uid='641', iid='727', r_ui=3.0, est=3.9458701523880566, details={'was_impossible': False}),\n",
       " Prediction(uid='641', iid='1144', r_ui=1.0, est=3.4644615662790312, details={'was_impossible': False}),\n",
       " Prediction(uid='641', iid='68', r_ui=5.0, est=4.086122140280337, details={'was_impossible': False}),\n",
       " Prediction(uid='641', iid='1034', r_ui=4.0, est=3.1648273260890045, details={'was_impossible': False}),\n",
       " Prediction(uid='641', iid='1124', r_ui=1.0, est=3.7209199963887323, details={'was_impossible': False}),\n",
       " Prediction(uid='641', iid='194', r_ui=3.0, est=4.456715720590361, details={'was_impossible': False}),\n",
       " Prediction(uid='641', iid='724', r_ui=2.0, est=3.3233706099638165, details={'was_impossible': False}),\n",
       " Prediction(uid='641', iid='947', r_ui=1.0, est=3.768636566248947, details={'was_impossible': False}),\n",
       " Prediction(uid='641', iid='49', r_ui=5.0, est=4.786033396541129, details={'was_impossible': False}),\n",
       " Prediction(uid='641', iid='1047', r_ui=3.0, est=3.0448034202919594, details={'was_impossible': False}),\n",
       " Prediction(uid='641', iid='79', r_ui=5.0, est=3.391188012629703, details={'was_impossible': False}),\n",
       " Prediction(uid='641', iid='415', r_ui=3.0, est=3.43279491817882, details={'was_impossible': False}),\n",
       " Prediction(uid='641', iid='1056', r_ui=3.0, est=3.663147353073962, details={'was_impossible': False}),\n",
       " Prediction(uid='641', iid='236', r_ui=5.0, est=4.116825320022568, details={'was_impossible': False}),\n",
       " Prediction(uid='641', iid='998', r_ui=3.0, est=3.6748691105526996, details={'was_impossible': False}),\n",
       " Prediction(uid='641', iid='442', r_ui=1.0, est=3.446318922315598, details={'was_impossible': False}),\n",
       " Prediction(uid='641', iid='290', r_ui=2.0, est=3.9699347957531903, details={'was_impossible': False}),\n",
       " Prediction(uid='641', iid='1031', r_ui=3.0, est=3.228579733843941, details={'was_impossible': False}),\n",
       " Prediction(uid='641', iid='167', r_ui=5.0, est=4.5817458554372275, details={'was_impossible': False}),\n",
       " Prediction(uid='641', iid='843', r_ui=5.0, est=4.018756010245249, details={'was_impossible': False}),\n",
       " Prediction(uid='641', iid='409', r_ui=5.0, est=3.3230545227353447, details={'was_impossible': False}),\n",
       " Prediction(uid='641', iid='595', r_ui=4.0, est=3.5719085221964466, details={'was_impossible': False}),\n",
       " Prediction(uid='641', iid='12', r_ui=4.0, est=3.748255482403119, details={'was_impossible': False}),\n",
       " Prediction(uid='641', iid='1076', r_ui=5.0, est=3.4649272648533826, details={'was_impossible': False}),\n",
       " Prediction(uid='641', iid='397', r_ui=3.0, est=3.74165826560174, details={'was_impossible': False}),\n",
       " Prediction(uid='641', iid='65', r_ui=5.0, est=3.9872541582885357, details={'was_impossible': False}),\n",
       " Prediction(uid='641', iid='81', r_ui=5.0, est=4.018340696547043, details={'was_impossible': False}),\n",
       " Prediction(uid='641', iid='1179', r_ui=2.0, est=3.2301065162049705, details={'was_impossible': False}),\n",
       " Prediction(uid='641', iid='1051', r_ui=3.0, est=3.9222862144067183, details={'was_impossible': False}),\n",
       " Prediction(uid='641', iid='251', r_ui=5.0, est=3.3496596607213682, details={'was_impossible': False}),\n",
       " Prediction(uid='641', iid='376', r_ui=3.0, est=4.0876142453483935, details={'was_impossible': False}),\n",
       " Prediction(uid='641', iid='138', r_ui=1.0, est=3.1803157021056645, details={'was_impossible': False}),\n",
       " Prediction(uid='641', iid='869', r_ui=3.0, est=2.8356847766429674, details={'was_impossible': False}),\n",
       " Prediction(uid='641', iid='1028', r_ui=4.0, est=3.1453258123681143, details={'was_impossible': False}),\n",
       " Prediction(uid='641', iid='539', r_ui=5.0, est=3.383096098486357, details={'was_impossible': False}),\n",
       " Prediction(uid='641', iid='62', r_ui=3.0, est=3.4784455907378344, details={'was_impossible': False}),\n",
       " Prediction(uid='641', iid='398', r_ui=4.0, est=3.204363950672173, details={'was_impossible': False}),\n",
       " Prediction(uid='641', iid='860', r_ui=4.0, est=2.8452705472391346, details={'was_impossible': False}),\n",
       " Prediction(uid='641', iid='1217', r_ui=4.0, est=3.4039244884869237, details={'was_impossible': False}),\n",
       " Prediction(uid='641', iid='957', r_ui=5.0, est=3.927604370316153, details={'was_impossible': False}),\n",
       " Prediction(uid='641', iid='367', r_ui=2.0, est=3.0163578187923252, details={'was_impossible': False}),\n",
       " Prediction(uid='641', iid='366', r_ui=4.0, est=2.323492049055916, details={'was_impossible': False}),\n",
       " Prediction(uid='641', iid='470', r_ui=5.0, est=3.4416300535791415, details={'was_impossible': False}),\n",
       " Prediction(uid='641', iid='98', r_ui=2.0, est=3.99276446699854, details={'was_impossible': False}),\n",
       " Prediction(uid='641', iid='1467', r_ui=4.0, est=3.711971442726235, details={'was_impossible': False}),\n",
       " Prediction(uid='641', iid='769', r_ui=3.0, est=3.0737075494518624, details={'was_impossible': False}),\n",
       " Prediction(uid='641', iid='460', r_ui=4.0, est=4.3022149707343065, details={'was_impossible': False}),\n",
       " Prediction(uid='641', iid='494', r_ui=4.0, est=4.302102566779778, details={'was_impossible': False}),\n",
       " Prediction(uid='641', iid='557', r_ui=5.0, est=3.572686366898427, details={'was_impossible': False}),\n",
       " Prediction(uid='641', iid='71', r_ui=4.0, est=3.6010349243690016, details={'was_impossible': False}),\n",
       " Prediction(uid='641', iid='1501', r_ui=2.0, est=3.5630242982925524, details={'was_impossible': False}),\n",
       " Prediction(uid='641', iid='468', r_ui=4.0, est=4.053228371707571, details={'was_impossible': False}),\n",
       " Prediction(uid='641', iid='1507', r_ui=2.0, est=3.21527042054659, details={'was_impossible': False}),\n",
       " Prediction(uid='641', iid='316', r_ui=2.0, est=4.733252982475669, details={'was_impossible': False}),\n",
       " Prediction(uid='641', iid='50', r_ui=5.0, est=3.872802646043218, details={'was_impossible': False}),\n",
       " Prediction(uid='641', iid='410', r_ui=2.0, est=2.636195358641, details={'was_impossible': False}),\n",
       " Prediction(uid='641', iid='463', r_ui=4.0, est=3.9699755788579263, details={'was_impossible': False}),\n",
       " Prediction(uid='641', iid='929', r_ui=4.0, est=2.7665725408896886, details={'was_impossible': False}),\n",
       " Prediction(uid='641', iid='671', r_ui=2.0, est=3.946204692007359, details={'was_impossible': False}),\n",
       " Prediction(uid='641', iid='525', r_ui=4.0, est=4.496788836669158, details={'was_impossible': False}),\n",
       " Prediction(uid='641', iid='140', r_ui=4.0, est=3.936800482693648, details={'was_impossible': False}),\n",
       " Prediction(uid='641', iid='373', r_ui=1.0, est=2.6324047287618186, details={'was_impossible': False}),\n",
       " Prediction(uid='641', iid='1222', r_ui=4.0, est=3.629573653384487, details={'was_impossible': False}),\n",
       " Prediction(uid='641', iid='930', r_ui=5.0, est=3.3354202223386697, details={'was_impossible': False}),\n",
       " Prediction(uid='641', iid='104', r_ui=5.0, est=2.834995896746917, details={'was_impossible': False}),\n",
       " Prediction(uid='641', iid='28', r_ui=5.0, est=3.0579304333831665, details={'was_impossible': False}),\n",
       " Prediction(uid='641', iid='234', r_ui=2.0, est=3.255727572922334, details={'was_impossible': False}),\n",
       " Prediction(uid='641', iid='132', r_ui=5.0, est=4.248909412041013, details={'was_impossible': False}),\n",
       " Prediction(uid='641', iid='391', r_ui=5.0, est=3.822838787563163, details={'was_impossible': False}),\n",
       " Prediction(uid='641', iid='95', r_ui=5.0, est=4.454767295213642, details={'was_impossible': False}),\n",
       " Prediction(uid='641', iid='1093', r_ui=2.0, est=3.0280034959567925, details={'was_impossible': False}),\n",
       " Prediction(uid='641', iid='1053', r_ui=4.0, est=3.7728387590613712, details={'was_impossible': False}),\n",
       " Prediction(uid='641', iid='729', r_ui=5.0, est=3.757030406477448, details={'was_impossible': False}),\n",
       " Prediction(uid='641', iid='139', r_ui=3.0, est=3.6393875675156826, details={'was_impossible': False}),\n",
       " Prediction(uid='641', iid='788', r_ui=4.0, est=3.278452854346681, details={'was_impossible': False}),\n",
       " Prediction(uid='641', iid='120', r_ui=5.0, est=3.8118884584536668, details={'was_impossible': False}),\n",
       " Prediction(uid='641', iid='794', r_ui=4.0, est=3.6185948786499025, details={'was_impossible': False}),\n",
       " Prediction(uid='641', iid='1027', r_ui=3.0, est=2.620453521440357, details={'was_impossible': False}),\n",
       " Prediction(uid='641', iid='569', r_ui=3.0, est=3.0786311490443468, details={'was_impossible': False}),\n",
       " Prediction(uid='641', iid='723', r_ui=4.0, est=3.353428308532816, details={'was_impossible': False}),\n",
       " Prediction(uid='641', iid='1035', r_ui=2.0, est=2.6909115231126144, details={'was_impossible': False}),\n",
       " Prediction(uid='641', iid='996', r_ui=3.0, est=3.338813344808837, details={'was_impossible': False}),\n",
       " Prediction(uid='641', iid='134', r_ui=3.0, est=4.424099695857634, details={'was_impossible': False}),\n",
       " Prediction(uid='641', iid='1045', r_ui=3.0, est=3.096056757496324, details={'was_impossible': False}),\n",
       " Prediction(uid='641', iid='55', r_ui=4.0, est=4.490065248040481, details={'was_impossible': False}),\n",
       " Prediction(uid='641', iid='781', r_ui=4.0, est=3.310901891904167, details={'was_impossible': False}),\n",
       " Prediction(uid='312', iid='98', r_ui=4.0, est=3.5901869908927098, details={'was_impossible': False}),\n",
       " Prediction(uid='312', iid='495', r_ui=4.0, est=3.7215610262840557, details={'was_impossible': False}),\n",
       " Prediction(uid='312', iid='486', r_ui=5.0, est=4.136798501031559, details={'was_impossible': False}),\n",
       " Prediction(uid='312', iid='413', r_ui=2.0, est=2.748642944987384, details={'was_impossible': False}),\n",
       " Prediction(uid='312', iid='499', r_ui=5.0, est=3.3901245482836324, details={'was_impossible': False}),\n",
       " Prediction(uid='312', iid='586', r_ui=4.0, est=3.760972451946495, details={'was_impossible': False}),\n",
       " Prediction(uid='312', iid='198', r_ui=4.0, est=4.093969020049472, details={'was_impossible': False}),\n",
       " Prediction(uid='312', iid='660', r_ui=3.0, est=3.3808085834582813, details={'was_impossible': False}),\n",
       " Prediction(uid='312', iid='43', r_ui=3.0, est=3.1883552860427007, details={'was_impossible': False}),\n",
       " Prediction(uid='312', iid='478', r_ui=5.0, est=4.199629499492187, details={'was_impossible': False}),\n",
       " Prediction(uid='312', iid='428', r_ui=5.0, est=3.8665062257527087, details={'was_impossible': False}),\n",
       " Prediction(uid='312', iid='141', r_ui=3.0, est=3.0372163817634967, details={'was_impossible': False}),\n",
       " Prediction(uid='312', iid='154', r_ui=2.0, est=2.94702967543198, details={'was_impossible': False}),\n",
       " Prediction(uid='312', iid='631', r_ui=5.0, est=3.8870329708007265, details={'was_impossible': False}),\n",
       " Prediction(uid='312', iid='421', r_ui=4.0, est=3.737998189602716, details={'was_impossible': False}),\n",
       " Prediction(uid='312', iid='55', r_ui=2.0, est=3.905535321273931, details={'was_impossible': False}),\n",
       " Prediction(uid='312', iid='14', r_ui=2.0, est=3.6926285357088737, details={'was_impossible': False}),\n",
       " Prediction(uid='312', iid='156', r_ui=3.0, est=3.6270359916223995, details={'was_impossible': False}),\n",
       " Prediction(uid='312', iid='607', r_ui=3.0, est=3.4431638409771472, details={'was_impossible': False}),\n",
       " Prediction(uid='312', iid='153', r_ui=2.0, est=3.73280802749695, details={'was_impossible': False}),\n",
       " Prediction(uid='312', iid='97', r_ui=4.0, est=4.181563285731016, details={'was_impossible': False}),\n",
       " Prediction(uid='312', iid='523', r_ui=5.0, est=4.001924784130647, details={'was_impossible': False}),\n",
       " Prediction(uid='312', iid='672', r_ui=2.0, est=2.9355751921647686, details={'was_impossible': False}),\n",
       " Prediction(uid='312', iid='202', r_ui=5.0, est=3.7322091788692684, details={'was_impossible': False}),\n",
       " Prediction(uid='312', iid='120', r_ui=4.0, est=3.287717638470581, details={'was_impossible': False}),\n",
       " Prediction(uid='312', iid='155', r_ui=3.0, est=3.8301994752886164, details={'was_impossible': False}),\n",
       " Prediction(uid='312', iid='718', r_ui=2.0, est=2.8308380540898157, details={'was_impossible': False}),\n",
       " Prediction(uid='312', iid='78', r_ui=5.0, est=3.9318935715454377, details={'was_impossible': False}),\n",
       " Prediction(uid='312', iid='28', r_ui=2.0, est=2.602642016892927, details={'was_impossible': False}),\n",
       " Prediction(uid='312', iid='185', r_ui=3.0, est=3.7585062785924936, details={'was_impossible': False}),\n",
       " Prediction(uid='312', iid='30', r_ui=4.0, est=3.5192696748878673, details={'was_impossible': False}),\n",
       " Prediction(uid='312', iid='181', r_ui=4.0, est=3.8535806765019935, details={'was_impossible': False}),\n",
       " Prediction(uid='312', iid='529', r_ui=3.0, est=3.8342307911402673, details={'was_impossible': False}),\n",
       " Prediction(uid='312', iid='389', r_ui=3.0, est=2.700088922762212, details={'was_impossible': False}),\n",
       " Prediction(uid='312', iid='482', r_ui=5.0, est=4.114401263447368, details={'was_impossible': False}),\n",
       " Prediction(uid='312', iid='180', r_ui=4.0, est=3.8381607907456687, details={'was_impossible': False}),\n",
       " Prediction(uid='312', iid='184', r_ui=5.0, est=3.9329378289580403, details={'was_impossible': False}),\n",
       " Prediction(uid='312', iid='501', r_ui=5.0, est=3.5976015233748537, details={'was_impossible': False}),\n",
       " Prediction(uid='312', iid='162', r_ui=2.0, est=3.4823684644847535, details={'was_impossible': False}),\n",
       " Prediction(uid='312', iid='46', r_ui=3.0, est=3.4689888012740924, details={'was_impossible': False}),\n",
       " Prediction(uid='312', iid='663', r_ui=4.0, est=2.8833678088987433, details={'was_impossible': False}),\n",
       " Prediction(uid='312', iid='96', r_ui=4.0, est=3.663869492971238, details={'was_impossible': False}),\n",
       " Prediction(uid='312', iid='818', r_ui=2.0, est=2.6368022384619727, details={'was_impossible': False}),\n",
       " Prediction(uid='312', iid='383', r_ui=4.0, est=3.606170408772546, details={'was_impossible': False}),\n",
       " Prediction(uid='312', iid='661', r_ui=5.0, est=3.793017496562052, details={'was_impossible': False}),\n",
       " Prediction(uid='312', iid='138', r_ui=3.0, est=2.7687299881179, details={'was_impossible': False}),\n",
       " Prediction(uid='312', iid='524', r_ui=4.0, est=3.816952537770411, details={'was_impossible': False}),\n",
       " Prediction(uid='312', iid='402', r_ui=4.0, est=3.5390326586107883, details={'was_impossible': False}),\n",
       " Prediction(uid='312', iid='459', r_ui=3.0, est=3.4992456182832443, details={'was_impossible': False}),\n",
       " Prediction(uid='312', iid='331', r_ui=4.0, est=3.434955786452678, details={'was_impossible': False}),\n",
       " Prediction(uid='312', iid='117', r_ui=4.0, est=3.0980057419175058, details={'was_impossible': False}),\n",
       " Prediction(uid='312', iid='49', r_ui=5.0, est=4.197123073031123, details={'was_impossible': False}),\n",
       " Prediction(uid='312', iid='27', r_ui=3.0, est=3.8191002377346863, details={'was_impossible': False}),\n",
       " Prediction(uid='312', iid='171', r_ui=4.0, est=4.082341290528779, details={'was_impossible': False}),\n",
       " Prediction(uid='312', iid='630', r_ui=4.0, est=3.7753866745990097, details={'was_impossible': False}),\n",
       " Prediction(uid='312', iid='821', r_ui=3.0, est=2.83469674878493, details={'was_impossible': False}),\n",
       " Prediction(uid='312', iid='192', r_ui=4.0, est=3.8145519002355384, details={'was_impossible': False}),\n",
       " Prediction(uid='312', iid='574', r_ui=3.0, est=3.003012356438584, details={'was_impossible': False}),\n",
       " Prediction(uid='312', iid='682', r_ui=4.0, est=3.7062335757814293, details={'was_impossible': False}),\n",
       " Prediction(uid='312', iid='430', r_ui=5.0, est=3.651840381460134, details={'was_impossible': False}),\n",
       " Prediction(uid='312', iid='835', r_ui=4.0, est=3.817941213899506, details={'was_impossible': False}),\n",
       " Prediction(uid='312', iid='113', r_ui=4.0, est=4.346299326886173, details={'was_impossible': False}),\n",
       " Prediction(uid='312', iid='512', r_ui=4.0, est=3.8496412617919473, details={'was_impossible': False}),\n",
       " Prediction(uid='312', iid='525', r_ui=4.0, est=3.943129018474867, details={'was_impossible': False}),\n",
       " Prediction(uid='312', iid='24', r_ui=2.0, est=3.3695504564752015, details={'was_impossible': False}),\n",
       " Prediction(uid='312', iid='649', r_ui=3.0, est=4.000227535303001, details={'was_impossible': False}),\n",
       " Prediction(uid='312', iid='116', r_ui=4.0, est=3.6493422457148186, details={'was_impossible': False}),\n",
       " Prediction(uid='312', iid='694', r_ui=3.0, est=3.0555907799302453, details={'was_impossible': False}),\n",
       " Prediction(uid='312', iid='21', r_ui=3.0, est=4.047062509662974, details={'was_impossible': False}),\n",
       " Prediction(uid='312', iid='238', r_ui=3.0, est=3.4697391729195504, details={'was_impossible': False}),\n",
       " Prediction(uid='312', iid='131', r_ui=5.0, est=3.915679390468228, details={'was_impossible': False}),\n",
       " Prediction(uid='312', iid='434', r_ui=4.0, est=3.541726009493453, details={'was_impossible': False}),\n",
       " Prediction(uid='312', iid='146', r_ui=4.0, est=3.4128504415957197, details={'was_impossible': False}),\n",
       " Prediction(uid='312', iid='70', r_ui=4.0, est=3.6462125845997764, details={'was_impossible': False}),\n",
       " Prediction(uid='312', iid='176', r_ui=4.0, est=3.7579747030043897, details={'was_impossible': False}),\n",
       " Prediction(uid='312', iid='471', r_ui=3.0, est=3.069242452639721, details={'was_impossible': False}),\n",
       " Prediction(uid='312', iid='175', r_ui=4.0, est=3.870666398540265, details={'was_impossible': False}),\n",
       " Prediction(uid='312', iid='668', r_ui=3.0, est=3.032843866496726, details={'was_impossible': False}),\n",
       " Prediction(uid='312', iid='441', r_ui=5.0, est=3.613486625141667, details={'was_impossible': False}),\n",
       " Prediction(uid='312', iid='87', r_ui=2.0, est=3.537303100570758, details={'was_impossible': False}),\n",
       " Prediction(uid='312', iid='316', r_ui=4.0, est=4.353561428553171, details={'was_impossible': False}),\n",
       " Prediction(uid='312', iid='57', r_ui=3.0, est=3.6160307252180615, details={'was_impossible': False}),\n",
       " Prediction(uid='312', iid='391', r_ui=4.0, est=3.3482737190046215, details={'was_impossible': False}),\n",
       " Prediction(uid='312', iid='657', r_ui=4.0, est=4.032113483649199, details={'was_impossible': False}),\n",
       " Prediction(uid='312', iid='485', r_ui=3.0, est=4.0130621844404395, details={'was_impossible': False}),\n",
       " Prediction(uid='312', iid='584', r_ui=2.0, est=2.669011810717983, details={'was_impossible': False}),\n",
       " Prediction(uid='312', iid='614', r_ui=5.0, est=3.2727046965926365, details={'was_impossible': False}),\n",
       " Prediction(uid='312', iid='518', r_ui=5.0, est=4.06430210275509, details={'was_impossible': False}),\n",
       " Prediction(uid='312', iid='502', r_ui=5.0, est=3.744501120181279, details={'was_impossible': False}),\n",
       " Prediction(uid='312', iid='768', r_ui=4.0, est=3.299687870999787, details={'was_impossible': False}),\n",
       " Prediction(uid='312', iid='203', r_ui=4.0, est=3.708711711200579, details={'was_impossible': False}),\n",
       " Prediction(uid='312', iid='152', r_ui=3.0, est=3.7257134145964126, details={'was_impossible': False}),\n",
       " Prediction(uid='312', iid='228', r_ui=3.0, est=3.0196660364825556, details={'was_impossible': False}),\n",
       " Prediction(uid='312', iid='231', r_ui=3.0, est=3.187776363369516, details={'was_impossible': False}),\n",
       " Prediction(uid='312', iid='544', r_ui=4.0, est=2.899994175619303, details={'was_impossible': False}),\n",
       " Prediction(uid='312', iid='234', r_ui=3.0, est=2.7136905690761606, details={'was_impossible': False}),\n",
       " Prediction(uid='312', iid='186', r_ui=4.0, est=4.0400173776781285, details={'was_impossible': False}),\n",
       " Prediction(uid='312', iid='626', r_ui=4.0, est=3.431219169233538, details={'was_impossible': False}),\n",
       " Prediction(uid='312', iid='214', r_ui=4.0, est=3.5788790924664347, details={'was_impossible': False}),\n",
       " Prediction(uid='312', iid='450', r_ui=3.0, est=2.6272898870565413, details={'was_impossible': False}),\n",
       " Prediction(uid='312', iid='22', r_ui=4.0, est=4.006998136037277, details={'was_impossible': False}),\n",
       " Prediction(uid='312', iid='476', r_ui=3.0, est=3.9731861664920363, details={'was_impossible': False}),\n",
       " Prediction(uid='312', iid='1468', r_ui=1.0, est=3.1508684252352905, details={'was_impossible': False}),\n",
       " Prediction(uid='312', iid='130', r_ui=4.0, est=3.6679875249281766, details={'was_impossible': False}),\n",
       " Prediction(uid='312', iid='142', r_ui=3.0, est=3.5455968127954742, details={'was_impossible': False}),\n",
       " Prediction(uid='312', iid='76', r_ui=3.0, est=3.233183746108968, details={'was_impossible': False}),\n",
       " Prediction(uid='312', iid='161', r_ui=3.0, est=3.455859937092492, details={'was_impossible': False}),\n",
       " Prediction(uid='312', iid='514', r_ui=4.0, est=3.9868883646797406, details={'was_impossible': False}),\n",
       " Prediction(uid='312', iid='132', r_ui=5.0, est=3.7344695602670823, details={'was_impossible': False}),\n",
       " Prediction(uid='312', iid='563', r_ui=1.0, est=2.815898548680533, details={'was_impossible': False}),\n",
       " Prediction(uid='312', iid='681', r_ui=3.0, est=2.4164787108051664, details={'was_impossible': False}),\n",
       " Prediction(uid='312', iid='215', r_ui=4.0, est=3.8132179464882068, details={'was_impossible': False}),\n",
       " Prediction(uid='312', iid='446', r_ui=3.0, est=3.380476038786975, details={'was_impossible': False}),\n",
       " Prediction(uid='312', iid='201', r_ui=5.0, est=3.661175953869269, details={'was_impossible': False}),\n",
       " Prediction(uid='312', iid='843', r_ui=3.0, est=3.4009770578451044, details={'was_impossible': False}),\n",
       " Prediction(uid='312', iid='540', r_ui=3.0, est=2.4581654624203337, details={'was_impossible': False}),\n",
       " Prediction(uid='312', iid='68', r_ui=5.0, est=3.721118650983676, details={'was_impossible': False}),\n",
       " Prediction(uid='312', iid='536', r_ui=2.0, est=3.3571556868413794, details={'was_impossible': False}),\n",
       " Prediction(uid='312', iid='659', r_ui=4.0, est=4.032833907256104, details={'was_impossible': False}),\n",
       " Prediction(uid='312', iid='566', r_ui=4.0, est=3.60953456877695, details={'was_impossible': False}),\n",
       " Prediction(uid='312', iid='160', r_ui=4.0, est=3.4282275768458623, details={'was_impossible': False}),\n",
       " Prediction(uid='312', iid='415', r_ui=2.0, est=2.9914815594986477, details={'was_impossible': False}),\n",
       " Prediction(uid='312', iid='472', r_ui=5.0, est=4.21010728592212, details={'was_impossible': False}),\n",
       " Prediction(uid='312', iid='81', r_ui=3.0, est=3.6112781512885577, details={'was_impossible': False}),\n",
       " Prediction(uid='312', iid='151', r_ui=3.0, est=3.6600105380083106, details={'was_impossible': False}),\n",
       " Prediction(uid='312', iid='230', r_ui=2.0, est=2.6194815721769684, details={'was_impossible': False}),\n",
       " Prediction(uid='312', iid='838', r_ui=2.0, est=2.7824927277840623, details={'was_impossible': False}),\n",
       " Prediction(uid='312', iid='217', r_ui=2.0, est=3.3418611029147214, details={'was_impossible': False}),\n",
       " Prediction(uid='312', iid='606', r_ui=4.0, est=3.864898563760558, details={'was_impossible': False}),\n",
       " Prediction(uid='312', iid='602', r_ui=4.0, est=3.913626067529257, details={'was_impossible': False}),\n",
       " Prediction(uid='312', iid='766', r_ui=3.0, est=2.9476925719927514, details={'was_impossible': False}),\n",
       " Prediction(uid='312', iid='207', r_ui=3.0, est=3.8476291790971797, details={'was_impossible': False}),\n",
       " Prediction(uid='312', iid='737', r_ui=3.0, est=3.2243412859628005, details={'was_impossible': False}),\n",
       " Prediction(uid='312', iid='653', r_ui=4.0, est=3.776323854373485, details={'was_impossible': False}),\n",
       " Prediction(uid='312', iid='134', r_ui=5.0, est=3.8778434691734995, details={'was_impossible': False}),\n",
       " Prediction(uid='312', iid='519', r_ui=4.0, est=3.7314029881300033, details={'was_impossible': False}),\n",
       " Prediction(uid='312', iid='126', r_ui=5.0, est=4.075798465446956, details={'was_impossible': False}),\n",
       " Prediction(uid='312', iid='671', r_ui=4.0, est=3.453619731238438, details={'was_impossible': False}),\n",
       " Prediction(uid='312', iid='298', r_ui=4.0, est=3.501338502465571, details={'was_impossible': False}),\n",
       " Prediction(uid='312', iid='481', r_ui=5.0, est=4.383374292597708, details={'was_impossible': False}),\n",
       " Prediction(uid='312', iid='210', r_ui=5.0, est=3.8234357462385433, details={'was_impossible': False}),\n",
       " Prediction(uid='312', iid='492', r_ui=3.0, est=3.7920534511057533, details={'was_impossible': False}),\n",
       " Prediction(uid='312', iid='503', r_ui=5.0, est=3.851690178483406, details={'was_impossible': False}),\n",
       " Prediction(uid='312', iid='412', r_ui=3.0, est=3.526958776123033, details={'was_impossible': False}),\n",
       " Prediction(uid='312', iid='521', r_ui=5.0, est=3.89978414965486, details={'was_impossible': False}),\n",
       " Prediction(uid='312', iid='417', r_ui=3.0, est=3.660956984069669, details={'was_impossible': False}),\n",
       " Prediction(uid='312', iid='133', r_ui=5.0, est=4.065553489854106, details={'was_impossible': False}),\n",
       " Prediction(uid='312', iid='426', r_ui=3.0, est=3.7889385889245335, details={'was_impossible': False}),\n",
       " Prediction(uid='312', iid='237', r_ui=4.0, est=3.750527975450011, details={'was_impossible': False}),\n",
       " Prediction(uid='312', iid='194', r_ui=5.0, est=3.9251701429613157, details={'was_impossible': False}),\n",
       " Prediction(uid='312', iid='469', r_ui=4.0, est=3.510544957515468, details={'was_impossible': False}),\n",
       " Prediction(uid='312', iid='494', r_ui=5.0, est=3.9247319406407564, details={'was_impossible': False}),\n",
       " Prediction(uid='312', iid='204', r_ui=5.0, est=4.027310528901469, details={'was_impossible': False}),\n",
       " Prediction(uid='312', iid='439', r_ui=3.0, est=2.633680229817502, details={'was_impossible': False}),\n",
       " Prediction(uid='312', iid='199', r_ui=3.0, est=3.6680242519714166, details={'was_impossible': False}),\n",
       " Prediction(uid='312', iid='264', r_ui=4.0, est=3.7881156016171573, details={'was_impossible': False}),\n",
       " Prediction(uid='312', iid='244', r_ui=3.0, est=3.0375825826333216, details={'was_impossible': False}),\n",
       " Prediction(uid='312', iid='193', r_ui=4.0, est=3.98130497676459, details={'was_impossible': False}),\n",
       " Prediction(uid='312', iid='548', r_ui=4.0, est=3.312941291003078, details={'was_impossible': False}),\n",
       " Prediction(uid='312', iid='447', r_ui=3.0, est=2.9797230312649967, details={'was_impossible': False}),\n",
       " Prediction(uid='312', iid='88', r_ui=5.0, est=4.056624639274787, details={'was_impossible': False}),\n",
       " Prediction(uid='312', iid='233', r_ui=4.0, est=3.5697712723762036, details={'was_impossible': False}),\n",
       " Prediction(uid='312', iid='557', r_ui=3.0, est=3.0660848084793173, details={'was_impossible': False}),\n",
       " Prediction(uid='312', iid='425', r_ui=5.0, est=4.190023644151563, details={'was_impossible': False}),\n",
       " Prediction(uid='312', iid='179', r_ui=5.0, est=3.8744334315706594, details={'was_impossible': False}),\n",
       " Prediction(uid='312', iid='742', r_ui=3.0, est=3.502228730332752, details={'was_impossible': False}),\n",
       " Prediction(uid='312', iid='634', r_ui=4.0, est=3.2256234532235175, details={'was_impossible': False}),\n",
       " Prediction(uid='312', iid='829', r_ui=3.0, est=2.368511944809709, details={'was_impossible': False}),\n",
       " Prediction(uid='312', iid='647', r_ui=3.0, est=3.4551706649513996, details={'was_impossible': False}),\n",
       " Prediction(uid='312', iid='101', r_ui=3.0, est=3.0649394951033972, details={'was_impossible': False}),\n",
       " Prediction(uid='312', iid='307', r_ui=4.0, est=2.808523131810591, details={'was_impossible': False}),\n",
       " Prediction(uid='312', iid='480', r_ui=5.0, est=3.902639677475413, details={'was_impossible': False}),\n",
       " Prediction(uid='312', iid='847', r_ui=3.0, est=2.7477147245328744, details={'was_impossible': False}),\n",
       " Prediction(uid='312', iid='163', r_ui=3.0, est=3.5098738805259506, details={'was_impossible': False}),\n",
       " Prediction(uid='312', iid='147', r_ui=2.0, est=3.081797155330603, details={'was_impossible': False}),\n",
       " Prediction(uid='312', iid='324', r_ui=4.0, est=3.178456824895931, details={'was_impossible': False}),\n",
       " Prediction(uid='312', iid='191', r_ui=3.0, est=4.102975633167605, details={'was_impossible': False}),\n",
       " Prediction(uid='312', iid='257', r_ui=3.0, est=3.6305169544200893, details={'was_impossible': False}),\n",
       " Prediction(uid='312', iid='94', r_ui=3.0, est=3.7335577644007243, details={'was_impossible': False}),\n",
       " Prediction(uid='312', iid='416', r_ui=3.0, est=3.4090935764324666, details={'was_impossible': False}),\n",
       " Prediction(uid='312', iid='196', r_ui=5.0, est=3.9738094454293567, details={'was_impossible': False}),\n",
       " Prediction(uid='312', iid='93', r_ui=3.0, est=3.0527620858489297, details={'was_impossible': False}),\n",
       " Prediction(uid='312', iid='841', r_ui=3.0, est=2.9147729496820536, details={'was_impossible': False}),\n",
       " Prediction(uid='312', iid='477', r_ui=5.0, est=4.166017599532008, details={'was_impossible': False}),\n",
       " Prediction(uid='312', iid='576', r_ui=3.0, est=3.0566076252638212, details={'was_impossible': False}),\n",
       " Prediction(uid='312', iid='733', r_ui=3.0, est=3.7873352082463323, details={'was_impossible': False}),\n",
       " Prediction(uid='312', iid='652', r_ui=5.0, est=4.108860017121733, details={'was_impossible': False}),\n",
       " Prediction(uid='312', iid='400', r_ui=3.0, est=3.453246997064977, details={'was_impossible': False}),\n",
       " Prediction(uid='312', iid='0', r_ui=4.0, est=3.729869524603783, details={'was_impossible': False}),\n",
       " Prediction(uid='312', iid='776', r_ui=2.0, est=3.4835083342666966, details={'was_impossible': False}),\n",
       " Prediction(uid='312', iid='150', r_ui=1.0, est=3.5075564174454095, details={'was_impossible': False}),\n",
       " Prediction(uid='312', iid='564', r_ui=4.0, est=3.493225404523577, details={'was_impossible': False}),\n",
       " Prediction(uid='312', iid='166', r_ui=3.0, est=2.9287063964320557, details={'was_impossible': False}),\n",
       " Prediction(uid='312', iid='648', r_ui=4.0, est=3.4873068749063827, details={'was_impossible': False}),\n",
       " Prediction(uid='312', iid='479', r_ui=4.0, est=3.9058048016228724, details={'was_impossible': False}),\n",
       " Prediction(uid='312', iid='135', r_ui=5.0, est=3.979114519030484, details={'was_impossible': False}),\n",
       " Prediction(uid='312', iid='403', r_ui=3.0, est=3.2475321719614265, details={'was_impossible': False}),\n",
       " Prediction(uid='312', iid='433', r_ui=5.0, est=3.942774076165319, details={'was_impossible': False}),\n",
       " Prediction(uid='312', iid='483', r_ui=3.0, est=3.7825609123554718, details={'was_impossible': False}),\n",
       " Prediction(uid='312', iid='225', r_ui=4.0, est=3.3555202850827768, details={'was_impossible': False}),\n",
       " Prediction(uid='312', iid='355', r_ui=5.0, est=4.149909488031543, details={'was_impossible': False}),\n",
       " Prediction(uid='312', iid='329', r_ui=3.0, est=3.389008698420888, details={'was_impossible': False}),\n",
       " Prediction(uid='312', iid='174', r_ui=4.0, est=3.852919869595797, details={'was_impossible': False}),\n",
       " Prediction(uid='312', iid='740', r_ui=3.0, est=3.451368528264316, details={'was_impossible': False}),\n",
       " Prediction(uid='312', iid='944', r_ui=3.0, est=3.0370882498115597, details={'was_impossible': False}),\n",
       " Prediction(uid='312', iid='236', r_ui=2.0, est=3.5881904529755073, details={'was_impossible': False}),\n",
       " Prediction(uid='312', iid='229', r_ui=3.0, est=3.389794790937705, details={'was_impossible': False}),\n",
       " Prediction(uid='312', iid='484', r_ui=3.0, est=3.636495120368935, details={'was_impossible': False}),\n",
       " Prediction(uid='312', iid='1048', r_ui=4.0, est=3.5280560274846744, details={'was_impossible': False}),\n",
       " Prediction(uid='312', iid='517', r_ui=5.0, est=4.064162629284333, details={'was_impossible': False}),\n",
       " Prediction(uid='312', iid='601', r_ui=5.0, est=4.2795758626784774, details={'was_impossible': False}),\n",
       " Prediction(uid='312', iid='493', r_ui=2.0, est=3.4769230272087825, details={'was_impossible': False}),\n",
       " Prediction(uid='312', iid='738', r_ui=2.0, est=3.42149974378852, details={'was_impossible': False}),\n",
       " Prediction(uid='312', iid='487', r_ui=4.0, est=3.97896909824044, details={'was_impossible': False}),\n",
       " Prediction(uid='312', iid='655', r_ui=4.0, est=4.250450286279708, details={'was_impossible': False}),\n",
       " Prediction(uid='312', iid='173', r_ui=4.0, est=4.10833779360328, details={'was_impossible': False}),\n",
       " Prediction(uid='312', iid='62', r_ui=4.0, est=3.082330401301654, details={'was_impossible': False}),\n",
       " Prediction(uid='312', iid='182', r_ui=5.0, est=3.959842356820062, details={'was_impossible': False}),\n",
       " Prediction(uid='312', iid='463', r_ui=3.0, est=3.4176197974418367, details={'was_impossible': False}),\n",
       " Prediction(uid='312', iid='72', r_ui=5.0, est=3.390890516573728, details={'was_impossible': False}),\n",
       " Prediction(uid='312', iid='190', r_ui=5.0, est=4.0499965088418, details={'was_impossible': False}),\n",
       " Prediction(uid='312', iid='326', r_ui=4.0, est=3.2740477835731383, details={'was_impossible': False}),\n",
       " Prediction(uid='312', iid='500', r_ui=3.0, est=3.645156744289572, details={'was_impossible': False}),\n",
       " Prediction(uid='312', iid='509', r_ui=4.0, est=4.171014076144758, details={'was_impossible': False}),\n",
       " Prediction(uid='312', iid='167', r_ui=3.0, est=3.933846350007761, details={'was_impossible': False}),\n",
       " Prediction(uid='312', iid='65', r_ui=1.0, est=3.47144692995813, details={'was_impossible': False}),\n",
       " Prediction(uid='312', iid='627', r_ui=3.0, est=3.322849273150573, details={'was_impossible': False}),\n",
       " Prediction(uid='312', iid='66', r_ui=1.0, est=2.9706049000420967, details={'was_impossible': False}),\n",
       " Prediction(uid='312', iid='143', r_ui=4.0, est=3.837091931988994, details={'was_impossible': False}),\n",
       " Prediction(uid='312', iid='7', r_ui=3.0, est=3.88215284693863, details={'was_impossible': False}),\n",
       " Prediction(uid='312', iid='224', r_ui=4.0, est=2.831081068060614, details={'was_impossible': False}),\n",
       " Prediction(uid='312', iid='488', r_ui=4.0, est=3.9678035280830897, details={'was_impossible': False}),\n",
       " Prediction(uid='312', iid='401', r_ui=3.0, est=3.328390931108416, details={'was_impossible': False}),\n",
       " Prediction(uid='312', iid='497', r_ui=3.0, est=3.821323234284158, details={'was_impossible': False}),\n",
       " Prediction(uid='312', iid='743', r_ui=3.0, est=3.7879387935687405, details={'was_impossible': False}),\n",
       " Prediction(uid='312', iid='320', r_ui=3.0, est=2.959648994470427, details={'was_impossible': False}),\n",
       " Prediction(uid='58', iid='504', r_ui=5.0, est=4.2292529144584705, details={'was_impossible': False}),\n",
       " Prediction(uid='58', iid='1099', r_ui=5.0, est=4.163246209317896, details={'was_impossible': False}),\n",
       " Prediction(uid='58', iid='58', r_ui=5.0, est=4.393835971258752, details={'was_impossible': False}),\n",
       " Prediction(uid='58', iid='593', r_ui=3.0, est=3.2882209015702686, details={'was_impossible': False}),\n",
       " Prediction(uid='58', iid='68', r_ui=5.0, est=4.198674210447553, details={'was_impossible': False}),\n",
       " Prediction(uid='58', iid='655', r_ui=4.0, est=4.652571487495585, details={'was_impossible': False}),\n",
       " Prediction(uid='58', iid='1109', r_ui=5.0, est=3.906716940813481, details={'was_impossible': False}),\n",
       " Prediction(uid='58', iid='657', r_ui=3.0, est=4.435932545307672, details={'was_impossible': False}),\n",
       " Prediction(uid='58', iid='730', r_ui=3.0, est=3.9399459592023223, details={'was_impossible': False}),\n",
       " Prediction(uid='58', iid='200', r_ui=4.0, est=3.7526362570798932, details={'was_impossible': False}),\n",
       " Prediction(uid='58', iid='519', r_ui=5.0, est=4.129123812403266, details={'was_impossible': False}),\n",
       " Prediction(uid='58', iid='124', r_ui=3.0, est=3.768761560354265, details={'was_impossible': False}),\n",
       " Prediction(uid='58', iid='128', r_ui=5.0, est=4.088595355299064, details={'was_impossible': False}),\n",
       " Prediction(uid='58', iid='2', r_ui=4.0, est=3.3530400383385683, details={'was_impossible': False}),\n",
       " Prediction(uid='58', iid='400', r_ui=4.0, est=3.8186570743407904, details={'was_impossible': False}),\n",
       " Prediction(uid='58', iid='489', r_ui=4.0, est=4.14291622530542, details={'was_impossible': False}),\n",
       " Prediction(uid='58', iid='869', r_ui=2.0, est=2.7110890838578126, details={'was_impossible': False}),\n",
       " Prediction(uid='58', iid='682', r_ui=3.0, est=4.12004246495431, details={'was_impossible': False}),\n",
       " Prediction(uid='58', iid='236', r_ui=3.0, est=3.9561370203938435, details={'was_impossible': False}),\n",
       " Prediction(uid='58', iid='661', r_ui=4.0, est=4.207828062784404, details={'was_impossible': False}),\n",
       " Prediction(uid='58', iid='81', r_ui=5.0, est=4.0132162456263565, details={'was_impossible': False}),\n",
       " Prediction(uid='58', iid='417', r_ui=2.0, est=4.106566470365008, details={'was_impossible': False}),\n",
       " Prediction(uid='58', iid='1046', r_ui=4.0, est=3.277997754494643, details={'was_impossible': False}),\n",
       " Prediction(uid='58', iid='697', r_ui=4.0, est=3.99038212315186, details={'was_impossible': False}),\n",
       " Prediction(uid='58', iid='607', r_ui=2.0, est=3.8177867907125975, details={'was_impossible': False}),\n",
       " Prediction(uid='58', iid='44', r_ui=5.0, est=4.4347441418110956, details={'was_impossible': False}),\n",
       " Prediction(uid='58', iid='169', r_ui=4.0, est=4.469176365173298, details={'was_impossible': False}),\n",
       " Prediction(uid='58', iid='130', r_ui=4.0, est=4.1079923988172204, details={'was_impossible': False}),\n",
       " Prediction(uid='58', iid='658', r_ui=4.0, est=4.037911981083087, details={'was_impossible': False}),\n",
       " Prediction(uid='58', iid='27', r_ui=5.0, est=4.166668323380499, details={'was_impossible': False}),\n",
       " Prediction(uid='58', iid='95', r_ui=5.0, est=4.339956410115315, details={'was_impossible': False}),\n",
       " Prediction(uid='58', iid='100', r_ui=5.0, est=3.6525266673068733, details={'was_impossible': False}),\n",
       " Prediction(uid='58', iid='234', r_ui=1.0, est=3.144758091504114, details={'was_impossible': False}),\n",
       " Prediction(uid='58', iid='441', r_ui=5.0, est=4.042554433687209, details={'was_impossible': False}),\n",
       " Prediction(uid='58', iid='864', r_ui=3.0, est=3.4757498897672385, details={'was_impossible': False}),\n",
       " Prediction(uid='58', iid='432', r_ui=4.0, est=4.3854229008617045, details={'was_impossible': False}),\n",
       " Prediction(uid='58', iid='673', r_ui=5.0, est=4.012814763452052, details={'was_impossible': False}),\n",
       " Prediction(uid='58', iid='973', r_ui=4.0, est=3.4360839092957645, details={'was_impossible': False}),\n",
       " Prediction(uid='58', iid='167', r_ui=5.0, est=4.2399264894410145, details={'was_impossible': False}),\n",
       " Prediction(uid='58', iid='503', r_ui=4.0, est=4.232214481449798, details={'was_impossible': False}),\n",
       " Prediction(uid='58', iid='595', r_ui=2.0, est=3.405775286834142, details={'was_impossible': False}),\n",
       " Prediction(uid='58', iid='49', r_ui=5.0, est=4.540146695351435, details={'was_impossible': False}),\n",
       " Prediction(uid='58', iid='47', r_ui=5.0, est=4.426973858028863, details={'was_impossible': False}),\n",
       " Prediction(uid='58', iid='745', r_ui=4.0, est=3.740118582869415, details={'was_impossible': False}),\n",
       " Prediction(uid='58', iid='142', r_ui=1.0, est=3.9554344001825856, details={'was_impossible': False}),\n",
       " Prediction(uid='58', iid='63', r_ui=5.0, est=4.783120255463141, details={'was_impossible': False}),\n",
       " Prediction(uid='58', iid='139', r_ui=1.0, est=3.4144108311240395, details={'was_impossible': False}),\n",
       " Prediction(uid='58', iid='640', r_ui=5.0, est=3.8230969059687263, details={'was_impossible': False}),\n",
       " Prediction(uid='58', iid='283', r_ui=4.0, est=4.546004912436285, details={'was_impossible': False}),\n",
       " Prediction(uid='58', iid='565', r_ui=4.0, est=3.1910668075116466, details={'was_impossible': False}),\n",
       " Prediction(uid='58', iid='125', r_ui=5.0, est=4.09532311322807, details={'was_impossible': False}),\n",
       " Prediction(uid='58', iid='3', r_ui=4.0, est=3.790667039418865, details={'was_impossible': False}),\n",
       " Prediction(uid='58', iid='217', r_ui=5.0, est=3.780806033111927, details={'was_impossible': False}),\n",
       " Prediction(uid='58', iid='464', r_ui=4.0, est=3.9450951176696285, details={'was_impossible': False}),\n",
       " Prediction(uid='58', iid='172', r_ui=5.0, est=4.469033740120604, details={'was_impossible': False}),\n",
       " Prediction(uid='58', iid='78', r_ui=5.0, est=4.34553597640413, details={'was_impossible': False}),\n",
       " Prediction(uid='58', iid='1063', r_ui=5.0, est=3.9899155936684463, details={'was_impossible': False}),\n",
       " Prediction(uid='58', iid='64', r_ui=4.0, est=3.813712910835764, details={'was_impossible': False}),\n",
       " Prediction(uid='58', iid='434', r_ui=5.0, est=3.9675296566481597, details={'was_impossible': False}),\n",
       " Prediction(uid='58', iid='927', r_ui=2.0, est=3.0339705688593814, details={'was_impossible': False}),\n",
       " Prediction(uid='58', iid='196', r_ui=5.0, est=4.462207624512534, details={'was_impossible': False}),\n",
       " Prediction(uid='58', iid='85', r_ui=3.0, est=4.247431762374263, details={'was_impossible': False}),\n",
       " Prediction(uid='58', iid='185', r_ui=5.0, est=4.165373116935485, details={'was_impossible': False}),\n",
       " Prediction(uid='58', iid='60', r_ui=4.0, est=4.192473175083182, details={'was_impossible': False}),\n",
       " Prediction(uid='58', iid='515', r_ui=5.0, est=4.1930189062681125, details={'was_impossible': False}),\n",
       " Prediction(uid='58', iid='171', r_ui=5.0, est=4.430583522631407, details={'was_impossible': False}),\n",
       " Prediction(uid='58', iid='233', r_ui=5.0, est=4.053852132655214, details={'was_impossible': False}),\n",
       " Prediction(uid='58', iid='460', r_ui=5.0, est=4.202869034972939, details={'was_impossible': False}),\n",
       " Prediction(uid='58', iid='365', r_ui=4.0, est=3.7901636400448546, details={'was_impossible': False}),\n",
       " Prediction(uid='58', iid='120', r_ui=4.0, est=3.6205113951677603, details={'was_impossible': False}),\n",
       " Prediction(uid='58', iid='110', r_ui=4.0, est=3.8045215200404097, details={'was_impossible': False}),\n",
       " Prediction(uid='58', iid='1107', r_ui=3.0, est=3.637829286045364, details={'was_impossible': False}),\n",
       " Prediction(uid='58', iid='972', r_ui=3.0, est=3.2604562135656283, details={'was_impossible': False}),\n",
       " Prediction(uid='58', iid='926', r_ui=4.0, est=3.2678072350421665, details={'was_impossible': False}),\n",
       " Prediction(uid='58', iid='707', r_ui=5.0, est=4.3480750267551445, details={'was_impossible': False}),\n",
       " Prediction(uid='58', iid='642', r_ui=4.0, est=4.203153341392641, details={'was_impossible': False}),\n",
       " Prediction(uid='58', iid='586', r_ui=2.0, est=4.087190816847552, details={'was_impossible': False}),\n",
       " Prediction(uid='58', iid='219', r_ui=2.0, est=3.591205555996744, details={'was_impossible': False}),\n",
       " Prediction(uid='58', iid='90', r_ui=4.0, est=3.89464859772992, details={'was_impossible': False}),\n",
       " Prediction(uid='58', iid='472', r_ui=5.0, est=4.603969717989438, details={'was_impossible': False}),\n",
       " Prediction(uid='58', iid='187', r_ui=4.0, est=3.9496028352290176, details={'was_impossible': False}),\n",
       " Prediction(uid='58', iid='649', r_ui=5.0, est=4.419411471377042, details={'was_impossible': False}),\n",
       " Prediction(uid='58', iid='754', r_ui=2.0, est=3.1857845816647314, details={'was_impossible': False}),\n",
       " Prediction(uid='58', iid='101', r_ui=2.0, est=3.4623012036226517, details={'was_impossible': False}),\n",
       " Prediction(uid='58', iid='499', r_ui=1.0, est=3.839586916546504, details={'was_impossible': False}),\n",
       " Prediction(uid='58', iid='231', r_ui=3.0, est=3.6013158266169225, details={'was_impossible': False}),\n",
       " Prediction(uid='58', iid='38', r_ui=4.0, est=3.659949914458342, details={'was_impossible': False}),\n",
       " Prediction(uid='58', iid='668', r_ui=4.0, est=3.4897121119256056, details={'was_impossible': False}),\n",
       " Prediction(uid='58', iid='99', r_ui=5.0, est=4.40676398572233, details={'was_impossible': False}),\n",
       " Prediction(uid='58', iid='705', r_ui=3.0, est=4.214914660849687, details={'was_impossible': False}),\n",
       " Prediction(uid='58', iid='525', r_ui=5.0, est=4.35924576210622, details={'was_impossible': False}),\n",
       " Prediction(uid='58', iid='204', r_ui=3.0, est=4.401699861929462, details={'was_impossible': False}),\n",
       " ...]"
      ]
     },
     "execution_count": 52,
     "metadata": {},
     "output_type": "execute_result"
    }
   ],
   "source": [
    "model.test(dev_set_for_predict)"
   ]
  },
  {
   "cell_type": "code",
   "execution_count": null,
   "metadata": {},
   "outputs": [],
   "source": []
  },
  {
   "cell_type": "markdown",
   "metadata": {},
   "source": [
    "## Make visualization of the learned embeddings of select movies"
   ]
  },
  {
   "cell_type": "code",
   "execution_count": 53,
   "metadata": {},
   "outputs": [
    {
     "name": "stdout",
     "output_type": "stream",
     "text": [
      "shape of V (per item vectors): \n",
      "(1662, 2)\n"
     ]
    }
   ],
   "source": [
    "\n",
    "print(\"shape of V (per item vectors): \")\n",
    "print(model.qi.shape)\n"
   ]
  },
  {
   "cell_type": "code",
   "execution_count": 70,
   "metadata": {},
   "outputs": [],
   "source": [
    "item_ids = []\n",
    "for iid in model.trainset.all_items():\n",
    "    item_ids.append(int(model.trainset.to_raw_iid(iid)))\n",
    "item_ids = np.asarray(item_ids)"
   ]
  },
  {
   "cell_type": "code",
   "execution_count": 71,
   "metadata": {},
   "outputs": [
    {
     "data": {
      "text/plain": [
       "0"
      ]
     },
     "execution_count": 71,
     "metadata": {},
     "output_type": "execute_result"
    }
   ],
   "source": [
    "item_ids.min()"
   ]
  },
  {
   "cell_type": "code",
   "execution_count": 72,
   "metadata": {},
   "outputs": [
    {
     "data": {
      "text/plain": [
       "1680"
      ]
     },
     "execution_count": 72,
     "metadata": {},
     "output_type": "execute_result"
    }
   ],
   "source": [
    "item_ids.max()"
   ]
  },
  {
   "cell_type": "code",
   "execution_count": 73,
   "metadata": {},
   "outputs": [
    {
     "data": {
      "text/plain": [
       "1662"
      ]
     },
     "execution_count": 73,
     "metadata": {},
     "output_type": "execute_result"
    }
   ],
   "source": [
    "len(item_ids)"
   ]
  },
  {
   "cell_type": "code",
   "execution_count": 74,
   "metadata": {},
   "outputs": [
    {
     "data": {
      "text/html": [
       "<div>\n",
       "<style scoped>\n",
       "    .dataframe tbody tr th:only-of-type {\n",
       "        vertical-align: middle;\n",
       "    }\n",
       "\n",
       "    .dataframe tbody tr th {\n",
       "        vertical-align: top;\n",
       "    }\n",
       "\n",
       "    .dataframe thead th {\n",
       "        text-align: right;\n",
       "    }\n",
       "</style>\n",
       "<table border=\"1\" class=\"dataframe\">\n",
       "  <thead>\n",
       "    <tr style=\"text-align: right;\">\n",
       "      <th></th>\n",
       "      <th>item_id</th>\n",
       "      <th>title</th>\n",
       "      <th>release_year</th>\n",
       "      <th>orig_item_id</th>\n",
       "    </tr>\n",
       "  </thead>\n",
       "  <tbody>\n",
       "    <tr>\n",
       "      <th>0</th>\n",
       "      <td>0</td>\n",
       "      <td>Toy Story (1995)</td>\n",
       "      <td>1995</td>\n",
       "      <td>1</td>\n",
       "    </tr>\n",
       "    <tr>\n",
       "      <th>1</th>\n",
       "      <td>70</td>\n",
       "      <td>Lion King, The (1994)</td>\n",
       "      <td>1994</td>\n",
       "      <td>71</td>\n",
       "    </tr>\n",
       "    <tr>\n",
       "      <th>2</th>\n",
       "      <td>98</td>\n",
       "      <td>Snow White and the Seven Dwarfs (1937)</td>\n",
       "      <td>1937</td>\n",
       "      <td>99</td>\n",
       "    </tr>\n",
       "    <tr>\n",
       "      <th>3</th>\n",
       "      <td>131</td>\n",
       "      <td>Wizard of Oz, The (1939)</td>\n",
       "      <td>1939</td>\n",
       "      <td>132</td>\n",
       "    </tr>\n",
       "    <tr>\n",
       "      <th>4</th>\n",
       "      <td>142</td>\n",
       "      <td>Sound of Music, The (1965)</td>\n",
       "      <td>1965</td>\n",
       "      <td>143</td>\n",
       "    </tr>\n",
       "    <tr>\n",
       "      <th>5</th>\n",
       "      <td>49</td>\n",
       "      <td>Star Wars (1977)</td>\n",
       "      <td>1977</td>\n",
       "      <td>50</td>\n",
       "    </tr>\n",
       "    <tr>\n",
       "      <th>6</th>\n",
       "      <td>171</td>\n",
       "      <td>Empire Strikes Back, The (1980)</td>\n",
       "      <td>1980</td>\n",
       "      <td>172</td>\n",
       "    </tr>\n",
       "    <tr>\n",
       "      <th>7</th>\n",
       "      <td>180</td>\n",
       "      <td>Return of the Jedi (1983)</td>\n",
       "      <td>1997</td>\n",
       "      <td>181</td>\n",
       "    </tr>\n",
       "    <tr>\n",
       "      <th>8</th>\n",
       "      <td>81</td>\n",
       "      <td>Jurassic Park (1993)</td>\n",
       "      <td>1993</td>\n",
       "      <td>82</td>\n",
       "    </tr>\n",
       "    <tr>\n",
       "      <th>9</th>\n",
       "      <td>251</td>\n",
       "      <td>Lost World: Jurassic Park, The (1997)</td>\n",
       "      <td>1997</td>\n",
       "      <td>252</td>\n",
       "    </tr>\n",
       "    <tr>\n",
       "      <th>10</th>\n",
       "      <td>173</td>\n",
       "      <td>Raiders of the Lost Ark (1981)</td>\n",
       "      <td>1981</td>\n",
       "      <td>174</td>\n",
       "    </tr>\n",
       "    <tr>\n",
       "      <th>11</th>\n",
       "      <td>209</td>\n",
       "      <td>Indiana Jones and the Last Crusade (1989)</td>\n",
       "      <td>1989</td>\n",
       "      <td>210</td>\n",
       "    </tr>\n",
       "    <tr>\n",
       "      <th>12</th>\n",
       "      <td>65</td>\n",
       "      <td>While You Were Sleeping (1995)</td>\n",
       "      <td>1995</td>\n",
       "      <td>66</td>\n",
       "    </tr>\n",
       "    <tr>\n",
       "      <th>13</th>\n",
       "      <td>87</td>\n",
       "      <td>Sleepless in Seattle (1993)</td>\n",
       "      <td>1993</td>\n",
       "      <td>88</td>\n",
       "    </tr>\n",
       "    <tr>\n",
       "      <th>14</th>\n",
       "      <td>254</td>\n",
       "      <td>My Best Friend's Wedding (1997)</td>\n",
       "      <td>1997</td>\n",
       "      <td>255</td>\n",
       "    </tr>\n",
       "    <tr>\n",
       "      <th>15</th>\n",
       "      <td>90</td>\n",
       "      <td>Nightmare Before Christmas, The (1993)</td>\n",
       "      <td>1993</td>\n",
       "      <td>91</td>\n",
       "    </tr>\n",
       "    <tr>\n",
       "      <th>16</th>\n",
       "      <td>199</td>\n",
       "      <td>Shining, The (1980)</td>\n",
       "      <td>1980</td>\n",
       "      <td>200</td>\n",
       "    </tr>\n",
       "    <tr>\n",
       "      <th>17</th>\n",
       "      <td>218</td>\n",
       "      <td>Nightmare on Elm Street, A (1984)</td>\n",
       "      <td>1984</td>\n",
       "      <td>219</td>\n",
       "    </tr>\n",
       "    <tr>\n",
       "      <th>18</th>\n",
       "      <td>286</td>\n",
       "      <td>Scream (1996)</td>\n",
       "      <td>1996</td>\n",
       "      <td>288</td>\n",
       "    </tr>\n",
       "    <tr>\n",
       "      <th>19</th>\n",
       "      <td>893</td>\n",
       "      <td>Scream 2 (1997)</td>\n",
       "      <td>1997</td>\n",
       "      <td>895</td>\n",
       "    </tr>\n",
       "  </tbody>\n",
       "</table>\n",
       "</div>"
      ],
      "text/plain": [
       "    item_id                                      title  release_year  \\\n",
       "0         0                           Toy Story (1995)          1995   \n",
       "1        70                      Lion King, The (1994)          1994   \n",
       "2        98     Snow White and the Seven Dwarfs (1937)          1937   \n",
       "3       131                   Wizard of Oz, The (1939)          1939   \n",
       "4       142                 Sound of Music, The (1965)          1965   \n",
       "5        49                           Star Wars (1977)          1977   \n",
       "6       171            Empire Strikes Back, The (1980)          1980   \n",
       "7       180                  Return of the Jedi (1983)          1997   \n",
       "8        81                       Jurassic Park (1993)          1993   \n",
       "9       251      Lost World: Jurassic Park, The (1997)          1997   \n",
       "10      173             Raiders of the Lost Ark (1981)          1981   \n",
       "11      209  Indiana Jones and the Last Crusade (1989)          1989   \n",
       "12       65             While You Were Sleeping (1995)          1995   \n",
       "13       87                Sleepless in Seattle (1993)          1993   \n",
       "14      254            My Best Friend's Wedding (1997)          1997   \n",
       "15       90     Nightmare Before Christmas, The (1993)          1993   \n",
       "16      199                        Shining, The (1980)          1980   \n",
       "17      218          Nightmare on Elm Street, A (1984)          1984   \n",
       "18      286                              Scream (1996)          1996   \n",
       "19      893                            Scream 2 (1997)          1997   \n",
       "\n",
       "    orig_item_id  \n",
       "0              1  \n",
       "1             71  \n",
       "2             99  \n",
       "3            132  \n",
       "4            143  \n",
       "5             50  \n",
       "6            172  \n",
       "7            181  \n",
       "8             82  \n",
       "9            252  \n",
       "10           174  \n",
       "11           210  \n",
       "12            66  \n",
       "13            88  \n",
       "14           255  \n",
       "15            91  \n",
       "16           200  \n",
       "17           219  \n",
       "18           288  \n",
       "19           895  "
      ]
     },
     "execution_count": 74,
     "metadata": {},
     "output_type": "execute_result"
    }
   ],
   "source": [
    "select_movies_df"
   ]
  },
  {
   "cell_type": "code",
   "execution_count": 80,
   "metadata": {},
   "outputs": [
    {
     "data": {
      "image/png": "[encoded data removed]",
      "text/plain": [
       "<Figure size 576x396 with 1 Axes>"
      ]
     },
     "metadata": {},
     "output_type": "display_data"
    }
   ],
   "source": [
    "B = 0.0005\n",
    "\n",
    "for sid, itemid in enumerate(select_movies_df['item_id'].values):\n",
    "    title = select_movies_df['title'].values[sid]\n",
    "    row_id = np.flatnonzero(item_ids == itemid)[0]\n",
    "    movie_vec_2 = model.qi[row_id,:]\n",
    "    plt.plot(movie_vec_2[0], movie_vec_2[1], 'k.', mew=5)\n",
    "    plt.text(movie_vec_2[0] + B, movie_vec_2[1] + B, title, rotation=15)"
   ]
  },
  {
   "cell_type": "code",
   "execution_count": null,
   "metadata": {},
   "outputs": [],
   "source": []
  }
 ],
 "metadata": {
  "kernelspec": {
   "display_name": "Python 3",
   "language": "python",
   "name": "python3"
  },
  "language_info": {
   "codemirror_mode": {
    "name": "ipython",
    "version": 3
   },
   "file_extension": ".py",
   "mimetype": "text/x-python",
   "name": "python",
   "nbconvert_exporter": "python",
   "pygments_lexer": "ipython3",
   "version": "3.6.10"
  }
 },
 "nbformat": 4,
 "nbformat_minor": 2
}
