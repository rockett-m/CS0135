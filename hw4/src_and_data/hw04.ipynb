{
 "cells": [
  {
   "cell_type": "markdown",
   "metadata": {},
   "source": [
    "## Name and ID\n",
    "\n",
    "**TODO**"
   ]
  },
  {
   "cell_type": "markdown",
   "metadata": {},
   "source": [
    "## HW04 Code\n",
    "\n",
    "You will complete the following notebook, as described in the PDF for Homework 04 (included in the download with the starter code).  You will submit:\n",
    "1. This notebook file (`hw04.ipynb`), `implementation.py`, and two files for both trees images, i.e., `full`, `full.pdf`, `simple`, and `simple.pdf` (PDFs and text files generated using `graphviz` within the code). HINT: `render()`, and it should be clear when to use it, i.e., #3). Compress all files mentioned and submit to the Gradescope link for code.\n",
    "2. A PDF of this notebook and all of its output, once it is completed, to the Gradescope link for the PDF.\n",
    "\n",
    "\n",
    "Please report any questions to the [class Piazza page](https://piazza.com/class/lcwv1h9p2a11ai/)."
   ]
  },
  {
   "cell_type": "markdown",
   "source": [
    "### Import required libraries."
   ],
   "metadata": {
    "collapsed": false
   }
  },
  {
   "cell_type": "code",
   "execution_count": 104,
   "metadata": {
    "ExecuteTime": {
     "start_time": "2023-04-18T17:54:52.436061Z",
     "end_time": "2023-04-18T17:54:52.495900Z"
    }
   },
   "outputs": [
    {
     "name": "stdout",
     "output_type": "stream",
     "text": [
      "The autoreload extension is already loaded. To reload it, use:\n",
      "  %reload_ext autoreload\n"
     ]
    }
   ],
   "source": [
    "import numpy as np\n",
    "import pandas as pd\n",
    "\n",
    "import sklearn.tree\n",
    "import graphviz\n",
    "\n",
    "from implementation import information_remainder, counting_heuristic, set_entropy\n",
    "\n",
    "%load_ext autoreload\n",
    "%autoreload 2"
   ]
  },
  {
   "cell_type": "markdown",
   "metadata": {},
   "source": [
    "## Decision Trees\n",
    "\n",
    "You should start by computing the two heuristic values for the toy data described in the assignment handout. You should then load the two versions of the abalone data, compute the two heuristic values on features (for the simplified data), and then build decision trees for each set of data."
   ]
  },
  {
   "cell_type": "markdown",
   "metadata": {},
   "source": [
    "### 1 Compute both heuristics for toy data."
   ]
  },
  {
   "cell_type": "code",
   "execution_count": 105,
   "outputs": [],
   "source": [
    "feature_names = np.array([\"A\", \"B\"])\n",
    "feature_len = 2\n",
    "classes = [0, 1]\n",
    "\n",
    "x_set = np.array([[1, 1], [1, 1], [0, 1], [0, 0], [0, 1], [0, 0], [0, 0], [0, 0]])\n",
    "y_set = np.array([0, 0, 0, 0, 1, 1, 1, 1])"
   ],
   "metadata": {
    "collapsed": false,
    "ExecuteTime": {
     "start_time": "2023-04-18T17:54:52.454215Z",
     "end_time": "2023-04-18T17:54:52.507823Z"
    }
   }
  },
  {
   "cell_type": "markdown",
   "metadata": {},
   "source": [
    "#### (a) Compute the counting-based heuristic, and order the features by it."
   ]
  },
  {
   "cell_type": "code",
   "execution_count": 106,
   "outputs": [
    {
     "name": "stdout",
     "output_type": "stream",
     "text": [
      "A: 6/8\n",
      "B: 6/8\n"
     ]
    }
   ],
   "source": [
    "from collections import OrderedDict\n",
    "\n",
    "# TODO counting_heuristic()\n",
    "my_dict = OrderedDict()\n",
    "\n",
    "for feature_num in range(feature_len):\n",
    "\n",
    "    total_correct = counting_heuristic(x_inputs=x_set, y_outputs=y_set, feature_index=feature_num, classes=classes)\n",
    "    my_dict[feature_names[feature_num]] = total_correct\n",
    "\n",
    "# TODO sort the feature names by their correct counts\n",
    "# e.g., sort_correct = [best, second_best, ..., worst]\n",
    "# e.g., sort_names = [\"A\", \"B\"] or [\"B\",\"A\"]\n",
    "\n",
    "high_to_low = OrderedDict(sorted(my_dict.items(), key=lambda x: x[1]))\n",
    "sort_correct = list(high_to_low.values()) #TODO: FIX ME\n",
    "sort_names = list(high_to_low.keys()) #TODO: FIX ME\n",
    "# print(f'{sort_correct = }')\n",
    "# print(f'{sort_names = }')\n",
    "# Print the sorted features along with their correct predictions count in the smaller dataset\n",
    "longest = max(len(name) for name in sort_names)\n",
    "for name, correct in zip(sort_names, sort_correct):\n",
    "    print(\"%*s: %d/%d\" % (longest, name, correct, len(x_set)))"
   ],
   "metadata": {
    "collapsed": false,
    "ExecuteTime": {
     "start_time": "2023-04-18T17:54:52.473882Z",
     "end_time": "2023-04-18T17:54:52.513899Z"
    }
   }
  },
  {
   "cell_type": "markdown",
   "metadata": {},
   "source": [
    "#### (b) Compute the information-theoretic heuristic, and order the features by it."
   ]
  },
  {
   "cell_type": "code",
   "execution_count": 107,
   "metadata": {
    "scrolled": true,
    "ExecuteTime": {
     "start_time": "2023-04-18T17:54:52.492053Z",
     "end_time": "2023-04-18T17:54:52.514689Z"
    }
   },
   "outputs": [
    {
     "name": "stdout",
     "output_type": "stream",
     "text": [
      "A: 0.311\n",
      "B: 0.189\n"
     ]
    }
   ],
   "source": [
    "# TODO information_remainder()\n",
    "gains_dict = OrderedDict()\n",
    "\n",
    "for feature_num in range(feature_len):\n",
    "    gain = information_remainder(x_inputs=x_set, y_outputs=y_set, feature_index=feature_num, classes=classes)\n",
    "    gains_dict[feature_names[feature_num]] = gain\n",
    "\n",
    "# TODO sort the feature names by their gains\n",
    "gains_sorted = OrderedDict(sorted(gains_dict.items(), key=lambda x: x[1], reverse=True))\n",
    "\n",
    "sort_gains = list(gains_sorted.values()) #TODO: FIX ME\n",
    "sort_names_by_gains = list(gains_sorted.keys()) #TODO: FIX ME\n",
    "# print(f'{sort_gains = }')\n",
    "# print(f'{sort_names_by_gains = }')\n",
    "\n",
    "longest = max(len(name) for name in sort_names_by_gains)\n",
    "for name, gain in zip(sort_names_by_gains, sort_gains):\n",
    "    print(\"%*s: %.3f\" % (longest, name, gain))"
   ]
  },
  {
   "cell_type": "markdown",
   "metadata": {},
   "source": [
    "#### (c) Discussion of results.\n",
    "\n",
    "*TODO*"
   ]
  },
  {
   "cell_type": "markdown",
   "metadata": {},
   "source": [
    "### 2 Compute both heuristics for simplified abalone data."
   ]
  },
  {
   "cell_type": "code",
   "execution_count": 108,
   "outputs": [
    {
     "data": {
      "text/plain": "\"\\n# https://bids.github.io/2015-06-04-berkeley/intermediate-python/03-sklearn-abalone.html\\n# TODO:fix the empty lists below\\n# full-feature abalone data\\nx_train_p = pd.read_csv('data_abalone/x_train.csv')\\nx_test_p = pd.read_csv('data_abalone/x_test.csv')\\ny_train_p = pd.read_csv('data_abalone/y_train.csv')\\ny_test_p = pd.read_csv('data_abalone/y_test.csv')\\n# np.loadtxt('data_abalone/x_train.csv')\\n\\n# TODO:fix the empty lists below\\n# simplified version of the data (Restricted-feature)\\nsimple_x_train_p = pd.read_csv('data_abalone/small_binary_x_train.csv')\\nsimple_x_test_p = pd.read_csv('data_abalone/small_binary_x_test.csv')\\nsimple_y_train_p = pd.read_csv('data_abalone/3class_y_train.csv')\\nsimple_y_test_p = pd.read_csv('data_abalone/3class_y_test.csv')\\n\""
     },
     "execution_count": 108,
     "metadata": {},
     "output_type": "execute_result"
    }
   ],
   "source": [
    "# ignore but helpful for inspecting data in pycharm\n",
    "\"\"\"\n",
    "# https://bids.github.io/2015-06-04-berkeley/intermediate-python/03-sklearn-abalone.html\n",
    "# TODO:fix the empty lists below\n",
    "# full-feature abalone data\n",
    "x_train_p = pd.read_csv('data_abalone/x_train.csv')\n",
    "x_test_p = pd.read_csv('data_abalone/x_test.csv')\n",
    "y_train_p = pd.read_csv('data_abalone/y_train.csv')\n",
    "y_test_p = pd.read_csv('data_abalone/y_test.csv')\n",
    "# np.loadtxt('data_abalone/x_train.csv')\n",
    "\n",
    "# TODO:fix the empty lists below\n",
    "# simplified version of the data (Restricted-feature)\n",
    "simple_x_train_p = pd.read_csv('data_abalone/small_binary_x_train.csv')\n",
    "simple_x_test_p = pd.read_csv('data_abalone/small_binary_x_test.csv')\n",
    "simple_y_train_p = pd.read_csv('data_abalone/3class_y_train.csv')\n",
    "simple_y_test_p = pd.read_csv('data_abalone/3class_y_test.csv')\n",
    "\"\"\""
   ],
   "metadata": {
    "collapsed": false,
    "ExecuteTime": {
     "start_time": "2023-04-18T17:54:52.510004Z",
     "end_time": "2023-04-18T17:54:52.538648Z"
    }
   }
  },
  {
   "cell_type": "code",
   "execution_count": 109,
   "outputs": [
    {
     "name": "stdout",
     "output_type": "stream",
     "text": [
      "full_feature_names = array(['is_male', 'length_mm', 'diam_mm', 'height_mm', 'whole_weight_g',\n",
      "       'shucked_weight_g', 'viscera_weight_g', 'shell_weight_g'],\n",
      "      dtype='<U16')\n",
      "simple_feature_names = array(['is_male', 'length_mm', 'diam_mm', 'height_mm'], dtype='<U9')\n"
     ]
    }
   ],
   "source": [
    "# load the data into np arrays\n",
    "# TODO:fix the empty lists below\n",
    "x_train = np.loadtxt('data_abalone/x_train.csv', delimiter=',', skiprows=1)\n",
    "x_test = np.loadtxt('data_abalone/x_test.csv', delimiter=',', skiprows=1)\n",
    "y_train = np.loadtxt('data_abalone/y_train.csv', delimiter=',', skiprows=1)\n",
    "y_test = np.loadtxt('data_abalone/y_test.csv', delimiter=',', skiprows=1)\n",
    "\n",
    "# TODO:fix the empty lists below\n",
    "simple_x_train = np.loadtxt('data_abalone/small_binary_x_train.csv', delimiter=',', skiprows=1)\n",
    "simple_x_test = np.loadtxt('data_abalone/small_binary_x_test.csv', delimiter=',', skiprows=1)\n",
    "simple_y_train = np.loadtxt('data_abalone/3class_y_train.csv', delimiter=',', skiprows=1)\n",
    "simple_y_test = np.loadtxt('data_abalone/3class_y_test.csv', delimiter=',', skiprows=1)\n",
    "\n",
    "full_feature_names = np.loadtxt('data_abalone/x_train.csv', delimiter=',', max_rows=1, dtype=str)\n",
    "simple_feature_names = np.loadtxt('data_abalone/small_binary_x_train.csv', delimiter=',', max_rows=1, dtype=str)\n",
    "\n",
    "# get useful information\n",
    "# TODO:fix the empty lists below\n",
    "# full_feature_names = list(x_train.columns.values) # features names of full-feature abalone data\n",
    "# ['is_male', 'length_mm', 'diam_mm', 'height_mm', 'whole_weight_g', 'shucked_weight_g', 'viscera_weight_g', 'shell_weight_g'] ['rings']\n",
    "\n",
    "# simple_feature_names = list(simple_x_train.columns.values) # features names of restricted-feature data\n",
    "# ['is_male', 'length_mm', 'diam_mm', 'height_mm'] ['rings']\n",
    "\n",
    "classes_abalone = [0,1,2] # unique set of class labels\n",
    "class_names = ['Small', 'Medium', 'Large'] # name of the classes\n",
    "\n",
    "print(f'{full_feature_names = }')\n",
    "print(f'{simple_feature_names = }')"
   ],
   "metadata": {
    "collapsed": false,
    "ExecuteTime": {
     "start_time": "2023-04-18T17:54:52.529358Z",
     "end_time": "2023-04-18T17:54:52.551280Z"
    }
   }
  },
  {
   "cell_type": "markdown",
   "source": [
    "#### (a) Compute the counting-based heuristic, and order the features by it."
   ],
   "metadata": {
    "collapsed": false
   }
  },
  {
   "cell_type": "code",
   "execution_count": 110,
   "metadata": {
    "ExecuteTime": {
     "start_time": "2023-04-18T17:54:52.552244Z",
     "end_time": "2023-04-18T17:54:52.579836Z"
    }
   },
   "outputs": [
    {
     "name": "stdout",
     "output_type": "stream",
     "text": [
      "height_mm: 2316/3176\n",
      "  diam_mm: 2266/3176\n",
      "length_mm: 2230/3176\n",
      "  is_male: 1864/3176\n"
     ]
    }
   ],
   "source": [
    "# TODO counting_heuristic()\n",
    "\n",
    "aba_dict = OrderedDict()\n",
    "# for aba_feature in range(len(full_feature_names)):\n",
    "for aba_feature in range(len(simple_feature_names)):\n",
    "\n",
    "    # total_correct_aba = counting_heuristic(x_inputs=x_train, y_outputs=y_train, feature_index=aba_feature, classes=classes_abalone)\n",
    "    total_correct_aba = counting_heuristic(x_inputs=simple_x_train, y_outputs=simple_y_train, feature_index=aba_feature, classes=classes_abalone)\n",
    "\n",
    "    aba_dict[full_feature_names[aba_feature]] = total_correct_aba\n",
    "\n",
    "# TODO sort the feature names by their correct counts\n",
    "high_to_low_aba = OrderedDict(sorted(aba_dict.items(), key=lambda x: x[1], reverse=True))\n",
    "sort_correct_abalone = list(high_to_low_aba.values()) #TODO: FIX ME\n",
    "sort_names_abalone = list(high_to_low_aba.keys()) #TODO: FIX ME\n",
    "\n",
    "# Print the sorted features along with their correct predictions count in the smaller dataset\n",
    "longest = max(len(name) for name in sort_names_abalone)\n",
    "for name, correct in zip(sort_names_abalone, sort_correct_abalone):\n",
    "    print(\"%*s: %d/%d\" % (longest, name, correct, len(simple_x_train)))"
   ]
  },
  {
   "cell_type": "markdown",
   "metadata": {},
   "source": [
    "#### (b) Compute the information-theoretic heuristic, and order the features by it."
   ]
  },
  {
   "cell_type": "code",
   "execution_count": 111,
   "metadata": {
    "scrolled": true,
    "ExecuteTime": {
     "start_time": "2023-04-18T17:54:52.578258Z",
     "end_time": "2023-04-18T17:54:52.596159Z"
    }
   },
   "outputs": [
    {
     "name": "stdout",
     "output_type": "stream",
     "text": [
      "height_mm: 0.173\n",
      "  diam_mm: 0.150\n",
      "length_mm: 0.135\n",
      "  is_male: 0.025\n"
     ]
    }
   ],
   "source": [
    "# TODO information_remainder()\n",
    "info_gains_dict = OrderedDict()\n",
    "for aba_feature in range(len(simple_feature_names)):\n",
    "    gain = information_remainder(x_inputs=simple_x_train, y_outputs=simple_y_train, feature_index=aba_feature, classes=classes_abalone)\n",
    "    info_gains_dict[simple_feature_names[aba_feature]] = gain\n",
    "\n",
    "# TODO sort the feature names by their gains\n",
    "info_gains_sorted = OrderedDict(sorted(info_gains_dict.items(), key=lambda x: x[1], reverse=True))\n",
    "\n",
    "sort_gains_abalone = list(info_gains_sorted.values()) #TODO: FIX ME\n",
    "sort_names_by_gains_abalone = list(info_gains_sorted.keys()) #TODO: FIX ME\n",
    "\n",
    "# longest = max(len(name) for name in sort_names_by_gains_abalone)\n",
    "for name, gain in zip(sort_names_by_gains_abalone, sort_gains_abalone):\n",
    "    print(\"%*s: %.3f\" % (longest, name, gain))"
   ]
  },
  {
   "cell_type": "markdown",
   "metadata": {},
   "source": [
    "### 3) Generate decision trees (criterion='entropy', random_state=42) for full- and simple-feature data"
   ]
  },
  {
   "cell_type": "markdown",
   "source": [
    "#### (a) Train and eval on entire train and test sets. Print accuracy values and generate tree images.\n",
    "\n",
    "Render the tree diagram, naming it \"full.\" A text file and PDF should be created and saved (i.e., `full` and `full.pdf`) - include both in submission."
   ],
   "metadata": {
    "collapsed": false
   }
  },
  {
   "cell_type": "code",
   "execution_count": 112,
   "metadata": {
    "ExecuteTime": {
     "start_time": "2023-04-18T17:54:52.596640Z",
     "end_time": "2023-04-18T17:54:52.634691Z"
    }
   },
   "outputs": [
    {
     "name": "stdout",
     "output_type": "stream",
     "text": [
      "Accuracy (train): 0.000\n",
      "Accuracy  (test): 0.000\n"
     ]
    }
   ],
   "source": [
    "# TODO calculate accuracies\n",
    "train_accuracy = 0 # Fix me\n",
    "test_accuracy = 0 # Fix me\n",
    "print(f\"Accuracy (train): {train_accuracy:.3f}\")\n",
    "print(f\"Accuracy  (test): {test_accuracy:.3f}\")\n",
    "\n",
    "# TODO generate tree image\n"
   ]
  },
  {
   "cell_type": "markdown",
   "source": [
    "#### (b) Restricted-feature (aka simple) data.\n",
    "Train and eval on simple train and test sets. Same as above, accept this time use the `simple` set. Render the tree diagram, naming it \"simple.\" A text file and PDF should be created and saved (i.e., `simple` and `simple.pdf`) - include both in submission."
   ],
   "metadata": {
    "collapsed": false
   }
  },
  {
   "cell_type": "code",
   "execution_count": 113,
   "outputs": [
    {
     "name": "stdout",
     "output_type": "stream",
     "text": [
      "Accuracy (train): 0.000\n",
      "Accuracy  (test): 0.000\n"
     ]
    }
   ],
   "source": [
    "# TODO calculate out accuracies\n",
    "simple_train_accuracy = 0 # Fix me\n",
    "simple_test_accuracy = 0 # Fix me\n",
    "print(f\"Accuracy (train): {simple_train_accuracy:.3f}\")\n",
    "print(f\"Accuracy  (test): {simple_test_accuracy:.3f}\")\n",
    "\n",
    "# TODO generate tree image\n"
   ],
   "metadata": {
    "collapsed": false,
    "ExecuteTime": {
     "start_time": "2023-04-18T17:54:52.615890Z",
     "end_time": "2023-04-18T17:54:52.634886Z"
    }
   }
  },
  {
   "cell_type": "markdown",
   "metadata": {},
   "source": [
    "#### (c) Discuss the results seen for the two trees\n",
    "\n",
    "*TODO*"
   ]
  },
  {
   "cell_type": "code",
   "execution_count": 113,
   "metadata": {
    "ExecuteTime": {
     "start_time": "2023-04-18T17:54:52.633224Z",
     "end_time": "2023-04-18T17:54:52.634905Z"
    }
   },
   "outputs": [],
   "source": []
  }
 ],
 "metadata": {
  "kernelspec": {
   "display_name": "Python 3",
   "language": "python",
   "name": "python3"
  },
  "language_info": {
   "codemirror_mode": {
    "name": "ipython",
    "version": 3
   },
   "file_extension": ".py",
   "mimetype": "text/x-python",
   "name": "python",
   "nbconvert_exporter": "python",
   "pygments_lexer": "ipython3",
   "version": "3.8.5"
  }
 },
 "nbformat": 4,
 "nbformat_minor": 2
}
