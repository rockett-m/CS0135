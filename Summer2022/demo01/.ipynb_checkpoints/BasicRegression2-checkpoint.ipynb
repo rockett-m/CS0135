{
 "cells": [
  {
   "cell_type": "markdown",
   "metadata": {},
   "source": [
    "# Basic Linear/Polynomial Regression Demo\n",
    "\n",
    "Demonstrates the basic use of the linear regression model from sklearn:\n",
    "\n",
    "[https://scikit-learn.org/stable/modules/generated/sklearn.linear_model.LinearRegression.html](https://scikit-learn.org/stable/modules/generated/sklearn.linear_model.LinearRegression.html)\n",
    "\n",
    "Simple one-dimensional data prediction.  Basic model and data based upon an example by S. Srinidhi:\n",
    "\n",
    "[https://medium.com/@contactsunny/linear-regression-in-python-using-scikit-learn-f0f7b125a204](https://medium.com/@contactsunny/linear-regression-in-python-using-scikit-learn-f0f7b125a204)"
   ]
  },
  {
   "cell_type": "code",
   "execution_count": 2,
   "metadata": {},
   "outputs": [],
   "source": [
    "# imports and setup\n",
    "import math\n",
    "import numpy as np\n",
    "import pandas\n",
    "\n",
    "from sklearn.model_selection import train_test_split\n",
    "from sklearn.linear_model import LinearRegression\n",
    "from sklearn.metrics import mean_squared_error\n",
    "\n",
    "import seaborn as sns\n",
    "import matplotlib\n",
    "import matplotlib.pyplot as plt\n",
    "\n",
    "%matplotlib inline\n",
    "np.set_printoptions(suppress=True, precision=2)\n",
    "pandas.set_option('display.precision', 2) # number precision for pandas\n",
    "plt.style.use('seaborn') # pretty matplotlib plots"
   ]
  },
  {
   "cell_type": "code",
   "execution_count": 3,
   "metadata": {},
   "outputs": [],
   "source": [
    "# read and display data-set\n",
    "data = pandas.read_csv('salaryData.csv')"
   ]
  },
  {
   "cell_type": "code",
   "execution_count": 4,
   "metadata": {},
   "outputs": [
    {
     "data": {
      "text/html": [
       "<div>\n",
       "<style scoped>\n",
       "    .dataframe tbody tr th:only-of-type {\n",
       "        vertical-align: middle;\n",
       "    }\n",
       "\n",
       "    .dataframe tbody tr th {\n",
       "        vertical-align: top;\n",
       "    }\n",
       "\n",
       "    .dataframe thead th {\n",
       "        text-align: right;\n",
       "    }\n",
       "</style>\n",
       "<table border=\"1\" class=\"dataframe\">\n",
       "  <thead>\n",
       "    <tr style=\"text-align: right;\">\n",
       "      <th></th>\n",
       "      <th>YearsExperience</th>\n",
       "      <th>Salary</th>\n",
       "    </tr>\n",
       "  </thead>\n",
       "  <tbody>\n",
       "    <tr>\n",
       "      <th>0</th>\n",
       "      <td>1.1</td>\n",
       "      <td>39343.0</td>\n",
       "    </tr>\n",
       "    <tr>\n",
       "      <th>1</th>\n",
       "      <td>1.3</td>\n",
       "      <td>46205.0</td>\n",
       "    </tr>\n",
       "    <tr>\n",
       "      <th>2</th>\n",
       "      <td>1.5</td>\n",
       "      <td>37731.0</td>\n",
       "    </tr>\n",
       "    <tr>\n",
       "      <th>3</th>\n",
       "      <td>2.0</td>\n",
       "      <td>43525.0</td>\n",
       "    </tr>\n",
       "    <tr>\n",
       "      <th>4</th>\n",
       "      <td>2.2</td>\n",
       "      <td>39891.0</td>\n",
       "    </tr>\n",
       "    <tr>\n",
       "      <th>5</th>\n",
       "      <td>2.9</td>\n",
       "      <td>56642.0</td>\n",
       "    </tr>\n",
       "    <tr>\n",
       "      <th>6</th>\n",
       "      <td>3.0</td>\n",
       "      <td>60150.0</td>\n",
       "    </tr>\n",
       "    <tr>\n",
       "      <th>7</th>\n",
       "      <td>3.2</td>\n",
       "      <td>54445.0</td>\n",
       "    </tr>\n",
       "    <tr>\n",
       "      <th>8</th>\n",
       "      <td>3.2</td>\n",
       "      <td>64445.0</td>\n",
       "    </tr>\n",
       "    <tr>\n",
       "      <th>9</th>\n",
       "      <td>3.7</td>\n",
       "      <td>57189.0</td>\n",
       "    </tr>\n",
       "    <tr>\n",
       "      <th>10</th>\n",
       "      <td>3.9</td>\n",
       "      <td>63218.0</td>\n",
       "    </tr>\n",
       "    <tr>\n",
       "      <th>11</th>\n",
       "      <td>4.0</td>\n",
       "      <td>55794.0</td>\n",
       "    </tr>\n",
       "    <tr>\n",
       "      <th>12</th>\n",
       "      <td>4.0</td>\n",
       "      <td>56957.0</td>\n",
       "    </tr>\n",
       "    <tr>\n",
       "      <th>13</th>\n",
       "      <td>4.1</td>\n",
       "      <td>57081.0</td>\n",
       "    </tr>\n",
       "    <tr>\n",
       "      <th>14</th>\n",
       "      <td>4.5</td>\n",
       "      <td>61111.0</td>\n",
       "    </tr>\n",
       "    <tr>\n",
       "      <th>15</th>\n",
       "      <td>4.9</td>\n",
       "      <td>67938.0</td>\n",
       "    </tr>\n",
       "    <tr>\n",
       "      <th>16</th>\n",
       "      <td>5.1</td>\n",
       "      <td>66029.0</td>\n",
       "    </tr>\n",
       "    <tr>\n",
       "      <th>17</th>\n",
       "      <td>5.3</td>\n",
       "      <td>83088.0</td>\n",
       "    </tr>\n",
       "    <tr>\n",
       "      <th>18</th>\n",
       "      <td>5.9</td>\n",
       "      <td>81363.0</td>\n",
       "    </tr>\n",
       "    <tr>\n",
       "      <th>19</th>\n",
       "      <td>6.0</td>\n",
       "      <td>93940.0</td>\n",
       "    </tr>\n",
       "    <tr>\n",
       "      <th>20</th>\n",
       "      <td>6.8</td>\n",
       "      <td>91738.0</td>\n",
       "    </tr>\n",
       "    <tr>\n",
       "      <th>21</th>\n",
       "      <td>7.1</td>\n",
       "      <td>98273.0</td>\n",
       "    </tr>\n",
       "    <tr>\n",
       "      <th>22</th>\n",
       "      <td>7.9</td>\n",
       "      <td>101302.0</td>\n",
       "    </tr>\n",
       "    <tr>\n",
       "      <th>23</th>\n",
       "      <td>8.2</td>\n",
       "      <td>113812.0</td>\n",
       "    </tr>\n",
       "    <tr>\n",
       "      <th>24</th>\n",
       "      <td>8.7</td>\n",
       "      <td>109431.0</td>\n",
       "    </tr>\n",
       "    <tr>\n",
       "      <th>25</th>\n",
       "      <td>9.0</td>\n",
       "      <td>105582.0</td>\n",
       "    </tr>\n",
       "    <tr>\n",
       "      <th>26</th>\n",
       "      <td>9.5</td>\n",
       "      <td>116969.0</td>\n",
       "    </tr>\n",
       "    <tr>\n",
       "      <th>27</th>\n",
       "      <td>9.6</td>\n",
       "      <td>112635.0</td>\n",
       "    </tr>\n",
       "    <tr>\n",
       "      <th>28</th>\n",
       "      <td>10.3</td>\n",
       "      <td>122391.0</td>\n",
       "    </tr>\n",
       "    <tr>\n",
       "      <th>29</th>\n",
       "      <td>10.5</td>\n",
       "      <td>121872.0</td>\n",
       "    </tr>\n",
       "  </tbody>\n",
       "</table>\n",
       "</div>"
      ],
      "text/plain": [
       "    YearsExperience    Salary\n",
       "0               1.1   39343.0\n",
       "1               1.3   46205.0\n",
       "2               1.5   37731.0\n",
       "3               2.0   43525.0\n",
       "4               2.2   39891.0\n",
       "5               2.9   56642.0\n",
       "6               3.0   60150.0\n",
       "7               3.2   54445.0\n",
       "8               3.2   64445.0\n",
       "9               3.7   57189.0\n",
       "10              3.9   63218.0\n",
       "11              4.0   55794.0\n",
       "12              4.0   56957.0\n",
       "13              4.1   57081.0\n",
       "14              4.5   61111.0\n",
       "15              4.9   67938.0\n",
       "16              5.1   66029.0\n",
       "17              5.3   83088.0\n",
       "18              5.9   81363.0\n",
       "19              6.0   93940.0\n",
       "20              6.8   91738.0\n",
       "21              7.1   98273.0\n",
       "22              7.9  101302.0\n",
       "23              8.2  113812.0\n",
       "24              8.7  109431.0\n",
       "25              9.0  105582.0\n",
       "26              9.5  116969.0\n",
       "27              9.6  112635.0\n",
       "28             10.3  122391.0\n",
       "29             10.5  121872.0"
      ]
     },
     "execution_count": 4,
     "metadata": {},
     "output_type": "execute_result"
    }
   ],
   "source": [
    "data"
   ]
  },
  {
   "cell_type": "code",
   "execution_count": 5,
   "metadata": {},
   "outputs": [],
   "source": [
    "# separate out the inputs (x) and outputs (y)\n",
    "x = data.iloc[:, :-1].values\n",
    "y = data.iloc[:, 1].values"
   ]
  },
  {
   "cell_type": "code",
   "execution_count": 6,
   "metadata": {},
   "outputs": [
    {
     "data": {
      "text/plain": [
       "array([[ 1.1],\n",
       "       [ 1.3],\n",
       "       [ 1.5],\n",
       "       [ 2. ],\n",
       "       [ 2.2],\n",
       "       [ 2.9],\n",
       "       [ 3. ],\n",
       "       [ 3.2],\n",
       "       [ 3.2],\n",
       "       [ 3.7],\n",
       "       [ 3.9],\n",
       "       [ 4. ],\n",
       "       [ 4. ],\n",
       "       [ 4.1],\n",
       "       [ 4.5],\n",
       "       [ 4.9],\n",
       "       [ 5.1],\n",
       "       [ 5.3],\n",
       "       [ 5.9],\n",
       "       [ 6. ],\n",
       "       [ 6.8],\n",
       "       [ 7.1],\n",
       "       [ 7.9],\n",
       "       [ 8.2],\n",
       "       [ 8.7],\n",
       "       [ 9. ],\n",
       "       [ 9.5],\n",
       "       [ 9.6],\n",
       "       [10.3],\n",
       "       [10.5]])"
      ]
     },
     "execution_count": 6,
     "metadata": {},
     "output_type": "execute_result"
    }
   ],
   "source": [
    "# inputs (x) should be a columnar arrangement, one data-point per row\n",
    "x"
   ]
  },
  {
   "cell_type": "code",
   "execution_count": 7,
   "metadata": {},
   "outputs": [
    {
     "data": {
      "text/plain": [
       "array([ 39343.,  46205.,  37731.,  43525.,  39891.,  56642.,  60150.,\n",
       "        54445.,  64445.,  57189.,  63218.,  55794.,  56957.,  57081.,\n",
       "        61111.,  67938.,  66029.,  83088.,  81363.,  93940.,  91738.,\n",
       "        98273., 101302., 113812., 109431., 105582., 116969., 112635.,\n",
       "       122391., 121872.])"
      ]
     },
     "execution_count": 7,
     "metadata": {},
     "output_type": "execute_result"
    }
   ],
   "source": [
    "# outputs (y) is a single array of values, one per row of x\n",
    "y"
   ]
  },
  {
   "cell_type": "code",
   "execution_count": 8,
   "metadata": {},
   "outputs": [],
   "source": [
    "# divide data: 2/3 to train model, 1/3 to test for validation\n",
    "xTrain, xTest, yTrain, yTest = train_test_split(x, y, test_size = 1/3)"
   ]
  },
  {
   "cell_type": "code",
   "execution_count": 9,
   "metadata": {},
   "outputs": [
    {
     "data": {
      "text/plain": [
       "array([[ 8.2],\n",
       "       [ 3.2],\n",
       "       [ 2.9],\n",
       "       [ 1.3],\n",
       "       [ 1.1],\n",
       "       [ 5.1],\n",
       "       [ 4. ],\n",
       "       [ 4.5],\n",
       "       [ 9.5],\n",
       "       [ 6.8],\n",
       "       [ 9.6],\n",
       "       [ 4. ],\n",
       "       [ 4.1],\n",
       "       [10.3],\n",
       "       [ 2. ],\n",
       "       [ 4.9],\n",
       "       [10.5],\n",
       "       [ 3.2],\n",
       "       [ 3. ],\n",
       "       [ 5.3]])"
      ]
     },
     "execution_count": 9,
     "metadata": {},
     "output_type": "execute_result"
    }
   ],
   "source": [
    "xTrain"
   ]
  },
  {
   "cell_type": "code",
   "execution_count": 10,
   "metadata": {},
   "outputs": [
    {
     "data": {
      "text/plain": [
       "array([113812.,  54445.,  56642.,  46205.,  39343.,  66029.,  56957.,\n",
       "        61111., 116969.,  91738., 112635.,  55794.,  57081., 122391.,\n",
       "        43525.,  67938., 121872.,  64445.,  60150.,  83088.])"
      ]
     },
     "execution_count": 10,
     "metadata": {},
     "output_type": "execute_result"
    }
   ],
   "source": [
    "yTrain"
   ]
  },
  {
   "cell_type": "code",
   "execution_count": 11,
   "metadata": {},
   "outputs": [
    {
     "data": {
      "text/plain": [
       "LinearRegression()"
      ]
     },
     "execution_count": 11,
     "metadata": {},
     "output_type": "execute_result"
    }
   ],
   "source": [
    "# build the basic linear model, fit to the training data;\n",
    "# finds min-error coefficient for x\n",
    "linearRegression = LinearRegression()\n",
    "linearRegression.fit(xTrain, yTrain)"
   ]
  },
  {
   "cell_type": "code",
   "execution_count": 12,
   "metadata": {},
   "outputs": [
    {
     "data": {
      "text/plain": [
       "array([102484.59,  56408.41,  53643.84,  38899.46,  37056.41,  73917.36,\n",
       "        63780.6 ,  68388.22, 114464.4 ,  89583.26, 115385.92,  63780.6 ,\n",
       "        64702.12, 121836.59,  45350.12,  72074.31, 123679.63,  56408.41,\n",
       "        54565.36,  75760.4 ])"
      ]
     },
     "execution_count": 12,
     "metadata": {},
     "output_type": "execute_result"
    }
   ],
   "source": [
    "# the predictions the model makes on input sets; \n",
    "# compare predictions on yTrain to correct values, above\n",
    "yTestPredict = linearRegression.predict(xTest)\n",
    "yTrainPredict = linearRegression.predict(xTrain)\n",
    "yTrainPredict"
   ]
  },
  {
   "cell_type": "code",
   "execution_count": 13,
   "metadata": {},
   "outputs": [
    {
     "data": {
      "image/png": "[encoded data removed]",
      "text/plain": [
       "<Figure size 576x396 with 1 Axes>"
      ]
     },
     "metadata": {},
     "output_type": "display_data"
    }
   ],
   "source": [
    "# plot predicted line for training set\n",
    "plt.scatter(xTrain, yTrain, color='red')\n",
    "plt.plot(xTrain, yTrainPredict, color='blue')\n",
    "plt.title('Salary vs Experience (Train data)')\n",
    "plt.xlabel('Years of Experience')\n",
    "plt.ylabel('Salary')\n",
    "plt.show()"
   ]
  },
  {
   "cell_type": "code",
   "execution_count": 14,
   "metadata": {},
   "outputs": [
    {
     "data": {
      "text/plain": [
       "33766677.34998147"
      ]
     },
     "execution_count": 14,
     "metadata": {},
     "output_type": "execute_result"
    }
   ],
   "source": [
    "# overall squared error on training\n",
    "mean_squared_error(yTrain, yTrainPredict)"
   ]
  },
  {
   "cell_type": "code",
   "execution_count": 15,
   "metadata": {},
   "outputs": [
    {
     "data": {
      "image/png": "[encoded data removed]",
      "text/plain": [
       "<Figure size 576x396 with 1 Axes>"
      ]
     },
     "metadata": {},
     "output_type": "display_data"
    }
   ],
   "source": [
    "# plot predicted line for test data\n",
    "plt.scatter(xTest, yTest, color='red')\n",
    "plt.plot(xTest, yTestPredict, color='blue')\n",
    "plt.title('Salary vs Experience (Test data)')\n",
    "plt.xlabel('Years of Experience')\n",
    "plt.ylabel('Salary')\n",
    "plt.show()"
   ]
  },
  {
   "cell_type": "code",
   "execution_count": 16,
   "metadata": {},
   "outputs": [
    {
     "data": {
      "text/plain": [
       "27609299.62103817"
      ]
     },
     "execution_count": 16,
     "metadata": {},
     "output_type": "execute_result"
    }
   ],
   "source": [
    "# overall squared error on testing;\n",
    "# will *generally* be somewhat larger than training error,\n",
    "# but should be close (if we are doing things correctly)\n",
    "# and *can* be less (due to luck)\n",
    "mean_squared_error(yTest, yTestPredict)"
   ]
  },
  {
   "cell_type": "markdown",
   "metadata": {},
   "source": [
    "### Building a higher-order polynomial regression\n",
    "\n",
    "We can modify our input data features to increase their dimensionality.  One way to do this is to use the `PolynomialFeatures` libary, which can transform data by adding higher-degree polynomial values for each input point."
   ]
  },
  {
   "cell_type": "code",
   "execution_count": 17,
   "metadata": {},
   "outputs": [],
   "source": [
    "# for proper plots of the higher-order values, it is necessary to first sort\n",
    "# the data by the original x-component (ensuring that the matching y-values\n",
    "# are sorted accordingly, as well)\n",
    "import operator\n",
    "sorted_zip = sorted(zip(xTrain, yTrain), key=operator.itemgetter(0))\n",
    "xTrain, yTrain = zip(*sorted_zip)"
   ]
  },
  {
   "cell_type": "code",
   "execution_count": 18,
   "metadata": {},
   "outputs": [
    {
     "data": {
      "text/plain": [
       "array([[  1.  ,   1.1 ,   1.21],\n",
       "       [  1.  ,   1.3 ,   1.69],\n",
       "       [  1.  ,   2.  ,   4.  ],\n",
       "       [  1.  ,   2.9 ,   8.41],\n",
       "       [  1.  ,   3.  ,   9.  ],\n",
       "       [  1.  ,   3.2 ,  10.24],\n",
       "       [  1.  ,   3.2 ,  10.24],\n",
       "       [  1.  ,   4.  ,  16.  ],\n",
       "       [  1.  ,   4.  ,  16.  ],\n",
       "       [  1.  ,   4.1 ,  16.81],\n",
       "       [  1.  ,   4.5 ,  20.25],\n",
       "       [  1.  ,   4.9 ,  24.01],\n",
       "       [  1.  ,   5.1 ,  26.01],\n",
       "       [  1.  ,   5.3 ,  28.09],\n",
       "       [  1.  ,   6.8 ,  46.24],\n",
       "       [  1.  ,   8.2 ,  67.24],\n",
       "       [  1.  ,   9.5 ,  90.25],\n",
       "       [  1.  ,   9.6 ,  92.16],\n",
       "       [  1.  ,  10.3 , 106.09],\n",
       "       [  1.  ,  10.5 , 110.25]])"
      ]
     },
     "execution_count": 18,
     "metadata": {},
     "output_type": "execute_result"
    }
   ],
   "source": [
    "# the basic degree-2 transform adds the square of the data to the original\n",
    "# (along with a bias vector of 1's for the 0th weight)\n",
    "from sklearn.preprocessing import PolynomialFeatures\n",
    "\n",
    "poly2 = PolynomialFeatures(degree=2)\n",
    "xTrain2 = poly2.fit_transform(xTrain)\n",
    "xTrain2"
   ]
  },
  {
   "cell_type": "code",
   "execution_count": 19,
   "metadata": {},
   "outputs": [],
   "source": [
    "linearRegression2 = LinearRegression()\n",
    "linearRegression2.fit(xTrain2, yTrain)\n",
    "yTrainPredict2 = linearRegression2.predict(xTrain2)"
   ]
  },
  {
   "cell_type": "code",
   "execution_count": 20,
   "metadata": {},
   "outputs": [
    {
     "data": {
      "image/png": "[encoded data removed]",
      "text/plain": [
       "<Figure size 576x396 with 1 Axes>"
      ]
     },
     "metadata": {},
     "output_type": "display_data"
    }
   ],
   "source": [
    "# plot predicted line for training set\n",
    "plt.scatter(xTrain, yTrain, color='red')\n",
    "\n",
    "plt.plot(xTrain, yTrainPredict2, color='blue')\n",
    "plt.title('Salary vs Experience (Train data)')\n",
    "plt.xlabel('Years of Experience')\n",
    "plt.ylabel('Salary')\n",
    "plt.show()"
   ]
  },
  {
   "cell_type": "code",
   "execution_count": 21,
   "metadata": {},
   "outputs": [],
   "source": [
    "# while the order-2 polynomial doesn't make much difference here,\n",
    "# we can now extend things to include even higher-order terms\n",
    "poly3 = PolynomialFeatures(degree=3)\n",
    "xTrain3 = poly3.fit_transform(xTrain)\n",
    "linearRegression3 = LinearRegression()\n",
    "linearRegression3.fit(xTrain3, yTrain)\n",
    "yTrainPredict3 = linearRegression3.predict(xTrain3)"
   ]
  },
  {
   "cell_type": "code",
   "execution_count": 22,
   "metadata": {},
   "outputs": [
    {
     "data": {
      "image/png": "[encoded data removed]",
      "text/plain": [
       "<Figure size 576x396 with 1 Axes>"
      ]
     },
     "metadata": {},
     "output_type": "display_data"
    }
   ],
   "source": [
    "# plot predicted line for training set\n",
    "plt.scatter(xTrain, yTrain, color='red')\n",
    "\n",
    "plt.plot(xTrain, yTrainPredict3, color='blue')\n",
    "plt.title('Salary vs Experience (Train data)')\n",
    "plt.xlabel('Years of Experience')\n",
    "plt.ylabel('Salary')\n",
    "plt.show()"
   ]
  },
  {
   "cell_type": "code",
   "execution_count": 23,
   "metadata": {},
   "outputs": [],
   "source": [
    "# while the order-2 polynomial doesn't make much difference here,\n",
    "# we can now extend things to include even higher-order terms\n",
    "poly10 = PolynomialFeatures(degree=10)\n",
    "xTrain10 = poly10.fit_transform(xTrain)\n",
    "linearRegression10 = LinearRegression()\n",
    "linearRegression10.fit(xTrain10, yTrain)\n",
    "yTrainPredict10 = linearRegression10.predict(xTrain10)"
   ]
  },
  {
   "cell_type": "code",
   "execution_count": 24,
   "metadata": {},
   "outputs": [
    {
     "data": {
      "image/png": "[encoded data removed]",
      "text/plain": [
       "<Figure size 576x396 with 1 Axes>"
      ]
     },
     "metadata": {},
     "output_type": "display_data"
    }
   ],
   "source": [
    "# plot predicted line for training set\n",
    "plt.scatter(xTrain, yTrain, color='red')\n",
    "\n",
    "plt.plot(xTrain, yTrainPredict10, color='blue')\n",
    "plt.title('Salary vs Experience (Train data)')\n",
    "plt.xlabel('Years of Experience')\n",
    "plt.ylabel('Salary')\n",
    "plt.show()"
   ]
  },
  {
   "cell_type": "markdown",
   "metadata": {},
   "source": [
    "### Looking for overfitting\n",
    "\n",
    "Are polynomial transformations always a good idea?  Not so much.  As we increase the dimensions, it is increasingly possible that we move our model from a robust general solution to one that is highly overfit to the training data.  This can start to show up as training error continues to decrease, while testing error goes the other way at some point.\n",
    "\n",
    "**Note**: in this example, we are normalizing the MSE by dividing by the maximum $$y$$-value seen.  This is not normally the procedure we would follow, but here it makes comparing the results a bit easier, since we don't have such large numbers (the comparison is still telling, since each result is scaled by the same fixed amount.)"
   ]
  },
  {
   "cell_type": "code",
   "execution_count": 25,
   "metadata": {},
   "outputs": [
    {
     "name": "stdout",
     "output_type": "stream",
     "text": [
      "Degree 01: Train: 275.891833, Test: 225.582760\n",
      "Degree 02: Train: 256.687093, Test: 318.674665\n",
      "Degree 03: Train: 211.559969, Test: 261.873465\n",
      "Degree 04: Train: 192.380419, Test: 389.040227\n",
      "Degree 05: Train: 154.674088, Test: 438.082860\n",
      "Degree 06: Train: 147.320570, Test: 447.782872\n",
      "Degree 07: Train: 142.317784, Test: 355.959990\n",
      "Degree 08: Train: 136.095637, Test: 368.785291\n",
      "Degree 09: Train: 135.926599, Test: 375.840714\n",
      "Degree 10: Train: 56.480225, Test: 546.457985\n",
      "Degree 11: Train: 50.444401, Test: 1363.396777\n"
     ]
    }
   ],
   "source": [
    "for i in range(1,12):\n",
    "    polyTransform = PolynomialFeatures(degree=i)\n",
    "    xTrainTransform = polyTransform.fit_transform(xTrain)\n",
    "    xTestTransform = polyTransform.fit_transform(xTest)\n",
    "    linearRegressionModel = LinearRegression()\n",
    "    linearRegressionModel.fit(xTrainTransform, yTrain)\n",
    "    yTrainPredict = linearRegressionModel.predict(xTrainTransform)\n",
    "    yTestPredict = linearRegressionModel.predict(xTestTransform)\n",
    "    mseTrain = mean_squared_error(yTrain, yTrainPredict) / max(y)\n",
    "    mseTest = mean_squared_error(yTest, yTestPredict) / max(y)\n",
    "    print('Degree {:02d}: Train: {:f}, Test: {:f}'.format(i, mseTrain, mseTest))"
   ]
  },
  {
   "cell_type": "markdown",
   "metadata": {},
   "source": [
    "### Food for thought\n",
    "In the above code, increasing the polynomial degree even higher, to 20 or 30, can show trends that are quite different.  At some point the both sorts of error actually start to grow.  Why might that be?"
   ]
  },
  {
   "cell_type": "code",
   "execution_count": null,
   "metadata": {},
   "outputs": [],
   "source": []
  }
 ],
 "metadata": {
  "kernelspec": {
   "display_name": "Python 3 (ipykernel)",
   "language": "python",
   "name": "python3"
  },
  "language_info": {
   "codemirror_mode": {
    "name": "ipython",
    "version": 3
   },
   "file_extension": ".py",
   "mimetype": "text/x-python",
   "name": "python",
   "nbconvert_exporter": "python",
   "pygments_lexer": "ipython3",
   "version": "3.9.12"
  }
 },
 "nbformat": 4,
 "nbformat_minor": 2
}
