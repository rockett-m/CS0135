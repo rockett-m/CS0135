{
 "cells": [
  {
   "cell_type": "markdown",
   "metadata": {},
   "source": [
    "# COMP 135 day01: Intro to Numerical Python"
   ]
  },
  {
   "cell_type": "markdown",
   "metadata": {},
   "source": [
    "A Python-based version of the \"Ch 2 lab\" from James et al.'s \"Introduction to Statistical Learning\" textbook\n",
    "\n",
    "Based on original notebook: https://nbviewer.jupyter.org/github/emredjan/ISL-python/blob/master/labs/lab_02.3_introduction.ipynb\n",
    "\n",
    "# What to Do\n",
    "\n",
    "Students should run this notebook locally, interactively modifying cells as needed to understand concepts and have hands-on practice.\n",
    "\n",
    "Try to make sure you can *predict* what a function will do. Build a mental model of NumPy will make you a better programmer and ML engineer.\n",
    "\n",
    "Ask questions like:\n",
    "\n",
    "* what should the result's output type be?\n",
    "* what should the result's *shape* be?\n",
    "* what should the result's *values* be?\n",
    "\n",
    "# Outline\n",
    "\n",
    "* [Data types](#data_types)\n",
    "* [Dimension and shape](#dimension_and_shape)\n",
    "* [Reshaping](#reshaping)\n",
    "* [Elementwise multiplication](#elementwise_multiplication)\n",
    "* [Matrix multiplication](#matrix_multiplication)\n",
    "* [Useful functions](#useful_functions)\n",
    "-- linspace, logspace\n",
    "-- arange\n",
    "-- allclose\n",
    "* [Reductions](#reductions)\n",
    "-- min\n",
    "-- max\n",
    "-- sum\n",
    "-- prod\n",
    "* [Indexing](#indexing)\n",
    "\n",
    "\n",
    "# Key Takeaways\n",
    "\n",
    "* Numpy array types (`np.array`) have a DIMENSION, a SHAPE, and a DATA-TYPE (dtype)\n",
    "\n",
    "* * Know what you are using!\n",
    "\n",
    "* Consider using standard notation to avoid confusion\n",
    "\n",
    "* * 1-dim arrays of size N could be named `a_N` or `b_N` instead of `a` or `b`\n",
    "\n",
    "* * 2-dim arrays of size (M,N) could be named `a_MN` instead of `a`\n",
    "\n",
    "* * With this notation, it is far more clear that `np.dot(a_MN, b_N)` will work, but `np.dot(a_MN.T, b_N)` will not\n",
    "\n",
    "* Broadcasting is key\n",
    "\n",
    "* * See https://numpy.org/doc/stable/user/basics.broadcasting.html\n",
    "\n",
    "* Always use np.array, avoid np.matrix \n",
    "\n",
    "* * Why? Array is more flexible (can be 1-dim, 2-dim, 3-dim, 4-dim, and more!)\n",
    "* * Also, np.matrix will be deprecated soon <https://numpy.org/doc/stable/reference/generated/numpy.matrix.html>\n",
    "\n",
    "# Further Reading\n",
    "\n",
    "* Stefan van der Walt, S. Chris Colbert, Gaël Varoquaux. The NumPy array: a structure for efficientnumerical computation. Computing in Science and Engineering, Institute of Electrical and Electronics Engineers, 2011. \n",
    "<https://hal.inria.fr/inria-00564007/document>\n",
    "\n",
    "* https://realpython.com/numpy-array-programming/\n"
   ]
  },
  {
   "cell_type": "code",
   "execution_count": 1,
   "metadata": {},
   "outputs": [],
   "source": [
    "# import numpy (array library)\n",
    "import numpy as np\n"
   ]
  },
  {
   "cell_type": "code",
   "execution_count": null,
   "metadata": {},
   "outputs": [],
   "source": []
  },
  {
   "cell_type": "markdown",
   "metadata": {},
   "source": [
    "# Basic array creation and manipulation\n",
    "\n",
    "We use `np.array(...)` function to create arrays"
   ]
  },
  {
   "cell_type": "code",
   "execution_count": 2,
   "metadata": {},
   "outputs": [
    {
     "name": "stdout",
     "output_type": "stream",
     "text": [
      "[1.  6.  2.4]\n"
     ]
    }
   ],
   "source": [
    "x = np.array([1.0, 6.0, 2.4]);\n",
    "print(x);"
   ]
  },
  {
   "cell_type": "code",
   "execution_count": 3,
   "metadata": {},
   "outputs": [
    {
     "data": {
      "text/plain": [
       "array([3. , 8. , 4.4])"
      ]
     },
     "execution_count": 3,
     "metadata": {},
     "output_type": "execute_result"
    }
   ],
   "source": [
    "x + 2 # basic element-wise addition"
   ]
  },
  {
   "cell_type": "code",
   "execution_count": 4,
   "metadata": {},
   "outputs": [
    {
     "data": {
      "text/plain": [
       "array([ 2. , 12. ,  4.8])"
      ]
     },
     "execution_count": 4,
     "metadata": {},
     "output_type": "execute_result"
    }
   ],
   "source": [
    "x * 2 # basic element-wise multiplication"
   ]
  },
  {
   "cell_type": "code",
   "execution_count": 5,
   "metadata": {},
   "outputs": [
    {
     "data": {
      "text/plain": [
       "array([0.5, 3. , 1.2])"
      ]
     },
     "execution_count": 5,
     "metadata": {},
     "output_type": "execute_result"
    }
   ],
   "source": [
    "x / 2 # basic element-wise division"
   ]
  },
  {
   "cell_type": "code",
   "execution_count": 6,
   "metadata": {},
   "outputs": [
    {
     "data": {
      "text/plain": [
       "array([ 2. , 12. ,  4.8])"
      ]
     },
     "execution_count": 6,
     "metadata": {},
     "output_type": "execute_result"
    }
   ],
   "source": [
    "x + x # can operate on two arrays of SAME size"
   ]
  },
  {
   "cell_type": "code",
   "execution_count": 7,
   "metadata": {},
   "outputs": [
    {
     "data": {
      "text/plain": [
       "array([1., 1., 1.])"
      ]
     },
     "execution_count": 7,
     "metadata": {},
     "output_type": "execute_result"
    }
   ],
   "source": [
    "x / x # element-wise division"
   ]
  },
  {
   "cell_type": "markdown",
   "metadata": {},
   "source": [
    "<a id=\"data_types\"></a>"
   ]
  },
  {
   "cell_type": "markdown",
   "metadata": {},
   "source": [
    "# Data types\n",
    "\n",
    "Arrays have *data types* (or \"dtypes\")"
   ]
  },
  {
   "cell_type": "code",
   "execution_count": 8,
   "metadata": {},
   "outputs": [
    {
     "name": "stdout",
     "output_type": "stream",
     "text": [
      "[1. 4. 3.]\n",
      "float64\n"
     ]
    }
   ],
   "source": [
    "y = np.array([1., 4, 3]) # with decimal point in \"1.\", defaults to 'float' type\n",
    "print(y)\n",
    "print(y.dtype)"
   ]
  },
  {
   "cell_type": "code",
   "execution_count": 9,
   "metadata": {},
   "outputs": [
    {
     "name": "stdout",
     "output_type": "stream",
     "text": [
      "[1 4 3]\n",
      "int64\n"
     ]
    }
   ],
   "source": [
    "y_int = np.array([1, 4, 3]) # without decimal point, defaults to 'int' type\n",
    "print(y_int)\n",
    "print(y_int.dtype)"
   ]
  },
  {
   "cell_type": "code",
   "execution_count": 10,
   "metadata": {},
   "outputs": [
    {
     "name": "stdout",
     "output_type": "stream",
     "text": [
      "[1. 4. 3.]\n",
      "float32\n"
     ]
    }
   ],
   "source": [
    "y_float32 = np.array([1, 4, 3], dtype=np.float32) # use optional keyword argument (aka 'kwarg') to specify data type\n",
    "print(y_float32)\n",
    "print(y_float32.dtype)"
   ]
  },
  {
   "cell_type": "code",
   "execution_count": 11,
   "metadata": {},
   "outputs": [
    {
     "name": "stdout",
     "output_type": "stream",
     "text": [
      "[2. 8. 6.]\n",
      "float64\n"
     ]
    }
   ],
   "source": [
    "z = y + y_float32 # What happens when you add float32 to float64? *upcast* to highest precision\n",
    "print(z)\n",
    "print(z.dtype)"
   ]
  },
  {
   "cell_type": "markdown",
   "metadata": {},
   "source": [
    "<a id=\"dimension_and_shape\"></a>"
   ]
  },
  {
   "cell_type": "markdown",
   "metadata": {},
   "source": [
    "# Dimension and Shape\n",
    "\n",
    "Arrays have DIMENSION and SHAPE\n",
    "\n",
    "Dimension = an integer value : number of integers needed to index a unique entry of the array\n",
    "\n",
    "Shape = a tuple of integers : each entry gives the size of the corresponding dimension\n"
   ]
  },
  {
   "cell_type": "code",
   "execution_count": 12,
   "metadata": {},
   "outputs": [
    {
     "data": {
      "text/plain": [
       "1"
      ]
     },
     "execution_count": 12,
     "metadata": {},
     "output_type": "execute_result"
    }
   ],
   "source": [
    "y.ndim"
   ]
  },
  {
   "cell_type": "code",
   "execution_count": 13,
   "metadata": {},
   "outputs": [
    {
     "data": {
      "text/plain": [
       "(3,)"
      ]
     },
     "execution_count": 13,
     "metadata": {},
     "output_type": "execute_result"
    }
   ],
   "source": [
    "y.shape"
   ]
  },
  {
   "cell_type": "code",
   "execution_count": 14,
   "metadata": {},
   "outputs": [
    {
     "name": "stdout",
     "output_type": "stream",
     "text": [
      "[[1. 4. 7.]\n",
      " [2. 5. 8.]\n",
      " [3. 6. 9.]]\n"
     ]
    }
   ],
   "source": [
    "# Create 2D 3x3 array 'M' as floats\n",
    "M = np.asarray([[1, 4, 7.0], [2, 5, 8], [3, 6, 9]])\n",
    "print(M)"
   ]
  },
  {
   "cell_type": "code",
   "execution_count": 15,
   "metadata": {},
   "outputs": [
    {
     "name": "stdout",
     "output_type": "stream",
     "text": [
      "2\n"
     ]
    }
   ],
   "source": [
    "print(M.ndim)"
   ]
  },
  {
   "cell_type": "code",
   "execution_count": 16,
   "metadata": {},
   "outputs": [
    {
     "name": "stdout",
     "output_type": "stream",
     "text": [
      "(3, 3)\n"
     ]
    }
   ],
   "source": [
    "print(M.shape)"
   ]
  },
  {
   "cell_type": "code",
   "execution_count": 17,
   "metadata": {},
   "outputs": [
    {
     "name": "stdout",
     "output_type": "stream",
     "text": [
      "[[ 1.  4.  7. 10. 13.]\n",
      " [ 2.  5.  8. 11. 14.]\n",
      " [ 3.  6.  9. 12. 15.]]\n"
     ]
    }
   ],
   "source": [
    "# Create 2D *rectangular* array\n",
    "M_35 = np.asarray([[1, 4, 7.0, 10, 13], [2, 5, 8, 11, 14], [3, 6, 9, 12, 15]])\n",
    "print(M_35)"
   ]
  },
  {
   "cell_type": "markdown",
   "metadata": {},
   "source": [
    "<a id=\"reshaping\"></a>"
   ]
  },
  {
   "cell_type": "markdown",
   "metadata": {},
   "source": [
    "# Reshaping\n",
    "\n",
    "Sometimes, we want to transforming from 1-dim to 2-dim arrays\n",
    "\n",
    "We can either use:\n",
    "* the *reshape* function\n",
    "* indexing with the \"np.newaxis\" built-in <https://numpy.org/doc/stable/reference/constants.html#numpy.newaxis>\n"
   ]
  },
  {
   "cell_type": "markdown",
   "metadata": {},
   "source": [
    "#### Demo of reshape"
   ]
  },
  {
   "cell_type": "code",
   "execution_count": 18,
   "metadata": {},
   "outputs": [
    {
     "name": "stdout",
     "output_type": "stream",
     "text": [
      "[1. 4. 3.]\n",
      "(3,)\n"
     ]
    }
   ],
   "source": [
    "y = np.array([1.0, 4, 3])\n",
    "print(y)\n",
    "print(y.shape)"
   ]
  },
  {
   "cell_type": "code",
   "execution_count": 19,
   "metadata": {},
   "outputs": [
    {
     "name": "stdout",
     "output_type": "stream",
     "text": [
      "[[1. 4. 3.]]\n",
      "(1, 3)\n"
     ]
    }
   ],
   "source": [
    "y_13 = np.reshape(y, (1,3))  # use '_AB' suffix to denote an array with shape (A, B)\n",
    "print(y_13)\n",
    "print(y_13.shape)"
   ]
  },
  {
   "cell_type": "code",
   "execution_count": 20,
   "metadata": {},
   "outputs": [
    {
     "name": "stdout",
     "output_type": "stream",
     "text": [
      "[[1.]\n",
      " [4.]\n",
      " [3.]]\n",
      "(3, 1)\n"
     ]
    }
   ],
   "source": [
    "y_31 = np.reshape(y, (3, 1))  # use '_AB' suffix to denote an array with shape (A, B)\n",
    "print(y_31)\n",
    "print(y_31.shape)"
   ]
  },
  {
   "cell_type": "markdown",
   "metadata": {},
   "source": [
    "#### Demo of newaxis"
   ]
  },
  {
   "cell_type": "code",
   "execution_count": 21,
   "metadata": {},
   "outputs": [
    {
     "name": "stdout",
     "output_type": "stream",
     "text": [
      "[1. 4. 3.]\n",
      "(3,)\n"
     ]
    }
   ],
   "source": [
    "y = np.array([1.0, 4, 3])\n",
    "print(y)\n",
    "print(y.shape)"
   ]
  },
  {
   "cell_type": "code",
   "execution_count": 22,
   "metadata": {},
   "outputs": [
    {
     "name": "stdout",
     "output_type": "stream",
     "text": [
      "[[1. 4. 3.]]\n",
      "(1, 3)\n"
     ]
    }
   ],
   "source": [
    "y_13 = y[np.newaxis,:]  # use '_AB' suffix to denote an array with shape (A, B)\n",
    "print(y_13)\n",
    "print(y_13.shape)"
   ]
  },
  {
   "cell_type": "code",
   "execution_count": 23,
   "metadata": {},
   "outputs": [
    {
     "name": "stdout",
     "output_type": "stream",
     "text": [
      "[[1.]\n",
      " [4.]\n",
      " [3.]]\n",
      "(3, 1)\n"
     ]
    }
   ],
   "source": [
    "y_31 = y[:, np.newaxis]  # use '_AB' suffix to denote an array with shape (A, B)\n",
    "print(y_31)\n",
    "print(y_31.shape)"
   ]
  },
  {
   "cell_type": "code",
   "execution_count": 24,
   "metadata": {},
   "outputs": [
    {
     "name": "stdout",
     "output_type": "stream",
     "text": [
      "[[[1.]]\n",
      "\n",
      " [[4.]]\n",
      "\n",
      " [[3.]]]\n",
      "(3, 1, 1)\n"
     ]
    }
   ],
   "source": [
    "y_311 = y[:, np.newaxis, np.newaxis]  # use '_AB' suffix to denote an array with shape (A, B)\n",
    "print(y_311)\n",
    "print(y_311.shape)"
   ]
  },
  {
   "cell_type": "markdown",
   "metadata": {},
   "source": [
    "<a id=\"elementwise_multiplication\"></a>"
   ]
  },
  {
   "cell_type": "markdown",
   "metadata": {},
   "source": [
    "# Elementwise Multiplication\n",
    "\n",
    "To perform *element-wise* multiplication, use '*' symbol"
   ]
  },
  {
   "cell_type": "code",
   "execution_count": 25,
   "metadata": {},
   "outputs": [
    {
     "name": "stdout",
     "output_type": "stream",
     "text": [
      "[1. 4. 3.]\n"
     ]
    }
   ],
   "source": [
    "print(y)"
   ]
  },
  {
   "cell_type": "code",
   "execution_count": 26,
   "metadata": {},
   "outputs": [
    {
     "name": "stdout",
     "output_type": "stream",
     "text": [
      "[[1. 4. 7.]\n",
      " [2. 5. 8.]\n",
      " [3. 6. 9.]]\n"
     ]
    }
   ],
   "source": [
    "print(M)"
   ]
  },
  {
   "cell_type": "code",
   "execution_count": 27,
   "metadata": {},
   "outputs": [
    {
     "name": "stdout",
     "output_type": "stream",
     "text": [
      "[[ 1. 16. 49.]\n",
      " [ 4. 25. 64.]\n",
      " [ 9. 36. 81.]]\n"
     ]
    }
   ],
   "source": [
    "R = M * M\n",
    "print(R)"
   ]
  },
  {
   "cell_type": "code",
   "execution_count": 28,
   "metadata": {},
   "outputs": [],
   "source": [
    "# What happens when we multiply (3,3) shape by a (3,) shape?\n",
    "# y is implicitly expanded to (1,3) and thus multiplied element-wise to each row"
   ]
  },
  {
   "cell_type": "code",
   "execution_count": 29,
   "metadata": {},
   "outputs": [
    {
     "data": {
      "text/plain": [
       "array([[ 1., 16., 21.],\n",
       "       [ 2., 20., 24.],\n",
       "       [ 3., 24., 27.]])"
      ]
     },
     "execution_count": 29,
     "metadata": {},
     "output_type": "execute_result"
    }
   ],
   "source": [
    "M * y"
   ]
  },
  {
   "cell_type": "code",
   "execution_count": 30,
   "metadata": {},
   "outputs": [
    {
     "data": {
      "text/plain": [
       "array([[ 1., 16., 21.],\n",
       "       [ 2., 20., 24.],\n",
       "       [ 3., 24., 27.]])"
      ]
     },
     "execution_count": 30,
     "metadata": {},
     "output_type": "execute_result"
    }
   ],
   "source": [
    "M * y[np.newaxis,:]"
   ]
  },
  {
   "cell_type": "code",
   "execution_count": 31,
   "metadata": {},
   "outputs": [
    {
     "data": {
      "text/plain": [
       "array([[ 1.,  4.,  7.],\n",
       "       [ 8., 20., 32.],\n",
       "       [ 9., 18., 27.]])"
      ]
     },
     "execution_count": 31,
     "metadata": {},
     "output_type": "execute_result"
    }
   ],
   "source": [
    "M * y[:,np.newaxis]  # this makes y multiplied to each column"
   ]
  },
  {
   "cell_type": "markdown",
   "metadata": {},
   "source": [
    "In NumPy, multiplying an (M,N) array by an (M,) array is known as *broadcasting*\n",
    "\n",
    "NumPy's implicit rules for what happens are defined here:\n",
    "\n",
    "https://numpy.org/doc/stable/user/basics.broadcasting.html"
   ]
  },
  {
   "cell_type": "markdown",
   "metadata": {},
   "source": [
    "<a id=\"matrix_multiplication\"></a>"
   ]
  },
  {
   "cell_type": "markdown",
   "metadata": {},
   "source": [
    "# Matrix multiplication\n",
    "\n",
    "To do matrix multiplication, use np.dot"
   ]
  },
  {
   "cell_type": "code",
   "execution_count": 32,
   "metadata": {},
   "outputs": [
    {
     "data": {
      "text/plain": [
       "array([38., 46., 54.])"
      ]
     },
     "execution_count": 32,
     "metadata": {},
     "output_type": "execute_result"
    }
   ],
   "source": [
    "np.dot(M, y)"
   ]
  },
  {
   "cell_type": "code",
   "execution_count": 33,
   "metadata": {},
   "outputs": [
    {
     "data": {
      "text/plain": [
       "array([[ 30.,  66., 102.],\n",
       "       [ 36.,  81., 126.],\n",
       "       [ 42.,  96., 150.]])"
      ]
     },
     "execution_count": 33,
     "metadata": {},
     "output_type": "execute_result"
    }
   ],
   "source": [
    "np.dot(M, M)"
   ]
  },
  {
   "cell_type": "code",
   "execution_count": 34,
   "metadata": {},
   "outputs": [
    {
     "data": {
      "text/plain": [
       "26.0"
      ]
     },
     "execution_count": 34,
     "metadata": {},
     "output_type": "execute_result"
    }
   ],
   "source": [
    "np.dot(y,y) # when applied to a 1-dim array, this is an inner product"
   ]
  },
  {
   "cell_type": "code",
   "execution_count": 35,
   "metadata": {},
   "outputs": [
    {
     "data": {
      "text/plain": [
       "array([[26.]])"
      ]
     },
     "execution_count": 35,
     "metadata": {},
     "output_type": "execute_result"
    }
   ],
   "source": [
    "np.dot(y[np.newaxis,:], y[:,np.newaxis])"
   ]
  },
  {
   "cell_type": "code",
   "execution_count": 36,
   "metadata": {},
   "outputs": [
    {
     "data": {
      "text/plain": [
       "26.0"
      ]
     },
     "execution_count": 36,
     "metadata": {},
     "output_type": "execute_result"
    }
   ],
   "source": [
    "np.sum(np.square(y))"
   ]
  },
  {
   "cell_type": "markdown",
   "metadata": {},
   "source": [
    "<a id=\"pseudorandom_number_generation\"></a>"
   ]
  },
  {
   "cell_type": "markdown",
   "metadata": {},
   "source": [
    "# Pseudorandom number generation"
   ]
  },
  {
   "cell_type": "code",
   "execution_count": 37,
   "metadata": {},
   "outputs": [
    {
     "name": "stdout",
     "output_type": "stream",
     "text": [
      "[0.8744267  0.92437062 0.098676   0.3290606  0.14743197 0.19825517\n",
      " 0.62599176 0.13813971 0.06363567 0.86511243 0.89302404 0.20260718\n",
      " 0.47154504 0.68058636 0.78714028]\n"
     ]
    }
   ],
   "source": [
    "x = np.random.uniform(size=15) # Float values uniformly distributed between 0 and 1\n",
    "print(x)"
   ]
  },
  {
   "cell_type": "code",
   "execution_count": 38,
   "metadata": {},
   "outputs": [
    {
     "name": "stdout",
     "output_type": "stream",
     "text": [
      "[-0.82850445 -0.05456489 -2.89224231  2.05042735  1.20496468  0.32140382\n",
      " -0.68193316  0.5156439   0.73909961 -1.44870244 -0.63102067  1.06506266\n",
      " -1.72017559 -0.22623301  0.64069298]\n"
     ]
    }
   ],
   "source": [
    "x = np.random.normal(size=15) # Float values normally distributed according to 'standard' normal (mean 0, variance 1)\n",
    "print(x)"
   ]
  },
  {
   "cell_type": "markdown",
   "metadata": {},
   "source": [
    "To make *repeatable* pseudo-randomness, use a generator with the same seed!"
   ]
  },
  {
   "cell_type": "code",
   "execution_count": 39,
   "metadata": {},
   "outputs": [
    {
     "data": {
      "text/plain": [
       "array([0.5488135 , 0.71518937, 0.60276338, 0.54488318, 0.4236548 ,\n",
       "       0.64589411, 0.43758721, 0.891773  , 0.96366276, 0.38344152])"
      ]
     },
     "execution_count": 39,
     "metadata": {},
     "output_type": "execute_result"
    }
   ],
   "source": [
    "seedA = 0\n",
    "seedB = 1111\n",
    "prng = np.random.RandomState(seedA)\n",
    "prng.uniform(size=10)"
   ]
  },
  {
   "cell_type": "code",
   "execution_count": 40,
   "metadata": {},
   "outputs": [
    {
     "data": {
      "text/plain": [
       "array([0.5488135 , 0.71518937, 0.60276338, 0.54488318, 0.4236548 ,\n",
       "       0.64589411, 0.43758721, 0.891773  , 0.96366276, 0.38344152])"
      ]
     },
     "execution_count": 40,
     "metadata": {},
     "output_type": "execute_result"
    }
   ],
   "source": [
    "prng = np.random.RandomState(seedA)\n",
    "prng.uniform(size=10)"
   ]
  },
  {
   "cell_type": "code",
   "execution_count": 41,
   "metadata": {},
   "outputs": [
    {
     "data": {
      "text/plain": [
       "array([0.0955492 , 0.9250037 , 0.34357342, 0.31047694, 0.00200984,\n",
       "       0.23559472, 0.23779172, 0.73591587, 0.49546808, 0.78442535])"
      ]
     },
     "execution_count": 41,
     "metadata": {},
     "output_type": "execute_result"
    }
   ],
   "source": [
    "prng = np.random.RandomState(seedB)\n",
    "prng.uniform(size=10)"
   ]
  },
  {
   "cell_type": "markdown",
   "metadata": {},
   "source": [
    "<a id=\"useful_functions\"></a>"
   ]
  },
  {
   "cell_type": "markdown",
   "metadata": {},
   "source": [
    "# Useful functions"
   ]
  },
  {
   "cell_type": "markdown",
   "metadata": {},
   "source": [
    "#### linspace and logspace"
   ]
  },
  {
   "cell_type": "code",
   "execution_count": 42,
   "metadata": {},
   "outputs": [
    {
     "name": "stdout",
     "output_type": "stream",
     "text": [
      "-2.0\n",
      "-1.0\n",
      "0.0\n",
      "1.0\n",
      "2.0\n"
     ]
    }
   ],
   "source": [
    "# Linearly spaced numbers\n",
    "x_N = np.linspace(-2, 2, num=5)\n",
    "for a in x_N:\n",
    "    print(a)"
   ]
  },
  {
   "cell_type": "code",
   "execution_count": 43,
   "metadata": {},
   "outputs": [
    {
     "name": "stdout",
     "output_type": "stream",
     "text": [
      "0.01\n",
      "0.1\n",
      "1.0\n",
      "10.0\n",
      "100.0\n"
     ]
    }
   ],
   "source": [
    "# Logarithmically spaced numbers\n",
    "x_N = np.logspace(-2, 2, base=10, num=5)\n",
    "for a in x_N:\n",
    "    print(a)"
   ]
  },
  {
   "cell_type": "markdown",
   "metadata": {},
   "source": [
    "#### arange"
   ]
  },
  {
   "cell_type": "code",
   "execution_count": 44,
   "metadata": {},
   "outputs": [
    {
     "name": "stdout",
     "output_type": "stream",
     "text": [
      "[0 1 2 3]\n"
     ]
    }
   ],
   "source": [
    "# Start at 0 (default), count up by 1 (default) until you get to 4 (exclusive)\n",
    "x = np.arange(4)\n",
    "print(x)"
   ]
  },
  {
   "cell_type": "code",
   "execution_count": 45,
   "metadata": {},
   "outputs": [
    {
     "name": "stdout",
     "output_type": "stream",
     "text": [
      "[-3.14159265 -2.35619449 -1.57079633 -0.78539816  0.          0.78539816\n",
      "  1.57079633  2.35619449]\n"
     ]
    }
   ],
   "source": [
    "# Start at negative PI, count up by increments of pi/4 until you get to + PI (exclusive)\n",
    "\n",
    "y = np.arange(start=-np.pi, stop=np.pi, step=np.pi/4)\n",
    "print(y)"
   ]
  },
  {
   "cell_type": "code",
   "execution_count": 46,
   "metadata": {},
   "outputs": [
    {
     "name": "stdout",
     "output_type": "stream",
     "text": [
      "[-3.14159265 -2.35619449 -1.57079633 -0.78539816  0.          0.78539816\n",
      "  1.57079633  2.35619449  3.14159265]\n"
     ]
    }
   ],
   "source": [
    "# Start at negative PI, count up by increments of pi/4 until you get to PI + very small number (exclusive)\n",
    "\n",
    "y = np.arange(start=-np.pi, stop=np.pi + 0.0000001, step=np.pi/4)\n",
    "print(y)"
   ]
  },
  {
   "cell_type": "markdown",
   "metadata": {},
   "source": [
    "#### allclose\n",
    "\n",
    "Useful when checking if entries in an array are \"close enough\" to some reference value\n",
    "\n",
    "E.g. sometimes due to numerical issues of representation, we would consider 5.00002 as good as \"5\""
   ]
  },
  {
   "cell_type": "code",
   "execution_count": 47,
   "metadata": {},
   "outputs": [
    {
     "name": "stdout",
     "output_type": "stream",
     "text": [
      "[0 1 2 3]\n"
     ]
    }
   ],
   "source": [
    "x_N = np.arange(4)\n",
    "print(x_N)"
   ]
  },
  {
   "cell_type": "code",
   "execution_count": 48,
   "metadata": {},
   "outputs": [
    {
     "name": "stdout",
     "output_type": "stream",
     "text": [
      "[1.000000e-06 1.000001e+00 2.000001e+00 3.000001e+00]\n"
     ]
    }
   ],
   "source": [
    "x2_N = x_N + 0.000001\n",
    "print(x2_N)"
   ]
  },
  {
   "cell_type": "code",
   "execution_count": 49,
   "metadata": {},
   "outputs": [
    {
     "data": {
      "text/plain": [
       "False"
      ]
     },
     "execution_count": 49,
     "metadata": {},
     "output_type": "execute_result"
    }
   ],
   "source": [
    "np.all(x_N == x2_N)"
   ]
  },
  {
   "cell_type": "code",
   "execution_count": 50,
   "metadata": {},
   "outputs": [
    {
     "data": {
      "text/plain": [
       "True"
      ]
     },
     "execution_count": 50,
     "metadata": {},
     "output_type": "execute_result"
    }
   ],
   "source": [
    "np.allclose(x_N, x2_N, atol=0.01) # 'atol' is *absolute tolerance*"
   ]
  },
  {
   "cell_type": "code",
   "execution_count": 51,
   "metadata": {},
   "outputs": [
    {
     "data": {
      "text/plain": [
       "False"
      ]
     },
     "execution_count": 51,
     "metadata": {},
     "output_type": "execute_result"
    }
   ],
   "source": [
    "np.allclose(x_N, x2_N, atol=1e-7) # trying with too small a tolerance will result in False"
   ]
  },
  {
   "cell_type": "markdown",
   "metadata": {},
   "source": [
    "<a id=\"reductions\"></a>"
   ]
  },
  {
   "cell_type": "markdown",
   "metadata": {},
   "source": [
    "# Reductions\n",
    "\n",
    "Some numpy functions like 'sum' or 'prod' or 'max' or 'min' that take in many values and produce fewer values.\n",
    "\n",
    "These kinds of operations are known as \"reductions\".\n",
    "\n",
    "Within numpy, any reduction function takes an optional 'axis' kwarg to specify specific dimensions to apply the reduction to\n"
   ]
  },
  {
   "cell_type": "code",
   "execution_count": 52,
   "metadata": {},
   "outputs": [
    {
     "data": {
      "text/plain": [
       "array([[ 1,  5,  9, 13],\n",
       "       [ 2,  6, 10, 14],\n",
       "       [ 3,  7, 11, 15],\n",
       "       [ 4,  8, 12, 16]])"
      ]
     },
     "execution_count": 52,
     "metadata": {},
     "output_type": "execute_result"
    }
   ],
   "source": [
    "# 2D array creation\n",
    "# R equivalent of matrix(1:16, 4 ,4))\n",
    "A = np.arange(1, 17).reshape(4, 4).transpose()\n",
    "A"
   ]
  },
  {
   "cell_type": "code",
   "execution_count": 53,
   "metadata": {},
   "outputs": [
    {
     "data": {
      "text/plain": [
       "136"
      ]
     },
     "execution_count": 53,
     "metadata": {},
     "output_type": "execute_result"
    }
   ],
   "source": [
    "np.sum(A) # sum of all entries of A"
   ]
  },
  {
   "cell_type": "code",
   "execution_count": 54,
   "metadata": {},
   "outputs": [
    {
     "data": {
      "text/plain": [
       "array([10, 26, 42, 58])"
      ]
     },
     "execution_count": 54,
     "metadata": {},
     "output_type": "execute_result"
    }
   ],
   "source": [
    "np.sum(A, axis=0) # sum across dim with index 0 (across rows)"
   ]
  },
  {
   "cell_type": "code",
   "execution_count": 55,
   "metadata": {},
   "outputs": [
    {
     "data": {
      "text/plain": [
       "array([28, 32, 36, 40])"
      ]
     },
     "execution_count": 55,
     "metadata": {},
     "output_type": "execute_result"
    }
   ],
   "source": [
    "np.sum(A, axis=1) # sum across dim with index 1 (across cols)"
   ]
  },
  {
   "cell_type": "code",
   "execution_count": 56,
   "metadata": {},
   "outputs": [
    {
     "data": {
      "text/plain": [
       "array([1, 2, 3, 4])"
      ]
     },
     "execution_count": 56,
     "metadata": {},
     "output_type": "execute_result"
    }
   ],
   "source": [
    "np.min(A, axis=1) # compute minimum across dim with index 1"
   ]
  },
  {
   "cell_type": "markdown",
   "metadata": {},
   "source": [
    "<a id=\"indexing\"></a>"
   ]
  },
  {
   "cell_type": "markdown",
   "metadata": {},
   "source": [
    "# Indexing"
   ]
  },
  {
   "cell_type": "code",
   "execution_count": 57,
   "metadata": {},
   "outputs": [
    {
     "data": {
      "text/plain": [
       "array([[ 1,  5,  9, 13],\n",
       "       [ 2,  6, 10, 14],\n",
       "       [ 3,  7, 11, 15],\n",
       "       [ 4,  8, 12, 16]])"
      ]
     },
     "execution_count": 57,
     "metadata": {},
     "output_type": "execute_result"
    }
   ],
   "source": [
    "# 2D array creation\n",
    "# R equivalent of matrix(1:16, 4 ,4))\n",
    "A = np.arange(1, 17).reshape(4, 4).transpose()\n",
    "A"
   ]
  },
  {
   "cell_type": "code",
   "execution_count": 58,
   "metadata": {},
   "outputs": [
    {
     "data": {
      "text/plain": [
       "array([ 1,  5,  9, 13])"
      ]
     },
     "execution_count": 58,
     "metadata": {},
     "output_type": "execute_result"
    }
   ],
   "source": [
    "# Show the first row\n",
    "A[0]"
   ]
  },
  {
   "cell_type": "code",
   "execution_count": 59,
   "metadata": {},
   "outputs": [
    {
     "data": {
      "text/plain": [
       "array([1, 2, 3, 4])"
      ]
     },
     "execution_count": 59,
     "metadata": {},
     "output_type": "execute_result"
    }
   ],
   "source": [
    "# Show the first col\n",
    "A[:, 0]"
   ]
  },
  {
   "cell_type": "code",
   "execution_count": 60,
   "metadata": {},
   "outputs": [
    {
     "data": {
      "text/plain": [
       "10"
      ]
     },
     "execution_count": 60,
     "metadata": {},
     "output_type": "execute_result"
    }
   ],
   "source": [
    "# Grab the second row, third column\n",
    "A[1,2]"
   ]
  },
  {
   "cell_type": "code",
   "execution_count": 61,
   "metadata": {},
   "outputs": [
    {
     "data": {
      "text/plain": [
       "array([[ 5,  9, 13],\n",
       "       [ 6, 10, 14],\n",
       "       [ 7, 11, 15]])"
      ]
     },
     "execution_count": 61,
     "metadata": {},
     "output_type": "execute_result"
    }
   ],
   "source": [
    "# select a range of rows and columns\n",
    "A[0:3, 1:4]\n"
   ]
  },
  {
   "cell_type": "code",
   "execution_count": 62,
   "metadata": {},
   "outputs": [
    {
     "data": {
      "text/plain": [
       "array([[ 1,  5,  9, 13],\n",
       "       [ 2,  6, 10, 14]])"
      ]
     },
     "execution_count": 62,
     "metadata": {},
     "output_type": "execute_result"
    }
   ],
   "source": [
    "# select a range of rows and all columns\n",
    "A[0:2,:]"
   ]
  },
  {
   "cell_type": "code",
   "execution_count": 63,
   "metadata": {},
   "outputs": [
    {
     "data": {
      "text/plain": [
       "array([ 4,  8, 12, 16])"
      ]
     },
     "execution_count": 63,
     "metadata": {},
     "output_type": "execute_result"
    }
   ],
   "source": [
    "# select the *last* row\n",
    "A[-1]"
   ]
  },
  {
   "cell_type": "code",
   "execution_count": 64,
   "metadata": {},
   "outputs": [
    {
     "data": {
      "text/plain": [
       "array([ 9, 10, 11, 12])"
      ]
     },
     "execution_count": 64,
     "metadata": {},
     "output_type": "execute_result"
    }
   ],
   "source": [
    "# select the *second to last* column\n",
    "A[:, -2]"
   ]
  },
  {
   "cell_type": "code",
   "execution_count": null,
   "metadata": {},
   "outputs": [],
   "source": []
  }
 ],
 "metadata": {
  "kernelspec": {
   "display_name": "Python 3",
   "language": "python",
   "name": "python3"
  },
  "language_info": {
   "codemirror_mode": {
    "name": "ipython",
    "version": 3
   },
   "file_extension": ".py",
   "mimetype": "text/x-python",
   "name": "python",
   "nbconvert_exporter": "python",
   "pygments_lexer": "ipython3",
   "version": "3.8.2"
  }
 },
 "nbformat": 4,
 "nbformat_minor": 4
}
