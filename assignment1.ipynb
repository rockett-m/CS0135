{
  "cells": [
    {
      "cell_type": "markdown",
      "metadata": {
        "id": "view-in-github",
        "colab_type": "text"
      },
      "source": [
        "<a href=\"https://colab.research.google.com/github/rockett-m/CS0135/blob/main/assignment1.ipynb\" target=\"_parent\"><img src=\"https://colab.research.google.com/assets/colab-badge.svg\" alt=\"Open In Colab\"/></a>"
      ]
    },
    {
      "cell_type": "markdown",
      "metadata": {
        "id": "heGIBRtPzwHk"
      },
      "source": [
        "# Assignment 1\n",
        "Download auto_mpg.txt and store inside 'tabular' folder created inside of 'data' directory. Add this notebook to your python codebase.\n",
        "\n",
        "The **purpose** of this assignmnet is to become familiar with core Python (*Part 0*), numpy and Pandas basics (*Part 1*), and handling data (*Part 2*)."
      ]
    },
    {
      "cell_type": "markdown",
      "metadata": {
        "id": "QVVS9iPxzwHm"
      },
      "source": [
        "NAME\n",
        "DATE"
      ]
    },
    {
      "cell_type": "markdown",
      "metadata": {
        "id": "6O_EXyhMzwHm"
      },
      "source": [
        "## Part 0\n",
        "\n",
        "The goal of Part 0 is to\n",
        "- Practice problems based on core Python\n",
        "- Gain better understanding of work-flows controlled by conditional statements"
      ]
    },
    {
      "cell_type": "markdown",
      "metadata": {
        "id": "jZFXAopHzwHm"
      },
      "source": [
        "### Resources for python\n",
        "\n",
        "Here are some of the best resources for Python on the web. \n",
        "\n",
        "#### Learning resources\n",
        "\n",
        "* [Interactive Python](http://interactivepython.org/) An online book that includes embedded live excercises. Fun!\n",
        "* [Dive Into Python](http://www.diveintopython.net/) An excellent, thorough book.\n",
        "* [tutorial point](http://www.tutorialspoint.com/python/index.htm) A resource that is useful when you want an explanation of one concept, rather than a whole chapter.\n",
        "\n",
        "\n",
        "#### Reference resources\n",
        "\n",
        "Typically, if you have a question about python, you can find an answer by using google. The following sites will usually have the best answer.\n",
        "\n",
        "* [Official python documentation](https://docs.python.org/3/library/)\n",
        "* [Quick Reference from Tutorial Point](http://www.tutorialspoint.com/python/python_quick_guide.htm)\n"
      ]
    },
    {
      "cell_type": "markdown",
      "metadata": {
        "id": "4SdCC2P3zwHm"
      },
      "source": [
        "**Sample.** Notice the printout below the solution. Notice it is self-documenting, including problem definition and solution (i.e., source code), along with result (i.e., printout)."
      ]
    },
    {
      "cell_type": "code",
      "execution_count": 1,
      "metadata": {
        "id": "GgiMTzCQzwHm",
        "outputId": "a0d76282-28c1-4bab-918f-325db462f981",
        "colab": {
          "base_uri": "https://localhost:8080/"
        }
      },
      "outputs": [
        {
          "output_type": "stream",
          "name": "stdout",
          "text": [
            "Found value 2 in list\n",
            "Value 6 not found in list\n",
            "List items: [2, 3, 4, 5]\n"
          ]
        }
      ],
      "source": [
        "val = 2\n",
        "li = [2, 3, 4, 5]\n",
        "if val in li:\n",
        "    # print('Found value', val, 'in list')\n",
        "    print(f'Found value {val} in list')\n",
        "else:\n",
        "    print('Value', val, 'not found in list')\n",
        "if 6 in li:\n",
        "    print('Found value', 6, 'in list')\n",
        "else:\n",
        "    print('Value', 6, 'not found in list')\n",
        "print('List items:', li)\n"
      ]
    },
    {
      "cell_type": "markdown",
      "metadata": {
        "id": "XPK-gdRezwHn"
      },
      "source": [
        "**0.1)** \n",
        "Describe the 4 core Python containers (note the keyword core, i.e., not numpy arrays or other container types that are included in Python Packages).  \n",
        "a) What are characteristics of each?"
      ]
    },
    {
      "cell_type": "markdown",
      "metadata": {
        "id": "jZu9ntQlzwHn"
      },
      "source": [
        "lists (li=[]), tuples (tu=()), strings (st=\"\"), dictionaries (dic={})-- each are containers with various characteristics.\n",
        "\n",
        "Lists and tuples can store any type, and can be made up of various different types. Both preserve order (as do strings), with the difference being lists are mutable, while tuples and strings are immutable.\n",
        "\n",
        "Strings are made up of sequences of characters.\n",
        "\n",
        "Dictionaries are key-value pairs, where values are accessed via indexing with key. Keys must be unique and are immutable, while values can be of any type and are mutable.\n",
        "\n",
        "Each container is accessed using square brackets, with indices for tuples, lists, and strings (i.e., ordered) and keys for dictionaries (i.e., unordered)."
      ]
    },
    {
      "cell_type": "markdown",
      "metadata": {
        "id": "xzEgiIDAzwHo"
      },
      "source": [
        "b) Instantiate each with 0 elements (i.e., empty), and show adding a single element to each."
      ]
    },
    {
      "cell_type": "code",
      "execution_count": 2,
      "metadata": {
        "id": "-wR8fE5MzwHo"
      },
      "outputs": [],
      "source": [
        "# instantiate empty containers\n",
        "my_list = []\n",
        "my_tuple = ()\n",
        "my_string = ''\n",
        "my_dict = {}\n",
        "\n",
        "# add single elements\n",
        "elem = 10\n",
        "my_list.append(elem)\n",
        "my_tuple = ('value')\n",
        "my_string = 'value'\n",
        "my_dict.update({elem : 'value'})\n"
      ]
    },
    {
      "cell_type": "markdown",
      "metadata": {
        "id": "RvUs0TDJzwHo"
      },
      "source": [
        "c) Provide 1 or more use cases for each.\n"
      ]
    },
    {
      "cell_type": "markdown",
      "metadata": {
        "id": "iTi7wSglzwHo"
      },
      "source": [
        "List: This can be used to store the names of companies in the S&P500.  \n",
        "Tuple: This can be used to store different types of variables, for example, I am entering a stock order that includes the ticker (string), price (float), size (int), and other information. The tuple can store all these different types in one bundle.  \n",
        "String: This data struct can store a stock ticker or my name.  \n",
        "Dictionary: This can be used to have all the names of people in this class (first and last to avoid collisions), paired with their GPA's and or ages.  "
      ]
    },
    {
      "cell_type": "markdown",
      "metadata": {
        "id": "kgx7-K8YzwHo"
      },
      "source": [
        "**0.2)** Write  a program that takes in a positive number (in some variable, say `i`) and computes the sum of all the numbers\n",
        "between 0 and that number (inclusive). \n",
        "\n",
        "a) Do it using a for loop"
      ]
    },
    {
      "cell_type": "code",
      "execution_count": 3,
      "metadata": {
        "id": "qFiyYAl5zwHo"
      },
      "outputs": [],
      "source": [
        "i = 10"
      ]
    },
    {
      "cell_type": "code",
      "execution_count": 4,
      "metadata": {
        "colab": {
          "base_uri": "https://localhost:8080/"
        },
        "id": "eX32ENZ-zwHo",
        "outputId": "8c5e9435-1e5f-4c83-8667-d163c0ccdb34"
      },
      "outputs": [
        {
          "output_type": "stream",
          "name": "stdout",
          "text": [
            "Sum using list using for loop 55\n"
          ]
        }
      ],
      "source": [
        "def sum_forloop(n):\n",
        "    \"\"\"\n",
        "    Function that returns the sum of all numbers in range [0, n].\n",
        "    :param n: upper limit of summation, which is positive integer greater than 0\n",
        "    :return: Sum from i=0 to i=n.\n",
        "    \"\"\"\n",
        "    if type(n) is not int or n < 0:\n",
        "        # check input meets conditions\n",
        "        return None\n",
        "    sum = 0\n",
        "    for i in range(n+1):\n",
        "        sum += i\n",
        "    return sum\n",
        "\n",
        "print('Sum using list using for loop', sum_forloop(i))"
      ]
    },
    {
      "cell_type": "markdown",
      "metadata": {
        "id": "Ihp3HG_czwHo"
      },
      "source": [
        "b) Do it in one line using the function `sum` and list comprehension."
      ]
    },
    {
      "cell_type": "code",
      "execution_count": 5,
      "metadata": {
        "colab": {
          "base_uri": "https://localhost:8080/"
        },
        "id": "cHhJIk0VzwHo",
        "outputId": "97e861a1-fc2e-4856-ba04-c1df9fbcece6"
      },
      "outputs": [
        {
          "output_type": "execute_result",
          "data": {
            "text/plain": [
              "55"
            ]
          },
          "metadata": {},
          "execution_count": 5
        }
      ],
      "source": [
        "sum([x for x in range(i+1)])"
      ]
    },
    {
      "cell_type": "markdown",
      "metadata": {
        "id": "e6qBJlxGzwHo"
      },
      "source": [
        "**0.3)** Create a lookup table for your class schedule, with the CRN as keys and the name of class as the value. Loop over the dictionary and print out the CRN and course name (single line per class)."
      ]
    },
    {
      "cell_type": "code",
      "execution_count": 6,
      "metadata": {
        "colab": {
          "base_uri": "https://localhost:8080/"
        },
        "id": "uVPGu2u1zwHo",
        "outputId": "f5566810-19f5-4eb7-8513-fb311e8c4b80"
      },
      "outputs": [
        {
          "output_type": "stream",
          "name": "stdout",
          "text": [
            "CRN = 'CS135', class_name = 'Machine Learning'\n",
            "CRN = 'EE129', class_name = 'Computer Communication Networks'\n"
          ]
        }
      ],
      "source": [
        "my_dict = {'CS135': 'Machine Learning', 'EE129': 'Computer Communication Networks'}\n",
        "\n",
        "for CRN, class_name in my_dict.items():\n",
        "    print(f'{CRN = }, {class_name = }')"
      ]
    },
    {
      "cell_type": "markdown",
      "metadata": {
        "id": "gF47JuwwzwHo"
      },
      "source": [
        "**0.4)** Create an empty list. Then, copy the for-loop from previous excercise such that the program prompts you to input the time of the day (as type sting, and using military time would allow for AM and PM to be omitted). These times are to be stored in empty dictionay using the same keys (i.e., CRN->time class starts)"
      ]
    },
    {
      "cell_type": "code",
      "execution_count": 7,
      "metadata": {
        "colab": {
          "base_uri": "https://localhost:8080/"
        },
        "id": "PvAS5PbUzwHo",
        "outputId": "7982c41d-2fcf-48d8-dc0b-9e1dcc9e8728"
      },
      "outputs": [
        {
          "name": "stdout",
          "output_type": "stream",
          "text": [
            "Enter the time of day in military format for class 'CS135': 10:30\n",
            "Enter the time of day in military format for class 'EE129': 10:30\n"
          ]
        }
      ],
      "source": [
        "import re\n",
        "\n",
        "my_list = []\n",
        "new_dict = {}\n",
        "\n",
        "for CRN, course_name in my_dict.items():\n",
        "    time_of_day = str(input(f\"Enter the time of day in military format for class '{CRN}': \"))\n",
        "    new_dict[CRN] = time_of_day\n",
        "\n",
        "for CRN, time in new_dict.items():\n",
        "    if not re.match(r'^([0-9]|[0-1][0-9]|[2][0-3]):([0-5][0-9])(:[0-5][0-9])?$', time):\n",
        "        print(f'invalid time {time} entered for class {CRN}')\n"
      ]
    },
    {
      "cell_type": "markdown",
      "metadata": {
        "id": "B_tauvu-zwHo"
      },
      "source": []
    },
    {
      "cell_type": "markdown",
      "metadata": {
        "id": "ZYdgZy1yzwHp"
      },
      "source": [
        "**0.5** Write a Python program to convert temperatures to and from Celsius, Fahrenheit.\n",
        "\n",
        "\n",
        "$$ \\frac{c}{5} = \\frac{f-32}{9},$$\n",
        "where $c$ is the temperature in Celsius and $f$ is the temperature in Fahrenheit.\n",
        "\n",
        "Test code:\n",
        "60°C is 140 in Fahrenheit\n",
        "45°F is 7 in Celsius"
      ]
    },
    {
      "cell_type": "code",
      "execution_count": 8,
      "metadata": {
        "id": "qFegBVPlzwHp",
        "outputId": "26b2e7a3-7ded-497d-f084-e733eb75c96e",
        "colab": {
          "base_uri": "https://localhost:8080/"
        }
      },
      "outputs": [
        {
          "output_type": "stream",
          "name": "stdout",
          "text": [
            "45 deg. F is 7.222222222222222 deg. C\n",
            "60 deg. C is 15.555555555555555 deg. F\n"
          ]
        }
      ],
      "source": [
        "def fahrenheit2celsius(fahrenheit):\n",
        "    return (5 * (fahrenheit - 32)) / 9\n",
        "\n",
        "def celsius2fahrenheit(celsius):\n",
        "    return ((celsius * 9) / 5) + 32\n",
        "\n",
        "\n",
        "temp_c = 60\n",
        "temp_f = 45\n",
        "\n",
        "temp_c_out = fahrenheit2celsius(temp_f)\n",
        "temp_f_out = fahrenheit2celsius(temp_c)\n",
        "\n",
        "print(\"{} deg. F is {} deg. C\".format(temp_f, temp_c_out))\n",
        "print(\"{} deg. C is {} deg. F\".format(temp_c, temp_f_out))"
      ]
    },
    {
      "cell_type": "markdown",
      "metadata": {
        "id": "5Fa9k3hJzwHp"
      },
      "source": [
        "**0.6** Write a Python program to construct the following pattern, using a nested for loop.\n",
        "\n",
        "O\n",
        "\n",
        "O X\n",
        "\n",
        "O X O\n",
        "\n",
        "O X O X\n",
        "\n",
        "O X O X O\n",
        "\n",
        "O X O X\n",
        "\n",
        "O X O\n",
        "\n",
        "O X\n",
        "\n",
        "O"
      ]
    },
    {
      "cell_type": "code",
      "execution_count": 9,
      "metadata": {
        "colab": {
          "base_uri": "https://localhost:8080/"
        },
        "id": "9zfVmbtazwHp",
        "outputId": "fd0ca33d-52b7-4759-ad75-29bf81efbf64"
      },
      "outputs": [
        {
          "output_type": "stream",
          "name": "stdout",
          "text": [
            "O\n",
            "OX\n",
            "OXO\n",
            "OXOX\n",
            "OXOXO\n",
            "OXOX\n",
            "OXO\n",
            "OX\n",
            "O\n"
          ]
        }
      ],
      "source": [
        "\n",
        "for i in [1,2,3,4,5,4,3,2,1]:\n",
        "    out = []\n",
        "    count = i\n",
        "    for j in range(count):\n",
        "        if count % 2 == 1:\n",
        "            out.append('O')\n",
        "        else:\n",
        "            out.append('X')\n",
        "        count -= 1\n",
        "    if i % 2 == 0:\n",
        "        out.reverse()\n",
        "    output = ''.join(out)\n",
        "    print(output)\n"
      ]
    },
    {
      "cell_type": "markdown",
      "metadata": {
        "id": "dGNt8klFzwHp"
      },
      "source": [
        "**0.7** Write a Python program that reads two integers representing a month and day and prints the season for that month and day. Go to the editor\n",
        "Expected Output:\n",
        "\n",
        "Input the month (e.g. January, February etc.): july                     \n",
        "Input the day: 31                                                       \n",
        "Season is summer  "
      ]
    },
    {
      "cell_type": "code",
      "execution_count": 10,
      "metadata": {
        "colab": {
          "base_uri": "https://localhost:8080/"
        },
        "id": "H6Y8nsQuzwHp",
        "outputId": "b9c3f2fb-c49d-40b4-bc30-eca878463f0f"
      },
      "outputs": [
        {
          "output_type": "stream",
          "name": "stdout",
          "text": [
            "Please enter the month: March\n",
            "Please enter the day: 30\n",
            "Season is spring\n"
          ]
        }
      ],
      "source": [
        "month = str(input('Please enter the month: ')).strip()\n",
        "day = int(input('Please enter the day: '))\n",
        "\n",
        "season_dict = {}\n",
        "season_dict['winter'] = [['December', 21, 31],  ['January', 31], ['February', 29], ['March', 1, 19]]     # Dec 21 - Mar 19\n",
        "season_dict['spring'] = [['March', 20, 31],     ['April', 30],   ['May', 31],      ['June', 1, 20]]      # Mar 20 - Jun 20\n",
        "season_dict['summer'] = [['June', 21, 30],      ['July', 31],    ['August', 31],   ['September', 1, 22]] # Jun 21 - Sep 22\n",
        "season_dict['autumn'] = [['September', 23, 30], ['October', 31], ['November', 30], ['December', 1, 20]]  # Sep 23 - Dec 20\n",
        "\n",
        "mths = ['January', 'February', 'March', 'April', 'May', 'June', 'July', 'August', 'September', 'October', 'November', 'December']\n",
        "\n",
        "def bounds_check():\n",
        "    error = False\n",
        "\n",
        "    if day < 1 or day > 31:  # always true\n",
        "        print(f'Day {day} out of bounds for month {month}'); error = True\n",
        "    if month not in mths:\n",
        "        print(f'Month {month} not entered correctly'); error = True\n",
        "\n",
        "    # need to check days for overlap months\n",
        "    if not error:\n",
        "        for season, months in season_dict.items():\n",
        "            # 4th month in a season doesn't matter here as upper bound is lower\n",
        "            if month in months[0][0] and day > months[0][2]:\n",
        "                print(f'Day {day} out of bounds for month {month}'); error = True\n",
        "            elif (month in months[1][0] and day > months[1][1]) or (month in months[2][0] and day > months[2][1]):\n",
        "                print(f'Day {day} out of bounds for month {month}'); error = True\n",
        "\n",
        "    return error\n",
        "\n",
        "def main(error=False):\n",
        "    if not error:\n",
        "        for season, months in season_dict.items():\n",
        "            # easy middle months cases\n",
        "            if month in months[1][0] and day <= months[1][1]:\n",
        "                print(f'Season is {season}')\n",
        "            elif month in months[2][0] and day <= months[2][1]:\n",
        "                print(f'Season is {season}')\n",
        "\n",
        "            # overlap months\n",
        "            if month in months[0][0] and day >= months[0][1] and day <= months[0][2]:\n",
        "                print(f'Season is {season}')\n",
        "            elif month in months[3][0] and day <= months[3][2]:\n",
        "                print(f'Season is {season}')\n",
        "\n",
        "error = bounds_check()\n",
        "main(error)"
      ]
    },
    {
      "cell_type": "markdown",
      "metadata": {
        "id": "doh4NuzrzwHp"
      },
      "source": [
        "**0.8** Implement repeats(), as specified in doc-string. Then call on variables a and b below. Print True if repeated, else, print False."
      ]
    },
    {
      "cell_type": "code",
      "execution_count": 11,
      "metadata": {
        "colab": {
          "base_uri": "https://localhost:8080/"
        },
        "id": "XbVgBDeczwHp",
        "outputId": "aaf846cd-9bed-4eae-8347-7b66813ece49"
      },
      "outputs": [
        {
          "output_type": "stream",
          "name": "stdout",
          "text": [
            "list 'a' repeats 5: True\n",
            "list 'a' repeats 6: False\n",
            "list 'b' repeats 5: False\n"
          ]
        }
      ],
      "source": [
        "a = [1, 3, 1, 6, 3, 5, 5, 2]\n",
        "b = [1, 2, 3, 3, 4, 5, 6, 7, 8, 9]\n",
        "\n",
        "def repeated_val(xs, val=5):\n",
        "    \"\"\"Function to search whether 'val' is repeated in sequence.\n",
        "\n",
        "    :param xs:      List of items to search\n",
        "    :param val:     Val being searched (default = 5)\n",
        "\n",
        "    :return:        True if repeated 'val' and neighbors, i.e., [..., 'val', 'val', ...] = True; else, False\n",
        "    \"\"\"\n",
        "    prev = None\n",
        "    for i in range(len(xs)):\n",
        "        if i == 0: # first elem\n",
        "            prev = xs[i]\n",
        "            continue\n",
        "        else:\n",
        "            if (xs[i] == prev) and (xs[i] == val):  # 1) curr equal to prev; 2) curr equal to val\n",
        "                return True\n",
        "            prev = xs[i] # set prev to curr before next iteration\n",
        "\n",
        "    return False\n",
        "\n",
        "print(\"list 'a' repeats 5:\", repeated_val(a))\n",
        "print(\"list 'a' repeats 6:\", repeated_val(a, val=6))\n",
        "print(\"list 'b' repeats 5:\", repeated_val(b))"
      ]
    },
    {
      "cell_type": "markdown",
      "metadata": {
        "id": "ONe9LETQzwHp"
      },
      "source": [
        "## Part 1\n",
        "\n",
        "The goal in this part is to\n",
        "- understand basic functionality of numpy and pandas\n",
        "- learn how to use numpy and pandas to solve common coding tasks\n",
        "- understand these packages to process real-world data"
      ]
    },
    {
      "cell_type": "markdown",
      "metadata": {
        "id": "F0GD4hPlzwHp"
      },
      "source": [
        "Import other libraries, such that numpy library is called by with np and pandas with pd"
      ]
    },
    {
      "cell_type": "code",
      "execution_count": 12,
      "metadata": {
        "id": "rykrCaA4zwHp"
      },
      "outputs": [],
      "source": [
        "import os\n",
        "import numpy as np"
      ]
    },
    {
      "cell_type": "markdown",
      "metadata": {
        "id": "Ju_Ij2bkzwHp"
      },
      "source": [
        "### a) Numpy Basics\n",
        "*Make sure to leave random seeds in each cell so that the outputs match the expected answer."
      ]
    },
    {
      "cell_type": "markdown",
      "metadata": {
        "id": "QJwZQZdYzwHp"
      },
      "source": [
        "### 1)"
      ]
    },
    {
      "cell_type": "markdown",
      "metadata": {
        "id": "d55Nj1tZzwHp"
      },
      "source": [
        "Create a 10x10 array with random values and find the minimum and maximum values "
      ]
    },
    {
      "cell_type": "code",
      "execution_count": 13,
      "metadata": {
        "colab": {
          "base_uri": "https://localhost:8080/"
        },
        "id": "MXHh37JKzwHp",
        "outputId": "847adb1a-11cf-4277-a4fd-e9e02ff5275c"
      },
      "outputs": [
        {
          "output_type": "stream",
          "name": "stdout",
          "text": [
            "arr = array([[0.69646919, 0.28613933, 0.22685145, 0.55131477, 0.71946897,\n",
            "        0.42310646, 0.9807642 , 0.68482974, 0.4809319 , 0.39211752],\n",
            "       [0.34317802, 0.72904971, 0.43857224, 0.0596779 , 0.39804426,\n",
            "        0.73799541, 0.18249173, 0.17545176, 0.53155137, 0.53182759],\n",
            "       [0.63440096, 0.84943179, 0.72445532, 0.61102351, 0.72244338,\n",
            "        0.32295891, 0.36178866, 0.22826323, 0.29371405, 0.63097612],\n",
            "       [0.09210494, 0.43370117, 0.43086276, 0.4936851 , 0.42583029,\n",
            "        0.31226122, 0.42635131, 0.89338916, 0.94416002, 0.50183668],\n",
            "       [0.62395295, 0.1156184 , 0.31728548, 0.41482621, 0.86630916,\n",
            "        0.25045537, 0.48303426, 0.98555979, 0.51948512, 0.61289453],\n",
            "       [0.12062867, 0.8263408 , 0.60306013, 0.54506801, 0.34276383,\n",
            "        0.30412079, 0.41702221, 0.68130077, 0.87545684, 0.51042234],\n",
            "       [0.66931378, 0.58593655, 0.6249035 , 0.67468905, 0.84234244,\n",
            "        0.08319499, 0.76368284, 0.24366637, 0.19422296, 0.57245696],\n",
            "       [0.09571252, 0.88532683, 0.62724897, 0.72341636, 0.01612921,\n",
            "        0.59443188, 0.55678519, 0.15895964, 0.15307052, 0.69552953],\n",
            "       [0.31876643, 0.6919703 , 0.55438325, 0.38895057, 0.92513249,\n",
            "        0.84167   , 0.35739757, 0.04359146, 0.30476807, 0.39818568],\n",
            "       [0.70495883, 0.99535848, 0.35591487, 0.76254781, 0.59317692,\n",
            "        0.6917018 , 0.15112745, 0.39887629, 0.2408559 , 0.34345601]])\n",
            "\n",
            "arr.max() = 0.9953584820340174\n",
            "arr.min() = 0.01612920669501683\n"
          ]
        }
      ],
      "source": [
        "np.random.seed(123)\n",
        "arr = np.random.rand(10, 10)\n",
        "print(f'{arr = }\\n\\n{arr.max() = }\\n{arr.min() = }')\n"
      ]
    },
    {
      "cell_type": "markdown",
      "metadata": {
        "id": "cWh7BHGDzwHp"
      },
      "source": [
        "### 2)  "
      ]
    },
    {
      "cell_type": "markdown",
      "metadata": {
        "id": "p2WKpduPzwHp"
      },
      "source": [
        "Extract the integer part of array Z using 5 different numpy methods"
      ]
    },
    {
      "cell_type": "code",
      "execution_count": 14,
      "metadata": {
        "colab": {
          "base_uri": "https://localhost:8080/"
        },
        "id": "t8Ca1LgAzwHq",
        "outputId": "c78351c2-535a-4e58-fcaa-e29ced494744"
      },
      "outputs": [
        {
          "output_type": "stream",
          "name": "stdout",
          "text": [
            "Z = array([6.96469186, 2.86139335, 2.26851454, 5.51314769, 7.1946897 ,\n",
            "       4.2310646 , 9.80764198, 6.84829739, 4.80931901, 3.92117518])\n",
            "\n",
            "method = array([6, 2, 2, 5, 7, 4, 9, 6, 4, 3])\n",
            "method = array([6., 2., 2., 5., 7., 4., 9., 6., 4., 3.])\n",
            "method = array([6, 2, 2, 5, 7, 4, 9, 6, 4, 3])\n",
            "method = array([6., 2., 2., 5., 7., 4., 9., 6., 4., 3.])\n",
            "method = array([6., 2., 2., 5., 7., 4., 9., 6., 4., 3.])\n"
          ]
        }
      ],
      "source": [
        "np.random.seed(123)\n",
        "Z = np.random.uniform(0, 10, 10)\n",
        "\n",
        "print(f'{Z = }\\n')\n",
        "\n",
        "m1 = np.array(Z, int)\n",
        "# m2 = [int(x) for x in Z]\n",
        "m2 = Z-Z%1\n",
        "m3 = Z.astype(int)\n",
        "m4 = np.floor(Z)\n",
        "m5 = np.trunc(Z)\n",
        "\n",
        "for method in [m1, m2, m3, m4, m5]:\n",
        "    print(f'{method = }')\n"
      ]
    },
    {
      "cell_type": "markdown",
      "metadata": {
        "id": "CAwGhiSqzwHq"
      },
      "source": [
        "Create a vector of size 20 with values spanning (0, 1), i.e., 0 and 1 are excluded."
      ]
    },
    {
      "cell_type": "code",
      "execution_count": 167,
      "metadata": {
        "id": "Jf0SEuUNzwHq",
        "colab": {
          "base_uri": "https://localhost:8080/"
        },
        "outputId": "3c9d4e14-f949-49c1-a729-a77d2f618a1a"
      },
      "outputs": [
        {
          "output_type": "stream",
          "name": "stdout",
          "text": [
            "[0.04761905 0.0952381  0.14285714 0.19047619 0.23809524 0.28571429\n",
            " 0.33333333 0.38095238 0.42857143 0.47619048 0.52380952 0.57142857\n",
            " 0.61904762 0.66666667 0.71428571 0.76190476 0.80952381 0.85714286\n",
            " 0.9047619  0.95238095]\n",
            "[0.04761905 0.0952381  0.14285714 0.19047619 0.23809524 0.28571429\n",
            " 0.33333333 0.38095238 0.42857143 0.47619048 0.52380952 0.57142857\n",
            " 0.61904762 0.66666667 0.71428571 0.76190476 0.80952381 0.85714286\n",
            " 0.9047619  0.95238095]\n",
            "\n"
          ]
        }
      ],
      "source": [
        "# np.random.uniform(0, 1, size=20)\n",
        "# vect = np.linspace(start=0, stop=1, endpoint=False, num=20)\n",
        "\n",
        "# x0 = np.linspace(start=0, stop=1, num=20, endpoint=True) # has 0 and 1\n",
        "# x1 = np.linspace(start=0, stop=1, num=20, endpoint=False) # has 0\n",
        "# x2 = np.linspace(start=0, stop=1, num=20, endpoint=True)[1:-1] # only 18 values\n",
        "# x3 = np.linspace(start=0, stop=1, num=20, endpoint=False)[1:-1] # only 18 values\n",
        "x4 = np.linspace(start=0, stop=1, num=22, endpoint=True)[1:-1] # starts with 22 vals, snips off 0,1\n",
        "x5 = np.linspace(start=0, stop=1, num=21, endpoint=False)[1:] # starts with 21 vals, snips off 0\n",
        "\n",
        "# print(f'{x0}\\n{x1}\\n{x2}\\n{x3}\\n')\n",
        "print(f'{x4}\\n{x5}\\n')\n",
        "# https://www.w3resource.com/python-exercises/numpy/python-numpy-exercise-66.php"
      ]
    },
    {
      "cell_type": "markdown",
      "metadata": {
        "id": "bGiqf1fWzwHq"
      },
      "source": [
        "Create a random vector of size 15 and sort it\n"
      ]
    },
    {
      "cell_type": "code",
      "execution_count": 16,
      "metadata": {
        "id": "CJUNM0ulzwHq",
        "colab": {
          "base_uri": "https://localhost:8080/"
        },
        "outputId": "7ec8d8b6-c15f-43b2-a0ba-49fffb9ac729"
      },
      "outputs": [
        {
          "output_type": "stream",
          "name": "stdout",
          "text": [
            "[0.69646919 0.28613933 0.22685145 0.55131477 0.71946897 0.42310646\n",
            " 0.9807642  0.68482974 0.4809319  0.39211752 0.34317802 0.72904971\n",
            " 0.43857224 0.0596779  0.39804426]\n",
            "[0.0596779  0.22685145 0.28613933 0.34317802 0.39211752 0.39804426\n",
            " 0.42310646 0.43857224 0.4809319  0.55131477 0.68482974 0.69646919\n",
            " 0.71946897 0.72904971 0.9807642 ]\n"
          ]
        }
      ],
      "source": [
        "np.random.seed(123)\n",
        "vect = np.random.rand(15)\n",
        "print(vect)\n",
        "sorted = np.sort(vect)\n",
        "print(sorted)"
      ]
    },
    {
      "cell_type": "markdown",
      "metadata": {
        "id": "drGqXZ0mzwHq"
      },
      "source": [
        "Consider two random array A and B, check if they are equal"
      ]
    },
    {
      "cell_type": "code",
      "execution_count": 17,
      "metadata": {
        "id": "BKnb42H8zwHq"
      },
      "outputs": [],
      "source": [
        "np.random.seed(123)\n",
        "A = np.random.randint(0, 2, 5)\n",
        "B = np.random.randint(0, 2, 5)"
      ]
    },
    {
      "cell_type": "code",
      "execution_count": 18,
      "metadata": {
        "id": "cc8yVVDnzwHq",
        "colab": {
          "base_uri": "https://localhost:8080/"
        },
        "outputId": "d64bc1a2-3218-42ba-c357-5e605f5b8531"
      },
      "outputs": [
        {
          "output_type": "execute_result",
          "data": {
            "text/plain": [
              "False"
            ]
          },
          "metadata": {},
          "execution_count": 18
        }
      ],
      "source": [
        "# np.equal(A, B) # elem by elem\n",
        "np.array_equal(A, B) # entire array comparison\n",
        "# np.allclose(A, B) # another option"
      ]
    },
    {
      "cell_type": "markdown",
      "metadata": {
        "id": "zcdHgRsnzwHq"
      },
      "source": [
        "matplotlib is the plotting library which pandas' plotting functionality is built upon, and it is usually aliased to plt.\n",
        "\n",
        "%matplotlib inline tells the notebook to show plots inline, instead of creating them in a separate window.\n",
        "\n",
        "plt.style.use('ggplot') is a style theme that most people find agreeable, based upon the styling of R's ggplot package.\n",
        "\n",
        "See the documentation <https://pandas.pydata.org/pandas-docs/stable/generated/pandas.DataFrame.plot.html> if you get stuck!"
      ]
    },
    {
      "cell_type": "markdown",
      "metadata": {
        "id": "KX1-u2ttzwHq"
      },
      "source": [
        "Make an array immutable (read-only)"
      ]
    },
    {
      "cell_type": "code",
      "execution_count": 19,
      "metadata": {
        "id": "C79qB6zazwHq"
      },
      "outputs": [],
      "source": [
        "Z = np.zeros(10)\n",
        "Z.flags.writeable = False"
      ]
    },
    {
      "cell_type": "markdown",
      "metadata": {
        "id": "I02qvTaHzwHq"
      },
      "source": [
        "What if we want to plot multiple things? Pandas allows you to pass in a matplotlib Axis object for plots, and plots will also return an Axis object.\n",
        "\n",
        "Make a bar plot of monthly revenue with a line plot of monthly advertising spending (numbers in millions)\n",
        "\n"
      ]
    },
    {
      "cell_type": "code",
      "source": [
        "import pandas as pd\n",
        "import matplotlib.pyplot as plt\n",
        "import seaborn as sns\n",
        "%matplotlib inline\n",
        "plt.style.use('ggplot') \n",
        "\n",
        "money = {'month' : ['J', 'F', 'M', 'A', 'M', 'J', 'J', 'A', 'S', 'O', 'N', 'D'],\n",
        "         'revenue' : [4, 6, 7, 11, 9, 13, 17, 24, 25, 28, 31, 36],\n",
        "         'advertising' : [1, 2, 3, 5, 5, 7, 9, 12, 14, 15, 18, 22]}\n",
        "\n",
        "df = pd.DataFrame(money); # print(df)\n",
        "# df.plot(x='revenue', y='advertising', xlabel='revenue (millions)', ylabel='advertising (millions)', color='green', legend=None, title='Advertising Spend vs Monthly Revenue')\n",
        "# plt.show()\n",
        "\n",
        "fig, axes = plt.subplots(1, 3, figsize=(30, 8))\n",
        "df.plot(ax=axes[0], x='month', y='revenue', kind='bar', color='green', xlabel='Month', ylabel='Revenue (millions of USD)', title='Revenue per Month')\n",
        "df.plot(ax=axes[1], x='month', y='advertising', kind='line', color='green', xlabel='Month', ylabel='Advertising (millions of USD)', title='Advertising Spend per Month')\n",
        "df.plot(ax=axes[2], x='advertising', y='revenue', kind='hexbin', xlabel='Advertising (millions of USD)', ylabel='Revenue (millions of USD)', title='Advertising Spend vs Monthly Revenue')\n"
      ],
      "metadata": {
        "colab": {
          "base_uri": "https://localhost:8080/",
          "height": 297
        },
        "id": "TVZojALZkfnj",
        "outputId": "4e366380-d234-461a-96ad-1b942acdaf49"
      },
      "execution_count": 20,
      "outputs": [
        {
          "output_type": "execute_result",
          "data": {
            "text/plain": [
              "<matplotlib.axes._subplots.AxesSubplot at 0x7f238397a100>"
            ]
          },
          "metadata": {},
          "execution_count": 20
        },
        {
          "output_type": "display_data",
          "data": {
            "text/plain": [
              "<Figure size 2160x576 with 4 Axes>"
            ],
            "image/png": "[encoded data removed]"
          },
          "metadata": {}
        }
      ]
    },
    {
      "cell_type": "markdown",
      "metadata": {
        "id": "uH6bVCkAzwHq"
      },
      "source": [
        "Create a structured array representing a position (x,y) and a color (r,g,b). Instantiate structured array's values to be all zeros (though same method for other values as well)."
      ]
    },
    {
      "cell_type": "code",
      "execution_count": 21,
      "metadata": {
        "id": "g9cJ3O0nzwHq",
        "colab": {
          "base_uri": "https://localhost:8080/"
        },
        "outputId": "d8169cc4-6b8a-4fd8-ba1a-aefe56e25e10"
      },
      "outputs": [
        {
          "output_type": "stream",
          "name": "stdout",
          "text": [
            "[((0., 0.), (0., 0., 0.))]\n"
          ]
        }
      ],
      "source": [
        "# arr = [ ( 'position', [('x', float), ('y', float)] ),\n",
        "#         ( 'color',    [('r', float), ('g', float), ('b', float)] ) ]\n",
        "# zeroed = np.zeros(10, arr)\n",
        "# print(zeroed)\n",
        "\n",
        "arr_np = np.array([((0,0), (0,0,0))],\n",
        "         dtype = [ ( 'position', [('x', np.float16), ('y', np.float16)] ),\n",
        "                   ( 'color',    [('r', np.float16), ('g', np.float16), ('b', np.float16)] ) ] )\n",
        "\n",
        "print(arr_np)"
      ]
    },
    {
      "cell_type": "markdown",
      "metadata": {
        "id": "ZtjhS-yszwHq"
      },
      "source": [
        "Considering a four dimensions array, how to get sum over the last two axis at once? "
      ]
    },
    {
      "cell_type": "code",
      "execution_count": 22,
      "metadata": {
        "id": "JQUakdmnzwHq",
        "colab": {
          "base_uri": "https://localhost:8080/"
        },
        "outputId": "78023cea-c59b-410b-b4c9-e2f5f228c948"
      },
      "outputs": [
        {
          "output_type": "execute_result",
          "data": {
            "text/plain": [
              "array([[40, 37, 56, 43],\n",
              "       [61, 44, 54, 70],\n",
              "       [48, 53, 64, 71]])"
            ]
          },
          "metadata": {},
          "execution_count": 22
        }
      ],
      "source": [
        "np.random.seed(123)\n",
        "A = np.random.randint(0, 10, (3, 4, 3, 4))\n",
        "sum = A.sum(axis=(-2,-1))\n",
        "sum"
      ]
    },
    {
      "cell_type": "markdown",
      "metadata": {
        "id": "NrmZipwwzwHq"
      },
      "source": [
        "Considering a (w,h,3) image of (dtype=ubyte), compute the number of unique colors\n",
        "\n",
        "Each color is represented by 3 bits, so the output should be a list of elements, each with 3 bits (all unique permutations of 0s and 1s).\n",
        "\n",
        "Can you convert colors? How about unique across a different axis?"
      ]
    },
    {
      "cell_type": "code",
      "execution_count": 23,
      "metadata": {
        "id": "kLp4hhkozwHq",
        "colab": {
          "base_uri": "https://localhost:8080/"
        },
        "outputId": "69bbc1f1-1c6e-478d-dfc3-4abed77085c4"
      },
      "outputs": [
        {
          "output_type": "stream",
          "name": "stdout",
          "text": [
            "we have 8 unique colors in this image\n",
            "\n"
          ]
        }
      ],
      "source": [
        "np.random.seed(123)\n",
        "w, h = 16, 16\n",
        "I = np.random.randint(0, 2, (h, w, 3)).astype(np.ubyte)\n",
        "I.shape\n",
        "\n",
        "nums_list = []\n",
        "for matrix in I:\n",
        "    for bits3 in matrix:\n",
        "        decimal = bits3[2] * 4 + bits3[1] * 2 + bits3[0]\n",
        "        nums_list.append(decimal)\n",
        "\n",
        "print(f'we have {len(list(set(nums_list)))} unique colors in this image\\n')\n",
        "\n",
        "E = len(np.unique(nums_list)) # numpy version\n",
        "# E\n",
        "\n",
        "# 3 bits = 8 permutations -> will almost always be 8 but theoretically could be less based on random seed\n",
        "# 16 rows * 8 perms"
      ]
    },
    {
      "cell_type": "markdown",
      "metadata": {
        "id": "NQ3GueeLzwHq"
      },
      "source": [
        "How to accumulate elements of a vector (X) to an array (F) based on an index list (I)?"
      ]
    },
    {
      "cell_type": "code",
      "execution_count": 24,
      "metadata": {
        "id": "VXndJwM6zwHr",
        "colab": {
          "base_uri": "https://localhost:8080/"
        },
        "outputId": "ea7a664e-d43e-4e21-9e83-6b4114f3e764"
      },
      "outputs": [
        {
          "output_type": "execute_result",
          "data": {
            "text/plain": [
              "array([0., 7., 0., 6., 5., 0., 0., 0., 0., 3.])"
            ]
          },
          "metadata": {},
          "execution_count": 24
        }
      ],
      "source": [
        "X = [1, 2, 3, 4, 5, 6]\n",
        "I = [1, 3, 9, 3, 4, 1]\n",
        "F = np.bincount(I, X)\n",
        "F"
      ]
    },
    {
      "cell_type": "markdown",
      "metadata": {
        "id": "0Gj9gx1SzwHr"
      },
      "source": [
        "How to read the following file?"
      ]
    },
    {
      "cell_type": "code",
      "execution_count": 25,
      "metadata": {
        "id": "L_3VGzQ5zwHr",
        "colab": {
          "base_uri": "https://localhost:8080/"
        },
        "outputId": "865d1261-70d3-42da-f20d-26cc124355de"
      },
      "outputs": [
        {
          "output_type": "stream",
          "name": "stdout",
          "text": [
            "# File content:\n",
            "\n",
            "# -------------\n",
            "\n",
            "1,2,3,4,5\n",
            "\n",
            "6,,,7,8\n",
            "\n",
            ",,9,10,11\n",
            "\n",
            "# -------------\n"
          ]
        }
      ],
      "source": [
        "fpath = os.path.join(\"data\", \"tabular\", \"missing.dat\")\n",
        "with open(fpath, 'r') as fi:\n",
        "    # fi.readlines()\n",
        "    for line in fi:\n",
        "        print(line)"
      ]
    },
    {
      "cell_type": "markdown",
      "metadata": {
        "id": "OFylj7Y8zwHr"
      },
      "source": [
        "\n",
        "Convert a vector of ints into a matrix binary representation"
      ]
    },
    {
      "cell_type": "code",
      "execution_count": 26,
      "metadata": {
        "id": "0B2uRiR5zwHr",
        "colab": {
          "base_uri": "https://localhost:8080/"
        },
        "outputId": "3fc04ccc-2635-4c1d-fb6c-7bc909ecb2f1"
      },
      "outputs": [
        {
          "output_type": "stream",
          "name": "stdout",
          "text": [
            "[  0   1   2   3  15  16  32  64 128]\n",
            "[[0 0 0 0 0 0 0 0]\n",
            " [1 0 0 0 0 0 0 0]\n",
            " [0 1 0 0 0 0 0 0]\n",
            " [1 1 0 0 0 0 0 0]\n",
            " [1 1 1 1 0 0 0 0]\n",
            " [0 0 0 0 1 0 0 0]\n",
            " [0 0 0 0 0 1 0 0]\n",
            " [0 0 0 0 0 0 1 0]\n",
            " [0 0 0 0 0 0 0 1]]\n"
          ]
        }
      ],
      "source": [
        "I = np.array([0, 1, 2, 3, 15, 16, 32, 64, 128])\n",
        "B = ((I.reshape(-1,1) & (2**np.arange(8))) != 0).astype(int)\n",
        "\n",
        "print(f'{I}\\n{B}')"
      ]
    },
    {
      "cell_type": "markdown",
      "metadata": {
        "id": "VvlGfZltzwHr"
      },
      "source": [
        "Given a two dimensional array, how to extract unique rows?"
      ]
    },
    {
      "cell_type": "code",
      "execution_count": 27,
      "metadata": {
        "id": "MuXAfB61zwHr",
        "colab": {
          "base_uri": "https://localhost:8080/"
        },
        "outputId": "0c02f06b-29b6-488f-9dba-f7d7ffd0a0fc"
      },
      "outputs": [
        {
          "output_type": "stream",
          "name": "stdout",
          "text": [
            "[[0 1 0]\n",
            " [0 0 0]\n",
            " [0 1 1]\n",
            " [0 0 0]\n",
            " [0 1 1]\n",
            " [0 1 0]]\n"
          ]
        },
        {
          "output_type": "execute_result",
          "data": {
            "text/plain": [
              "array([[0, 0, 0],\n",
              "       [0, 1, 0],\n",
              "       [0, 1, 1]])"
            ]
          },
          "metadata": {},
          "execution_count": 27
        }
      ],
      "source": [
        "Z = np.random.randint(0, 2, (6, 3))\n",
        "print(Z)\n",
        "np.unique(Z, axis=0)"
      ]
    },
    {
      "cell_type": "markdown",
      "metadata": {
        "id": "QzjvsLTZzwHr"
      },
      "source": [
        "## Pandas"
      ]
    },
    {
      "cell_type": "markdown",
      "metadata": {
        "id": "tshcXaVOzwHr"
      },
      "source": [
        "Made-up data representing animals and trips to vet"
      ]
    },
    {
      "cell_type": "code",
      "execution_count": 28,
      "metadata": {
        "id": "meDlCwzTzwHr"
      },
      "outputs": [],
      "source": [
        "data = {'animal': ['cat', 'cat', 'snake', 'dog', 'dog', 'cat', 'snake', 'cat', 'dog', 'dog'],\n",
        "        'age': [2.5, 3, 0.5, np.nan, 5, 2, 4.5, np.nan, 7, 3],\n",
        "        'visits': [1, 3, 2, 3, 2, 3, 1, 1, 2, 1],\n",
        "        'priority': ['yes', 'yes', 'no', 'yes', 'no', 'no', 'no', 'yes', 'no', 'no']}\n",
        "\n",
        "labels = ['a', 'b', 'c', 'd', 'e', 'f', 'g', 'h', 'i', 'j']"
      ]
    },
    {
      "cell_type": "markdown",
      "metadata": {
        "id": "w33FFw9TzwHr"
      },
      "source": [
        "Create a DataFrame df from this dictionary data which has the index labels."
      ]
    },
    {
      "cell_type": "code",
      "execution_count": 29,
      "metadata": {
        "id": "yVH11-8-zwHr",
        "colab": {
          "base_uri": "https://localhost:8080/",
          "height": 363
        },
        "outputId": "4c771da2-e438-4744-bdc7-d4c23f49add0"
      },
      "outputs": [
        {
          "output_type": "execute_result",
          "data": {
            "text/plain": [
              "  animal  age  visits priority\n",
              "a    cat  2.5       1      yes\n",
              "b    cat  3.0       3      yes\n",
              "c  snake  0.5       2       no\n",
              "d    dog  NaN       3      yes\n",
              "e    dog  5.0       2       no\n",
              "f    cat  2.0       3       no\n",
              "g  snake  4.5       1       no\n",
              "h    cat  NaN       1      yes\n",
              "i    dog  7.0       2       no\n",
              "j    dog  3.0       1       no"
            ],
            "text/html": [
              "\n",
              "  <div id=\"df-034e6bf4-13be-4d8d-aaae-ef6b3763acaa\">\n",
              "    <div class=\"colab-df-container\">\n",
              "      <div>\n",
              "<style scoped>\n",
              "    .dataframe tbody tr th:only-of-type {\n",
              "        vertical-align: middle;\n",
              "    }\n",
              "\n",
              "    .dataframe tbody tr th {\n",
              "        vertical-align: top;\n",
              "    }\n",
              "\n",
              "    .dataframe thead th {\n",
              "        text-align: right;\n",
              "    }\n",
              "</style>\n",
              "<table border=\"1\" class=\"dataframe\">\n",
              "  <thead>\n",
              "    <tr style=\"text-align: right;\">\n",
              "      <th></th>\n",
              "      <th>animal</th>\n",
              "      <th>age</th>\n",
              "      <th>visits</th>\n",
              "      <th>priority</th>\n",
              "    </tr>\n",
              "  </thead>\n",
              "  <tbody>\n",
              "    <tr>\n",
              "      <th>a</th>\n",
              "      <td>cat</td>\n",
              "      <td>2.5</td>\n",
              "      <td>1</td>\n",
              "      <td>yes</td>\n",
              "    </tr>\n",
              "    <tr>\n",
              "      <th>b</th>\n",
              "      <td>cat</td>\n",
              "      <td>3.0</td>\n",
              "      <td>3</td>\n",
              "      <td>yes</td>\n",
              "    </tr>\n",
              "    <tr>\n",
              "      <th>c</th>\n",
              "      <td>snake</td>\n",
              "      <td>0.5</td>\n",
              "      <td>2</td>\n",
              "      <td>no</td>\n",
              "    </tr>\n",
              "    <tr>\n",
              "      <th>d</th>\n",
              "      <td>dog</td>\n",
              "      <td>NaN</td>\n",
              "      <td>3</td>\n",
              "      <td>yes</td>\n",
              "    </tr>\n",
              "    <tr>\n",
              "      <th>e</th>\n",
              "      <td>dog</td>\n",
              "      <td>5.0</td>\n",
              "      <td>2</td>\n",
              "      <td>no</td>\n",
              "    </tr>\n",
              "    <tr>\n",
              "      <th>f</th>\n",
              "      <td>cat</td>\n",
              "      <td>2.0</td>\n",
              "      <td>3</td>\n",
              "      <td>no</td>\n",
              "    </tr>\n",
              "    <tr>\n",
              "      <th>g</th>\n",
              "      <td>snake</td>\n",
              "      <td>4.5</td>\n",
              "      <td>1</td>\n",
              "      <td>no</td>\n",
              "    </tr>\n",
              "    <tr>\n",
              "      <th>h</th>\n",
              "      <td>cat</td>\n",
              "      <td>NaN</td>\n",
              "      <td>1</td>\n",
              "      <td>yes</td>\n",
              "    </tr>\n",
              "    <tr>\n",
              "      <th>i</th>\n",
              "      <td>dog</td>\n",
              "      <td>7.0</td>\n",
              "      <td>2</td>\n",
              "      <td>no</td>\n",
              "    </tr>\n",
              "    <tr>\n",
              "      <th>j</th>\n",
              "      <td>dog</td>\n",
              "      <td>3.0</td>\n",
              "      <td>1</td>\n",
              "      <td>no</td>\n",
              "    </tr>\n",
              "  </tbody>\n",
              "</table>\n",
              "</div>\n",
              "      <button class=\"colab-df-convert\" onclick=\"convertToInteractive('df-034e6bf4-13be-4d8d-aaae-ef6b3763acaa')\"\n",
              "              title=\"Convert this dataframe to an interactive table.\"\n",
              "              style=\"display:none;\">\n",
              "        \n",
              "  <svg xmlns=\"http://www.w3.org/2000/svg\" height=\"24px\"viewBox=\"0 0 24 24\"\n",
              "       width=\"24px\">\n",
              "    <path d=\"M0 0h24v24H0V0z\" fill=\"none\"/>\n",
              "    <path d=\"M18.56 5.44l.94 2.06.94-2.06 2.06-.94-2.06-.94-.94-2.06-.94 2.06-2.06.94zm-11 1L8.5 8.5l.94-2.06 2.06-.94-2.06-.94L8.5 2.5l-.94 2.06-2.06.94zm10 10l.94 2.06.94-2.06 2.06-.94-2.06-.94-.94-2.06-.94 2.06-2.06.94z\"/><path d=\"M17.41 7.96l-1.37-1.37c-.4-.4-.92-.59-1.43-.59-.52 0-1.04.2-1.43.59L10.3 9.45l-7.72 7.72c-.78.78-.78 2.05 0 2.83L4 21.41c.39.39.9.59 1.41.59.51 0 1.02-.2 1.41-.59l7.78-7.78 2.81-2.81c.8-.78.8-2.07 0-2.86zM5.41 20L4 18.59l7.72-7.72 1.47 1.35L5.41 20z\"/>\n",
              "  </svg>\n",
              "      </button>\n",
              "      \n",
              "  <style>\n",
              "    .colab-df-container {\n",
              "      display:flex;\n",
              "      flex-wrap:wrap;\n",
              "      gap: 12px;\n",
              "    }\n",
              "\n",
              "    .colab-df-convert {\n",
              "      background-color: #E8F0FE;\n",
              "      border: none;\n",
              "      border-radius: 50%;\n",
              "      cursor: pointer;\n",
              "      display: none;\n",
              "      fill: #1967D2;\n",
              "      height: 32px;\n",
              "      padding: 0 0 0 0;\n",
              "      width: 32px;\n",
              "    }\n",
              "\n",
              "    .colab-df-convert:hover {\n",
              "      background-color: #E2EBFA;\n",
              "      box-shadow: 0px 1px 2px rgba(60, 64, 67, 0.3), 0px 1px 3px 1px rgba(60, 64, 67, 0.15);\n",
              "      fill: #174EA6;\n",
              "    }\n",
              "\n",
              "    [theme=dark] .colab-df-convert {\n",
              "      background-color: #3B4455;\n",
              "      fill: #D2E3FC;\n",
              "    }\n",
              "\n",
              "    [theme=dark] .colab-df-convert:hover {\n",
              "      background-color: #434B5C;\n",
              "      box-shadow: 0px 1px 3px 1px rgba(0, 0, 0, 0.15);\n",
              "      filter: drop-shadow(0px 1px 2px rgba(0, 0, 0, 0.3));\n",
              "      fill: #FFFFFF;\n",
              "    }\n",
              "  </style>\n",
              "\n",
              "      <script>\n",
              "        const buttonEl =\n",
              "          document.querySelector('#df-034e6bf4-13be-4d8d-aaae-ef6b3763acaa button.colab-df-convert');\n",
              "        buttonEl.style.display =\n",
              "          google.colab.kernel.accessAllowed ? 'block' : 'none';\n",
              "\n",
              "        async function convertToInteractive(key) {\n",
              "          const element = document.querySelector('#df-034e6bf4-13be-4d8d-aaae-ef6b3763acaa');\n",
              "          const dataTable =\n",
              "            await google.colab.kernel.invokeFunction('convertToInteractive',\n",
              "                                                     [key], {});\n",
              "          if (!dataTable) return;\n",
              "\n",
              "          const docLinkHtml = 'Like what you see? Visit the ' +\n",
              "            '<a target=\"_blank\" href=https://colab.research.google.com/notebooks/data_table.ipynb>data table notebook</a>'\n",
              "            + ' to learn more about interactive tables.';\n",
              "          element.innerHTML = '';\n",
              "          dataTable['output_type'] = 'display_data';\n",
              "          await google.colab.output.renderOutput(dataTable, element);\n",
              "          const docLink = document.createElement('div');\n",
              "          docLink.innerHTML = docLinkHtml;\n",
              "          element.appendChild(docLink);\n",
              "        }\n",
              "      </script>\n",
              "    </div>\n",
              "  </div>\n",
              "  "
            ]
          },
          "metadata": {},
          "execution_count": 29
        }
      ],
      "source": [
        "df = pd.DataFrame(data=data, index=labels)\n",
        "df"
      ]
    },
    {
      "cell_type": "markdown",
      "metadata": {
        "id": "uWINXVb5zwHr"
      },
      "source": [
        "Display a summary of the basic information about this DataFrame and its data."
      ]
    },
    {
      "cell_type": "code",
      "execution_count": 30,
      "metadata": {
        "id": "Hk8fON_ezwHr",
        "colab": {
          "base_uri": "https://localhost:8080/"
        },
        "outputId": "0a4c1f20-bed1-45ca-bc98-15b82bb7f9ae"
      },
      "outputs": [
        {
          "output_type": "stream",
          "name": "stdout",
          "text": [
            "<class 'pandas.core.frame.DataFrame'>\n",
            "Index: 10 entries, a to j\n",
            "Data columns (total 4 columns):\n",
            " #   Column    Non-Null Count  Dtype  \n",
            "---  ------    --------------  -----  \n",
            " 0   animal    10 non-null     object \n",
            " 1   age       8 non-null      float64\n",
            " 2   visits    10 non-null     int64  \n",
            " 3   priority  10 non-null     object \n",
            "dtypes: float64(1), int64(1), object(2)\n",
            "memory usage: 400.0+ bytes\n",
            "            age     visits\n",
            "count  8.000000  10.000000\n",
            "mean   3.437500   1.900000\n",
            "std    2.007797   0.875595\n",
            "min    0.500000   1.000000\n",
            "25%    2.375000   1.000000\n",
            "50%    3.000000   2.000000\n",
            "75%    4.625000   2.750000\n",
            "max    7.000000   3.000000\n",
            "None\n",
            "\n"
          ]
        }
      ],
      "source": [
        "print(f'{df.describe()}\\n{df.info()}\\n')"
      ]
    },
    {
      "cell_type": "markdown",
      "metadata": {
        "id": "vFKtq12ezwHr"
      },
      "source": [
        "Return the first 3 rows of the DataFrame df."
      ]
    },
    {
      "cell_type": "code",
      "execution_count": 31,
      "metadata": {
        "id": "iYXNFiNWzwHr",
        "colab": {
          "base_uri": "https://localhost:8080/",
          "height": 143
        },
        "outputId": "b207a5f2-56de-4d6a-d5ad-84867ae1fd3b"
      },
      "outputs": [
        {
          "output_type": "execute_result",
          "data": {
            "text/plain": [
              "  animal  age  visits priority\n",
              "a    cat  2.5       1      yes\n",
              "b    cat  3.0       3      yes\n",
              "c  snake  0.5       2       no"
            ],
            "text/html": [
              "\n",
              "  <div id=\"df-3dbb1395-84f0-4b99-bc55-64897f7939cc\">\n",
              "    <div class=\"colab-df-container\">\n",
              "      <div>\n",
              "<style scoped>\n",
              "    .dataframe tbody tr th:only-of-type {\n",
              "        vertical-align: middle;\n",
              "    }\n",
              "\n",
              "    .dataframe tbody tr th {\n",
              "        vertical-align: top;\n",
              "    }\n",
              "\n",
              "    .dataframe thead th {\n",
              "        text-align: right;\n",
              "    }\n",
              "</style>\n",
              "<table border=\"1\" class=\"dataframe\">\n",
              "  <thead>\n",
              "    <tr style=\"text-align: right;\">\n",
              "      <th></th>\n",
              "      <th>animal</th>\n",
              "      <th>age</th>\n",
              "      <th>visits</th>\n",
              "      <th>priority</th>\n",
              "    </tr>\n",
              "  </thead>\n",
              "  <tbody>\n",
              "    <tr>\n",
              "      <th>a</th>\n",
              "      <td>cat</td>\n",
              "      <td>2.5</td>\n",
              "      <td>1</td>\n",
              "      <td>yes</td>\n",
              "    </tr>\n",
              "    <tr>\n",
              "      <th>b</th>\n",
              "      <td>cat</td>\n",
              "      <td>3.0</td>\n",
              "      <td>3</td>\n",
              "      <td>yes</td>\n",
              "    </tr>\n",
              "    <tr>\n",
              "      <th>c</th>\n",
              "      <td>snake</td>\n",
              "      <td>0.5</td>\n",
              "      <td>2</td>\n",
              "      <td>no</td>\n",
              "    </tr>\n",
              "  </tbody>\n",
              "</table>\n",
              "</div>\n",
              "      <button class=\"colab-df-convert\" onclick=\"convertToInteractive('df-3dbb1395-84f0-4b99-bc55-64897f7939cc')\"\n",
              "              title=\"Convert this dataframe to an interactive table.\"\n",
              "              style=\"display:none;\">\n",
              "        \n",
              "  <svg xmlns=\"http://www.w3.org/2000/svg\" height=\"24px\"viewBox=\"0 0 24 24\"\n",
              "       width=\"24px\">\n",
              "    <path d=\"M0 0h24v24H0V0z\" fill=\"none\"/>\n",
              "    <path d=\"M18.56 5.44l.94 2.06.94-2.06 2.06-.94-2.06-.94-.94-2.06-.94 2.06-2.06.94zm-11 1L8.5 8.5l.94-2.06 2.06-.94-2.06-.94L8.5 2.5l-.94 2.06-2.06.94zm10 10l.94 2.06.94-2.06 2.06-.94-2.06-.94-.94-2.06-.94 2.06-2.06.94z\"/><path d=\"M17.41 7.96l-1.37-1.37c-.4-.4-.92-.59-1.43-.59-.52 0-1.04.2-1.43.59L10.3 9.45l-7.72 7.72c-.78.78-.78 2.05 0 2.83L4 21.41c.39.39.9.59 1.41.59.51 0 1.02-.2 1.41-.59l7.78-7.78 2.81-2.81c.8-.78.8-2.07 0-2.86zM5.41 20L4 18.59l7.72-7.72 1.47 1.35L5.41 20z\"/>\n",
              "  </svg>\n",
              "      </button>\n",
              "      \n",
              "  <style>\n",
              "    .colab-df-container {\n",
              "      display:flex;\n",
              "      flex-wrap:wrap;\n",
              "      gap: 12px;\n",
              "    }\n",
              "\n",
              "    .colab-df-convert {\n",
              "      background-color: #E8F0FE;\n",
              "      border: none;\n",
              "      border-radius: 50%;\n",
              "      cursor: pointer;\n",
              "      display: none;\n",
              "      fill: #1967D2;\n",
              "      height: 32px;\n",
              "      padding: 0 0 0 0;\n",
              "      width: 32px;\n",
              "    }\n",
              "\n",
              "    .colab-df-convert:hover {\n",
              "      background-color: #E2EBFA;\n",
              "      box-shadow: 0px 1px 2px rgba(60, 64, 67, 0.3), 0px 1px 3px 1px rgba(60, 64, 67, 0.15);\n",
              "      fill: #174EA6;\n",
              "    }\n",
              "\n",
              "    [theme=dark] .colab-df-convert {\n",
              "      background-color: #3B4455;\n",
              "      fill: #D2E3FC;\n",
              "    }\n",
              "\n",
              "    [theme=dark] .colab-df-convert:hover {\n",
              "      background-color: #434B5C;\n",
              "      box-shadow: 0px 1px 3px 1px rgba(0, 0, 0, 0.15);\n",
              "      filter: drop-shadow(0px 1px 2px rgba(0, 0, 0, 0.3));\n",
              "      fill: #FFFFFF;\n",
              "    }\n",
              "  </style>\n",
              "\n",
              "      <script>\n",
              "        const buttonEl =\n",
              "          document.querySelector('#df-3dbb1395-84f0-4b99-bc55-64897f7939cc button.colab-df-convert');\n",
              "        buttonEl.style.display =\n",
              "          google.colab.kernel.accessAllowed ? 'block' : 'none';\n",
              "\n",
              "        async function convertToInteractive(key) {\n",
              "          const element = document.querySelector('#df-3dbb1395-84f0-4b99-bc55-64897f7939cc');\n",
              "          const dataTable =\n",
              "            await google.colab.kernel.invokeFunction('convertToInteractive',\n",
              "                                                     [key], {});\n",
              "          if (!dataTable) return;\n",
              "\n",
              "          const docLinkHtml = 'Like what you see? Visit the ' +\n",
              "            '<a target=\"_blank\" href=https://colab.research.google.com/notebooks/data_table.ipynb>data table notebook</a>'\n",
              "            + ' to learn more about interactive tables.';\n",
              "          element.innerHTML = '';\n",
              "          dataTable['output_type'] = 'display_data';\n",
              "          await google.colab.output.renderOutput(dataTable, element);\n",
              "          const docLink = document.createElement('div');\n",
              "          docLink.innerHTML = docLinkHtml;\n",
              "          element.appendChild(docLink);\n",
              "        }\n",
              "      </script>\n",
              "    </div>\n",
              "  </div>\n",
              "  "
            ]
          },
          "metadata": {},
          "execution_count": 31
        }
      ],
      "source": [
        "df.head(3)"
      ]
    },
    {
      "cell_type": "markdown",
      "metadata": {
        "id": "kXLydWrZzwHr"
      },
      "source": [
        "Select just the 'animal' and 'age' columns from the DataFrame df."
      ]
    },
    {
      "cell_type": "code",
      "execution_count": 32,
      "metadata": {
        "id": "X_PuMat0zwHr",
        "colab": {
          "base_uri": "https://localhost:8080/",
          "height": 363
        },
        "outputId": "92017cb5-12d4-4024-9738-2fc262adf58c"
      },
      "outputs": [
        {
          "output_type": "execute_result",
          "data": {
            "text/plain": [
              "   age animal\n",
              "a  2.5    cat\n",
              "b  3.0    cat\n",
              "c  0.5  snake\n",
              "d  NaN    dog\n",
              "e  5.0    dog\n",
              "f  2.0    cat\n",
              "g  4.5  snake\n",
              "h  NaN    cat\n",
              "i  7.0    dog\n",
              "j  3.0    dog"
            ],
            "text/html": [
              "\n",
              "  <div id=\"df-c8c8d5e9-890e-4650-95f3-ee66bda30be8\">\n",
              "    <div class=\"colab-df-container\">\n",
              "      <div>\n",
              "<style scoped>\n",
              "    .dataframe tbody tr th:only-of-type {\n",
              "        vertical-align: middle;\n",
              "    }\n",
              "\n",
              "    .dataframe tbody tr th {\n",
              "        vertical-align: top;\n",
              "    }\n",
              "\n",
              "    .dataframe thead th {\n",
              "        text-align: right;\n",
              "    }\n",
              "</style>\n",
              "<table border=\"1\" class=\"dataframe\">\n",
              "  <thead>\n",
              "    <tr style=\"text-align: right;\">\n",
              "      <th></th>\n",
              "      <th>age</th>\n",
              "      <th>animal</th>\n",
              "    </tr>\n",
              "  </thead>\n",
              "  <tbody>\n",
              "    <tr>\n",
              "      <th>a</th>\n",
              "      <td>2.5</td>\n",
              "      <td>cat</td>\n",
              "    </tr>\n",
              "    <tr>\n",
              "      <th>b</th>\n",
              "      <td>3.0</td>\n",
              "      <td>cat</td>\n",
              "    </tr>\n",
              "    <tr>\n",
              "      <th>c</th>\n",
              "      <td>0.5</td>\n",
              "      <td>snake</td>\n",
              "    </tr>\n",
              "    <tr>\n",
              "      <th>d</th>\n",
              "      <td>NaN</td>\n",
              "      <td>dog</td>\n",
              "    </tr>\n",
              "    <tr>\n",
              "      <th>e</th>\n",
              "      <td>5.0</td>\n",
              "      <td>dog</td>\n",
              "    </tr>\n",
              "    <tr>\n",
              "      <th>f</th>\n",
              "      <td>2.0</td>\n",
              "      <td>cat</td>\n",
              "    </tr>\n",
              "    <tr>\n",
              "      <th>g</th>\n",
              "      <td>4.5</td>\n",
              "      <td>snake</td>\n",
              "    </tr>\n",
              "    <tr>\n",
              "      <th>h</th>\n",
              "      <td>NaN</td>\n",
              "      <td>cat</td>\n",
              "    </tr>\n",
              "    <tr>\n",
              "      <th>i</th>\n",
              "      <td>7.0</td>\n",
              "      <td>dog</td>\n",
              "    </tr>\n",
              "    <tr>\n",
              "      <th>j</th>\n",
              "      <td>3.0</td>\n",
              "      <td>dog</td>\n",
              "    </tr>\n",
              "  </tbody>\n",
              "</table>\n",
              "</div>\n",
              "      <button class=\"colab-df-convert\" onclick=\"convertToInteractive('df-c8c8d5e9-890e-4650-95f3-ee66bda30be8')\"\n",
              "              title=\"Convert this dataframe to an interactive table.\"\n",
              "              style=\"display:none;\">\n",
              "        \n",
              "  <svg xmlns=\"http://www.w3.org/2000/svg\" height=\"24px\"viewBox=\"0 0 24 24\"\n",
              "       width=\"24px\">\n",
              "    <path d=\"M0 0h24v24H0V0z\" fill=\"none\"/>\n",
              "    <path d=\"M18.56 5.44l.94 2.06.94-2.06 2.06-.94-2.06-.94-.94-2.06-.94 2.06-2.06.94zm-11 1L8.5 8.5l.94-2.06 2.06-.94-2.06-.94L8.5 2.5l-.94 2.06-2.06.94zm10 10l.94 2.06.94-2.06 2.06-.94-2.06-.94-.94-2.06-.94 2.06-2.06.94z\"/><path d=\"M17.41 7.96l-1.37-1.37c-.4-.4-.92-.59-1.43-.59-.52 0-1.04.2-1.43.59L10.3 9.45l-7.72 7.72c-.78.78-.78 2.05 0 2.83L4 21.41c.39.39.9.59 1.41.59.51 0 1.02-.2 1.41-.59l7.78-7.78 2.81-2.81c.8-.78.8-2.07 0-2.86zM5.41 20L4 18.59l7.72-7.72 1.47 1.35L5.41 20z\"/>\n",
              "  </svg>\n",
              "      </button>\n",
              "      \n",
              "  <style>\n",
              "    .colab-df-container {\n",
              "      display:flex;\n",
              "      flex-wrap:wrap;\n",
              "      gap: 12px;\n",
              "    }\n",
              "\n",
              "    .colab-df-convert {\n",
              "      background-color: #E8F0FE;\n",
              "      border: none;\n",
              "      border-radius: 50%;\n",
              "      cursor: pointer;\n",
              "      display: none;\n",
              "      fill: #1967D2;\n",
              "      height: 32px;\n",
              "      padding: 0 0 0 0;\n",
              "      width: 32px;\n",
              "    }\n",
              "\n",
              "    .colab-df-convert:hover {\n",
              "      background-color: #E2EBFA;\n",
              "      box-shadow: 0px 1px 2px rgba(60, 64, 67, 0.3), 0px 1px 3px 1px rgba(60, 64, 67, 0.15);\n",
              "      fill: #174EA6;\n",
              "    }\n",
              "\n",
              "    [theme=dark] .colab-df-convert {\n",
              "      background-color: #3B4455;\n",
              "      fill: #D2E3FC;\n",
              "    }\n",
              "\n",
              "    [theme=dark] .colab-df-convert:hover {\n",
              "      background-color: #434B5C;\n",
              "      box-shadow: 0px 1px 3px 1px rgba(0, 0, 0, 0.15);\n",
              "      filter: drop-shadow(0px 1px 2px rgba(0, 0, 0, 0.3));\n",
              "      fill: #FFFFFF;\n",
              "    }\n",
              "  </style>\n",
              "\n",
              "      <script>\n",
              "        const buttonEl =\n",
              "          document.querySelector('#df-c8c8d5e9-890e-4650-95f3-ee66bda30be8 button.colab-df-convert');\n",
              "        buttonEl.style.display =\n",
              "          google.colab.kernel.accessAllowed ? 'block' : 'none';\n",
              "\n",
              "        async function convertToInteractive(key) {\n",
              "          const element = document.querySelector('#df-c8c8d5e9-890e-4650-95f3-ee66bda30be8');\n",
              "          const dataTable =\n",
              "            await google.colab.kernel.invokeFunction('convertToInteractive',\n",
              "                                                     [key], {});\n",
              "          if (!dataTable) return;\n",
              "\n",
              "          const docLinkHtml = 'Like what you see? Visit the ' +\n",
              "            '<a target=\"_blank\" href=https://colab.research.google.com/notebooks/data_table.ipynb>data table notebook</a>'\n",
              "            + ' to learn more about interactive tables.';\n",
              "          element.innerHTML = '';\n",
              "          dataTable['output_type'] = 'display_data';\n",
              "          await google.colab.output.renderOutput(dataTable, element);\n",
              "          const docLink = document.createElement('div');\n",
              "          docLink.innerHTML = docLinkHtml;\n",
              "          element.appendChild(docLink);\n",
              "        }\n",
              "      </script>\n",
              "    </div>\n",
              "  </div>\n",
              "  "
            ]
          },
          "metadata": {},
          "execution_count": 32
        }
      ],
      "source": [
        "df[['age', 'animal']]"
      ]
    },
    {
      "cell_type": "markdown",
      "metadata": {
        "id": "KvV2QUgVzwHr"
      },
      "source": [
        "Change the age in row 'f' to 1.5."
      ]
    },
    {
      "cell_type": "code",
      "execution_count": 33,
      "metadata": {
        "id": "tjaiC9OLzwHr",
        "colab": {
          "base_uri": "https://localhost:8080/",
          "height": 470
        },
        "outputId": "1e084bc4-fc9f-49be-9a24-28fc9a834aa5"
      },
      "outputs": [
        {
          "output_type": "stream",
          "name": "stderr",
          "text": [
            "<ipython-input-33-133ae7ba59e6>:1: SettingWithCopyWarning: \n",
            "A value is trying to be set on a copy of a slice from a DataFrame\n",
            "\n",
            "See the caveats in the documentation: https://pandas.pydata.org/pandas-docs/stable/user_guide/indexing.html#returning-a-view-versus-a-copy\n",
            "  df['age']['f'] = 1.5\n"
          ]
        },
        {
          "output_type": "execute_result",
          "data": {
            "text/plain": [
              "  animal  age  visits priority\n",
              "a    cat  2.5       1      yes\n",
              "b    cat  3.0       3      yes\n",
              "c  snake  0.5       2       no\n",
              "d    dog  NaN       3      yes\n",
              "e    dog  5.0       2       no\n",
              "f    cat  1.5       3       no\n",
              "g  snake  4.5       1       no\n",
              "h    cat  NaN       1      yes\n",
              "i    dog  7.0       2       no\n",
              "j    dog  3.0       1       no"
            ],
            "text/html": [
              "\n",
              "  <div id=\"df-f7a12b24-60cd-42bf-8115-721d1f16ed33\">\n",
              "    <div class=\"colab-df-container\">\n",
              "      <div>\n",
              "<style scoped>\n",
              "    .dataframe tbody tr th:only-of-type {\n",
              "        vertical-align: middle;\n",
              "    }\n",
              "\n",
              "    .dataframe tbody tr th {\n",
              "        vertical-align: top;\n",
              "    }\n",
              "\n",
              "    .dataframe thead th {\n",
              "        text-align: right;\n",
              "    }\n",
              "</style>\n",
              "<table border=\"1\" class=\"dataframe\">\n",
              "  <thead>\n",
              "    <tr style=\"text-align: right;\">\n",
              "      <th></th>\n",
              "      <th>animal</th>\n",
              "      <th>age</th>\n",
              "      <th>visits</th>\n",
              "      <th>priority</th>\n",
              "    </tr>\n",
              "  </thead>\n",
              "  <tbody>\n",
              "    <tr>\n",
              "      <th>a</th>\n",
              "      <td>cat</td>\n",
              "      <td>2.5</td>\n",
              "      <td>1</td>\n",
              "      <td>yes</td>\n",
              "    </tr>\n",
              "    <tr>\n",
              "      <th>b</th>\n",
              "      <td>cat</td>\n",
              "      <td>3.0</td>\n",
              "      <td>3</td>\n",
              "      <td>yes</td>\n",
              "    </tr>\n",
              "    <tr>\n",
              "      <th>c</th>\n",
              "      <td>snake</td>\n",
              "      <td>0.5</td>\n",
              "      <td>2</td>\n",
              "      <td>no</td>\n",
              "    </tr>\n",
              "    <tr>\n",
              "      <th>d</th>\n",
              "      <td>dog</td>\n",
              "      <td>NaN</td>\n",
              "      <td>3</td>\n",
              "      <td>yes</td>\n",
              "    </tr>\n",
              "    <tr>\n",
              "      <th>e</th>\n",
              "      <td>dog</td>\n",
              "      <td>5.0</td>\n",
              "      <td>2</td>\n",
              "      <td>no</td>\n",
              "    </tr>\n",
              "    <tr>\n",
              "      <th>f</th>\n",
              "      <td>cat</td>\n",
              "      <td>1.5</td>\n",
              "      <td>3</td>\n",
              "      <td>no</td>\n",
              "    </tr>\n",
              "    <tr>\n",
              "      <th>g</th>\n",
              "      <td>snake</td>\n",
              "      <td>4.5</td>\n",
              "      <td>1</td>\n",
              "      <td>no</td>\n",
              "    </tr>\n",
              "    <tr>\n",
              "      <th>h</th>\n",
              "      <td>cat</td>\n",
              "      <td>NaN</td>\n",
              "      <td>1</td>\n",
              "      <td>yes</td>\n",
              "    </tr>\n",
              "    <tr>\n",
              "      <th>i</th>\n",
              "      <td>dog</td>\n",
              "      <td>7.0</td>\n",
              "      <td>2</td>\n",
              "      <td>no</td>\n",
              "    </tr>\n",
              "    <tr>\n",
              "      <th>j</th>\n",
              "      <td>dog</td>\n",
              "      <td>3.0</td>\n",
              "      <td>1</td>\n",
              "      <td>no</td>\n",
              "    </tr>\n",
              "  </tbody>\n",
              "</table>\n",
              "</div>\n",
              "      <button class=\"colab-df-convert\" onclick=\"convertToInteractive('df-f7a12b24-60cd-42bf-8115-721d1f16ed33')\"\n",
              "              title=\"Convert this dataframe to an interactive table.\"\n",
              "              style=\"display:none;\">\n",
              "        \n",
              "  <svg xmlns=\"http://www.w3.org/2000/svg\" height=\"24px\"viewBox=\"0 0 24 24\"\n",
              "       width=\"24px\">\n",
              "    <path d=\"M0 0h24v24H0V0z\" fill=\"none\"/>\n",
              "    <path d=\"M18.56 5.44l.94 2.06.94-2.06 2.06-.94-2.06-.94-.94-2.06-.94 2.06-2.06.94zm-11 1L8.5 8.5l.94-2.06 2.06-.94-2.06-.94L8.5 2.5l-.94 2.06-2.06.94zm10 10l.94 2.06.94-2.06 2.06-.94-2.06-.94-.94-2.06-.94 2.06-2.06.94z\"/><path d=\"M17.41 7.96l-1.37-1.37c-.4-.4-.92-.59-1.43-.59-.52 0-1.04.2-1.43.59L10.3 9.45l-7.72 7.72c-.78.78-.78 2.05 0 2.83L4 21.41c.39.39.9.59 1.41.59.51 0 1.02-.2 1.41-.59l7.78-7.78 2.81-2.81c.8-.78.8-2.07 0-2.86zM5.41 20L4 18.59l7.72-7.72 1.47 1.35L5.41 20z\"/>\n",
              "  </svg>\n",
              "      </button>\n",
              "      \n",
              "  <style>\n",
              "    .colab-df-container {\n",
              "      display:flex;\n",
              "      flex-wrap:wrap;\n",
              "      gap: 12px;\n",
              "    }\n",
              "\n",
              "    .colab-df-convert {\n",
              "      background-color: #E8F0FE;\n",
              "      border: none;\n",
              "      border-radius: 50%;\n",
              "      cursor: pointer;\n",
              "      display: none;\n",
              "      fill: #1967D2;\n",
              "      height: 32px;\n",
              "      padding: 0 0 0 0;\n",
              "      width: 32px;\n",
              "    }\n",
              "\n",
              "    .colab-df-convert:hover {\n",
              "      background-color: #E2EBFA;\n",
              "      box-shadow: 0px 1px 2px rgba(60, 64, 67, 0.3), 0px 1px 3px 1px rgba(60, 64, 67, 0.15);\n",
              "      fill: #174EA6;\n",
              "    }\n",
              "\n",
              "    [theme=dark] .colab-df-convert {\n",
              "      background-color: #3B4455;\n",
              "      fill: #D2E3FC;\n",
              "    }\n",
              "\n",
              "    [theme=dark] .colab-df-convert:hover {\n",
              "      background-color: #434B5C;\n",
              "      box-shadow: 0px 1px 3px 1px rgba(0, 0, 0, 0.15);\n",
              "      filter: drop-shadow(0px 1px 2px rgba(0, 0, 0, 0.3));\n",
              "      fill: #FFFFFF;\n",
              "    }\n",
              "  </style>\n",
              "\n",
              "      <script>\n",
              "        const buttonEl =\n",
              "          document.querySelector('#df-f7a12b24-60cd-42bf-8115-721d1f16ed33 button.colab-df-convert');\n",
              "        buttonEl.style.display =\n",
              "          google.colab.kernel.accessAllowed ? 'block' : 'none';\n",
              "\n",
              "        async function convertToInteractive(key) {\n",
              "          const element = document.querySelector('#df-f7a12b24-60cd-42bf-8115-721d1f16ed33');\n",
              "          const dataTable =\n",
              "            await google.colab.kernel.invokeFunction('convertToInteractive',\n",
              "                                                     [key], {});\n",
              "          if (!dataTable) return;\n",
              "\n",
              "          const docLinkHtml = 'Like what you see? Visit the ' +\n",
              "            '<a target=\"_blank\" href=https://colab.research.google.com/notebooks/data_table.ipynb>data table notebook</a>'\n",
              "            + ' to learn more about interactive tables.';\n",
              "          element.innerHTML = '';\n",
              "          dataTable['output_type'] = 'display_data';\n",
              "          await google.colab.output.renderOutput(dataTable, element);\n",
              "          const docLink = document.createElement('div');\n",
              "          docLink.innerHTML = docLinkHtml;\n",
              "          element.appendChild(docLink);\n",
              "        }\n",
              "      </script>\n",
              "    </div>\n",
              "  </div>\n",
              "  "
            ]
          },
          "metadata": {},
          "execution_count": 33
        }
      ],
      "source": [
        "df['age']['f'] = 1.5\n",
        "df"
      ]
    },
    {
      "cell_type": "markdown",
      "metadata": {
        "id": "3LmIPR7czwHr"
      },
      "source": [
        "\n",
        "Calculate the mean age for each different animal in df."
      ]
    },
    {
      "cell_type": "code",
      "execution_count": 34,
      "metadata": {
        "id": "szfFlEOOzwHs",
        "colab": {
          "base_uri": "https://localhost:8080/"
        },
        "outputId": "9b389651-a9ca-4ab9-b82b-7498abd152ae"
      },
      "outputs": [
        {
          "output_type": "execute_result",
          "data": {
            "text/plain": [
              "animal\n",
              "cat      2.333333\n",
              "dog      5.000000\n",
              "snake    2.500000\n",
              "Name: age, dtype: float64"
            ]
          },
          "metadata": {},
          "execution_count": 34
        }
      ],
      "source": [
        "df.groupby('animal')['age'].mean()"
      ]
    },
    {
      "cell_type": "markdown",
      "metadata": {
        "id": "SSt7TUW7zwHs"
      },
      "source": [
        " In the 'animal' column, change the 'snake' entries to 'python'."
      ]
    },
    {
      "cell_type": "code",
      "execution_count": 35,
      "metadata": {
        "id": "-8MPiF-tzwHs",
        "colab": {
          "base_uri": "https://localhost:8080/",
          "height": 363
        },
        "outputId": "5ee1e454-8920-49e9-9114-6889b9615b53"
      },
      "outputs": [
        {
          "output_type": "execute_result",
          "data": {
            "text/plain": [
              "   animal  age  visits priority\n",
              "a     cat  2.5       1      yes\n",
              "b     cat  3.0       3      yes\n",
              "c  python  0.5       2       no\n",
              "d     dog  NaN       3      yes\n",
              "e     dog  5.0       2       no\n",
              "f     cat  1.5       3       no\n",
              "g  python  4.5       1       no\n",
              "h     cat  NaN       1      yes\n",
              "i     dog  7.0       2       no\n",
              "j     dog  3.0       1       no"
            ],
            "text/html": [
              "\n",
              "  <div id=\"df-7d966b0d-4d92-4014-a49f-b1e36e8eeb1e\">\n",
              "    <div class=\"colab-df-container\">\n",
              "      <div>\n",
              "<style scoped>\n",
              "    .dataframe tbody tr th:only-of-type {\n",
              "        vertical-align: middle;\n",
              "    }\n",
              "\n",
              "    .dataframe tbody tr th {\n",
              "        vertical-align: top;\n",
              "    }\n",
              "\n",
              "    .dataframe thead th {\n",
              "        text-align: right;\n",
              "    }\n",
              "</style>\n",
              "<table border=\"1\" class=\"dataframe\">\n",
              "  <thead>\n",
              "    <tr style=\"text-align: right;\">\n",
              "      <th></th>\n",
              "      <th>animal</th>\n",
              "      <th>age</th>\n",
              "      <th>visits</th>\n",
              "      <th>priority</th>\n",
              "    </tr>\n",
              "  </thead>\n",
              "  <tbody>\n",
              "    <tr>\n",
              "      <th>a</th>\n",
              "      <td>cat</td>\n",
              "      <td>2.5</td>\n",
              "      <td>1</td>\n",
              "      <td>yes</td>\n",
              "    </tr>\n",
              "    <tr>\n",
              "      <th>b</th>\n",
              "      <td>cat</td>\n",
              "      <td>3.0</td>\n",
              "      <td>3</td>\n",
              "      <td>yes</td>\n",
              "    </tr>\n",
              "    <tr>\n",
              "      <th>c</th>\n",
              "      <td>python</td>\n",
              "      <td>0.5</td>\n",
              "      <td>2</td>\n",
              "      <td>no</td>\n",
              "    </tr>\n",
              "    <tr>\n",
              "      <th>d</th>\n",
              "      <td>dog</td>\n",
              "      <td>NaN</td>\n",
              "      <td>3</td>\n",
              "      <td>yes</td>\n",
              "    </tr>\n",
              "    <tr>\n",
              "      <th>e</th>\n",
              "      <td>dog</td>\n",
              "      <td>5.0</td>\n",
              "      <td>2</td>\n",
              "      <td>no</td>\n",
              "    </tr>\n",
              "    <tr>\n",
              "      <th>f</th>\n",
              "      <td>cat</td>\n",
              "      <td>1.5</td>\n",
              "      <td>3</td>\n",
              "      <td>no</td>\n",
              "    </tr>\n",
              "    <tr>\n",
              "      <th>g</th>\n",
              "      <td>python</td>\n",
              "      <td>4.5</td>\n",
              "      <td>1</td>\n",
              "      <td>no</td>\n",
              "    </tr>\n",
              "    <tr>\n",
              "      <th>h</th>\n",
              "      <td>cat</td>\n",
              "      <td>NaN</td>\n",
              "      <td>1</td>\n",
              "      <td>yes</td>\n",
              "    </tr>\n",
              "    <tr>\n",
              "      <th>i</th>\n",
              "      <td>dog</td>\n",
              "      <td>7.0</td>\n",
              "      <td>2</td>\n",
              "      <td>no</td>\n",
              "    </tr>\n",
              "    <tr>\n",
              "      <th>j</th>\n",
              "      <td>dog</td>\n",
              "      <td>3.0</td>\n",
              "      <td>1</td>\n",
              "      <td>no</td>\n",
              "    </tr>\n",
              "  </tbody>\n",
              "</table>\n",
              "</div>\n",
              "      <button class=\"colab-df-convert\" onclick=\"convertToInteractive('df-7d966b0d-4d92-4014-a49f-b1e36e8eeb1e')\"\n",
              "              title=\"Convert this dataframe to an interactive table.\"\n",
              "              style=\"display:none;\">\n",
              "        \n",
              "  <svg xmlns=\"http://www.w3.org/2000/svg\" height=\"24px\"viewBox=\"0 0 24 24\"\n",
              "       width=\"24px\">\n",
              "    <path d=\"M0 0h24v24H0V0z\" fill=\"none\"/>\n",
              "    <path d=\"M18.56 5.44l.94 2.06.94-2.06 2.06-.94-2.06-.94-.94-2.06-.94 2.06-2.06.94zm-11 1L8.5 8.5l.94-2.06 2.06-.94-2.06-.94L8.5 2.5l-.94 2.06-2.06.94zm10 10l.94 2.06.94-2.06 2.06-.94-2.06-.94-.94-2.06-.94 2.06-2.06.94z\"/><path d=\"M17.41 7.96l-1.37-1.37c-.4-.4-.92-.59-1.43-.59-.52 0-1.04.2-1.43.59L10.3 9.45l-7.72 7.72c-.78.78-.78 2.05 0 2.83L4 21.41c.39.39.9.59 1.41.59.51 0 1.02-.2 1.41-.59l7.78-7.78 2.81-2.81c.8-.78.8-2.07 0-2.86zM5.41 20L4 18.59l7.72-7.72 1.47 1.35L5.41 20z\"/>\n",
              "  </svg>\n",
              "      </button>\n",
              "      \n",
              "  <style>\n",
              "    .colab-df-container {\n",
              "      display:flex;\n",
              "      flex-wrap:wrap;\n",
              "      gap: 12px;\n",
              "    }\n",
              "\n",
              "    .colab-df-convert {\n",
              "      background-color: #E8F0FE;\n",
              "      border: none;\n",
              "      border-radius: 50%;\n",
              "      cursor: pointer;\n",
              "      display: none;\n",
              "      fill: #1967D2;\n",
              "      height: 32px;\n",
              "      padding: 0 0 0 0;\n",
              "      width: 32px;\n",
              "    }\n",
              "\n",
              "    .colab-df-convert:hover {\n",
              "      background-color: #E2EBFA;\n",
              "      box-shadow: 0px 1px 2px rgba(60, 64, 67, 0.3), 0px 1px 3px 1px rgba(60, 64, 67, 0.15);\n",
              "      fill: #174EA6;\n",
              "    }\n",
              "\n",
              "    [theme=dark] .colab-df-convert {\n",
              "      background-color: #3B4455;\n",
              "      fill: #D2E3FC;\n",
              "    }\n",
              "\n",
              "    [theme=dark] .colab-df-convert:hover {\n",
              "      background-color: #434B5C;\n",
              "      box-shadow: 0px 1px 3px 1px rgba(0, 0, 0, 0.15);\n",
              "      filter: drop-shadow(0px 1px 2px rgba(0, 0, 0, 0.3));\n",
              "      fill: #FFFFFF;\n",
              "    }\n",
              "  </style>\n",
              "\n",
              "      <script>\n",
              "        const buttonEl =\n",
              "          document.querySelector('#df-7d966b0d-4d92-4014-a49f-b1e36e8eeb1e button.colab-df-convert');\n",
              "        buttonEl.style.display =\n",
              "          google.colab.kernel.accessAllowed ? 'block' : 'none';\n",
              "\n",
              "        async function convertToInteractive(key) {\n",
              "          const element = document.querySelector('#df-7d966b0d-4d92-4014-a49f-b1e36e8eeb1e');\n",
              "          const dataTable =\n",
              "            await google.colab.kernel.invokeFunction('convertToInteractive',\n",
              "                                                     [key], {});\n",
              "          if (!dataTable) return;\n",
              "\n",
              "          const docLinkHtml = 'Like what you see? Visit the ' +\n",
              "            '<a target=\"_blank\" href=https://colab.research.google.com/notebooks/data_table.ipynb>data table notebook</a>'\n",
              "            + ' to learn more about interactive tables.';\n",
              "          element.innerHTML = '';\n",
              "          dataTable['output_type'] = 'display_data';\n",
              "          await google.colab.output.renderOutput(dataTable, element);\n",
              "          const docLink = document.createElement('div');\n",
              "          docLink.innerHTML = docLinkHtml;\n",
              "          element.appendChild(docLink);\n",
              "        }\n",
              "      </script>\n",
              "    </div>\n",
              "  </div>\n",
              "  "
            ]
          },
          "metadata": {},
          "execution_count": 35
        }
      ],
      "source": [
        "df['animal'] = df['animal'].replace(to_replace='snake', value='python')\n",
        "df"
      ]
    },
    {
      "cell_type": "markdown",
      "metadata": {
        "id": "lZonKEEazwHs"
      },
      "source": [
        "For each animal type and each number of visits, find the mean age. In other words, each row is an animal, each column is a number of visits and the values are the mean ages (hint: use a pivot table)."
      ]
    },
    {
      "cell_type": "code",
      "execution_count": 36,
      "metadata": {
        "id": "5e8DtfSjzwHs",
        "colab": {
          "base_uri": "https://localhost:8080/",
          "height": 175
        },
        "outputId": "869e018b-10d2-4ecb-f573-f92a5bad5709"
      },
      "outputs": [
        {
          "output_type": "execute_result",
          "data": {
            "text/plain": [
              "visits    1    2     3\n",
              "animal                \n",
              "cat     2.5  NaN  2.25\n",
              "dog     3.0  6.0   NaN\n",
              "python  4.5  0.5   NaN"
            ],
            "text/html": [
              "\n",
              "  <div id=\"df-e054f87f-b63b-4815-852b-1e4f28d119f1\">\n",
              "    <div class=\"colab-df-container\">\n",
              "      <div>\n",
              "<style scoped>\n",
              "    .dataframe tbody tr th:only-of-type {\n",
              "        vertical-align: middle;\n",
              "    }\n",
              "\n",
              "    .dataframe tbody tr th {\n",
              "        vertical-align: top;\n",
              "    }\n",
              "\n",
              "    .dataframe thead th {\n",
              "        text-align: right;\n",
              "    }\n",
              "</style>\n",
              "<table border=\"1\" class=\"dataframe\">\n",
              "  <thead>\n",
              "    <tr style=\"text-align: right;\">\n",
              "      <th>visits</th>\n",
              "      <th>1</th>\n",
              "      <th>2</th>\n",
              "      <th>3</th>\n",
              "    </tr>\n",
              "    <tr>\n",
              "      <th>animal</th>\n",
              "      <th></th>\n",
              "      <th></th>\n",
              "      <th></th>\n",
              "    </tr>\n",
              "  </thead>\n",
              "  <tbody>\n",
              "    <tr>\n",
              "      <th>cat</th>\n",
              "      <td>2.5</td>\n",
              "      <td>NaN</td>\n",
              "      <td>2.25</td>\n",
              "    </tr>\n",
              "    <tr>\n",
              "      <th>dog</th>\n",
              "      <td>3.0</td>\n",
              "      <td>6.0</td>\n",
              "      <td>NaN</td>\n",
              "    </tr>\n",
              "    <tr>\n",
              "      <th>python</th>\n",
              "      <td>4.5</td>\n",
              "      <td>0.5</td>\n",
              "      <td>NaN</td>\n",
              "    </tr>\n",
              "  </tbody>\n",
              "</table>\n",
              "</div>\n",
              "      <button class=\"colab-df-convert\" onclick=\"convertToInteractive('df-e054f87f-b63b-4815-852b-1e4f28d119f1')\"\n",
              "              title=\"Convert this dataframe to an interactive table.\"\n",
              "              style=\"display:none;\">\n",
              "        \n",
              "  <svg xmlns=\"http://www.w3.org/2000/svg\" height=\"24px\"viewBox=\"0 0 24 24\"\n",
              "       width=\"24px\">\n",
              "    <path d=\"M0 0h24v24H0V0z\" fill=\"none\"/>\n",
              "    <path d=\"M18.56 5.44l.94 2.06.94-2.06 2.06-.94-2.06-.94-.94-2.06-.94 2.06-2.06.94zm-11 1L8.5 8.5l.94-2.06 2.06-.94-2.06-.94L8.5 2.5l-.94 2.06-2.06.94zm10 10l.94 2.06.94-2.06 2.06-.94-2.06-.94-.94-2.06-.94 2.06-2.06.94z\"/><path d=\"M17.41 7.96l-1.37-1.37c-.4-.4-.92-.59-1.43-.59-.52 0-1.04.2-1.43.59L10.3 9.45l-7.72 7.72c-.78.78-.78 2.05 0 2.83L4 21.41c.39.39.9.59 1.41.59.51 0 1.02-.2 1.41-.59l7.78-7.78 2.81-2.81c.8-.78.8-2.07 0-2.86zM5.41 20L4 18.59l7.72-7.72 1.47 1.35L5.41 20z\"/>\n",
              "  </svg>\n",
              "      </button>\n",
              "      \n",
              "  <style>\n",
              "    .colab-df-container {\n",
              "      display:flex;\n",
              "      flex-wrap:wrap;\n",
              "      gap: 12px;\n",
              "    }\n",
              "\n",
              "    .colab-df-convert {\n",
              "      background-color: #E8F0FE;\n",
              "      border: none;\n",
              "      border-radius: 50%;\n",
              "      cursor: pointer;\n",
              "      display: none;\n",
              "      fill: #1967D2;\n",
              "      height: 32px;\n",
              "      padding: 0 0 0 0;\n",
              "      width: 32px;\n",
              "    }\n",
              "\n",
              "    .colab-df-convert:hover {\n",
              "      background-color: #E2EBFA;\n",
              "      box-shadow: 0px 1px 2px rgba(60, 64, 67, 0.3), 0px 1px 3px 1px rgba(60, 64, 67, 0.15);\n",
              "      fill: #174EA6;\n",
              "    }\n",
              "\n",
              "    [theme=dark] .colab-df-convert {\n",
              "      background-color: #3B4455;\n",
              "      fill: #D2E3FC;\n",
              "    }\n",
              "\n",
              "    [theme=dark] .colab-df-convert:hover {\n",
              "      background-color: #434B5C;\n",
              "      box-shadow: 0px 1px 3px 1px rgba(0, 0, 0, 0.15);\n",
              "      filter: drop-shadow(0px 1px 2px rgba(0, 0, 0, 0.3));\n",
              "      fill: #FFFFFF;\n",
              "    }\n",
              "  </style>\n",
              "\n",
              "      <script>\n",
              "        const buttonEl =\n",
              "          document.querySelector('#df-e054f87f-b63b-4815-852b-1e4f28d119f1 button.colab-df-convert');\n",
              "        buttonEl.style.display =\n",
              "          google.colab.kernel.accessAllowed ? 'block' : 'none';\n",
              "\n",
              "        async function convertToInteractive(key) {\n",
              "          const element = document.querySelector('#df-e054f87f-b63b-4815-852b-1e4f28d119f1');\n",
              "          const dataTable =\n",
              "            await google.colab.kernel.invokeFunction('convertToInteractive',\n",
              "                                                     [key], {});\n",
              "          if (!dataTable) return;\n",
              "\n",
              "          const docLinkHtml = 'Like what you see? Visit the ' +\n",
              "            '<a target=\"_blank\" href=https://colab.research.google.com/notebooks/data_table.ipynb>data table notebook</a>'\n",
              "            + ' to learn more about interactive tables.';\n",
              "          element.innerHTML = '';\n",
              "          dataTable['output_type'] = 'display_data';\n",
              "          await google.colab.output.renderOutput(dataTable, element);\n",
              "          const docLink = document.createElement('div');\n",
              "          docLink.innerHTML = docLinkHtml;\n",
              "          element.appendChild(docLink);\n",
              "        }\n",
              "      </script>\n",
              "    </div>\n",
              "  </div>\n",
              "  "
            ]
          },
          "metadata": {},
          "execution_count": 36
        }
      ],
      "source": [
        "# df.groupby(['animal', 'visits'])['age'].mean()\n",
        "df.pivot_table(index=\"animal\", columns=\"visits\", aggfunc=\"mean\")[\"age\"]"
      ]
    },
    {
      "cell_type": "markdown",
      "metadata": {
        "id": "BpojrRJPzwHs"
      },
      "source": [
        "Given a DataFrame, subtract the row mean from each element in the row?"
      ]
    },
    {
      "cell_type": "code",
      "execution_count": 37,
      "metadata": {
        "id": "sLwrS_U5zwHs",
        "colab": {
          "base_uri": "https://localhost:8080/",
          "height": 310
        },
        "outputId": "c152a95d-fbe3-4cf1-9b5f-b76ba6d61af2"
      },
      "outputs": [
        {
          "output_type": "stream",
          "name": "stdout",
          "text": [
            "          0         1         2\n",
            "0  0.491190  0.270176  0.360424\n",
            "1  0.210653  0.421200  0.218035\n",
            "2  0.845753  0.456271  0.279802\n",
            "3  0.932892  0.314351  0.909715\n",
            "4  0.043418  0.707115  0.483889\n"
          ]
        },
        {
          "output_type": "execute_result",
          "data": {
            "text/plain": [
              "          0         1         2\n",
              "0  0.117260 -0.103754 -0.013506\n",
              "1 -0.072643  0.137904 -0.065261\n",
              "2  0.318477 -0.071004 -0.247473\n",
              "3  0.213906 -0.404635  0.190729\n",
              "4 -0.368056  0.295641  0.072415"
            ],
            "text/html": [
              "\n",
              "  <div id=\"df-10d36be2-34ad-4be7-a8aa-4ac864299967\">\n",
              "    <div class=\"colab-df-container\">\n",
              "      <div>\n",
              "<style scoped>\n",
              "    .dataframe tbody tr th:only-of-type {\n",
              "        vertical-align: middle;\n",
              "    }\n",
              "\n",
              "    .dataframe tbody tr th {\n",
              "        vertical-align: top;\n",
              "    }\n",
              "\n",
              "    .dataframe thead th {\n",
              "        text-align: right;\n",
              "    }\n",
              "</style>\n",
              "<table border=\"1\" class=\"dataframe\">\n",
              "  <thead>\n",
              "    <tr style=\"text-align: right;\">\n",
              "      <th></th>\n",
              "      <th>0</th>\n",
              "      <th>1</th>\n",
              "      <th>2</th>\n",
              "    </tr>\n",
              "  </thead>\n",
              "  <tbody>\n",
              "    <tr>\n",
              "      <th>0</th>\n",
              "      <td>0.117260</td>\n",
              "      <td>-0.103754</td>\n",
              "      <td>-0.013506</td>\n",
              "    </tr>\n",
              "    <tr>\n",
              "      <th>1</th>\n",
              "      <td>-0.072643</td>\n",
              "      <td>0.137904</td>\n",
              "      <td>-0.065261</td>\n",
              "    </tr>\n",
              "    <tr>\n",
              "      <th>2</th>\n",
              "      <td>0.318477</td>\n",
              "      <td>-0.071004</td>\n",
              "      <td>-0.247473</td>\n",
              "    </tr>\n",
              "    <tr>\n",
              "      <th>3</th>\n",
              "      <td>0.213906</td>\n",
              "      <td>-0.404635</td>\n",
              "      <td>0.190729</td>\n",
              "    </tr>\n",
              "    <tr>\n",
              "      <th>4</th>\n",
              "      <td>-0.368056</td>\n",
              "      <td>0.295641</td>\n",
              "      <td>0.072415</td>\n",
              "    </tr>\n",
              "  </tbody>\n",
              "</table>\n",
              "</div>\n",
              "      <button class=\"colab-df-convert\" onclick=\"convertToInteractive('df-10d36be2-34ad-4be7-a8aa-4ac864299967')\"\n",
              "              title=\"Convert this dataframe to an interactive table.\"\n",
              "              style=\"display:none;\">\n",
              "        \n",
              "  <svg xmlns=\"http://www.w3.org/2000/svg\" height=\"24px\"viewBox=\"0 0 24 24\"\n",
              "       width=\"24px\">\n",
              "    <path d=\"M0 0h24v24H0V0z\" fill=\"none\"/>\n",
              "    <path d=\"M18.56 5.44l.94 2.06.94-2.06 2.06-.94-2.06-.94-.94-2.06-.94 2.06-2.06.94zm-11 1L8.5 8.5l.94-2.06 2.06-.94-2.06-.94L8.5 2.5l-.94 2.06-2.06.94zm10 10l.94 2.06.94-2.06 2.06-.94-2.06-.94-.94-2.06-.94 2.06-2.06.94z\"/><path d=\"M17.41 7.96l-1.37-1.37c-.4-.4-.92-.59-1.43-.59-.52 0-1.04.2-1.43.59L10.3 9.45l-7.72 7.72c-.78.78-.78 2.05 0 2.83L4 21.41c.39.39.9.59 1.41.59.51 0 1.02-.2 1.41-.59l7.78-7.78 2.81-2.81c.8-.78.8-2.07 0-2.86zM5.41 20L4 18.59l7.72-7.72 1.47 1.35L5.41 20z\"/>\n",
              "  </svg>\n",
              "      </button>\n",
              "      \n",
              "  <style>\n",
              "    .colab-df-container {\n",
              "      display:flex;\n",
              "      flex-wrap:wrap;\n",
              "      gap: 12px;\n",
              "    }\n",
              "\n",
              "    .colab-df-convert {\n",
              "      background-color: #E8F0FE;\n",
              "      border: none;\n",
              "      border-radius: 50%;\n",
              "      cursor: pointer;\n",
              "      display: none;\n",
              "      fill: #1967D2;\n",
              "      height: 32px;\n",
              "      padding: 0 0 0 0;\n",
              "      width: 32px;\n",
              "    }\n",
              "\n",
              "    .colab-df-convert:hover {\n",
              "      background-color: #E2EBFA;\n",
              "      box-shadow: 0px 1px 2px rgba(60, 64, 67, 0.3), 0px 1px 3px 1px rgba(60, 64, 67, 0.15);\n",
              "      fill: #174EA6;\n",
              "    }\n",
              "\n",
              "    [theme=dark] .colab-df-convert {\n",
              "      background-color: #3B4455;\n",
              "      fill: #D2E3FC;\n",
              "    }\n",
              "\n",
              "    [theme=dark] .colab-df-convert:hover {\n",
              "      background-color: #434B5C;\n",
              "      box-shadow: 0px 1px 3px 1px rgba(0, 0, 0, 0.15);\n",
              "      filter: drop-shadow(0px 1px 2px rgba(0, 0, 0, 0.3));\n",
              "      fill: #FFFFFF;\n",
              "    }\n",
              "  </style>\n",
              "\n",
              "      <script>\n",
              "        const buttonEl =\n",
              "          document.querySelector('#df-10d36be2-34ad-4be7-a8aa-4ac864299967 button.colab-df-convert');\n",
              "        buttonEl.style.display =\n",
              "          google.colab.kernel.accessAllowed ? 'block' : 'none';\n",
              "\n",
              "        async function convertToInteractive(key) {\n",
              "          const element = document.querySelector('#df-10d36be2-34ad-4be7-a8aa-4ac864299967');\n",
              "          const dataTable =\n",
              "            await google.colab.kernel.invokeFunction('convertToInteractive',\n",
              "                                                     [key], {});\n",
              "          if (!dataTable) return;\n",
              "\n",
              "          const docLinkHtml = 'Like what you see? Visit the ' +\n",
              "            '<a target=\"_blank\" href=https://colab.research.google.com/notebooks/data_table.ipynb>data table notebook</a>'\n",
              "            + ' to learn more about interactive tables.';\n",
              "          element.innerHTML = '';\n",
              "          dataTable['output_type'] = 'display_data';\n",
              "          await google.colab.output.renderOutput(dataTable, element);\n",
              "          const docLink = document.createElement('div');\n",
              "          docLink.innerHTML = docLinkHtml;\n",
              "          element.appendChild(docLink);\n",
              "        }\n",
              "      </script>\n",
              "    </div>\n",
              "  </div>\n",
              "  "
            ]
          },
          "metadata": {},
          "execution_count": 37
        }
      ],
      "source": [
        "# a 5x3 frame of float values\n",
        "df_floats = pd.DataFrame(np.random.random(size=(5, 3)))\n",
        "print(df_floats)\n",
        "# df_floats - df_floats.mean()\n",
        "\n",
        "df_floats.sub(df_floats.mean(axis=1), axis=0)"
      ]
    },
    {
      "cell_type": "markdown",
      "metadata": {
        "id": "fIDWcWRszwHs"
      },
      "source": [
        "### Series and Datetimeindex"
      ]
    },
    {
      "cell_type": "markdown",
      "metadata": {
        "id": "ooIaqRZvzwHs"
      },
      "source": [
        "Create a DatetimeIndex that contains each business day of 2015 and use it to index a Series of random numbers. Let's call this Series s."
      ]
    },
    {
      "cell_type": "code",
      "execution_count": 38,
      "metadata": {
        "id": "0hCADni5zwHs",
        "colab": {
          "base_uri": "https://localhost:8080/"
        },
        "outputId": "8db5a5d2-ba3d-4bb4-ebc7-7921b31bba9f"
      },
      "outputs": [
        {
          "output_type": "execute_result",
          "data": {
            "text/plain": [
              "2015-01-01    0.444221\n",
              "2015-01-02    0.036323\n",
              "2015-01-05    0.040683\n",
              "2015-01-06    0.332754\n",
              "2015-01-07    0.947120\n",
              "                ...   \n",
              "2015-12-25    0.587616\n",
              "2015-12-28    0.967362\n",
              "2015-12-29    0.657667\n",
              "2015-12-30    0.584904\n",
              "2015-12-31    0.518773\n",
              "Freq: B, Length: 261, dtype: float64"
            ]
          },
          "metadata": {},
          "execution_count": 38
        }
      ],
      "source": [
        "index = pd.bdate_range(start='2015-01-01', end='2015-12-31')\n",
        "# s = pd.DataFrame(np.random.rand(index.shape[0]), index=index)\n",
        "s = pd.Series(np.random.rand(index.shape[0]), index=index)\n",
        "s"
      ]
    },
    {
      "cell_type": "markdown",
      "metadata": {
        "id": "vcN-78ggzwHs"
      },
      "source": [
        "Find the sum of the values in s for every Wednesday."
      ]
    },
    {
      "cell_type": "code",
      "execution_count": 39,
      "metadata": {
        "id": "J3mzSe3KzwHs",
        "colab": {
          "base_uri": "https://localhost:8080/"
        },
        "outputId": "7e4bbeb1-8ead-4d4b-f166-de0c68931e78"
      },
      "outputs": [
        {
          "output_type": "execute_result",
          "data": {
            "text/plain": [
              "28.20463133931073"
            ]
          },
          "metadata": {},
          "execution_count": 39
        }
      ],
      "source": [
        "# np.sum(s[s.index.dayofweek == 2][0])\n",
        "s[index.weekday == 2].sum()"
      ]
    },
    {
      "cell_type": "markdown",
      "metadata": {
        "id": "WhWsC6gtzwHs"
      },
      "source": [
        "For each calendar month in s, find the mean of values."
      ]
    },
    {
      "cell_type": "code",
      "execution_count": 40,
      "metadata": {
        "id": "Iwf1U_CXzwHs",
        "colab": {
          "base_uri": "https://localhost:8080/"
        },
        "outputId": "f1c0d5a8-38da-49ea-c037-dec2027b6cb7"
      },
      "outputs": [
        {
          "output_type": "execute_result",
          "data": {
            "text/plain": [
              "1     0.514598\n",
              "2     0.411958\n",
              "3     0.482855\n",
              "4     0.465519\n",
              "5     0.586244\n",
              "6     0.459178\n",
              "7     0.499775\n",
              "8     0.579787\n",
              "9     0.509425\n",
              "10    0.545982\n",
              "11    0.496362\n",
              "12    0.549904\n",
              "dtype: float64"
            ]
          },
          "metadata": {},
          "execution_count": 40
        }
      ],
      "source": [
        "s.groupby(s.index.month).mean()"
      ]
    },
    {
      "cell_type": "markdown",
      "metadata": {
        "id": "trJKDud1zwHs"
      },
      "source": [
        "For each group of four consecutive calendar months in s, find the date on which the highest value occurred."
      ]
    },
    {
      "cell_type": "code",
      "execution_count": 41,
      "metadata": {
        "id": "wZ9AM_3fzwHs",
        "colab": {
          "base_uri": "https://localhost:8080/"
        },
        "outputId": "5a1b11b3-e68a-4f69-f695-bc92c5cdf5ff"
      },
      "outputs": [
        {
          "output_type": "execute_result",
          "data": {
            "text/plain": [
              "2015-01-31   2015-01-27\n",
              "2015-05-31   2015-04-03\n",
              "2015-09-30   2015-06-10\n",
              "2016-01-31   2015-11-18\n",
              "Freq: 4M, dtype: datetime64[ns]"
            ]
          },
          "metadata": {},
          "execution_count": 41
        }
      ],
      "source": [
        "s.groupby(pd.Grouper(freq='4M')).idxmax()  # SHOULD NOT BE SPILLING INTO 2016 !!!!!!!!!!!!!!!!!!!!!!!!\n",
        "\n",
        "# idx = pd.bdate_range(start='2015-01-01', end='2015-09-30')\n",
        "# t = pd.DataFrame(np.random.rand(idx.shape[0]), index=idx)\n",
        "\n",
        "# t.groupby(pd.Grouper(freq='4M')).idxmax()"
      ]
    },
    {
      "cell_type": "markdown",
      "metadata": {
        "id": "Vv67eZZYzwHs"
      },
      "source": [
        "### Cleaning Data"
      ]
    },
    {
      "cell_type": "markdown",
      "metadata": {
        "id": "axk5_lduzwHs"
      },
      "source": [
        "The DataFrame to use in the following puzzles:"
      ]
    },
    {
      "cell_type": "code",
      "execution_count": 42,
      "metadata": {
        "id": "E4TjFkNszwHs",
        "colab": {
          "base_uri": "https://localhost:8080/",
          "height": 206
        },
        "outputId": "cf1c7b69-62c2-4ea4-f407-7036f02708da"
      },
      "outputs": [
        {
          "output_type": "execute_result",
          "data": {
            "text/plain": [
              "            From_To  FlightNumber  RecentDelays              Airline\n",
              "0      LoNDon_paris       10045.0      [23, 47]               KLM(!)\n",
              "1      MAdrid_miLAN           NaN            []    <Air France> (12)\n",
              "2  londON_StockhOlm       10065.0  [24, 43, 87]  (British Airways. )\n",
              "3    Budapest_PaRis           NaN          [13]       12. Air France\n",
              "4   Brussels_londOn       10085.0      [67, 32]          \"Swiss Air\""
            ],
            "text/html": [
              "\n",
              "  <div id=\"df-f785b63e-3a90-42b1-bf0e-a383ef6123f5\">\n",
              "    <div class=\"colab-df-container\">\n",
              "      <div>\n",
              "<style scoped>\n",
              "    .dataframe tbody tr th:only-of-type {\n",
              "        vertical-align: middle;\n",
              "    }\n",
              "\n",
              "    .dataframe tbody tr th {\n",
              "        vertical-align: top;\n",
              "    }\n",
              "\n",
              "    .dataframe thead th {\n",
              "        text-align: right;\n",
              "    }\n",
              "</style>\n",
              "<table border=\"1\" class=\"dataframe\">\n",
              "  <thead>\n",
              "    <tr style=\"text-align: right;\">\n",
              "      <th></th>\n",
              "      <th>From_To</th>\n",
              "      <th>FlightNumber</th>\n",
              "      <th>RecentDelays</th>\n",
              "      <th>Airline</th>\n",
              "    </tr>\n",
              "  </thead>\n",
              "  <tbody>\n",
              "    <tr>\n",
              "      <th>0</th>\n",
              "      <td>LoNDon_paris</td>\n",
              "      <td>10045.0</td>\n",
              "      <td>[23, 47]</td>\n",
              "      <td>KLM(!)</td>\n",
              "    </tr>\n",
              "    <tr>\n",
              "      <th>1</th>\n",
              "      <td>MAdrid_miLAN</td>\n",
              "      <td>NaN</td>\n",
              "      <td>[]</td>\n",
              "      <td>&lt;Air France&gt; (12)</td>\n",
              "    </tr>\n",
              "    <tr>\n",
              "      <th>2</th>\n",
              "      <td>londON_StockhOlm</td>\n",
              "      <td>10065.0</td>\n",
              "      <td>[24, 43, 87]</td>\n",
              "      <td>(British Airways. )</td>\n",
              "    </tr>\n",
              "    <tr>\n",
              "      <th>3</th>\n",
              "      <td>Budapest_PaRis</td>\n",
              "      <td>NaN</td>\n",
              "      <td>[13]</td>\n",
              "      <td>12. Air France</td>\n",
              "    </tr>\n",
              "    <tr>\n",
              "      <th>4</th>\n",
              "      <td>Brussels_londOn</td>\n",
              "      <td>10085.0</td>\n",
              "      <td>[67, 32]</td>\n",
              "      <td>\"Swiss Air\"</td>\n",
              "    </tr>\n",
              "  </tbody>\n",
              "</table>\n",
              "</div>\n",
              "      <button class=\"colab-df-convert\" onclick=\"convertToInteractive('df-f785b63e-3a90-42b1-bf0e-a383ef6123f5')\"\n",
              "              title=\"Convert this dataframe to an interactive table.\"\n",
              "              style=\"display:none;\">\n",
              "        \n",
              "  <svg xmlns=\"http://www.w3.org/2000/svg\" height=\"24px\"viewBox=\"0 0 24 24\"\n",
              "       width=\"24px\">\n",
              "    <path d=\"M0 0h24v24H0V0z\" fill=\"none\"/>\n",
              "    <path d=\"M18.56 5.44l.94 2.06.94-2.06 2.06-.94-2.06-.94-.94-2.06-.94 2.06-2.06.94zm-11 1L8.5 8.5l.94-2.06 2.06-.94-2.06-.94L8.5 2.5l-.94 2.06-2.06.94zm10 10l.94 2.06.94-2.06 2.06-.94-2.06-.94-.94-2.06-.94 2.06-2.06.94z\"/><path d=\"M17.41 7.96l-1.37-1.37c-.4-.4-.92-.59-1.43-.59-.52 0-1.04.2-1.43.59L10.3 9.45l-7.72 7.72c-.78.78-.78 2.05 0 2.83L4 21.41c.39.39.9.59 1.41.59.51 0 1.02-.2 1.41-.59l7.78-7.78 2.81-2.81c.8-.78.8-2.07 0-2.86zM5.41 20L4 18.59l7.72-7.72 1.47 1.35L5.41 20z\"/>\n",
              "  </svg>\n",
              "      </button>\n",
              "      \n",
              "  <style>\n",
              "    .colab-df-container {\n",
              "      display:flex;\n",
              "      flex-wrap:wrap;\n",
              "      gap: 12px;\n",
              "    }\n",
              "\n",
              "    .colab-df-convert {\n",
              "      background-color: #E8F0FE;\n",
              "      border: none;\n",
              "      border-radius: 50%;\n",
              "      cursor: pointer;\n",
              "      display: none;\n",
              "      fill: #1967D2;\n",
              "      height: 32px;\n",
              "      padding: 0 0 0 0;\n",
              "      width: 32px;\n",
              "    }\n",
              "\n",
              "    .colab-df-convert:hover {\n",
              "      background-color: #E2EBFA;\n",
              "      box-shadow: 0px 1px 2px rgba(60, 64, 67, 0.3), 0px 1px 3px 1px rgba(60, 64, 67, 0.15);\n",
              "      fill: #174EA6;\n",
              "    }\n",
              "\n",
              "    [theme=dark] .colab-df-convert {\n",
              "      background-color: #3B4455;\n",
              "      fill: #D2E3FC;\n",
              "    }\n",
              "\n",
              "    [theme=dark] .colab-df-convert:hover {\n",
              "      background-color: #434B5C;\n",
              "      box-shadow: 0px 1px 3px 1px rgba(0, 0, 0, 0.15);\n",
              "      filter: drop-shadow(0px 1px 2px rgba(0, 0, 0, 0.3));\n",
              "      fill: #FFFFFF;\n",
              "    }\n",
              "  </style>\n",
              "\n",
              "      <script>\n",
              "        const buttonEl =\n",
              "          document.querySelector('#df-f785b63e-3a90-42b1-bf0e-a383ef6123f5 button.colab-df-convert');\n",
              "        buttonEl.style.display =\n",
              "          google.colab.kernel.accessAllowed ? 'block' : 'none';\n",
              "\n",
              "        async function convertToInteractive(key) {\n",
              "          const element = document.querySelector('#df-f785b63e-3a90-42b1-bf0e-a383ef6123f5');\n",
              "          const dataTable =\n",
              "            await google.colab.kernel.invokeFunction('convertToInteractive',\n",
              "                                                     [key], {});\n",
              "          if (!dataTable) return;\n",
              "\n",
              "          const docLinkHtml = 'Like what you see? Visit the ' +\n",
              "            '<a target=\"_blank\" href=https://colab.research.google.com/notebooks/data_table.ipynb>data table notebook</a>'\n",
              "            + ' to learn more about interactive tables.';\n",
              "          element.innerHTML = '';\n",
              "          dataTable['output_type'] = 'display_data';\n",
              "          await google.colab.output.renderOutput(dataTable, element);\n",
              "          const docLink = document.createElement('div');\n",
              "          docLink.innerHTML = docLinkHtml;\n",
              "          element.appendChild(docLink);\n",
              "        }\n",
              "      </script>\n",
              "    </div>\n",
              "  </div>\n",
              "  "
            ]
          },
          "metadata": {},
          "execution_count": 42
        }
      ],
      "source": [
        "df = pd.DataFrame({'From_To': ['LoNDon_paris', 'MAdrid_miLAN', 'londON_StockhOlm', \n",
        "                               'Budapest_PaRis', 'Brussels_londOn'],\n",
        "              'FlightNumber': [10045, np.nan, 10065, np.nan, 10085],\n",
        "              'RecentDelays': [[23, 47], [], [24, 43, 87], [13], [67, 32]],\n",
        "                   'Airline': ['KLM(!)', '<Air France> (12)', '(British Airways. )', \n",
        "                               '12. Air France', '\"Swiss Air\"']})\n",
        "\n",
        "df.head()"
      ]
    },
    {
      "cell_type": "markdown",
      "metadata": {
        "id": "J60JoXF0zwHs"
      },
      "source": [
        " Some values in the the FlightNumber column are missing. These numbers are meant to increase by 10 with each row so 10055 and 10075 need to be put in place. Fill in these missing numbers and make the column an integer column (instead of a float column)."
      ]
    },
    {
      "cell_type": "code",
      "execution_count": 43,
      "metadata": {
        "id": "uRPC5aJ8zwHs",
        "colab": {
          "base_uri": "https://localhost:8080/",
          "height": 206
        },
        "outputId": "26a7fec5-4915-4748-b0f9-06c0afab4751"
      },
      "outputs": [
        {
          "output_type": "execute_result",
          "data": {
            "text/plain": [
              "            From_To  FlightNumber  RecentDelays              Airline\n",
              "0      LoNDon_paris         10045      [23, 47]               KLM(!)\n",
              "1      MAdrid_miLAN         10055            []    <Air France> (12)\n",
              "2  londON_StockhOlm         10065  [24, 43, 87]  (British Airways. )\n",
              "3    Budapest_PaRis         10075          [13]       12. Air France\n",
              "4   Brussels_londOn         10085      [67, 32]          \"Swiss Air\""
            ],
            "text/html": [
              "\n",
              "  <div id=\"df-61df5bbf-67a1-4dc9-b558-c7f752e9314c\">\n",
              "    <div class=\"colab-df-container\">\n",
              "      <div>\n",
              "<style scoped>\n",
              "    .dataframe tbody tr th:only-of-type {\n",
              "        vertical-align: middle;\n",
              "    }\n",
              "\n",
              "    .dataframe tbody tr th {\n",
              "        vertical-align: top;\n",
              "    }\n",
              "\n",
              "    .dataframe thead th {\n",
              "        text-align: right;\n",
              "    }\n",
              "</style>\n",
              "<table border=\"1\" class=\"dataframe\">\n",
              "  <thead>\n",
              "    <tr style=\"text-align: right;\">\n",
              "      <th></th>\n",
              "      <th>From_To</th>\n",
              "      <th>FlightNumber</th>\n",
              "      <th>RecentDelays</th>\n",
              "      <th>Airline</th>\n",
              "    </tr>\n",
              "  </thead>\n",
              "  <tbody>\n",
              "    <tr>\n",
              "      <th>0</th>\n",
              "      <td>LoNDon_paris</td>\n",
              "      <td>10045</td>\n",
              "      <td>[23, 47]</td>\n",
              "      <td>KLM(!)</td>\n",
              "    </tr>\n",
              "    <tr>\n",
              "      <th>1</th>\n",
              "      <td>MAdrid_miLAN</td>\n",
              "      <td>10055</td>\n",
              "      <td>[]</td>\n",
              "      <td>&lt;Air France&gt; (12)</td>\n",
              "    </tr>\n",
              "    <tr>\n",
              "      <th>2</th>\n",
              "      <td>londON_StockhOlm</td>\n",
              "      <td>10065</td>\n",
              "      <td>[24, 43, 87]</td>\n",
              "      <td>(British Airways. )</td>\n",
              "    </tr>\n",
              "    <tr>\n",
              "      <th>3</th>\n",
              "      <td>Budapest_PaRis</td>\n",
              "      <td>10075</td>\n",
              "      <td>[13]</td>\n",
              "      <td>12. Air France</td>\n",
              "    </tr>\n",
              "    <tr>\n",
              "      <th>4</th>\n",
              "      <td>Brussels_londOn</td>\n",
              "      <td>10085</td>\n",
              "      <td>[67, 32]</td>\n",
              "      <td>\"Swiss Air\"</td>\n",
              "    </tr>\n",
              "  </tbody>\n",
              "</table>\n",
              "</div>\n",
              "      <button class=\"colab-df-convert\" onclick=\"convertToInteractive('df-61df5bbf-67a1-4dc9-b558-c7f752e9314c')\"\n",
              "              title=\"Convert this dataframe to an interactive table.\"\n",
              "              style=\"display:none;\">\n",
              "        \n",
              "  <svg xmlns=\"http://www.w3.org/2000/svg\" height=\"24px\"viewBox=\"0 0 24 24\"\n",
              "       width=\"24px\">\n",
              "    <path d=\"M0 0h24v24H0V0z\" fill=\"none\"/>\n",
              "    <path d=\"M18.56 5.44l.94 2.06.94-2.06 2.06-.94-2.06-.94-.94-2.06-.94 2.06-2.06.94zm-11 1L8.5 8.5l.94-2.06 2.06-.94-2.06-.94L8.5 2.5l-.94 2.06-2.06.94zm10 10l.94 2.06.94-2.06 2.06-.94-2.06-.94-.94-2.06-.94 2.06-2.06.94z\"/><path d=\"M17.41 7.96l-1.37-1.37c-.4-.4-.92-.59-1.43-.59-.52 0-1.04.2-1.43.59L10.3 9.45l-7.72 7.72c-.78.78-.78 2.05 0 2.83L4 21.41c.39.39.9.59 1.41.59.51 0 1.02-.2 1.41-.59l7.78-7.78 2.81-2.81c.8-.78.8-2.07 0-2.86zM5.41 20L4 18.59l7.72-7.72 1.47 1.35L5.41 20z\"/>\n",
              "  </svg>\n",
              "      </button>\n",
              "      \n",
              "  <style>\n",
              "    .colab-df-container {\n",
              "      display:flex;\n",
              "      flex-wrap:wrap;\n",
              "      gap: 12px;\n",
              "    }\n",
              "\n",
              "    .colab-df-convert {\n",
              "      background-color: #E8F0FE;\n",
              "      border: none;\n",
              "      border-radius: 50%;\n",
              "      cursor: pointer;\n",
              "      display: none;\n",
              "      fill: #1967D2;\n",
              "      height: 32px;\n",
              "      padding: 0 0 0 0;\n",
              "      width: 32px;\n",
              "    }\n",
              "\n",
              "    .colab-df-convert:hover {\n",
              "      background-color: #E2EBFA;\n",
              "      box-shadow: 0px 1px 2px rgba(60, 64, 67, 0.3), 0px 1px 3px 1px rgba(60, 64, 67, 0.15);\n",
              "      fill: #174EA6;\n",
              "    }\n",
              "\n",
              "    [theme=dark] .colab-df-convert {\n",
              "      background-color: #3B4455;\n",
              "      fill: #D2E3FC;\n",
              "    }\n",
              "\n",
              "    [theme=dark] .colab-df-convert:hover {\n",
              "      background-color: #434B5C;\n",
              "      box-shadow: 0px 1px 3px 1px rgba(0, 0, 0, 0.15);\n",
              "      filter: drop-shadow(0px 1px 2px rgba(0, 0, 0, 0.3));\n",
              "      fill: #FFFFFF;\n",
              "    }\n",
              "  </style>\n",
              "\n",
              "      <script>\n",
              "        const buttonEl =\n",
              "          document.querySelector('#df-61df5bbf-67a1-4dc9-b558-c7f752e9314c button.colab-df-convert');\n",
              "        buttonEl.style.display =\n",
              "          google.colab.kernel.accessAllowed ? 'block' : 'none';\n",
              "\n",
              "        async function convertToInteractive(key) {\n",
              "          const element = document.querySelector('#df-61df5bbf-67a1-4dc9-b558-c7f752e9314c');\n",
              "          const dataTable =\n",
              "            await google.colab.kernel.invokeFunction('convertToInteractive',\n",
              "                                                     [key], {});\n",
              "          if (!dataTable) return;\n",
              "\n",
              "          const docLinkHtml = 'Like what you see? Visit the ' +\n",
              "            '<a target=\"_blank\" href=https://colab.research.google.com/notebooks/data_table.ipynb>data table notebook</a>'\n",
              "            + ' to learn more about interactive tables.';\n",
              "          element.innerHTML = '';\n",
              "          dataTable['output_type'] = 'display_data';\n",
              "          await google.colab.output.renderOutput(dataTable, element);\n",
              "          const docLink = document.createElement('div');\n",
              "          docLink.innerHTML = docLinkHtml;\n",
              "          element.appendChild(docLink);\n",
              "        }\n",
              "      </script>\n",
              "    </div>\n",
              "  </div>\n",
              "  "
            ]
          },
          "metadata": {},
          "execution_count": 43
        }
      ],
      "source": [
        "prev = ''\n",
        "arr = []\n",
        "\n",
        "for entry in df['FlightNumber']:\n",
        "    value = 0\n",
        "    if pd.isna(entry):\n",
        "        value = int(prev + 10)\n",
        "        arr.append(value)\n",
        "    else:\n",
        "        value = int(entry)\n",
        "        arr.append(value)\n",
        "    prev = int(value)\n",
        "\n",
        "df['FlightNumber'] = arr\n",
        "df"
      ]
    },
    {
      "cell_type": "markdown",
      "metadata": {
        "id": "aEayoMAqzwHs"
      },
      "source": [
        "The From_To column would be better as two separate columns! Split each string on the underscore delimiter _ to give a new temporary DataFrame with the correct values. Assign the correct column names to this temporary DataFrame."
      ]
    },
    {
      "cell_type": "code",
      "execution_count": 44,
      "metadata": {
        "id": "O5Tp5n_UzwHs",
        "colab": {
          "base_uri": "https://localhost:8080/",
          "height": 206
        },
        "outputId": "825a0587-aa4b-4644-b35f-c779dc06f1b2"
      },
      "outputs": [
        {
          "output_type": "execute_result",
          "data": {
            "text/plain": [
              "       From         To\n",
              "0    LoNDon      paris\n",
              "1    MAdrid      miLAN\n",
              "2    londON  StockhOlm\n",
              "3  Budapest      PaRis\n",
              "4  Brussels     londOn"
            ],
            "text/html": [
              "\n",
              "  <div id=\"df-96ab56d1-c68b-4c3e-b28e-3bee005dd27a\">\n",
              "    <div class=\"colab-df-container\">\n",
              "      <div>\n",
              "<style scoped>\n",
              "    .dataframe tbody tr th:only-of-type {\n",
              "        vertical-align: middle;\n",
              "    }\n",
              "\n",
              "    .dataframe tbody tr th {\n",
              "        vertical-align: top;\n",
              "    }\n",
              "\n",
              "    .dataframe thead th {\n",
              "        text-align: right;\n",
              "    }\n",
              "</style>\n",
              "<table border=\"1\" class=\"dataframe\">\n",
              "  <thead>\n",
              "    <tr style=\"text-align: right;\">\n",
              "      <th></th>\n",
              "      <th>From</th>\n",
              "      <th>To</th>\n",
              "    </tr>\n",
              "  </thead>\n",
              "  <tbody>\n",
              "    <tr>\n",
              "      <th>0</th>\n",
              "      <td>LoNDon</td>\n",
              "      <td>paris</td>\n",
              "    </tr>\n",
              "    <tr>\n",
              "      <th>1</th>\n",
              "      <td>MAdrid</td>\n",
              "      <td>miLAN</td>\n",
              "    </tr>\n",
              "    <tr>\n",
              "      <th>2</th>\n",
              "      <td>londON</td>\n",
              "      <td>StockhOlm</td>\n",
              "    </tr>\n",
              "    <tr>\n",
              "      <th>3</th>\n",
              "      <td>Budapest</td>\n",
              "      <td>PaRis</td>\n",
              "    </tr>\n",
              "    <tr>\n",
              "      <th>4</th>\n",
              "      <td>Brussels</td>\n",
              "      <td>londOn</td>\n",
              "    </tr>\n",
              "  </tbody>\n",
              "</table>\n",
              "</div>\n",
              "      <button class=\"colab-df-convert\" onclick=\"convertToInteractive('df-96ab56d1-c68b-4c3e-b28e-3bee005dd27a')\"\n",
              "              title=\"Convert this dataframe to an interactive table.\"\n",
              "              style=\"display:none;\">\n",
              "        \n",
              "  <svg xmlns=\"http://www.w3.org/2000/svg\" height=\"24px\"viewBox=\"0 0 24 24\"\n",
              "       width=\"24px\">\n",
              "    <path d=\"M0 0h24v24H0V0z\" fill=\"none\"/>\n",
              "    <path d=\"M18.56 5.44l.94 2.06.94-2.06 2.06-.94-2.06-.94-.94-2.06-.94 2.06-2.06.94zm-11 1L8.5 8.5l.94-2.06 2.06-.94-2.06-.94L8.5 2.5l-.94 2.06-2.06.94zm10 10l.94 2.06.94-2.06 2.06-.94-2.06-.94-.94-2.06-.94 2.06-2.06.94z\"/><path d=\"M17.41 7.96l-1.37-1.37c-.4-.4-.92-.59-1.43-.59-.52 0-1.04.2-1.43.59L10.3 9.45l-7.72 7.72c-.78.78-.78 2.05 0 2.83L4 21.41c.39.39.9.59 1.41.59.51 0 1.02-.2 1.41-.59l7.78-7.78 2.81-2.81c.8-.78.8-2.07 0-2.86zM5.41 20L4 18.59l7.72-7.72 1.47 1.35L5.41 20z\"/>\n",
              "  </svg>\n",
              "      </button>\n",
              "      \n",
              "  <style>\n",
              "    .colab-df-container {\n",
              "      display:flex;\n",
              "      flex-wrap:wrap;\n",
              "      gap: 12px;\n",
              "    }\n",
              "\n",
              "    .colab-df-convert {\n",
              "      background-color: #E8F0FE;\n",
              "      border: none;\n",
              "      border-radius: 50%;\n",
              "      cursor: pointer;\n",
              "      display: none;\n",
              "      fill: #1967D2;\n",
              "      height: 32px;\n",
              "      padding: 0 0 0 0;\n",
              "      width: 32px;\n",
              "    }\n",
              "\n",
              "    .colab-df-convert:hover {\n",
              "      background-color: #E2EBFA;\n",
              "      box-shadow: 0px 1px 2px rgba(60, 64, 67, 0.3), 0px 1px 3px 1px rgba(60, 64, 67, 0.15);\n",
              "      fill: #174EA6;\n",
              "    }\n",
              "\n",
              "    [theme=dark] .colab-df-convert {\n",
              "      background-color: #3B4455;\n",
              "      fill: #D2E3FC;\n",
              "    }\n",
              "\n",
              "    [theme=dark] .colab-df-convert:hover {\n",
              "      background-color: #434B5C;\n",
              "      box-shadow: 0px 1px 3px 1px rgba(0, 0, 0, 0.15);\n",
              "      filter: drop-shadow(0px 1px 2px rgba(0, 0, 0, 0.3));\n",
              "      fill: #FFFFFF;\n",
              "    }\n",
              "  </style>\n",
              "\n",
              "      <script>\n",
              "        const buttonEl =\n",
              "          document.querySelector('#df-96ab56d1-c68b-4c3e-b28e-3bee005dd27a button.colab-df-convert');\n",
              "        buttonEl.style.display =\n",
              "          google.colab.kernel.accessAllowed ? 'block' : 'none';\n",
              "\n",
              "        async function convertToInteractive(key) {\n",
              "          const element = document.querySelector('#df-96ab56d1-c68b-4c3e-b28e-3bee005dd27a');\n",
              "          const dataTable =\n",
              "            await google.colab.kernel.invokeFunction('convertToInteractive',\n",
              "                                                     [key], {});\n",
              "          if (!dataTable) return;\n",
              "\n",
              "          const docLinkHtml = 'Like what you see? Visit the ' +\n",
              "            '<a target=\"_blank\" href=https://colab.research.google.com/notebooks/data_table.ipynb>data table notebook</a>'\n",
              "            + ' to learn more about interactive tables.';\n",
              "          element.innerHTML = '';\n",
              "          dataTable['output_type'] = 'display_data';\n",
              "          await google.colab.output.renderOutput(dataTable, element);\n",
              "          const docLink = document.createElement('div');\n",
              "          docLink.innerHTML = docLinkHtml;\n",
              "          element.appendChild(docLink);\n",
              "        }\n",
              "      </script>\n",
              "    </div>\n",
              "  </div>\n",
              "  "
            ]
          },
          "metadata": {},
          "execution_count": 44
        }
      ],
      "source": [
        "from_col = []\n",
        "to_col = []\n",
        "for entry in df['From_To']:\n",
        "    frm, to = entry.split('_')[0], entry.split('_')[1]\n",
        "    from_col.append(frm); to_col.append(to)\n",
        "\n",
        "df_temp = pd.DataFrame()\n",
        "df_temp['From'] = from_col\n",
        "df_temp['To'] = to_col\n",
        "\n",
        "df_temp"
      ]
    },
    {
      "cell_type": "markdown",
      "metadata": {
        "id": "6fXN_EQGzwHs"
      },
      "source": [
        "Notice how the capitalisation of the city names is all mixed up in this temporary DataFrame. Standardise the strings so that only the first letter is uppercase (e.g. \"londON\" should become \"London\".)"
      ]
    },
    {
      "cell_type": "code",
      "execution_count": 45,
      "metadata": {
        "id": "x3vDZu3tzwHs",
        "colab": {
          "base_uri": "https://localhost:8080/",
          "height": 206
        },
        "outputId": "05de45d5-c257-40a1-d863-420ac9886f6c"
      },
      "outputs": [
        {
          "output_type": "execute_result",
          "data": {
            "text/plain": [
              "       From         To\n",
              "0    London      Paris\n",
              "1    Madrid      Milan\n",
              "2    London  Stockholm\n",
              "3  Budapest      Paris\n",
              "4  Brussels     London"
            ],
            "text/html": [
              "\n",
              "  <div id=\"df-3c8d59d9-284c-48a9-befd-725b42af5697\">\n",
              "    <div class=\"colab-df-container\">\n",
              "      <div>\n",
              "<style scoped>\n",
              "    .dataframe tbody tr th:only-of-type {\n",
              "        vertical-align: middle;\n",
              "    }\n",
              "\n",
              "    .dataframe tbody tr th {\n",
              "        vertical-align: top;\n",
              "    }\n",
              "\n",
              "    .dataframe thead th {\n",
              "        text-align: right;\n",
              "    }\n",
              "</style>\n",
              "<table border=\"1\" class=\"dataframe\">\n",
              "  <thead>\n",
              "    <tr style=\"text-align: right;\">\n",
              "      <th></th>\n",
              "      <th>From</th>\n",
              "      <th>To</th>\n",
              "    </tr>\n",
              "  </thead>\n",
              "  <tbody>\n",
              "    <tr>\n",
              "      <th>0</th>\n",
              "      <td>London</td>\n",
              "      <td>Paris</td>\n",
              "    </tr>\n",
              "    <tr>\n",
              "      <th>1</th>\n",
              "      <td>Madrid</td>\n",
              "      <td>Milan</td>\n",
              "    </tr>\n",
              "    <tr>\n",
              "      <th>2</th>\n",
              "      <td>London</td>\n",
              "      <td>Stockholm</td>\n",
              "    </tr>\n",
              "    <tr>\n",
              "      <th>3</th>\n",
              "      <td>Budapest</td>\n",
              "      <td>Paris</td>\n",
              "    </tr>\n",
              "    <tr>\n",
              "      <th>4</th>\n",
              "      <td>Brussels</td>\n",
              "      <td>London</td>\n",
              "    </tr>\n",
              "  </tbody>\n",
              "</table>\n",
              "</div>\n",
              "      <button class=\"colab-df-convert\" onclick=\"convertToInteractive('df-3c8d59d9-284c-48a9-befd-725b42af5697')\"\n",
              "              title=\"Convert this dataframe to an interactive table.\"\n",
              "              style=\"display:none;\">\n",
              "        \n",
              "  <svg xmlns=\"http://www.w3.org/2000/svg\" height=\"24px\"viewBox=\"0 0 24 24\"\n",
              "       width=\"24px\">\n",
              "    <path d=\"M0 0h24v24H0V0z\" fill=\"none\"/>\n",
              "    <path d=\"M18.56 5.44l.94 2.06.94-2.06 2.06-.94-2.06-.94-.94-2.06-.94 2.06-2.06.94zm-11 1L8.5 8.5l.94-2.06 2.06-.94-2.06-.94L8.5 2.5l-.94 2.06-2.06.94zm10 10l.94 2.06.94-2.06 2.06-.94-2.06-.94-.94-2.06-.94 2.06-2.06.94z\"/><path d=\"M17.41 7.96l-1.37-1.37c-.4-.4-.92-.59-1.43-.59-.52 0-1.04.2-1.43.59L10.3 9.45l-7.72 7.72c-.78.78-.78 2.05 0 2.83L4 21.41c.39.39.9.59 1.41.59.51 0 1.02-.2 1.41-.59l7.78-7.78 2.81-2.81c.8-.78.8-2.07 0-2.86zM5.41 20L4 18.59l7.72-7.72 1.47 1.35L5.41 20z\"/>\n",
              "  </svg>\n",
              "      </button>\n",
              "      \n",
              "  <style>\n",
              "    .colab-df-container {\n",
              "      display:flex;\n",
              "      flex-wrap:wrap;\n",
              "      gap: 12px;\n",
              "    }\n",
              "\n",
              "    .colab-df-convert {\n",
              "      background-color: #E8F0FE;\n",
              "      border: none;\n",
              "      border-radius: 50%;\n",
              "      cursor: pointer;\n",
              "      display: none;\n",
              "      fill: #1967D2;\n",
              "      height: 32px;\n",
              "      padding: 0 0 0 0;\n",
              "      width: 32px;\n",
              "    }\n",
              "\n",
              "    .colab-df-convert:hover {\n",
              "      background-color: #E2EBFA;\n",
              "      box-shadow: 0px 1px 2px rgba(60, 64, 67, 0.3), 0px 1px 3px 1px rgba(60, 64, 67, 0.15);\n",
              "      fill: #174EA6;\n",
              "    }\n",
              "\n",
              "    [theme=dark] .colab-df-convert {\n",
              "      background-color: #3B4455;\n",
              "      fill: #D2E3FC;\n",
              "    }\n",
              "\n",
              "    [theme=dark] .colab-df-convert:hover {\n",
              "      background-color: #434B5C;\n",
              "      box-shadow: 0px 1px 3px 1px rgba(0, 0, 0, 0.15);\n",
              "      filter: drop-shadow(0px 1px 2px rgba(0, 0, 0, 0.3));\n",
              "      fill: #FFFFFF;\n",
              "    }\n",
              "  </style>\n",
              "\n",
              "      <script>\n",
              "        const buttonEl =\n",
              "          document.querySelector('#df-3c8d59d9-284c-48a9-befd-725b42af5697 button.colab-df-convert');\n",
              "        buttonEl.style.display =\n",
              "          google.colab.kernel.accessAllowed ? 'block' : 'none';\n",
              "\n",
              "        async function convertToInteractive(key) {\n",
              "          const element = document.querySelector('#df-3c8d59d9-284c-48a9-befd-725b42af5697');\n",
              "          const dataTable =\n",
              "            await google.colab.kernel.invokeFunction('convertToInteractive',\n",
              "                                                     [key], {});\n",
              "          if (!dataTable) return;\n",
              "\n",
              "          const docLinkHtml = 'Like what you see? Visit the ' +\n",
              "            '<a target=\"_blank\" href=https://colab.research.google.com/notebooks/data_table.ipynb>data table notebook</a>'\n",
              "            + ' to learn more about interactive tables.';\n",
              "          element.innerHTML = '';\n",
              "          dataTable['output_type'] = 'display_data';\n",
              "          await google.colab.output.renderOutput(dataTable, element);\n",
              "          const docLink = document.createElement('div');\n",
              "          docLink.innerHTML = docLinkHtml;\n",
              "          element.appendChild(docLink);\n",
              "        }\n",
              "      </script>\n",
              "    </div>\n",
              "  </div>\n",
              "  "
            ]
          },
          "metadata": {},
          "execution_count": 45
        }
      ],
      "source": [
        "df_temp['From'] = df_temp['From'].str.title()\n",
        "df_temp['To'] = df_temp['To'].str.title()\n",
        "# df_temp.columns = ['From', 'To']\n",
        "df_temp"
      ]
    },
    {
      "cell_type": "markdown",
      "metadata": {
        "id": "fdsqMI2QzwHt"
      },
      "source": [
        "Delete the From_To column from df and attach the temporary DataFrame from the previous questions."
      ]
    },
    {
      "cell_type": "code",
      "execution_count": 46,
      "metadata": {
        "id": "4YDqOkMFzwHt",
        "colab": {
          "base_uri": "https://localhost:8080/",
          "height": 206
        },
        "outputId": "b8dfc642-1fda-43c4-dd98-a28c2d7c47f8"
      },
      "outputs": [
        {
          "output_type": "execute_result",
          "data": {
            "text/plain": [
              "   FlightNumber  RecentDelays              Airline      From         To\n",
              "0         10045      [23, 47]               KLM(!)    London      Paris\n",
              "1         10055            []    <Air France> (12)    Madrid      Milan\n",
              "2         10065  [24, 43, 87]  (British Airways. )    London  Stockholm\n",
              "3         10075          [13]       12. Air France  Budapest      Paris\n",
              "4         10085      [67, 32]          \"Swiss Air\"  Brussels     London"
            ],
            "text/html": [
              "\n",
              "  <div id=\"df-c6e49cf5-28ed-4109-bf17-29e8f61ec287\">\n",
              "    <div class=\"colab-df-container\">\n",
              "      <div>\n",
              "<style scoped>\n",
              "    .dataframe tbody tr th:only-of-type {\n",
              "        vertical-align: middle;\n",
              "    }\n",
              "\n",
              "    .dataframe tbody tr th {\n",
              "        vertical-align: top;\n",
              "    }\n",
              "\n",
              "    .dataframe thead th {\n",
              "        text-align: right;\n",
              "    }\n",
              "</style>\n",
              "<table border=\"1\" class=\"dataframe\">\n",
              "  <thead>\n",
              "    <tr style=\"text-align: right;\">\n",
              "      <th></th>\n",
              "      <th>FlightNumber</th>\n",
              "      <th>RecentDelays</th>\n",
              "      <th>Airline</th>\n",
              "      <th>From</th>\n",
              "      <th>To</th>\n",
              "    </tr>\n",
              "  </thead>\n",
              "  <tbody>\n",
              "    <tr>\n",
              "      <th>0</th>\n",
              "      <td>10045</td>\n",
              "      <td>[23, 47]</td>\n",
              "      <td>KLM(!)</td>\n",
              "      <td>London</td>\n",
              "      <td>Paris</td>\n",
              "    </tr>\n",
              "    <tr>\n",
              "      <th>1</th>\n",
              "      <td>10055</td>\n",
              "      <td>[]</td>\n",
              "      <td>&lt;Air France&gt; (12)</td>\n",
              "      <td>Madrid</td>\n",
              "      <td>Milan</td>\n",
              "    </tr>\n",
              "    <tr>\n",
              "      <th>2</th>\n",
              "      <td>10065</td>\n",
              "      <td>[24, 43, 87]</td>\n",
              "      <td>(British Airways. )</td>\n",
              "      <td>London</td>\n",
              "      <td>Stockholm</td>\n",
              "    </tr>\n",
              "    <tr>\n",
              "      <th>3</th>\n",
              "      <td>10075</td>\n",
              "      <td>[13]</td>\n",
              "      <td>12. Air France</td>\n",
              "      <td>Budapest</td>\n",
              "      <td>Paris</td>\n",
              "    </tr>\n",
              "    <tr>\n",
              "      <th>4</th>\n",
              "      <td>10085</td>\n",
              "      <td>[67, 32]</td>\n",
              "      <td>\"Swiss Air\"</td>\n",
              "      <td>Brussels</td>\n",
              "      <td>London</td>\n",
              "    </tr>\n",
              "  </tbody>\n",
              "</table>\n",
              "</div>\n",
              "      <button class=\"colab-df-convert\" onclick=\"convertToInteractive('df-c6e49cf5-28ed-4109-bf17-29e8f61ec287')\"\n",
              "              title=\"Convert this dataframe to an interactive table.\"\n",
              "              style=\"display:none;\">\n",
              "        \n",
              "  <svg xmlns=\"http://www.w3.org/2000/svg\" height=\"24px\"viewBox=\"0 0 24 24\"\n",
              "       width=\"24px\">\n",
              "    <path d=\"M0 0h24v24H0V0z\" fill=\"none\"/>\n",
              "    <path d=\"M18.56 5.44l.94 2.06.94-2.06 2.06-.94-2.06-.94-.94-2.06-.94 2.06-2.06.94zm-11 1L8.5 8.5l.94-2.06 2.06-.94-2.06-.94L8.5 2.5l-.94 2.06-2.06.94zm10 10l.94 2.06.94-2.06 2.06-.94-2.06-.94-.94-2.06-.94 2.06-2.06.94z\"/><path d=\"M17.41 7.96l-1.37-1.37c-.4-.4-.92-.59-1.43-.59-.52 0-1.04.2-1.43.59L10.3 9.45l-7.72 7.72c-.78.78-.78 2.05 0 2.83L4 21.41c.39.39.9.59 1.41.59.51 0 1.02-.2 1.41-.59l7.78-7.78 2.81-2.81c.8-.78.8-2.07 0-2.86zM5.41 20L4 18.59l7.72-7.72 1.47 1.35L5.41 20z\"/>\n",
              "  </svg>\n",
              "      </button>\n",
              "      \n",
              "  <style>\n",
              "    .colab-df-container {\n",
              "      display:flex;\n",
              "      flex-wrap:wrap;\n",
              "      gap: 12px;\n",
              "    }\n",
              "\n",
              "    .colab-df-convert {\n",
              "      background-color: #E8F0FE;\n",
              "      border: none;\n",
              "      border-radius: 50%;\n",
              "      cursor: pointer;\n",
              "      display: none;\n",
              "      fill: #1967D2;\n",
              "      height: 32px;\n",
              "      padding: 0 0 0 0;\n",
              "      width: 32px;\n",
              "    }\n",
              "\n",
              "    .colab-df-convert:hover {\n",
              "      background-color: #E2EBFA;\n",
              "      box-shadow: 0px 1px 2px rgba(60, 64, 67, 0.3), 0px 1px 3px 1px rgba(60, 64, 67, 0.15);\n",
              "      fill: #174EA6;\n",
              "    }\n",
              "\n",
              "    [theme=dark] .colab-df-convert {\n",
              "      background-color: #3B4455;\n",
              "      fill: #D2E3FC;\n",
              "    }\n",
              "\n",
              "    [theme=dark] .colab-df-convert:hover {\n",
              "      background-color: #434B5C;\n",
              "      box-shadow: 0px 1px 3px 1px rgba(0, 0, 0, 0.15);\n",
              "      filter: drop-shadow(0px 1px 2px rgba(0, 0, 0, 0.3));\n",
              "      fill: #FFFFFF;\n",
              "    }\n",
              "  </style>\n",
              "\n",
              "      <script>\n",
              "        const buttonEl =\n",
              "          document.querySelector('#df-c6e49cf5-28ed-4109-bf17-29e8f61ec287 button.colab-df-convert');\n",
              "        buttonEl.style.display =\n",
              "          google.colab.kernel.accessAllowed ? 'block' : 'none';\n",
              "\n",
              "        async function convertToInteractive(key) {\n",
              "          const element = document.querySelector('#df-c6e49cf5-28ed-4109-bf17-29e8f61ec287');\n",
              "          const dataTable =\n",
              "            await google.colab.kernel.invokeFunction('convertToInteractive',\n",
              "                                                     [key], {});\n",
              "          if (!dataTable) return;\n",
              "\n",
              "          const docLinkHtml = 'Like what you see? Visit the ' +\n",
              "            '<a target=\"_blank\" href=https://colab.research.google.com/notebooks/data_table.ipynb>data table notebook</a>'\n",
              "            + ' to learn more about interactive tables.';\n",
              "          element.innerHTML = '';\n",
              "          dataTable['output_type'] = 'display_data';\n",
              "          await google.colab.output.renderOutput(dataTable, element);\n",
              "          const docLink = document.createElement('div');\n",
              "          docLink.innerHTML = docLinkHtml;\n",
              "          element.appendChild(docLink);\n",
              "        }\n",
              "      </script>\n",
              "    </div>\n",
              "  </div>\n",
              "  "
            ]
          },
          "metadata": {},
          "execution_count": 46
        }
      ],
      "source": [
        "try:\n",
        "    df = df.drop('From_To', axis=1)\n",
        "    df = df.join(df_temp)\n",
        "except:\n",
        "    pass\n",
        "\n",
        "df"
      ]
    },
    {
      "cell_type": "markdown",
      "metadata": {
        "id": "lEH5TtSCzwHt"
      },
      "source": [
        "### Plotting\n",
        "Pandas is integrated with the plotting library matplotlib, and makes plotting DataFrames very user-friendly! Plotting in a notebook environment usually makes use of the following boilerplate:"
      ]
    },
    {
      "cell_type": "markdown",
      "metadata": {
        "id": "9BdQ-zhezwHt"
      },
      "source": [
        "matplotlib is the plotting library which pandas' plotting functionality is built upon, and it is usually aliased to plt.\n",
        "\n",
        "%matplotlib inline tells the notebook to show plots inline, instead of creating them in a separate window.\n",
        "\n",
        "plt.style.use('ggplot') is a style theme that most people find agreeable, based upon the styling of R's ggplot package.\n",
        "\n",
        "See the documentation <https://pandas.pydata.org/pandas-docs/stable/generated/pandas.DataFrame.plot.html> if you get stuck!"
      ]
    },
    {
      "cell_type": "code",
      "execution_count": 47,
      "metadata": {
        "id": "iPTBZQ46zwHt"
      },
      "outputs": [],
      "source": [
        "import matplotlib.pyplot as plt\n",
        "import pandas as pd\n",
        "%matplotlib inline\n",
        "plt.style.use('ggplot')"
      ]
    },
    {
      "cell_type": "code",
      "execution_count": 48,
      "metadata": {
        "id": "yRAgHtPXzwHt",
        "colab": {
          "base_uri": "https://localhost:8080/",
          "height": 206
        },
        "outputId": "83ede43f-bd44-428f-d78e-3ab22f0a23d3"
      },
      "outputs": [
        {
          "output_type": "execute_result",
          "data": {
            "text/plain": [
              "   xs  ys\n",
              "0   1   4\n",
              "1   5   2\n",
              "2   2   1\n",
              "3   8   9\n",
              "4   1   6"
            ],
            "text/html": [
              "\n",
              "  <div id=\"df-19fedec8-96c8-4a53-91e1-f0f182966392\">\n",
              "    <div class=\"colab-df-container\">\n",
              "      <div>\n",
              "<style scoped>\n",
              "    .dataframe tbody tr th:only-of-type {\n",
              "        vertical-align: middle;\n",
              "    }\n",
              "\n",
              "    .dataframe tbody tr th {\n",
              "        vertical-align: top;\n",
              "    }\n",
              "\n",
              "    .dataframe thead th {\n",
              "        text-align: right;\n",
              "    }\n",
              "</style>\n",
              "<table border=\"1\" class=\"dataframe\">\n",
              "  <thead>\n",
              "    <tr style=\"text-align: right;\">\n",
              "      <th></th>\n",
              "      <th>xs</th>\n",
              "      <th>ys</th>\n",
              "    </tr>\n",
              "  </thead>\n",
              "  <tbody>\n",
              "    <tr>\n",
              "      <th>0</th>\n",
              "      <td>1</td>\n",
              "      <td>4</td>\n",
              "    </tr>\n",
              "    <tr>\n",
              "      <th>1</th>\n",
              "      <td>5</td>\n",
              "      <td>2</td>\n",
              "    </tr>\n",
              "    <tr>\n",
              "      <th>2</th>\n",
              "      <td>2</td>\n",
              "      <td>1</td>\n",
              "    </tr>\n",
              "    <tr>\n",
              "      <th>3</th>\n",
              "      <td>8</td>\n",
              "      <td>9</td>\n",
              "    </tr>\n",
              "    <tr>\n",
              "      <th>4</th>\n",
              "      <td>1</td>\n",
              "      <td>6</td>\n",
              "    </tr>\n",
              "  </tbody>\n",
              "</table>\n",
              "</div>\n",
              "      <button class=\"colab-df-convert\" onclick=\"convertToInteractive('df-19fedec8-96c8-4a53-91e1-f0f182966392')\"\n",
              "              title=\"Convert this dataframe to an interactive table.\"\n",
              "              style=\"display:none;\">\n",
              "        \n",
              "  <svg xmlns=\"http://www.w3.org/2000/svg\" height=\"24px\"viewBox=\"0 0 24 24\"\n",
              "       width=\"24px\">\n",
              "    <path d=\"M0 0h24v24H0V0z\" fill=\"none\"/>\n",
              "    <path d=\"M18.56 5.44l.94 2.06.94-2.06 2.06-.94-2.06-.94-.94-2.06-.94 2.06-2.06.94zm-11 1L8.5 8.5l.94-2.06 2.06-.94-2.06-.94L8.5 2.5l-.94 2.06-2.06.94zm10 10l.94 2.06.94-2.06 2.06-.94-2.06-.94-.94-2.06-.94 2.06-2.06.94z\"/><path d=\"M17.41 7.96l-1.37-1.37c-.4-.4-.92-.59-1.43-.59-.52 0-1.04.2-1.43.59L10.3 9.45l-7.72 7.72c-.78.78-.78 2.05 0 2.83L4 21.41c.39.39.9.59 1.41.59.51 0 1.02-.2 1.41-.59l7.78-7.78 2.81-2.81c.8-.78.8-2.07 0-2.86zM5.41 20L4 18.59l7.72-7.72 1.47 1.35L5.41 20z\"/>\n",
              "  </svg>\n",
              "      </button>\n",
              "      \n",
              "  <style>\n",
              "    .colab-df-container {\n",
              "      display:flex;\n",
              "      flex-wrap:wrap;\n",
              "      gap: 12px;\n",
              "    }\n",
              "\n",
              "    .colab-df-convert {\n",
              "      background-color: #E8F0FE;\n",
              "      border: none;\n",
              "      border-radius: 50%;\n",
              "      cursor: pointer;\n",
              "      display: none;\n",
              "      fill: #1967D2;\n",
              "      height: 32px;\n",
              "      padding: 0 0 0 0;\n",
              "      width: 32px;\n",
              "    }\n",
              "\n",
              "    .colab-df-convert:hover {\n",
              "      background-color: #E2EBFA;\n",
              "      box-shadow: 0px 1px 2px rgba(60, 64, 67, 0.3), 0px 1px 3px 1px rgba(60, 64, 67, 0.15);\n",
              "      fill: #174EA6;\n",
              "    }\n",
              "\n",
              "    [theme=dark] .colab-df-convert {\n",
              "      background-color: #3B4455;\n",
              "      fill: #D2E3FC;\n",
              "    }\n",
              "\n",
              "    [theme=dark] .colab-df-convert:hover {\n",
              "      background-color: #434B5C;\n",
              "      box-shadow: 0px 1px 3px 1px rgba(0, 0, 0, 0.15);\n",
              "      filter: drop-shadow(0px 1px 2px rgba(0, 0, 0, 0.3));\n",
              "      fill: #FFFFFF;\n",
              "    }\n",
              "  </style>\n",
              "\n",
              "      <script>\n",
              "        const buttonEl =\n",
              "          document.querySelector('#df-19fedec8-96c8-4a53-91e1-f0f182966392 button.colab-df-convert');\n",
              "        buttonEl.style.display =\n",
              "          google.colab.kernel.accessAllowed ? 'block' : 'none';\n",
              "\n",
              "        async function convertToInteractive(key) {\n",
              "          const element = document.querySelector('#df-19fedec8-96c8-4a53-91e1-f0f182966392');\n",
              "          const dataTable =\n",
              "            await google.colab.kernel.invokeFunction('convertToInteractive',\n",
              "                                                     [key], {});\n",
              "          if (!dataTable) return;\n",
              "\n",
              "          const docLinkHtml = 'Like what you see? Visit the ' +\n",
              "            '<a target=\"_blank\" href=https://colab.research.google.com/notebooks/data_table.ipynb>data table notebook</a>'\n",
              "            + ' to learn more about interactive tables.';\n",
              "          element.innerHTML = '';\n",
              "          dataTable['output_type'] = 'display_data';\n",
              "          await google.colab.output.renderOutput(dataTable, element);\n",
              "          const docLink = document.createElement('div');\n",
              "          docLink.innerHTML = docLinkHtml;\n",
              "          element.appendChild(docLink);\n",
              "        }\n",
              "      </script>\n",
              "    </div>\n",
              "  </div>\n",
              "  "
            ]
          },
          "metadata": {},
          "execution_count": 48
        }
      ],
      "source": [
        "df = pd.DataFrame({\"xs\":[1,5,2,8,1], \"ys\":[4,2,1,9,6]})\n",
        "df"
      ]
    },
    {
      "cell_type": "markdown",
      "metadata": {
        "id": "rbR428KYzwHt"
      },
      "source": [
        "### 1.31)\n",
        "For starters, make a scatter plot of this random data, but use black X's instead of the default markers. Add title \"Scatter Plot\" to the plot. Use df from previous cell.\n",
        "\n",
        "*NOTE: Don't forget to add [any] title and axes labels*"
      ]
    },
    {
      "cell_type": "code",
      "execution_count": 49,
      "metadata": {
        "scrolled": true,
        "id": "leJfGRm-zwHt",
        "colab": {
          "base_uri": "https://localhost:8080/",
          "height": 299
        },
        "outputId": "99035431-4f01-4a7c-dd5a-0f5818ae83ca"
      },
      "outputs": [
        {
          "output_type": "display_data",
          "data": {
            "text/plain": [
              "<Figure size 432x288 with 1 Axes>"
            ],
            "image/png": "[encoded data removed]"
          },
          "metadata": {}
        }
      ],
      "source": [
        "df.plot(x='xs', y='ys', kind='scatter', s=100, title='Scatter Plot', color='black', marker='x')\n",
        "plt.show()"
      ]
    },
    {
      "cell_type": "markdown",
      "metadata": {
        "id": "mdISv_bwzwHt"
      },
      "source": [
        "Columns in your DataFrame can also be used to modify colors and sizes. Bill has been keeping track of his performance at work over time, as well as how good he was feeling that day, and whether he had a cup of coffee in the morning. Make a plot which incorporates all four features of this DataFrame.\n",
        "\n",
        "(Hint: If you're having trouble seeing the plot, try multiplying the Series which you choose to represent size by 10 or more)"
      ]
    },
    {
      "cell_type": "code",
      "execution_count": 50,
      "metadata": {
        "id": "hjJG6OkuzwHt",
        "colab": {
          "base_uri": "https://localhost:8080/",
          "height": 299
        },
        "outputId": "bdcf488f-d983-49b5-f40f-cf59126614a1"
      },
      "outputs": [
        {
          "output_type": "display_data",
          "data": {
            "text/plain": [
              "<Figure size 432x288 with 1 Axes>"
            ],
            "image/png": "[encoded data removed]"
          },
          "metadata": {}
        }
      ],
      "source": [
        "df2 = pd.DataFrame({\"productivity\":[5,2,3,1,4,5,6,7,8,3,4,8,9],\n",
        "                   \"hours_in\"    :[1,9,6,5,3,9,2,9,1,7,4,2,2],\n",
        "                   \"happiness\"   :[2,1,3,2,3,1,2,3,1,2,2,1,3],\n",
        "                   \"caffienated\" :[0,0,1,1,0,0,0,0,1,1,0,1,0]})\n",
        "\n",
        "\n",
        "df2.plot(x='productivity', y='hours_in', s=df2.happiness * 100, c=df2.caffienated, kind='scatter', title=\"Bill's work performance\") # s = size of dots, c = color of dots\n",
        "plt.show()\n"
      ]
    },
    {
      "cell_type": "markdown",
      "metadata": {
        "id": "IKaukBlizwHt"
      },
      "source": [
        "### 1.33)\n",
        "What if we want to plot multiple things? Pandas allows you to pass in a matplotlib Axis object for plots, and plots will also return an Axis object.\n",
        "\n",
        "Make a bar plot of monthly revenue with a line plot of monthly advertising spending (numbers in millions)\n",
        "- Two plots should be in one figure\n",
        "- Make sure that the y-axis scales of 2 plots are different\n",
        "- Be sure to include legend"
      ]
    },
    {
      "cell_type": "code",
      "execution_count": 51,
      "metadata": {
        "id": "csGwQ12hzwHt",
        "colab": {
          "base_uri": "https://localhost:8080/",
          "height": 281
        },
        "outputId": "1424d767-3596-4ddb-a26a-c3bc5bb165e7"
      },
      "outputs": [
        {
          "output_type": "display_data",
          "data": {
            "text/plain": [
              "<Figure size 2160x576 with 4 Axes>"
            ],
            "image/png": "[encoded data removed]"
          },
          "metadata": {}
        }
      ],
      "source": [
        "df_to_plot = pd.DataFrame({\"revenue\":[57,68,63,71,72,90,80,62,59,51,47,52],\n",
        "                   \"advertising\":[2.1,1.9,2.7,3.0,3.6,3.2,2.7,2.4,1.8,1.6,1.3,1.9],\n",
        "                   \"month\":range(12)\n",
        "                  })\n",
        "\n",
        "fig, axes = plt.subplots(1, 3, figsize=(30, 8))\n",
        "df_to_plot.plot(ax=axes[0], x='month', y='revenue', kind='bar', color='green', xlabel='Month', ylabel='Revenue (millions of USD)', title='Revenue per Month')\n",
        "df_to_plot.plot(ax=axes[1], x='month', y='advertising', kind='line', color='green', xlabel='Month', ylabel='Advertising (millions of USD)', title='Advertising Spend per Month')\n",
        "df_to_plot.plot(ax=axes[2], x='advertising', y='revenue', kind='hexbin', xlabel='Advertising (millions of USD)', ylabel='Revenue (millions of USD)', title='Advertising Spend vs Monthly Revenue')\n",
        "plt.show()"
      ]
    },
    {
      "cell_type": "markdown",
      "metadata": {
        "id": "0OhTyB12zwHt"
      },
      "source": [
        "### 1.33)\n",
        "What if we want to put the x-axis in a different scale? Create two line plots with xs as x-axis and ys as y-axis. First plot uses log scaling on x-axis, and the second plot uses default scaling on x-axis. "
      ]
    },
    {
      "cell_type": "code",
      "execution_count": 52,
      "metadata": {
        "id": "-Pmw8QeYzwHt",
        "colab": {
          "base_uri": "https://localhost:8080/",
          "height": 277
        },
        "outputId": "6260ae78-0a00-4504-81f9-61bb5b78fb88"
      },
      "outputs": [
        {
          "output_type": "display_data",
          "data": {
            "text/plain": [
              "<Figure size 2160x576 with 2 Axes>"
            ],
            "image/png": "[encoded data removed]"
          },
          "metadata": {}
        }
      ],
      "source": [
        "import numpy as np\n",
        "df3 = pd.DataFrame({\"xs\":np.logspace(-2, 2, base=10, num=12),\n",
        "                   \"ys\":range(12)\n",
        "                  })\n",
        "\n",
        "fig, axes = plt.subplots(1, 2, figsize=(30, 8))\n",
        "df3.plot(ax=axes[0], x='xs', y='ys', xlabel='xs', ylabel='ys', kind='line', color='green', logx=True, title='Logarithmic x-axis: plot of xs vs ys')\n",
        "df3.plot(ax=axes[1], x='xs', y='ys', xlabel='xs', ylabel='ys', kind='line', color='blue', title='Standard x-axis plot of xs vs ys')\n",
        "plt.show()"
      ]
    },
    {
      "cell_type": "markdown",
      "metadata": {
        "id": "lGdhhyJlzwHt"
      },
      "source": [
        "##Matrix Manipulations\n",
        "Lets first create a matrix and perform some manipulations of it.\n",
        "\n",
        "Using numpy's matrix data structure, define the following matricies:\n",
        "\n",
        "$$A=\\left[ \\begin{array}{ccc} 3 & 5 & 9 \\\\ 3 & 3 & 4 \\\\ 5 & 9 & 17 \\end{array} \\right]$$\n",
        "\n",
        "$$B=\\left[ \\begin{array}{c} 2 \\\\ 1 \\\\ 4 \\end{array} \\right]$$\n",
        "\n",
        "After this solve the matrix equation:\n",
        "$$Ax = B$$"
      ]
    },
    {
      "cell_type": "code",
      "execution_count": 53,
      "metadata": {
        "id": "0_I6thhgzwHt",
        "colab": {
          "base_uri": "https://localhost:8080/"
        },
        "outputId": "3e34168b-43e5-45ab-fe55-0c49eada11e8"
      },
      "outputs": [
        {
          "output_type": "stream",
          "name": "stdout",
          "text": [
            "[[ 3  5  9]\n",
            " [ 3  3  4]\n",
            " [ 5  9 17]]\n",
            "[[2]\n",
            " [1]\n",
            " [4]]\n",
            "ans = array([[ 1.],\n",
            "       [-2.],\n",
            "       [ 1.]])\n"
          ]
        }
      ],
      "source": [
        "A = np.array([3, 5, 9, 3, 3, 4, 5, 9, 17]).reshape(3,3)\n",
        "B = np.array([2, 1, 4]).reshape(3,1)\n",
        "ans = np.linalg.solve(A, B)\n",
        "print(f'{A}\\n{B}\\n{ans = }')"
      ]
    },
    {
      "cell_type": "markdown",
      "metadata": {
        "id": "nnjPnX-uzwHt"
      },
      "source": [
        "Now write three functions for matrix multiply $C=AB$ in each of the following styles:\n",
        "\n",
        "1. By using nested for loops to impliment the naive algorithm ($C_{ij}=\\sum_{k=0}^{m-1}A_{ik}B_{kj}$)\n",
        "2. Using numpy's built in martrix multiplication  \n",
        "\n",
        "Both methods should have the same answer"
      ]
    },
    {
      "cell_type": "code",
      "execution_count": 54,
      "metadata": {
        "id": "y87qaLGfzwHt",
        "colab": {
          "base_uri": "https://localhost:8080/"
        },
        "outputId": "cda192a9-6233-4321-af4b-ec3ccb5332d6"
      },
      "outputs": [
        {
          "output_type": "stream",
          "name": "stdout",
          "text": [
            "C1 = array([[47],\n",
            "       [25],\n",
            "       [87]])\n",
            "C2 = array([[47],\n",
            "       [25],\n",
            "       [87]])\n",
            "C3 = array([[47],\n",
            "       [25],\n",
            "       [87]])\n",
            "C4 = array([[47],\n",
            "       [25],\n",
            "       [87]])\n",
            "\n"
          ]
        }
      ],
      "source": [
        "temp_arr = []\n",
        "count = 0; row_sum = 0\n",
        "\n",
        "for idxi, i in np.ndenumerate(A): # tuple indexing (0,0) ... (2,2)\n",
        "    count += 1\n",
        "    for idxj, j in np.ndenumerate(B): # tuple indexing (0,0) ... (2,0)\n",
        "        if idxi[1] == idxj[0]:\n",
        "            row_sum += i*j\n",
        "\n",
        "    if count % len(B) == 0:\n",
        "        temp_arr.append(row_sum); row_sum = 0\n",
        "\n",
        "'''\n",
        "3*2 + 5*1 + 9*4  = 47\n",
        "3*2 + 3*1 + 4*4  = 25\n",
        "5*2 + 9*1 + 4*17 = 87\n",
        "'''\n",
        "C1 = np.array(temp_arr).reshape(3,1)\n",
        "# C2 =  np.multiply(A, B)\n",
        "C2 =  np.dot(A, B)\n",
        "C3 =  np.matmul(A, B)\n",
        "C4 = A@B\n",
        "print(f'{C1 = }\\n{C2 = }\\n{C3 = }\\n{C4 = }\\n')"
      ]
    },
    {
      "cell_type": "markdown",
      "metadata": {
        "id": "g8_D_2M9zwHt"
      },
      "source": [
        "## Part 2\n",
        "Getting used to the data"
      ]
    },
    {
      "cell_type": "code",
      "execution_count": 55,
      "metadata": {
        "id": "IjhYNtVszwHu",
        "colab": {
          "base_uri": "https://localhost:8080/",
          "height": 250
        },
        "outputId": "f359d63c-5f10-4bd5-aa06-7486e298a11c"
      },
      "outputs": [
        {
          "output_type": "execute_result",
          "data": {
            "text/plain": [
              "    mpg  cylinders  displacement  horsepower  weight  acceleration  \\\n",
              "0  18.0          8         307.0         130    3504          12.0   \n",
              "1  15.0          8         350.0         165    3693          11.5   \n",
              "2  18.0          8         318.0         150    3436          11.0   \n",
              "3  16.0          8         304.0         150    3433          12.0   \n",
              "4  17.0          8         302.0         140    3449          10.5   \n",
              "\n",
              "   model_year  origin                   car_name  \n",
              "0          70       1  chevrolet chevelle malibu  \n",
              "1          70       1          buick skylark 320  \n",
              "2          70       1         plymouth satellite  \n",
              "3          70       1              amc rebel sst  \n",
              "4          70       1                ford torino  "
            ],
            "text/html": [
              "\n",
              "  <div id=\"df-95414b09-7161-434a-b301-24980644c4cc\">\n",
              "    <div class=\"colab-df-container\">\n",
              "      <div>\n",
              "<style scoped>\n",
              "    .dataframe tbody tr th:only-of-type {\n",
              "        vertical-align: middle;\n",
              "    }\n",
              "\n",
              "    .dataframe tbody tr th {\n",
              "        vertical-align: top;\n",
              "    }\n",
              "\n",
              "    .dataframe thead th {\n",
              "        text-align: right;\n",
              "    }\n",
              "</style>\n",
              "<table border=\"1\" class=\"dataframe\">\n",
              "  <thead>\n",
              "    <tr style=\"text-align: right;\">\n",
              "      <th></th>\n",
              "      <th>mpg</th>\n",
              "      <th>cylinders</th>\n",
              "      <th>displacement</th>\n",
              "      <th>horsepower</th>\n",
              "      <th>weight</th>\n",
              "      <th>acceleration</th>\n",
              "      <th>model_year</th>\n",
              "      <th>origin</th>\n",
              "      <th>car_name</th>\n",
              "    </tr>\n",
              "  </thead>\n",
              "  <tbody>\n",
              "    <tr>\n",
              "      <th>0</th>\n",
              "      <td>18.0</td>\n",
              "      <td>8</td>\n",
              "      <td>307.0</td>\n",
              "      <td>130</td>\n",
              "      <td>3504</td>\n",
              "      <td>12.0</td>\n",
              "      <td>70</td>\n",
              "      <td>1</td>\n",
              "      <td>chevrolet chevelle malibu</td>\n",
              "    </tr>\n",
              "    <tr>\n",
              "      <th>1</th>\n",
              "      <td>15.0</td>\n",
              "      <td>8</td>\n",
              "      <td>350.0</td>\n",
              "      <td>165</td>\n",
              "      <td>3693</td>\n",
              "      <td>11.5</td>\n",
              "      <td>70</td>\n",
              "      <td>1</td>\n",
              "      <td>buick skylark 320</td>\n",
              "    </tr>\n",
              "    <tr>\n",
              "      <th>2</th>\n",
              "      <td>18.0</td>\n",
              "      <td>8</td>\n",
              "      <td>318.0</td>\n",
              "      <td>150</td>\n",
              "      <td>3436</td>\n",
              "      <td>11.0</td>\n",
              "      <td>70</td>\n",
              "      <td>1</td>\n",
              "      <td>plymouth satellite</td>\n",
              "    </tr>\n",
              "    <tr>\n",
              "      <th>3</th>\n",
              "      <td>16.0</td>\n",
              "      <td>8</td>\n",
              "      <td>304.0</td>\n",
              "      <td>150</td>\n",
              "      <td>3433</td>\n",
              "      <td>12.0</td>\n",
              "      <td>70</td>\n",
              "      <td>1</td>\n",
              "      <td>amc rebel sst</td>\n",
              "    </tr>\n",
              "    <tr>\n",
              "      <th>4</th>\n",
              "      <td>17.0</td>\n",
              "      <td>8</td>\n",
              "      <td>302.0</td>\n",
              "      <td>140</td>\n",
              "      <td>3449</td>\n",
              "      <td>10.5</td>\n",
              "      <td>70</td>\n",
              "      <td>1</td>\n",
              "      <td>ford torino</td>\n",
              "    </tr>\n",
              "  </tbody>\n",
              "</table>\n",
              "</div>\n",
              "      <button class=\"colab-df-convert\" onclick=\"convertToInteractive('df-95414b09-7161-434a-b301-24980644c4cc')\"\n",
              "              title=\"Convert this dataframe to an interactive table.\"\n",
              "              style=\"display:none;\">\n",
              "        \n",
              "  <svg xmlns=\"http://www.w3.org/2000/svg\" height=\"24px\"viewBox=\"0 0 24 24\"\n",
              "       width=\"24px\">\n",
              "    <path d=\"M0 0h24v24H0V0z\" fill=\"none\"/>\n",
              "    <path d=\"M18.56 5.44l.94 2.06.94-2.06 2.06-.94-2.06-.94-.94-2.06-.94 2.06-2.06.94zm-11 1L8.5 8.5l.94-2.06 2.06-.94-2.06-.94L8.5 2.5l-.94 2.06-2.06.94zm10 10l.94 2.06.94-2.06 2.06-.94-2.06-.94-.94-2.06-.94 2.06-2.06.94z\"/><path d=\"M17.41 7.96l-1.37-1.37c-.4-.4-.92-.59-1.43-.59-.52 0-1.04.2-1.43.59L10.3 9.45l-7.72 7.72c-.78.78-.78 2.05 0 2.83L4 21.41c.39.39.9.59 1.41.59.51 0 1.02-.2 1.41-.59l7.78-7.78 2.81-2.81c.8-.78.8-2.07 0-2.86zM5.41 20L4 18.59l7.72-7.72 1.47 1.35L5.41 20z\"/>\n",
              "  </svg>\n",
              "      </button>\n",
              "      \n",
              "  <style>\n",
              "    .colab-df-container {\n",
              "      display:flex;\n",
              "      flex-wrap:wrap;\n",
              "      gap: 12px;\n",
              "    }\n",
              "\n",
              "    .colab-df-convert {\n",
              "      background-color: #E8F0FE;\n",
              "      border: none;\n",
              "      border-radius: 50%;\n",
              "      cursor: pointer;\n",
              "      display: none;\n",
              "      fill: #1967D2;\n",
              "      height: 32px;\n",
              "      padding: 0 0 0 0;\n",
              "      width: 32px;\n",
              "    }\n",
              "\n",
              "    .colab-df-convert:hover {\n",
              "      background-color: #E2EBFA;\n",
              "      box-shadow: 0px 1px 2px rgba(60, 64, 67, 0.3), 0px 1px 3px 1px rgba(60, 64, 67, 0.15);\n",
              "      fill: #174EA6;\n",
              "    }\n",
              "\n",
              "    [theme=dark] .colab-df-convert {\n",
              "      background-color: #3B4455;\n",
              "      fill: #D2E3FC;\n",
              "    }\n",
              "\n",
              "    [theme=dark] .colab-df-convert:hover {\n",
              "      background-color: #434B5C;\n",
              "      box-shadow: 0px 1px 3px 1px rgba(0, 0, 0, 0.15);\n",
              "      filter: drop-shadow(0px 1px 2px rgba(0, 0, 0, 0.3));\n",
              "      fill: #FFFFFF;\n",
              "    }\n",
              "  </style>\n",
              "\n",
              "      <script>\n",
              "        const buttonEl =\n",
              "          document.querySelector('#df-95414b09-7161-434a-b301-24980644c4cc button.colab-df-convert');\n",
              "        buttonEl.style.display =\n",
              "          google.colab.kernel.accessAllowed ? 'block' : 'none';\n",
              "\n",
              "        async function convertToInteractive(key) {\n",
              "          const element = document.querySelector('#df-95414b09-7161-434a-b301-24980644c4cc');\n",
              "          const dataTable =\n",
              "            await google.colab.kernel.invokeFunction('convertToInteractive',\n",
              "                                                     [key], {});\n",
              "          if (!dataTable) return;\n",
              "\n",
              "          const docLinkHtml = 'Like what you see? Visit the ' +\n",
              "            '<a target=\"_blank\" href=https://colab.research.google.com/notebooks/data_table.ipynb>data table notebook</a>'\n",
              "            + ' to learn more about interactive tables.';\n",
              "          element.innerHTML = '';\n",
              "          dataTable['output_type'] = 'display_data';\n",
              "          await google.colab.output.renderOutput(dataTable, element);\n",
              "          const docLink = document.createElement('div');\n",
              "          docLink.innerHTML = docLinkHtml;\n",
              "          element.appendChild(docLink);\n",
              "        }\n",
              "      </script>\n",
              "    </div>\n",
              "  </div>\n",
              "  "
            ]
          },
          "metadata": {},
          "execution_count": 55
        }
      ],
      "source": [
        "# Reads text file and uses '|' as separator\n",
        "auto = pd.read_table('data/tabular/auto_mpg.txt', sep='|')\n",
        "auto.head()"
      ]
    },
    {
      "cell_type": "markdown",
      "metadata": {
        "id": "y3egCbGRzwHu"
      },
      "source": [
        "Answer the following questions about the data:"
      ]
    },
    {
      "cell_type": "markdown",
      "metadata": {
        "id": "1HpyzRLUzwHu"
      },
      "source": [
        "a) What is the shape of the data?"
      ]
    },
    {
      "cell_type": "code",
      "execution_count": 56,
      "metadata": {
        "id": "cqOr1vv5zwHu",
        "colab": {
          "base_uri": "https://localhost:8080/"
        },
        "outputId": "fd17850f-c22f-4feb-b493-79c883d87928"
      },
      "outputs": [
        {
          "output_type": "execute_result",
          "data": {
            "text/plain": [
              "(392, 9)"
            ]
          },
          "metadata": {},
          "execution_count": 56
        }
      ],
      "source": [
        "auto.shape"
      ]
    },
    {
      "cell_type": "markdown",
      "metadata": {
        "id": "bI0D_nfwzwHu"
      },
      "source": [
        "b) How many rows and columns are there?"
      ]
    },
    {
      "cell_type": "code",
      "execution_count": 57,
      "metadata": {
        "id": "YrY1KUZezwHu",
        "colab": {
          "base_uri": "https://localhost:8080/"
        },
        "outputId": "6856d267-2485-46a8-9116-6f8e6b6bd08f"
      },
      "outputs": [
        {
          "output_type": "stream",
          "name": "stdout",
          "text": [
            "392 rows and 9 columns\n"
          ]
        }
      ],
      "source": [
        "print(f'{auto.shape[0]} rows and {auto.shape[1]} columns')"
      ]
    },
    {
      "cell_type": "markdown",
      "metadata": {
        "id": "XBhV_2C7zwHu"
      },
      "source": [
        "c) What variables are available?"
      ]
    },
    {
      "cell_type": "code",
      "execution_count": 58,
      "metadata": {
        "id": "3sHf5pjPzwHu",
        "colab": {
          "base_uri": "https://localhost:8080/"
        },
        "outputId": "0364863c-953c-460d-f1ca-f6f48a4eda1a"
      },
      "outputs": [
        {
          "output_type": "execute_result",
          "data": {
            "text/plain": [
              "Index(['mpg', 'cylinders', 'displacement', 'horsepower', 'weight',\n",
              "       'acceleration', 'model_year', 'origin', 'car_name'],\n",
              "      dtype='object')"
            ]
          },
          "metadata": {},
          "execution_count": 58
        }
      ],
      "source": [
        "auto.columns"
      ]
    },
    {
      "cell_type": "markdown",
      "metadata": {
        "id": "LqFAwDQazwHu"
      },
      "source": [
        "d) What are the ranges for the values in each numeric column?"
      ]
    },
    {
      "cell_type": "code",
      "execution_count": 59,
      "metadata": {
        "id": "8rlTp8_TzwHu",
        "colab": {
          "base_uri": "https://localhost:8080/"
        },
        "outputId": "c19cd5ab-7933-4fd4-db92-725dfbe76c82"
      },
      "outputs": [
        {
          "output_type": "stream",
          "name": "stdout",
          "text": [
            "mins:\n",
            "mpg                9.0\n",
            "cylinders          3.0\n",
            "displacement      68.0\n",
            "horsepower        46.0\n",
            "weight          1613.0\n",
            "acceleration       8.0\n",
            "model_year        70.0\n",
            "origin             1.0\n",
            "dtype: float64\n",
            "\n",
            "maxes:\n",
            "mpg               46.6\n",
            "cylinders          8.0\n",
            "displacement     455.0\n",
            "horsepower       230.0\n",
            "weight          5140.0\n",
            "acceleration      24.8\n",
            "model_year        82.0\n",
            "origin             3.0\n",
            "dtype: float64\n"
          ]
        }
      ],
      "source": [
        "maxes = auto.select_dtypes('number').max()\n",
        "mins = auto.select_dtypes('number').min()\n",
        "print(f'mins:\\n{mins}\\n\\nmaxes:\\n{maxes}')\n",
        "# auto.select_dtypes('number').max() - auto.select_dtypes('number').min()"
      ]
    },
    {
      "cell_type": "markdown",
      "metadata": {
        "id": "81ewPMjTzwHu"
      },
      "source": [
        "e) What is the average value for each column?  Does that differ significantly\n",
        "  from the median?"
      ]
    },
    {
      "cell_type": "markdown",
      "source": [
        "In absolute terms, the displacement and weight values differ a decent amount between the average and the median, with horsepower varying as well.\n",
        "The other categories have very small numerical differences of <= 2 in absolute value.  \n",
        "If we look at percent change between averages and medians; however, cylinders, displacement, and origin are all significantly different \n",
        "at roughly 30% and above.  \n"
      ],
      "metadata": {
        "id": "OcCji1-ozb1K"
      }
    },
    {
      "cell_type": "code",
      "execution_count": 60,
      "metadata": {
        "id": "hVXW3nwvzwHu",
        "colab": {
          "base_uri": "https://localhost:8080/",
          "height": 316
        },
        "outputId": "4de5a9c1-14bf-438d-ad46-490f726e9409"
      },
      "outputs": [
        {
          "output_type": "execute_result",
          "data": {
            "text/plain": [
              "                                 mpg  cylinders  displacement  horsepower  \\\n",
              "mins                        9.000000   3.000000      68.00000   46.000000   \n",
              "maxes                      46.600000   8.000000     455.00000  230.000000   \n",
              "averages                   23.445918   5.471939     194.41199  104.469388   \n",
              "medians                    22.750000   4.000000     151.00000   93.500000   \n",
              "abs difference (avg, med)   0.695918   1.471939      43.41199   10.969388   \n",
              "pct change (avg, med)       3.060000  36.800000      28.75000   11.730000   \n",
              "\n",
              "                                weight  acceleration  model_year     origin  \n",
              "mins                       1613.000000      8.000000   70.000000   1.000000  \n",
              "maxes                      5140.000000     24.800000   82.000000   3.000000  \n",
              "averages                   2977.584184     15.541327   75.979592   1.576531  \n",
              "medians                    2803.500000     15.500000   76.000000   1.000000  \n",
              "abs difference (avg, med)   174.084184      0.041327    0.020408   0.576531  \n",
              "pct change (avg, med)         6.210000      0.270000    0.030000  57.650000  "
            ],
            "text/html": [
              "\n",
              "  <div id=\"df-e7eca8c0-ff83-47f7-81fc-66f3285d3e6f\">\n",
              "    <div class=\"colab-df-container\">\n",
              "      <div>\n",
              "<style scoped>\n",
              "    .dataframe tbody tr th:only-of-type {\n",
              "        vertical-align: middle;\n",
              "    }\n",
              "\n",
              "    .dataframe tbody tr th {\n",
              "        vertical-align: top;\n",
              "    }\n",
              "\n",
              "    .dataframe thead th {\n",
              "        text-align: right;\n",
              "    }\n",
              "</style>\n",
              "<table border=\"1\" class=\"dataframe\">\n",
              "  <thead>\n",
              "    <tr style=\"text-align: right;\">\n",
              "      <th></th>\n",
              "      <th>mpg</th>\n",
              "      <th>cylinders</th>\n",
              "      <th>displacement</th>\n",
              "      <th>horsepower</th>\n",
              "      <th>weight</th>\n",
              "      <th>acceleration</th>\n",
              "      <th>model_year</th>\n",
              "      <th>origin</th>\n",
              "    </tr>\n",
              "  </thead>\n",
              "  <tbody>\n",
              "    <tr>\n",
              "      <th>mins</th>\n",
              "      <td>9.000000</td>\n",
              "      <td>3.000000</td>\n",
              "      <td>68.00000</td>\n",
              "      <td>46.000000</td>\n",
              "      <td>1613.000000</td>\n",
              "      <td>8.000000</td>\n",
              "      <td>70.000000</td>\n",
              "      <td>1.000000</td>\n",
              "    </tr>\n",
              "    <tr>\n",
              "      <th>maxes</th>\n",
              "      <td>46.600000</td>\n",
              "      <td>8.000000</td>\n",
              "      <td>455.00000</td>\n",
              "      <td>230.000000</td>\n",
              "      <td>5140.000000</td>\n",
              "      <td>24.800000</td>\n",
              "      <td>82.000000</td>\n",
              "      <td>3.000000</td>\n",
              "    </tr>\n",
              "    <tr>\n",
              "      <th>averages</th>\n",
              "      <td>23.445918</td>\n",
              "      <td>5.471939</td>\n",
              "      <td>194.41199</td>\n",
              "      <td>104.469388</td>\n",
              "      <td>2977.584184</td>\n",
              "      <td>15.541327</td>\n",
              "      <td>75.979592</td>\n",
              "      <td>1.576531</td>\n",
              "    </tr>\n",
              "    <tr>\n",
              "      <th>medians</th>\n",
              "      <td>22.750000</td>\n",
              "      <td>4.000000</td>\n",
              "      <td>151.00000</td>\n",
              "      <td>93.500000</td>\n",
              "      <td>2803.500000</td>\n",
              "      <td>15.500000</td>\n",
              "      <td>76.000000</td>\n",
              "      <td>1.000000</td>\n",
              "    </tr>\n",
              "    <tr>\n",
              "      <th>abs difference (avg, med)</th>\n",
              "      <td>0.695918</td>\n",
              "      <td>1.471939</td>\n",
              "      <td>43.41199</td>\n",
              "      <td>10.969388</td>\n",
              "      <td>174.084184</td>\n",
              "      <td>0.041327</td>\n",
              "      <td>0.020408</td>\n",
              "      <td>0.576531</td>\n",
              "    </tr>\n",
              "    <tr>\n",
              "      <th>pct change (avg, med)</th>\n",
              "      <td>3.060000</td>\n",
              "      <td>36.800000</td>\n",
              "      <td>28.75000</td>\n",
              "      <td>11.730000</td>\n",
              "      <td>6.210000</td>\n",
              "      <td>0.270000</td>\n",
              "      <td>0.030000</td>\n",
              "      <td>57.650000</td>\n",
              "    </tr>\n",
              "  </tbody>\n",
              "</table>\n",
              "</div>\n",
              "      <button class=\"colab-df-convert\" onclick=\"convertToInteractive('df-e7eca8c0-ff83-47f7-81fc-66f3285d3e6f')\"\n",
              "              title=\"Convert this dataframe to an interactive table.\"\n",
              "              style=\"display:none;\">\n",
              "        \n",
              "  <svg xmlns=\"http://www.w3.org/2000/svg\" height=\"24px\"viewBox=\"0 0 24 24\"\n",
              "       width=\"24px\">\n",
              "    <path d=\"M0 0h24v24H0V0z\" fill=\"none\"/>\n",
              "    <path d=\"M18.56 5.44l.94 2.06.94-2.06 2.06-.94-2.06-.94-.94-2.06-.94 2.06-2.06.94zm-11 1L8.5 8.5l.94-2.06 2.06-.94-2.06-.94L8.5 2.5l-.94 2.06-2.06.94zm10 10l.94 2.06.94-2.06 2.06-.94-2.06-.94-.94-2.06-.94 2.06-2.06.94z\"/><path d=\"M17.41 7.96l-1.37-1.37c-.4-.4-.92-.59-1.43-.59-.52 0-1.04.2-1.43.59L10.3 9.45l-7.72 7.72c-.78.78-.78 2.05 0 2.83L4 21.41c.39.39.9.59 1.41.59.51 0 1.02-.2 1.41-.59l7.78-7.78 2.81-2.81c.8-.78.8-2.07 0-2.86zM5.41 20L4 18.59l7.72-7.72 1.47 1.35L5.41 20z\"/>\n",
              "  </svg>\n",
              "      </button>\n",
              "      \n",
              "  <style>\n",
              "    .colab-df-container {\n",
              "      display:flex;\n",
              "      flex-wrap:wrap;\n",
              "      gap: 12px;\n",
              "    }\n",
              "\n",
              "    .colab-df-convert {\n",
              "      background-color: #E8F0FE;\n",
              "      border: none;\n",
              "      border-radius: 50%;\n",
              "      cursor: pointer;\n",
              "      display: none;\n",
              "      fill: #1967D2;\n",
              "      height: 32px;\n",
              "      padding: 0 0 0 0;\n",
              "      width: 32px;\n",
              "    }\n",
              "\n",
              "    .colab-df-convert:hover {\n",
              "      background-color: #E2EBFA;\n",
              "      box-shadow: 0px 1px 2px rgba(60, 64, 67, 0.3), 0px 1px 3px 1px rgba(60, 64, 67, 0.15);\n",
              "      fill: #174EA6;\n",
              "    }\n",
              "\n",
              "    [theme=dark] .colab-df-convert {\n",
              "      background-color: #3B4455;\n",
              "      fill: #D2E3FC;\n",
              "    }\n",
              "\n",
              "    [theme=dark] .colab-df-convert:hover {\n",
              "      background-color: #434B5C;\n",
              "      box-shadow: 0px 1px 3px 1px rgba(0, 0, 0, 0.15);\n",
              "      filter: drop-shadow(0px 1px 2px rgba(0, 0, 0, 0.3));\n",
              "      fill: #FFFFFF;\n",
              "    }\n",
              "  </style>\n",
              "\n",
              "      <script>\n",
              "        const buttonEl =\n",
              "          document.querySelector('#df-e7eca8c0-ff83-47f7-81fc-66f3285d3e6f button.colab-df-convert');\n",
              "        buttonEl.style.display =\n",
              "          google.colab.kernel.accessAllowed ? 'block' : 'none';\n",
              "\n",
              "        async function convertToInteractive(key) {\n",
              "          const element = document.querySelector('#df-e7eca8c0-ff83-47f7-81fc-66f3285d3e6f');\n",
              "          const dataTable =\n",
              "            await google.colab.kernel.invokeFunction('convertToInteractive',\n",
              "                                                     [key], {});\n",
              "          if (!dataTable) return;\n",
              "\n",
              "          const docLinkHtml = 'Like what you see? Visit the ' +\n",
              "            '<a target=\"_blank\" href=https://colab.research.google.com/notebooks/data_table.ipynb>data table notebook</a>'\n",
              "            + ' to learn more about interactive tables.';\n",
              "          element.innerHTML = '';\n",
              "          dataTable['output_type'] = 'display_data';\n",
              "          await google.colab.output.renderOutput(dataTable, element);\n",
              "          const docLink = document.createElement('div');\n",
              "          docLink.innerHTML = docLinkHtml;\n",
              "          element.appendChild(docLink);\n",
              "        }\n",
              "      </script>\n",
              "    </div>\n",
              "  </div>\n",
              "  "
            ]
          },
          "metadata": {},
          "execution_count": 60
        }
      ],
      "source": [
        "import warnings # to suppress pesky warnings from interfering from reading the analysis \\/ \n",
        "warnings.simplefilter(action='ignore', category=FutureWarning)\n",
        "''' example:\n",
        "<ipython-input-325-60fbf316ac7b>:1: FutureWarning: Dropping of nuisance columns in DataFrame reductions\n",
        " (with 'numeric_only=None') is deprecated; in a future version this will raise TypeError.  \n",
        " Select only valid columns before calling the reduction.\n",
        "'''\n",
        "averages = auto.mean()\n",
        "medians = auto.median()\n",
        "diffs = abs(averages - medians)\n",
        "\n",
        "pct_change = []\n",
        "for i, j in zip(averages, medians):\n",
        "    ans = abs(round( ((j-i)/abs(j) * 100), 2))\n",
        "    pct_change.append(ans)\n",
        "\n",
        "temp_df = pd.DataFrame(mins).T # index 0\n",
        "temp_df.loc[1] = maxes\n",
        "temp_df.loc[2] = averages\n",
        "temp_df.loc[3] = medians\n",
        "temp_df.loc[4] = diffs\n",
        "temp_df.loc[5] = pct_change\n",
        "\n",
        "temp_df.index = ['mins', 'maxes', 'averages', 'medians', 'abs difference (avg, med)', 'pct change (avg, med)']\n",
        "temp_df"
      ]
    },
    {
      "cell_type": "markdown",
      "metadata": {
        "id": "NQwxged-zwHu"
      },
      "source": [
        "Answer the following questions about the data:"
      ]
    },
    {
      "cell_type": "markdown",
      "metadata": {
        "id": "SYLz3YOnzwHu"
      },
      "source": [
        "a) Which 5 cars get the best gas mileage?"
      ]
    },
    {
      "cell_type": "code",
      "execution_count": 61,
      "metadata": {
        "id": "yCVWZ0UVzwHu",
        "colab": {
          "base_uri": "https://localhost:8080/",
          "height": 250
        },
        "outputId": "bc5d92e4-9da6-4487-f57a-ca4eab260024"
      },
      "outputs": [
        {
          "output_type": "execute_result",
          "data": {
            "text/plain": [
              "      mpg  cylinders  displacement  horsepower  weight  acceleration  \\\n",
              "320  46.6          4          86.0          65    2110          17.9   \n",
              "327  44.6          4          91.0          67    1850          13.8   \n",
              "323  44.3          4          90.0          48    2085          21.7   \n",
              "388  44.0          4          97.0          52    2130          24.6   \n",
              "324  43.4          4          90.0          48    2335          23.7   \n",
              "\n",
              "     model_year  origin              car_name  \n",
              "320          80       3             mazda glc  \n",
              "327          80       3   honda civic 1500 gl  \n",
              "323          80       2  vw rabbit c (diesel)  \n",
              "388          82       2             vw pickup  \n",
              "324          80       2    vw dasher (diesel)  "
            ],
            "text/html": [
              "\n",
              "  <div id=\"df-3aea9b9f-6b82-4245-9139-19a2acf2a41f\">\n",
              "    <div class=\"colab-df-container\">\n",
              "      <div>\n",
              "<style scoped>\n",
              "    .dataframe tbody tr th:only-of-type {\n",
              "        vertical-align: middle;\n",
              "    }\n",
              "\n",
              "    .dataframe tbody tr th {\n",
              "        vertical-align: top;\n",
              "    }\n",
              "\n",
              "    .dataframe thead th {\n",
              "        text-align: right;\n",
              "    }\n",
              "</style>\n",
              "<table border=\"1\" class=\"dataframe\">\n",
              "  <thead>\n",
              "    <tr style=\"text-align: right;\">\n",
              "      <th></th>\n",
              "      <th>mpg</th>\n",
              "      <th>cylinders</th>\n",
              "      <th>displacement</th>\n",
              "      <th>horsepower</th>\n",
              "      <th>weight</th>\n",
              "      <th>acceleration</th>\n",
              "      <th>model_year</th>\n",
              "      <th>origin</th>\n",
              "      <th>car_name</th>\n",
              "    </tr>\n",
              "  </thead>\n",
              "  <tbody>\n",
              "    <tr>\n",
              "      <th>320</th>\n",
              "      <td>46.6</td>\n",
              "      <td>4</td>\n",
              "      <td>86.0</td>\n",
              "      <td>65</td>\n",
              "      <td>2110</td>\n",
              "      <td>17.9</td>\n",
              "      <td>80</td>\n",
              "      <td>3</td>\n",
              "      <td>mazda glc</td>\n",
              "    </tr>\n",
              "    <tr>\n",
              "      <th>327</th>\n",
              "      <td>44.6</td>\n",
              "      <td>4</td>\n",
              "      <td>91.0</td>\n",
              "      <td>67</td>\n",
              "      <td>1850</td>\n",
              "      <td>13.8</td>\n",
              "      <td>80</td>\n",
              "      <td>3</td>\n",
              "      <td>honda civic 1500 gl</td>\n",
              "    </tr>\n",
              "    <tr>\n",
              "      <th>323</th>\n",
              "      <td>44.3</td>\n",
              "      <td>4</td>\n",
              "      <td>90.0</td>\n",
              "      <td>48</td>\n",
              "      <td>2085</td>\n",
              "      <td>21.7</td>\n",
              "      <td>80</td>\n",
              "      <td>2</td>\n",
              "      <td>vw rabbit c (diesel)</td>\n",
              "    </tr>\n",
              "    <tr>\n",
              "      <th>388</th>\n",
              "      <td>44.0</td>\n",
              "      <td>4</td>\n",
              "      <td>97.0</td>\n",
              "      <td>52</td>\n",
              "      <td>2130</td>\n",
              "      <td>24.6</td>\n",
              "      <td>82</td>\n",
              "      <td>2</td>\n",
              "      <td>vw pickup</td>\n",
              "    </tr>\n",
              "    <tr>\n",
              "      <th>324</th>\n",
              "      <td>43.4</td>\n",
              "      <td>4</td>\n",
              "      <td>90.0</td>\n",
              "      <td>48</td>\n",
              "      <td>2335</td>\n",
              "      <td>23.7</td>\n",
              "      <td>80</td>\n",
              "      <td>2</td>\n",
              "      <td>vw dasher (diesel)</td>\n",
              "    </tr>\n",
              "  </tbody>\n",
              "</table>\n",
              "</div>\n",
              "      <button class=\"colab-df-convert\" onclick=\"convertToInteractive('df-3aea9b9f-6b82-4245-9139-19a2acf2a41f')\"\n",
              "              title=\"Convert this dataframe to an interactive table.\"\n",
              "              style=\"display:none;\">\n",
              "        \n",
              "  <svg xmlns=\"http://www.w3.org/2000/svg\" height=\"24px\"viewBox=\"0 0 24 24\"\n",
              "       width=\"24px\">\n",
              "    <path d=\"M0 0h24v24H0V0z\" fill=\"none\"/>\n",
              "    <path d=\"M18.56 5.44l.94 2.06.94-2.06 2.06-.94-2.06-.94-.94-2.06-.94 2.06-2.06.94zm-11 1L8.5 8.5l.94-2.06 2.06-.94-2.06-.94L8.5 2.5l-.94 2.06-2.06.94zm10 10l.94 2.06.94-2.06 2.06-.94-2.06-.94-.94-2.06-.94 2.06-2.06.94z\"/><path d=\"M17.41 7.96l-1.37-1.37c-.4-.4-.92-.59-1.43-.59-.52 0-1.04.2-1.43.59L10.3 9.45l-7.72 7.72c-.78.78-.78 2.05 0 2.83L4 21.41c.39.39.9.59 1.41.59.51 0 1.02-.2 1.41-.59l7.78-7.78 2.81-2.81c.8-.78.8-2.07 0-2.86zM5.41 20L4 18.59l7.72-7.72 1.47 1.35L5.41 20z\"/>\n",
              "  </svg>\n",
              "      </button>\n",
              "      \n",
              "  <style>\n",
              "    .colab-df-container {\n",
              "      display:flex;\n",
              "      flex-wrap:wrap;\n",
              "      gap: 12px;\n",
              "    }\n",
              "\n",
              "    .colab-df-convert {\n",
              "      background-color: #E8F0FE;\n",
              "      border: none;\n",
              "      border-radius: 50%;\n",
              "      cursor: pointer;\n",
              "      display: none;\n",
              "      fill: #1967D2;\n",
              "      height: 32px;\n",
              "      padding: 0 0 0 0;\n",
              "      width: 32px;\n",
              "    }\n",
              "\n",
              "    .colab-df-convert:hover {\n",
              "      background-color: #E2EBFA;\n",
              "      box-shadow: 0px 1px 2px rgba(60, 64, 67, 0.3), 0px 1px 3px 1px rgba(60, 64, 67, 0.15);\n",
              "      fill: #174EA6;\n",
              "    }\n",
              "\n",
              "    [theme=dark] .colab-df-convert {\n",
              "      background-color: #3B4455;\n",
              "      fill: #D2E3FC;\n",
              "    }\n",
              "\n",
              "    [theme=dark] .colab-df-convert:hover {\n",
              "      background-color: #434B5C;\n",
              "      box-shadow: 0px 1px 3px 1px rgba(0, 0, 0, 0.15);\n",
              "      filter: drop-shadow(0px 1px 2px rgba(0, 0, 0, 0.3));\n",
              "      fill: #FFFFFF;\n",
              "    }\n",
              "  </style>\n",
              "\n",
              "      <script>\n",
              "        const buttonEl =\n",
              "          document.querySelector('#df-3aea9b9f-6b82-4245-9139-19a2acf2a41f button.colab-df-convert');\n",
              "        buttonEl.style.display =\n",
              "          google.colab.kernel.accessAllowed ? 'block' : 'none';\n",
              "\n",
              "        async function convertToInteractive(key) {\n",
              "          const element = document.querySelector('#df-3aea9b9f-6b82-4245-9139-19a2acf2a41f');\n",
              "          const dataTable =\n",
              "            await google.colab.kernel.invokeFunction('convertToInteractive',\n",
              "                                                     [key], {});\n",
              "          if (!dataTable) return;\n",
              "\n",
              "          const docLinkHtml = 'Like what you see? Visit the ' +\n",
              "            '<a target=\"_blank\" href=https://colab.research.google.com/notebooks/data_table.ipynb>data table notebook</a>'\n",
              "            + ' to learn more about interactive tables.';\n",
              "          element.innerHTML = '';\n",
              "          dataTable['output_type'] = 'display_data';\n",
              "          await google.colab.output.renderOutput(dataTable, element);\n",
              "          const docLink = document.createElement('div');\n",
              "          docLink.innerHTML = docLinkHtml;\n",
              "          element.appendChild(docLink);\n",
              "        }\n",
              "      </script>\n",
              "    </div>\n",
              "  </div>\n",
              "  "
            ]
          },
          "metadata": {},
          "execution_count": 61
        }
      ],
      "source": [
        "auto.sort_values('mpg', ascending=False).head(5)"
      ]
    },
    {
      "cell_type": "markdown",
      "metadata": {
        "id": "0CqUw-_dzwHu"
      },
      "source": [
        "b) Which 5 cars with more than 4 cylinders get the best gas mileage?"
      ]
    },
    {
      "cell_type": "code",
      "execution_count": 62,
      "metadata": {
        "id": "gwgbsLSYzwHu",
        "colab": {
          "base_uri": "https://localhost:8080/",
          "height": 268
        },
        "outputId": "60376e2f-e49f-40ba-9a74-9e1abb94eeed"
      },
      "outputs": [
        {
          "output_type": "execute_result",
          "data": {
            "text/plain": [
              "      mpg  cylinders  displacement  horsepower  weight  acceleration  \\\n",
              "381  38.0          6         262.0          85    3015          17.0   \n",
              "325  36.4          5         121.0          67    2950          19.9   \n",
              "330  32.7          6         168.0         132    2910          11.4   \n",
              "355  30.7          6         145.0          76    3160          19.6   \n",
              "304  28.8          6         173.0         115    2595          11.3   \n",
              "\n",
              "     model_year  origin                           car_name  \n",
              "381          82       1  oldsmobile cutlass ciera (diesel)  \n",
              "325          80       2                audi 5000s (diesel)  \n",
              "330          80       3                      datsun 280-zx  \n",
              "355          81       2                       volvo diesel  \n",
              "304          79       1                 chevrolet citation  "
            ],
            "text/html": [
              "\n",
              "  <div id=\"df-6d9fb807-589d-4702-ad51-1e5010d560c0\">\n",
              "    <div class=\"colab-df-container\">\n",
              "      <div>\n",
              "<style scoped>\n",
              "    .dataframe tbody tr th:only-of-type {\n",
              "        vertical-align: middle;\n",
              "    }\n",
              "\n",
              "    .dataframe tbody tr th {\n",
              "        vertical-align: top;\n",
              "    }\n",
              "\n",
              "    .dataframe thead th {\n",
              "        text-align: right;\n",
              "    }\n",
              "</style>\n",
              "<table border=\"1\" class=\"dataframe\">\n",
              "  <thead>\n",
              "    <tr style=\"text-align: right;\">\n",
              "      <th></th>\n",
              "      <th>mpg</th>\n",
              "      <th>cylinders</th>\n",
              "      <th>displacement</th>\n",
              "      <th>horsepower</th>\n",
              "      <th>weight</th>\n",
              "      <th>acceleration</th>\n",
              "      <th>model_year</th>\n",
              "      <th>origin</th>\n",
              "      <th>car_name</th>\n",
              "    </tr>\n",
              "  </thead>\n",
              "  <tbody>\n",
              "    <tr>\n",
              "      <th>381</th>\n",
              "      <td>38.0</td>\n",
              "      <td>6</td>\n",
              "      <td>262.0</td>\n",
              "      <td>85</td>\n",
              "      <td>3015</td>\n",
              "      <td>17.0</td>\n",
              "      <td>82</td>\n",
              "      <td>1</td>\n",
              "      <td>oldsmobile cutlass ciera (diesel)</td>\n",
              "    </tr>\n",
              "    <tr>\n",
              "      <th>325</th>\n",
              "      <td>36.4</td>\n",
              "      <td>5</td>\n",
              "      <td>121.0</td>\n",
              "      <td>67</td>\n",
              "      <td>2950</td>\n",
              "      <td>19.9</td>\n",
              "      <td>80</td>\n",
              "      <td>2</td>\n",
              "      <td>audi 5000s (diesel)</td>\n",
              "    </tr>\n",
              "    <tr>\n",
              "      <th>330</th>\n",
              "      <td>32.7</td>\n",
              "      <td>6</td>\n",
              "      <td>168.0</td>\n",
              "      <td>132</td>\n",
              "      <td>2910</td>\n",
              "      <td>11.4</td>\n",
              "      <td>80</td>\n",
              "      <td>3</td>\n",
              "      <td>datsun 280-zx</td>\n",
              "    </tr>\n",
              "    <tr>\n",
              "      <th>355</th>\n",
              "      <td>30.7</td>\n",
              "      <td>6</td>\n",
              "      <td>145.0</td>\n",
              "      <td>76</td>\n",
              "      <td>3160</td>\n",
              "      <td>19.6</td>\n",
              "      <td>81</td>\n",
              "      <td>2</td>\n",
              "      <td>volvo diesel</td>\n",
              "    </tr>\n",
              "    <tr>\n",
              "      <th>304</th>\n",
              "      <td>28.8</td>\n",
              "      <td>6</td>\n",
              "      <td>173.0</td>\n",
              "      <td>115</td>\n",
              "      <td>2595</td>\n",
              "      <td>11.3</td>\n",
              "      <td>79</td>\n",
              "      <td>1</td>\n",
              "      <td>chevrolet citation</td>\n",
              "    </tr>\n",
              "  </tbody>\n",
              "</table>\n",
              "</div>\n",
              "      <button class=\"colab-df-convert\" onclick=\"convertToInteractive('df-6d9fb807-589d-4702-ad51-1e5010d560c0')\"\n",
              "              title=\"Convert this dataframe to an interactive table.\"\n",
              "              style=\"display:none;\">\n",
              "        \n",
              "  <svg xmlns=\"http://www.w3.org/2000/svg\" height=\"24px\"viewBox=\"0 0 24 24\"\n",
              "       width=\"24px\">\n",
              "    <path d=\"M0 0h24v24H0V0z\" fill=\"none\"/>\n",
              "    <path d=\"M18.56 5.44l.94 2.06.94-2.06 2.06-.94-2.06-.94-.94-2.06-.94 2.06-2.06.94zm-11 1L8.5 8.5l.94-2.06 2.06-.94-2.06-.94L8.5 2.5l-.94 2.06-2.06.94zm10 10l.94 2.06.94-2.06 2.06-.94-2.06-.94-.94-2.06-.94 2.06-2.06.94z\"/><path d=\"M17.41 7.96l-1.37-1.37c-.4-.4-.92-.59-1.43-.59-.52 0-1.04.2-1.43.59L10.3 9.45l-7.72 7.72c-.78.78-.78 2.05 0 2.83L4 21.41c.39.39.9.59 1.41.59.51 0 1.02-.2 1.41-.59l7.78-7.78 2.81-2.81c.8-.78.8-2.07 0-2.86zM5.41 20L4 18.59l7.72-7.72 1.47 1.35L5.41 20z\"/>\n",
              "  </svg>\n",
              "      </button>\n",
              "      \n",
              "  <style>\n",
              "    .colab-df-container {\n",
              "      display:flex;\n",
              "      flex-wrap:wrap;\n",
              "      gap: 12px;\n",
              "    }\n",
              "\n",
              "    .colab-df-convert {\n",
              "      background-color: #E8F0FE;\n",
              "      border: none;\n",
              "      border-radius: 50%;\n",
              "      cursor: pointer;\n",
              "      display: none;\n",
              "      fill: #1967D2;\n",
              "      height: 32px;\n",
              "      padding: 0 0 0 0;\n",
              "      width: 32px;\n",
              "    }\n",
              "\n",
              "    .colab-df-convert:hover {\n",
              "      background-color: #E2EBFA;\n",
              "      box-shadow: 0px 1px 2px rgba(60, 64, 67, 0.3), 0px 1px 3px 1px rgba(60, 64, 67, 0.15);\n",
              "      fill: #174EA6;\n",
              "    }\n",
              "\n",
              "    [theme=dark] .colab-df-convert {\n",
              "      background-color: #3B4455;\n",
              "      fill: #D2E3FC;\n",
              "    }\n",
              "\n",
              "    [theme=dark] .colab-df-convert:hover {\n",
              "      background-color: #434B5C;\n",
              "      box-shadow: 0px 1px 3px 1px rgba(0, 0, 0, 0.15);\n",
              "      filter: drop-shadow(0px 1px 2px rgba(0, 0, 0, 0.3));\n",
              "      fill: #FFFFFF;\n",
              "    }\n",
              "  </style>\n",
              "\n",
              "      <script>\n",
              "        const buttonEl =\n",
              "          document.querySelector('#df-6d9fb807-589d-4702-ad51-1e5010d560c0 button.colab-df-convert');\n",
              "        buttonEl.style.display =\n",
              "          google.colab.kernel.accessAllowed ? 'block' : 'none';\n",
              "\n",
              "        async function convertToInteractive(key) {\n",
              "          const element = document.querySelector('#df-6d9fb807-589d-4702-ad51-1e5010d560c0');\n",
              "          const dataTable =\n",
              "            await google.colab.kernel.invokeFunction('convertToInteractive',\n",
              "                                                     [key], {});\n",
              "          if (!dataTable) return;\n",
              "\n",
              "          const docLinkHtml = 'Like what you see? Visit the ' +\n",
              "            '<a target=\"_blank\" href=https://colab.research.google.com/notebooks/data_table.ipynb>data table notebook</a>'\n",
              "            + ' to learn more about interactive tables.';\n",
              "          element.innerHTML = '';\n",
              "          dataTable['output_type'] = 'display_data';\n",
              "          await google.colab.output.renderOutput(dataTable, element);\n",
              "          const docLink = document.createElement('div');\n",
              "          docLink.innerHTML = docLinkHtml;\n",
              "          element.appendChild(docLink);\n",
              "        }\n",
              "      </script>\n",
              "    </div>\n",
              "  </div>\n",
              "  "
            ]
          },
          "metadata": {},
          "execution_count": 62
        }
      ],
      "source": [
        "auto[auto.cylinders > 4].sort_values(by=['mpg'], ascending=False).head(5)"
      ]
    },
    {
      "cell_type": "markdown",
      "metadata": {
        "id": "S3qSPTKnzwHu"
      },
      "source": [
        "c) Which 5 cars get the worst gas mileage?"
      ]
    },
    {
      "cell_type": "code",
      "execution_count": 63,
      "metadata": {
        "id": "6wdhBMxhzwHu",
        "colab": {
          "base_uri": "https://localhost:8080/",
          "height": 250
        },
        "outputId": "ded0409e-7f58-4924-9e18-0b18c95e52e0"
      },
      "outputs": [
        {
          "output_type": "execute_result",
          "data": {
            "text/plain": [
              "      mpg  cylinders  displacement  horsepower  weight  acceleration  \\\n",
              "28    9.0          8         304.0         193    4732          18.5   \n",
              "26   10.0          8         307.0         200    4376          15.0   \n",
              "25   10.0          8         360.0         215    4615          14.0   \n",
              "27   11.0          8         318.0         210    4382          13.5   \n",
              "123  11.0          8         350.0         180    3664          11.0   \n",
              "\n",
              "     model_year  origin          car_name  \n",
              "28           70       1          hi 1200d  \n",
              "26           70       1         chevy c20  \n",
              "25           70       1         ford f250  \n",
              "27           70       1        dodge d200  \n",
              "123          73       1  oldsmobile omega  "
            ],
            "text/html": [
              "\n",
              "  <div id=\"df-5c2c6adf-352a-4a22-b95e-49a9f0e014d2\">\n",
              "    <div class=\"colab-df-container\">\n",
              "      <div>\n",
              "<style scoped>\n",
              "    .dataframe tbody tr th:only-of-type {\n",
              "        vertical-align: middle;\n",
              "    }\n",
              "\n",
              "    .dataframe tbody tr th {\n",
              "        vertical-align: top;\n",
              "    }\n",
              "\n",
              "    .dataframe thead th {\n",
              "        text-align: right;\n",
              "    }\n",
              "</style>\n",
              "<table border=\"1\" class=\"dataframe\">\n",
              "  <thead>\n",
              "    <tr style=\"text-align: right;\">\n",
              "      <th></th>\n",
              "      <th>mpg</th>\n",
              "      <th>cylinders</th>\n",
              "      <th>displacement</th>\n",
              "      <th>horsepower</th>\n",
              "      <th>weight</th>\n",
              "      <th>acceleration</th>\n",
              "      <th>model_year</th>\n",
              "      <th>origin</th>\n",
              "      <th>car_name</th>\n",
              "    </tr>\n",
              "  </thead>\n",
              "  <tbody>\n",
              "    <tr>\n",
              "      <th>28</th>\n",
              "      <td>9.0</td>\n",
              "      <td>8</td>\n",
              "      <td>304.0</td>\n",
              "      <td>193</td>\n",
              "      <td>4732</td>\n",
              "      <td>18.5</td>\n",
              "      <td>70</td>\n",
              "      <td>1</td>\n",
              "      <td>hi 1200d</td>\n",
              "    </tr>\n",
              "    <tr>\n",
              "      <th>26</th>\n",
              "      <td>10.0</td>\n",
              "      <td>8</td>\n",
              "      <td>307.0</td>\n",
              "      <td>200</td>\n",
              "      <td>4376</td>\n",
              "      <td>15.0</td>\n",
              "      <td>70</td>\n",
              "      <td>1</td>\n",
              "      <td>chevy c20</td>\n",
              "    </tr>\n",
              "    <tr>\n",
              "      <th>25</th>\n",
              "      <td>10.0</td>\n",
              "      <td>8</td>\n",
              "      <td>360.0</td>\n",
              "      <td>215</td>\n",
              "      <td>4615</td>\n",
              "      <td>14.0</td>\n",
              "      <td>70</td>\n",
              "      <td>1</td>\n",
              "      <td>ford f250</td>\n",
              "    </tr>\n",
              "    <tr>\n",
              "      <th>27</th>\n",
              "      <td>11.0</td>\n",
              "      <td>8</td>\n",
              "      <td>318.0</td>\n",
              "      <td>210</td>\n",
              "      <td>4382</td>\n",
              "      <td>13.5</td>\n",
              "      <td>70</td>\n",
              "      <td>1</td>\n",
              "      <td>dodge d200</td>\n",
              "    </tr>\n",
              "    <tr>\n",
              "      <th>123</th>\n",
              "      <td>11.0</td>\n",
              "      <td>8</td>\n",
              "      <td>350.0</td>\n",
              "      <td>180</td>\n",
              "      <td>3664</td>\n",
              "      <td>11.0</td>\n",
              "      <td>73</td>\n",
              "      <td>1</td>\n",
              "      <td>oldsmobile omega</td>\n",
              "    </tr>\n",
              "  </tbody>\n",
              "</table>\n",
              "</div>\n",
              "      <button class=\"colab-df-convert\" onclick=\"convertToInteractive('df-5c2c6adf-352a-4a22-b95e-49a9f0e014d2')\"\n",
              "              title=\"Convert this dataframe to an interactive table.\"\n",
              "              style=\"display:none;\">\n",
              "        \n",
              "  <svg xmlns=\"http://www.w3.org/2000/svg\" height=\"24px\"viewBox=\"0 0 24 24\"\n",
              "       width=\"24px\">\n",
              "    <path d=\"M0 0h24v24H0V0z\" fill=\"none\"/>\n",
              "    <path d=\"M18.56 5.44l.94 2.06.94-2.06 2.06-.94-2.06-.94-.94-2.06-.94 2.06-2.06.94zm-11 1L8.5 8.5l.94-2.06 2.06-.94-2.06-.94L8.5 2.5l-.94 2.06-2.06.94zm10 10l.94 2.06.94-2.06 2.06-.94-2.06-.94-.94-2.06-.94 2.06-2.06.94z\"/><path d=\"M17.41 7.96l-1.37-1.37c-.4-.4-.92-.59-1.43-.59-.52 0-1.04.2-1.43.59L10.3 9.45l-7.72 7.72c-.78.78-.78 2.05 0 2.83L4 21.41c.39.39.9.59 1.41.59.51 0 1.02-.2 1.41-.59l7.78-7.78 2.81-2.81c.8-.78.8-2.07 0-2.86zM5.41 20L4 18.59l7.72-7.72 1.47 1.35L5.41 20z\"/>\n",
              "  </svg>\n",
              "      </button>\n",
              "      \n",
              "  <style>\n",
              "    .colab-df-container {\n",
              "      display:flex;\n",
              "      flex-wrap:wrap;\n",
              "      gap: 12px;\n",
              "    }\n",
              "\n",
              "    .colab-df-convert {\n",
              "      background-color: #E8F0FE;\n",
              "      border: none;\n",
              "      border-radius: 50%;\n",
              "      cursor: pointer;\n",
              "      display: none;\n",
              "      fill: #1967D2;\n",
              "      height: 32px;\n",
              "      padding: 0 0 0 0;\n",
              "      width: 32px;\n",
              "    }\n",
              "\n",
              "    .colab-df-convert:hover {\n",
              "      background-color: #E2EBFA;\n",
              "      box-shadow: 0px 1px 2px rgba(60, 64, 67, 0.3), 0px 1px 3px 1px rgba(60, 64, 67, 0.15);\n",
              "      fill: #174EA6;\n",
              "    }\n",
              "\n",
              "    [theme=dark] .colab-df-convert {\n",
              "      background-color: #3B4455;\n",
              "      fill: #D2E3FC;\n",
              "    }\n",
              "\n",
              "    [theme=dark] .colab-df-convert:hover {\n",
              "      background-color: #434B5C;\n",
              "      box-shadow: 0px 1px 3px 1px rgba(0, 0, 0, 0.15);\n",
              "      filter: drop-shadow(0px 1px 2px rgba(0, 0, 0, 0.3));\n",
              "      fill: #FFFFFF;\n",
              "    }\n",
              "  </style>\n",
              "\n",
              "      <script>\n",
              "        const buttonEl =\n",
              "          document.querySelector('#df-5c2c6adf-352a-4a22-b95e-49a9f0e014d2 button.colab-df-convert');\n",
              "        buttonEl.style.display =\n",
              "          google.colab.kernel.accessAllowed ? 'block' : 'none';\n",
              "\n",
              "        async function convertToInteractive(key) {\n",
              "          const element = document.querySelector('#df-5c2c6adf-352a-4a22-b95e-49a9f0e014d2');\n",
              "          const dataTable =\n",
              "            await google.colab.kernel.invokeFunction('convertToInteractive',\n",
              "                                                     [key], {});\n",
              "          if (!dataTable) return;\n",
              "\n",
              "          const docLinkHtml = 'Like what you see? Visit the ' +\n",
              "            '<a target=\"_blank\" href=https://colab.research.google.com/notebooks/data_table.ipynb>data table notebook</a>'\n",
              "            + ' to learn more about interactive tables.';\n",
              "          element.innerHTML = '';\n",
              "          dataTable['output_type'] = 'display_data';\n",
              "          await google.colab.output.renderOutput(dataTable, element);\n",
              "          const docLink = document.createElement('div');\n",
              "          docLink.innerHTML = docLinkHtml;\n",
              "          element.appendChild(docLink);\n",
              "        }\n",
              "      </script>\n",
              "    </div>\n",
              "  </div>\n",
              "  "
            ]
          },
          "metadata": {},
          "execution_count": 63
        }
      ],
      "source": [
        "auto.sort_values('mpg', ascending=True).head(5)"
      ]
    },
    {
      "cell_type": "markdown",
      "metadata": {
        "id": "1wokG3KjzwHu"
      },
      "source": [
        "d) Which 5 cars with 4 or fewer cylinders get the worst gas mileage?"
      ]
    },
    {
      "cell_type": "code",
      "execution_count": 64,
      "metadata": {
        "id": "vgeh2ir8zwHu",
        "colab": {
          "base_uri": "https://localhost:8080/",
          "height": 206
        },
        "outputId": "15b984b4-1012-4d71-82a1-2bcc3dc81bb8"
      },
      "outputs": [
        {
          "output_type": "execute_result",
          "data": {
            "text/plain": [
              "      mpg  cylinders  displacement  horsepower  weight  acceleration  \\\n",
              "110  18.0          3          70.0          90    2124          13.5   \n",
              "75   18.0          4         121.0         112    2933          14.5   \n",
              "119  19.0          4         121.0         112    2868          15.5   \n",
              "70   19.0          3          70.0          97    2330          13.5   \n",
              "111  19.0          4         122.0          85    2310          18.5   \n",
              "\n",
              "     model_year  origin         car_name  \n",
              "110          73       3        maxda rx3  \n",
              "75           72       2  volvo 145e (sw)  \n",
              "119          73       2      volvo 144ea  \n",
              "70           72       3  mazda rx2 coupe  \n",
              "111          73       1       ford pinto  "
            ],
            "text/html": [
              "\n",
              "  <div id=\"df-375e2061-b0d4-415d-bc28-6b630c656c12\">\n",
              "    <div class=\"colab-df-container\">\n",
              "      <div>\n",
              "<style scoped>\n",
              "    .dataframe tbody tr th:only-of-type {\n",
              "        vertical-align: middle;\n",
              "    }\n",
              "\n",
              "    .dataframe tbody tr th {\n",
              "        vertical-align: top;\n",
              "    }\n",
              "\n",
              "    .dataframe thead th {\n",
              "        text-align: right;\n",
              "    }\n",
              "</style>\n",
              "<table border=\"1\" class=\"dataframe\">\n",
              "  <thead>\n",
              "    <tr style=\"text-align: right;\">\n",
              "      <th></th>\n",
              "      <th>mpg</th>\n",
              "      <th>cylinders</th>\n",
              "      <th>displacement</th>\n",
              "      <th>horsepower</th>\n",
              "      <th>weight</th>\n",
              "      <th>acceleration</th>\n",
              "      <th>model_year</th>\n",
              "      <th>origin</th>\n",
              "      <th>car_name</th>\n",
              "    </tr>\n",
              "  </thead>\n",
              "  <tbody>\n",
              "    <tr>\n",
              "      <th>110</th>\n",
              "      <td>18.0</td>\n",
              "      <td>3</td>\n",
              "      <td>70.0</td>\n",
              "      <td>90</td>\n",
              "      <td>2124</td>\n",
              "      <td>13.5</td>\n",
              "      <td>73</td>\n",
              "      <td>3</td>\n",
              "      <td>maxda rx3</td>\n",
              "    </tr>\n",
              "    <tr>\n",
              "      <th>75</th>\n",
              "      <td>18.0</td>\n",
              "      <td>4</td>\n",
              "      <td>121.0</td>\n",
              "      <td>112</td>\n",
              "      <td>2933</td>\n",
              "      <td>14.5</td>\n",
              "      <td>72</td>\n",
              "      <td>2</td>\n",
              "      <td>volvo 145e (sw)</td>\n",
              "    </tr>\n",
              "    <tr>\n",
              "      <th>119</th>\n",
              "      <td>19.0</td>\n",
              "      <td>4</td>\n",
              "      <td>121.0</td>\n",
              "      <td>112</td>\n",
              "      <td>2868</td>\n",
              "      <td>15.5</td>\n",
              "      <td>73</td>\n",
              "      <td>2</td>\n",
              "      <td>volvo 144ea</td>\n",
              "    </tr>\n",
              "    <tr>\n",
              "      <th>70</th>\n",
              "      <td>19.0</td>\n",
              "      <td>3</td>\n",
              "      <td>70.0</td>\n",
              "      <td>97</td>\n",
              "      <td>2330</td>\n",
              "      <td>13.5</td>\n",
              "      <td>72</td>\n",
              "      <td>3</td>\n",
              "      <td>mazda rx2 coupe</td>\n",
              "    </tr>\n",
              "    <tr>\n",
              "      <th>111</th>\n",
              "      <td>19.0</td>\n",
              "      <td>4</td>\n",
              "      <td>122.0</td>\n",
              "      <td>85</td>\n",
              "      <td>2310</td>\n",
              "      <td>18.5</td>\n",
              "      <td>73</td>\n",
              "      <td>1</td>\n",
              "      <td>ford pinto</td>\n",
              "    </tr>\n",
              "  </tbody>\n",
              "</table>\n",
              "</div>\n",
              "      <button class=\"colab-df-convert\" onclick=\"convertToInteractive('df-375e2061-b0d4-415d-bc28-6b630c656c12')\"\n",
              "              title=\"Convert this dataframe to an interactive table.\"\n",
              "              style=\"display:none;\">\n",
              "        \n",
              "  <svg xmlns=\"http://www.w3.org/2000/svg\" height=\"24px\"viewBox=\"0 0 24 24\"\n",
              "       width=\"24px\">\n",
              "    <path d=\"M0 0h24v24H0V0z\" fill=\"none\"/>\n",
              "    <path d=\"M18.56 5.44l.94 2.06.94-2.06 2.06-.94-2.06-.94-.94-2.06-.94 2.06-2.06.94zm-11 1L8.5 8.5l.94-2.06 2.06-.94-2.06-.94L8.5 2.5l-.94 2.06-2.06.94zm10 10l.94 2.06.94-2.06 2.06-.94-2.06-.94-.94-2.06-.94 2.06-2.06.94z\"/><path d=\"M17.41 7.96l-1.37-1.37c-.4-.4-.92-.59-1.43-.59-.52 0-1.04.2-1.43.59L10.3 9.45l-7.72 7.72c-.78.78-.78 2.05 0 2.83L4 21.41c.39.39.9.59 1.41.59.51 0 1.02-.2 1.41-.59l7.78-7.78 2.81-2.81c.8-.78.8-2.07 0-2.86zM5.41 20L4 18.59l7.72-7.72 1.47 1.35L5.41 20z\"/>\n",
              "  </svg>\n",
              "      </button>\n",
              "      \n",
              "  <style>\n",
              "    .colab-df-container {\n",
              "      display:flex;\n",
              "      flex-wrap:wrap;\n",
              "      gap: 12px;\n",
              "    }\n",
              "\n",
              "    .colab-df-convert {\n",
              "      background-color: #E8F0FE;\n",
              "      border: none;\n",
              "      border-radius: 50%;\n",
              "      cursor: pointer;\n",
              "      display: none;\n",
              "      fill: #1967D2;\n",
              "      height: 32px;\n",
              "      padding: 0 0 0 0;\n",
              "      width: 32px;\n",
              "    }\n",
              "\n",
              "    .colab-df-convert:hover {\n",
              "      background-color: #E2EBFA;\n",
              "      box-shadow: 0px 1px 2px rgba(60, 64, 67, 0.3), 0px 1px 3px 1px rgba(60, 64, 67, 0.15);\n",
              "      fill: #174EA6;\n",
              "    }\n",
              "\n",
              "    [theme=dark] .colab-df-convert {\n",
              "      background-color: #3B4455;\n",
              "      fill: #D2E3FC;\n",
              "    }\n",
              "\n",
              "    [theme=dark] .colab-df-convert:hover {\n",
              "      background-color: #434B5C;\n",
              "      box-shadow: 0px 1px 3px 1px rgba(0, 0, 0, 0.15);\n",
              "      filter: drop-shadow(0px 1px 2px rgba(0, 0, 0, 0.3));\n",
              "      fill: #FFFFFF;\n",
              "    }\n",
              "  </style>\n",
              "\n",
              "      <script>\n",
              "        const buttonEl =\n",
              "          document.querySelector('#df-375e2061-b0d4-415d-bc28-6b630c656c12 button.colab-df-convert');\n",
              "        buttonEl.style.display =\n",
              "          google.colab.kernel.accessAllowed ? 'block' : 'none';\n",
              "\n",
              "        async function convertToInteractive(key) {\n",
              "          const element = document.querySelector('#df-375e2061-b0d4-415d-bc28-6b630c656c12');\n",
              "          const dataTable =\n",
              "            await google.colab.kernel.invokeFunction('convertToInteractive',\n",
              "                                                     [key], {});\n",
              "          if (!dataTable) return;\n",
              "\n",
              "          const docLinkHtml = 'Like what you see? Visit the ' +\n",
              "            '<a target=\"_blank\" href=https://colab.research.google.com/notebooks/data_table.ipynb>data table notebook</a>'\n",
              "            + ' to learn more about interactive tables.';\n",
              "          element.innerHTML = '';\n",
              "          dataTable['output_type'] = 'display_data';\n",
              "          await google.colab.output.renderOutput(dataTable, element);\n",
              "          const docLink = document.createElement('div');\n",
              "          docLink.innerHTML = docLinkHtml;\n",
              "          element.appendChild(docLink);\n",
              "        }\n",
              "      </script>\n",
              "    </div>\n",
              "  </div>\n",
              "  "
            ]
          },
          "metadata": {},
          "execution_count": 64
        }
      ],
      "source": [
        "auto[auto.cylinders <= 4].sort_values(by=['mpg'], ascending=True).head(5)"
      ]
    },
    {
      "cell_type": "markdown",
      "metadata": {
        "id": "NkwJ4jG0zwHu"
      },
      "source": [
        "##Part 3\n",
        "Use groupby and aggregations to explore the relationships \n",
        "between mpg and the other variables.  Which variables seem to have the greatest\n",
        "effect on mpg?\n",
        "Some examples of things you might want to look at are:\n",
        "- What is the mean mpg for cars for each number of cylinders?  \n",
        "(i.e. 3 cylinders, 4 cylinders, 5 cylinders, etc)?"
      ]
    },
    {
      "cell_type": "code",
      "source": [
        "# mean mpg for each amount of cylinders\n",
        "dataf = pd.DataFrame(auto.groupby('cylinders')['mpg'].mean())\n",
        "dataf.reset_index(inplace=True)\n",
        "dataf.columns = ['cylinders', 'mpg (mean)']\n",
        "dataf"
      ],
      "metadata": {
        "colab": {
          "base_uri": "https://localhost:8080/",
          "height": 206
        },
        "id": "jzgZ_4g2MynY",
        "outputId": "cf7653ca-faeb-4862-9581-ab1ab7d82aff"
      },
      "execution_count": 65,
      "outputs": [
        {
          "output_type": "execute_result",
          "data": {
            "text/plain": [
              "   cylinders  mpg (mean)\n",
              "0          3   20.550000\n",
              "1          4   29.283920\n",
              "2          5   27.366667\n",
              "3          6   19.973494\n",
              "4          8   14.963107"
            ],
            "text/html": [
              "\n",
              "  <div id=\"df-a6daebce-bc39-4928-96d3-08944a56d0fe\">\n",
              "    <div class=\"colab-df-container\">\n",
              "      <div>\n",
              "<style scoped>\n",
              "    .dataframe tbody tr th:only-of-type {\n",
              "        vertical-align: middle;\n",
              "    }\n",
              "\n",
              "    .dataframe tbody tr th {\n",
              "        vertical-align: top;\n",
              "    }\n",
              "\n",
              "    .dataframe thead th {\n",
              "        text-align: right;\n",
              "    }\n",
              "</style>\n",
              "<table border=\"1\" class=\"dataframe\">\n",
              "  <thead>\n",
              "    <tr style=\"text-align: right;\">\n",
              "      <th></th>\n",
              "      <th>cylinders</th>\n",
              "      <th>mpg (mean)</th>\n",
              "    </tr>\n",
              "  </thead>\n",
              "  <tbody>\n",
              "    <tr>\n",
              "      <th>0</th>\n",
              "      <td>3</td>\n",
              "      <td>20.550000</td>\n",
              "    </tr>\n",
              "    <tr>\n",
              "      <th>1</th>\n",
              "      <td>4</td>\n",
              "      <td>29.283920</td>\n",
              "    </tr>\n",
              "    <tr>\n",
              "      <th>2</th>\n",
              "      <td>5</td>\n",
              "      <td>27.366667</td>\n",
              "    </tr>\n",
              "    <tr>\n",
              "      <th>3</th>\n",
              "      <td>6</td>\n",
              "      <td>19.973494</td>\n",
              "    </tr>\n",
              "    <tr>\n",
              "      <th>4</th>\n",
              "      <td>8</td>\n",
              "      <td>14.963107</td>\n",
              "    </tr>\n",
              "  </tbody>\n",
              "</table>\n",
              "</div>\n",
              "      <button class=\"colab-df-convert\" onclick=\"convertToInteractive('df-a6daebce-bc39-4928-96d3-08944a56d0fe')\"\n",
              "              title=\"Convert this dataframe to an interactive table.\"\n",
              "              style=\"display:none;\">\n",
              "        \n",
              "  <svg xmlns=\"http://www.w3.org/2000/svg\" height=\"24px\"viewBox=\"0 0 24 24\"\n",
              "       width=\"24px\">\n",
              "    <path d=\"M0 0h24v24H0V0z\" fill=\"none\"/>\n",
              "    <path d=\"M18.56 5.44l.94 2.06.94-2.06 2.06-.94-2.06-.94-.94-2.06-.94 2.06-2.06.94zm-11 1L8.5 8.5l.94-2.06 2.06-.94-2.06-.94L8.5 2.5l-.94 2.06-2.06.94zm10 10l.94 2.06.94-2.06 2.06-.94-2.06-.94-.94-2.06-.94 2.06-2.06.94z\"/><path d=\"M17.41 7.96l-1.37-1.37c-.4-.4-.92-.59-1.43-.59-.52 0-1.04.2-1.43.59L10.3 9.45l-7.72 7.72c-.78.78-.78 2.05 0 2.83L4 21.41c.39.39.9.59 1.41.59.51 0 1.02-.2 1.41-.59l7.78-7.78 2.81-2.81c.8-.78.8-2.07 0-2.86zM5.41 20L4 18.59l7.72-7.72 1.47 1.35L5.41 20z\"/>\n",
              "  </svg>\n",
              "      </button>\n",
              "      \n",
              "  <style>\n",
              "    .colab-df-container {\n",
              "      display:flex;\n",
              "      flex-wrap:wrap;\n",
              "      gap: 12px;\n",
              "    }\n",
              "\n",
              "    .colab-df-convert {\n",
              "      background-color: #E8F0FE;\n",
              "      border: none;\n",
              "      border-radius: 50%;\n",
              "      cursor: pointer;\n",
              "      display: none;\n",
              "      fill: #1967D2;\n",
              "      height: 32px;\n",
              "      padding: 0 0 0 0;\n",
              "      width: 32px;\n",
              "    }\n",
              "\n",
              "    .colab-df-convert:hover {\n",
              "      background-color: #E2EBFA;\n",
              "      box-shadow: 0px 1px 2px rgba(60, 64, 67, 0.3), 0px 1px 3px 1px rgba(60, 64, 67, 0.15);\n",
              "      fill: #174EA6;\n",
              "    }\n",
              "\n",
              "    [theme=dark] .colab-df-convert {\n",
              "      background-color: #3B4455;\n",
              "      fill: #D2E3FC;\n",
              "    }\n",
              "\n",
              "    [theme=dark] .colab-df-convert:hover {\n",
              "      background-color: #434B5C;\n",
              "      box-shadow: 0px 1px 3px 1px rgba(0, 0, 0, 0.15);\n",
              "      filter: drop-shadow(0px 1px 2px rgba(0, 0, 0, 0.3));\n",
              "      fill: #FFFFFF;\n",
              "    }\n",
              "  </style>\n",
              "\n",
              "      <script>\n",
              "        const buttonEl =\n",
              "          document.querySelector('#df-a6daebce-bc39-4928-96d3-08944a56d0fe button.colab-df-convert');\n",
              "        buttonEl.style.display =\n",
              "          google.colab.kernel.accessAllowed ? 'block' : 'none';\n",
              "\n",
              "        async function convertToInteractive(key) {\n",
              "          const element = document.querySelector('#df-a6daebce-bc39-4928-96d3-08944a56d0fe');\n",
              "          const dataTable =\n",
              "            await google.colab.kernel.invokeFunction('convertToInteractive',\n",
              "                                                     [key], {});\n",
              "          if (!dataTable) return;\n",
              "\n",
              "          const docLinkHtml = 'Like what you see? Visit the ' +\n",
              "            '<a target=\"_blank\" href=https://colab.research.google.com/notebooks/data_table.ipynb>data table notebook</a>'\n",
              "            + ' to learn more about interactive tables.';\n",
              "          element.innerHTML = '';\n",
              "          dataTable['output_type'] = 'display_data';\n",
              "          await google.colab.output.renderOutput(dataTable, element);\n",
              "          const docLink = document.createElement('div');\n",
              "          docLink.innerHTML = docLinkHtml;\n",
              "          element.appendChild(docLink);\n",
              "        }\n",
              "      </script>\n",
              "    </div>\n",
              "  </div>\n",
              "  "
            ]
          },
          "metadata": {},
          "execution_count": 65
        }
      ]
    },
    {
      "cell_type": "code",
      "execution_count": 66,
      "metadata": {
        "id": "iT8iawTNzwHu",
        "colab": {
          "base_uri": "https://localhost:8080/",
          "height": 388
        },
        "outputId": "b0687c6c-a1eb-4814-fc59-187f97e7ba19"
      },
      "outputs": [
        {
          "output_type": "display_data",
          "data": {
            "text/plain": [
              "<Figure size 2160x864 with 6 Axes>"
            ],
            "image/png": "[encoded data removed]"
          },
          "metadata": {}
        }
      ],
      "source": [
        "import matplotlib.pyplot as plt\n",
        "import seaborn as sns\n",
        "\n",
        "# auto.info()\n",
        "# tell us the number of distinct values and their means per category vs 'mpg'\n",
        "for count, col in enumerate(auto.columns[1:7]): \n",
        "    pass # print(col, count)\n",
        "    # print(auto.groupby(col)['mpg'].mean())\n",
        "\n",
        "# ['cylinders', 'displacement', 'horsepower', 'weight', 'acceleration', 'model_year'] # categories we care about vs 'mpg' for graphing\n",
        "\n",
        "# will want to bin data with many rows ['displacement:81', 'horsepower:93', 'weight:346', 'acceleration:95',  ]\n",
        "# no need to bin 'cylinders:5' and 'model_year:13' \n",
        "\n",
        "# mpg_cyl = pd.DataFrame(data=auto.groupby('cylinders')['mpg'].mean(), columns=['cylinders', 'mpg'])\n",
        "mpg_cyl = pd.DataFrame(data=auto.groupby('cylinders')['mpg'].mean())\n",
        "mpg_dpl = pd.DataFrame(data=auto.groupby('displacement')['mpg'].mean())\n",
        "mpg_hpw = pd.DataFrame(data=auto.groupby('horsepower')['mpg'].mean())\n",
        "mpg_wgt = pd.DataFrame(data=auto.groupby('weight')['mpg'].mean())\n",
        "mpg_acc = pd.DataFrame(data=auto.groupby('acceleration')['mpg'].mean())\n",
        "mpg_myr = pd.DataFrame(data=auto.groupby('model_year')['mpg'].mean())\n",
        "\n",
        "for datafr in [mpg_cyl, mpg_dpl, mpg_hpw, mpg_wgt, mpg_acc, mpg_myr]:\n",
        "    datafr.reset_index(inplace=True)\n",
        "\n",
        "%matplotlib inline\n",
        "plt.style.use('ggplot') \n",
        "\n",
        "fig, axes = plt.subplots(2, 3, figsize=(30, 12))\n",
        "mpg_cyl.plot(ax=axes[0, 0], x='cylinders',    y='mpg', kind='bar',  xlabel='cylinders',    ylabel='mpg', title='cylinders vs mpg (avg)',    color='green')\n",
        "mpg_dpl.plot(ax=axes[0, 1], x='displacement', y='mpg', kind='line', xlabel='displacement', ylabel='mpg', title='displacement vs mpg', color='blue')\n",
        "mpg_hpw.plot(ax=axes[0, 2], x='horsepower',   y='mpg', kind='line', xlabel='horsepower',   ylabel='mpg', title='horsepower vs mpg',   color='purple')\n",
        "mpg_wgt.plot(ax=axes[1, 0], x='weight',       y='mpg', kind='line', xlabel='weight',       ylabel='mpg', title='weight vs mpg',       color='orange')\n",
        "mpg_acc.plot(ax=axes[1, 1], x='acceleration', y='mpg', kind='line', xlabel='acceleration', ylabel='mpg', title='acceleration vs mpg', color='red')\n",
        "mpg_myr.plot(ax=axes[1, 2], x='model_year',   y='mpg', kind='bar',  xlabel='model_year',   ylabel='mpg', title='model_year vs mpg (avg)',   color='teal')\n",
        "\n",
        "plt.show()"
      ]
    },
    {
      "cell_type": "markdown",
      "source": [
        "\n",
        "How has mpg trended over the years?  \n",
        "Over the years, average mpg has trended upwarded (increased). See plot 6 of 6. "
      ],
      "metadata": {
        "id": "LTcBobwuNPHp"
      }
    },
    {
      "cell_type": "code",
      "source": [
        "auto.sort_values('model_year', inplace=True)\n",
        "auto # https://datatofish.com/sort-pandas-dataframe/"
      ],
      "metadata": {
        "colab": {
          "base_uri": "https://localhost:8080/",
          "height": 502
        },
        "id": "U5lGvfQBHAoN",
        "outputId": "c0e9f861-bf33-4bc2-cd77-bc2a4968132e"
      },
      "execution_count": 142,
      "outputs": [
        {
          "output_type": "execute_result",
          "data": {
            "text/plain": [
              "      mpg  cylinders  displacement  horsepower  weight  acceleration  \\\n",
              "0    18.0          8         307.0         130    3504          12.0   \n",
              "7    14.0          8         440.0         215    4312           8.5   \n",
              "12   15.0          8         400.0         150    3761           9.5   \n",
              "11   14.0          8         340.0         160    3609           8.0   \n",
              "10   15.0          8         383.0         170    3563          10.0   \n",
              "..    ...        ...           ...         ...     ...           ...   \n",
              "379  38.0          4          91.0          67    1995          16.2   \n",
              "378  32.0          4          91.0          67    1965          15.7   \n",
              "382  26.0          4         156.0          92    2585          14.5   \n",
              "376  34.0          4         108.0          70    2245          16.9   \n",
              "391  31.0          4         119.0          82    2720          19.4   \n",
              "\n",
              "     model_year  origin                    car_name  \n",
              "0            70       1   chevrolet chevelle malibu  \n",
              "7            70       1           plymouth fury iii  \n",
              "12           70       1       chevrolet monte carlo  \n",
              "11           70       1          plymouth 'cuda 340  \n",
              "10           70       1         dodge challenger se  \n",
              "..          ...     ...                         ...  \n",
              "379          82       3               datsun 310 gx  \n",
              "378          82       3          honda civic (auto)  \n",
              "382          82       1  chrysler lebaron medallion  \n",
              "376          82       3              toyota corolla  \n",
              "391          82       1                  chevy s-10  \n",
              "\n",
              "[392 rows x 9 columns]"
            ],
            "text/html": [
              "\n",
              "  <div id=\"df-2408fe6b-a96a-4093-9067-61abfa55f8f5\">\n",
              "    <div class=\"colab-df-container\">\n",
              "      <div>\n",
              "<style scoped>\n",
              "    .dataframe tbody tr th:only-of-type {\n",
              "        vertical-align: middle;\n",
              "    }\n",
              "\n",
              "    .dataframe tbody tr th {\n",
              "        vertical-align: top;\n",
              "    }\n",
              "\n",
              "    .dataframe thead th {\n",
              "        text-align: right;\n",
              "    }\n",
              "</style>\n",
              "<table border=\"1\" class=\"dataframe\">\n",
              "  <thead>\n",
              "    <tr style=\"text-align: right;\">\n",
              "      <th></th>\n",
              "      <th>mpg</th>\n",
              "      <th>cylinders</th>\n",
              "      <th>displacement</th>\n",
              "      <th>horsepower</th>\n",
              "      <th>weight</th>\n",
              "      <th>acceleration</th>\n",
              "      <th>model_year</th>\n",
              "      <th>origin</th>\n",
              "      <th>car_name</th>\n",
              "    </tr>\n",
              "  </thead>\n",
              "  <tbody>\n",
              "    <tr>\n",
              "      <th>0</th>\n",
              "      <td>18.0</td>\n",
              "      <td>8</td>\n",
              "      <td>307.0</td>\n",
              "      <td>130</td>\n",
              "      <td>3504</td>\n",
              "      <td>12.0</td>\n",
              "      <td>70</td>\n",
              "      <td>1</td>\n",
              "      <td>chevrolet chevelle malibu</td>\n",
              "    </tr>\n",
              "    <tr>\n",
              "      <th>7</th>\n",
              "      <td>14.0</td>\n",
              "      <td>8</td>\n",
              "      <td>440.0</td>\n",
              "      <td>215</td>\n",
              "      <td>4312</td>\n",
              "      <td>8.5</td>\n",
              "      <td>70</td>\n",
              "      <td>1</td>\n",
              "      <td>plymouth fury iii</td>\n",
              "    </tr>\n",
              "    <tr>\n",
              "      <th>12</th>\n",
              "      <td>15.0</td>\n",
              "      <td>8</td>\n",
              "      <td>400.0</td>\n",
              "      <td>150</td>\n",
              "      <td>3761</td>\n",
              "      <td>9.5</td>\n",
              "      <td>70</td>\n",
              "      <td>1</td>\n",
              "      <td>chevrolet monte carlo</td>\n",
              "    </tr>\n",
              "    <tr>\n",
              "      <th>11</th>\n",
              "      <td>14.0</td>\n",
              "      <td>8</td>\n",
              "      <td>340.0</td>\n",
              "      <td>160</td>\n",
              "      <td>3609</td>\n",
              "      <td>8.0</td>\n",
              "      <td>70</td>\n",
              "      <td>1</td>\n",
              "      <td>plymouth 'cuda 340</td>\n",
              "    </tr>\n",
              "    <tr>\n",
              "      <th>10</th>\n",
              "      <td>15.0</td>\n",
              "      <td>8</td>\n",
              "      <td>383.0</td>\n",
              "      <td>170</td>\n",
              "      <td>3563</td>\n",
              "      <td>10.0</td>\n",
              "      <td>70</td>\n",
              "      <td>1</td>\n",
              "      <td>dodge challenger se</td>\n",
              "    </tr>\n",
              "    <tr>\n",
              "      <th>...</th>\n",
              "      <td>...</td>\n",
              "      <td>...</td>\n",
              "      <td>...</td>\n",
              "      <td>...</td>\n",
              "      <td>...</td>\n",
              "      <td>...</td>\n",
              "      <td>...</td>\n",
              "      <td>...</td>\n",
              "      <td>...</td>\n",
              "    </tr>\n",
              "    <tr>\n",
              "      <th>379</th>\n",
              "      <td>38.0</td>\n",
              "      <td>4</td>\n",
              "      <td>91.0</td>\n",
              "      <td>67</td>\n",
              "      <td>1995</td>\n",
              "      <td>16.2</td>\n",
              "      <td>82</td>\n",
              "      <td>3</td>\n",
              "      <td>datsun 310 gx</td>\n",
              "    </tr>\n",
              "    <tr>\n",
              "      <th>378</th>\n",
              "      <td>32.0</td>\n",
              "      <td>4</td>\n",
              "      <td>91.0</td>\n",
              "      <td>67</td>\n",
              "      <td>1965</td>\n",
              "      <td>15.7</td>\n",
              "      <td>82</td>\n",
              "      <td>3</td>\n",
              "      <td>honda civic (auto)</td>\n",
              "    </tr>\n",
              "    <tr>\n",
              "      <th>382</th>\n",
              "      <td>26.0</td>\n",
              "      <td>4</td>\n",
              "      <td>156.0</td>\n",
              "      <td>92</td>\n",
              "      <td>2585</td>\n",
              "      <td>14.5</td>\n",
              "      <td>82</td>\n",
              "      <td>1</td>\n",
              "      <td>chrysler lebaron medallion</td>\n",
              "    </tr>\n",
              "    <tr>\n",
              "      <th>376</th>\n",
              "      <td>34.0</td>\n",
              "      <td>4</td>\n",
              "      <td>108.0</td>\n",
              "      <td>70</td>\n",
              "      <td>2245</td>\n",
              "      <td>16.9</td>\n",
              "      <td>82</td>\n",
              "      <td>3</td>\n",
              "      <td>toyota corolla</td>\n",
              "    </tr>\n",
              "    <tr>\n",
              "      <th>391</th>\n",
              "      <td>31.0</td>\n",
              "      <td>4</td>\n",
              "      <td>119.0</td>\n",
              "      <td>82</td>\n",
              "      <td>2720</td>\n",
              "      <td>19.4</td>\n",
              "      <td>82</td>\n",
              "      <td>1</td>\n",
              "      <td>chevy s-10</td>\n",
              "    </tr>\n",
              "  </tbody>\n",
              "</table>\n",
              "<p>392 rows × 9 columns</p>\n",
              "</div>\n",
              "      <button class=\"colab-df-convert\" onclick=\"convertToInteractive('df-2408fe6b-a96a-4093-9067-61abfa55f8f5')\"\n",
              "              title=\"Convert this dataframe to an interactive table.\"\n",
              "              style=\"display:none;\">\n",
              "        \n",
              "  <svg xmlns=\"http://www.w3.org/2000/svg\" height=\"24px\"viewBox=\"0 0 24 24\"\n",
              "       width=\"24px\">\n",
              "    <path d=\"M0 0h24v24H0V0z\" fill=\"none\"/>\n",
              "    <path d=\"M18.56 5.44l.94 2.06.94-2.06 2.06-.94-2.06-.94-.94-2.06-.94 2.06-2.06.94zm-11 1L8.5 8.5l.94-2.06 2.06-.94-2.06-.94L8.5 2.5l-.94 2.06-2.06.94zm10 10l.94 2.06.94-2.06 2.06-.94-2.06-.94-.94-2.06-.94 2.06-2.06.94z\"/><path d=\"M17.41 7.96l-1.37-1.37c-.4-.4-.92-.59-1.43-.59-.52 0-1.04.2-1.43.59L10.3 9.45l-7.72 7.72c-.78.78-.78 2.05 0 2.83L4 21.41c.39.39.9.59 1.41.59.51 0 1.02-.2 1.41-.59l7.78-7.78 2.81-2.81c.8-.78.8-2.07 0-2.86zM5.41 20L4 18.59l7.72-7.72 1.47 1.35L5.41 20z\"/>\n",
              "  </svg>\n",
              "      </button>\n",
              "      \n",
              "  <style>\n",
              "    .colab-df-container {\n",
              "      display:flex;\n",
              "      flex-wrap:wrap;\n",
              "      gap: 12px;\n",
              "    }\n",
              "\n",
              "    .colab-df-convert {\n",
              "      background-color: #E8F0FE;\n",
              "      border: none;\n",
              "      border-radius: 50%;\n",
              "      cursor: pointer;\n",
              "      display: none;\n",
              "      fill: #1967D2;\n",
              "      height: 32px;\n",
              "      padding: 0 0 0 0;\n",
              "      width: 32px;\n",
              "    }\n",
              "\n",
              "    .colab-df-convert:hover {\n",
              "      background-color: #E2EBFA;\n",
              "      box-shadow: 0px 1px 2px rgba(60, 64, 67, 0.3), 0px 1px 3px 1px rgba(60, 64, 67, 0.15);\n",
              "      fill: #174EA6;\n",
              "    }\n",
              "\n",
              "    [theme=dark] .colab-df-convert {\n",
              "      background-color: #3B4455;\n",
              "      fill: #D2E3FC;\n",
              "    }\n",
              "\n",
              "    [theme=dark] .colab-df-convert:hover {\n",
              "      background-color: #434B5C;\n",
              "      box-shadow: 0px 1px 3px 1px rgba(0, 0, 0, 0.15);\n",
              "      filter: drop-shadow(0px 1px 2px rgba(0, 0, 0, 0.3));\n",
              "      fill: #FFFFFF;\n",
              "    }\n",
              "  </style>\n",
              "\n",
              "      <script>\n",
              "        const buttonEl =\n",
              "          document.querySelector('#df-2408fe6b-a96a-4093-9067-61abfa55f8f5 button.colab-df-convert');\n",
              "        buttonEl.style.display =\n",
              "          google.colab.kernel.accessAllowed ? 'block' : 'none';\n",
              "\n",
              "        async function convertToInteractive(key) {\n",
              "          const element = document.querySelector('#df-2408fe6b-a96a-4093-9067-61abfa55f8f5');\n",
              "          const dataTable =\n",
              "            await google.colab.kernel.invokeFunction('convertToInteractive',\n",
              "                                                     [key], {});\n",
              "          if (!dataTable) return;\n",
              "\n",
              "          const docLinkHtml = 'Like what you see? Visit the ' +\n",
              "            '<a target=\"_blank\" href=https://colab.research.google.com/notebooks/data_table.ipynb>data table notebook</a>'\n",
              "            + ' to learn more about interactive tables.';\n",
              "          element.innerHTML = '';\n",
              "          dataTable['output_type'] = 'display_data';\n",
              "          await google.colab.output.renderOutput(dataTable, element);\n",
              "          const docLink = document.createElement('div');\n",
              "          docLink.innerHTML = docLinkHtml;\n",
              "          element.appendChild(docLink);\n",
              "        }\n",
              "      </script>\n",
              "    </div>\n",
              "  </div>\n",
              "  "
            ]
          },
          "metadata": {},
          "execution_count": 142
        }
      ]
    },
    {
      "cell_type": "markdown",
      "source": [
        "What is the mpg for the group of lighter cars vs the group of heavier cars?  \n",
        "Note: Be creative in the ways in which you divide up the data.  You are trying\n",
        "to create segments of the data using logical filters and comparing the mpg\n",
        "for each segment of the data.  "
      ],
      "metadata": {
        "id": "NYDEpm7Mb1_o"
      }
    },
    {
      "cell_type": "markdown",
      "source": [
        "The mpg for the lighter cars is typically much higher than for heavier cars, as we would expect."
      ],
      "metadata": {
        "id": "Sf4enbEtLec-"
      }
    },
    {
      "cell_type": "code",
      "source": [
        "# From chart above:\n",
        "# Car weight range: (1613 - 5140 pounds)\n",
        "# Car weight average (2977.58 pounds)\n",
        "# Car weight median: (2803.5 pounds)\n",
        "\n",
        "# https://stackoverflow.com/questions/17411940/matplotlib-scatter-plot-legend\n",
        "\n",
        "light = pd.DataFrame(auto[auto.weight <= auto['weight'].mean()].sort_values(by=['model_year'], ascending=True), columns=['model_year', 'weight', 'mpg'])\n",
        "heavy = pd.DataFrame(auto[auto.weight > auto['weight'].mean()].sort_values(by=['model_year'], ascending=True), columns=['model_year', 'weight', 'mpg'])\n",
        "# print(f'{light}\\n{heavy}\\n')\n",
        "\n",
        "g0 = plt.scatter(x=light['mpg'], y=light['weight'])\n",
        "g1 = plt.scatter(x=heavy['mpg'], y=heavy['weight'])\n",
        "plt.legend((g0, g1), ('light weight cars', 'heavy weight cars'),\n",
        "            scatterpoints=1, loc='upper right', ncol=3, fontsize=10)\n",
        "plt.gca().update(dict(xlabel='efficiency (mpg)', ylabel='weight (lbs)', title='heavy and light cars with their mpg'))\n",
        "plt.show()"
      ],
      "metadata": {
        "colab": {
          "base_uri": "https://localhost:8080/",
          "height": 626
        },
        "id": "L6QzpsuSNxE4",
        "outputId": "169d52fa-5306-41bd-fbc9-84f8da553ee8"
      },
      "execution_count": 147,
      "outputs": [
        {
          "output_type": "display_data",
          "data": {
            "text/plain": [
              "<Figure size 720x720 with 1 Axes>"
            ],
            "image/png": "[encoded data removed]"
          },
          "metadata": {}
        }
      ]
    },
    {
      "cell_type": "markdown",
      "metadata": {
        "id": "S5ZxvSxEzwHu"
      },
      "source": [
        "Let's now look how MPG has changed over time, while also considering\n",
        "how specific groups have changed-- look at low, mid, and high power\n",
        "cars based upon their horsepower and see how these groups have changed over time.\n",
        "\n",
        "Defines low power as below 100 horsepower  \n",
        "Defines mid power as between 100 and 150 (inclusive) horsepower  \n",
        "Defines high power as above 150 horsepower\n",
        "\n",
        "In his data, he called the original dataset 'auto'.\n",
        "\n",
        "**Now to look at how efficency has changed over time based on power and weight classes, two things that we know play a large role in gas mileage.  First, we create a table of efficiency by power class and year.**"
      ]
    },
    {
      "cell_type": "code",
      "source": [
        "# MY, HP, MPG in that priority (low to high) sort...power levels defined above\n",
        "low_power = auto[auto[\"horsepower\"] < 100].sort_values(by=['model_year', 'horsepower', 'mpg'], axis=0, ascending=[True, True, True])\n",
        "med_power = auto[(auto[\"horsepower\"] >= 100) & (auto[\"horsepower\"] < 150)].sort_values(by=['model_year', 'horsepower', 'mpg'], axis=0, ascending=[True, True, True])\n",
        "high_power = auto[auto[\"horsepower\"] > 150].sort_values(by=['model_year', 'horsepower', 'mpg'], axis=0, ascending=[True, True, True])\n",
        "\n",
        "# high_power"
      ],
      "metadata": {
        "id": "cuy12YC9N9v3"
      },
      "execution_count": 148,
      "outputs": []
    },
    {
      "cell_type": "code",
      "source": [
        "p1 = plt.scatter(x=low_power['model_year'], y=low_power['mpg'], color='green')\n",
        "p2 = plt.scatter(x=med_power['model_year'], y=med_power['mpg'], color='blue')\n",
        "p3 = plt.scatter(x=high_power['model_year'], y=high_power['mpg'], color='red')\n",
        "\n",
        "plt.legend((p1, p2, p3), ('low_power', 'med_power', 'high_power'), \n",
        "           scatterpoints=1, loc='upper left', ncol=3, fontsize=10)\n",
        "plt.gca().update(dict(xlabel='model year', ylabel='efficiency (mpg)', title='Car power levels and efficiency (mpg) from model years 1970-1982'))\n",
        "plt.rcParams[\"figure.figsize\"] = (10, 10)\n",
        "plt.show()"
      ],
      "metadata": {
        "colab": {
          "base_uri": "https://localhost:8080/",
          "height": 626
        },
        "id": "L7qdXO4gAnIt",
        "outputId": "c6c313df-edfc-4948-971d-f1a836bfa3c6"
      },
      "execution_count": 149,
      "outputs": [
        {
          "output_type": "display_data",
          "data": {
            "text/plain": [
              "<Figure size 720x720 with 1 Axes>"
            ],
            "image/png": "[encoded data removed]"
          },
          "metadata": {}
        }
      ]
    },
    {
      "cell_type": "markdown",
      "source": [
        "We see here that efficiency trends upwards based on model year in the low horsepower category.  \n",
        "There are no cars at the most recent years (1980-1982) so it is harder to draw a conclusion of mpg trends. It appears as if the worst mpg cars for the high HP category only existing from 1970-1973 with overall mpg averages improving in the 1970s for the cars in the dataset.  \n",
        "The medium HP cars improved in the 1980s, but there are less of them in that time period than the 1970s for each year. The peaks of mpg's absolutely improved for medium HP cars from 1979-1983."
      ],
      "metadata": {
        "id": "v5ssxR-RGxop"
      }
    },
    {
      "cell_type": "code",
      "source": [
        "\n",
        "\n",
        "\n",
        "\n",
        "\n",
        "\n",
        "\n",
        "\n"
      ],
      "metadata": {
        "id": "G87mMe3NEkT3"
      },
      "execution_count": null,
      "outputs": []
    },
    {
      "cell_type": "code",
      "source": [
        "light_counts = pd.DataFrame(light['model_year'].value_counts())\n",
        "light_counts.reset_index(inplace=True); light_counts.columns = ['model_year', 'frequency']\n",
        "\n",
        "heavy_counts = pd.DataFrame(heavy['model_year'].value_counts())\n",
        "heavy_counts.reset_index(inplace=True); heavy_counts.columns = ['model_year', 'frequency']\n",
        "\n",
        "df_light = pd.DataFrame(light_counts.sort_values(by=['model_year', 'frequency'], ascending=True))\n",
        "df_heavy = pd.DataFrame(heavy_counts.sort_values(by=['model_year', 'frequency'], ascending=True))\n",
        "\n",
        "paired_df = pd.concat([df_light.reset_index(drop=True), df_heavy.reset_index(drop=True)], ignore_index=True, join=\"outer\", axis=1)\n",
        "paired_df = paired_df.drop(columns=[2])\n",
        "\n",
        "\n",
        "paired_df['light_mean_mpg'] = ''\n",
        "paired_df['heavy_mean_mpg'] = ''\n",
        "\n",
        "paired_df.columns = ['model_year', 'light_count', 'heavy_count', 'light_mean_mpg', 'heavy_mean_mpg']\n",
        "print(paired_df)\n",
        "\n",
        "auto.groupby('model_year')['weight'].mean()\n",
        "lwt = pd.DataFrame(auto[auto.weight <= auto['weight'].mean()].sort_values(by=['model_year'], ascending=True), columns=['model_year', 'weight', 'mpg'])\n",
        "lwt['mpg'].mean()"
      ],
      "metadata": {
        "id": "pKIypCDTfMGL"
      },
      "execution_count": null,
      "outputs": []
    },
    {
      "cell_type": "markdown",
      "source": [
        "The "
      ],
      "metadata": {
        "id": "7SbQW_sfb9R_"
      }
    },
    {
      "cell_type": "code",
      "source": [
        "# Graph light and heavy now\n",
        "\n",
        "# plt.show()\n",
        "import seaborn as sns\n",
        "# import matplotlib.pyplot as plt\n",
        "g = sns.catplot(x='model_year', y=\"light count\", data=paired_df, kind='bar')\n",
        "\n",
        "plt.ticklabel_format(style='plain', axis='y')\n",
        "\n",
        "\n",
        "varsss = ['model_year', 'light count', 'heavy count']\n",
        "fig, ax1 = plt.subplots(figsize=(10, 10))\n",
        "tidy = df.melt(id_vars=['model_year', 'light count', 'heavy count']).rename(columns=str.title)\n",
        "seaborn.barplot(x='Factor', y='Value', hue='', data=tidy, ax=ax1)\n",
        "# g = sns.catplot(x='model_year', y='heavy count', hue='', data=paired_df, kind='bar')\n",
        "\n",
        "# print(light.value_counts())\n",
        "# plt.bar(x=light['model_year'], height=light_counts, width=0.8)\n",
        "# plt.bar(x=heavy['model_year'], height=heavy_counts, width=0.8)\n",
        "\n",
        "# plt.show()\n",
        "\n",
        "# plot data in grouped manner of bar type\n",
        "\n",
        "# divide into heavy and light cars\n",
        "# take the mean for each year and light if < overall weight mean; heavy if > overall weight mean\n",
        "# vals = auto.groupby('weight')['model_year'].mean()\n",
        "# vals.shape\n",
        "# light = vals.head(int(vals.shape[0]/2))\n",
        "# then paired bar chart with year as x-axis and y1 = light cars; y2 = heavy cars\n",
        "\n",
        "# for each model year, count of light paired with count of heavy\n",
        "# different colors graphed\n",
        "# weight_year_df"
      ],
      "metadata": {
        "id": "w5zhVFADbkko"
      },
      "execution_count": null,
      "outputs": []
    },
    {
      "cell_type": "code",
      "source": [
        "# get the mean mpg for each year for light and heavy cars\n",
        "lwtt = pd.DataFrame(auto[auto.weight <= auto['weight'].mean()].sort_values(by=['model_year'], ascending=True), columns=['model_year', 'weight', 'mpg'])\n",
        "# heavy = pd.DataFrame(auto[auto.weight > auto['weight'].mean()].sort_values(by=['model_year'], ascending=True), columns=['model_year', 'weight', 'mpg'])\n",
        "\n",
        "# https://stackoverflow.com/questions/12555323/how-to-add-a-new-column-to-an-existing-dataframe\n",
        "\n",
        "# use this to create new column 'heavy' with boolean values \n",
        "\n",
        "# then can use new col as index to get the mean values per year of heavy and light vehicles etc......"
      ],
      "metadata": {
        "id": "HGSvzSiwf123"
      },
      "execution_count": null,
      "outputs": []
    }
  ],
  "metadata": {
    "kernelspec": {
      "display_name": "Python 3 (ipykernel)",
      "language": "python",
      "name": "python3"
    },
    "language_info": {
      "codemirror_mode": {
        "name": "ipython",
        "version": 3
      },
      "file_extension": ".py",
      "mimetype": "text/x-python",
      "name": "python",
      "nbconvert_exporter": "python",
      "pygments_lexer": "ipython3",
      "version": "3.10.9"
    },
    "colab": {
      "provenance": [],
      "collapsed_sections": [
        "Ju_Ij2bkzwHp"
      ],
      "history_visible": true,
      "include_colab_link": true
    }
  },
  "nbformat": 4,
  "nbformat_minor": 0
}