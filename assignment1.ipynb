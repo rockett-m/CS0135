{
  "cells": [
    {
      "cell_type": "markdown",
      "metadata": {
        "id": "view-in-github",
        "colab_type": "text"
      },
      "source": [
        "<a href=\"https://colab.research.google.com/github/rockett-m/CS0135/blob/main/assignment1.ipynb\" target=\"_parent\"><img src=\"https://colab.research.google.com/assets/colab-badge.svg\" alt=\"Open In Colab\"/></a>"
      ]
    },
    {
      "cell_type": "markdown",
      "metadata": {
        "id": "heGIBRtPzwHk"
      },
      "source": [
        "# Assignment 1\n",
        "Download auto_mpg.txt and store inside 'tabular' folder created inside of 'data' directory. Add this notebook to your python codebase.\n",
        "\n",
        "The **purpose** of this assignmnet is to become familiar with core Python (*Part 0*), numpy and Pandas basics (*Part 1*), and handling data (*Part 2*)."
      ]
    },
    {
      "cell_type": "markdown",
      "metadata": {
        "id": "QVVS9iPxzwHm"
      },
      "source": [
        "NAME\n",
        "DATE"
      ]
    },
    {
      "cell_type": "markdown",
      "metadata": {
        "id": "6O_EXyhMzwHm"
      },
      "source": [
        "## Part 0\n",
        "\n",
        "The goal of Part 0 is to\n",
        "- Practice problems based on core Python\n",
        "- Gain better understanding of work-flows controlled by conditional statements"
      ]
    },
    {
      "cell_type": "markdown",
      "metadata": {
        "id": "jZFXAopHzwHm"
      },
      "source": [
        "### Resources for python\n",
        "\n",
        "Here are some of the best resources for Python on the web. \n",
        "\n",
        "#### Learning resources\n",
        "\n",
        "* [Interactive Python](http://interactivepython.org/) An online book that includes embedded live excercises. Fun!\n",
        "* [Dive Into Python](http://www.diveintopython.net/) An excellent, thorough book.\n",
        "* [tutorial point](http://www.tutorialspoint.com/python/index.htm) A resource that is useful when you want an explanation of one concept, rather than a whole chapter.\n",
        "\n",
        "\n",
        "#### Reference resources\n",
        "\n",
        "Typically, if you have a question about python, you can find an answer by using google. The following sites will usually have the best answer.\n",
        "\n",
        "* [Official python documentation](https://docs.python.org/3/library/)\n",
        "* [Quick Reference from Tutorial Point](http://www.tutorialspoint.com/python/python_quick_guide.htm)\n"
      ]
    },
    {
      "cell_type": "markdown",
      "metadata": {
        "id": "4SdCC2P3zwHm"
      },
      "source": [
        "**Sample.** Notice the printout below the solution. Notice it is self-documenting, including problem definition and solution (i.e., source code), along with result (i.e., printout)."
      ]
    },
    {
      "cell_type": "code",
      "execution_count": null,
      "metadata": {
        "id": "GgiMTzCQzwHm",
        "outputId": "5f3a6aed-ea59-4701-8e5f-1c9abd154bcc"
      },
      "outputs": [
        {
          "name": "stdout",
          "output_type": "stream",
          "text": [
            "Found value 2 in list\n",
            "Value 6 not found in list\n",
            "List items: [2, 3, 4, 5]\n"
          ]
        }
      ],
      "source": [
        "val = 2\n",
        "li = [2, 3, 4, 5]\n",
        "if val in li:\n",
        "    # print('Found value', val, 'in list')\n",
        "    print(f'Found value {val} in list')\n",
        "else:\n",
        "    print('Value', val, 'not found in list')\n",
        "if 6 in li:\n",
        "    print('Found value', 6, 'in list')\n",
        "else:\n",
        "    print('Value', 6, 'not found in list')\n",
        "print('List items:', li)\n"
      ]
    },
    {
      "cell_type": "markdown",
      "metadata": {
        "id": "XPK-gdRezwHn"
      },
      "source": [
        "**0.1)** \n",
        "Describe the 4 core Python containers (note the keyword core, i.e., not numpy arrays or other container types that are included in Python Packages).  \n",
        "a) What are characteristics of each?"
      ]
    },
    {
      "cell_type": "markdown",
      "metadata": {
        "id": "jZu9ntQlzwHn"
      },
      "source": [
        "lists (li=[]), tuples (tu=()), strings (st=\"\"), dictionaries (dic={})-- each are containers with various characteristics.\n",
        "\n",
        "Lists and tuples can store any type, and can be made up of various different types. Both preserve order (as do strings), with the difference being lists are mutable, while tuples and strings are immutable.\n",
        "\n",
        "Strings are made up of sequences of characters.\n",
        "\n",
        "Dictionaries are key-value pairs, where values are accessed via indexing with key. Keys must be unique and are immutable, while values can be of any type and are mutable.\n",
        "\n",
        "Each container is accessed using square brackets, with indices for tuples, lists, and strings (i.e., ordered) and keys for dictionaries (i.e., unordered)."
      ]
    },
    {
      "cell_type": "markdown",
      "metadata": {
        "id": "xzEgiIDAzwHo"
      },
      "source": [
        "b) Instantiate each with 0 elements (i.e., empty), and show adding a single element to each."
      ]
    },
    {
      "cell_type": "code",
      "execution_count": 1,
      "metadata": {
        "id": "-wR8fE5MzwHo"
      },
      "outputs": [],
      "source": [
        "# instantiate empty containers\n",
        "my_list = []\n",
        "my_tuple = ()\n",
        "my_string = ''\n",
        "my_dict = {}\n",
        "\n",
        "# add single elements\n",
        "elem = 10\n",
        "my_list.append(elem)\n",
        "my_tuple = ('value')\n",
        "my_string = 'value'\n",
        "my_dict.update({elem : 'value'})\n"
      ]
    },
    {
      "cell_type": "markdown",
      "metadata": {
        "id": "RvUs0TDJzwHo"
      },
      "source": [
        "c) Provide 1 or more use cases for each.\n"
      ]
    },
    {
      "cell_type": "markdown",
      "metadata": {
        "id": "iTi7wSglzwHo"
      },
      "source": [
        "List: This can be used to store the names of companies in the S&P500.  \n",
        "Tuple: This can be used to store different types of variables, for example, I am entering a stock order that includes the ticker (string), price (float), size (int), and other information. The tuple can store all these different types in one bundle.  \n",
        "String: This data struct can store a stock ticker or my name.  \n",
        "Dictionary: This can be used to have all the names of people in this class (first and last to avoid collisions), paired with their GPA's and or ages.  "
      ]
    },
    {
      "cell_type": "markdown",
      "metadata": {
        "id": "kgx7-K8YzwHo"
      },
      "source": [
        "**0.2)** Write  a program that takes in a positive number (in some variable, say `i`) and computes the sum of all the numbers\n",
        "between 0 and that number (inclusive). \n",
        "\n",
        "a) Do it using a for loop"
      ]
    },
    {
      "cell_type": "code",
      "execution_count": null,
      "metadata": {
        "id": "qFiyYAl5zwHo"
      },
      "outputs": [],
      "source": [
        "i = 10"
      ]
    },
    {
      "cell_type": "code",
      "execution_count": null,
      "metadata": {
        "colab": {
          "base_uri": "https://localhost:8080/"
        },
        "id": "eX32ENZ-zwHo",
        "outputId": "fc89b7a2-88af-4073-ffa7-b8a6cab2f2f4"
      },
      "outputs": [
        {
          "output_type": "stream",
          "name": "stdout",
          "text": [
            "Sum using list using for loop 55\n"
          ]
        }
      ],
      "source": [
        "def sum_forloop(n):\n",
        "    \"\"\"\n",
        "    Function that returns the sum of all numbers in range [0, n].\n",
        "    :param n: upper limit of summation, which is positive integer greater than 0\n",
        "    :return: Sum from i=0 to i=n.\n",
        "    \"\"\"\n",
        "    if type(n) is not int or n < 0:\n",
        "        # check input meets conditions\n",
        "        return None\n",
        "    sum = 0\n",
        "    for i in range(n+1):\n",
        "        sum += i\n",
        "    return sum\n",
        "\n",
        "print('Sum using list using for loop', sum_forloop(i))"
      ]
    },
    {
      "cell_type": "markdown",
      "metadata": {
        "id": "Ihp3HG_czwHo"
      },
      "source": [
        "b) Do it in one line using the function `sum` and list comprehension."
      ]
    },
    {
      "cell_type": "code",
      "execution_count": null,
      "metadata": {
        "colab": {
          "base_uri": "https://localhost:8080/"
        },
        "id": "cHhJIk0VzwHo",
        "outputId": "9a29de6b-dfd2-46e8-8c9f-15040a906cb7"
      },
      "outputs": [
        {
          "output_type": "execute_result",
          "data": {
            "text/plain": [
              "55"
            ]
          },
          "metadata": {},
          "execution_count": 12
        }
      ],
      "source": [
        "sum([x for x in range(i+1)])"
      ]
    },
    {
      "cell_type": "markdown",
      "metadata": {
        "id": "e6qBJlxGzwHo"
      },
      "source": [
        "**0.3)** Create a lookup table for your class schedule, with the CRN as keys and the name of class as the value. Loop over the dictionary and print out the CRN and course name (single line per class)."
      ]
    },
    {
      "cell_type": "code",
      "execution_count": null,
      "metadata": {
        "colab": {
          "base_uri": "https://localhost:8080/"
        },
        "id": "uVPGu2u1zwHo",
        "outputId": "f09cbf00-e3df-4fc5-a7d1-15943a28c49b"
      },
      "outputs": [
        {
          "output_type": "stream",
          "name": "stdout",
          "text": [
            "CRN = 'CS135', class_name = 'Machine Learning'\n",
            "CRN = 'EE129', class_name = 'Computer Communication Networks'\n"
          ]
        }
      ],
      "source": [
        "my_dict = {'CS135': 'Machine Learning', 'EE129': 'Computer Communication Networks'}\n",
        "\n",
        "for CRN, class_name in my_dict.items():\n",
        "    print(f'{CRN = }, {class_name = }')"
      ]
    },
    {
      "cell_type": "markdown",
      "metadata": {
        "id": "gF47JuwwzwHo"
      },
      "source": [
        "**0.4)** Create an empty list. Then, copy the for-loop from previous excercise such that the program prompts you to input the time of the day (as type sting, and using military time would allow for AM and PM to be omitted). These times are to be stored in empty dictionay using the same keys (i.e., CRN->time class starts)"
      ]
    },
    {
      "cell_type": "code",
      "execution_count": null,
      "metadata": {
        "colab": {
          "base_uri": "https://localhost:8080/"
        },
        "id": "PvAS5PbUzwHo",
        "outputId": "f658da16-09af-4ff3-eb2e-818461ac3539"
      },
      "outputs": [
        {
          "name": "stdout",
          "output_type": "stream",
          "text": [
            "Enter the time of day in military format for class 'CS135': 3:44\n",
            "Enter the time of day in military format for class 'EE129': 5:55:55\n"
          ]
        }
      ],
      "source": [
        "import re, sys\n",
        "\n",
        "my_list = []\n",
        "new_dict = {}\n",
        "\n",
        "for CRN, course_name in my_dict.items():\n",
        "    time_of_day = str(input(f\"Enter the time of day in military format for class '{CRN}': \"))\n",
        "    new_dict[CRN] = time_of_day\n",
        "\n",
        "for CRN, time in new_dict.items():\n",
        "    if not re.match(r'^([0-9]|[0-1][0-9]|[2][0-3]):([0-5][0-9])(:[0-5][0-9])?$', time):\n",
        "        sys.exit(f'invalid time {time} entered for class {CRN}')\n"
      ]
    },
    {
      "cell_type": "markdown",
      "metadata": {
        "id": "B_tauvu-zwHo"
      },
      "source": []
    },
    {
      "cell_type": "markdown",
      "metadata": {
        "id": "ZYdgZy1yzwHp"
      },
      "source": [
        "**0.5** Write a Python program to convert temperatures to and from Celsius, Fahrenheit.\n",
        "\n",
        "\n",
        "$$ \\frac{c}{5} = \\frac{f-32}{9},$$\n",
        "where $c$ is the temperature in Celsius and $f$ is the temperature in Fahrenheit.\n",
        "\n",
        "Test code:\n",
        "60°C is 140 in Fahrenheit\n",
        "45°F is 7 in Celsius"
      ]
    },
    {
      "cell_type": "code",
      "execution_count": null,
      "metadata": {
        "id": "qFegBVPlzwHp",
        "outputId": "53f9dd2c-c2c9-4c8b-d0d3-0e996a4f4f8b"
      },
      "outputs": [
        {
          "name": "stdout",
          "output_type": "stream",
          "text": [
            "45 degrees F is 7.222222222222222 degrees C\n",
            "60 degrees C is 140.0 degrees F\n"
          ]
        }
      ],
      "source": [
        "def fahrenheit2celsius(fahrenheit):\n",
        "    return (5 * (fahrenheit - 32)) / 9\n",
        "\n",
        "def celsius2fahrenheit(celsius):\n",
        "    return ((celsius * 9) / 5) + 32\n",
        "\n",
        "\n",
        "temp_c = 60\n",
        "temp_f = 45\n",
        "\n",
        "temp_c_out = fahrenheit2celsius(temp_f)\n",
        "temp_f_out = fahrenheit2celsius(temp_c)\n",
        "\n",
        "print(\"{} deg. F is {} deg. C\".format(temp_f, temp_c_out))\n",
        "print(\"{} deg. C is {} deg. F\".format(temp_c, temp_f_out))"
      ]
    },
    {
      "cell_type": "markdown",
      "metadata": {
        "id": "5Fa9k3hJzwHp"
      },
      "source": [
        "**0.6** Write a Python program to construct the following pattern, using a nested for loop.\n",
        "\n",
        "O\n",
        "\n",
        "O X\n",
        "\n",
        "O X O\n",
        "\n",
        "O X O X\n",
        "\n",
        "O X O X O\n",
        "\n",
        "O X O X\n",
        "\n",
        "O X O\n",
        "\n",
        "O X\n",
        "\n",
        "O"
      ]
    },
    {
      "cell_type": "code",
      "execution_count": null,
      "metadata": {
        "colab": {
          "base_uri": "https://localhost:8080/"
        },
        "id": "9zfVmbtazwHp",
        "outputId": "6a481cb6-e530-4c9c-d970-aefd794892b3"
      },
      "outputs": [
        {
          "output_type": "stream",
          "name": "stdout",
          "text": [
            "O\n",
            "OX\n",
            "OXO\n",
            "OXOX\n",
            "OXOXO\n",
            "OXOX\n",
            "OXO\n",
            "OX\n",
            "O\n"
          ]
        }
      ],
      "source": [
        "\n",
        "for i in [1,2,3,4,5,4,3,2,1]:\n",
        "    out = []\n",
        "    count = i\n",
        "    for j in range(count):\n",
        "        if count % 2 == 1:\n",
        "            out.append('O')\n",
        "        else:\n",
        "            out.append('X')\n",
        "        count -= 1\n",
        "    if i % 2 == 0:\n",
        "        out.reverse()\n",
        "    output = ''.join(out)\n",
        "    print(output)\n"
      ]
    },
    {
      "cell_type": "markdown",
      "metadata": {
        "id": "dGNt8klFzwHp"
      },
      "source": [
        "**0.7** Write a Python program that reads two integers representing a month and day and prints the season for that month and day. Go to the editor\n",
        "Expected Output:\n",
        "\n",
        "Input the month (e.g. January, February etc.): july                     \n",
        "Input the day: 31                                                       \n",
        "Season is summer  "
      ]
    },
    {
      "cell_type": "code",
      "execution_count": null,
      "metadata": {
        "colab": {
          "base_uri": "https://localhost:8080/"
        },
        "id": "H6Y8nsQuzwHp",
        "outputId": "4b17ce6f-18c7-4326-8f01-29c2b0fe106a"
      },
      "outputs": [
        {
          "output_type": "stream",
          "name": "stdout",
          "text": [
            "Please enter the month: April\n",
            "Please enter the day: 30\n",
            "Season is spring\n"
          ]
        }
      ],
      "source": [
        "import sys\n",
        "\n",
        "month = str(input('Please enter the month: '))\n",
        "day = int(input('Please enter the day: '))\n",
        "\n",
        "season_dict = {}\n",
        "season_dict['winter'] = [['December', 21, 31],  ['January', 31], ['February', 29], ['March', 1, 19]]     # Dec 21 - Mar 19\n",
        "season_dict['spring'] = [['March', 20, 31],     ['April', 30],   ['May', 31],      ['June', 1, 20]]      # Mar 20 - Jun 20\n",
        "season_dict['summer'] = [['June', 21, 30],      ['July', 31],    ['August', 31],   ['September', 1, 22]] # Jun 21 - Sep 22\n",
        "season_dict['autumn'] = [['September', 23, 30], ['October', 31], ['November', 30], ['December', 1, 20]]  # Sep 23 - Dec 20\n",
        "\n",
        "mths = ['January', 'February', 'March', 'April', 'May', 'June', 'July', 'August', 'September', 'October', 'November', 'December']\n",
        "\n",
        "def bounds_check():\n",
        "\n",
        "    if day < 1 or day > 31:  # always true\n",
        "        sys.exit(f'Day {day} out of bounds for month {month}')\n",
        "\n",
        "    if month not in mths:\n",
        "        sys.exit(f'Month {month} not entered correctly')\n",
        "\n",
        "    # need to check days for overlap months\n",
        "    for season, months in season_dict.items():\n",
        "        # 4th month in a season doesn't matter here as upper bound is lower\n",
        "        if month in months[0][0] and day > months[0][2]:\n",
        "            sys.exit(f'Day {day} out of bounds for month {month}')\n",
        "        elif (month in months[1][0] and day > months[1][1]) or (month in months[2][0] and day > months[2][1]):\n",
        "            sys.exit(f'Day {day} out of bounds for month {month}')\n",
        "\n",
        "def main():\n",
        "    for season, months in season_dict.items():\n",
        "        # easy middle months cases\n",
        "        if month in months[1][0] and day <= months[1][1]:\n",
        "            print(f'Season is {season}')\n",
        "        elif month in months[2][0] and day <= months[2][1]:\n",
        "            print(f'Season is {season}')\n",
        "\n",
        "        # overlap months\n",
        "        if month in months[0][0] and day >= months[0][1] and day <= months[0][2]:\n",
        "            print(f'Season is {season}')\n",
        "        elif month in months[3][0] and day <= months[3][2]:\n",
        "            print(f'Season is {season}')\n",
        "\n",
        "\n",
        "bounds_check()\n",
        "main()\n"
      ]
    },
    {
      "cell_type": "markdown",
      "metadata": {
        "id": "doh4NuzrzwHp"
      },
      "source": [
        "**0.8** Implement repeats(), as specified in doc-string. Then call on variables a and b below. Print True if repeated, else, print False."
      ]
    },
    {
      "cell_type": "code",
      "execution_count": null,
      "metadata": {
        "colab": {
          "base_uri": "https://localhost:8080/"
        },
        "id": "XbVgBDeczwHp",
        "outputId": "f1837fc3-5aac-41bf-aa81-183b8f91d788"
      },
      "outputs": [
        {
          "output_type": "stream",
          "name": "stdout",
          "text": [
            "list 'a' repeats 5: True\n",
            "list 'a' repeats 6: False\n",
            "list 'b' repeats 5: False\n"
          ]
        }
      ],
      "source": [
        "a = [1, 3, 1, 6, 3, 5, 5, 2]\n",
        "b = [1, 2, 3, 3, 4, 5, 6, 7, 8, 9]\n",
        "\n",
        "def repeated_val(xs, val=5):\n",
        "    \"\"\"Function to search whether 'val' is repeated in sequence.\n",
        "\n",
        "    :param xs:      List of items to search\n",
        "    :param val:     Val being searched (default = 5)\n",
        "\n",
        "    :return:        True if repeated 'val' and neighbors, i.e., [..., 'val', 'val', ...] = True; else, False\n",
        "    \"\"\"\n",
        "    prev = None\n",
        "    for i in range(len(xs)):\n",
        "        if i == 0: # first elem\n",
        "            prev = xs[i]\n",
        "            continue\n",
        "        else:\n",
        "            if (xs[i] == prev) and (xs[i] == val):  # 1) curr equal to prev; 2) curr equal to val\n",
        "                return True\n",
        "            prev = xs[i] # set prev to curr before next iteration\n",
        "\n",
        "    return False\n",
        "\n",
        "print(\"list 'a' repeats 5:\", repeated_val(a))\n",
        "print(\"list 'a' repeats 6:\", repeated_val(a, val=6))\n",
        "print(\"list 'b' repeats 5:\", repeated_val(b))"
      ]
    },
    {
      "cell_type": "markdown",
      "metadata": {
        "id": "ONe9LETQzwHp"
      },
      "source": [
        "## Part 1\n",
        "\n",
        "The goal in this part is to\n",
        "- understand basic functionality of numpy and pandas\n",
        "- learn how to use numpy and pandas to solve common coding tasks\n",
        "- understand these packages to process real-world data"
      ]
    },
    {
      "cell_type": "markdown",
      "metadata": {
        "id": "F0GD4hPlzwHp"
      },
      "source": [
        "Import other libraries, such that numpy library is called by with np and pandas with pd"
      ]
    },
    {
      "cell_type": "code",
      "execution_count": 3,
      "metadata": {
        "id": "rykrCaA4zwHp"
      },
      "outputs": [],
      "source": [
        "import os\n",
        "import numpy as np"
      ]
    },
    {
      "cell_type": "markdown",
      "metadata": {
        "id": "Ju_Ij2bkzwHp"
      },
      "source": [
        "### a) Numpy Basics\n",
        "*Make sure to leave random seeds in each cell so that the outputs match the expected answer."
      ]
    },
    {
      "cell_type": "markdown",
      "metadata": {
        "id": "QJwZQZdYzwHp"
      },
      "source": [
        "### 1)"
      ]
    },
    {
      "cell_type": "markdown",
      "metadata": {
        "id": "d55Nj1tZzwHp"
      },
      "source": [
        "Create a 10x10 array with random values and find the minimum and maximum values "
      ]
    },
    {
      "cell_type": "code",
      "execution_count": null,
      "metadata": {
        "colab": {
          "base_uri": "https://localhost:8080/"
        },
        "id": "MXHh37JKzwHp",
        "outputId": "a3615a8a-4fe7-4a54-b560-1ad4a98c32a5"
      },
      "outputs": [
        {
          "output_type": "stream",
          "name": "stdout",
          "text": [
            "arr = array([[0.69646919, 0.28613933, 0.22685145, 0.55131477, 0.71946897,\n",
            "        0.42310646, 0.9807642 , 0.68482974, 0.4809319 , 0.39211752],\n",
            "       [0.34317802, 0.72904971, 0.43857224, 0.0596779 , 0.39804426,\n",
            "        0.73799541, 0.18249173, 0.17545176, 0.53155137, 0.53182759],\n",
            "       [0.63440096, 0.84943179, 0.72445532, 0.61102351, 0.72244338,\n",
            "        0.32295891, 0.36178866, 0.22826323, 0.29371405, 0.63097612],\n",
            "       [0.09210494, 0.43370117, 0.43086276, 0.4936851 , 0.42583029,\n",
            "        0.31226122, 0.42635131, 0.89338916, 0.94416002, 0.50183668],\n",
            "       [0.62395295, 0.1156184 , 0.31728548, 0.41482621, 0.86630916,\n",
            "        0.25045537, 0.48303426, 0.98555979, 0.51948512, 0.61289453],\n",
            "       [0.12062867, 0.8263408 , 0.60306013, 0.54506801, 0.34276383,\n",
            "        0.30412079, 0.41702221, 0.68130077, 0.87545684, 0.51042234],\n",
            "       [0.66931378, 0.58593655, 0.6249035 , 0.67468905, 0.84234244,\n",
            "        0.08319499, 0.76368284, 0.24366637, 0.19422296, 0.57245696],\n",
            "       [0.09571252, 0.88532683, 0.62724897, 0.72341636, 0.01612921,\n",
            "        0.59443188, 0.55678519, 0.15895964, 0.15307052, 0.69552953],\n",
            "       [0.31876643, 0.6919703 , 0.55438325, 0.38895057, 0.92513249,\n",
            "        0.84167   , 0.35739757, 0.04359146, 0.30476807, 0.39818568],\n",
            "       [0.70495883, 0.99535848, 0.35591487, 0.76254781, 0.59317692,\n",
            "        0.6917018 , 0.15112745, 0.39887629, 0.2408559 , 0.34345601]])\n",
            "\n",
            "arr.max() = 0.9953584820340174\n",
            "arr.min() = 0.01612920669501683\n"
          ]
        }
      ],
      "source": [
        "np.random.seed(123)\n",
        "arr = np.random.rand(10, 10)\n",
        "print(f'{arr = }\\n\\n{arr.max() = }\\n{arr.min() = }')\n"
      ]
    },
    {
      "cell_type": "markdown",
      "metadata": {
        "id": "cWh7BHGDzwHp"
      },
      "source": [
        "### 2)  "
      ]
    },
    {
      "cell_type": "markdown",
      "metadata": {
        "id": "p2WKpduPzwHp"
      },
      "source": [
        "Extract the integer part of array Z using 5 different numpy methods"
      ]
    },
    {
      "cell_type": "code",
      "execution_count": 5,
      "metadata": {
        "colab": {
          "base_uri": "https://localhost:8080/",
          "height": 412
        },
        "id": "t8Ca1LgAzwHq",
        "outputId": "67b0e550-4bd6-488b-930b-716bee35204a"
      },
      "outputs": [
        {
          "output_type": "stream",
          "name": "stdout",
          "text": [
            "Z = array([6.96469186, 2.86139335, 2.26851454, 5.51314769, 7.1946897 ,\n",
            "       4.2310646 , 9.80764198, 6.84829739, 4.80931901, 3.92117518])\n",
            "\n",
            "method = array([6, 2, 2, 5, 7, 4, 9, 6, 4, 3])\n",
            "method = [6, 2, 2, 5, 7, 4, 9, 6, 4, 3]\n",
            "method = array([6, 2, 2, 5, 7, 4, 9, 6, 4, 3])\n"
          ]
        },
        {
          "output_type": "stream",
          "name": "stderr",
          "text": [
            "<ipython-input-5-6dad484d7306>:14: DeprecationWarning: `np.int` is a deprecated alias for the builtin `int`. To silence this warning, use `int` by itself. Doing this will not modify any behavior and is safe. When replacing `np.int`, you may wish to use e.g. `np.int64` or `np.int32` to specify the precision. If you wish to review your current use, check the release note link for additional information.\n",
            "Deprecated in NumPy 1.20; for more details and guidance: https://numpy.org/devdocs/release/1.20.0-notes.html#deprecations\n",
            "  m4 = np.int(Z)\n"
          ]
        },
        {
          "output_type": "error",
          "ename": "TypeError",
          "evalue": "ignored",
          "traceback": [
            "\u001b[0;31m---------------------------------------------------------------------------\u001b[0m",
            "\u001b[0;31mTypeError\u001b[0m                                 Traceback (most recent call last)",
            "\u001b[0;32m<ipython-input-5-6dad484d7306>\u001b[0m in \u001b[0;36m<module>\u001b[0;34m\u001b[0m\n\u001b[1;32m     12\u001b[0m     \u001b[0mprint\u001b[0m\u001b[0;34m(\u001b[0m\u001b[0;34mf'{method = }'\u001b[0m\u001b[0;34m)\u001b[0m\u001b[0;34m\u001b[0m\u001b[0;34m\u001b[0m\u001b[0m\n\u001b[1;32m     13\u001b[0m \u001b[0;34m\u001b[0m\u001b[0m\n\u001b[0;32m---> 14\u001b[0;31m \u001b[0mm4\u001b[0m \u001b[0;34m=\u001b[0m \u001b[0mnp\u001b[0m\u001b[0;34m.\u001b[0m\u001b[0mint\u001b[0m\u001b[0;34m(\u001b[0m\u001b[0mZ\u001b[0m\u001b[0;34m)\u001b[0m\u001b[0;34m\u001b[0m\u001b[0;34m\u001b[0m\u001b[0m\n\u001b[0m\u001b[1;32m     15\u001b[0m \u001b[0mm5\u001b[0m \u001b[0;34m=\u001b[0m \u001b[0;34m''\u001b[0m\u001b[0;34m\u001b[0m\u001b[0;34m\u001b[0m\u001b[0m\n\u001b[1;32m     16\u001b[0m \u001b[0;34m\u001b[0m\u001b[0m\n",
            "\u001b[0;31mTypeError\u001b[0m: only size-1 arrays can be converted to Python scalars"
          ]
        }
      ],
      "source": [
        "np.random.seed(123)\n",
        "Z = np.random.uniform(0, 10, 10)\n",
        "\n",
        "print(f'{Z = }\\n')\n",
        "\n",
        "m1 = np.array(Z, int)\n",
        "m2 = [int(x) for x in Z]\n",
        "m3 = Z.astype(int)\n",
        "\n",
        "\n",
        "for method in [m1, m2, m3]:\n",
        "    print(f'{method = }')\n",
        "\n",
        "# m4 = np.int(Z)\n",
        "# m5 = ''\n",
        "\n",
        "# COME UP WITH 4 and 5\n",
        "\n",
        "\n"
      ]
    },
    {
      "cell_type": "markdown",
      "metadata": {
        "id": "CAwGhiSqzwHq"
      },
      "source": [
        "Create a vector of size 20 with values spanning (0, 1), i.e., 0 and 1 are excluded."
      ]
    },
    {
      "cell_type": "code",
      "execution_count": 13,
      "metadata": {
        "id": "Jf0SEuUNzwHq",
        "colab": {
          "base_uri": "https://localhost:8080/"
        },
        "outputId": "d8dfe567-b5bb-4c3f-87db-fbb4cfad7e51"
      },
      "outputs": [
        {
          "output_type": "stream",
          "name": "stdout",
          "text": [
            "[0.07914896 0.85938908 0.82150411 0.90987166 0.1286312  0.08178009\n",
            " 0.13841557 0.39937871 0.42430686 0.56221838 0.12224355 0.2013995\n",
            " 0.81164435 0.46798757 0.80793821 0.00742638 0.55159273 0.93193215\n",
            " 0.58217546 0.20609573]\n"
          ]
        }
      ],
      "source": [
        "vect = np.random.uniform(0, 1, size=20)\n",
        "print(vect)"
      ]
    },
    {
      "cell_type": "markdown",
      "metadata": {
        "id": "bGiqf1fWzwHq"
      },
      "source": [
        "Create a random vector of size 15 and sort it\n"
      ]
    },
    {
      "cell_type": "code",
      "execution_count": null,
      "metadata": {
        "id": "CJUNM0ulzwHq"
      },
      "outputs": [],
      "source": [
        "np.random.seed(123)"
      ]
    },
    {
      "cell_type": "markdown",
      "metadata": {
        "id": "drGqXZ0mzwHq"
      },
      "source": [
        "Consider two random array A anb B, check if they are equal"
      ]
    },
    {
      "cell_type": "code",
      "execution_count": null,
      "metadata": {
        "id": "BKnb42H8zwHq"
      },
      "outputs": [],
      "source": [
        "np.random.seed(123)\n",
        "A = np.random.randint(0, 2, 5)\n",
        "B = np.random.randint(0, 2, 5)"
      ]
    },
    {
      "cell_type": "code",
      "execution_count": null,
      "metadata": {
        "id": "cc8yVVDnzwHq"
      },
      "outputs": [],
      "source": []
    },
    {
      "cell_type": "markdown",
      "metadata": {
        "id": "zcdHgRsnzwHq"
      },
      "source": [
        "matplotlib is the plotting library which pandas' plotting functionality is built upon, and it is usually aliased to plt.\n",
        "\n",
        "%matplotlib inline tells the notebook to show plots inline, instead of creating them in a separate window.\n",
        "\n",
        "plt.style.use('ggplot') is a style theme that most people find agreeable, based upon the styling of R's ggplot package.\n",
        "\n",
        "See the documentation <https://pandas.pydata.org/pandas-docs/stable/generated/pandas.DataFrame.plot.html> if you get stuck!"
      ]
    },
    {
      "cell_type": "markdown",
      "metadata": {
        "id": "KX1-u2ttzwHq"
      },
      "source": [
        "Make an array immutable (read-only)"
      ]
    },
    {
      "cell_type": "code",
      "execution_count": null,
      "metadata": {
        "id": "C79qB6zazwHq"
      },
      "outputs": [],
      "source": [
        "Z = np.zeros(10)"
      ]
    },
    {
      "cell_type": "markdown",
      "metadata": {
        "id": "I02qvTaHzwHq"
      },
      "source": [
        "What if we want to plot multiple things? Pandas allows you to pass in a matplotlib Axis object for plots, and plots will also return an Axis object.\n",
        "\n",
        "Make a bar plot of monthly revenue with a line plot of monthly advertising spending (numbers in millions)\n",
        "\n"
      ]
    },
    {
      "cell_type": "markdown",
      "metadata": {
        "id": "uH6bVCkAzwHq"
      },
      "source": [
        "Create a structured array representing a position (x,y) and a color (r,g,b). Instantiate structured array's values to be all zeros (though same method for other values as well)."
      ]
    },
    {
      "cell_type": "code",
      "execution_count": null,
      "metadata": {
        "id": "g9cJ3O0nzwHq"
      },
      "outputs": [],
      "source": []
    },
    {
      "cell_type": "markdown",
      "metadata": {
        "id": "ZtjhS-yszwHq"
      },
      "source": [
        "Considering a four dimensions array, how to get sum over the last two axis at once? "
      ]
    },
    {
      "cell_type": "code",
      "execution_count": null,
      "metadata": {
        "id": "JQUakdmnzwHq"
      },
      "outputs": [],
      "source": [
        "np.random.seed(123)\n",
        "A = np.random.randint(0, 10, (3, 4, 3, 4))"
      ]
    },
    {
      "cell_type": "markdown",
      "metadata": {
        "id": "NrmZipwwzwHq"
      },
      "source": [
        "Considering a (w,h,3) image of (dtype=ubyte), compute the number of unique colors"
      ]
    },
    {
      "cell_type": "code",
      "execution_count": null,
      "metadata": {
        "id": "kLp4hhkozwHq"
      },
      "outputs": [],
      "source": [
        "np.random.seed(123)\n",
        "w, h = 16, 16\n",
        "I = np.random.randint(0, 2, (h, w, 3)).astype(np.ubyte)\n",
        "print(I.shape)"
      ]
    },
    {
      "cell_type": "markdown",
      "metadata": {
        "id": "NQ3GueeLzwHq"
      },
      "source": [
        "How to accumulate elements of a vector (X) to an array (F) based on an index list (I)?"
      ]
    },
    {
      "cell_type": "code",
      "execution_count": null,
      "metadata": {
        "id": "VXndJwM6zwHr"
      },
      "outputs": [],
      "source": [
        "X = [1, 2, 3, 4, 5, 6]\n",
        "I = [1, 3, 9, 3, 4, 1]\n",
        "F = np.bincount(I, X)\n",
        "print(F)"
      ]
    },
    {
      "cell_type": "code",
      "execution_count": null,
      "metadata": {
        "id": "cDylCuxTzwHr"
      },
      "outputs": [],
      "source": []
    },
    {
      "cell_type": "markdown",
      "metadata": {
        "id": "0Gj9gx1SzwHr"
      },
      "source": [
        "How to read the following file?"
      ]
    },
    {
      "cell_type": "code",
      "execution_count": null,
      "metadata": {
        "id": "L_3VGzQ5zwHr"
      },
      "outputs": [],
      "source": [
        "fpath = os.path.join(\"data\", \"tabular\", \"missing.dat\")\n",
        "with open(fpath, 'r') as fi:\n",
        "    # fi.readlines()\n",
        "    for line in fi:\n",
        "        pass"
      ]
    },
    {
      "cell_type": "markdown",
      "metadata": {
        "id": "OFylj7Y8zwHr"
      },
      "source": [
        "\n",
        "Convert a vector of ints into a matrix binary representation"
      ]
    },
    {
      "cell_type": "code",
      "execution_count": null,
      "metadata": {
        "id": "0B2uRiR5zwHr"
      },
      "outputs": [],
      "source": [
        "I = np.array([0, 1, 2, 3, 15, 16, 32, 64, 128])\n",
        "B = ((I.reshape(-1,1) & (2**np.arange(8))) != 0).astype(int)"
      ]
    },
    {
      "cell_type": "markdown",
      "metadata": {
        "id": "VvlGfZltzwHr"
      },
      "source": [
        "Given a two dimensional array, how to extract unique rows?"
      ]
    },
    {
      "cell_type": "code",
      "execution_count": null,
      "metadata": {
        "id": "MuXAfB61zwHr"
      },
      "outputs": [],
      "source": [
        "Z = np.random.randint(0, 2, (6, 3))\n",
        "print(Z)"
      ]
    },
    {
      "cell_type": "markdown",
      "metadata": {
        "id": "QzjvsLTZzwHr"
      },
      "source": [
        "## Pandas"
      ]
    },
    {
      "cell_type": "markdown",
      "metadata": {
        "id": "tshcXaVOzwHr"
      },
      "source": [
        "Made-up data representing animals and trips to vet"
      ]
    },
    {
      "cell_type": "code",
      "execution_count": null,
      "metadata": {
        "id": "meDlCwzTzwHr"
      },
      "outputs": [],
      "source": [
        "data = {'animal': ['cat', 'cat', 'snake', 'dog', 'dog', 'cat', 'snake', 'cat', 'dog', 'dog'],\n",
        "        'age': [2.5, 3, 0.5, np.nan, 5, 2, 4.5, np.nan, 7, 3],\n",
        "        'visits': [1, 3, 2, 3, 2, 3, 1, 1, 2, 1],\n",
        "        'priority': ['yes', 'yes', 'no', 'yes', 'no', 'no', 'no', 'yes', 'no', 'no']}\n",
        "\n",
        "labels = ['a', 'b', 'c', 'd', 'e', 'f', 'g', 'h', 'i', 'j']\n"
      ]
    },
    {
      "cell_type": "markdown",
      "metadata": {
        "id": "w33FFw9TzwHr"
      },
      "source": [
        "Create a DataFrame df from this dictionary data which has the index labels."
      ]
    },
    {
      "cell_type": "code",
      "execution_count": null,
      "metadata": {
        "id": "yVH11-8-zwHr"
      },
      "outputs": [],
      "source": []
    },
    {
      "cell_type": "markdown",
      "metadata": {
        "id": "uWINXVb5zwHr"
      },
      "source": [
        "Display a summary of the basic information about this DataFrame and its data."
      ]
    },
    {
      "cell_type": "code",
      "execution_count": null,
      "metadata": {
        "id": "Hk8fON_ezwHr"
      },
      "outputs": [],
      "source": []
    },
    {
      "cell_type": "markdown",
      "metadata": {
        "id": "vFKtq12ezwHr"
      },
      "source": [
        "Return the first 3 rows of the DataFrame df."
      ]
    },
    {
      "cell_type": "code",
      "execution_count": null,
      "metadata": {
        "id": "iYXNFiNWzwHr"
      },
      "outputs": [],
      "source": []
    },
    {
      "cell_type": "markdown",
      "metadata": {
        "id": "kXLydWrZzwHr"
      },
      "source": [
        "Select just the 'animal' and 'age' columns from the DataFrame df."
      ]
    },
    {
      "cell_type": "code",
      "execution_count": null,
      "metadata": {
        "id": "X_PuMat0zwHr"
      },
      "outputs": [],
      "source": []
    },
    {
      "cell_type": "markdown",
      "metadata": {
        "id": "KvV2QUgVzwHr"
      },
      "source": [
        "Change the age in row 'f' to 1.5."
      ]
    },
    {
      "cell_type": "code",
      "execution_count": null,
      "metadata": {
        "id": "tjaiC9OLzwHr"
      },
      "outputs": [],
      "source": []
    },
    {
      "cell_type": "markdown",
      "metadata": {
        "id": "3LmIPR7czwHr"
      },
      "source": [
        "Calculate the mean age for each different animal in df."
      ]
    },
    {
      "cell_type": "code",
      "execution_count": null,
      "metadata": {
        "id": "szfFlEOOzwHs"
      },
      "outputs": [],
      "source": []
    },
    {
      "cell_type": "markdown",
      "metadata": {
        "id": "SSt7TUW7zwHs"
      },
      "source": [
        " In the 'animal' column, change the 'snake' entries to 'python'."
      ]
    },
    {
      "cell_type": "code",
      "execution_count": null,
      "metadata": {
        "id": "-8MPiF-tzwHs"
      },
      "outputs": [],
      "source": []
    },
    {
      "cell_type": "markdown",
      "metadata": {
        "id": "lZonKEEazwHs"
      },
      "source": [
        "For each animal type and each number of visits, find the mean age. In other words, each row is an animal, each column is a number of visits and the values are the mean ages (hint: use a pivot table)."
      ]
    },
    {
      "cell_type": "code",
      "execution_count": null,
      "metadata": {
        "id": "5e8DtfSjzwHs"
      },
      "outputs": [],
      "source": []
    },
    {
      "cell_type": "markdown",
      "metadata": {
        "id": "BpojrRJPzwHs"
      },
      "source": [
        "Given a DataFrame, subtract the row mean from each element in the row?"
      ]
    },
    {
      "cell_type": "code",
      "execution_count": null,
      "metadata": {
        "id": "sLwrS_U5zwHs"
      },
      "outputs": [],
      "source": [
        "# a 5x3 frame of float values\n",
        "df_floats = pd.DataFrame(np.random.random(size=(5, 3)))"
      ]
    },
    {
      "cell_type": "markdown",
      "metadata": {
        "id": "fIDWcWRszwHs"
      },
      "source": [
        "### Series and Datetimeindex"
      ]
    },
    {
      "cell_type": "markdown",
      "metadata": {
        "id": "ooIaqRZvzwHs"
      },
      "source": [
        "Create a DatetimeIndex that contains each business day of 2015 and use it to index a Series of random numbers. Let's call this Series s."
      ]
    },
    {
      "cell_type": "code",
      "execution_count": null,
      "metadata": {
        "id": "0hCADni5zwHs"
      },
      "outputs": [],
      "source": []
    },
    {
      "cell_type": "markdown",
      "metadata": {
        "id": "vcN-78ggzwHs"
      },
      "source": [
        "Find the sum of the values in s for every Wednesday."
      ]
    },
    {
      "cell_type": "code",
      "execution_count": null,
      "metadata": {
        "id": "J3mzSe3KzwHs"
      },
      "outputs": [],
      "source": []
    },
    {
      "cell_type": "markdown",
      "metadata": {
        "id": "WhWsC6gtzwHs"
      },
      "source": [
        "For each calendar month in s, find the mean of values."
      ]
    },
    {
      "cell_type": "code",
      "execution_count": null,
      "metadata": {
        "id": "Iwf1U_CXzwHs"
      },
      "outputs": [],
      "source": []
    },
    {
      "cell_type": "markdown",
      "metadata": {
        "id": "trJKDud1zwHs"
      },
      "source": [
        "For each group of four consecutive calendar months in s, find the date on which the highest value occurred."
      ]
    },
    {
      "cell_type": "code",
      "execution_count": null,
      "metadata": {
        "id": "wZ9AM_3fzwHs"
      },
      "outputs": [],
      "source": []
    },
    {
      "cell_type": "markdown",
      "metadata": {
        "id": "Vv67eZZYzwHs"
      },
      "source": [
        "### Cleaning Data"
      ]
    },
    {
      "cell_type": "markdown",
      "metadata": {
        "id": "axk5_lduzwHs"
      },
      "source": [
        "The DataFrame to use in the following puzzles:"
      ]
    },
    {
      "cell_type": "code",
      "execution_count": null,
      "metadata": {
        "id": "E4TjFkNszwHs"
      },
      "outputs": [],
      "source": [
        "df = pd.DataFrame({'From_To': ['LoNDon_paris', 'MAdrid_miLAN', 'londON_StockhOlm', \n",
        "                               'Budapest_PaRis', 'Brussels_londOn'],\n",
        "              'FlightNumber': [10045, np.nan, 10065, np.nan, 10085],\n",
        "              'RecentDelays': [[23, 47], [], [24, 43, 87], [13], [67, 32]],\n",
        "                   'Airline': ['KLM(!)', '<Air France> (12)', '(British Airways. )', \n",
        "                               '12. Air France', '\"Swiss Air\"']})\n",
        "\n",
        "df.head()"
      ]
    },
    {
      "cell_type": "markdown",
      "metadata": {
        "id": "J60JoXF0zwHs"
      },
      "source": [
        " Some values in the the FlightNumber column are missing. These numbers are meant to increase by 10 with each row so 10055 and 10075 need to be put in place. Fill in these missing numbers and make the column an integer column (instead of a float column)."
      ]
    },
    {
      "cell_type": "code",
      "execution_count": null,
      "metadata": {
        "id": "uRPC5aJ8zwHs"
      },
      "outputs": [],
      "source": []
    },
    {
      "cell_type": "markdown",
      "metadata": {
        "id": "aEayoMAqzwHs"
      },
      "source": [
        "The From_To column would be better as two separate columns! Split each string on the underscore delimiter _ to give a new temporary DataFrame with the correct values. Assign the correct column names to this temporary DataFrame."
      ]
    },
    {
      "cell_type": "code",
      "execution_count": null,
      "metadata": {
        "id": "O5Tp5n_UzwHs"
      },
      "outputs": [],
      "source": []
    },
    {
      "cell_type": "markdown",
      "metadata": {
        "id": "6fXN_EQGzwHs"
      },
      "source": [
        "Notice how the capitalisation of the city names is all mixed up in this temporary DataFrame. Standardise the strings so that only the first letter is uppercase (e.g. \"londON\" should become \"London\".)"
      ]
    },
    {
      "cell_type": "code",
      "execution_count": null,
      "metadata": {
        "id": "x3vDZu3tzwHs"
      },
      "outputs": [],
      "source": []
    },
    {
      "cell_type": "markdown",
      "metadata": {
        "id": "fdsqMI2QzwHt"
      },
      "source": [
        "Delete the From_To column from df and attach the temporary DataFrame from the previous questions."
      ]
    },
    {
      "cell_type": "code",
      "execution_count": null,
      "metadata": {
        "id": "4YDqOkMFzwHt"
      },
      "outputs": [],
      "source": []
    },
    {
      "cell_type": "markdown",
      "metadata": {
        "id": "lEH5TtSCzwHt"
      },
      "source": [
        "### Plotting\n",
        "Pandas is integrated with the plotting library matplotlib, and makes plotting DataFrames very user-friendly! Plotting in a notebook environment usually makes use of the following boilerplate:"
      ]
    },
    {
      "cell_type": "markdown",
      "metadata": {
        "id": "9BdQ-zhezwHt"
      },
      "source": [
        "matplotlib is the plotting library which pandas' plotting functionality is built upon, and it is usually aliased to plt.\n",
        "\n",
        "%matplotlib inline tells the notebook to show plots inline, instead of creating them in a separate window.\n",
        "\n",
        "plt.style.use('ggplot') is a style theme that most people find agreeable, based upon the styling of R's ggplot package.\n",
        "\n",
        "See the documentation <https://pandas.pydata.org/pandas-docs/stable/generated/pandas.DataFrame.plot.html> if you get stuck!"
      ]
    },
    {
      "cell_type": "code",
      "execution_count": null,
      "metadata": {
        "id": "iPTBZQ46zwHt"
      },
      "outputs": [],
      "source": [
        "import matplotlib.pyplot as plt\n",
        "%matplotlib inline\n",
        "plt.style.use('ggplot')"
      ]
    },
    {
      "cell_type": "code",
      "execution_count": null,
      "metadata": {
        "id": "yRAgHtPXzwHt"
      },
      "outputs": [],
      "source": [
        "df = pd.DataFrame({\"xs\":[1,5,2,8,1], \"ys\":[4,2,1,9,6]})"
      ]
    },
    {
      "cell_type": "markdown",
      "metadata": {
        "id": "rbR428KYzwHt"
      },
      "source": [
        "### 1.31)\n",
        "For starters, make a scatter plot of this random data, but use black X's instead of the default markers. Add title \"Scatter Plot\" to the plot. Use df from previous cell.\n",
        "\n",
        "*NOTE: Don't forget to add [any] title and axes labels*"
      ]
    },
    {
      "cell_type": "code",
      "execution_count": null,
      "metadata": {
        "scrolled": true,
        "id": "leJfGRm-zwHt"
      },
      "outputs": [],
      "source": []
    },
    {
      "cell_type": "markdown",
      "metadata": {
        "id": "mdISv_bwzwHt"
      },
      "source": [
        "Columns in your DataFrame can also be used to modify colors and sizes. Bill has been keeping track of his performance at work over time, as well as how good he was feeling that day, and whether he had a cup of coffee in the morning. Make a plot which incorporates all four features of this DataFrame.\n",
        "\n",
        "(Hint: If you're having trouble seeing the plot, try multiplying the Series which you choose to represent size by 10 or more)"
      ]
    },
    {
      "cell_type": "code",
      "execution_count": null,
      "metadata": {
        "id": "hjJG6OkuzwHt"
      },
      "outputs": [],
      "source": [
        "df2 = pd.DataFrame({\"productivity\":[5,2,3,1,4,5,6,7,8,3,4,8,9],\n",
        "                   \"hours_in\"    :[1,9,6,5,3,9,2,9,1,7,4,2,2],\n",
        "                   \"happiness\"   :[2,1,3,2,3,1,2,3,1,2,2,1,3],\n",
        "                   \"caffienated\" :[0,0,1,1,0,0,0,0,1,1,0,1,0]})"
      ]
    },
    {
      "cell_type": "markdown",
      "metadata": {
        "id": "IKaukBlizwHt"
      },
      "source": [
        "### 1.33)\n",
        "What if we want to plot multiple things? Pandas allows you to pass in a matplotlib Axis object for plots, and plots will also return an Axis object.\n",
        "\n",
        "Make a bar plot of monthly revenue with a line plot of monthly advertising spending (numbers in millions)\n",
        "- Two plots should be in one figure\n",
        "- Make sure that the y-axis scales of 2 plots are different\n",
        "- Be sure to include legend"
      ]
    },
    {
      "cell_type": "code",
      "execution_count": null,
      "metadata": {
        "id": "csGwQ12hzwHt"
      },
      "outputs": [],
      "source": [
        "df_to_plot = pd.DataFrame({\"revenue\":[57,68,63,71,72,90,80,62,59,51,47,52],\n",
        "                   \"advertising\":[2.1,1.9,2.7,3.0,3.6,3.2,2.7,2.4,1.8,1.6,1.3,1.9],\n",
        "                   \"month\":range(12)\n",
        "                  })"
      ]
    },
    {
      "cell_type": "markdown",
      "metadata": {
        "id": "0OhTyB12zwHt"
      },
      "source": [
        "### 1.33)\n",
        "What if we want to put the x-axis in a different scale? Create two line plots with xs as x-axis and ys as y-axis. First plot uses log scaling on x-axis, and the second plot uses default scaling on x-axis. "
      ]
    },
    {
      "cell_type": "code",
      "execution_count": null,
      "metadata": {
        "id": "-Pmw8QeYzwHt"
      },
      "outputs": [],
      "source": [
        "df3 = pd.DataFrame({\"xs\":np.logspace(-2, 2, base=10, num=12),\n",
        "                   \"ys\":range(12)\n",
        "                  })"
      ]
    },
    {
      "cell_type": "markdown",
      "metadata": {
        "id": "lGdhhyJlzwHt"
      },
      "source": [
        "##Matrix Manipulations\n",
        "Lets first create a matrix and perform some manipulations of it.\n",
        "\n",
        "Using numpy's matrix data structure, define the following matricies:\n",
        "\n",
        "$$A=\\left[ \\begin{array}{ccc} 3 & 5 & 9 \\\\ 3 & 3 & 4 \\\\ 5 & 9 & 17 \\end{array} \\right]$$\n",
        "\n",
        "$$B=\\left[ \\begin{array}{c} 2 \\\\ 1 \\\\ 4 \\end{array} \\right]$$\n",
        "\n",
        "After this solve the matrix equation:\n",
        "$$Ax = B$$"
      ]
    },
    {
      "cell_type": "code",
      "execution_count": null,
      "metadata": {
        "id": "0_I6thhgzwHt"
      },
      "outputs": [],
      "source": []
    },
    {
      "cell_type": "markdown",
      "metadata": {
        "id": "nnjPnX-uzwHt"
      },
      "source": [
        "Now write three functions for matrix multiply $C=AB$ in each of the following styles:\n",
        "\n",
        "1. By using nested for loops to impliment the naive algorithm ($C_{ij}=\\sum_{k=0}^{m-1}A_{ik}B_{kj}$)\n",
        "2. Using numpy's built in martrix multiplication  \n",
        "\n",
        "Both methods should have the same answer"
      ]
    },
    {
      "cell_type": "code",
      "execution_count": null,
      "metadata": {
        "id": "y87qaLGfzwHt"
      },
      "outputs": [],
      "source": []
    },
    {
      "cell_type": "code",
      "execution_count": null,
      "metadata": {
        "id": "LzCQJmsKzwHt"
      },
      "outputs": [],
      "source": []
    },
    {
      "cell_type": "markdown",
      "metadata": {
        "id": "g8_D_2M9zwHt"
      },
      "source": [
        "## Part 2\n",
        "Getting used to the data"
      ]
    },
    {
      "cell_type": "code",
      "execution_count": null,
      "metadata": {
        "id": "IjhYNtVszwHu"
      },
      "outputs": [],
      "source": [
        "# Reads text file and uses '|' as separator\n",
        "auto = pd.read_table('data/tabular/auto_mpg.txt', sep='|')\n",
        "auto.head()"
      ]
    },
    {
      "cell_type": "markdown",
      "metadata": {
        "id": "y3egCbGRzwHu"
      },
      "source": [
        "Answer the following questions about the data:"
      ]
    },
    {
      "cell_type": "markdown",
      "metadata": {
        "id": "1HpyzRLUzwHu"
      },
      "source": [
        "a) What is the shape of the data?"
      ]
    },
    {
      "cell_type": "code",
      "execution_count": null,
      "metadata": {
        "id": "cqOr1vv5zwHu"
      },
      "outputs": [],
      "source": []
    },
    {
      "cell_type": "markdown",
      "metadata": {
        "id": "bI0D_nfwzwHu"
      },
      "source": [
        "b) How many rows and columns are there?"
      ]
    },
    {
      "cell_type": "code",
      "execution_count": null,
      "metadata": {
        "id": "YrY1KUZezwHu"
      },
      "outputs": [],
      "source": []
    },
    {
      "cell_type": "markdown",
      "metadata": {
        "id": "XBhV_2C7zwHu"
      },
      "source": [
        "c) What variables are available?"
      ]
    },
    {
      "cell_type": "code",
      "execution_count": null,
      "metadata": {
        "id": "3sHf5pjPzwHu"
      },
      "outputs": [],
      "source": []
    },
    {
      "cell_type": "markdown",
      "metadata": {
        "id": "LqFAwDQazwHu"
      },
      "source": [
        "d) What are the ranges for the values in each numeric column?"
      ]
    },
    {
      "cell_type": "code",
      "execution_count": null,
      "metadata": {
        "id": "8rlTp8_TzwHu"
      },
      "outputs": [],
      "source": []
    },
    {
      "cell_type": "markdown",
      "metadata": {
        "id": "81ewPMjTzwHu"
      },
      "source": [
        "e) What is the average value for each column?  Does that differ significantly\n",
        "  from the median?"
      ]
    },
    {
      "cell_type": "code",
      "execution_count": null,
      "metadata": {
        "id": "hVXW3nwvzwHu"
      },
      "outputs": [],
      "source": []
    },
    {
      "cell_type": "markdown",
      "metadata": {
        "id": "NQwxged-zwHu"
      },
      "source": [
        "Answer the following questions about the data:"
      ]
    },
    {
      "cell_type": "markdown",
      "metadata": {
        "id": "SYLz3YOnzwHu"
      },
      "source": [
        "a) Which 5 cars get the best gas mileage?"
      ]
    },
    {
      "cell_type": "code",
      "execution_count": null,
      "metadata": {
        "id": "yCVWZ0UVzwHu"
      },
      "outputs": [],
      "source": []
    },
    {
      "cell_type": "markdown",
      "metadata": {
        "id": "0CqUw-_dzwHu"
      },
      "source": [
        "b) Which 5 cars with more than 4 cylinders get the best gas mileage?"
      ]
    },
    {
      "cell_type": "code",
      "execution_count": null,
      "metadata": {
        "id": "gwgbsLSYzwHu"
      },
      "outputs": [],
      "source": []
    },
    {
      "cell_type": "markdown",
      "metadata": {
        "id": "S3qSPTKnzwHu"
      },
      "source": [
        "c) Which 5 cars get the worst gas mileage?"
      ]
    },
    {
      "cell_type": "code",
      "execution_count": null,
      "metadata": {
        "id": "6wdhBMxhzwHu"
      },
      "outputs": [],
      "source": []
    },
    {
      "cell_type": "markdown",
      "metadata": {
        "id": "1wokG3KjzwHu"
      },
      "source": [
        "d) Which 5 cars with 4 or fewer cylinders get the worst gas mileage?"
      ]
    },
    {
      "cell_type": "code",
      "execution_count": null,
      "metadata": {
        "id": "vgeh2ir8zwHu"
      },
      "outputs": [],
      "source": []
    },
    {
      "cell_type": "markdown",
      "metadata": {
        "id": "NkwJ4jG0zwHu"
      },
      "source": [
        "Part 4\n",
        "Use groupby and aggregations to explore the relationships \n",
        "between mpg and the other variables.  Which variables seem to have the greatest\n",
        "effect on mpg?\n",
        "Some examples of things you might want to look at are:\n",
        "- What is the mean mpg for cars for each number of cylindres (i.e. 3 cylinders,\n",
        "  4 cylinders, 5 cylinders, etc)?\n",
        "- Did mpg rise or fall over the years contained in this dataset?\n",
        "- What is the mpg for the group of lighter cars vs the group of heaver cars?\n",
        "Note: Be creative in the ways in which you divide up the data.  You are trying\n",
        "to create segments of the data using logical filters and comparing the mpg\n",
        "for each segment of the data."
      ]
    },
    {
      "cell_type": "code",
      "execution_count": null,
      "metadata": {
        "id": "iT8iawTNzwHu"
      },
      "outputs": [],
      "source": []
    },
    {
      "cell_type": "markdown",
      "metadata": {
        "id": "S5ZxvSxEzwHu"
      },
      "source": [
        "Let's now look how MPG has changed over time, while also considering\n",
        "how specific groups have changed-- look at low, mid, and high power\n",
        "cars based upon their horsepower and see how these groups have changed over time.\n",
        "\n",
        "In his data, he called the original dataset 'auto'.\n",
        "\n",
        "**Now to look at how efficency has changed over time based on power and weight classes, two things that we know play a large role in gas mileage.  First, we create a table of efficeincy by power class and year.**"
      ]
    },
    {
      "cell_type": "code",
      "execution_count": null,
      "metadata": {
        "id": "w6RbsmyqzwHv"
      },
      "outputs": [],
      "source": []
    }
  ],
  "metadata": {
    "kernelspec": {
      "display_name": "Python 3 (ipykernel)",
      "language": "python",
      "name": "python3"
    },
    "language_info": {
      "codemirror_mode": {
        "name": "ipython",
        "version": 3
      },
      "file_extension": ".py",
      "mimetype": "text/x-python",
      "name": "python",
      "nbconvert_exporter": "python",
      "pygments_lexer": "ipython3",
      "version": "3.10.9"
    },
    "colab": {
      "provenance": [],
      "collapsed_sections": [
        "Ju_Ij2bkzwHp",
        "QzjvsLTZzwHr",
        "fIDWcWRszwHs",
        "Vv67eZZYzwHs",
        "lEH5TtSCzwHt",
        "rbR428KYzwHt",
        "IKaukBlizwHt",
        "0OhTyB12zwHt",
        "lGdhhyJlzwHt",
        "g8_D_2M9zwHt"
      ],
      "include_colab_link": true
    }
  },
  "nbformat": 4,
  "nbformat_minor": 0
}