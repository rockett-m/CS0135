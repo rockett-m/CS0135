{
 "cells": [
  {
   "cell_type": "markdown",
   "metadata": {
    "collapsed": false
   },
   "source": []
  },
  {
   "cell_type": "markdown",
   "metadata": {
    "collapsed": false
   },
   "source": [
    "## HW03 Notebook\n",
    "\n",
    "Complete the following notebook, as described in the PDF for Homework 03 (included in the download with the starter code). Submit the following:\n",
    "1. This notebook file and `hw3.py`, along with your COLLABORATORS.txt file, to the Gradescope link for code.\n",
    "2. A PDF of this notebook and all of its output, once it is completed, to the Gradescope link for the PDF.\n",
    "\n",
    "__NOTE__: The purpose of this notebook is to demonstrate the functionality implemented in `hw3.py`. As part of this demo, all analysis (i.e., questions that prompt for a short answer) are to be added to the notebook. Keep the order of the problems as listed in the assignment description. Furthermore, cells are provided as placeholders for each response; however, cells can be added as needed.\n",
    "\n",
    "Please report any questions to the [class Piazza page](https://piazza.com/class/lcwv1h9p2a11ai).\n",
    "\n",
    "### Import required libraries."
   ]
  },
  {
   "cell_type": "code",
   "execution_count": 45,
   "metadata": {
    "collapsed": false,
    "ExecuteTime": {
     "start_time": "2023-03-28T15:29:21.841219Z",
     "end_time": "2023-03-28T15:29:22.010297Z"
    }
   },
   "outputs": [
    {
     "name": "stdout",
     "output_type": "stream",
     "text": [
      "The autoreload extension is already loaded. To reload it, use:\n",
      "  %reload_ext autoreload\n"
     ]
    },
    {
     "name": "stderr",
     "output_type": "stream",
     "text": [
      "/var/folders/sp/njx9g_354jz0zcs8bj_s_2cm0000gn/T/ipykernel_30133/1998611089.py:25: MatplotlibDeprecationWarning: The seaborn styles shipped by Matplotlib are deprecated since 3.6, as they no longer correspond to the styles shipped by seaborn. However, they will remain available as 'seaborn-v0_8-<style>'. Alternatively, directly use the seaborn API instead.\n",
      "  plt.style.use('seaborn') # pretty matplotlib plots\n"
     ]
    }
   ],
   "source": [
    "import os\n",
    "import numpy as np\n",
    "import pandas as pd\n",
    "\n",
    "import warnings\n",
    "\n",
    "import sklearn.linear_model\n",
    "import sklearn.metrics\n",
    "from hw3 import calc_confusion_matrix_for_threshold\n",
    "from hw3 import calc_percent_cancer\n",
    "from hw3 import calc_binary_metrics\n",
    "from hw3 import predict_0_always_classifier\n",
    "from hw3 import calc_accuracy\n",
    "from hw3 import print_perf_metrics_for_threshold\n",
    "from hw3 import calc_perf_metrics_for_threshold\n",
    "\n",
    "from matplotlib import pyplot as plt\n",
    "import seaborn as sns\n",
    "\n",
    "# load .py changes\n",
    "%load_ext autoreload\n",
    "%autoreload 2\n",
    "\n",
    "%matplotlib inline\n",
    "plt.style.use('seaborn') # pretty matplotlib plots"
   ]
  },
  {
   "cell_type": "markdown",
   "metadata": {
    "collapsed": false
   },
   "source": [
    "#### 1) Function to calculate TP, TN, FP, and FN.\n",
    "The following four calls to the function `calc_binary_metrics` to test it. This way, the function can be tested for several edge cases. ***Don't modify this.***"
   ]
  },
  {
   "cell_type": "code",
   "execution_count": 46,
   "metadata": {
    "collapsed": false,
    "ExecuteTime": {
     "start_time": "2023-03-28T15:29:21.862241Z",
     "end_time": "2023-03-28T15:29:22.011685Z"
    }
   },
   "outputs": [
    {
     "name": "stdout",
     "output_type": "stream",
     "text": [
      "0 vs 1\n",
      "========\n",
      "TP: 0.0\n",
      "TN: 0.0\n",
      "FP: 10.0\n",
      "FN: 0.0\n"
     ]
    }
   ],
   "source": [
    "all0 = np.zeros(10)\n",
    "all1 = np.ones(10)\n",
    "TP, TN, FP, FN = calc_binary_metrics(all0, all1)\n",
    "print(f\"0 vs 1\\n========\\nTP: {TP}\\nTN: {TN}\\nFP: {FP}\\nFN: {FN}\")"
   ]
  },
  {
   "cell_type": "code",
   "execution_count": 47,
   "metadata": {
    "collapsed": false,
    "ExecuteTime": {
     "start_time": "2023-03-28T15:29:21.880445Z",
     "end_time": "2023-03-28T15:29:22.012580Z"
    }
   },
   "outputs": [
    {
     "name": "stdout",
     "output_type": "stream",
     "text": [
      "1 vs 0\n",
      "========\n",
      "TP: 0.0\n",
      "TN: 0.0\n",
      "FP: 0.0\n",
      "FN: 10.0\n"
     ]
    }
   ],
   "source": [
    "TP, TN, FP, FN = calc_binary_metrics(all1, all0)\n",
    "print(f\"1 vs 0\\n========\\nTP: {TP}\\nTN: {TN}\\nFP: {FP}\\nFN: {FN}\")"
   ]
  },
  {
   "cell_type": "code",
   "execution_count": 48,
   "metadata": {
    "collapsed": false,
    "ExecuteTime": {
     "start_time": "2023-03-28T15:29:21.897226Z",
     "end_time": "2023-03-28T15:29:22.014251Z"
    }
   },
   "outputs": [
    {
     "name": "stdout",
     "output_type": "stream",
     "text": [
      "1 vs 1\n",
      "========\n",
      "TP: 10.0\n",
      "TN: 0.0\n",
      "FP: 0.0\n",
      "FN: 0.0\n"
     ]
    }
   ],
   "source": [
    "TP, TN, FP, FN = calc_binary_metrics(all1, all1)\n",
    "print(f\"1 vs 1\\n========\\nTP: {TP}\\nTN: {TN}\\nFP: {FP}\\nFN: {FN}\")"
   ]
  },
  {
   "cell_type": "code",
   "execution_count": 49,
   "metadata": {
    "collapsed": false,
    "ExecuteTime": {
     "start_time": "2023-03-28T15:29:21.914003Z",
     "end_time": "2023-03-28T15:29:22.021597Z"
    }
   },
   "outputs": [
    {
     "name": "stdout",
     "output_type": "stream",
     "text": [
      "0 vs 0\n",
      "========\n",
      "TP: 0.0\n",
      "TN: 10.0\n",
      "FP: 0.0\n",
      "FN: 0.0\n"
     ]
    }
   ],
   "source": [
    "TP, TN, FP, FN = calc_binary_metrics(all0, all0)\n",
    "print(f\"0 vs 0\\n========\\nTP: {TP}\\nTN: {TN}\\nFP: {FP}\\nFN: {FN}\")"
   ]
  },
  {
   "cell_type": "markdown",
   "metadata": {
    "collapsed": false
   },
   "source": [
    "### Load the dataset.\n",
    "\n",
    "The following should ***not*** be modified.\n",
    "\n",
    "After it runs, the various arrays it creates will contain the 2- or 3-feature input datasets."
   ]
  },
  {
   "cell_type": "code",
   "execution_count": 50,
   "metadata": {
    "collapsed": false,
    "ExecuteTime": {
     "start_time": "2023-03-28T15:29:21.930110Z",
     "end_time": "2023-03-28T15:29:22.022830Z"
    }
   },
   "outputs": [],
   "source": [
    "# Load the x-data and y-class arrays\n",
    "x_train = np.loadtxt('./data/x_train.csv', delimiter=',', skiprows=1)\n",
    "x_test = np.loadtxt('./data/x_test.csv', delimiter=',', skiprows=1)\n",
    "\n",
    "y_train = np.loadtxt('./data/y_train.csv', delimiter=',', skiprows=1)\n",
    "y_test = np.loadtxt('./data/y_test.csv', delimiter=',', skiprows=1)"
   ]
  },
  {
   "cell_type": "markdown",
   "metadata": {
    "collapsed": false
   },
   "source": [
    "Inspect Data. The following should ***not*** be modified."
   ]
  },
  {
   "cell_type": "code",
   "execution_count": 51,
   "metadata": {
    "collapsed": false,
    "ExecuteTime": {
     "start_time": "2023-03-28T15:29:21.947202Z",
     "end_time": "2023-03-28T15:29:22.023162Z"
    }
   },
   "outputs": [
    {
     "name": "stdout",
     "output_type": "stream",
     "text": [
      "features: ['age' 'famhistory' 'marker']\n",
      "\n"
     ]
    },
    {
     "data": {
      "text/plain": "          age  famhistory    marker  ['age' 'famhistory' 'marker']\n158  63.13072         0.0  3.038506                            1.0\n116  62.18283         0.0  0.055525                            0.0\n156  62.35207         0.0  0.341663                            0.0\n62   64.22443         0.0  2.231875                            0.0\n101  71.24367         0.0  1.297835                            0.0\n90   61.82299         0.0  1.575062                            0.0\n104  62.33085         0.0  4.870715                            0.0\n148  64.68880         0.0  0.042153                            0.0\n140  74.06625         0.0  0.010894                            1.0\n15   67.18463         0.0  5.745722                            1.0\n75   63.21460         0.0  0.321701                            0.0\n171  77.83170         0.0  0.154658                            1.0\n114  60.32011         0.0  0.857177                            0.0\n20   58.07805         1.0  0.133996                            0.0\n55   75.10864         0.0  1.300307                            1.0",
      "text/html": "<div>\n<style scoped>\n    .dataframe tbody tr th:only-of-type {\n        vertical-align: middle;\n    }\n\n    .dataframe tbody tr th {\n        vertical-align: top;\n    }\n\n    .dataframe thead th {\n        text-align: right;\n    }\n</style>\n<table border=\"1\" class=\"dataframe\">\n  <thead>\n    <tr style=\"text-align: right;\">\n      <th></th>\n      <th>age</th>\n      <th>famhistory</th>\n      <th>marker</th>\n      <th>['age' 'famhistory' 'marker']</th>\n    </tr>\n  </thead>\n  <tbody>\n    <tr>\n      <th>158</th>\n      <td>63.13072</td>\n      <td>0.0</td>\n      <td>3.038506</td>\n      <td>1.0</td>\n    </tr>\n    <tr>\n      <th>116</th>\n      <td>62.18283</td>\n      <td>0.0</td>\n      <td>0.055525</td>\n      <td>0.0</td>\n    </tr>\n    <tr>\n      <th>156</th>\n      <td>62.35207</td>\n      <td>0.0</td>\n      <td>0.341663</td>\n      <td>0.0</td>\n    </tr>\n    <tr>\n      <th>62</th>\n      <td>64.22443</td>\n      <td>0.0</td>\n      <td>2.231875</td>\n      <td>0.0</td>\n    </tr>\n    <tr>\n      <th>101</th>\n      <td>71.24367</td>\n      <td>0.0</td>\n      <td>1.297835</td>\n      <td>0.0</td>\n    </tr>\n    <tr>\n      <th>90</th>\n      <td>61.82299</td>\n      <td>0.0</td>\n      <td>1.575062</td>\n      <td>0.0</td>\n    </tr>\n    <tr>\n      <th>104</th>\n      <td>62.33085</td>\n      <td>0.0</td>\n      <td>4.870715</td>\n      <td>0.0</td>\n    </tr>\n    <tr>\n      <th>148</th>\n      <td>64.68880</td>\n      <td>0.0</td>\n      <td>0.042153</td>\n      <td>0.0</td>\n    </tr>\n    <tr>\n      <th>140</th>\n      <td>74.06625</td>\n      <td>0.0</td>\n      <td>0.010894</td>\n      <td>1.0</td>\n    </tr>\n    <tr>\n      <th>15</th>\n      <td>67.18463</td>\n      <td>0.0</td>\n      <td>5.745722</td>\n      <td>1.0</td>\n    </tr>\n    <tr>\n      <th>75</th>\n      <td>63.21460</td>\n      <td>0.0</td>\n      <td>0.321701</td>\n      <td>0.0</td>\n    </tr>\n    <tr>\n      <th>171</th>\n      <td>77.83170</td>\n      <td>0.0</td>\n      <td>0.154658</td>\n      <td>1.0</td>\n    </tr>\n    <tr>\n      <th>114</th>\n      <td>60.32011</td>\n      <td>0.0</td>\n      <td>0.857177</td>\n      <td>0.0</td>\n    </tr>\n    <tr>\n      <th>20</th>\n      <td>58.07805</td>\n      <td>1.0</td>\n      <td>0.133996</td>\n      <td>0.0</td>\n    </tr>\n    <tr>\n      <th>55</th>\n      <td>75.10864</td>\n      <td>0.0</td>\n      <td>1.300307</td>\n      <td>1.0</td>\n    </tr>\n  </tbody>\n</table>\n</div>"
     },
     "execution_count": 51,
     "metadata": {},
     "output_type": "execute_result"
    }
   ],
   "source": [
    "feat_names = np.loadtxt(f'data/x_train.csv', delimiter=',', dtype=str, max_rows=1)\n",
    "print(f\"features: {feat_names}\\n\")\n",
    "target_name = np.loadtxt(f'data/x_test.csv', delimiter=',', dtype=str, max_rows=1)\n",
    "df_sampled_data = pd.DataFrame(x_test, columns=feat_names)\n",
    "df_sampled_data[str(target_name)] = y_test\n",
    "df_sampled_data.sample(15)"
   ]
  },
  {
   "cell_type": "markdown",
   "metadata": {
    "collapsed": false
   },
   "source": [
    "### 2) Compute the fraction of patients with cancer.\n",
    "\n",
    "Complete the following code.  Your solution needs to ***compute*** these values from the training and testing sets (i.e., don't simply hand-count and print the values)."
   ]
  },
  {
   "cell_type": "code",
   "execution_count": 52,
   "metadata": {
    "collapsed": false,
    "ExecuteTime": {
     "start_time": "2023-03-28T15:29:21.968577Z",
     "end_time": "2023-03-28T15:29:22.023222Z"
    }
   },
   "outputs": [
    {
     "name": "stdout",
     "output_type": "stream",
     "text": [
      "Percent of data that has_cancer on TRAIN: 14.035\n",
      "Percent of data that has_cancer on TEST : 13.889\n"
     ]
    }
   ],
   "source": [
    "#TODO: modify these prints\n",
    "tr_percent = calc_percent_cancer(y_train)\n",
    "te_percent = calc_percent_cancer(y_test)\n",
    "\n",
    "print(\"Percent of data that has_cancer on TRAIN: %.3f\" % tr_percent)\n",
    "print(\"Percent of data that has_cancer on TEST : %.3f\" % te_percent)"
   ]
  },
  {
   "cell_type": "markdown",
   "metadata": {
    "collapsed": false
   },
   "source": [
    "### 3) The predict-0-always baseline\n",
    "\n",
    "#### (i) Compute the accuracy of the always-0 classifier.\n",
    "\n",
    "Complete the functions to compute and calculate the accuracy of the always-0 classifier on validation and test outputs."
   ]
  },
  {
   "cell_type": "code",
   "execution_count": 53,
   "metadata": {
    "collapsed": false,
    "ExecuteTime": {
     "start_time": "2023-03-28T15:29:21.985252Z",
     "end_time": "2023-03-28T15:29:22.023279Z"
    }
   },
   "outputs": [
    {
     "name": "stdout",
     "output_type": "stream",
     "text": [
      "acc on TRAIN: 0.860\n",
      "acc on TEST : 0.861\n"
     ]
    }
   ],
   "source": [
    "#TODO: implement predict_0_always_classifer()\n",
    "y_train_pred = predict_0_always_classifier(x_train)\n",
    "y_test_pred = predict_0_always_classifier(x_test)\n",
    "\n",
    "acc_train = calc_accuracy(*calc_binary_metrics(y_train, y_train_pred))\n",
    "acc_test = calc_accuracy(*calc_binary_metrics(y_test, y_test_pred))\n",
    "print(\"acc on TRAIN: %.3f\" % acc_train) #TODO: modify these values\n",
    "print(\"acc on TEST : %.3f\" % acc_test)"
   ]
  },
  {
   "cell_type": "markdown",
   "metadata": {
    "collapsed": false
   },
   "source": [
    "#### (ii) Print a confusion matrix for the always-0 classifier.\n",
    "\n",
    "Add code below to generate a confusion matrix for the always-0 classifier on the test set."
   ]
  },
  {
   "cell_type": "code",
   "execution_count": 54,
   "metadata": {
    "collapsed": false,
    "ExecuteTime": {
     "start_time": "2023-03-28T15:29:22.002698Z",
     "end_time": "2023-03-28T15:29:22.023873Z"
    }
   },
   "outputs": [
    {
     "name": "stdout",
     "output_type": "stream",
     "text": [
      "Predicted    0  1\n",
      "True             \n",
      "0          155  0\n",
      "1           25  0\n"
     ]
    }
   ],
   "source": [
    "# TODO: call print(calc_confusion_matrix_for_threshold(...))\n",
    "print(calc_confusion_matrix_for_threshold(y_true_N=y_test, y_proba1_N=y_test_pred)) # args : y_true_N, y_proba1_N, thresh=0.5"
   ]
  },
  {
   "cell_type": "markdown",
   "metadata": {
    "collapsed": false
   },
   "source": [
    "#### (iii) Reflect on the accuracy of the always-0 classifier.\n",
    "\n",
    "**Answer**: TODO\n",
    "(2) You will see reasonable accuracy for the simple baseline classifier. Why not just use it for this task? Your answer, written into the notebook as\n",
    "text, should detail the pluses and minuses of using this simple classifier\n",
    "\n",
    "This is pretty good accuracy at roughly 86%. Since we are always assuming there is no cancer; however, that is very dangerous if 14% of people have cancer and we choose not to biopsy them. That is unacceptable. If this was a social media algorithm like a recommender, 86% is plenty good, but life and death needs far better accuracy. It is safer to biopsy all patients to catch the 14% but you don't want to biopsy an unnecessary 86% on the other hand. That is why we can't use only a always-0 or always-1 predictor since surgery and people's lives are the consequences.\n",
    "\n",
    "DO THISSSSSSSSSSSSSSSS"
   ]
  },
  {
   "cell_type": "markdown",
   "metadata": {
    "collapsed": false
   },
   "source": [
    "#### (iv) Analyze the various costs of using the always-0 classifier.\n",
    "\n",
    "**Answer**: TODO\n",
    "\n",
    "Additional costs of not taking biopsies of 14% of patients that have cancer beyond death is the doctors and/or hospital can be sued for negligence or medical malpractice.\n",
    "\n",
    "DO THISSSSSSSSSSSSSSSS"
   ]
  },
  {
   "cell_type": "markdown",
   "metadata": {
    "collapsed": false
   },
   "source": [
    "### 4: Basic Perceptron Models\n",
    "\n",
    "#### (i) Normalize data"
   ]
  },
  {
   "cell_type": "code",
   "execution_count": 55,
   "metadata": {
    "collapsed": false,
    "ExecuteTime": {
     "start_time": "2023-03-28T15:29:22.020237Z",
     "end_time": "2023-03-28T15:29:22.105869Z"
    }
   },
   "outputs": [
    {
     "name": "stdout",
     "output_type": "stream",
     "text": [
      "[[0.53637473 0.         0.10816263]\n",
      " [0.43257395 0.         0.05418465]\n",
      " [0.72202778 1.         0.18904397]\n",
      " ...\n",
      " [0.45372565 0.         0.57842732]\n",
      " [0.33260801 0.         0.1189701 ]\n",
      " [0.62875077 0.         0.03734379]]\n"
     ]
    }
   ],
   "source": [
    "from hw3 import standardize_data\n",
    "# print(x_test)\n",
    "#TODO\n",
    "X_train, X_test = standardize_data(X_train=x_train, X_test=x_test)\n",
    "\n",
    "print(X_train)"
   ]
  },
  {
   "cell_type": "markdown",
   "metadata": {
    "collapsed": false
   },
   "source": [
    "#### (ii) Create a basic `Perceptron` classifier\n",
    "\n",
    "Fit a perceptron to the training data.  Print out accuracy on this data, as well as on testing data.  Print out a confusion matrix on the testing data."
   ]
  },
  {
   "cell_type": "code",
   "execution_count": 56,
   "metadata": {
    "collapsed": false,
    "ExecuteTime": {
     "start_time": "2023-03-28T15:29:22.038931Z",
     "end_time": "2023-03-28T15:29:22.114103Z"
    }
   },
   "outputs": [
    {
     "name": "stdout",
     "output_type": "stream",
     "text": [
      "acc on TRAIN: 0.249\n",
      "acc on TEST : 0.272\n",
      "\n",
      "Confusion matrix for TEST:\n",
      "Predicted   0    1\n",
      "True              \n",
      "0          24  131\n",
      "1           0   25\n"
     ]
    }
   ],
   "source": [
    "#TODO: train a basic perceptron model using default parameter values, and modify these accuracies below\n",
    "# Perceptron model\n",
    "# # fit to training data\n",
    "# # make prediction on test data\n",
    "\n",
    "from hw3 import perceptron_classifier\n",
    "# inputs => {normalized X_train, X_test; standard y_train, y_test}\n",
    "pred_train, pred_test = perceptron_classifier(x_train=X_train, y_train=y_train, x_test=X_test, y_test=y_test)\n",
    "# [opt args] default vals: penalty=\"l2\", alpha=0, random_state=42)\n",
    "\n",
    "from sklearn.metrics import accuracy_score\n",
    "print(\"acc on TRAIN: %.3f\" % accuracy_score(y_train, pred_train))\n",
    "print(\"acc on TEST : %.3f\" % accuracy_score(y_test, pred_test))\n",
    "# print(\"acc on TRAIN: %.3f\" % 0)\n",
    "# print(\"acc on TEST : %.3f\" % 0)\n",
    "\n",
    "print(\"\\nConfusion matrix for TEST:\")\n",
    "# TODO: call print(calc_confusion_matrix_for_threshold(...))\n",
    "print(calc_confusion_matrix_for_threshold(y_test, pred_test))\n",
    "# print(calc_confusion_matrix_for_threshold(...))\n",
    "# print(calc_confusion_matrix_for_threshold(y_true_N, y_proba1_N, thresh=0.5))"
   ]
  },
  {
   "cell_type": "markdown",
   "metadata": {
    "collapsed": false
   },
   "source": [
    "#### (iii) Compare the `Perceptron` to the always-0 classifier.\n",
    "\n",
    "**Answer**:  TODO\n",
    "\n",
    "The perceptron classifier is marginally better than the always-0 classifier on the test data as seen by the 87.8% accuracy vs the 86.4% accuracy rate. This classifier identifies 3 true positives which bumps the accuracy. In real terms it detects cancer in 3 of the 25 patients that have cancer as opposed to 0. We would like to increase this result, but it is better than predicting always-0 and assuming no patients have cancer. Additionally, all off the patients without cancer the perceptron categorizes correctly and there are no false positives.\n"
   ]
  },
  {
   "cell_type": "markdown",
   "metadata": {
    "collapsed": false
   },
   "source": [
    "#### (iv) Generate a series of regularized perceptron models\n",
    "Each model will use a different `alpha` value, multiplying that by the L2 penalty.  You will record and plot the accuracy of each model on both training and test data."
   ]
  },
  {
   "cell_type": "code",
   "execution_count": 57,
   "metadata": {
    "collapsed": false,
    "ExecuteTime": {
     "start_time": "2023-03-28T15:29:22.060792Z",
     "end_time": "2023-03-28T15:29:22.187510Z"
    }
   },
   "outputs": [],
   "source": [
    "# TODO: create, fit models here and record accuracy of each (Implement functions needed)\n",
    "from hw3 import series_of_preceptrons\n",
    "\n",
    "alphas = np.logspace(-5, 5, base=10, num=100)\n",
    "# print(alphas)\n",
    "\n",
    "train_accuracy_list, test_accuracy_list = series_of_preceptrons(x_train=X_train, y_train=y_train, x_test=X_test, y_test=y_test, alphas=alphas)"
   ]
  },
  {
   "cell_type": "markdown",
   "metadata": {
    "collapsed": false
   },
   "source": [
    "##### Plot accuracy on train/test data across the different alpha values plotted on a logarithmic scale. Make sure to show title, legends, and axis labels."
   ]
  },
  {
   "cell_type": "code",
   "execution_count": 58,
   "metadata": {
    "collapsed": false,
    "ExecuteTime": {
     "start_time": "2023-03-28T15:29:22.174860Z",
     "end_time": "2023-03-28T15:29:22.351450Z"
    }
   },
   "outputs": [
    {
     "data": {
      "text/plain": "<Figure size 800x550 with 1 Axes>",
      "image/png": "[encoded data removed]"
     },
     "metadata": {},
     "output_type": "display_data"
    }
   ],
   "source": [
    "# TODO make plot\n",
    "plt.plot(alphas, train_accuracy_list, label='Accuracy on training')\n",
    "plt.plot(alphas, test_accuracy_list, label='Accuracy on testing')\n",
    "\n",
    "# TODO add legend, titles, etc. set x-scale appropriately\n",
    "plt.title('Accuracy scores in train and test models vs varying alpha values')\n",
    "plt.legend(loc='lower right')\n",
    "plt.xscale('log')\n",
    "plt.xlabel('log_10(alpha)')\n",
    "plt.ylabel('Accuracy')\n",
    "plt.show()"
   ]
  },
  {
   "cell_type": "markdown",
   "metadata": {
    "collapsed": false
   },
   "source": [
    "#### (iv) Discuss what the plot is showing you.\n",
    "\n",
    "**Answer**: TODO\n",
    "\n",
    "The plot shows the accuracy score for each alpha level (totaling 100) for the training and testing data. As the log scale moves to the right we can see that accuracy on testing plateaus. It is slightly lower than some of the initial results, but as the sample size gets bigger, the accuracy score becomes stable. The training data is all over the place from below 20% accuracy to roughly 90% accuracy, which suggests that the alpha does not have a large impact in classification ability to determine whether a patient has cancer or doesn't. There is little correlation between training data and error rate with the way our series of perceptrons scores accuracy.\n",
    "According to the confusion matrix of the perceptron with 3 True Positive (TP) values instead of 0 in the always-0 classifier, and 100% accuracy on the True Negative (TN) values, it appears that the accuracy score swings are largely impacted by incorrectly assuming patients have cancer when they don't - False Negative's (FN). Since approx 86% of patients don't have cancer in the trial, the accuracy score would have to go down by much more than predicting that no one has cancer. This would come down to classifying benign tumors as cancerous based on the input features, which is poor accuracy.\n",
    "\n",
    "Is regularization helpful????\n"
   ]
  },
  {
   "cell_type": "markdown",
   "metadata": {
    "collapsed": false
   },
   "source": [
    "### 5: Decision functions and probabilistic predictions\n",
    "\n",
    "#### (a) Create two new sets of predictions\n",
    "\n",
    "Fit `Perceptron` and `CalibratedClassifierCV` models to the data.  Use their predictions to generate ROC curves."
   ]
  },
  {
   "cell_type": "code",
   "execution_count": 59,
   "metadata": {
    "collapsed": false,
    "ExecuteTime": {
     "start_time": "2023-03-28T15:29:22.351090Z",
     "end_time": "2023-03-28T15:29:22.427897Z"
    }
   },
   "outputs": [
    {
     "name": "stderr",
     "output_type": "stream",
     "text": [
      "/Users/sudo/miniconda3/envs/ml_0135/lib/python3.10/site-packages/sklearn/calibration.py:321: FutureWarning: `base_estimator` was renamed to `estimator` in version 1.2 and will be removed in 1.4.\n",
      "  warnings.warn(\n"
     ]
    }
   ],
   "source": [
    "# TODO: fit a Perceptron and generate its decision_function() over the test data.\n",
    "# _, decisions_test = perceptron_classifier()  # pred_train, pred_test\n",
    "# _, pred_prob_test = calibrated_perceptron_classifier()  # pred_train, pred_test\n",
    "from hw3 import perceptron_classifier, calibrated_perceptron_classifier\n",
    "\n",
    "decisions_train, decisions_test = perceptron_classifier(X_train, y_train, X_test, y_test)\n",
    "\n",
    "# TODO: Build a CalibratedClassifierCV, using a Perceptron as its base_estimator,\n",
    "#       and generate its probabilistic predictions over the test data.\n",
    "# pred_prob_train, pred_prob_test = calibrated_perceptron_classifier(decisions_train, y_train, decisions_test, y_test)\n",
    "pred_prob_train, pred_prob_test = calibrated_perceptron_classifier(X_train, y_train, X_test, y_test)\n"
   ]
  },
  {
   "cell_type": "code",
   "execution_count": 60,
   "metadata": {
    "collapsed": false,
    "ExecuteTime": {
     "start_time": "2023-03-28T15:29:22.378308Z",
     "end_time": "2023-03-28T15:29:22.527992Z"
    }
   },
   "outputs": [
    {
     "data": {
      "text/plain": "Text(0, 0.5, 'True Positive rate (TPR)')"
     },
     "execution_count": 60,
     "metadata": {},
     "output_type": "execute_result"
    },
    {
     "data": {
      "text/plain": "<Figure size 800x550 with 1 Axes>",
      "image/png": "[encoded data removed]"
     },
     "metadata": {},
     "output_type": "display_data"
    }
   ],
   "source": [
    "# TODO something like: fpr, tpr, thr = sklearn.metrics.roc_curve(...)\n",
    "from hw3 import find_best_thresholds\n",
    "from sklearn.metrics import roc_curve\n",
    "\n",
    "fpr, tpr, thr = roc_curve(y_test, decisions_test)\n",
    "plt.plot(fpr, tpr, label='Decision function version')\n",
    "\n",
    "fpr2, tpr2, thr2 = roc_curve(y_test, pred_prob_test)\n",
    "plt.plot(fpr2, tpr2, label='Probabilistic version')\n",
    "\n",
    "plt.ylim([0, 1])\n",
    "plt.legend(loc='lower right')\n",
    "plt.xlabel(\"False Positive rate (FPR)\")\n",
    "plt.ylabel(\"True Positive rate (TPR)\")"
   ]
  },
  {
   "cell_type": "code",
   "execution_count": 61,
   "metadata": {
    "collapsed": false,
    "ExecuteTime": {
     "start_time": "2023-03-28T15:29:22.526098Z",
     "end_time": "2023-03-28T15:29:22.545283Z"
    }
   },
   "outputs": [
    {
     "name": "stdout",
     "output_type": "stream",
     "text": [
      "AUC on TEST for Perceptron: 0.577\n",
      "AUC on TEST for probabilistic model: 0.894\n"
     ]
    }
   ],
   "source": [
    "from sklearn.metrics import roc_auc_score\n",
    "\n",
    "# print(\"AUC on TEST for Perceptron: %.3f\" % sklearn.metrics.roc_auc_score(\n",
    "#     y_test, decisions_test))\n",
    "# print(\"AUC on TEST for probabilistic model: %.3f\" % sklearn.metrics.roc_auc_score(\n",
    "#         y_test, pred_prob_test))\n",
    "\n",
    "# print(\"AUC on TEST for Perceptron: %.3f\" % 0) #TODO: modify these values\n",
    "# print(\"AUC on TEST for probabilistic model: %.3f\" % 0)\n",
    "test_ppn_ras = roc_auc_score(y_test, decisions_test)\n",
    "test_pm_ras = roc_auc_score(y_test, pred_prob_test)\n",
    "\n",
    "print(\"AUC on TEST for Perceptron: %.3f\" % test_ppn_ras) #TODO: modify these values\n",
    "print(\"AUC on TEST for probabilistic model: %.3f\" % test_pm_ras)"
   ]
  },
  {
   "cell_type": "markdown",
   "metadata": {
    "collapsed": false
   },
   "source": [
    "#### (b) Discuss the results above\n",
    "\n",
    "**Answer**: TODO"
   ]
  },
  {
   "cell_type": "markdown",
   "metadata": {
    "collapsed": false
   },
   "source": [
    "#### (c) Compute model metrics for different probabilistic thresholds\n",
    "\n",
    "Complete `calc_perf_metrics_for_threshold` that takes in a set of correct outputs, a matching set of probabilities generated by a classifier, and a threshold at which to set the positive decision probability, and returns a set of metrics if we use that threshold."
   ]
  },
  {
   "cell_type": "markdown",
   "metadata": {
    "collapsed": false
   },
   "source": [
    "#### (d) Compare the probabilistic classifier across multiple decision thresholds\n",
    "\n",
    "Try a range of thresholds for classifying data into the positive class (1).  For each threshold, compute the true positive rate (TPR) and positive predictive value (PPV).  Record the best value of each metric, along with the threshold that achieves it, and the *other* metric at that threshold."
   ]
  },
  {
   "cell_type": "code",
   "execution_count": 62,
   "metadata": {
    "collapsed": false,
    "ExecuteTime": {
     "start_time": "2023-03-28T15:29:22.545840Z",
     "end_time": "2023-03-28T15:29:22.603048Z"
    }
   },
   "outputs": [],
   "source": [
    "# TODO: test different thresholds to compute these values\n",
    "from hw3 import find_best_thresholds\n",
    "\n",
    "best_TPR, best_PPV_for_best_TPR, best_TPR_threshold, best_PPV, best_TPR_for_best_PPV, best_PPV_threshold = find_best_thresholds(y_test=y_test, pred_prob_test=pred_prob_test) # y_true_N, y_proba1_N, thresh=0.5\n"
   ]
  },
  {
   "cell_type": "code",
   "execution_count": 63,
   "metadata": {
    "collapsed": false,
    "ExecuteTime": {
     "start_time": "2023-03-28T15:29:22.566709Z",
     "end_time": "2023-03-28T15:29:22.609545Z"
    }
   },
   "outputs": [
    {
     "name": "stdout",
     "output_type": "stream",
     "text": [
      "Best TPR threshold: 0.0400 => TPR: 1.0000; PPV: 0.2294\n",
      "Best PPV threshold: 0.6406 => PPV: 1.0000; TPR: 0.2400\n"
     ]
    }
   ],
   "source": [
    "print(\"Best TPR threshold: %.4f => TPR: %.4f; PPV: %.4f\" % (best_TPR_threshold, best_TPR, best_PPV_for_best_TPR))\n",
    "print(\"Best PPV threshold: %.4f => PPV: %.4f; TPR: %.4f\" % (best_PPV_threshold, best_PPV, best_TPR_for_best_PPV))"
   ]
  },
  {
   "cell_type": "markdown",
   "metadata": {
    "collapsed": false
   },
   "source": [
    "#### (e) Exploring different thresholds\n",
    "\n",
    "#### (i) Using default 0.5 threshold.\n",
    "\n",
    "Generate confusion matrix and metrics for probabilistic classifier, using threshold 0.5."
   ]
  },
  {
   "cell_type": "code",
   "execution_count": 64,
   "metadata": {
    "collapsed": false,
    "ExecuteTime": {
     "start_time": "2023-03-28T15:29:22.583608Z",
     "end_time": "2023-03-28T15:29:22.623928Z"
    }
   },
   "outputs": [
    {
     "name": "stdout",
     "output_type": "stream",
     "text": [
      "ON THE TEST SET:\n",
      "Chosen best threshold = 0.5000\n",
      "\n",
      "Predicted    0   1\n",
      "True              \n",
      "0          150   5\n",
      "1           15  10\n",
      "\n",
      "0.889 ACC\n",
      "0.400 TPR\n",
      "0.968 TNR\n",
      "0.667 PPV\n",
      "0.909 NPV\n"
     ]
    }
   ],
   "source": [
    "best_thr = 0.5\n",
    "print(\"ON THE TEST SET:\")\n",
    "print(\"Chosen best threshold = %.4f\" % best_thr)\n",
    "print(\"\")\n",
    "# TODO: print(calc_confusion_matrix_for_threshold(...))\n",
    "# print(calc_confusion_matrix_for_threshold(...))\n",
    "print(calc_confusion_matrix_for_threshold(y_test, pred_prob_test, best_thr))\n",
    "\n",
    "print(\"\")\n",
    "# TODO: print_perf_metrics_for_threshold(...)\n",
    "# print_perf_metrics_for_threshold(...)\n",
    "print_perf_metrics_for_threshold(y_test, pred_prob_test, best_thr)\n"
   ]
  },
  {
   "cell_type": "markdown",
   "metadata": {
    "collapsed": false
   },
   "source": [
    "#### (ii) Using threshold with highest TPR.\n",
    "\n",
    "Generate confusion matrix and metrics for probabilistic classifier, using threshold that maximizes TPR."
   ]
  },
  {
   "cell_type": "code",
   "execution_count": 65,
   "metadata": {
    "collapsed": false,
    "ExecuteTime": {
     "start_time": "2023-03-28T15:29:22.602658Z",
     "end_time": "2023-03-28T15:29:22.653090Z"
    }
   },
   "outputs": [
    {
     "name": "stdout",
     "output_type": "stream",
     "text": [
      "ON THE TEST SET:\n",
      "Chosen best threshold = 0.0400\n",
      "\n",
      "\n",
      "Predicted   0   1\n",
      "True             \n",
      "0          71  84\n",
      "1           0  25\n",
      "0.533 ACC\n",
      "1.000 TPR\n",
      "0.458 TNR\n",
      "0.229 PPV\n",
      "1.000 NPV\n"
     ]
    }
   ],
   "source": [
    "best_thr = best_TPR_threshold\n",
    "print(\"ON THE TEST SET:\")\n",
    "print(\"Chosen best threshold = %.4f\" % best_thr)\n",
    "print(\"\")\n",
    "\n",
    "# TODO: print(calc_confusion_matrix_for_threshold(...))\n",
    "print(\"\")\n",
    "# print(calc_confusion_matrix_for_threshold(...))\n",
    "print(calc_confusion_matrix_for_threshold(y_test, pred_prob_test, best_thr))\n",
    "\n",
    "# TODO: print_perf_metrics_for_threshold(...)\n",
    "# print_perf_metrics_for_threshold(...)\n",
    "print_perf_metrics_for_threshold(y_test, pred_prob_test, best_thr)\n"
   ]
  },
  {
   "cell_type": "markdown",
   "metadata": {
    "collapsed": false
   },
   "source": [
    "#### (iii) Using threshold with highest PPV.\n",
    "\n",
    "Generate confusion matrix and metrics for probabilistic classifier, using threshold that maximizes PPV."
   ]
  },
  {
   "cell_type": "code",
   "execution_count": 66,
   "metadata": {
    "collapsed": false,
    "ExecuteTime": {
     "start_time": "2023-03-28T15:29:22.624248Z",
     "end_time": "2023-03-28T15:29:22.653666Z"
    }
   },
   "outputs": [
    {
     "name": "stdout",
     "output_type": "stream",
     "text": [
      "ON THE TEST SET:\n",
      "Chosen best threshold = 0.6406\n",
      "\n",
      "Predicted    0  1\n",
      "True             \n",
      "0          155  0\n",
      "1           19  6\n",
      "0.894 ACC\n",
      "0.240 TPR\n",
      "1.000 TNR\n",
      "1.000 PPV\n",
      "0.891 NPV\n"
     ]
    }
   ],
   "source": [
    "best_thr = best_PPV_threshold\n",
    "print(\"ON THE TEST SET:\")\n",
    "print(\"Chosen best threshold = %.4f\" % best_thr)\n",
    "print(\"\")\n",
    "\n",
    "# TODO: print(calc_confusion_matrix_for_threshold(...))\n",
    "# print(calc_confusion_matrix_for_threshold(...))\n",
    "print(calc_confusion_matrix_for_threshold(y_test, pred_prob_test, best_thr))\n",
    "\n",
    "# TODO: print_perf_metrics_for_threshold(...)\n",
    "# print_perf_metrics_for_threshold(...)\n",
    "print_perf_metrics_for_threshold(y_test, pred_prob_test, best_thr)\n"
   ]
  },
  {
   "cell_type": "markdown",
   "metadata": {
    "collapsed": false
   },
   "source": [
    "#### (iv) Compare the confusion matrices from (a)–(c) to analyze the different thresholds.\n",
    "\n",
    "**Answer**: TODO"
   ]
  },
  {
   "cell_type": "markdown",
   "source": [
    "look at the bonus...collaborators.txt file"
   ],
   "metadata": {
    "collapsed": false
   }
  },
  {
   "cell_type": "code",
   "execution_count": 66,
   "metadata": {
    "collapsed": false,
    "ExecuteTime": {
     "start_time": "2023-03-28T15:29:22.644004Z",
     "end_time": "2023-03-28T15:29:22.653693Z"
    }
   },
   "outputs": [],
   "source": []
  }
 ],
 "metadata": {
  "kernelspec": {
   "display_name": "Python 3",
   "language": "python",
   "name": "python3"
  },
  "language_info": {
   "codemirror_mode": {
    "name": "ipython",
    "version": 2
   },
   "file_extension": ".py",
   "mimetype": "text/x-python",
   "name": "python",
   "nbconvert_exporter": "python",
   "pygments_lexer": "ipython2",
   "version": "2.7.6"
  }
 },
 "nbformat": 4,
 "nbformat_minor": 0
}
