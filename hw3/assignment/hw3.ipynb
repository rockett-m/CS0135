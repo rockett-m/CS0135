{
 "cells": [
  {
   "cell_type": "markdown",
   "metadata": {
    "collapsed": false
   },
   "source": []
  },
  {
   "cell_type": "markdown",
   "metadata": {
    "collapsed": false
   },
   "source": [
    "## HW03 Notebook\n",
    "\n",
    "Complete the following notebook, as described in the PDF for Homework 03 (included in the download with the starter code). Submit the following:\n",
    "1. This notebook file and `hw3.py`, along with your COLLABORATORS.txt file, to the Gradescope link for code.\n",
    "2. A PDF of this notebook and all of its output, once it is completed, to the Gradescope link for the PDF.\n",
    "\n",
    "__NOTE__: The purpose of this notebook is to demonstrate the functionality implemented in `hw3.py`. As part of this demo, all analysis (i.e., questions that prompt for a short answer) are to be added to the notebook. Keep the order of the problems as listed in the assignment description. Furthermore, cells are provided as placeholders for each response; however, cells can be added as needed.\n",
    "\n",
    "Please report any questions to the [class Piazza page](https://piazza.com/class/lcwv1h9p2a11ai).\n",
    "\n",
    "### Import required libraries."
   ]
  },
  {
   "cell_type": "code",
   "execution_count": 381,
   "metadata": {
    "collapsed": false,
    "ExecuteTime": {
     "start_time": "2023-03-20T17:27:46.661625Z",
     "end_time": "2023-03-20T17:27:46.787389Z"
    }
   },
   "outputs": [
    {
     "name": "stdout",
     "output_type": "stream",
     "text": [
      "The autoreload extension is already loaded. To reload it, use:\n",
      "  %reload_ext autoreload\n"
     ]
    }
   ],
   "source": [
    "import os\n",
    "import numpy as np\n",
    "import pandas as pd\n",
    "\n",
    "import warnings\n",
    "\n",
    "import sklearn.linear_model\n",
    "import sklearn.metrics\n",
    "from hw3 import calc_confusion_matrix_for_threshold\n",
    "from hw3 import calc_percent_cancer\n",
    "from hw3 import calc_binary_metrics\n",
    "from hw3 import predict_0_always_classifier\n",
    "from hw3 import calc_accuracy\n",
    "from hw3 import print_perf_metrics_for_threshold\n",
    "from hw3 import calc_perf_metrics_for_threshold\n",
    "\n",
    "from matplotlib import pyplot as plt\n",
    "import seaborn as sns\n",
    "\n",
    "# load .py changes\n",
    "%load_ext autoreload\n",
    "%autoreload 2\n",
    "\n",
    "%matplotlib inline\n",
    "plt.style.use('seaborn-v0_8') # pretty matplotlib plots"
   ]
  },
  {
   "cell_type": "markdown",
   "metadata": {
    "collapsed": false
   },
   "source": [
    "#### 1) Function to calculate TP, TN, FP, and FN.\n",
    "The following four calls to the function `calc_binary_metrics` to test it. This way, the function can be tested for several edge cases. ***Don't modify this.***"
   ]
  },
  {
   "cell_type": "code",
   "execution_count": 382,
   "metadata": {
    "collapsed": false,
    "ExecuteTime": {
     "start_time": "2023-03-20T17:27:46.680192Z",
     "end_time": "2023-03-20T17:27:46.788649Z"
    }
   },
   "outputs": [
    {
     "name": "stdout",
     "output_type": "stream",
     "text": [
      "0 vs 1\n",
      "========\n",
      "TP: 0.0\n",
      "TN: 0.0\n",
      "FP: 10.0\n",
      "FN: 0.0\n"
     ]
    }
   ],
   "source": [
    "all0 = np.zeros(10)\n",
    "all1 = np.ones(10)\n",
    "TP, TN, FP, FN = calc_binary_metrics(all0, all1)\n",
    "print(f\"0 vs 1\\n========\\nTP: {TP}\\nTN: {TN}\\nFP: {FP}\\nFN: {FN}\")"
   ]
  },
  {
   "cell_type": "code",
   "execution_count": 383,
   "metadata": {
    "collapsed": false,
    "ExecuteTime": {
     "start_time": "2023-03-20T17:27:46.696472Z",
     "end_time": "2023-03-20T17:27:46.790229Z"
    }
   },
   "outputs": [
    {
     "name": "stdout",
     "output_type": "stream",
     "text": [
      "1 vs 0\n",
      "========\n",
      "TP: 0.0\n",
      "TN: 0.0\n",
      "FP: 0.0\n",
      "FN: 10.0\n"
     ]
    }
   ],
   "source": [
    "TP, TN, FP, FN = calc_binary_metrics(all1, all0)\n",
    "print(f\"1 vs 0\\n========\\nTP: {TP}\\nTN: {TN}\\nFP: {FP}\\nFN: {FN}\")"
   ]
  },
  {
   "cell_type": "code",
   "execution_count": 384,
   "metadata": {
    "collapsed": false,
    "ExecuteTime": {
     "start_time": "2023-03-20T17:27:46.713101Z",
     "end_time": "2023-03-20T17:27:46.791481Z"
    }
   },
   "outputs": [
    {
     "name": "stdout",
     "output_type": "stream",
     "text": [
      "1 vs 1\n",
      "========\n",
      "TP: 10.0\n",
      "TN: 0.0\n",
      "FP: 0.0\n",
      "FN: 0.0\n"
     ]
    }
   ],
   "source": [
    "TP, TN, FP, FN = calc_binary_metrics(all1, all1)\n",
    "print(f\"1 vs 1\\n========\\nTP: {TP}\\nTN: {TN}\\nFP: {FP}\\nFN: {FN}\")"
   ]
  },
  {
   "cell_type": "code",
   "execution_count": 385,
   "metadata": {
    "collapsed": false,
    "ExecuteTime": {
     "start_time": "2023-03-20T17:27:46.730117Z",
     "end_time": "2023-03-20T17:27:46.798079Z"
    }
   },
   "outputs": [
    {
     "name": "stdout",
     "output_type": "stream",
     "text": [
      "0 vs 0\n",
      "========\n",
      "TP: 0.0\n",
      "TN: 10.0\n",
      "FP: 0.0\n",
      "FN: 0.0\n"
     ]
    }
   ],
   "source": [
    "TP, TN, FP, FN = calc_binary_metrics(all0, all0)\n",
    "print(f\"0 vs 0\\n========\\nTP: {TP}\\nTN: {TN}\\nFP: {FP}\\nFN: {FN}\")"
   ]
  },
  {
   "cell_type": "markdown",
   "metadata": {
    "collapsed": false
   },
   "source": [
    "### Load the dataset.\n",
    "\n",
    "The following should ***not*** be modified.\n",
    "\n",
    "After it runs, the various arrays it creates will contain the 2- or 3-feature input datasets."
   ]
  },
  {
   "cell_type": "code",
   "execution_count": 386,
   "metadata": {
    "collapsed": false,
    "ExecuteTime": {
     "start_time": "2023-03-20T17:27:46.746611Z",
     "end_time": "2023-03-20T17:27:46.798402Z"
    }
   },
   "outputs": [],
   "source": [
    "# Load the x-data and y-class arrays\n",
    "x_train = np.loadtxt('./data/x_train.csv', delimiter=',', skiprows=1)\n",
    "x_test = np.loadtxt('./data/x_test.csv', delimiter=',', skiprows=1)\n",
    "\n",
    "y_train = np.loadtxt('./data/y_train.csv', delimiter=',', skiprows=1)\n",
    "y_test = np.loadtxt('./data/y_test.csv', delimiter=',', skiprows=1)"
   ]
  },
  {
   "cell_type": "markdown",
   "metadata": {
    "collapsed": false
   },
   "source": [
    "Inspect Data. The following should ***not*** be modified."
   ]
  },
  {
   "cell_type": "code",
   "execution_count": 387,
   "metadata": {
    "collapsed": false,
    "ExecuteTime": {
     "start_time": "2023-03-20T17:27:46.763549Z",
     "end_time": "2023-03-20T17:27:46.798946Z"
    }
   },
   "outputs": [
    {
     "name": "stdout",
     "output_type": "stream",
     "text": [
      "features: ['age' 'famhistory' 'marker']\n",
      "\n"
     ]
    },
    {
     "data": {
      "text/plain": "          age  famhistory    marker  ['age' 'famhistory' 'marker']\n151  66.25471         0.0  1.486396                            0.0\n169  64.29861         0.0  2.843979                            0.0\n35   70.28287         0.0  0.151616                            0.0\n153  68.03571         1.0  0.675789                            0.0\n41   58.86290         0.0  0.234737                            0.0\n45   68.09205         0.0  1.576534                            0.0\n70   72.34719         0.0  2.548199                            1.0\n113  69.00063         1.0  0.375517                            0.0\n17   59.58395         0.0  0.707959                            0.0\n4    63.74435         0.0  0.426675                            0.0\n140  74.06625         0.0  0.010894                            1.0\n36   61.75267         0.0  0.608578                            0.0\n74   69.49271         0.0  0.649917                            0.0\n98   62.80098         0.0  0.061921                            0.0\n34   59.54047         0.0  0.112316                            0.0",
      "text/html": "<div>\n<style scoped>\n    .dataframe tbody tr th:only-of-type {\n        vertical-align: middle;\n    }\n\n    .dataframe tbody tr th {\n        vertical-align: top;\n    }\n\n    .dataframe thead th {\n        text-align: right;\n    }\n</style>\n<table border=\"1\" class=\"dataframe\">\n  <thead>\n    <tr style=\"text-align: right;\">\n      <th></th>\n      <th>age</th>\n      <th>famhistory</th>\n      <th>marker</th>\n      <th>['age' 'famhistory' 'marker']</th>\n    </tr>\n  </thead>\n  <tbody>\n    <tr>\n      <th>151</th>\n      <td>66.25471</td>\n      <td>0.0</td>\n      <td>1.486396</td>\n      <td>0.0</td>\n    </tr>\n    <tr>\n      <th>169</th>\n      <td>64.29861</td>\n      <td>0.0</td>\n      <td>2.843979</td>\n      <td>0.0</td>\n    </tr>\n    <tr>\n      <th>35</th>\n      <td>70.28287</td>\n      <td>0.0</td>\n      <td>0.151616</td>\n      <td>0.0</td>\n    </tr>\n    <tr>\n      <th>153</th>\n      <td>68.03571</td>\n      <td>1.0</td>\n      <td>0.675789</td>\n      <td>0.0</td>\n    </tr>\n    <tr>\n      <th>41</th>\n      <td>58.86290</td>\n      <td>0.0</td>\n      <td>0.234737</td>\n      <td>0.0</td>\n    </tr>\n    <tr>\n      <th>45</th>\n      <td>68.09205</td>\n      <td>0.0</td>\n      <td>1.576534</td>\n      <td>0.0</td>\n    </tr>\n    <tr>\n      <th>70</th>\n      <td>72.34719</td>\n      <td>0.0</td>\n      <td>2.548199</td>\n      <td>1.0</td>\n    </tr>\n    <tr>\n      <th>113</th>\n      <td>69.00063</td>\n      <td>1.0</td>\n      <td>0.375517</td>\n      <td>0.0</td>\n    </tr>\n    <tr>\n      <th>17</th>\n      <td>59.58395</td>\n      <td>0.0</td>\n      <td>0.707959</td>\n      <td>0.0</td>\n    </tr>\n    <tr>\n      <th>4</th>\n      <td>63.74435</td>\n      <td>0.0</td>\n      <td>0.426675</td>\n      <td>0.0</td>\n    </tr>\n    <tr>\n      <th>140</th>\n      <td>74.06625</td>\n      <td>0.0</td>\n      <td>0.010894</td>\n      <td>1.0</td>\n    </tr>\n    <tr>\n      <th>36</th>\n      <td>61.75267</td>\n      <td>0.0</td>\n      <td>0.608578</td>\n      <td>0.0</td>\n    </tr>\n    <tr>\n      <th>74</th>\n      <td>69.49271</td>\n      <td>0.0</td>\n      <td>0.649917</td>\n      <td>0.0</td>\n    </tr>\n    <tr>\n      <th>98</th>\n      <td>62.80098</td>\n      <td>0.0</td>\n      <td>0.061921</td>\n      <td>0.0</td>\n    </tr>\n    <tr>\n      <th>34</th>\n      <td>59.54047</td>\n      <td>0.0</td>\n      <td>0.112316</td>\n      <td>0.0</td>\n    </tr>\n  </tbody>\n</table>\n</div>"
     },
     "execution_count": 387,
     "metadata": {},
     "output_type": "execute_result"
    }
   ],
   "source": [
    "feat_names = np.loadtxt(f'data/x_train.csv', delimiter=',', dtype=str, max_rows=1)\n",
    "print(f\"features: {feat_names}\\n\")\n",
    "target_name = np.loadtxt(f'data/x_test.csv', delimiter=',', dtype=str, max_rows=1)\n",
    "df_sampled_data = pd.DataFrame(x_test, columns=feat_names)\n",
    "df_sampled_data[str(target_name)] = y_test\n",
    "df_sampled_data.sample(15)"
   ]
  },
  {
   "cell_type": "markdown",
   "metadata": {
    "collapsed": false
   },
   "source": [
    "### 2) Compute the fraction of patients with cancer.\n",
    "\n",
    "Complete the following code.  Your solution needs to ***compute*** these values from the training and testing sets (i.e., don't simply hand-count and print the values)."
   ]
  },
  {
   "cell_type": "code",
   "execution_count": 388,
   "metadata": {
    "collapsed": false,
    "ExecuteTime": {
     "start_time": "2023-03-20T17:27:46.783749Z",
     "end_time": "2023-03-20T17:27:46.802908Z"
    }
   },
   "outputs": [
    {
     "name": "stdout",
     "output_type": "stream",
     "text": [
      "Percent of data that has_cancer on TRAIN: 14.035\n",
      "Percent of data that has_cancer on TEST : 13.889\n"
     ]
    }
   ],
   "source": [
    "#TODO: modify these prints\n",
    "tr_percent = calc_percent_cancer(y_train)\n",
    "te_percent = calc_percent_cancer(y_test)\n",
    "\n",
    "print(\"Percent of data that has_cancer on TRAIN: %.3f\" % tr_percent)\n",
    "print(\"Percent of data that has_cancer on TEST : %.3f\" % te_percent)"
   ]
  },
  {
   "cell_type": "markdown",
   "metadata": {
    "collapsed": false
   },
   "source": [
    "### 3) The predict-0-always baseline\n",
    "\n",
    "#### (i) Compute the accuracy of the always-0 classifier.\n",
    "\n",
    "Complete the functions to compute and calculate the accuracy of the always-0 classifier on validation and test outputs."
   ]
  },
  {
   "cell_type": "code",
   "execution_count": 389,
   "metadata": {
    "collapsed": false,
    "ExecuteTime": {
     "start_time": "2023-03-20T17:27:46.800316Z",
     "end_time": "2023-03-20T17:27:46.873121Z"
    }
   },
   "outputs": [
    {
     "name": "stdout",
     "output_type": "stream",
     "text": [
      "acc on TRAIN: 0.860\n",
      "acc on TEST : 0.861\n"
     ]
    }
   ],
   "source": [
    "#TODO: implement predict_0_always_classifer()\n",
    "y_train_pred = predict_0_always_classifier(x_train)\n",
    "y_test_pred = predict_0_always_classifier(x_test)\n",
    "\n",
    "acc_train = calc_accuracy(*calc_binary_metrics(y_train, y_train_pred))\n",
    "acc_test = calc_accuracy(*calc_binary_metrics(y_test, y_test_pred))\n",
    "print(\"acc on TRAIN: %.3f\" % acc_train) #TODO: modify these values\n",
    "print(\"acc on TEST : %.3f\" % acc_test)"
   ]
  },
  {
   "cell_type": "markdown",
   "metadata": {
    "collapsed": false
   },
   "source": [
    "#### (ii) Print a confusion matrix for the always-0 classifier.\n",
    "\n",
    "Add code below to generate a confusion matrix for the always-0 classifier on the test set."
   ]
  },
  {
   "cell_type": "code",
   "execution_count": 390,
   "metadata": {
    "collapsed": false,
    "ExecuteTime": {
     "start_time": "2023-03-20T17:27:46.818872Z",
     "end_time": "2023-03-20T17:27:46.873446Z"
    }
   },
   "outputs": [
    {
     "name": "stdout",
     "output_type": "stream",
     "text": [
      "Predicted    0  1\n",
      "True             \n",
      "0          155  0\n",
      "1           25  0\n"
     ]
    }
   ],
   "source": [
    "# TODO: call print(calc_confusion_matrix_for_threshold(...))\n",
    "print(calc_confusion_matrix_for_threshold(y_true_N=y_test, y_proba1_N=y_test_pred)) # args : y_true_N, y_proba1_N, thresh=0.5"
   ]
  },
  {
   "cell_type": "markdown",
   "metadata": {
    "collapsed": false
   },
   "source": [
    "#### (iii) Reflect on the accuracy of the always-0 classifier.\n",
    "\n",
    "**Answer**: TODO\n",
    "(2) You will see reasonable accuracy for the simple baseline classifier. Why not just use it for this task? Your answer, written into the notebook as\n",
    "text, should detail the pluses and minuses of using this simple classifier\n",
    "\n",
    "This is pretty good accuracy at roughly 86%. Since we are always assuming there is no cancer; however, that is very dangerous if 14% of people have cancer and we choose not to biopsy them. That is unacceptable. If this was a social media algorithm like a recommender, 86% is plenty good, but life and death needs far better accuracy. It is safer to biopsy all patients to catch the 14% but you don't want to biopsy an unnecessary 86% on the other hand. That is why we can't use only a always-0 or always-1 predictor since surgery and people's lives are the consequences.\n",
    "\n",
    "DO THISSSSSSSSSSSSSSSS"
   ]
  },
  {
   "cell_type": "markdown",
   "metadata": {
    "collapsed": false
   },
   "source": [
    "#### (iv) Analyze the various costs of using the always-0 classifier.\n",
    "\n",
    "**Answer**: TODO\n",
    "\n",
    "Additional costs of not taking biopsies of 14% of patients that have cancer beyond death is the doctors and/or hospital can be sued for negligence or medical malpractice.\n",
    "\n",
    "DO THISSSSSSSSSSSSSSSS"
   ]
  },
  {
   "cell_type": "markdown",
   "metadata": {
    "collapsed": false
   },
   "source": [
    "### 4: Basic Perceptron Models\n",
    "\n",
    "#### (i) Normalize data"
   ]
  },
  {
   "cell_type": "code",
   "execution_count": 391,
   "metadata": {
    "collapsed": false,
    "ExecuteTime": {
     "start_time": "2023-03-20T17:27:46.836256Z",
     "end_time": "2023-03-20T17:27:46.897425Z"
    }
   },
   "outputs": [
    {
     "name": "stdout",
     "output_type": "stream",
     "text": [
      "[[0.53637473 0.         0.10816263]\n",
      " [0.43257395 0.         0.05418465]\n",
      " [0.72202778 1.         0.18904397]\n",
      " ...\n",
      " [0.45372565 0.         0.57842732]\n",
      " [0.33260801 0.         0.1189701 ]\n",
      " [0.62875077 0.         0.03734379]]\n"
     ]
    }
   ],
   "source": [
    "from hw3 import standardize_data\n",
    "# print(x_test)\n",
    "#TODO\n",
    "X_train, X_test = standardize_data(X_train=x_train, X_test=x_test)\n",
    "\n",
    "print(X_train)"
   ]
  },
  {
   "cell_type": "markdown",
   "metadata": {
    "collapsed": false
   },
   "source": [
    "#### (ii) Create a basic `Perceptron` classifier\n",
    "\n",
    "Fit a perceptron to the training data.  Print out accuracy on this data, as well as on testing data.  Print out a confusion matrix on the testing data."
   ]
  },
  {
   "cell_type": "code",
   "execution_count": 392,
   "metadata": {
    "collapsed": false,
    "ExecuteTime": {
     "start_time": "2023-03-20T17:27:46.854288Z",
     "end_time": "2023-03-20T17:27:46.897665Z"
    }
   },
   "outputs": [
    {
     "name": "stdout",
     "output_type": "stream",
     "text": [
      "acc on TRAIN: 0.249\n",
      "acc on TEST : 0.878\n",
      "\n",
      "Confusion matrix for TEST:\n",
      "Predicted    0  1\n",
      "True             \n",
      "0          155  0\n",
      "1           22  3\n"
     ]
    }
   ],
   "source": [
    "#TODO: train a basic perceptron model using default parameter values, and modify these accuracies below\n",
    "# Perceptron model\n",
    "# # fit to training data\n",
    "# # make prediction on test data\n",
    "\n",
    "from hw3 import perceptron_classifier\n",
    "# inputs => {normalized X_train, X_test; standard y_train, y_test}\n",
    "pred_train, pred_test = perceptron_classifier(x_train=X_train, y_train=y_train, x_test=X_test, y_test=y_test)\n",
    "# [opt args] default vals: penalty=\"l2\", alpha=0, random_state=42)\n",
    "\n",
    "from sklearn.metrics import accuracy_score\n",
    "print(\"acc on TRAIN: %.3f\" % accuracy_score(y_train, pred_train))\n",
    "print(\"acc on TEST : %.3f\" % accuracy_score(y_test, pred_test))\n",
    "# print(\"acc on TRAIN: %.3f\" % 0)\n",
    "# print(\"acc on TEST : %.3f\" % 0)\n",
    "\n",
    "print(\"\\nConfusion matrix for TEST:\")\n",
    "# TODO: call print(calc_confusion_matrix_for_threshold(...))\n",
    "print(calc_confusion_matrix_for_threshold(y_test, pred_test))\n",
    "# print(calc_confusion_matrix_for_threshold(...))\n",
    "# print(calc_confusion_matrix_for_threshold(y_true_N, y_proba1_N, thresh=0.5))"
   ]
  },
  {
   "cell_type": "markdown",
   "metadata": {
    "collapsed": false
   },
   "source": [
    "#### (iii) Compare the `Perceptron` to the always-0 classifier.\n",
    "\n",
    "**Answer**:  TODO\n",
    "\n",
    "The perceptron classifier is marginally better than the always-0 classifier on the test data as seen by the 87.8% accuracy vs the 86.4% accuracy rate. This classifier identifies 3 true positives which bumps the accuracy. In real terms it detects cancer in 3 of the 25 patients that have cancer as opposed to 0. We would like to increase this result, but it is better than predicting always-0 and assuming no patients have cancer. Additionally, all off the patients without cancer the perceptron categorizes correctly and there are no false positives.\n"
   ]
  },
  {
   "cell_type": "markdown",
   "metadata": {
    "collapsed": false
   },
   "source": [
    "#### (iv) Generate a series of regularized perceptron models\n",
    "Each model will use a different `alpha` value, multiplying that by the L2 penalty.  You will record and plot the accuracy of each model on both training and test data."
   ]
  },
  {
   "cell_type": "code",
   "execution_count": 393,
   "metadata": {
    "collapsed": false,
    "ExecuteTime": {
     "start_time": "2023-03-20T17:27:46.874137Z",
     "end_time": "2023-03-20T17:27:47.007111Z"
    }
   },
   "outputs": [
    {
     "name": "stdout",
     "output_type": "stream",
     "text": [
      "[1.00000000e-05 1.26185688e-05 1.59228279e-05 2.00923300e-05\n",
      " 2.53536449e-05 3.19926714e-05 4.03701726e-05 5.09413801e-05\n",
      " 6.42807312e-05 8.11130831e-05 1.02353102e-04 1.29154967e-04\n",
      " 1.62975083e-04 2.05651231e-04 2.59502421e-04 3.27454916e-04\n",
      " 4.13201240e-04 5.21400829e-04 6.57933225e-04 8.30217568e-04\n",
      " 1.04761575e-03 1.32194115e-03 1.66810054e-03 2.10490414e-03\n",
      " 2.65608778e-03 3.35160265e-03 4.22924287e-03 5.33669923e-03\n",
      " 6.73415066e-03 8.49753436e-03 1.07226722e-02 1.35304777e-02\n",
      " 1.70735265e-02 2.15443469e-02 2.71858824e-02 3.43046929e-02\n",
      " 4.32876128e-02 5.46227722e-02 6.89261210e-02 8.69749003e-02\n",
      " 1.09749877e-01 1.38488637e-01 1.74752840e-01 2.20513074e-01\n",
      " 2.78255940e-01 3.51119173e-01 4.43062146e-01 5.59081018e-01\n",
      " 7.05480231e-01 8.90215085e-01 1.12332403e+00 1.41747416e+00\n",
      " 1.78864953e+00 2.25701972e+00 2.84803587e+00 3.59381366e+00\n",
      " 4.53487851e+00 5.72236766e+00 7.22080902e+00 9.11162756e+00\n",
      " 1.14975700e+01 1.45082878e+01 1.83073828e+01 2.31012970e+01\n",
      " 2.91505306e+01 3.67837977e+01 4.64158883e+01 5.85702082e+01\n",
      " 7.39072203e+01 9.32603347e+01 1.17681195e+02 1.48496826e+02\n",
      " 1.87381742e+02 2.36448941e+02 2.98364724e+02 3.76493581e+02\n",
      " 4.75081016e+02 5.99484250e+02 7.56463328e+02 9.54548457e+02\n",
      " 1.20450354e+03 1.51991108e+03 1.91791026e+03 2.42012826e+03\n",
      " 3.05385551e+03 3.85352859e+03 4.86260158e+03 6.13590727e+03\n",
      " 7.74263683e+03 9.77009957e+03 1.23284674e+04 1.55567614e+04\n",
      " 1.96304065e+04 2.47707636e+04 3.12571585e+04 3.94420606e+04\n",
      " 4.97702356e+04 6.28029144e+04 7.92482898e+04 1.00000000e+05]\n"
     ]
    }
   ],
   "source": [
    "# train_accuracy_list = list()\n",
    "# test_accuracy_list = list()\n",
    "# TODO: create, fit models here and record accuracy of each (Implement functions needed)\n",
    "from hw3 import series_of_preceptrons\n",
    "\n",
    "# alphas = np.array([x*0.01 for x in range(1,11)])  # 0.01-0.10\n",
    "alphas = np.logspace(-5, 5, base=10, num=100)\n",
    "\n",
    "train_accuracy_list, test_accuracy_list = series_of_preceptrons(x_train=X_train, y_train=y_train, x_test=X_test, y_test=y_test, alphas=alphas)\n",
    "\n",
    "print(alphas)"
   ]
  },
  {
   "cell_type": "markdown",
   "metadata": {
    "collapsed": false
   },
   "source": [
    "##### Plot accuracy on train/test data across the different alpha values plotted on a logarithmic scale. Make sure to show title, legends, and axis labels."
   ]
  },
  {
   "cell_type": "code",
   "execution_count": 394,
   "metadata": {
    "collapsed": false,
    "ExecuteTime": {
     "start_time": "2023-03-20T17:27:47.007756Z",
     "end_time": "2023-03-20T17:27:47.137026Z"
    }
   },
   "outputs": [
    {
     "data": {
      "text/plain": "<Figure size 800x550 with 1 Axes>",
      "image/png": "[encoded data removed]"
     },
     "metadata": {},
     "output_type": "display_data"
    }
   ],
   "source": [
    "# TODO make plot\n",
    "plt.plot(alphas, train_accuracy_list, label='Accuracy on training')\n",
    "plt.plot(alphas, test_accuracy_list, label='Accuracy on testing')\n",
    "\n",
    "# TODO add legend, titles, etc. set x-scale appropriately\n",
    "plt.legend(loc='lower right')\n",
    "# plt.legend(['Accuracy on training', 'Accuracy on testing'], loc='upper right')\n",
    "plt.xscale('log')\n",
    "plt.xlabel('log_10(alpha)')\n",
    "plt.ylabel('Accuracy')\n",
    "plt.show()"
   ]
  },
  {
   "cell_type": "markdown",
   "metadata": {
    "collapsed": false
   },
   "source": [
    "#### (iv) Discuss what the plot is showing you.\n",
    "\n",
    "**Answer**: TODO"
   ]
  },
  {
   "cell_type": "markdown",
   "metadata": {
    "collapsed": false
   },
   "source": [
    "### 5: Decision functions and probabilistic predictions\n",
    "\n",
    "#### (a) Create two new sets of predictions\n",
    "\n",
    "Fit `Perceptron` and `CalibratedClassifierCV` models to the data.  Use their predictions to generate ROC curves."
   ]
  },
  {
   "cell_type": "code",
   "execution_count": 395,
   "metadata": {
    "collapsed": false,
    "ExecuteTime": {
     "start_time": "2023-03-20T17:27:47.137118Z",
     "end_time": "2023-03-20T17:27:47.153083Z"
    }
   },
   "outputs": [],
   "source": [
    "# TODO: fit a Perceptron and generate its decision_function() over the test data.\n",
    "\n",
    "\n",
    "\n",
    "# TODO: Build a CalibratedClassifierCV, using a Perceptron as its base_estimator,\n",
    "#       and generate its probabilistic predictions over the test data.\n",
    "\n"
   ]
  },
  {
   "cell_type": "code",
   "execution_count": 396,
   "metadata": {
    "collapsed": false,
    "ExecuteTime": {
     "start_time": "2023-03-20T17:27:47.153394Z",
     "end_time": "2023-03-20T17:27:47.257557Z"
    }
   },
   "outputs": [
    {
     "name": "stderr",
     "output_type": "stream",
     "text": [
      "No artists with labels found to put in legend.  Note that artists whose label start with an underscore are ignored when legend() is called with no argument.\n"
     ]
    },
    {
     "data": {
      "text/plain": "<Figure size 800x550 with 1 Axes>",
      "image/png": "[encoded data removed]"
     },
     "metadata": {},
     "output_type": "display_data"
    }
   ],
   "source": [
    "# TODO something like: fpr, tpr, thr = sklearn.metrics.roc_curve(...)\n",
    "\n",
    "plt.ylim([0, 1])\n",
    "plt.legend(loc='lower right')\n",
    "plt.xlabel(\"False Positive rate (FPR)\");\n",
    "plt.ylabel(\"True Positive rate (TPR)\");"
   ]
  },
  {
   "cell_type": "code",
   "execution_count": 397,
   "metadata": {
    "collapsed": false,
    "ExecuteTime": {
     "start_time": "2023-03-20T17:27:47.258038Z",
     "end_time": "2023-03-20T17:27:47.273091Z"
    }
   },
   "outputs": [
    {
     "name": "stdout",
     "output_type": "stream",
     "text": [
      "AUC on TEST for Perceptron: 0.000\n",
      "AUC on TEST for probabilistic model: 0.000\n"
     ]
    }
   ],
   "source": [
    "print(\"AUC on TEST for Perceptron: %.3f\" % 0) #TODO: modify these values\n",
    "print(\"AUC on TEST for probabilistic model: %.3f\" % 0)\n",
    "\n"
   ]
  },
  {
   "cell_type": "markdown",
   "metadata": {
    "collapsed": false
   },
   "source": [
    "#### (b) Discuss the results above\n",
    "\n",
    "**Answer**: TODO"
   ]
  },
  {
   "cell_type": "markdown",
   "metadata": {
    "collapsed": false
   },
   "source": [
    "#### (c) Compute model metrics for different probabilistic thresholds\n",
    "\n",
    "Complete `calc_perf_metrics_for_threshold` that takes in a set of correct outputs, a matching set of probabilities generated by a classifier, and a threshold at which to set the positive decision probability, and returns a set of metrics if we use that threshold."
   ]
  },
  {
   "cell_type": "markdown",
   "metadata": {
    "collapsed": false
   },
   "source": [
    "#### (d) Compare the probabilistic classifier across multiple decision thresholds\n",
    "\n",
    "Try a range of thresholds for classifying data into the positive class (1).  For each threshold, compute the true positive rate (TPR) and positive predictive value (PPV).  Record the best value of each metric, along with the threshold that achieves it, and the *other* metric at that threshold."
   ]
  },
  {
   "cell_type": "code",
   "execution_count": 398,
   "metadata": {
    "collapsed": false,
    "ExecuteTime": {
     "start_time": "2023-03-20T17:27:47.273230Z",
     "end_time": "2023-03-20T17:27:47.319984Z"
    }
   },
   "outputs": [],
   "source": [
    "# TODO: test different thresholds to compute these values\n",
    "best_TPR = 0\n",
    "best_PPV_for_best_TPR = 0\n",
    "best_TPR_threshold = 0\n",
    "\n",
    "best_PPV = 0\n",
    "best_TPR_for_best_PPV = 0\n",
    "best_PPV_threshold = 0"
   ]
  },
  {
   "cell_type": "code",
   "execution_count": 399,
   "metadata": {
    "collapsed": false,
    "ExecuteTime": {
     "start_time": "2023-03-20T17:27:47.289047Z",
     "end_time": "2023-03-20T17:27:47.329009Z"
    }
   },
   "outputs": [
    {
     "name": "stdout",
     "output_type": "stream",
     "text": [
      "Best TPR threshold: 0.0000 => TPR: 0.0000; PPV: 0.0000\n",
      "Best PPV threshold: 0.0000 => PPV: 0.0000; TPR: 0.0000\n"
     ]
    }
   ],
   "source": [
    "print(\"Best TPR threshold: %.4f => TPR: %.4f; PPV: %.4f\" % (best_TPR_threshold, best_TPR, best_PPV_for_best_TPR))\n",
    "print(\"Best PPV threshold: %.4f => PPV: %.4f; TPR: %.4f\" % (best_PPV_threshold, best_PPV, best_TPR_for_best_PPV))"
   ]
  },
  {
   "cell_type": "markdown",
   "metadata": {
    "collapsed": false
   },
   "source": [
    "#### (e) Exploring different thresholds\n",
    "\n",
    "#### (i) Using default 0.5 threshold.\n",
    "\n",
    "Generate confusion matrix and metrics for probabilistic classifier, using threshold 0.5."
   ]
  },
  {
   "cell_type": "code",
   "execution_count": 400,
   "metadata": {
    "collapsed": false,
    "ExecuteTime": {
     "start_time": "2023-03-20T17:27:47.304866Z",
     "end_time": "2023-03-20T17:27:47.329357Z"
    }
   },
   "outputs": [
    {
     "name": "stdout",
     "output_type": "stream",
     "text": [
      "ON THE TEST SET:\n",
      "Chosen best threshold = 0.5000\n",
      "\n",
      "\n"
     ]
    }
   ],
   "source": [
    "best_thr = 0.5\n",
    "print(\"ON THE TEST SET:\")\n",
    "print(\"Chosen best threshold = %.4f\" % best_thr)\n",
    "print(\"\")\n",
    "# TODO: print(calc_confusion_matrix_for_threshold(...))\n",
    "# print(calc_confusion_matrix_for_threshold(...))\n",
    "\n",
    "print(\"\")\n",
    "# TODO: print_perf_metrics_for_threshold(...)\n",
    "# print_perf_metrics_for_threshold(...)\n"
   ]
  },
  {
   "cell_type": "markdown",
   "metadata": {
    "collapsed": false
   },
   "source": [
    "#### (ii) Using threshold with highest TPR.\n",
    "\n",
    "Generate confusion matrix and metrics for probabilistic classifier, using threshold that maximizes TPR."
   ]
  },
  {
   "cell_type": "code",
   "execution_count": 401,
   "metadata": {
    "collapsed": false,
    "ExecuteTime": {
     "start_time": "2023-03-20T17:27:47.320889Z",
     "end_time": "2023-03-20T17:27:47.348443Z"
    }
   },
   "outputs": [
    {
     "name": "stdout",
     "output_type": "stream",
     "text": [
      "ON THE TEST SET:\n",
      "Chosen best threshold = 0.0000\n",
      "\n",
      "\n"
     ]
    }
   ],
   "source": [
    "best_thr = best_TPR_threshold\n",
    "print(\"ON THE TEST SET:\")\n",
    "print(\"Chosen best threshold = %.4f\" % best_thr)\n",
    "print(\"\")\n",
    "\n",
    "# TODO: print(calc_confusion_matrix_for_threshold(...))\n",
    "print(\"\")\n",
    "# print(calc_confusion_matrix_for_threshold(...))\n",
    "\n",
    "# TODO: print_perf_metrics_for_threshold(...)\n",
    "# print_perf_metrics_for_threshold(...)\n"
   ]
  },
  {
   "cell_type": "markdown",
   "metadata": {
    "collapsed": false
   },
   "source": [
    "#### (iii) Using threshold with highest PPV.\n",
    "\n",
    "Generate confusion matrix and metrics for probabilistic classifier, using threshold that maximizes PPV."
   ]
  },
  {
   "cell_type": "code",
   "execution_count": 402,
   "metadata": {
    "collapsed": false,
    "ExecuteTime": {
     "start_time": "2023-03-20T17:27:47.338164Z",
     "end_time": "2023-03-20T17:27:47.382744Z"
    }
   },
   "outputs": [
    {
     "name": "stdout",
     "output_type": "stream",
     "text": [
      "ON THE TEST SET:\n",
      "Chosen best threshold = 0.0000\n",
      "\n",
      "\n"
     ]
    }
   ],
   "source": [
    "best_thr = best_PPV_threshold\n",
    "print(\"ON THE TEST SET:\")\n",
    "print(\"Chosen best threshold = %.4f\" % best_thr)\n",
    "print(\"\")\n",
    "\n",
    "# TODO: print(calc_confusion_matrix_for_threshold(...))\n",
    "# print(calc_confusion_matrix_for_threshold(...))\n",
    "print(\"\")\n",
    "\n",
    "# TODO: print_perf_metrics_for_threshold(...)\n",
    "# print_perf_metrics_for_threshold(...)\n"
   ]
  },
  {
   "cell_type": "markdown",
   "metadata": {
    "collapsed": false
   },
   "source": [
    "#### (iv) Compare the confusion matrices from (a)–(c) to analyze the different thresholds.\n",
    "\n",
    "**Answer**: TODO"
   ]
  },
  {
   "cell_type": "code",
   "execution_count": 402,
   "metadata": {
    "collapsed": false,
    "ExecuteTime": {
     "start_time": "2023-03-20T17:27:47.354066Z",
     "end_time": "2023-03-20T17:27:47.382853Z"
    }
   },
   "outputs": [],
   "source": []
  }
 ],
 "metadata": {
  "kernelspec": {
   "display_name": "Python 3",
   "language": "python",
   "name": "python3"
  },
  "language_info": {
   "codemirror_mode": {
    "name": "ipython",
    "version": 2
   },
   "file_extension": ".py",
   "mimetype": "text/x-python",
   "name": "python",
   "nbconvert_exporter": "python",
   "pygments_lexer": "ipython2",
   "version": "2.7.6"
  }
 },
 "nbformat": 4,
 "nbformat_minor": 0
}
