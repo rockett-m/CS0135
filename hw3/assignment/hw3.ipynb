{
 "cells": [
  {
   "cell_type": "markdown",
   "metadata": {
    "collapsed": false
   },
   "source": []
  },
  {
   "cell_type": "markdown",
   "metadata": {
    "collapsed": false
   },
   "source": [
    "## HW03 Notebook\n",
    "\n",
    "Complete the following notebook, as described in the PDF for Homework 03 (included in the download with the starter code). Submit the following:\n",
    "1. This notebook file and `hw3.py`, along with your COLLABORATORS.txt file, to the Gradescope link for code.\n",
    "2. A PDF of this notebook and all of its output, once it is completed, to the Gradescope link for the PDF.\n",
    "\n",
    "__NOTE__: The purpose of this notebook is to demonstrate the functionality implemented in `hw3.py`. As part of this demo, all analysis (i.e., questions that prompt for a short answer) are to be added to the notebook. Keep the order of the problems as listed in the assignment description. Furthermore, cells are provided as placeholders for each response; however, cells can be added as needed.\n",
    "\n",
    "Please report any questions to the [class Piazza page](https://piazza.com/class/lcwv1h9p2a11ai).\n",
    "\n",
    "### Import required libraries."
   ]
  },
  {
   "cell_type": "code",
   "execution_count": 1,
   "metadata": {
    "collapsed": false,
    "ExecuteTime": {
     "start_time": "2023-03-28T14:37:56.893530Z",
     "end_time": "2023-03-28T14:37:56.971786Z"
    }
   },
   "outputs": [
    {
     "name": "stderr",
     "output_type": "stream",
     "text": [
      "/var/folders/sp/njx9g_354jz0zcs8bj_s_2cm0000gn/T/ipykernel_29512/1998611089.py:25: MatplotlibDeprecationWarning: The seaborn styles shipped by Matplotlib are deprecated since 3.6, as they no longer correspond to the styles shipped by seaborn. However, they will remain available as 'seaborn-v0_8-<style>'. Alternatively, directly use the seaborn API instead.\n",
      "  plt.style.use('seaborn') # pretty matplotlib plots\n"
     ]
    }
   ],
   "source": [
    "import os\n",
    "import numpy as np\n",
    "import pandas as pd\n",
    "\n",
    "import warnings\n",
    "\n",
    "import sklearn.linear_model\n",
    "import sklearn.metrics\n",
    "from hw3 import calc_confusion_matrix_for_threshold\n",
    "from hw3 import calc_percent_cancer\n",
    "from hw3 import calc_binary_metrics\n",
    "from hw3 import predict_0_always_classifier\n",
    "from hw3 import calc_accuracy\n",
    "from hw3 import print_perf_metrics_for_threshold\n",
    "from hw3 import calc_perf_metrics_for_threshold\n",
    "\n",
    "from matplotlib import pyplot as plt\n",
    "import seaborn as sns\n",
    "\n",
    "# load .py changes\n",
    "%load_ext autoreload\n",
    "%autoreload 2\n",
    "\n",
    "%matplotlib inline\n",
    "plt.style.use('seaborn') # pretty matplotlib plots"
   ]
  },
  {
   "cell_type": "markdown",
   "metadata": {
    "collapsed": false
   },
   "source": [
    "#### 1) Function to calculate TP, TN, FP, and FN.\n",
    "The following four calls to the function `calc_binary_metrics` to test it. This way, the function can be tested for several edge cases. ***Don't modify this.***"
   ]
  },
  {
   "cell_type": "code",
   "execution_count": 2,
   "metadata": {
    "collapsed": false,
    "ExecuteTime": {
     "start_time": "2023-03-28T14:37:56.971715Z",
     "end_time": "2023-03-28T14:37:56.989223Z"
    }
   },
   "outputs": [
    {
     "name": "stdout",
     "output_type": "stream",
     "text": [
      "0 vs 1\n",
      "========\n",
      "TP: 0.0\n",
      "TN: 0.0\n",
      "FP: 10.0\n",
      "FN: 0.0\n"
     ]
    }
   ],
   "source": [
    "all0 = np.zeros(10)\n",
    "all1 = np.ones(10)\n",
    "TP, TN, FP, FN = calc_binary_metrics(all0, all1)\n",
    "print(f\"0 vs 1\\n========\\nTP: {TP}\\nTN: {TN}\\nFP: {FP}\\nFN: {FN}\")"
   ]
  },
  {
   "cell_type": "code",
   "execution_count": 3,
   "metadata": {
    "collapsed": false,
    "ExecuteTime": {
     "start_time": "2023-03-28T14:37:56.989603Z",
     "end_time": "2023-03-28T14:37:57.034515Z"
    }
   },
   "outputs": [
    {
     "name": "stdout",
     "output_type": "stream",
     "text": [
      "1 vs 0\n",
      "========\n",
      "TP: 0.0\n",
      "TN: 0.0\n",
      "FP: 0.0\n",
      "FN: 10.0\n"
     ]
    }
   ],
   "source": [
    "TP, TN, FP, FN = calc_binary_metrics(all1, all0)\n",
    "print(f\"1 vs 0\\n========\\nTP: {TP}\\nTN: {TN}\\nFP: {FP}\\nFN: {FN}\")"
   ]
  },
  {
   "cell_type": "code",
   "execution_count": 4,
   "metadata": {
    "collapsed": false,
    "ExecuteTime": {
     "start_time": "2023-03-28T14:37:57.006960Z",
     "end_time": "2023-03-28T14:37:57.034778Z"
    }
   },
   "outputs": [
    {
     "name": "stdout",
     "output_type": "stream",
     "text": [
      "1 vs 1\n",
      "========\n",
      "TP: 10.0\n",
      "TN: 0.0\n",
      "FP: 0.0\n",
      "FN: 0.0\n"
     ]
    }
   ],
   "source": [
    "TP, TN, FP, FN = calc_binary_metrics(all1, all1)\n",
    "print(f\"1 vs 1\\n========\\nTP: {TP}\\nTN: {TN}\\nFP: {FP}\\nFN: {FN}\")"
   ]
  },
  {
   "cell_type": "code",
   "execution_count": 5,
   "metadata": {
    "collapsed": false,
    "ExecuteTime": {
     "start_time": "2023-03-28T14:37:57.024563Z",
     "end_time": "2023-03-28T14:37:57.044172Z"
    }
   },
   "outputs": [
    {
     "name": "stdout",
     "output_type": "stream",
     "text": [
      "0 vs 0\n",
      "========\n",
      "TP: 0.0\n",
      "TN: 10.0\n",
      "FP: 0.0\n",
      "FN: 0.0\n"
     ]
    }
   ],
   "source": [
    "TP, TN, FP, FN = calc_binary_metrics(all0, all0)\n",
    "print(f\"0 vs 0\\n========\\nTP: {TP}\\nTN: {TN}\\nFP: {FP}\\nFN: {FN}\")"
   ]
  },
  {
   "cell_type": "markdown",
   "metadata": {
    "collapsed": false
   },
   "source": [
    "### Load the dataset.\n",
    "\n",
    "The following should ***not*** be modified.\n",
    "\n",
    "After it runs, the various arrays it creates will contain the 2- or 3-feature input datasets."
   ]
  },
  {
   "cell_type": "code",
   "execution_count": 6,
   "metadata": {
    "collapsed": false,
    "ExecuteTime": {
     "start_time": "2023-03-28T14:37:57.042707Z",
     "end_time": "2023-03-28T14:37:57.079836Z"
    }
   },
   "outputs": [],
   "source": [
    "# Load the x-data and y-class arrays\n",
    "x_train = np.loadtxt('./data/x_train.csv', delimiter=',', skiprows=1)\n",
    "x_test = np.loadtxt('./data/x_test.csv', delimiter=',', skiprows=1)\n",
    "\n",
    "y_train = np.loadtxt('./data/y_train.csv', delimiter=',', skiprows=1)\n",
    "y_test = np.loadtxt('./data/y_test.csv', delimiter=',', skiprows=1)"
   ]
  },
  {
   "cell_type": "markdown",
   "metadata": {
    "collapsed": false
   },
   "source": [
    "Inspect Data. The following should ***not*** be modified."
   ]
  },
  {
   "cell_type": "code",
   "execution_count": 7,
   "metadata": {
    "collapsed": false,
    "ExecuteTime": {
     "start_time": "2023-03-28T14:37:57.061311Z",
     "end_time": "2023-03-28T14:37:57.087190Z"
    }
   },
   "outputs": [
    {
     "name": "stdout",
     "output_type": "stream",
     "text": [
      "features: ['age' 'famhistory' 'marker']\n",
      "\n"
     ]
    },
    {
     "data": {
      "text/plain": "          age  famhistory    marker  ['age' 'famhistory' 'marker']\n77   72.61525         0.0  0.163491                            0.0\n107  62.48188         1.0  0.237959                            0.0\n59   61.77711         1.0  1.611171                            0.0\n153  68.03571         1.0  0.675789                            0.0\n155  61.31017         0.0  0.927381                            0.0\n164  67.60313         0.0  1.178316                            0.0\n149  65.59784         0.0  3.789782                            0.0\n157  71.88496         0.0  0.465748                            0.0\n159  64.84370         0.0  0.594441                            0.0\n9    68.42139         0.0  0.959714                            0.0\n65   64.15876         0.0  0.481348                            0.0\n89   67.41637         0.0  0.597154                            0.0\n66   69.41449         0.0  5.605901                            1.0\n152  67.00126         0.0  0.957531                            1.0\n124  57.17578         0.0  0.703857                            0.0",
      "text/html": "<div>\n<style scoped>\n    .dataframe tbody tr th:only-of-type {\n        vertical-align: middle;\n    }\n\n    .dataframe tbody tr th {\n        vertical-align: top;\n    }\n\n    .dataframe thead th {\n        text-align: right;\n    }\n</style>\n<table border=\"1\" class=\"dataframe\">\n  <thead>\n    <tr style=\"text-align: right;\">\n      <th></th>\n      <th>age</th>\n      <th>famhistory</th>\n      <th>marker</th>\n      <th>['age' 'famhistory' 'marker']</th>\n    </tr>\n  </thead>\n  <tbody>\n    <tr>\n      <th>77</th>\n      <td>72.61525</td>\n      <td>0.0</td>\n      <td>0.163491</td>\n      <td>0.0</td>\n    </tr>\n    <tr>\n      <th>107</th>\n      <td>62.48188</td>\n      <td>1.0</td>\n      <td>0.237959</td>\n      <td>0.0</td>\n    </tr>\n    <tr>\n      <th>59</th>\n      <td>61.77711</td>\n      <td>1.0</td>\n      <td>1.611171</td>\n      <td>0.0</td>\n    </tr>\n    <tr>\n      <th>153</th>\n      <td>68.03571</td>\n      <td>1.0</td>\n      <td>0.675789</td>\n      <td>0.0</td>\n    </tr>\n    <tr>\n      <th>155</th>\n      <td>61.31017</td>\n      <td>0.0</td>\n      <td>0.927381</td>\n      <td>0.0</td>\n    </tr>\n    <tr>\n      <th>164</th>\n      <td>67.60313</td>\n      <td>0.0</td>\n      <td>1.178316</td>\n      <td>0.0</td>\n    </tr>\n    <tr>\n      <th>149</th>\n      <td>65.59784</td>\n      <td>0.0</td>\n      <td>3.789782</td>\n      <td>0.0</td>\n    </tr>\n    <tr>\n      <th>157</th>\n      <td>71.88496</td>\n      <td>0.0</td>\n      <td>0.465748</td>\n      <td>0.0</td>\n    </tr>\n    <tr>\n      <th>159</th>\n      <td>64.84370</td>\n      <td>0.0</td>\n      <td>0.594441</td>\n      <td>0.0</td>\n    </tr>\n    <tr>\n      <th>9</th>\n      <td>68.42139</td>\n      <td>0.0</td>\n      <td>0.959714</td>\n      <td>0.0</td>\n    </tr>\n    <tr>\n      <th>65</th>\n      <td>64.15876</td>\n      <td>0.0</td>\n      <td>0.481348</td>\n      <td>0.0</td>\n    </tr>\n    <tr>\n      <th>89</th>\n      <td>67.41637</td>\n      <td>0.0</td>\n      <td>0.597154</td>\n      <td>0.0</td>\n    </tr>\n    <tr>\n      <th>66</th>\n      <td>69.41449</td>\n      <td>0.0</td>\n      <td>5.605901</td>\n      <td>1.0</td>\n    </tr>\n    <tr>\n      <th>152</th>\n      <td>67.00126</td>\n      <td>0.0</td>\n      <td>0.957531</td>\n      <td>1.0</td>\n    </tr>\n    <tr>\n      <th>124</th>\n      <td>57.17578</td>\n      <td>0.0</td>\n      <td>0.703857</td>\n      <td>0.0</td>\n    </tr>\n  </tbody>\n</table>\n</div>"
     },
     "execution_count": 7,
     "metadata": {},
     "output_type": "execute_result"
    }
   ],
   "source": [
    "feat_names = np.loadtxt(f'data/x_train.csv', delimiter=',', dtype=str, max_rows=1)\n",
    "print(f\"features: {feat_names}\\n\")\n",
    "target_name = np.loadtxt(f'data/x_test.csv', delimiter=',', dtype=str, max_rows=1)\n",
    "df_sampled_data = pd.DataFrame(x_test, columns=feat_names)\n",
    "df_sampled_data[str(target_name)] = y_test\n",
    "df_sampled_data.sample(15)"
   ]
  },
  {
   "cell_type": "markdown",
   "metadata": {
    "collapsed": false
   },
   "source": [
    "### 2) Compute the fraction of patients with cancer.\n",
    "\n",
    "Complete the following code.  Your solution needs to ***compute*** these values from the training and testing sets (i.e., don't simply hand-count and print the values)."
   ]
  },
  {
   "cell_type": "code",
   "execution_count": 8,
   "metadata": {
    "collapsed": false,
    "ExecuteTime": {
     "start_time": "2023-03-28T14:37:57.084932Z",
     "end_time": "2023-03-28T14:37:57.119144Z"
    }
   },
   "outputs": [
    {
     "name": "stdout",
     "output_type": "stream",
     "text": [
      "Percent of data that has_cancer on TRAIN: 14.035\n",
      "Percent of data that has_cancer on TEST : 13.889\n"
     ]
    }
   ],
   "source": [
    "#TODO: modify these prints\n",
    "tr_percent = calc_percent_cancer(y_train)\n",
    "te_percent = calc_percent_cancer(y_test)\n",
    "\n",
    "print(\"Percent of data that has_cancer on TRAIN: %.3f\" % tr_percent)\n",
    "print(\"Percent of data that has_cancer on TEST : %.3f\" % te_percent)"
   ]
  },
  {
   "cell_type": "markdown",
   "metadata": {
    "collapsed": false
   },
   "source": [
    "### 3) The predict-0-always baseline\n",
    "\n",
    "#### (i) Compute the accuracy of the always-0 classifier.\n",
    "\n",
    "Complete the functions to compute and calculate the accuracy of the always-0 classifier on validation and test outputs."
   ]
  },
  {
   "cell_type": "code",
   "execution_count": 9,
   "metadata": {
    "collapsed": false,
    "ExecuteTime": {
     "start_time": "2023-03-28T14:37:57.104476Z",
     "end_time": "2023-03-28T14:37:57.155846Z"
    }
   },
   "outputs": [
    {
     "name": "stdout",
     "output_type": "stream",
     "text": [
      "acc on TRAIN: 0.860\n",
      "acc on TEST : 0.861\n"
     ]
    }
   ],
   "source": [
    "#TODO: implement predict_0_always_classifer()\n",
    "y_train_pred = predict_0_always_classifier(x_train)\n",
    "y_test_pred = predict_0_always_classifier(x_test)\n",
    "\n",
    "acc_train = calc_accuracy(*calc_binary_metrics(y_train, y_train_pred))\n",
    "acc_test = calc_accuracy(*calc_binary_metrics(y_test, y_test_pred))\n",
    "print(\"acc on TRAIN: %.3f\" % acc_train) #TODO: modify these values\n",
    "print(\"acc on TEST : %.3f\" % acc_test)"
   ]
  },
  {
   "cell_type": "markdown",
   "metadata": {
    "collapsed": false
   },
   "source": [
    "#### (ii) Print a confusion matrix for the always-0 classifier.\n",
    "\n",
    "Add code below to generate a confusion matrix for the always-0 classifier on the test set."
   ]
  },
  {
   "cell_type": "code",
   "execution_count": 10,
   "metadata": {
    "collapsed": false,
    "ExecuteTime": {
     "start_time": "2023-03-28T14:37:57.121755Z",
     "end_time": "2023-03-28T14:37:57.202679Z"
    }
   },
   "outputs": [
    {
     "name": "stdout",
     "output_type": "stream",
     "text": [
      "Predicted    0  1\n",
      "True             \n",
      "0          155  0\n",
      "1           25  0\n"
     ]
    }
   ],
   "source": [
    "# TODO: call print(calc_confusion_matrix_for_threshold(...))\n",
    "print(calc_confusion_matrix_for_threshold(y_true_N=y_test, y_proba1_N=y_test_pred)) # args : y_true_N, y_proba1_N, thresh=0.5"
   ]
  },
  {
   "cell_type": "markdown",
   "metadata": {
    "collapsed": false
   },
   "source": [
    "#### (iii) Reflect on the accuracy of the always-0 classifier.\n",
    "\n",
    "**Answer**: TODO\n",
    "(2) You will see reasonable accuracy for the simple baseline classifier. Why not just use it for this task? Your answer, written into the notebook as\n",
    "text, should detail the pluses and minuses of using this simple classifier\n",
    "\n",
    "This is pretty good accuracy at roughly 86%. Since we are always assuming there is no cancer; however, that is very dangerous if 14% of people have cancer and we choose not to biopsy them. That is unacceptable. If this was a social media algorithm like a recommender, 86% is plenty good, but life and death needs far better accuracy. It is safer to biopsy all patients to catch the 14% but you don't want to biopsy an unnecessary 86% on the other hand. That is why we can't use only a always-0 or always-1 predictor since surgery and people's lives are the consequences.\n",
    "\n",
    "DO THISSSSSSSSSSSSSSSS"
   ]
  },
  {
   "cell_type": "markdown",
   "metadata": {
    "collapsed": false
   },
   "source": [
    "#### (iv) Analyze the various costs of using the always-0 classifier.\n",
    "\n",
    "**Answer**: TODO\n",
    "\n",
    "Additional costs of not taking biopsies of 14% of patients that have cancer beyond death is the doctors and/or hospital can be sued for negligence or medical malpractice.\n",
    "\n",
    "DO THISSSSSSSSSSSSSSSS"
   ]
  },
  {
   "cell_type": "markdown",
   "metadata": {
    "collapsed": false
   },
   "source": [
    "### 4: Basic Perceptron Models\n",
    "\n",
    "#### (i) Normalize data"
   ]
  },
  {
   "cell_type": "code",
   "execution_count": 11,
   "metadata": {
    "collapsed": false,
    "ExecuteTime": {
     "start_time": "2023-03-28T14:37:57.141645Z",
     "end_time": "2023-03-28T14:37:57.202958Z"
    }
   },
   "outputs": [
    {
     "name": "stdout",
     "output_type": "stream",
     "text": [
      "[[0.53637473 0.         0.10816263]\n",
      " [0.43257395 0.         0.05418465]\n",
      " [0.72202778 1.         0.18904397]\n",
      " ...\n",
      " [0.45372565 0.         0.57842732]\n",
      " [0.33260801 0.         0.1189701 ]\n",
      " [0.62875077 0.         0.03734379]]\n"
     ]
    }
   ],
   "source": [
    "from hw3 import standardize_data\n",
    "# print(x_test)\n",
    "#TODO\n",
    "X_train, X_test = standardize_data(X_train=x_train, X_test=x_test)\n",
    "\n",
    "print(X_train)"
   ]
  },
  {
   "cell_type": "markdown",
   "metadata": {
    "collapsed": false
   },
   "source": [
    "#### (ii) Create a basic `Perceptron` classifier\n",
    "\n",
    "Fit a perceptron to the training data.  Print out accuracy on this data, as well as on testing data.  Print out a confusion matrix on the testing data."
   ]
  },
  {
   "cell_type": "code",
   "execution_count": 12,
   "metadata": {
    "collapsed": false,
    "ExecuteTime": {
     "start_time": "2023-03-28T14:37:57.161261Z",
     "end_time": "2023-03-28T14:37:57.210592Z"
    }
   },
   "outputs": [
    {
     "name": "stdout",
     "output_type": "stream",
     "text": [
      "acc on TRAIN: 0.249\n",
      "acc on TEST : 0.272\n",
      "\n",
      "Confusion matrix for TEST:\n",
      "Predicted   0    1\n",
      "True              \n",
      "0          24  131\n",
      "1           0   25\n"
     ]
    }
   ],
   "source": [
    "#TODO: train a basic perceptron model using default parameter values, and modify these accuracies below\n",
    "# Perceptron model\n",
    "# # fit to training data\n",
    "# # make prediction on test data\n",
    "\n",
    "from hw3 import perceptron_classifier\n",
    "# inputs => {normalized X_train, X_test; standard y_train, y_test}\n",
    "pred_train, pred_test = perceptron_classifier(x_train=X_train, y_train=y_train, x_test=X_test, y_test=y_test)\n",
    "# [opt args] default vals: penalty=\"l2\", alpha=0, random_state=42)\n",
    "\n",
    "from sklearn.metrics import accuracy_score\n",
    "print(\"acc on TRAIN: %.3f\" % accuracy_score(y_train, pred_train))\n",
    "print(\"acc on TEST : %.3f\" % accuracy_score(y_test, pred_test))\n",
    "# print(\"acc on TRAIN: %.3f\" % 0)\n",
    "# print(\"acc on TEST : %.3f\" % 0)\n",
    "\n",
    "print(\"\\nConfusion matrix for TEST:\")\n",
    "# TODO: call print(calc_confusion_matrix_for_threshold(...))\n",
    "print(calc_confusion_matrix_for_threshold(y_test, pred_test))\n",
    "# print(calc_confusion_matrix_for_threshold(...))\n",
    "# print(calc_confusion_matrix_for_threshold(y_true_N, y_proba1_N, thresh=0.5))"
   ]
  },
  {
   "cell_type": "markdown",
   "metadata": {
    "collapsed": false
   },
   "source": [
    "#### (iii) Compare the `Perceptron` to the always-0 classifier.\n",
    "\n",
    "**Answer**:  TODO\n",
    "\n",
    "The perceptron classifier is marginally better than the always-0 classifier on the test data as seen by the 87.8% accuracy vs the 86.4% accuracy rate. This classifier identifies 3 true positives which bumps the accuracy. In real terms it detects cancer in 3 of the 25 patients that have cancer as opposed to 0. We would like to increase this result, but it is better than predicting always-0 and assuming no patients have cancer. Additionally, all off the patients without cancer the perceptron categorizes correctly and there are no false positives.\n"
   ]
  },
  {
   "cell_type": "markdown",
   "metadata": {
    "collapsed": false
   },
   "source": [
    "#### (iv) Generate a series of regularized perceptron models\n",
    "Each model will use a different `alpha` value, multiplying that by the L2 penalty.  You will record and plot the accuracy of each model on both training and test data."
   ]
  },
  {
   "cell_type": "code",
   "execution_count": 13,
   "metadata": {
    "collapsed": false,
    "ExecuteTime": {
     "start_time": "2023-03-28T14:37:57.182330Z",
     "end_time": "2023-03-28T14:37:57.298650Z"
    }
   },
   "outputs": [],
   "source": [
    "# TODO: create, fit models here and record accuracy of each (Implement functions needed)\n",
    "from hw3 import series_of_preceptrons\n",
    "\n",
    "alphas = np.logspace(-5, 5, base=10, num=100)\n",
    "# print(alphas)\n",
    "\n",
    "train_accuracy_list, test_accuracy_list = series_of_preceptrons(x_train=X_train, y_train=y_train, x_test=X_test, y_test=y_test, alphas=alphas)"
   ]
  },
  {
   "cell_type": "markdown",
   "metadata": {
    "collapsed": false
   },
   "source": [
    "##### Plot accuracy on train/test data across the different alpha values plotted on a logarithmic scale. Make sure to show title, legends, and axis labels."
   ]
  },
  {
   "cell_type": "code",
   "execution_count": 14,
   "metadata": {
    "collapsed": false,
    "ExecuteTime": {
     "start_time": "2023-03-28T14:37:57.299481Z",
     "end_time": "2023-03-28T14:37:57.542531Z"
    }
   },
   "outputs": [
    {
     "data": {
      "text/plain": "<Figure size 800x550 with 1 Axes>",
      "image/png": "[encoded data removed]"
     },
     "metadata": {},
     "output_type": "display_data"
    }
   ],
   "source": [
    "# TODO make plot\n",
    "plt.plot(alphas, train_accuracy_list, label='Accuracy on training')\n",
    "plt.plot(alphas, test_accuracy_list, label='Accuracy on testing')\n",
    "\n",
    "# TODO add legend, titles, etc. set x-scale appropriately\n",
    "plt.title('Accuracy scores in train and test models vs varying alpha values')\n",
    "plt.legend(loc='lower right')\n",
    "plt.xscale('log')\n",
    "plt.xlabel('log_10(alpha)')\n",
    "plt.ylabel('Accuracy')\n",
    "plt.show()"
   ]
  },
  {
   "cell_type": "markdown",
   "metadata": {
    "collapsed": false
   },
   "source": [
    "#### (iv) Discuss what the plot is showing you.\n",
    "\n",
    "**Answer**: TODO\n",
    "\n",
    "The plot shows the accuracy score for each alpha level (totaling 100) for the training and testing data. As the log scale moves to the right we can see that accuracy on testing plateaus. It is slightly lower than some of the initial results, but as the sample size gets bigger, the accuracy score becomes stable. The training data is all over the place from below 20% accuracy to roughly 90% accuracy, which suggests that the alpha does not have a large impact in classification ability to determine whether a patient has cancer or doesn't. There is little correlation between training data and error rate with the way our series of perceptrons scores accuracy.\n",
    "According to the confusion matrix of the perceptron with 3 True Positive (TP) values instead of 0 in the always-0 classifier, and 100% accuracy on the True Negative (TN) values, it appears that the accuracy score swings are largely impacted by incorrectly assuming patients have cancer when they don't - False Negative's (FN). Since approx 86% of patients don't have cancer in the trial, the accuracy score would have to go down by much more than predicting that no one has cancer. This would come down to classifying benign tumors as cancerous based on the input features, which is poor accuracy.\n",
    "\n",
    "Is regularization helpful????\n"
   ]
  },
  {
   "cell_type": "markdown",
   "metadata": {
    "collapsed": false
   },
   "source": [
    "### 5: Decision functions and probabilistic predictions\n",
    "\n",
    "#### (a) Create two new sets of predictions\n",
    "\n",
    "Fit `Perceptron` and `CalibratedClassifierCV` models to the data.  Use their predictions to generate ROC curves."
   ]
  },
  {
   "cell_type": "code",
   "execution_count": 15,
   "metadata": {
    "collapsed": false,
    "ExecuteTime": {
     "start_time": "2023-03-28T14:37:57.541758Z",
     "end_time": "2023-03-28T14:37:57.609292Z"
    }
   },
   "outputs": [],
   "source": [
    "# TODO: fit a Perceptron and generate its decision_function() over the test data.\n",
    "# _, decisions_test = perceptron_classifier()  # pred_train, pred_test\n",
    "# _, pred_prob_test = calibrated_perceptron_classifier()  # pred_train, pred_test\n",
    "from hw3 import perceptron_classifier, calibrated_perceptron_classifier\n",
    "\n",
    "decisions_train, decisions_test = perceptron_classifier(X_train, y_train, X_test, y_test)\n",
    "\n",
    "# TODO: Build a CalibratedClassifierCV, using a Perceptron as its base_estimator,\n",
    "#       and generate its probabilistic predictions over the test data.\n",
    "# pred_prob_train, pred_prob_test = calibrated_perceptron_classifier(decisions_train, y_train, decisions_test, y_test)\n",
    "pred_prob_train, pred_prob_test = calibrated_perceptron_classifier(X_train, y_train, X_test, y_test)\n"
   ]
  },
  {
   "cell_type": "code",
   "execution_count": 16,
   "metadata": {
    "collapsed": false,
    "ExecuteTime": {
     "start_time": "2023-03-28T14:37:57.561859Z",
     "end_time": "2023-03-28T14:37:57.712435Z"
    }
   },
   "outputs": [
    {
     "data": {
      "text/plain": "<Figure size 800x550 with 1 Axes>",
      "image/png": "[encoded data removed]"
     },
     "metadata": {},
     "output_type": "display_data"
    }
   ],
   "source": [
    "# TODO something like: fpr, tpr, thr = sklearn.metrics.roc_curve(...)\n",
    "from hw3 import find_best_thresholds\n",
    "from sklearn.metrics import roc_curve\n",
    "\n",
    "fpr, tpr, thr = roc_curve(y_test, decisions_test)\n",
    "plt.plot(fpr, tpr, label='Decision function version')\n",
    "\n",
    "fpr2, tpr2, thr2 = roc_curve(y_test, pred_prob_test)\n",
    "plt.plot(fpr2, tpr2, label='Probabilistic version')\n",
    "\n",
    "plt.ylim([0, 1])\n",
    "plt.legend(loc='lower right')\n",
    "plt.xlabel(\"False Positive rate (FPR)\");\n",
    "\n",
    "plt.ylabel(\"True Positive rate (TPR)\");"
   ]
  },
  {
   "cell_type": "code",
   "execution_count": 17,
   "metadata": {
    "collapsed": false,
    "ExecuteTime": {
     "start_time": "2023-03-28T14:37:57.707940Z",
     "end_time": "2023-03-28T14:37:57.781475Z"
    }
   },
   "outputs": [
    {
     "name": "stdout",
     "output_type": "stream",
     "text": [
      "AUC on TEST for Perceptron: 0.577\n",
      "AUC on TEST for probabilistic model: 0.887\n"
     ]
    }
   ],
   "source": [
    "from sklearn.metrics import roc_auc_score\n",
    "\n",
    "# print(\"AUC on TEST for Perceptron: %.3f\" % sklearn.metrics.roc_auc_score(\n",
    "#     y_test, decisions_test))\n",
    "# print(\"AUC on TEST for probabilistic model: %.3f\" % sklearn.metrics.roc_auc_score(\n",
    "#         y_test, pred_prob_test))\n",
    "\n",
    "# print(\"AUC on TEST for Perceptron: %.3f\" % 0) #TODO: modify these values\n",
    "# print(\"AUC on TEST for probabilistic model: %.3f\" % 0)\n",
    "test_ppn_ras = roc_auc_score(y_test, decisions_test)\n",
    "test_pm_ras = roc_auc_score(y_test, pred_prob_test)\n",
    "\n",
    "print(\"AUC on TEST for Perceptron: %.3f\" % test_ppn_ras) #TODO: modify these values\n",
    "print(\"AUC on TEST for probabilistic model: %.3f\" % test_pm_ras)"
   ]
  },
  {
   "cell_type": "markdown",
   "metadata": {
    "collapsed": false
   },
   "source": [
    "#### (b) Discuss the results above\n",
    "\n",
    "**Answer**: TODO"
   ]
  },
  {
   "cell_type": "markdown",
   "metadata": {
    "collapsed": false
   },
   "source": [
    "#### (c) Compute model metrics for different probabilistic thresholds\n",
    "\n",
    "Complete `calc_perf_metrics_for_threshold` that takes in a set of correct outputs, a matching set of probabilities generated by a classifier, and a threshold at which to set the positive decision probability, and returns a set of metrics if we use that threshold."
   ]
  },
  {
   "cell_type": "code",
   "execution_count": 18,
   "outputs": [],
   "source": [
    "from hw3 import calc_perf_metrics_for_threshold\n",
    "\n",
    "\n",
    "# ?????????????????????????????????????????????????????????????\n",
    "# acc, tpr, tnr, ppv, npv = calc_perf_metrics_for_threshold(y_true_N=, y_proba1_N=, thresh=) # y_true_N, y_proba1_N, thresh=0.5\n",
    "# best_TPR, best_PPV_for_best_TPR, best_TPR_threshold, best_PPV, best_TPR_for_best_PPV, best_PPV_threshold = find_best_thresholds(y_test=y_test, pred_prob_test=pred_prob_test) # y_true_N, y_proba1_N, thresh=0.5\n",
    "# ?????????????????????????????????????????????????????????????\n",
    "\n"
   ],
   "metadata": {
    "collapsed": false,
    "ExecuteTime": {
     "start_time": "2023-03-28T14:37:57.727922Z",
     "end_time": "2023-03-28T14:37:57.794329Z"
    }
   }
  },
  {
   "cell_type": "markdown",
   "metadata": {
    "collapsed": false
   },
   "source": [
    "#### (d) Compare the probabilistic classifier across multiple decision thresholds\n",
    "\n",
    "Try a range of thresholds for classifying data into the positive class (1).  For each threshold, compute the true positive rate (TPR) and positive predictive value (PPV).  Record the best value of each metric, along with the threshold that achieves it, and the *other* metric at that threshold."
   ]
  },
  {
   "cell_type": "code",
   "execution_count": 19,
   "metadata": {
    "collapsed": false,
    "ExecuteTime": {
     "start_time": "2023-03-28T14:37:57.745767Z",
     "end_time": "2023-03-28T14:37:57.801164Z"
    }
   },
   "outputs": [],
   "source": [
    "# TODO: test different thresholds to compute these values\n",
    "from hw3 import find_best_thresholds\n",
    "\n",
    "best_TPR, best_PPV_for_best_TPR, best_TPR_threshold, best_PPV, best_TPR_for_best_PPV, best_PPV_threshold = find_best_thresholds(y_test=y_test, pred_prob_test=pred_prob_test) # y_true_N, y_proba1_N, thresh=0.5\n"
   ]
  },
  {
   "cell_type": "code",
   "execution_count": 20,
   "metadata": {
    "collapsed": false,
    "ExecuteTime": {
     "start_time": "2023-03-28T14:37:57.767665Z",
     "end_time": "2023-03-28T14:37:57.801826Z"
    }
   },
   "outputs": [
    {
     "name": "stdout",
     "output_type": "stream",
     "text": [
      "Best TPR threshold: 0.8408 => TPR: 1.0000; PPV: 0.9600\n",
      "Best PPV threshold: 1.0010 => PPV: 0.2500; TPR: 0.0000\n"
     ]
    }
   ],
   "source": [
    "print(\"Best TPR threshold: %.4f => TPR: %.4f; PPV: %.4f\" % (best_TPR_threshold, best_TPR, best_PPV_for_best_TPR))\n",
    "print(\"Best PPV threshold: %.4f => PPV: %.4f; TPR: %.4f\" % (best_PPV_threshold, best_PPV, best_TPR_for_best_PPV))"
   ]
  },
  {
   "cell_type": "markdown",
   "metadata": {
    "collapsed": false
   },
   "source": [
    "#### (e) Exploring different thresholds\n",
    "\n",
    "#### (i) Using default 0.5 threshold.\n",
    "\n",
    "Generate confusion matrix and metrics for probabilistic classifier, using threshold 0.5."
   ]
  },
  {
   "cell_type": "code",
   "execution_count": 21,
   "metadata": {
    "collapsed": false,
    "ExecuteTime": {
     "start_time": "2023-03-28T14:37:57.785000Z",
     "end_time": "2023-03-28T14:37:57.824363Z"
    }
   },
   "outputs": [
    {
     "name": "stdout",
     "output_type": "stream",
     "text": [
      "ON THE TEST SET:\n",
      "Chosen best threshold = 0.5000\n",
      "\n",
      "Predicted   0   1\n",
      "True             \n",
      "0          57  98\n",
      "1           0  25\n",
      "\n",
      "0.456 ACC\n",
      "1.000 TPR\n",
      "0.368 TNR\n",
      "0.203 PPV\n",
      "1.000 NPV\n"
     ]
    }
   ],
   "source": [
    "best_thr = 0.5\n",
    "print(\"ON THE TEST SET:\")\n",
    "print(\"Chosen best threshold = %.4f\" % best_thr)\n",
    "print(\"\")\n",
    "# TODO: print(calc_confusion_matrix_for_threshold(...))\n",
    "# print(calc_confusion_matrix_for_threshold(...))\n",
    "print(calc_confusion_matrix_for_threshold(y_test, pred_prob_test, best_thr))\n",
    "\n",
    "print(\"\")\n",
    "# TODO: print_perf_metrics_for_threshold(...)\n",
    "# print_perf_metrics_for_threshold(...)\n",
    "print_perf_metrics_for_threshold(y_test, pred_prob_test, best_thr)\n"
   ]
  },
  {
   "cell_type": "markdown",
   "metadata": {
    "collapsed": false
   },
   "source": [
    "#### (ii) Using threshold with highest TPR.\n",
    "\n",
    "Generate confusion matrix and metrics for probabilistic classifier, using threshold that maximizes TPR."
   ]
  },
  {
   "cell_type": "code",
   "execution_count": 22,
   "metadata": {
    "collapsed": false,
    "ExecuteTime": {
     "start_time": "2023-03-28T14:37:57.804763Z",
     "end_time": "2023-03-28T14:37:57.824779Z"
    }
   },
   "outputs": [
    {
     "name": "stdout",
     "output_type": "stream",
     "text": [
      "ON THE TEST SET:\n",
      "Chosen best threshold = 0.8408\n",
      "\n",
      "\n",
      "Predicted   0   1\n",
      "True             \n",
      "0          77  78\n",
      "1           0  25\n",
      "0.567 ACC\n",
      "1.000 TPR\n",
      "0.497 TNR\n",
      "0.243 PPV\n",
      "1.000 NPV\n"
     ]
    }
   ],
   "source": [
    "best_thr = best_TPR_threshold\n",
    "print(\"ON THE TEST SET:\")\n",
    "print(\"Chosen best threshold = %.4f\" % best_thr)\n",
    "print(\"\")\n",
    "\n",
    "# TODO: print(calc_confusion_matrix_for_threshold(...))\n",
    "print(\"\")\n",
    "# print(calc_confusion_matrix_for_threshold(...))\n",
    "print(calc_confusion_matrix_for_threshold(y_test, pred_prob_test, best_thr))\n",
    "\n",
    "# TODO: print_perf_metrics_for_threshold(...)\n",
    "# print_perf_metrics_for_threshold(...)\n",
    "print_perf_metrics_for_threshold(y_test, pred_prob_test, best_thr)\n"
   ]
  },
  {
   "cell_type": "markdown",
   "metadata": {
    "collapsed": false
   },
   "source": [
    "#### (iii) Using threshold with highest PPV.\n",
    "\n",
    "Generate confusion matrix and metrics for probabilistic classifier, using threshold that maximizes PPV."
   ]
  },
  {
   "cell_type": "code",
   "execution_count": 23,
   "metadata": {
    "collapsed": false,
    "ExecuteTime": {
     "start_time": "2023-03-28T14:37:57.824318Z",
     "end_time": "2023-03-28T14:37:57.855649Z"
    }
   },
   "outputs": [
    {
     "name": "stdout",
     "output_type": "stream",
     "text": [
      "ON THE TEST SET:\n",
      "Chosen best threshold = 1.0010\n",
      "\n",
      "Predicted   0   1\n",
      "True             \n",
      "0          83  72\n",
      "1           1  24\n",
      "0.594 ACC\n",
      "0.960 TPR\n",
      "0.535 TNR\n",
      "0.250 PPV\n",
      "0.988 NPV\n"
     ]
    }
   ],
   "source": [
    "best_thr = best_PPV_threshold\n",
    "print(\"ON THE TEST SET:\")\n",
    "print(\"Chosen best threshold = %.4f\" % best_thr)\n",
    "print(\"\")\n",
    "\n",
    "# TODO: print(calc_confusion_matrix_for_threshold(...))\n",
    "# print(calc_confusion_matrix_for_threshold(...))\n",
    "print(calc_confusion_matrix_for_threshold(y_test, pred_prob_test, best_thr))\n",
    "\n",
    "# TODO: print_perf_metrics_for_threshold(...)\n",
    "# print_perf_metrics_for_threshold(...)\n",
    "print_perf_metrics_for_threshold(y_test, pred_prob_test, best_thr)\n"
   ]
  },
  {
   "cell_type": "markdown",
   "metadata": {
    "collapsed": false
   },
   "source": [
    "#### (iv) Compare the confusion matrices from (a)–(c) to analyze the different thresholds.\n",
    "\n",
    "**Answer**: TODO"
   ]
  },
  {
   "cell_type": "markdown",
   "source": [
    "look at the bonus...collaborators.txt file"
   ],
   "metadata": {
    "collapsed": false
   }
  },
  {
   "cell_type": "code",
   "execution_count": 23,
   "metadata": {
    "collapsed": false,
    "ExecuteTime": {
     "start_time": "2023-03-28T14:37:57.843710Z",
     "end_time": "2023-03-28T14:37:57.888572Z"
    }
   },
   "outputs": [],
   "source": []
  }
 ],
 "metadata": {
  "kernelspec": {
   "display_name": "Python 3",
   "language": "python",
   "name": "python3"
  },
  "language_info": {
   "codemirror_mode": {
    "name": "ipython",
    "version": 2
   },
   "file_extension": ".py",
   "mimetype": "text/x-python",
   "name": "python",
   "nbconvert_exporter": "python",
   "pygments_lexer": "ipython2",
   "version": "2.7.6"
  }
 },
 "nbformat": 4,
 "nbformat_minor": 0
}
