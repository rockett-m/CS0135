{
 "cells": [
  {
   "cell_type": "code",
   "execution_count": null,
   "outputs": [],
   "source": [
    "'''\n",
    "hw1.py\n",
    "Author: Morgan Rockett\n",
    "\n",
    "Tufts CS 135 Intro ML\n",
    "'''"
   ],
   "metadata": {
    "collapsed": false,
    "pycharm": {
     "name": "#%%\n"
    }
   }
  },
  {
   "cell_type": "code",
   "execution_count": null,
   "outputs": [],
   "source": [
    "import numpy as np\n",
    "\n",
    "def split_into_train_and_test(x_all_LF, frac_test=0.5, random_state=None):\n",
    "    ''' Divide provided array into train and test set along first dimension\n",
    "\n",
    "    User can provide a random number generator object to ensure reproducibility.\n",
    "\n",
    "    Args\n",
    "    ----\n",
    "    x_all_LF : 2D array, shape = (n_total_examples, n_features) (L, F)\n",
    "        Each row is a feature vector\n",
    "    frac_test : float, fraction between 0 and 1\n",
    "        Indicates fraction of all L examples to allocate to the \"test\" set\n",
    "    random_state : np.random.RandomState instance or integer or None\n",
    "        If int, code will create RandomState instance with provided value as seed\n",
    "        If None, defaults to the current numpy random number generator np.random\n",
    "\n",
    "    Returns\n",
    "    -------\n",
    "    x_train_MF : 2D array, shape = (n_train_examples, n_features) (M, F)\n",
    "        Each row is a feature vector\n",
    "        Should be a separately allocated array, NOT a view of any input array\n",
    "\n",
    "    x_test_NF : 2D array, shape = (n_test_examples, n_features) (N, F)\n",
    "        Each row is a feature vector\n",
    "        Should be a separately allocated array, NOT a view of any input array\n",
    "\n",
    "    Post Condition\n",
    "    --------------\n",
    "    This function should be side-effect free. The provided input array x_all_LF\n",
    "    should not change at all (not be shuffled, etc.)\n",
    "\n",
    "    Examples\n",
    "    --------\n",
    "    >>> x_LF = np.eye(10)\n",
    "    >>> xcopy_LF = x_LF.copy() # preserve what input was before the call\n",
    "    >>> train_MF, test_NF = split_into_train_and_test(\n",
    "    ...     x_LF, frac_test=0.3, random_state=np.random.RandomState(0))\n",
    "    >>> train_MF.shape\n",
    "    (7, 10)\n",
    "    >>> test_NF.shape\n",
    "    (3, 10)\n",
    "    >>> print(train_MF)\n",
    "    [[0. 0. 1. 0. 0. 0. 0. 0. 0. 0.]\n",
    "     [0. 0. 0. 0. 0. 0. 0. 0. 1. 0.]\n",
    "     [0. 0. 0. 0. 1. 0. 0. 0. 0. 0.]\n",
    "     [0. 0. 0. 0. 0. 0. 0. 0. 0. 1.]\n",
    "     [0. 1. 0. 0. 0. 0. 0. 0. 0. 0.]\n",
    "     [0. 0. 0. 0. 0. 0. 1. 0. 0. 0.]\n",
    "     [0. 0. 0. 0. 0. 0. 0. 1. 0. 0.]]\n",
    "    >>> print(test_NF)\n",
    "    [[0. 0. 0. 1. 0. 0. 0. 0. 0. 0.]\n",
    "     [1. 0. 0. 0. 0. 0. 0. 0. 0. 0.]\n",
    "     [0. 0. 0. 0. 0. 1. 0. 0. 0. 0.]]\n",
    "\n",
    "    ## Verify that input array did not change due to function call\n",
    "    >>> np.allclose(x_LF, xcopy_LF)\n",
    "    True\n",
    "\n",
    "    References\n",
    "    ----------\n",
    "    For more about RandomState, see:\n",
    "    https://stackoverflow.com/questions/28064634/random-state-pseudo-random-numberin-scikit-learn\n",
    "    '''\n",
    "    if random_state is None:\n",
    "        random_state = np.random\n",
    "    ## TODO fixme\n",
    "    return x_train_MF, x_test_NF\n"
   ],
   "metadata": {
    "collapsed": false,
    "pycharm": {
     "name": "#%%\n"
    }
   }
  },
  {
   "cell_type": "code",
   "execution_count": null,
   "outputs": [],
   "source": [
    "def calc_k_nearest_neighbors(data_NF, query_QF, K=1):\n",
    "    ''' Compute and return k-nearest neighbors under Euclidean distance\n",
    "\n",
    "    Any ties in distance may be broken arbitrarily.\n",
    "\n",
    "    Args\n",
    "    ----\n",
    "    data_NF : 2D array, shape = (n_examples, n_features) aka (N, F)\n",
    "        Each row is a feature vector for one example in dataset\n",
    "    query_QF : 2D array, shape = (n_queries, n_features) aka (Q, F)\n",
    "        Each row is a feature vector whose neighbors we want to find\n",
    "    K : int, positive (must be >= 1)\n",
    "        Number of neighbors to find per query vector\n",
    "\n",
    "    Returns\n",
    "    -------\n",
    "    neighb_QKF : 3D array, (n_queries, n_neighbors, n_feats) (Q, K, F)\n",
    "        Entry q,k is feature vector of the k-th neighbor of the q-th query\n",
    "    '''\n",
    "    # TODO fixme\n",
    "    return neighb_QKF"
   ],
   "metadata": {
    "collapsed": false,
    "pycharm": {
     "name": "#%%\n"
    }
   }
  },
  {
   "cell_type": "code",
   "execution_count": null,
   "outputs": [],
   "source": [
    "if __name__ == '__main__':\n",
    "\n",
    "    frac_test=0.5\n",
    "    random_state=None\n",
    "\n",
    "    # data_NF\n",
    "    # query_QF\n",
    "    K=1\n",
    "\n",
    "    x_train_MF, x_test_NF = split_into_train_and_test(x_all_LF, frac_test, random_state)\n",
    "\n",
    "    neighb_QKF = calc_k_nearest_neighbors(data_NF, query_QF, K)"
   ],
   "metadata": {
    "collapsed": false,
    "pycharm": {
     "name": "#%%\n"
    }
   }
  }
 ],
 "metadata": {
  "kernelspec": {
   "display_name": "Python 3",
   "language": "python",
   "name": "python3"
  },
  "language_info": {
   "codemirror_mode": {
    "name": "ipython",
    "version": 2
   },
   "file_extension": ".py",
   "mimetype": "text/x-python",
   "name": "python",
   "nbconvert_exporter": "python",
   "pygments_lexer": "ipython2",
   "version": "2.7.6"
  }
 },
 "nbformat": 4,
 "nbformat_minor": 0
}