{
 "cells": [
  {
   "cell_type": "markdown",
   "metadata": {
    "collapsed": false
   },
   "source": [
    "# Project2 Part1 - Text Analysis through TFIDF computation\n"
   ]
  },
  {
   "cell_type": "code",
   "execution_count": 41,
   "metadata": {
    "collapsed": false,
    "ExecuteTime": {
     "start_time": "2023-04-25T19:16:51.977890Z",
     "end_time": "2023-04-25T19:16:52.062720Z"
    }
   },
   "outputs": [
    {
     "name": "stdout",
     "output_type": "stream",
     "text": [
      "The autoreload extension is already loaded. To reload it, use:\n",
      "  %reload_ext autoreload\n"
     ]
    }
   ],
   "source": [
    "from text_analyzer import read_sonnets, clean_corpus, tf, get_top_k, idf, tf_idf, cosine_sim\n",
    "\n",
    "import pandas as pd\n",
    "\n",
    "%load_ext autoreload\n",
    "%autoreload 2"
   ]
  },
  {
   "cell_type": "code",
   "execution_count": 42,
   "metadata": {
    "collapsed": false,
    "ExecuteTime": {
     "start_time": "2023-04-25T19:16:51.997116Z",
     "end_time": "2023-04-25T19:16:52.608222Z"
    }
   },
   "outputs": [
    {
     "name": "stdout",
     "output_type": "stream",
     "text": [
      "\r\n",
      "Sonnet 1 TF (Top 20):\r\n",
      "[]\r\n",
      "Corpus TF (Top 20):\r\n",
      "[]\r\n",
      "Corpus IDF (Top 20):\r\n",
      "[]\r\n",
      "Sonnet 1 TFIDF (Top 20):\r\n",
      "[]\r\n"
     ]
    }
   ],
   "source": [
    "# run text_analyzer.py with default arguments\n",
    "!python text_analyzer.py"
   ]
  },
  {
   "cell_type": "markdown",
   "metadata": {
    "collapsed": false
   },
   "source": [
    "## a. Read about argparse.\n",
    "Look at its implementation in the Python Script. Follow the instruction and answer the questions in the Argparse section."
   ]
  },
  {
   "cell_type": "markdown",
   "metadata": {
    "collapsed": false
   },
   "source": [
    "#### TODO: answer here\n"
   ]
  },
  {
   "cell_type": "markdown",
   "metadata": {
    "collapsed": false
   },
   "source": [
    "## b. Read and Clean the data"
   ]
  },
  {
   "cell_type": "code",
   "execution_count": 43,
   "metadata": {
    "collapsed": false,
    "ExecuteTime": {
     "start_time": "2023-04-25T19:16:52.608587Z",
     "end_time": "2023-04-25T19:16:52.651638Z"
    }
   },
   "outputs": [],
   "source": [
    "d_corpus='data/shakespeare_sonnets/'\n",
    "\n",
    "# return dictionary with keys corresponding to file names and values being the respective contents\n",
    "corpus = read_sonnets(d_corpus)\n",
    "\n",
    "# return corpus (dict) with each sonnet cleaned and tokenized for further processing\n",
    "corpus = clean_corpus(corpus)"
   ]
  },
  {
   "cell_type": "code",
   "execution_count": 44,
   "metadata": {
    "collapsed": false,
    "ExecuteTime": {
     "start_time": "2023-04-25T19:16:52.652088Z",
     "end_time": "2023-04-25T19:16:52.665417Z"
    }
   },
   "outputs": [
    {
     "data": {
      "text/plain": "['from',\n 'fairest',\n 'creatures',\n 'we',\n 'desire',\n 'increase',\n 'that',\n 'thereby',\n 'beautys',\n 'rose',\n 'might',\n 'never',\n 'die',\n 'but',\n 'as',\n 'the',\n 'riper',\n 'should',\n 'by',\n 'time',\n 'decease',\n 'his',\n 'tender',\n 'heir',\n 'might',\n 'bear',\n 'his',\n 'memory',\n 'but',\n 'thou',\n 'contracted',\n 'to',\n 'thine',\n 'own',\n 'bright',\n 'eyes',\n 'feedst',\n 'thy',\n 'lights',\n 'flame',\n 'with',\n 'selfsubstantial',\n 'fuel',\n 'making',\n 'a',\n 'famine',\n 'where',\n 'abundance',\n 'lies',\n 'thy',\n 'self',\n 'thy',\n 'foe',\n 'to',\n 'thy',\n 'sweet',\n 'self',\n 'too',\n 'cruel',\n 'thou',\n 'that',\n 'art',\n 'now',\n 'the',\n 'worlds',\n 'fresh',\n 'ornament',\n 'and',\n 'only',\n 'herald',\n 'to',\n 'the',\n 'gaudy',\n 'spring',\n 'within',\n 'thine',\n 'own',\n 'bud',\n 'buriest',\n 'thy',\n 'content',\n 'and',\n 'tender',\n 'churl',\n 'makst',\n 'waste',\n 'in',\n 'niggarding',\n 'pity',\n 'the',\n 'world',\n 'or',\n 'else',\n 'this',\n 'glutton',\n 'be',\n 'to',\n 'eat',\n 'the',\n 'worlds',\n 'due',\n 'by',\n 'the',\n 'grave',\n 'and',\n 'thee']"
     },
     "execution_count": 44,
     "metadata": {},
     "output_type": "execute_result"
    }
   ],
   "source": [
    "corpus['1'] # keys 1-154 for all sonnets (type: str)"
   ]
  },
  {
   "cell_type": "markdown",
   "metadata": {
    "collapsed": false
   },
   "source": [
    "## c. TF"
   ]
  },
  {
   "cell_type": "code",
   "execution_count": 45,
   "metadata": {
    "collapsed": false,
    "ExecuteTime": {
     "start_time": "2023-04-25T19:16:52.667159Z",
     "end_time": "2023-04-25T19:16:52.698306Z"
    }
   },
   "outputs": [
    {
     "data": {
      "text/plain": "Empty DataFrame\nColumns: [word, count]\nIndex: []",
      "text/html": "<div>\n<style scoped>\n    .dataframe tbody tr th:only-of-type {\n        vertical-align: middle;\n    }\n\n    .dataframe tbody tr th {\n        vertical-align: top;\n    }\n\n    .dataframe thead th {\n        text-align: right;\n    }\n</style>\n<table border=\"1\" class=\"dataframe\">\n  <thead>\n    <tr style=\"text-align: right;\">\n      <th></th>\n      <th>word</th>\n      <th>count</th>\n    </tr>\n  </thead>\n  <tbody>\n  </tbody>\n</table>\n</div>"
     },
     "execution_count": 45,
     "metadata": {},
     "output_type": "execute_result"
    }
   ],
   "source": [
    "# assign 1.txt to variable sonnet to process and find its TF (Note corpus is of type dic, but sonnet1 is just a str)\n",
    "sonnet1 = corpus['1']\n",
    "\n",
    "# determine tf of sonnet\n",
    "sonnet1_tf = tf(sonnet1)\n",
    "\n",
    "# get sorted list and slice out top 20\n",
    "sonnet1_top20 = get_top_k(sonnet1_tf)\n",
    "# print\n",
    "# print(\"Sonnet 1 (Top 20):\")\n",
    "df = pd.DataFrame(sonnet1_top20, columns=[\"word\", \"count\"])\n",
    "df.head(20)"
   ]
  },
  {
   "cell_type": "code",
   "execution_count": 46,
   "metadata": {
    "collapsed": false,
    "ExecuteTime": {
     "start_time": "2023-04-25T19:16:52.682636Z",
     "end_time": "2023-04-25T19:16:52.700835Z"
    }
   },
   "outputs": [
    {
     "data": {
      "text/plain": "Empty DataFrame\nColumns: [word, count]\nIndex: []",
      "text/html": "<div>\n<style scoped>\n    .dataframe tbody tr th:only-of-type {\n        vertical-align: middle;\n    }\n\n    .dataframe tbody tr th {\n        vertical-align: top;\n    }\n\n    .dataframe thead th {\n        text-align: right;\n    }\n</style>\n<table border=\"1\" class=\"dataframe\">\n  <thead>\n    <tr style=\"text-align: right;\">\n      <th></th>\n      <th>word</th>\n      <th>count</th>\n    </tr>\n  </thead>\n  <tbody>\n  </tbody>\n</table>\n</div>"
     },
     "execution_count": 46,
     "metadata": {},
     "output_type": "execute_result"
    }
   ],
   "source": [
    "# TF of entire corpus\n",
    "flattened_corpus = [word for sonnet in corpus.values() for word in sonnet]\n",
    "corpus_tf = tf(flattened_corpus)\n",
    "corpus_top20 = get_top_k(corpus_tf)\n",
    "# print\n",
    "# print(\"Corpus TF (Top 20):\")\n",
    "df = pd.DataFrame(corpus_top20, columns=[\"word\", \"count\"])\n",
    "df.head(20)"
   ]
  },
  {
   "cell_type": "markdown",
   "metadata": {
    "collapsed": false
   },
   "source": [
    "### Q: Discussion\n",
    "Do you believe the most frequent words would discriminate between documents well? Why or why not? Any thoughts on how we can improve this representation? Does there appear to be any ‘noise’? If so, where? If not, it should be clear by the end of the assignment."
   ]
  },
  {
   "cell_type": "markdown",
   "metadata": {
    "collapsed": false
   },
   "source": [
    "#### TODO: answer here"
   ]
  },
  {
   "cell_type": "markdown",
   "metadata": {
    "collapsed": false
   },
   "source": [
    "## d. IDF"
   ]
  },
  {
   "cell_type": "code",
   "execution_count": 47,
   "metadata": {
    "collapsed": false,
    "ExecuteTime": {
     "start_time": "2023-04-25T19:16:52.700693Z",
     "end_time": "2023-04-25T19:16:52.739072Z"
    }
   },
   "outputs": [
    {
     "data": {
      "text/plain": "Empty DataFrame\nColumns: [word, score]\nIndex: []",
      "text/html": "<div>\n<style scoped>\n    .dataframe tbody tr th:only-of-type {\n        vertical-align: middle;\n    }\n\n    .dataframe tbody tr th {\n        vertical-align: top;\n    }\n\n    .dataframe thead th {\n        text-align: right;\n    }\n</style>\n<table border=\"1\" class=\"dataframe\">\n  <thead>\n    <tr style=\"text-align: right;\">\n      <th></th>\n      <th>word</th>\n      <th>score</th>\n    </tr>\n  </thead>\n  <tbody>\n  </tbody>\n</table>\n</div>"
     },
     "execution_count": 47,
     "metadata": {},
     "output_type": "execute_result"
    }
   ],
   "source": [
    "# IDF of corpus\n",
    "corpus_idf = idf(corpus)\n",
    "\n",
    "corpus_tf_ordered = get_top_k(corpus_idf)\n",
    "# print top 20 to add to report\n",
    "df = pd.DataFrame(corpus_tf_ordered, columns=[\"word\", \"score\"])\n",
    "df.head(20)"
   ]
  },
  {
   "cell_type": "markdown",
   "metadata": {
    "collapsed": false
   },
   "source": [
    "### Q: observe and briefly comment on the difference in top 20 lists (comparing TF of corpus vs its IDF)."
   ]
  },
  {
   "cell_type": "markdown",
   "metadata": {
    "collapsed": false
   },
   "source": [
    "#### TODO: answer here"
   ]
  },
  {
   "cell_type": "markdown",
   "metadata": {
    "collapsed": false
   },
   "source": [
    "## e. TF-IDF"
   ]
  },
  {
   "cell_type": "code",
   "execution_count": 48,
   "metadata": {
    "collapsed": false,
    "ExecuteTime": {
     "start_time": "2023-04-25T19:16:52.722602Z",
     "end_time": "2023-04-25T19:16:52.754595Z"
    }
   },
   "outputs": [
    {
     "data": {
      "text/plain": "Empty DataFrame\nColumns: [word, score]\nIndex: []",
      "text/html": "<div>\n<style scoped>\n    .dataframe tbody tr th:only-of-type {\n        vertical-align: middle;\n    }\n\n    .dataframe tbody tr th {\n        vertical-align: top;\n    }\n\n    .dataframe thead th {\n        text-align: right;\n    }\n</style>\n<table border=\"1\" class=\"dataframe\">\n  <thead>\n    <tr style=\"text-align: right;\">\n      <th></th>\n      <th>word</th>\n      <th>score</th>\n    </tr>\n  </thead>\n  <tbody>\n  </tbody>\n</table>\n</div>"
     },
     "execution_count": 48,
     "metadata": {},
     "output_type": "execute_result"
    }
   ],
   "source": [
    "# TFIDF of Sonnet1 w.r.t. corpus\n",
    "sonnet1_tfidf = tf_idf(corpus_idf, sonnet1_tf)\n",
    "sonnet1_tfidf_ordered = get_top_k(sonnet1_tfidf)\n",
    "# print\n",
    "# print(\"Sonnet 1 TFIDF (Top 20):\")\n",
    "df = pd.DataFrame(sonnet1_tfidf_ordered, columns=[\"word\", \"score\"])\n",
    "df.head(20)"
   ]
  },
  {
   "cell_type": "markdown",
   "metadata": {
    "collapsed": false
   },
   "source": [
    "### Q. What is different with this list than just using TF?"
   ]
  },
  {
   "cell_type": "markdown",
   "metadata": {
    "collapsed": false
   },
   "source": [
    "#### TODO: answer here"
   ]
  },
  {
   "cell_type": "markdown",
   "metadata": {
    "collapsed": false
   },
   "source": [
    "## f. Compare all documents"
   ]
  },
  {
   "cell_type": "code",
   "execution_count": 49,
   "metadata": {
    "collapsed": false,
    "ExecuteTime": {
     "start_time": "2023-04-25T19:16:52.737816Z",
     "end_time": "2023-04-25T19:16:52.754734Z"
    }
   },
   "outputs": [],
   "source": [
    "# TODO: Visualize as a heatmap\n"
   ]
  },
  {
   "cell_type": "markdown",
   "metadata": {
    "collapsed": false
   },
   "source": [
    "### Q. Observe the heatmap. What insight do you get from it?"
   ]
  },
  {
   "cell_type": "markdown",
   "metadata": {
    "collapsed": false
   },
   "source": [
    "#### TODO: answer here"
   ]
  }
 ],
 "metadata": {
  "kernelspec": {
   "display_name": "Python 3",
   "language": "python",
   "name": "python3"
  },
  "language_info": {
   "codemirror_mode": {
    "name": "ipython",
    "version": 2
   },
   "file_extension": ".py",
   "mimetype": "text/x-python",
   "name": "python",
   "nbconvert_exporter": "python",
   "pygments_lexer": "ipython2",
   "version": "2.7.6"
  }
 },
 "nbformat": 4,
 "nbformat_minor": 0
}
