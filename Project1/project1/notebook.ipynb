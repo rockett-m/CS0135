{
 "cells": [
  {
   "cell_type": "markdown",
   "metadata": {},
   "source": [
    "# Project 1 - Support Vector Machine Classification\n",
    "\n",
    "### NAME(S): Morgan Rockett\n",
    "### DATE: 4/01/23"
   ]
  },
  {
   "cell_type": "markdown",
   "metadata": {},
   "source": [
    "## What will we do?\n",
    "Using gradient descent, we will build a Support Vector Machine to find the optimal hyperplane that maximizes the margin between two toy data classes."
   ]
  },
  {
   "cell_type": "markdown",
   "metadata": {},
   "source": [
    "## What are some use cases for SVMs?\n",
    "\n",
    "-Classification, regression (time series prediction, etc.), outlier detection, clustering"
   ]
  },
  {
   "cell_type": "markdown",
   "metadata": {},
   "source": [
    "## How does an SVM compare to other ML algorithms?\n",
    "\n",
    "\n",
    "![alt text](images/img.png)\n",
    "Classifiers: (a) Logistic Regression, (b) SVM, and (c) Multi-Layer Perception (MLP)\n",
    "* As a rule of thumb, SVMs are great for relatively small data sets with fewer outliers.\n",
    "* Other algorithms (Random forests, deep neural networks, etc.) require more data but almost always develop robust models.\n",
    "* The decision of which classifier to use depends on your dataset and the general complexity of the problem.\n",
    "* \"Premature optimization is the root of all evil (or at least most of it) in programming.\" - Donald Knuth, CS Professor (Turing award speech 1974)\n",
    "\n",
    "## Other Examples\n",
    "\n",
    "- Learning to use Scikit-learn's SVM function to classify images https://github.com/ksopyla/svm_mnist_digit_classification\n",
    "- Pulse classification, more useful dataset\n",
    "https://github.com/akasantony/pulse-classification-svm"
   ]
  },
  {
   "cell_type": "markdown",
   "metadata": {},
   "source": [
    "## What is a Support Vector Machine?\n",
    "\n",
    "It's a supervised machine learning algorithm that can be used for both classification and regression problems. But it's usually used for classification. Given two or more labeled data classes, it acts as a discriminative classifier, formally defined by an optimal hyperplane that separates all the classes. New examples mapped into that space can then be categorized based on which side of the gap they fall."
   ]
  },
  {
   "cell_type": "markdown",
   "metadata": {},
   "source": [
    "## What are Support Vectors?\n",
    "\n",
    "![alt text](images/SvmMargin2.jpg \"Logo Title Text 1\")\n",
    "\n",
    "Support vectors are the data points nearest to the hyperplane, the points of a data set that, if removed, would alter the position of the dividing hyperplane. Because of this, they can be considered the critical elements of a data set; they help us build our SVM."
   ]
  },
  {
   "cell_type": "markdown",
   "metadata": {},
   "source": [
    "\n",
    "## What is a hyperplane?\n",
    "\n",
    "![alt text](images/Hyperplanes+as+decision+surfaces.jpg \"Logo Title Text 1\")\n",
    "\n",
    "Geometry tells us that a hyperplane is a subspace of one dimension less than its ambient space. For instance, a hyperplane of an n-dimensional space is a flat subset with size $n − 1$. By its nature, it separates the space in half.\n",
    "\n",
    "## Linear vs nonlinear classification?\n",
    "\n",
    "Sometimes our data is linearly separable. That means for N classes with M features. We can learn a mapping that is a linear combination. (like $y = mx + b$). Or even a multidimensional hyperplane ($y = x + z + b + q$). No matter how many dimensions/features a set of classes have, we can represent the mapping using a linear function.\n",
    "\n",
    "But sometimes it is not. Like if there was a quadratic mapping. Luckily for us, SVMs can efficiently perform a non-linear classification using what is called the kernel trick.\n",
    "\n",
    "![alt text](images/1_mCwnu5kXot6buL7jeIafqQ.png \"Logo Title Text 1\")\n",
    "\n",
    "More on this as a Bonus question comes at the end of notebook.\n",
    "\n",
    "All right, let's get to the building!"
   ]
  },
  {
   "cell_type": "markdown",
   "metadata": {},
   "source": [
    "# Instructions\n",
    "\n",
    "In this assignment, you will implement a support vector machine (SVM) from scratch, and you will use your implementation for multiclass classification on the MNIST dataset.\n",
    "\n",
    "\n",
    "In `implementation.py` implement the SVM class. In the fit function, use `scipy.minimize` ([see documentation](https://docs.scipy.org/doc/scipy/reference/generated/scipy.optimize.minimize.html)) to solve the constrained optimization problem:\n",
    "\n",
    "$\\begin{align*}\n",
    "& \\underset{a}{\\text{maximize}}& & \\sum_{i=1}^{n}a_{i} - \\frac{1}{2}\\sum_{i=1}^{n}\\sum_{j=1}^{n}a_{i}a_{j}y_{i}y_{j}(x_{i}\\cdot x_{j}) \\\\\n",
    "& \\text{subject to}& & a_{i} \\ge 0, i=1,\\ldots, n \\\\\n",
    "& & & \\sum_{i=1}^{n}a_{i}y_{i} = 0\n",
    "\\end{align*}$\n",
    "\n",
    "__Note__: An SVM is a convex optimization problem. Using  to solve the equation above will be computationally expensive given larger datasets. [CS 168 Convex Optimization](https://www.cs.tufts.edu/t/courses/description/spring2023/CS/168-01) is a course to take later if interested in optimization and the mathematics and intuition that drives it."
   ]
  },
  {
   "cell_type": "code",
   "execution_count": 234,
   "metadata": {
    "jupyter": {
     "outputs_hidden": false
    },
    "ExecuteTime": {
     "start_time": "2023-04-11T14:46:09.951968Z",
     "end_time": "2023-04-11T14:46:10.445782Z"
    }
   },
   "outputs": [
    {
     "name": "stdout",
     "output_type": "stream",
     "text": [
      "The autoreload extension is already loaded. To reload it, use:\n",
      "  %reload_ext autoreload\n"
     ]
    }
   ],
   "source": [
    "import numpy as np\n",
    "import pandas as pd\n",
    "\n",
    "from scipy.io import loadmat\n",
    "from implementation import SVM, linear_kernel, nonlinear_kernel\n",
    "# from solution import SVM, linear_kernel, nonlinear_kernel\n",
    "from sklearn.datasets import make_blobs\n",
    "from sklearn.svm import SVC\n",
    "from sklearn.linear_model import LogisticRegression\n",
    "from sklearn.metrics import confusion_matrix\n",
    "\n",
    "import matplotlib\n",
    "import matplotlib.pyplot as plt\n",
    "\n",
    "%load_ext autoreload\n",
    "%autoreload 2"
   ]
  },
  {
   "cell_type": "markdown",
   "metadata": {},
   "source": [
    "## Step 1 - Get Data"
   ]
  },
  {
   "cell_type": "code",
   "execution_count": 235,
   "metadata": {
    "jupyter": {
     "outputs_hidden": false
    },
    "ExecuteTime": {
     "start_time": "2023-04-11T14:46:09.974384Z",
     "end_time": "2023-04-11T14:46:10.555195Z"
    }
   },
   "outputs": [
    {
     "data": {
      "text/plain": "<Figure size 640x480 with 1 Axes>",
      "image/png": "[encoded data removed]"
     },
     "metadata": {},
     "output_type": "display_data"
    }
   ],
   "source": [
    "# Input data - of the form [Bias term, x_1 value, x_2 value]\n",
    "X = np.array([\n",
    "    [1, -2, 4,],\n",
    "    [1, 4, 1,],\n",
    "    [1, 1, 6,],\n",
    "    [1, 2, 4,],\n",
    "    [1, 6, 2,],\n",
    "])\n",
    "\n",
    "# Associated output labels - first 2 examples are labeled '-1' and last 3 are labeled '+1'\n",
    "y = np.array([-1,-1,1,1,1])\n",
    "\n",
    "# Let's plot these examples on a 2D graph!\n",
    "# Plot the negative samples (the first 2)\n",
    "plt.scatter(X[:,1][y==-1], X[:,2][y==-1], s=120, marker='_', linewidths=2)\n",
    "# Plot the positive samples (the last 3)\n",
    "plt.scatter(X[:,1][y==1], X[:,2][y==1], s=120, marker='+', linewidths=2)\n",
    "\n",
    "# Print a possible hyperplane, that is separating the two classes.\n",
    "# we'll two points and draw the line between them (naive guess)\n",
    "plt.plot([-2,6],[6,0.5])\n",
    "plt.xlabel(r\"$x_1$\")\n",
    "plt.ylabel(r\"$x_2$\")\n",
    "plt.show()"
   ]
  },
  {
   "cell_type": "markdown",
   "metadata": {},
   "source": [
    "### SVM basics\n",
    "SVM using scikit-learn."
   ]
  },
  {
   "cell_type": "code",
   "execution_count": 236,
   "metadata": {
    "jupyter": {
     "outputs_hidden": false
    },
    "ExecuteTime": {
     "start_time": "2023-04-11T14:46:10.071254Z",
     "end_time": "2023-04-11T14:46:10.556049Z"
    }
   },
   "outputs": [
    {
     "name": "stdout",
     "output_type": "stream",
     "text": [
      "scikit-learn indices of support vectors: [0 1 3 4]\n"
     ]
    }
   ],
   "source": [
    "result = SVC(kernel=\"linear\")\n",
    "result.fit(X, y.ravel())\n",
    "\n",
    "print(\"scikit-learn indices of support vectors:\", result.support_)\n",
    "\n",
    "# print(f'{result.__dir__() = }')"
   ]
  },
  {
   "cell_type": "markdown",
   "metadata": {},
   "source": [
    "## Implement and test SVM to sklearn's version (20 points)\n",
    "Compare the indices of support vectors from scikit-learn with `implementation.py` using toy data."
   ]
  },
  {
   "cell_type": "code",
   "execution_count": 237,
   "metadata": {
    "jupyter": {
     "outputs_hidden": false
    },
    "ExecuteTime": {
     "start_time": "2023-04-11T14:46:10.090565Z",
     "end_time": "2023-04-11T14:46:10.557569Z"
    }
   },
   "outputs": [
    {
     "name": "stdout",
     "output_type": "stream",
     "text": [
      "scikit-learn indices of support vectors: [0 1 3 4]\n",
      "self.a = array([1.47549954e-01, 4.77448320e-01, 1.46822658e-15, 4.08827517e-01,\n",
      "       2.16170757e-01])\n",
      "self.w = array([-1.44328993e-15,  4.99986204e-01,  1.00000345e+00])\n",
      "self.b = -3.999982745681246\n",
      "\n"
     ]
    },
    {
     "data": {
      "text/plain": "<implementation.SVM at 0x289cb2f80>"
     },
     "execution_count": 237,
     "metadata": {},
     "output_type": "execute_result"
    }
   ],
   "source": [
    "# TODO: implement SVM, along with linear_kernel\n",
    "result = SVC(kernel=\"linear\") # scipy version\n",
    "result.fit(X, y) # scipy fit\n",
    "print(\"scikit-learn indices of support vectors:\", result.support_)\n",
    "\n",
    "svm = SVM(kernel=linear_kernel) # result is our svm classifier\n",
    "svm.fit(X, y) # our fit function\n",
    "\n",
    "# comparing svm I write vs the sklearn one\n",
    "\n",
    "# sklearn uses convex optimization\n",
    "# we use minimize\n",
    "\n",
    "# print(f'{X.shape = }')\n",
    "# print(f'{y.shape = }')\n",
    "#\n",
    "# print(f'{X = }')\n",
    "# print(f'{y = }\\n')\n",
    "#\n",
    "# print(f'{self.a.shape = }')\n",
    "# print(f'{self.a = }\\n')\n"
   ]
  },
  {
   "cell_type": "markdown",
   "metadata": {},
   "source": []
  },
  {
   "cell_type": "code",
   "execution_count": 238,
   "metadata": {
    "jupyter": {
     "outputs_hidden": false
    },
    "ExecuteTime": {
     "start_time": "2023-04-11T14:46:10.117481Z",
     "end_time": "2023-04-11T14:46:10.558078Z"
    }
   },
   "outputs": [
    {
     "name": "stdout",
     "output_type": "stream",
     "text": [
      "implementation.py indices of support vectors: [0 1 3 4]\n",
      "svm.a = array([1.47549954e-01, 4.77448320e-01, 1.46822658e-15, 4.08827517e-01,\n",
      "       2.16170757e-01])\n",
      "result.support_ = array([0, 1, 3, 4], dtype=int32)\n"
     ]
    }
   ],
   "source": [
    "print(\"implementation.py indices of support vectors:\", np.array(range(y.shape[0]))[svm.a>1e-8])\n",
    "print(f'{svm.a = }')\n",
    "print(f'{result.support_ = }')\n",
    "\n",
    "if (result.support_ != np.array(range(y.shape[0]))[svm.a>1e-8]).all():\n",
    "    raise Exception(\"The calculation is wrong\")\n"
   ]
  },
  {
   "cell_type": "markdown",
   "metadata": {},
   "source": [
    "Compare the weights assigned to the features from scikit-learn with `implementation.py`."
   ]
  },
  {
   "cell_type": "code",
   "execution_count": 239,
   "metadata": {
    "ExecuteTime": {
     "start_time": "2023-04-11T14:46:10.136515Z",
     "end_time": "2023-04-11T14:46:10.558587Z"
    }
   },
   "outputs": [
    {
     "name": "stdout",
     "output_type": "stream",
     "text": [
      "scikit-learn weights assigned to the features:\n",
      " result.coef_ = array([[0.        , 0.5       , 0.99969451]])\n",
      "implementation.py weights assigned to the features:\n",
      " svm.w = array([-1.44328993e-15,  4.99986204e-01,  1.00000345e+00])\n"
     ]
    }
   ],
   "source": [
    "#TODO - other sections were done for you, specify the variables to print, find the difference, and check it is within reasonable error from that of sklearn's version.\n",
    "print(f\"scikit-learn weights assigned to the features:\\n {result.coef_ = }\")\n",
    "print(f\"implementation.py weights assigned to the features:\\n {svm.w = }\")\n",
    "\n",
    "diff = abs(result.coef_ - svm.w) #TODO\n",
    "if (diff > 1e-3).any(): # instr note to change from 1e-3 to 1e-6\n",
    "    raise Exception(f\"The calculation is wrong: {diff = }\\n\")"
   ]
  },
  {
   "cell_type": "markdown",
   "metadata": {},
   "source": [
    "Compare the bias weight from scikit-learn with `implementation.py`."
   ]
  },
  {
   "cell_type": "code",
   "execution_count": 240,
   "metadata": {
    "ExecuteTime": {
     "start_time": "2023-04-11T14:46:10.155161Z",
     "end_time": "2023-04-11T14:46:10.559078Z"
    }
   },
   "outputs": [
    {
     "name": "stdout",
     "output_type": "stream",
     "text": [
      "scikit-learn bias weight: result.intercept_ = array([-3.99915989])\n",
      "implementation.py bias weight: svm.b = -3.999982745681246\n"
     ]
    }
   ],
   "source": [
    "print(f\"scikit-learn bias weight: {result.intercept_ = }\")\n",
    "print(f\"implementation.py bias weight: {svm.b = }\")\n",
    "\n",
    "diff = abs(result.intercept_ - svm.b)\n",
    "if (diff > 1e-3).all(): # instr note to change from 1e-3 to 1e-6\n",
    "    raise Exception(\"The calculation is wrong\")"
   ]
  },
  {
   "cell_type": "markdown",
   "metadata": {},
   "source": [
    "Compare the predictions from scikit-learn with `implementation.py`."
   ]
  },
  {
   "cell_type": "code",
   "execution_count": 241,
   "metadata": {
    "ExecuteTime": {
     "start_time": "2023-04-11T14:46:10.173774Z",
     "end_time": "2023-04-11T14:46:10.559124Z"
    }
   },
   "outputs": [
    {
     "name": "stdout",
     "output_type": "stream",
     "text": [
      "scikit-learn predictions: result.predict(X_test) = array([-1, -1])\n",
      "implementation.py predictions: svm.predict(X_test) = array([-1., -1.])\n"
     ]
    }
   ],
   "source": [
    "X_test = np.array([\n",
    "    [4, 4, -1],\n",
    "    [1, 3, -1]\n",
    "    ])\n",
    "print(f\"scikit-learn predictions: {result.predict(X_test) = }\")\n",
    "print(f\"implementation.py predictions: {svm.predict(X_test) = }\")\n",
    "\n",
    "if (svm.predict(X_test) != result.predict(X_test)).all():\n",
    "    raise Exception(\"The calculation is wrong\")"
   ]
  },
  {
   "cell_type": "markdown",
   "metadata": {},
   "source": [
    "### Using SKLearns SVM (*one-versus-the-rest*)\n",
    "\n",
    "You can load the data with `scipy.io.loadmat`, which will return a Python dictionary containing the test and train data and labels."
   ]
  },
  {
   "cell_type": "code",
   "execution_count": 242,
   "metadata": {
    "ExecuteTime": {
     "start_time": "2023-04-11T14:46:10.192769Z",
     "end_time": "2023-04-11T14:46:10.560093Z"
    }
   },
   "outputs": [],
   "source": [
    "mnist = loadmat('data/MNIST.mat')\n",
    "train_samples = mnist['train_samples']\n",
    "train_samples_labels = mnist['train_samples_labels']\n",
    "test_samples = mnist['test_samples']\n",
    "test_samples_labels = mnist['test_samples_labels']"
   ]
  },
  {
   "cell_type": "markdown",
   "metadata": {},
   "source": [
    "## Explore the MNIST dataset\n",
    "Explore the MNIST dataset:\n"
   ]
  },
  {
   "cell_type": "code",
   "execution_count": 243,
   "metadata": {
    "ExecuteTime": {
     "start_time": "2023-04-11T14:46:10.312885Z",
     "end_time": "2023-04-11T14:46:10.569283Z"
    }
   },
   "outputs": [
    {
     "name": "stdout",
     "output_type": "stream",
     "text": [
      "name.shape : min : max\n",
      "train_samples.shape = (4000, 784) 0.0 0.2790270547374771\n",
      "train_samples_labels.shape = (4000, 1) 0 9\n",
      "test_samples.shape = (1000, 784) 0.0 0.2268719189491448\n",
      "test_samples_labels.shape = (1000, 1) 0 9\n",
      "\n",
      "train_samples\n",
      "   0    1    2    3    4    5    6    7    8    9    ...  774  775  776  777  \\\n",
      "0  0.0  0.0  0.0  0.0  0.0  0.0  0.0  0.0  0.0  0.0  ...  0.0  0.0  0.0  0.0   \n",
      "1  0.0  0.0  0.0  0.0  0.0  0.0  0.0  0.0  0.0  0.0  ...  0.0  0.0  0.0  0.0   \n",
      "2  0.0  0.0  0.0  0.0  0.0  0.0  0.0  0.0  0.0  0.0  ...  0.0  0.0  0.0  0.0   \n",
      "3  0.0  0.0  0.0  0.0  0.0  0.0  0.0  0.0  0.0  0.0  ...  0.0  0.0  0.0  0.0   \n",
      "4  0.0  0.0  0.0  0.0  0.0  0.0  0.0  0.0  0.0  0.0  ...  0.0  0.0  0.0  0.0   \n",
      "\n",
      "   778  779  780  781  782  783  \n",
      "0  0.0  0.0  0.0  0.0  0.0  0.0  \n",
      "1  0.0  0.0  0.0  0.0  0.0  0.0  \n",
      "2  0.0  0.0  0.0  0.0  0.0  0.0  \n",
      "3  0.0  0.0  0.0  0.0  0.0  0.0  \n",
      "4  0.0  0.0  0.0  0.0  0.0  0.0  \n",
      "\n",
      "[5 rows x 784 columns]\n",
      "\n",
      "train_samples_labels\n",
      "   0\n",
      "0  9\n",
      "1  7\n",
      "2  7\n",
      "3  6\n",
      "4  6\n",
      "\n",
      "test_samples\n",
      "   0    1    2    3    4    5    6    7    8    9    ...  774  775  776  777  \\\n",
      "0  0.0  0.0  0.0  0.0  0.0  0.0  0.0  0.0  0.0  0.0  ...  0.0  0.0  0.0  0.0   \n",
      "1  0.0  0.0  0.0  0.0  0.0  0.0  0.0  0.0  0.0  0.0  ...  0.0  0.0  0.0  0.0   \n",
      "2  0.0  0.0  0.0  0.0  0.0  0.0  0.0  0.0  0.0  0.0  ...  0.0  0.0  0.0  0.0   \n",
      "3  0.0  0.0  0.0  0.0  0.0  0.0  0.0  0.0  0.0  0.0  ...  0.0  0.0  0.0  0.0   \n",
      "4  0.0  0.0  0.0  0.0  0.0  0.0  0.0  0.0  0.0  0.0  ...  0.0  0.0  0.0  0.0   \n",
      "\n",
      "   778  779  780  781  782  783  \n",
      "0  0.0  0.0  0.0  0.0  0.0  0.0  \n",
      "1  0.0  0.0  0.0  0.0  0.0  0.0  \n",
      "2  0.0  0.0  0.0  0.0  0.0  0.0  \n",
      "3  0.0  0.0  0.0  0.0  0.0  0.0  \n",
      "4  0.0  0.0  0.0  0.0  0.0  0.0  \n",
      "\n",
      "[5 rows x 784 columns]\n",
      "\n",
      "test_samples_labels\n",
      "   0\n",
      "0  7\n",
      "1  2\n",
      "2  1\n",
      "3  0\n",
      "4  4\n",
      "\n"
     ]
    }
   ],
   "source": [
    "# TODO: Visualize samples of each class\n",
    "print(f'name.shape : min : max')\n",
    "print(f'{train_samples.shape = } {train_samples.min()} {train_samples.max()}')\n",
    "print(f'{train_samples_labels.shape = } {test_samples_labels.min()} {test_samples_labels.max()}')\n",
    "print(f'{test_samples.shape = } {test_samples.min()} {test_samples.max()}')\n",
    "print(f'{test_samples_labels.shape = } {test_samples_labels.min()} {test_samples_labels.max()}\\n')\n",
    "# X : array-like of shape (n_samples, n_features)\n",
    "# y : array-like of shape (n_samples,) or (n_samples, n_outputs)\n",
    "import pandas as pd\n",
    "train_samp = pd.DataFrame(train_samples)\n",
    "train_samp_lab = pd.DataFrame(train_samples_labels)\n",
    "test_samp = pd.DataFrame(test_samples)\n",
    "test_samp_lab = pd.DataFrame(test_samples_labels)\n",
    "\n",
    "print(f'train_samples\\n{train_samp.head()}\\n')\n",
    "print(f'train_samples_labels\\n{train_samp_lab.head()}\\n')\n",
    "print(f'test_samples\\n{test_samp.head()}\\n')\n",
    "print(f'test_samples_labels\\n{test_samp_lab.head()}\\n')\n",
    "\n",
    "# train_samp.describe()\n",
    "# test_samp.describe()"
   ]
  },
  {
   "cell_type": "code",
   "execution_count": 244,
   "outputs": [
    {
     "name": "stdout",
     "output_type": "stream",
     "text": [
      "train sample counts (total 4000):\n",
      "0    382\n",
      "1    451\n",
      "2    410\n",
      "3    413\n",
      "4    417\n",
      "5    347\n",
      "6    394\n",
      "7    412\n",
      "8    373\n",
      "9    401\n",
      "dtype: int64\n",
      "\n",
      "test sample counts (total 1000):\n",
      "0     86\n",
      "1    122\n",
      "2    113\n",
      "3    115\n",
      "4    108\n",
      "5     92\n",
      "6     87\n",
      "7     99\n",
      "8     86\n",
      "9     92\n",
      "dtype: int64\n"
     ]
    }
   ],
   "source": [
    "# TODO: Display counts of each class\n",
    "# confusion matrix?\n",
    "print(f'train sample counts (total {train_samp_lab.shape[0]}):\\n{train_samp_lab.value_counts(sort=False)}\\n')\n",
    "print(f'test sample counts (total {test_samp_lab.shape[0]}):\\n{test_samp_lab.value_counts(sort=False)}')\n",
    "\n",
    "train_counts = dict(train_samp_lab.value_counts(sort=False))\n",
    "test_counts = dict(test_samp_lab.value_counts(sort=False))"
   ],
   "metadata": {
    "collapsed": false,
    "ExecuteTime": {
     "start_time": "2023-04-11T14:46:10.344237Z",
     "end_time": "2023-04-11T14:46:10.570335Z"
    }
   }
  },
  {
   "cell_type": "markdown",
   "metadata": {},
   "source": [
    "### *one-versus-the-rest* (15 Points) and analysis\n",
    "Using your implementation, compare multiclass classification performance of *one-versus-the-rest*\n",
    "\n",
    "**Create your own implementation of *one-versus-the-rest*. Do not use sklearns multiclass SVM.**"
   ]
  },
  {
   "cell_type": "code",
   "execution_count": 245,
   "metadata": {
    "ExecuteTime": {
     "start_time": "2023-04-11T14:46:10.367653Z",
     "end_time": "2023-04-11T14:47:34.170066Z"
    }
   },
   "outputs": [
    {
     "name": "stderr",
     "output_type": "stream",
     "text": [
      "/Users/sudo/miniconda3/envs/ml_0135/lib/python3.10/site-packages/sklearn/utils/validation.py:1143: DataConversionWarning: A column-vector y was passed when a 1d array was expected. Please change the shape of y to (n_samples, ), for example using ravel().\n",
      "  y = column_or_1d(y, warn=True)\n"
     ]
    },
    {
     "name": "stdout",
     "output_type": "stream",
     "text": [
      "0-versus-the-rest, train accuracy: 0.99475\n",
      "0-versus-the-rest, test accuracy: 0.985\n",
      "1-versus-the-rest, train accuracy: 0.9905\n",
      "1-versus-the-rest, test accuracy: 0.994\n",
      "2-versus-the-rest, train accuracy: 0.97825\n",
      "2-versus-the-rest, test accuracy: 0.97\n",
      "3-versus-the-rest, train accuracy: 0.9745\n",
      "3-versus-the-rest, test accuracy: 0.962\n",
      "4-versus-the-rest, train accuracy: 0.9815\n",
      "4-versus-the-rest, test accuracy: 0.977\n",
      "5-versus-the-rest, train accuracy: 0.97425\n",
      "5-versus-the-rest, test accuracy: 0.966\n",
      "6-versus-the-rest, train accuracy: 0.98875\n",
      "6-versus-the-rest, test accuracy: 0.98\n",
      "7-versus-the-rest, train accuracy: 0.985\n",
      "7-versus-the-rest, test accuracy: 0.971\n",
      "8-versus-the-rest, train accuracy: 0.9635\n",
      "8-versus-the-rest, test accuracy: 0.951\n",
      "9-versus-the-rest, train accuracy: 0.965\n",
      "9-versus-the-rest, test accuracy: 0.961\n"
     ]
    },
    {
     "data": {
      "text/plain": "'\\nfrom sklearn.multiclass import OneVsRestClassifier\\nmodel = SVC(kernel=\"linear\", probability=True)\\n\\ntrain_sl = train_samples_labels.reshape(-1, 1)\\nsklearn_ovrc_train = OneVsRestClassifier(model.fit(train_samples, train_samples_labels))\\nsklearn_ovrc_test = OneVsRestClassifier(model.fit(test_samples, test_samples_labels))\\n\\nprint(f\\'{sklearn_ovrc_train.estimator = }\\')\\nprint(f\\'{sklearn_ovrc_test.estimator = }\\')\\n'"
     },
     "execution_count": 245,
     "metadata": {},
     "output_type": "execute_result"
    }
   ],
   "source": [
    "# TODO loop over classes training one_versus_the_rest()\n",
    "# TODO save all the prediction probability by predict_prob() for the following function\n",
    "# don't use sklearn.multiclass.OneVsRestClassifier\n",
    "# Hint: svm = SVC(kernel=\"linear\", probability=True)\n",
    "from implementation import one_versus_the_rest\n",
    "\n",
    "model = SVC(kernel=\"linear\", probability=True)\n",
    "model.fit(train_samples, train_samples_labels)\n",
    "model.predict_proba(test_samples)\n",
    "#\n",
    "# y_train_pred = np.zeros(len(train_counts.keys()))\n",
    "# y_test_pred = np.zeros(len(test_counts.keys()))\n",
    "count = len(train_counts.keys())\n",
    "# use 0.5 threshold with >= to +1 and < 0.5 to -1\n",
    "# y_train_pred = one_versus_the_rest(samples=train_samples, samples_labels=train_samples_labels, label_count=count)\n",
    "# y_test_pred = one_versus_the_rest(samples=test_samples, samples_labels=test_samples_labels, label_count=count)\n",
    "\n",
    "\n",
    "\n",
    "train_samples_labels = train_samples_labels.ravel()\n",
    "test_samples_labels = test_samples_labels.ravel()\n",
    "\n",
    "y_train_pred = list()\n",
    "y_test_pred = list()\n",
    "\n",
    "# create 10 classifiers\n",
    "# choose best C value for all classifiers\n",
    "# average the accuracy across\n",
    "\n",
    "# choose one C value to build the model\n",
    "# one for loop with the C value\n",
    "\n",
    "for i in range(10): # label count 0...9\n",
    "    X_train = train_samples.copy()\n",
    "    X_test = test_samples.copy()\n",
    "\n",
    "    y_train = one_versus_the_rest(train_samples_labels, i)\n",
    "    y_test = one_versus_the_rest(test_samples_labels, i)\n",
    "\n",
    "    svm = SVC(kernel=\"linear\", probability=True)\n",
    "    svm.fit(X_train, y_train)\n",
    "\n",
    "    y_train_pred.append(svm.predict_proba(X_train)[:,1])\n",
    "    y_test_pred.append(svm.predict_proba(X_test)[:,1])\n",
    "\n",
    "    print(f\"{i}-versus-the-rest, train accuracy: {svm.score(X_train, y_train)}\")\n",
    "    print(f\"{i}-versus-the-rest, test accuracy: {svm.score(X_test, y_test)}\")\n",
    "\n",
    "\n",
    "'''\n",
    "from sklearn.multiclass import OneVsRestClassifier\n",
    "model = SVC(kernel=\"linear\", probability=True)\n",
    "\n",
    "train_sl = train_samples_labels.reshape(-1, 1)\n",
    "sklearn_ovrc_train = OneVsRestClassifier(model.fit(train_samples, train_samples_labels))\n",
    "sklearn_ovrc_test = OneVsRestClassifier(model.fit(test_samples, test_samples_labels))\n",
    "\n",
    "print(f'{sklearn_ovrc_train.estimator = }')\n",
    "print(f'{sklearn_ovrc_test.estimator = }')\n",
    "'''"
   ]
  },
  {
   "cell_type": "markdown",
   "metadata": {},
   "source": [
    "Determine the accuracy"
   ]
  },
  {
   "cell_type": "code",
   "execution_count": 246,
   "metadata": {
    "jupyter": {
     "outputs_hidden": false
    },
    "ExecuteTime": {
     "start_time": "2023-04-11T14:47:34.171060Z",
     "end_time": "2023-04-11T14:47:34.190155Z"
    }
   },
   "outputs": [
    {
     "name": "stdout",
     "output_type": "stream",
     "text": [
      "Train accuracy: 91.825\n",
      "Test accuracy: 88.5\n"
     ]
    }
   ],
   "source": [
    "# print(f'{train_samples_labels = }')\n",
    "train_accuracy = sum(np.argmax(np.array(y_train_pred), axis=0) == train_samples_labels) / len(train_samples_labels) #TODO\n",
    "test_accuracy = sum(np.argmax(np.array(y_test_pred), axis=0) == test_samples_labels) / len(test_samples_labels) #TODO\n",
    "\n",
    "print(f\"Train accuracy: {(100*train_accuracy)}\")\n",
    "print(f\"Test accuracy: {(100*test_accuracy)}\")\n",
    "\n"
   ]
  },
  {
   "cell_type": "markdown",
   "metadata": {},
   "source": [
    "The parameter $C>0$ controls the tradeoff between the size of the margin and the slack variable penalty. It is analogous to the inverse of a regularization coefficient. Include in your report a brief discussion of how you found an appropriate value."
   ]
  },
  {
   "cell_type": "code",
   "execution_count": 254,
   "metadata": {
    "jupyter": {
     "outputs_hidden": false
    },
    "ExecuteTime": {
     "start_time": "2023-04-11T15:07:29.296446Z",
     "end_time": "2023-04-11T15:21:02.701528Z"
    }
   },
   "outputs": [],
   "source": [
    "# Hint: Try using np.logspace for hyperparameter tuning\n",
    "# TODO: Find an appropriate value of C. \n",
    "train_accuracies = list()\n",
    "test_accuracies = list()\n",
    "\n",
    "for c in np.logspace(-5, 5, 11):\n",
    "\n",
    "    train_predictions = list()\n",
    "    test_predictions = list()\n",
    "\n",
    "    for label_count in range(10): # label len\n",
    "\n",
    "        X_train = train_samples.copy()\n",
    "        X_test = test_samples.copy()\n",
    "\n",
    "        y_train = one_versus_the_rest(train_samples_labels, label_count)\n",
    "        y_test = one_versus_the_rest(test_samples_labels, label_count)\n",
    "\n",
    "        model = SVC(kernel=\"linear\", C=c, probability=True)\n",
    "        model.fit(X_train, y_train)\n",
    "\n",
    "        train_predictions.append(model.predict_log_proba(X_train)[:, 1])\n",
    "        test_predictions.append(model.predict_log_proba(X_test)[:, 1])\n",
    "\n",
    "    train_acc = sum(np.argmax(np.array(train_predictions), axis=0) == train_samples_labels) / len(train_samples_labels)\n",
    "    test_acc = sum(np.argmax(np.array(test_predictions), axis=0) == test_samples_labels) / len(test_samples_labels)\n",
    "\n",
    "    train_accuracies.append(train_acc)\n",
    "    test_accuracies.append(test_acc)\n"
   ]
  },
  {
   "cell_type": "markdown",
   "metadata": {},
   "source": [
    "Provide details on how you found an appropriate value."
   ]
  },
  {
   "cell_type": "markdown",
   "metadata": {},
   "source": []
  },
  {
   "cell_type": "markdown",
   "metadata": {},
   "source": [
    "Plot accuracies for train and test using logspace for x-axis (i.e., $C$ values)"
   ]
  },
  {
   "cell_type": "code",
   "execution_count": 255,
   "metadata": {
    "jupyter": {
     "outputs_hidden": false
    },
    "ExecuteTime": {
     "start_time": "2023-04-11T15:21:36.644606Z",
     "end_time": "2023-04-11T15:21:36.786394Z"
    }
   },
   "outputs": [
    {
     "name": "stdout",
     "output_type": "stream",
     "text": [
      "train_accuracies = [0.78025, 0.847, 0.86775, 0.8685, 0.8785, 0.91775, 0.9465, 0.98225, 0.99725, 1.0, 1.0]\n",
      "test_accuracies = [0.744, 0.815, 0.839, 0.841, 0.848, 0.886, 0.887, 0.851, 0.823, 0.814, 0.814]\n"
     ]
    },
    {
     "data": {
      "text/plain": "<Figure size 640x480 with 1 Axes>",
      "image/png": "[encoded data removed]"
     },
     "metadata": {},
     "output_type": "display_data"
    }
   ],
   "source": [
    "# TODO: Plot the result.\n",
    "print(f'{train_accuracies = }')\n",
    "print(f'{test_accuracies = }')\n",
    "\n",
    "plt.plot(np.logspace(-5,5,11), train_accuracies, label='Train')\n",
    "plt.plot(np.logspace(-5,5,11), test_accuracies, label='Test')\n",
    "\n",
    "plt.title('C values and Accuracy % on train and test data')\n",
    "plt.xscale('log')\n",
    "plt.xlabel('c value (log scale)')\n",
    "plt.ylabel('Accuracy %')\n",
    "\n",
    "plt.legend()\n",
    "plt.show()\n",
    "# plot"
   ]
  },
  {
   "cell_type": "markdown",
   "metadata": {},
   "source": [
    "What does this graph tell us about the importance of our C value?"
   ]
  },
  {
   "cell_type": "markdown",
   "metadata": {},
   "source": [
    "\\# TODO: Analyze the plot above: "
   ]
  },
  {
   "cell_type": "markdown",
   "metadata": {},
   "source": []
  },
  {
   "cell_type": "markdown",
   "metadata": {},
   "source": [
    "### (10 Points)\n",
    "In addition to calculating percent accuracy, generate multiclass [confusion matrices](https://en.wikipedia.org/wiki/confusion_matrix) as part of your analysis."
   ]
  },
  {
   "cell_type": "code",
   "execution_count": null,
   "metadata": {
    "ExecuteTime": {
     "start_time": "2023-04-06T15:45:10.412634Z",
     "end_time": "2023-04-06T15:45:10.430724Z"
    }
   },
   "outputs": [],
   "source": [
    "train_predictions = list()\n",
    "test_predictions = list()\n",
    "# TODO\n",
    "# sklearn.multiclass.\n",
    "\n",
    "\n",
    "\n",
    "\n",
    "\n",
    "\n",
    "from sklearn.metrics import accuracy_score\n",
    "\n",
    "\n",
    "\n",
    "\n",
    "train_predictions = list()\n",
    "test_predictions = list()\n",
    "# TODO\n",
    "from sklearn.metrics import confusion_matrix\n",
    "\n",
    "conf_matrices = list()\n",
    "# classes = [x for x in range(10)]\n",
    "classes = np.unique(train_samples_labels)\n",
    "for i in np.logspace(-5, 5, 51): # -4, 3, 10)\n",
    "\n",
    "    train_probs = np.empty((0, len(train_samples)))\n",
    "    test_probs = np.empty((0, len(test_samples)))\n",
    "\n",
    "    for j in range(len(classes)):\n",
    "        indices_isclass = np.where(train_samples_labels == classes[j])[0]\n",
    "        indices_notclass = np.where(train_samples_labels != classes[j])[0]\n",
    "\n",
    "        y_train_isclass = np.zeros(len(train_samples_labels))\n",
    "        y_train_isclass[indices_isclass] = 1\n",
    "        y_train_isclass[indices_notclass] = 0\n",
    "\n",
    "        svm = SVC(C = i, kernel=\"linear\", probability=True)\n",
    "        svm.fit(train_samples, y_train_isclass)\n",
    "        pred_train_prob = svm.predict_proba(train_samples)[:,1]\n",
    "        pred_test_prob= svm.predict_proba(test_samples)[:,1]\n",
    "\n",
    "        train_probs = np.append(train_probs, [pred_train_prob], axis=0)\n",
    "        test_probs = np.append(test_probs, [pred_test_prob], axis=0)\n",
    "\n",
    "    predicted_training_labels_hat = np.argmax(train_probs, axis=0)\n",
    "    predicted_test_labels_hat = np.argmax(test_probs, axis=0)\n",
    "    train_accuracy_hat = accuracy_score(train_samples_labels, predicted_training_labels_hat)\n",
    "    test_accuracy_hat = accuracy_score(test_samples_labels, predicted_test_labels_hat)\n",
    "    conf_matrix_hat = confusion_matrix(test_samples_labels, predicted_test_labels_hat)\n",
    "\n",
    "    train_accuracies.append(train_accuracy_hat)\n",
    "    test_accuracies.append(test_accuracy_hat)\n",
    "    conf_matrices.append(conf_matrix_hat)\n",
    "\n",
    "print(train_accuracies)\n",
    "print(test_accuracies)\n",
    "for i, matrix in enumerate(conf_matrices):\n",
    "    print(\"Confusion matrix for C={}:\\n{}\".format(np.logspace(-5, 5, 50)[i], matrix))\n",
    "\n",
    "\n",
    "\n",
    "\n",
    "from sklearn.metrics import accuracy_score\n",
    "# print(\"acc on TRAIN: %.3f\" % accuracy_score(y_train, pred_train))\n",
    "# print(\"acc on TEST : %.3f\" % accuracy_score(y_test, pred_test))\n",
    "\n",
    "# print(\"\\nConfusion matrix for TEST:\")\n",
    "# print(calc_confusion_matrix_for_threshold(y_test, pred_test))\n",
    "\n",
    "\n",
    "\n",
    "\n"
   ]
  },
  {
   "cell_type": "markdown",
   "metadata": {},
   "source": [
    "### Evaluation (15 points)\n",
    "\n",
    "Now we will report our results and compare to other algorithms. Usually compare with a handful\n",
    "Logisitic regression\n",
    "\n",
    "**Create your own implementation of *one-versus-the-rest* and *one-versus-one*. Do not use sklearns multiclass Logistic Regression.**"
   ]
  },
  {
   "cell_type": "code",
   "execution_count": null,
   "metadata": {
    "ExecuteTime": {
     "start_time": "2023-04-06T15:45:10.430896Z",
     "end_time": "2023-04-06T15:45:10.450733Z"
    }
   },
   "outputs": [],
   "source": [
    "train_predictions = list()\n",
    "test_predictions = list()\n",
    "# TODO\n"
   ]
  },
  {
   "cell_type": "markdown",
   "metadata": {},
   "source": [
    "Create a table comparing model accuracy on train and test data."
   ]
  },
  {
   "cell_type": "code",
   "execution_count": null,
   "metadata": {
    "ExecuteTime": {
     "start_time": "2023-04-06T15:45:10.449478Z",
     "end_time": "2023-04-06T15:45:10.467856Z"
    }
   },
   "outputs": [],
   "source": [
    "# TODO"
   ]
  },
  {
   "cell_type": "markdown",
   "metadata": {},
   "source": [
    "Create 9 graphs (one for each label) with two ROC curves (one for each model).\n"
   ]
  },
  {
   "cell_type": "code",
   "execution_count": null,
   "metadata": {
    "ExecuteTime": {
     "start_time": "2023-04-06T15:45:10.467194Z",
     "end_time": "2023-04-06T15:45:10.498181Z"
    }
   },
   "outputs": [],
   "source": [
    "# TODO\n",
    "from sklearn.metrics import roc_curve"
   ]
  },
  {
   "cell_type": "markdown",
   "metadata": {},
   "source": [
    "# BONUS (+5 points): Non-linear kernel\n",
    "## Intuition Behind Kernels\n",
    "The SVM classifier obtained by solving the convex Lagrange dual of the primal max-margin SVM formulation is as follows:\n",
    "\n",
    "$$ f(x) = \\sum_{i=1}^N\\alpha_i\\cdot y_i\\cdot\\mathrm{K}(x,x_i)+b,$$\n",
    "\n",
    "where $N$ is the number of support vectors.\n",
    "\n",
    "If you know the intuition behind a linear discriminant function, the non-parametric SVM classifier above is very easy to understand. Instead of imagining the original features of each data point, consider a transformation to a new feature space where the data point has $N$ features, one for each support vector. The value of the $i^{th}$ feature is equal to the value of the kernel between the $i^{th}$ support vector and the data point is classified. The original (possibly non-linear) SVM classifier is like any other linear discriminant in this space.\n",
    "\n",
    "Note that after the transformation, the original features of the data point are irrelevant. Its dot products with support vectors (special data points chosen by the SVM optimization algorithm) represent it only. One of my professors used a loose analogy while explaining this idea: A person has seen lakes, rivers, streams, fords, etc., but has never seen the sea. How would you explain to this person what a sea is? By relating the amount of water in an ocean to that found in a water body, the person already knows, etc.\n",
    "\n",
    "In some instances, like the RBF kernel, defining the transformed features in terms of the original features of a data point leads to an infinite-dimensional representation. Unfortunately, though this an awe-inspiring fact often mentioned while explaining how powerful SVMs are, it drops in only after repeated encounters with the idea ranging from introductory machine learning to statistical learning theory.\n",
    "\n",
    "\n",
    "## Intuition Behind Gaussian Kernels\n",
    "\n",
    "The Gaussian/RBF kernel is as follows:\n",
    "\n",
    "$$ \\mathrm{K}(x,y)=exp(−\\frac{||x−y||^2}{2\\sigma^2})$$\n",
    "\n",
    "\n",
    "Like any other kernel, we can understand the RBF kernel regarding feature transformation via the dot products given above. However, the intuition that helps best when analyzing the RBF kernel is that of the Gaussian distribution (as provided by [Akihiro Matsukawa](https://www.quora.com/profile/Akihiro-Matsukawa)).\n",
    "\n",
    "The Gaussian kernel computed with a support vector is an exponentially decaying function in the input feature space, the maximum value of which is attained at the support vector and which decays uniformly in all directions around the support vector, leading to hyper-spherical contours of the kernel function. The SVM classifier with the Gaussian kernel is simply a weighted linear combination of the kernel function computed between a data point and each support vector. The role of a support vector in the classification of a data point gets tempered with $\\alpha$, the global prediction usefulness of the support vector, and $\\mathrm{K}(x,y)$, the local influence of a support vector in prediction at a particular data point.\n",
    "\n",
    "In the 2D feature space, each support vector's kernel function's heat map decay away from the support vector and the resulting classifier (see the following figure).\n",
    "\n",
    "\n",
    "## Notion of Universal Kernels\n",
    "\n",
    "(This comes from learning theory, it could be more intuitive, but good to know.)\n",
    "\n",
    "Gaussian kernels are universal kernels, i.e., their use with appropriate regularization guarantees a globally optimal predictor, which minimizes a classifier's estimation and approximation errors. Here, we incur approximation error by limiting the space of classification models over which the search space. Estimation error refers to errors in estimating the model parameters.\n"
   ]
  },
  {
   "cell_type": "markdown",
   "metadata": {},
   "source": [
    "## Intuition Behind Gaussian Kernels\n",
    "\n",
    "The Gaussian/RBF kernel is as follows:\n",
    "\n",
    "$$ \\mathrm{K}(x,y)=exp(−\\frac{||x−y||^2}{2\\sigma^2})$$\n",
    "\n",
    "\n",
    "Like any other kernel, we can understand the RBF kernel regarding feature transformation via the dot products given above. However, the intuition that helps best when analyzing the RBF kernel is that of the Gaussian distribution (as provided by [Akihiro Matsukawa](https://www.quora.com/profile/Akihiro-Matsukawa)).\n",
    "\n",
    "The Gaussian kernel computed with a support vector is an exponentially decaying function in the input feature space, the maximum value of which is attained at the support vector and which decays uniformly in all directions around the support vector, leading to hyper-spherical contours of the kernel function. The SVM classifier with the Gaussian kernel is simply a weighted linear combination of the kernel function computed between a data point and each support vector. The role of a support vector in the classification of a data point gets tempered with $\\alpha$, the global prediction usefulness of the support vector, and $\\mathrm{K}(x,y)$, the local influence of a support vector in prediction at a particular data point.\n",
    "\n",
    "In the 2D feature space, each support vector's kernel function's heat map decay away from the support vector and the resulting classifier (see the following figure).\n",
    "\n",
    "![gkernel in 2D](images/gkernel-2d.jpeg \" kernel function of each support vector\")\n"
   ]
  },
  {
   "cell_type": "markdown",
   "metadata": {},
   "source": [
    "### Notion of Universal Kernels\n",
    "(This comes from learning theory, it could be more intuitive, but good to know.)\n",
    "\n",
    "Gaussian kernels are universal kernels, i.e., their use with appropriate regularization guarantees a globally optimal predictor, which minimizes a classifier's estimation and approximation errors. Here, we incur approximation error by limiting the space of classification models over which the search space. Estimation error refers to errors in estimating the model parameters.\n"
   ]
  },
  {
   "cell_type": "markdown",
   "metadata": {},
   "source": [
    "Implement `nonlinear_kernel()` in `implementation.py`, use it, and compare with others (repeat above for SVM using non-linear kernel and do analysis)."
   ]
  },
  {
   "cell_type": "code",
   "execution_count": null,
   "metadata": {
    "jupyter": {
     "outputs_hidden": false
    },
    "ExecuteTime": {
     "start_time": "2023-04-06T15:45:10.484401Z",
     "end_time": "2023-04-06T15:45:10.505317Z"
    }
   },
   "outputs": [],
   "source": [
    "# (Bonus) TODO "
   ]
  }
 ],
 "metadata": {
  "kernelspec": {
   "display_name": "Python 3 (ipykernel)",
   "language": "python",
   "name": "python3"
  },
  "language_info": {
   "codemirror_mode": {
    "name": "ipython",
    "version": 3
   },
   "file_extension": ".py",
   "mimetype": "text/x-python",
   "name": "python",
   "nbconvert_exporter": "python",
   "pygments_lexer": "ipython3",
   "version": "3.8.5"
  },
  "vscode": {
   "interpreter": {
    "hash": "31f2aee4e71d21fbe5cf8b01ff0e069b9275f58929596ceb00d14d90e3e16cd6"
   }
  }
 },
 "nbformat": 4,
 "nbformat_minor": 5
}
