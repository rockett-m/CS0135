{
 "cells": [
  {
   "cell_type": "markdown",
   "metadata": {},
   "source": [
    "# Project 1 - Support Vector Machine Classification\n",
    "\n",
    "### NAME(S): Morgan Rockett, Prithvi Shahani, Anthony Wong\n",
    "### DATE: 4/03/23"
   ]
  },
  {
   "cell_type": "markdown",
   "metadata": {},
   "source": [
    "## What will we do?\n",
    "Using gradient descent, we will build a Support Vector Machine to find the optimal hyperplane that maximizes the margin between two toy data classes."
   ]
  },
  {
   "cell_type": "markdown",
   "metadata": {},
   "source": [
    "## What are some use cases for SVMs?\n",
    "\n",
    "-Classification, regression (time series prediction, etc.), outlier detection, clustering"
   ]
  },
  {
   "cell_type": "markdown",
   "metadata": {},
   "source": [
    "## How does an SVM compare to other ML algorithms?\n",
    "\n",
    "\n",
    "![alt text](images/img.png)\n",
    "Classifiers: (a) Logistic Regression, (b) SVM, and (c) Multi-Layer Perception (MLP)\n",
    "* As a rule of thumb, SVMs are great for relatively small data sets with fewer outliers.\n",
    "* Other algorithms (Random forests, deep neural networks, etc.) require more data but almost always develop robust models.\n",
    "* The decision of which classifier to use depends on your dataset and the general complexity of the problem.\n",
    "* \"Premature optimization is the root of all evil (or at least most of it) in programming.\" - Donald Knuth, CS Professor (Turing award speech 1974)\n",
    "\n",
    "## Other Examples\n",
    "\n",
    "- Learning to use Scikit-learn's SVM function to classify images https://github.com/ksopyla/svm_mnist_digit_classification\n",
    "- Pulse classification, more useful dataset\n",
    "https://github.com/akasantony/pulse-classification-svm"
   ]
  },
  {
   "cell_type": "markdown",
   "metadata": {},
   "source": [
    "## What is a Support Vector Machine?\n",
    "\n",
    "It's a supervised machine learning algorithm that can be used for both classification and regression problems. But it's usually used for classification. Given two or more labeled data classes, it acts as a discriminative classifier, formally defined by an optimal hyperplane that separates all the classes. New examples mapped into that space can then be categorized based on which side of the gap they fall."
   ]
  },
  {
   "cell_type": "markdown",
   "metadata": {},
   "source": [
    "## What are Support Vectors?\n",
    "\n",
    "![alt text](images/SvmMargin2.jpg \"Logo Title Text 1\")\n",
    "\n",
    "Support vectors are the data points nearest to the hyperplane, the points of a data set that, if removed, would alter the position of the dividing hyperplane. Because of this, they can be considered the critical elements of a data set; they help us build our SVM."
   ]
  },
  {
   "cell_type": "markdown",
   "metadata": {},
   "source": [
    "\n",
    "## What is a hyperplane?\n",
    "\n",
    "![alt text](images/Hyperplanes+as+decision+surfaces.jpg \"Logo Title Text 1\")\n",
    "\n",
    "Geometry tells us that a hyperplane is a subspace of one dimension less than its ambient space. For instance, a hyperplane of an n-dimensional space is a flat subset with size $n − 1$. By its nature, it separates the space in half.\n",
    "\n",
    "## Linear vs nonlinear classification?\n",
    "\n",
    "Sometimes our data is linearly separable. That means for N classes with M features. We can learn a mapping that is a linear combination. (like $y = mx + b$). Or even a multidimensional hyperplane ($y = x + z + b + q$). No matter how many dimensions/features a set of classes have, we can represent the mapping using a linear function.\n",
    "\n",
    "But sometimes it is not. Like if there was a quadratic mapping. Luckily for us, SVMs can efficiently perform a non-linear classification using what is called the kernel trick.\n",
    "\n",
    "![alt text](images/1_mCwnu5kXot6buL7jeIafqQ.png \"Logo Title Text 1\")\n",
    "\n",
    "More on this as a Bonus question comes at the end of notebook.\n",
    "\n",
    "All right, let's get to the building!"
   ]
  },
  {
   "cell_type": "markdown",
   "metadata": {},
   "source": [
    "# Instructions\n",
    "\n",
    "In this assignment, you will implement a support vector machine (SVM) from scratch, and you will use your implementation for multiclass classification on the MNIST dataset.\n",
    "\n",
    "\n",
    "In `implementation.py` implement the SVM class. In the fit function, use `scipy.minimize` ([see documentation](https://docs.scipy.org/doc/scipy/reference/generated/scipy.optimize.minimize.html)) to solve the constrained optimization problem:\n",
    "\n",
    "$\\begin{align*}\n",
    "& \\underset{a}{\\text{maximize}}& & \\sum_{i=1}^{n}a_{i} - \\frac{1}{2}\\sum_{i=1}^{n}\\sum_{j=1}^{n}a_{i}a_{j}y_{i}y_{j}(x_{i}\\cdot x_{j}) \\\\\n",
    "& \\text{subject to}& & a_{i} \\ge 0, i=1,\\ldots, n \\\\\n",
    "& & & \\sum_{i=1}^{n}a_{i}y_{i} = 0\n",
    "\\end{align*}$\n",
    "\n",
    "__Note__: An SVM is a convex optimization problem. Using  to solve the equation above will be computationally expensive given larger datasets. [CS 168 Convex Optimization](https://www.cs.tufts.edu/t/courses/description/spring2023/CS/168-01) is a course to take later if interested in optimization and the mathematics and intuition that drives it."
   ]
  },
  {
   "cell_type": "code",
   "execution_count": 26,
   "metadata": {
    "jupyter": {
     "outputs_hidden": false
    },
    "ExecuteTime": {
     "start_time": "2023-04-13T22:24:13.387263Z",
     "end_time": "2023-04-13T22:24:13.637690Z"
    }
   },
   "outputs": [
    {
     "name": "stdout",
     "output_type": "stream",
     "text": [
      "The autoreload extension is already loaded. To reload it, use:\n",
      "  %reload_ext autoreload\n"
     ]
    }
   ],
   "source": [
    "import numpy as np\n",
    "import pandas as pd\n",
    "\n",
    "from scipy.io import loadmat\n",
    "from implementation import SVM, linear_kernel, nonlinear_kernel\n",
    "# from solution import SVM, linear_kernel, nonlinear_kernel\n",
    "from sklearn.datasets import make_blobs\n",
    "from sklearn.svm import SVC\n",
    "from sklearn.metrics import accuracy_score\n",
    "from sklearn.linear_model import LogisticRegression\n",
    "from sklearn.metrics import confusion_matrix\n",
    "\n",
    "import matplotlib\n",
    "import matplotlib.pyplot as plt\n",
    "\n",
    "%load_ext autoreload\n",
    "%autoreload 2"
   ]
  },
  {
   "cell_type": "markdown",
   "metadata": {},
   "source": [
    "## Step 1 - Get Data"
   ]
  },
  {
   "cell_type": "code",
   "execution_count": 27,
   "metadata": {
    "jupyter": {
     "outputs_hidden": false
    },
    "ExecuteTime": {
     "start_time": "2023-04-13T22:24:13.406681Z",
     "end_time": "2023-04-13T22:24:13.650630Z"
    }
   },
   "outputs": [
    {
     "data": {
      "text/plain": "<Figure size 640x480 with 1 Axes>",
      "image/png": "[encoded data removed]"
     },
     "metadata": {},
     "output_type": "display_data"
    }
   ],
   "source": [
    "# Input data - of the form [Bias term, x_1 value, x_2 value]\n",
    "X = np.array([\n",
    "    [1, -2, 4,],\n",
    "    [1, 4, 1,],\n",
    "    [1, 1, 6,],\n",
    "    [1, 2, 4,],\n",
    "    [1, 6, 2,],\n",
    "])\n",
    "\n",
    "# Associated output labels - first 2 examples are labeled '-1' and last 3 are labeled '+1'\n",
    "y = np.array([-1,-1,1,1,1])\n",
    "\n",
    "# Let's plot these examples on a 2D graph!\n",
    "# Plot the negative samples (the first 2)\n",
    "plt.scatter(X[:,1][y==-1], X[:,2][y==-1], s=120, marker='_', linewidths=2)\n",
    "# Plot the positive samples (the last 3)\n",
    "plt.scatter(X[:,1][y==1], X[:,2][y==1], s=120, marker='+', linewidths=2)\n",
    "\n",
    "# Print a possible hyperplane, that is separating the two classes.\n",
    "# we'll two points and draw the line between them (naive guess)\n",
    "plt.plot([-2,6],[6,0.5])\n",
    "plt.xlabel(r\"$x_1$\")\n",
    "plt.ylabel(r\"$x_2$\")\n",
    "plt.show()"
   ]
  },
  {
   "cell_type": "markdown",
   "metadata": {},
   "source": [
    "### SVM basics\n",
    "SVM using scikit-learn."
   ]
  },
  {
   "cell_type": "code",
   "execution_count": 28,
   "metadata": {
    "jupyter": {
     "outputs_hidden": false
    },
    "ExecuteTime": {
     "start_time": "2023-04-13T22:24:13.506782Z",
     "end_time": "2023-04-13T22:24:13.651334Z"
    }
   },
   "outputs": [
    {
     "name": "stdout",
     "output_type": "stream",
     "text": [
      "scikit-learn indices of support vectors: [0 1 3 4]\n"
     ]
    }
   ],
   "source": [
    "result = SVC(kernel=\"linear\")\n",
    "result.fit(X, y.ravel())\n",
    "\n",
    "print(\"scikit-learn indices of support vectors:\", result.support_)\n"
   ]
  },
  {
   "cell_type": "markdown",
   "metadata": {},
   "source": [
    "## Implement and test SVM to sklearn's version (20 points)\n",
    "Compare the indices of support vectors from scikit-lean with `implementation.py` using toy data."
   ]
  },
  {
   "cell_type": "code",
   "execution_count": 29,
   "metadata": {
    "jupyter": {
     "outputs_hidden": false
    },
    "ExecuteTime": {
     "start_time": "2023-04-13T22:24:13.526621Z",
     "end_time": "2023-04-13T22:24:13.651477Z"
    }
   },
   "outputs": [
    {
     "name": "stdout",
     "output_type": "stream",
     "text": [
      "scikit-learn indices of support vectors: [0 1 3 4]\n",
      " message: Optimization terminated successfully\n",
      " success: True\n",
      "  status: 0\n",
      "     fun: -0.6249999998988889\n",
      "       x: [ 1.475e-01  4.774e-01  1.468e-15  4.088e-01  2.162e-01]\n",
      "     nit: 6\n",
      "     jac: [-4.000e+00 -4.000e+00  5.500e+00  4.000e+00  4.000e+00]\n",
      "    nfev: 39\n",
      "    njev: 6\n",
      "[1.47549954e-01 4.77448320e-01 1.46822658e-15 4.08827517e-01\n",
      " 2.16170757e-01]\n",
      "[-1.44328993e-15  4.99986204e-01  1.00000345e+00]\n",
      "-3.999982745681246\n"
     ]
    },
    {
     "data": {
      "text/plain": "<implementation.SVM at 0x296503e50>"
     },
     "execution_count": 29,
     "metadata": {},
     "output_type": "execute_result"
    }
   ],
   "source": [
    "# TODO: implement SVM, along with linear_kernel\n",
    "\n",
    "result = SVC(kernel=\"linear\")\n",
    "result.fit(X, y)\n",
    "\n",
    "print(\"scikit-learn indices of support vectors:\", result.support_)\n",
    "\n",
    "svm = SVM(kernel=linear_kernel)\n",
    "svm.fit(X, y)"
   ]
  },
  {
   "cell_type": "code",
   "execution_count": 30,
   "metadata": {
    "jupyter": {
     "outputs_hidden": false
    },
    "ExecuteTime": {
     "start_time": "2023-04-13T22:24:13.550739Z",
     "end_time": "2023-04-13T22:24:13.651978Z"
    }
   },
   "outputs": [
    {
     "name": "stdout",
     "output_type": "stream",
     "text": [
      "implementation.py indices of support vectors: [0 1 3 4]\n"
     ]
    }
   ],
   "source": [
    "print(\"implementation.py indices of support vectors:\", \\\n",
    "      np.array(range(y.shape[0]))[svm.a>1e-8])\n",
    "\n",
    "if (result.support_ != np.array(range(y.shape[0]))[svm.a>1e-8]).all():\n",
    "    raise Exception(\"The calculation is wrong\")"
   ]
  },
  {
   "cell_type": "markdown",
   "metadata": {},
   "source": [
    "Compare the weights assigned to the features from scikit-lean with `implementation.py`."
   ]
  },
  {
   "cell_type": "code",
   "execution_count": 31,
   "metadata": {
    "ExecuteTime": {
     "start_time": "2023-04-13T22:24:13.570509Z",
     "end_time": "2023-04-13T22:24:13.652190Z"
    }
   },
   "outputs": [
    {
     "name": "stdout",
     "output_type": "stream",
     "text": [
      "scikit-learn weights assigned to the features: [[0.         0.5        0.99969451]]\n",
      "implementation.py weights assigned to the features: [-1.44328993e-15  4.99986204e-01  1.00000345e+00]\n"
     ]
    }
   ],
   "source": [
    "#TODO - other sections were done for you, specify the variables to print, find the difference, and check it is within reasonable error from that of sklearn's version.\n",
    "print(\"scikit-learn weights assigned to the features:\", result.coef_)\n",
    "print(\"implementation.py weights assigned to the features:\", svm.w)\n",
    "\n",
    "diff = abs(result.coef_ - svm.w)\n",
    "if (diff > 1e-3).any():\n",
    "    raise Exception(\"The calculation is wrong\")"
   ]
  },
  {
   "cell_type": "markdown",
   "metadata": {},
   "source": [
    "Compare the bias weight from scikit-lean with `implementation.py`."
   ]
  },
  {
   "cell_type": "code",
   "execution_count": 32,
   "metadata": {
    "ExecuteTime": {
     "start_time": "2023-04-13T22:24:13.589729Z",
     "end_time": "2023-04-13T22:24:13.652258Z"
    }
   },
   "outputs": [
    {
     "name": "stdout",
     "output_type": "stream",
     "text": [
      "scikit-learn bias weight: [-3.99915989]\n",
      "implementation.py bias weight: -3.999982745681246\n"
     ]
    }
   ],
   "source": [
    "print(\"scikit-learn bias weight:\", result.intercept_)\n",
    "print(\"implementation.py bias weight:\", svm.b)\n",
    "\n",
    "diff = abs(result.intercept_ - svm.b)\n",
    "if (diff > 1e-3).all():\n",
    "    raise Exception(\"The calculation is wrong\")"
   ]
  },
  {
   "cell_type": "markdown",
   "metadata": {},
   "source": [
    "Compare the predictions from scikit-lean with `implementation.py`."
   ]
  },
  {
   "cell_type": "code",
   "execution_count": 33,
   "metadata": {
    "ExecuteTime": {
     "start_time": "2023-04-13T22:24:13.608321Z",
     "end_time": "2023-04-13T22:24:13.653163Z"
    }
   },
   "outputs": [
    {
     "name": "stdout",
     "output_type": "stream",
     "text": [
      "scikit-learn predictions: [-1 -1]\n",
      "implementation.py predictions: [-1. -1.]\n"
     ]
    }
   ],
   "source": [
    "X_test = np.array([\n",
    "    [4, 4, -1],\n",
    "    [1, 3, -1]\n",
    "    ])\n",
    "print(\"scikit-learn predictions:\", result.predict(X_test))\n",
    "print(\"implementation.py predictions:\", svm.predict(X_test))\n",
    "\n",
    "if (svm.predict(X_test) != result.predict(X_test)).all():\n",
    "    raise Exception(\"The calculation is wrong\")"
   ]
  },
  {
   "cell_type": "markdown",
   "metadata": {},
   "source": [
    "### Using SKLearns SVM (*one-versus-the-rest*)\n",
    "\n",
    "You can load the data with `scipy.io.loadmat`, which will return a Python dictionary containing the test and train data and labels."
   ]
  },
  {
   "cell_type": "code",
   "execution_count": 34,
   "metadata": {
    "ExecuteTime": {
     "start_time": "2023-04-13T22:24:13.627147Z",
     "end_time": "2023-04-13T22:24:13.767100Z"
    }
   },
   "outputs": [],
   "source": [
    "mnist = loadmat('data/MNIST.mat')\n",
    "train_samples = mnist['train_samples']\n",
    "train_samples_labels = mnist['train_samples_labels']\n",
    "test_samples = mnist['test_samples']\n",
    "test_samples_labels = mnist['test_samples_labels']"
   ]
  },
  {
   "cell_type": "markdown",
   "metadata": {},
   "source": [
    "## Explore the MNIST dataset\n",
    "Explore the MNIST dataset:\n"
   ]
  },
  {
   "cell_type": "code",
   "execution_count": 35,
   "metadata": {
    "ExecuteTime": {
     "start_time": "2023-04-13T22:24:13.752056Z",
     "end_time": "2023-04-13T22:24:13.899628Z"
    }
   },
   "outputs": [
    {
     "name": "stdout",
     "output_type": "stream",
     "text": [
      "Class 0:\n"
     ]
    },
    {
     "data": {
      "text/plain": "                                                image  class\n9   [0.0, 0.0, 0.0, 0.0, 0.0, 0.0, 0.0, 0.0, 0.0, ...      0\n10  [0.0, 0.0, 0.0, 0.0, 0.0, 0.0, 0.0, 0.0, 0.0, ...      0",
      "text/html": "<div>\n<style scoped>\n    .dataframe tbody tr th:only-of-type {\n        vertical-align: middle;\n    }\n\n    .dataframe tbody tr th {\n        vertical-align: top;\n    }\n\n    .dataframe thead th {\n        text-align: right;\n    }\n</style>\n<table border=\"1\" class=\"dataframe\">\n  <thead>\n    <tr style=\"text-align: right;\">\n      <th></th>\n      <th>image</th>\n      <th>class</th>\n    </tr>\n  </thead>\n  <tbody>\n    <tr>\n      <th>9</th>\n      <td>[0.0, 0.0, 0.0, 0.0, 0.0, 0.0, 0.0, 0.0, 0.0, ...</td>\n      <td>0</td>\n    </tr>\n    <tr>\n      <th>10</th>\n      <td>[0.0, 0.0, 0.0, 0.0, 0.0, 0.0, 0.0, 0.0, 0.0, ...</td>\n      <td>0</td>\n    </tr>\n  </tbody>\n</table>\n</div>"
     },
     "metadata": {},
     "output_type": "display_data"
    },
    {
     "name": "stdout",
     "output_type": "stream",
     "text": [
      "Class 1:\n"
     ]
    },
    {
     "data": {
      "text/plain": "                                                image  class\n7   [0.0, 0.0, 0.0, 0.0, 0.0, 0.0, 0.0, 0.0, 0.0, ...      1\n20  [0.0, 0.0, 0.0, 0.0, 0.0, 0.0, 0.0, 0.0, 0.0, ...      1",
      "text/html": "<div>\n<style scoped>\n    .dataframe tbody tr th:only-of-type {\n        vertical-align: middle;\n    }\n\n    .dataframe tbody tr th {\n        vertical-align: top;\n    }\n\n    .dataframe thead th {\n        text-align: right;\n    }\n</style>\n<table border=\"1\" class=\"dataframe\">\n  <thead>\n    <tr style=\"text-align: right;\">\n      <th></th>\n      <th>image</th>\n      <th>class</th>\n    </tr>\n  </thead>\n  <tbody>\n    <tr>\n      <th>7</th>\n      <td>[0.0, 0.0, 0.0, 0.0, 0.0, 0.0, 0.0, 0.0, 0.0, ...</td>\n      <td>1</td>\n    </tr>\n    <tr>\n      <th>20</th>\n      <td>[0.0, 0.0, 0.0, 0.0, 0.0, 0.0, 0.0, 0.0, 0.0, ...</td>\n      <td>1</td>\n    </tr>\n  </tbody>\n</table>\n</div>"
     },
     "metadata": {},
     "output_type": "display_data"
    },
    {
     "name": "stdout",
     "output_type": "stream",
     "text": [
      "Class 2:\n"
     ]
    },
    {
     "data": {
      "text/plain": "                                                image  class\n8   [0.0, 0.0, 0.0, 0.0, 0.0, 0.0, 0.0, 0.0, 0.0, ...      2\n11  [0.0, 0.0, 0.0, 0.0, 0.0, 0.0, 0.0, 0.0, 0.0, ...      2",
      "text/html": "<div>\n<style scoped>\n    .dataframe tbody tr th:only-of-type {\n        vertical-align: middle;\n    }\n\n    .dataframe tbody tr th {\n        vertical-align: top;\n    }\n\n    .dataframe thead th {\n        text-align: right;\n    }\n</style>\n<table border=\"1\" class=\"dataframe\">\n  <thead>\n    <tr style=\"text-align: right;\">\n      <th></th>\n      <th>image</th>\n      <th>class</th>\n    </tr>\n  </thead>\n  <tbody>\n    <tr>\n      <th>8</th>\n      <td>[0.0, 0.0, 0.0, 0.0, 0.0, 0.0, 0.0, 0.0, 0.0, ...</td>\n      <td>2</td>\n    </tr>\n    <tr>\n      <th>11</th>\n      <td>[0.0, 0.0, 0.0, 0.0, 0.0, 0.0, 0.0, 0.0, 0.0, ...</td>\n      <td>2</td>\n    </tr>\n  </tbody>\n</table>\n</div>"
     },
     "metadata": {},
     "output_type": "display_data"
    },
    {
     "name": "stdout",
     "output_type": "stream",
     "text": [
      "Class 3:\n"
     ]
    },
    {
     "data": {
      "text/plain": "                                                image  class\n14  [0.0, 0.0, 0.0, 0.0, 0.0, 0.0, 0.0, 0.0, 0.0, ...      3\n19  [0.0, 0.0, 0.0, 0.0, 0.0, 0.0, 0.0, 0.0, 0.0, ...      3",
      "text/html": "<div>\n<style scoped>\n    .dataframe tbody tr th:only-of-type {\n        vertical-align: middle;\n    }\n\n    .dataframe tbody tr th {\n        vertical-align: top;\n    }\n\n    .dataframe thead th {\n        text-align: right;\n    }\n</style>\n<table border=\"1\" class=\"dataframe\">\n  <thead>\n    <tr style=\"text-align: right;\">\n      <th></th>\n      <th>image</th>\n      <th>class</th>\n    </tr>\n  </thead>\n  <tbody>\n    <tr>\n      <th>14</th>\n      <td>[0.0, 0.0, 0.0, 0.0, 0.0, 0.0, 0.0, 0.0, 0.0, ...</td>\n      <td>3</td>\n    </tr>\n    <tr>\n      <th>19</th>\n      <td>[0.0, 0.0, 0.0, 0.0, 0.0, 0.0, 0.0, 0.0, 0.0, ...</td>\n      <td>3</td>\n    </tr>\n  </tbody>\n</table>\n</div>"
     },
     "metadata": {},
     "output_type": "display_data"
    },
    {
     "name": "stdout",
     "output_type": "stream",
     "text": [
      "Class 4:\n"
     ]
    },
    {
     "data": {
      "text/plain": "                                                image  class\n15  [0.0, 0.0, 0.0, 0.0, 0.0, 0.0, 0.0, 0.0, 0.0, ...      4\n29  [0.0, 0.0, 0.0, 0.0, 0.0, 0.0, 0.0, 0.0, 0.0, ...      4",
      "text/html": "<div>\n<style scoped>\n    .dataframe tbody tr th:only-of-type {\n        vertical-align: middle;\n    }\n\n    .dataframe tbody tr th {\n        vertical-align: top;\n    }\n\n    .dataframe thead th {\n        text-align: right;\n    }\n</style>\n<table border=\"1\" class=\"dataframe\">\n  <thead>\n    <tr style=\"text-align: right;\">\n      <th></th>\n      <th>image</th>\n      <th>class</th>\n    </tr>\n  </thead>\n  <tbody>\n    <tr>\n      <th>15</th>\n      <td>[0.0, 0.0, 0.0, 0.0, 0.0, 0.0, 0.0, 0.0, 0.0, ...</td>\n      <td>4</td>\n    </tr>\n    <tr>\n      <th>29</th>\n      <td>[0.0, 0.0, 0.0, 0.0, 0.0, 0.0, 0.0, 0.0, 0.0, ...</td>\n      <td>4</td>\n    </tr>\n  </tbody>\n</table>\n</div>"
     },
     "metadata": {},
     "output_type": "display_data"
    },
    {
     "name": "stdout",
     "output_type": "stream",
     "text": [
      "Class 5:\n"
     ]
    },
    {
     "data": {
      "text/plain": "                                                image  class\n12  [0.0, 0.0, 0.0, 0.0, 0.0, 0.0, 0.0, 0.0, 0.0, ...      5\n28  [0.0, 0.0, 0.0, 0.0, 0.0, 0.0, 0.0, 0.0, 0.0, ...      5",
      "text/html": "<div>\n<style scoped>\n    .dataframe tbody tr th:only-of-type {\n        vertical-align: middle;\n    }\n\n    .dataframe tbody tr th {\n        vertical-align: top;\n    }\n\n    .dataframe thead th {\n        text-align: right;\n    }\n</style>\n<table border=\"1\" class=\"dataframe\">\n  <thead>\n    <tr style=\"text-align: right;\">\n      <th></th>\n      <th>image</th>\n      <th>class</th>\n    </tr>\n  </thead>\n  <tbody>\n    <tr>\n      <th>12</th>\n      <td>[0.0, 0.0, 0.0, 0.0, 0.0, 0.0, 0.0, 0.0, 0.0, ...</td>\n      <td>5</td>\n    </tr>\n    <tr>\n      <th>28</th>\n      <td>[0.0, 0.0, 0.0, 0.0, 0.0, 0.0, 0.0, 0.0, 0.0, ...</td>\n      <td>5</td>\n    </tr>\n  </tbody>\n</table>\n</div>"
     },
     "metadata": {},
     "output_type": "display_data"
    },
    {
     "name": "stdout",
     "output_type": "stream",
     "text": [
      "Class 6:\n"
     ]
    },
    {
     "data": {
      "text/plain": "                                               image  class\n3  [0.0, 0.0, 0.0, 0.0, 0.0, 0.0, 0.0, 0.0, 0.0, ...      6\n4  [0.0, 0.0, 0.0, 0.0, 0.0, 0.0, 0.0, 0.0, 0.0, ...      6",
      "text/html": "<div>\n<style scoped>\n    .dataframe tbody tr th:only-of-type {\n        vertical-align: middle;\n    }\n\n    .dataframe tbody tr th {\n        vertical-align: top;\n    }\n\n    .dataframe thead th {\n        text-align: right;\n    }\n</style>\n<table border=\"1\" class=\"dataframe\">\n  <thead>\n    <tr style=\"text-align: right;\">\n      <th></th>\n      <th>image</th>\n      <th>class</th>\n    </tr>\n  </thead>\n  <tbody>\n    <tr>\n      <th>3</th>\n      <td>[0.0, 0.0, 0.0, 0.0, 0.0, 0.0, 0.0, 0.0, 0.0, ...</td>\n      <td>6</td>\n    </tr>\n    <tr>\n      <th>4</th>\n      <td>[0.0, 0.0, 0.0, 0.0, 0.0, 0.0, 0.0, 0.0, 0.0, ...</td>\n      <td>6</td>\n    </tr>\n  </tbody>\n</table>\n</div>"
     },
     "metadata": {},
     "output_type": "display_data"
    },
    {
     "name": "stdout",
     "output_type": "stream",
     "text": [
      "Class 7:\n"
     ]
    },
    {
     "data": {
      "text/plain": "                                               image  class\n1  [0.0, 0.0, 0.0, 0.0, 0.0, 0.0, 0.0, 0.0, 0.0, ...      7\n2  [0.0, 0.0, 0.0, 0.0, 0.0, 0.0, 0.0, 0.0, 0.0, ...      7",
      "text/html": "<div>\n<style scoped>\n    .dataframe tbody tr th:only-of-type {\n        vertical-align: middle;\n    }\n\n    .dataframe tbody tr th {\n        vertical-align: top;\n    }\n\n    .dataframe thead th {\n        text-align: right;\n    }\n</style>\n<table border=\"1\" class=\"dataframe\">\n  <thead>\n    <tr style=\"text-align: right;\">\n      <th></th>\n      <th>image</th>\n      <th>class</th>\n    </tr>\n  </thead>\n  <tbody>\n    <tr>\n      <th>1</th>\n      <td>[0.0, 0.0, 0.0, 0.0, 0.0, 0.0, 0.0, 0.0, 0.0, ...</td>\n      <td>7</td>\n    </tr>\n    <tr>\n      <th>2</th>\n      <td>[0.0, 0.0, 0.0, 0.0, 0.0, 0.0, 0.0, 0.0, 0.0, ...</td>\n      <td>7</td>\n    </tr>\n  </tbody>\n</table>\n</div>"
     },
     "metadata": {},
     "output_type": "display_data"
    },
    {
     "name": "stdout",
     "output_type": "stream",
     "text": [
      "Class 8:\n"
     ]
    },
    {
     "data": {
      "text/plain": "                                                image  class\n13  [0.0, 0.0, 0.0, 0.0, 0.0, 0.0, 0.0, 0.0, 0.0, ...      8\n17  [0.0, 0.0, 0.0, 0.0, 0.0, 0.0, 0.0, 0.0, 0.0, ...      8",
      "text/html": "<div>\n<style scoped>\n    .dataframe tbody tr th:only-of-type {\n        vertical-align: middle;\n    }\n\n    .dataframe tbody tr th {\n        vertical-align: top;\n    }\n\n    .dataframe thead th {\n        text-align: right;\n    }\n</style>\n<table border=\"1\" class=\"dataframe\">\n  <thead>\n    <tr style=\"text-align: right;\">\n      <th></th>\n      <th>image</th>\n      <th>class</th>\n    </tr>\n  </thead>\n  <tbody>\n    <tr>\n      <th>13</th>\n      <td>[0.0, 0.0, 0.0, 0.0, 0.0, 0.0, 0.0, 0.0, 0.0, ...</td>\n      <td>8</td>\n    </tr>\n    <tr>\n      <th>17</th>\n      <td>[0.0, 0.0, 0.0, 0.0, 0.0, 0.0, 0.0, 0.0, 0.0, ...</td>\n      <td>8</td>\n    </tr>\n  </tbody>\n</table>\n</div>"
     },
     "metadata": {},
     "output_type": "display_data"
    },
    {
     "name": "stdout",
     "output_type": "stream",
     "text": [
      "Class 9:\n"
     ]
    },
    {
     "data": {
      "text/plain": "                                               image  class\n0  [0.0, 0.0, 0.0, 0.0, 0.0, 0.0, 0.0, 0.0, 0.0, ...      9\n5  [0.0, 0.0, 0.0, 0.0, 0.0, 0.0, 0.0, 0.0, 0.0, ...      9",
      "text/html": "<div>\n<style scoped>\n    .dataframe tbody tr th:only-of-type {\n        vertical-align: middle;\n    }\n\n    .dataframe tbody tr th {\n        vertical-align: top;\n    }\n\n    .dataframe thead th {\n        text-align: right;\n    }\n</style>\n<table border=\"1\" class=\"dataframe\">\n  <thead>\n    <tr style=\"text-align: right;\">\n      <th></th>\n      <th>image</th>\n      <th>class</th>\n    </tr>\n  </thead>\n  <tbody>\n    <tr>\n      <th>0</th>\n      <td>[0.0, 0.0, 0.0, 0.0, 0.0, 0.0, 0.0, 0.0, 0.0, ...</td>\n      <td>9</td>\n    </tr>\n    <tr>\n      <th>5</th>\n      <td>[0.0, 0.0, 0.0, 0.0, 0.0, 0.0, 0.0, 0.0, 0.0, ...</td>\n      <td>9</td>\n    </tr>\n  </tbody>\n</table>\n</div>"
     },
     "metadata": {},
     "output_type": "display_data"
    },
    {
     "name": "stdout",
     "output_type": "stream",
     "text": [
      "Class Counts:\n",
      " 0    468\n",
      "1    573\n",
      "2    523\n",
      "3    528\n",
      "4    525\n",
      "5    439\n",
      "6    481\n",
      "7    511\n",
      "8    459\n",
      "9    493\n",
      "Name: class, dtype: int64\n"
     ]
    }
   ],
   "source": [
    "# TODO: Visualize samples of each class\n",
    "\n",
    "# Flattening the samples/labels\n",
    "train_samples_reshaped = train_samples.reshape(-1, 784)\n",
    "train_samples_labels_reshaped = train_samples_labels.reshape(-1)\n",
    "test_samples_reshaped = test_samples.reshape(-1, 784)\n",
    "test_samples_labels_reshaped = test_samples_labels.reshape(-1)\n",
    "\n",
    "# Concatenating the samples and labels\n",
    "samples = np.concatenate((train_samples_reshaped, test_samples_reshaped), axis=0)\n",
    "labels = np.concatenate((train_samples_labels_reshaped, test_samples_labels_reshaped), axis=0)\n",
    "\n",
    "df = pd.DataFrame({'image': samples.tolist(), 'class': labels.tolist()})\n",
    "\n",
    "for label, group in df.groupby('class'):\n",
    "    print(f\"Class {label}:\")\n",
    "    display(group.head(2))\n",
    "\n",
    "# TODO: Display counts of each class\n",
    "\n",
    "# counts for both train and test combined\n",
    "\n",
    "counts = df['class'].value_counts().sort_index()\n",
    "print(\"Class Counts:\\n\", counts)\n"
   ]
  },
  {
   "cell_type": "markdown",
   "metadata": {},
   "source": [
    "### *one-versus-the-rest* (15 Points) and analysis\n",
    "Using your implementation, compare multiclass classification performance of *one-versus-the-rest*\n",
    "\n",
    "**Create your own implementation of *one-versus-the-rest* and *one-versus-one*. Do not use sklearns multiclass SVM.**"
   ]
  },
  {
   "cell_type": "code",
   "execution_count": 36,
   "metadata": {
    "ExecuteTime": {
     "start_time": "2023-04-13T22:24:13.900309Z",
     "end_time": "2023-04-13T22:25:23.093552Z"
    }
   },
   "outputs": [
    {
     "name": "stdout",
     "output_type": "stream",
     "text": [
      "0-versus-the-rest, train accuracy: 0.99475\n",
      "0-versus-the-rest, test accuracy: 0.985\n",
      "1-versus-the-rest, train accuracy: 0.9905\n",
      "1-versus-the-rest, test accuracy: 0.994\n",
      "2-versus-the-rest, train accuracy: 0.97825\n",
      "2-versus-the-rest, test accuracy: 0.97\n",
      "3-versus-the-rest, train accuracy: 0.9745\n",
      "3-versus-the-rest, test accuracy: 0.962\n",
      "4-versus-the-rest, train accuracy: 0.9815\n",
      "4-versus-the-rest, test accuracy: 0.977\n",
      "5-versus-the-rest, train accuracy: 0.97425\n",
      "5-versus-the-rest, test accuracy: 0.966\n",
      "6-versus-the-rest, train accuracy: 0.98875\n",
      "6-versus-the-rest, test accuracy: 0.98\n",
      "7-versus-the-rest, train accuracy: 0.985\n",
      "7-versus-the-rest, test accuracy: 0.971\n",
      "8-versus-the-rest, train accuracy: 0.9635\n",
      "8-versus-the-rest, test accuracy: 0.951\n",
      "9-versus-the-rest, train accuracy: 0.965\n",
      "9-versus-the-rest, test accuracy: 0.961\n"
     ]
    }
   ],
   "source": [
    "# TODO loop over classes training one_versus_the_rest()\n",
    "\n",
    "classes = np.unique(train_samples_labels)\n",
    "train_probs_svm = np.zeros((len(classes), len(train_samples)))\n",
    "test_probs_svm = np.zeros((len(classes), len(test_samples)))\n",
    "X_train = train_samples.copy()\n",
    "X_test = test_samples.copy()\n",
    "\n",
    "for i, curr_class in enumerate(classes):\n",
    "    y_train = np.where(train_samples_labels == curr_class, 1, -1)\n",
    "    svm = SVC(kernel=\"linear\", probability=True)\n",
    "    svm.fit(train_samples, y_train.ravel())\n",
    "    y_test = np.where(test_samples_labels == curr_class, 1, -1)\n",
    "    train_probs_svm[i] = svm.predict_proba(train_samples)[:, 1]\n",
    "    test_probs_svm[i] = svm.predict_proba(test_samples)[:, 1]\n",
    "    print(\"{}-versus-the-rest, train accuracy: {}\".format(i, svm.score(X_train, y_train)))\n",
    "    print(\"{}-versus-the-rest, test accuracy: {}\".format(i, svm.score(X_test, y_test)))\n",
    "\n",
    "# TODO save all the prediction probability by predict_prob() for the following function\n",
    "# Hint: svm = SVC(kernel=\"linear\", probability=True)"
   ]
  },
  {
   "cell_type": "markdown",
   "metadata": {},
   "source": [
    "Determine the accuracy"
   ]
  },
  {
   "cell_type": "code",
   "execution_count": 37,
   "metadata": {
    "jupyter": {
     "outputs_hidden": false
    },
    "ExecuteTime": {
     "start_time": "2023-04-13T22:25:23.094689Z",
     "end_time": "2023-04-13T22:25:23.112802Z"
    }
   },
   "outputs": [
    {
     "name": "stdout",
     "output_type": "stream",
     "text": [
      "Train accuracy: 91.80\n",
      "Test accuracy: 88.60\n"
     ]
    }
   ],
   "source": [
    "predicted_training_labels = np.argmax(train_probs_svm, axis=0)\n",
    "predicted_test_labels = np.argmax(test_probs_svm, axis=0)\n",
    "\n",
    "train_accuracy = accuracy_score(train_samples_labels, predicted_training_labels)\n",
    "test_accuracy = accuracy_score(test_samples_labels, predicted_test_labels)\n",
    "print(\"Train accuracy: {:.2f}\".format(100*train_accuracy))\n",
    "print(\"Test accuracy: {:.2f}\".format(100*test_accuracy))"
   ]
  },
  {
   "cell_type": "markdown",
   "metadata": {},
   "source": [
    "The parameter $C>0$ controls the tradeoff between the size of the margin and the slack variable penalty. It is analogous to the inverse of a regularization coefficient. Include in your report a brief discussion of how you found an appropriate value."
   ]
  },
  {
   "cell_type": "code",
   "execution_count": 38,
   "metadata": {
    "jupyter": {
     "outputs_hidden": false
    },
    "ExecuteTime": {
     "start_time": "2023-04-13T22:25:23.115205Z",
     "end_time": "2023-04-13T22:38:08.904068Z"
    }
   },
   "outputs": [
    {
     "name": "stdout",
     "output_type": "stream",
     "text": [
      "0-versus-the-rest, train accuracy: 0.84725\n",
      "0-versus-the-rest, test accuracy: 0.812\n",
      "1-versus-the-rest, train accuracy: 0.86925\n",
      "1-versus-the-rest, test accuracy: 0.839\n",
      "2-versus-the-rest, train accuracy: 0.8685\n",
      "2-versus-the-rest, test accuracy: 0.842\n",
      "3-versus-the-rest, train accuracy: 0.86875\n",
      "3-versus-the-rest, test accuracy: 0.841\n",
      "4-versus-the-rest, train accuracy: 0.88125\n",
      "4-versus-the-rest, test accuracy: 0.853\n",
      "5-versus-the-rest, train accuracy: 0.9115\n",
      "5-versus-the-rest, test accuracy: 0.881\n",
      "6-versus-the-rest, train accuracy: 0.938\n",
      "6-versus-the-rest, test accuracy: 0.894\n",
      "7-versus-the-rest, train accuracy: 0.965\n",
      "7-versus-the-rest, test accuracy: 0.881\n",
      "8-versus-the-rest, train accuracy: 0.98525\n",
      "8-versus-the-rest, test accuracy: 0.841\n",
      "9-versus-the-rest, train accuracy: 0.99725\n",
      "9-versus-the-rest, test accuracy: 0.824\n"
     ]
    }
   ],
   "source": [
    "# Hint: Try using np.logspace for hyperparameter tuning\n",
    "# TODO: Find an appropriate value of C. \n",
    "train_accuracies = list()\n",
    "test_accuracies = list()\n",
    "\n",
    "for i in np.logspace(-4, 3, 10):\n",
    "    train_probs = np.empty((0, len(train_samples)))\n",
    "    test_probs = np.empty((0, len(test_samples)))\n",
    "\n",
    "    for j in range(len(classes)):\n",
    "        indices_isclass = np.where(train_samples_labels == classes[j])[0]\n",
    "        indices_notclass = np.where(train_samples_labels != classes[j])[0]\n",
    "\n",
    "        y_train_isclass = np.zeros(len(train_samples_labels))\n",
    "        y_train_isclass[indices_isclass] = 1\n",
    "        y_train_isclass[indices_notclass] = 0\n",
    "\n",
    "        svm = SVC(C = i, kernel=\"linear\", probability=True)\n",
    "        svm.fit(train_samples, y_train_isclass)\n",
    "        pred_train_prob = svm.predict_proba(train_samples)[:,1]\n",
    "        pred_test_prob= svm.predict_proba(test_samples)[:,1]\n",
    "\n",
    "        train_probs = np.append(train_probs, [pred_train_prob], axis=0)\n",
    "        test_probs = np.append(test_probs, [pred_test_prob], axis=0)\n",
    "\n",
    "    predicted_training_labels_hat = np.argmax(train_probs, axis=0)\n",
    "    predicted_test_labels_hat = np.argmax(test_probs, axis=0)\n",
    "    train_accuracy_hat = accuracy_score(train_samples_labels, predicted_training_labels_hat)\n",
    "    test_accuracy_hat = accuracy_score(test_samples_labels, predicted_test_labels_hat)\n",
    "\n",
    "    train_accuracies.append(train_accuracy_hat)\n",
    "    test_accuracies.append(test_accuracy_hat)\n",
    "\n",
    "# print(train_accuracies)\n",
    "# print(test_accuracies)\n",
    "for i in range(10):\n",
    "\n",
    "    print(\"{}-versus-the-rest, train accuracy: {}\".format(i, train_accuracies[i]))\n",
    "    print(\"{}-versus-the-rest, test accuracy: {}\".format(i, test_accuracies[i]))"
   ]
  },
  {
   "cell_type": "markdown",
   "metadata": {},
   "source": [
    "Provide details on how you found an appropriate value."
   ]
  },
  {
   "cell_type": "markdown",
   "metadata": {},
   "source": [
    "We are examining the C value from a range between 10^-4 to 10^3. This iterates through 10 classes to predict\n",
    " the highest probability by using the argmax. Then, we see the accuracies of these methods from the\n",
    " accuracy_score function. These metrics are stored in train and test accuracies and eventually\n",
    " the code shows a comparison of the accuracies."
   ]
  },
  {
   "cell_type": "markdown",
   "metadata": {},
   "source": [
    "Plot accuracies for train and test using logspace for x-axis (i.e., $C$ values)"
   ]
  },
  {
   "cell_type": "code",
   "execution_count": 39,
   "metadata": {
    "jupyter": {
     "outputs_hidden": false
    },
    "ExecuteTime": {
     "start_time": "2023-04-13T22:38:08.905165Z",
     "end_time": "2023-04-13T22:38:09.157962Z"
    }
   },
   "outputs": [
    {
     "data": {
      "text/plain": "<Figure size 640x480 with 1 Axes>",
      "image/png": "[encoded data removed]"
     },
     "metadata": {},
     "output_type": "display_data"
    }
   ],
   "source": [
    "# TODO: Plot the result.\n",
    "\n",
    "import matplotlib.pyplot as plt\n",
    "\n",
    "C_values = np.logspace(-4, 3, 10)\n",
    "\n",
    "plt.plot(C_values, train_accuracies, label=\"Accuracy on train\")\n",
    "plt.plot(C_values, test_accuracies, label=\"Accuracy on test\")\n",
    "\n",
    "plt.gca().axes.set_xscale(\"log\")\n",
    "\n",
    "plt.axvline(x=1, color='green', linestyle='--')\n",
    "\n",
    "plt.legend()\n",
    "\n",
    "plt.xlabel(\"C Values\")\n",
    "plt.ylabel(\"Accuracy\")\n",
    "\n",
    "plt.show()"
   ]
  },
  {
   "cell_type": "markdown",
   "metadata": {},
   "source": [
    "What does this graph tell us about the importance of our C value?"
   ]
  },
  {
   "cell_type": "markdown",
   "metadata": {},
   "source": [
    "\\# TODO: Analyze the plot above: "
   ]
  },
  {
   "cell_type": "markdown",
   "metadata": {},
   "source": [
    "This graph clearly shows us the importance of the C value with regards to controlling the maximizing margin and minimizing classification error trade-off. As we can see, the higher C is, the narrower the margin is, but this could lead to overfitting. On the other hand, the smaller C is, the wider the margin, and thus less sensitive to outliers and could lead to underfitting. As observed, from 10^0 onward, the accuracy of the train and test data diverges."
   ]
  },
  {
   "cell_type": "markdown",
   "metadata": {},
   "source": [
    "### (10 Points)\n",
    "In addition to calculating percent accuracy, generate multiclass [confusion matrices](https://en.wikipedia.org/wiki/confusion_matrix) as part of your analysis."
   ]
  },
  {
   "cell_type": "code",
   "execution_count": 40,
   "metadata": {
    "ExecuteTime": {
     "start_time": "2023-04-13T22:38:09.160475Z",
     "end_time": "2023-04-13T22:50:51.110005Z"
    }
   },
   "outputs": [
    {
     "name": "stdout",
     "output_type": "stream",
     "text": [
      "[0.84725, 0.86925, 0.8685, 0.86875, 0.88125, 0.9115, 0.938, 0.965, 0.98525, 0.99725, 0.848, 0.86925, 0.8685, 0.8685, 0.88125, 0.91175, 0.93825, 0.966, 0.985, 0.99725]\n",
      "[0.812, 0.839, 0.842, 0.841, 0.853, 0.881, 0.894, 0.881, 0.841, 0.824, 0.815, 0.839, 0.842, 0.84, 0.852, 0.881, 0.894, 0.88, 0.837, 0.823]\n",
      "Confusion matrix for C=0.0001:\n",
      "[[ 79   0   0   0   0   0   2   0   4   1]\n",
      " [  0 117   0   1   0   0   0   0   4   0]\n",
      " [  0   3  93   5   1   0   0   3   6   2]\n",
      " [  0   0   1  95   0   6   3   4   5   1]\n",
      " [  1   1   1   0  92   1   3   0   4   5]\n",
      " [  4   0   1  23   2  40   2   1  16   3]\n",
      " [  4   0   1   0   2   3  74   0   3   0]\n",
      " [  1   9   3   2   3   0   0  78   0   3]\n",
      " [  0   0   2   6   3   0   0   2  70   3]\n",
      " [  0   1   0   3   2   0   0   4   5  77]]\n",
      "Confusion matrix for C=0.0005994842503189409:\n",
      "[[ 80   0   0   0   0   0   4   0   2   0]\n",
      " [  0 118   0   1   1   1   0   0   1   0]\n",
      " [  1   2  94   2   1   1   0   4   6   2]\n",
      " [  0   0   1  90   0  11   4   5   3   1]\n",
      " [  1   1   1   0  92   1   3   0   2   7]\n",
      " [  4   0   3   4   2  69   4   1   4   1]\n",
      " [  3   0   1   0   3   5  74   0   1   0]\n",
      " [  1   9   4   0   3   0   0  79   0   3]\n",
      " [  0   1   4   4   4   3   0   3  63   4]\n",
      " [  0   1   0   2   5   1   0   2   1  80]]\n",
      "Confusion matrix for C=0.003593813663804626:\n",
      "[[ 80   0   0   0   0   0   4   0   2   0]\n",
      " [  0 118   0   1   0   1   0   0   2   0]\n",
      " [  1   2  95   2   1   1   0   3   6   2]\n",
      " [  0   0   1  90   0  11   4   5   3   1]\n",
      " [  1   1   1   0  91   1   3   0   2   8]\n",
      " [  4   0   3   5   0  70   4   1   4   1]\n",
      " [  4   0   1   0   2   5  75   0   0   0]\n",
      " [  1   9   4   0   2   0   0  80   0   3]\n",
      " [  0   1   4   4   3   3   1   3  63   4]\n",
      " [  0   1   1   2   4   1   0   2   1  80]]\n",
      "Confusion matrix for C=0.021544346900318846:\n",
      "[[ 80   0   0   0   0   0   4   0   2   0]\n",
      " [  0 118   0   1   1   1   0   0   1   0]\n",
      " [  1   2  94   2   1   1   0   4   6   2]\n",
      " [  0   0   1  90   0  11   4   5   3   1]\n",
      " [  1   1   1   0  91   1   3   0   2   8]\n",
      " [  4   0   3   5   1  69   4   1   4   1]\n",
      " [  4   0   1   0   2   5  75   0   0   0]\n",
      " [  1   9   4   0   2   0   0  80   0   3]\n",
      " [  0   1   3   4   3   4   1   3  63   4]\n",
      " [  0   1   1   2   4   1   0   2   1  80]]\n",
      "Confusion matrix for C=0.1291549665014884:\n",
      "[[ 79   0   0   0   0   1   4   0   2   0]\n",
      " [  0 119   0   1   0   0   0   0   2   0]\n",
      " [  1   0  96   2   2   1   0   3   6   2]\n",
      " [  0   0   1  89   0  12   4   5   3   1]\n",
      " [  1   1   1   0  92   1   2   0   2   8]\n",
      " [  3   0   2   4   1  73   3   1   4   1]\n",
      " [  2   0   0   0   2   5  76   1   1   0]\n",
      " [  0   8   4   0   2   0   0  82   0   3]\n",
      " [  0   0   4   3   4   4   0   3  64   4]\n",
      " [  0   1   0   2   3   1   0   2   1  82]]\n",
      "Confusion matrix for C=0.774263682681127:\n",
      "[[ 82   0   0   0   0   1   3   0   0   0]\n",
      " [  0 120   0   1   0   0   0   0   1   0]\n",
      " [  0   0  99   2   0   0   1   3   6   2]\n",
      " [  0   0   1  92   0  10   4   4   3   1]\n",
      " [  0   0   0   0  95   1   5   0   1   6]\n",
      " [  1   0   1   3   0  79   2   1   5   0]\n",
      " [  2   0   0   0   0   4  79   1   1   0]\n",
      " [  0   3   5   0   2   0   0  87   0   2]\n",
      " [  0   0   2   4   5   4   0   3  64   4]\n",
      " [  0   1   0   2   1   1   0   1   2  84]]\n",
      "Confusion matrix for C=4.641588833612782:\n",
      "[[ 83   0   0   1   0   1   1   0   0   0]\n",
      " [  0 121   0   0   0   0   0   0   1   0]\n",
      " [  0   1 100   1   0   0   1   3   6   1]\n",
      " [  0   0   1  95   0   8   4   3   3   1]\n",
      " [  1   1   0   0  97   0   4   0   0   5]\n",
      " [  1   0   0   4   1  79   2   1   4   0]\n",
      " [  2   0   1   0   0   3  79   1   1   0]\n",
      " [  2   1   3   1   1   0   0  88   1   2]\n",
      " [  0   0   2   3   5   3   0   0  70   3]\n",
      " [  0   0   0   1   2   1   0   3   3  82]]\n",
      "Confusion matrix for C=27.825594022071257:\n",
      "[[ 81   0   0   1   0   2   1   1   0   0]\n",
      " [  0 121   0   0   0   0   0   0   1   0]\n",
      " [  0   3  98   1   0   0   1   2   7   1]\n",
      " [  0   0   1  97   1   6   4   3   1   2]\n",
      " [  1   2   0   0  96   0   5   0   0   4]\n",
      " [  2   0   0   4   0  75   2   1   7   1]\n",
      " [  2   1   1   0   0   1  79   1   2   0]\n",
      " [  2   1   3   0   1   0   0  89   0   3]\n",
      " [  0   0   2   4   5   5   0   0  67   3]\n",
      " [  0   2   0   1   6   0   0   2   4  77]]\n",
      "Confusion matrix for C=166.81005372000593:\n",
      "[[ 80   0   1   1   0   2   1   0   0   1]\n",
      " [  0 121   0   0   0   0   0   0   1   0]\n",
      " [  0   5  95   3   0   0   1   3   5   1]\n",
      " [  0   0   2  92   1  13   1   4   1   1]\n",
      " [  1   1   0   0  89   0   4   0   4   9]\n",
      " [  3   0   0   6   1  70   1   0   9   2]\n",
      " [  3   1   2   0   1   1  75   2   2   0]\n",
      " [  2   1   4   1   1   0   0  83   0   7]\n",
      " [  0   0   3   6   5   8   0   2  60   2]\n",
      " [  0   3   1   2   7   0   0   3   4  72]]\n",
      "Confusion matrix for C=1000.0:\n",
      "[[ 79   0   0   1   0   3   1   0   0   2]\n",
      " [  0 120   0   0   0   1   0   0   1   0]\n",
      " [  0   5  91   5   0   0   1   3   5   3]\n",
      " [  0   0   4  87   1  13   1   4   0   5]\n",
      " [  1   1   2   0  87   0   3   0   6   8]\n",
      " [  3   0   1   8   2  68   1   0   8   1]\n",
      " [  3   1   3   0   1   1  74   2   1   1]\n",
      " [  2   2   4   3   0   0   0  82   1   5]\n",
      " [  0   1   1   4   6   5   0   3  63   3]\n",
      " [  0   2   2   2   7   0   0   4   3  72]]\n"
     ]
    }
   ],
   "source": [
    "train_predictions = list()\n",
    "test_predictions = list()\n",
    "# TODO\n",
    "from sklearn.metrics import confusion_matrix\n",
    "\n",
    "conf_matrices = list()\n",
    "\n",
    "for i in np.logspace(-4, 3, 10):\n",
    "    train_probs = np.empty((0, len(train_samples)))\n",
    "    test_probs = np.empty((0, len(test_samples)))\n",
    "\n",
    "    for j in range(len(classes)):\n",
    "        indices_isclass = np.where(train_samples_labels == classes[j])[0]\n",
    "        indices_notclass = np.where(train_samples_labels != classes[j])[0]\n",
    "\n",
    "        y_train_isclass = np.zeros(len(train_samples_labels))\n",
    "        y_train_isclass[indices_isclass] = 1\n",
    "        y_train_isclass[indices_notclass] = 0\n",
    "\n",
    "        svm = SVC(C = i, kernel=\"linear\", probability=True)\n",
    "        svm.fit(train_samples, y_train_isclass)\n",
    "        pred_train_prob = svm.predict_proba(train_samples)[:,1]\n",
    "        pred_test_prob= svm.predict_proba(test_samples)[:,1]\n",
    "\n",
    "        train_probs = np.append(train_probs, [pred_train_prob], axis=0)\n",
    "        test_probs = np.append(test_probs, [pred_test_prob], axis=0)\n",
    "\n",
    "    predicted_training_labels_hat = np.argmax(train_probs, axis=0)\n",
    "    predicted_test_labels_hat = np.argmax(test_probs, axis=0)\n",
    "    train_accuracy_hat = accuracy_score(train_samples_labels, predicted_training_labels_hat)\n",
    "    test_accuracy_hat = accuracy_score(test_samples_labels, predicted_test_labels_hat)\n",
    "    conf_matrix_hat = confusion_matrix(test_samples_labels, predicted_test_labels_hat)\n",
    "\n",
    "    train_accuracies.append(train_accuracy_hat)\n",
    "    test_accuracies.append(test_accuracy_hat)\n",
    "    conf_matrices.append(conf_matrix_hat)\n",
    "\n",
    "print(train_accuracies)\n",
    "print(test_accuracies)\n",
    "for i, matrix in enumerate(conf_matrices):\n",
    "    print(\"Confusion matrix for C={}:\\n{}\".format(np.logspace(-4, 3, 10)[i], matrix))"
   ]
  },
  {
   "cell_type": "markdown",
   "metadata": {},
   "source": [
    "### Evaluation (15 points)\n",
    "\n",
    "Now we will report our results and compare to other algorithms. Usually compare with a handful\n",
    "Logisitic regression\n",
    "\n",
    "**Create your own implementation of *one-versus-the-rest* and *one-versus-one*. Do not use sklearns multiclass Logistic Regression.**"
   ]
  },
  {
   "cell_type": "code",
   "execution_count": 41,
   "metadata": {
    "ExecuteTime": {
     "start_time": "2023-04-13T22:50:51.111483Z",
     "end_time": "2023-04-13T22:50:53.720127Z"
    }
   },
   "outputs": [
    {
     "name": "stdout",
     "output_type": "stream",
     "text": [
      "0-versus-the-rest, train accuracy: 0.99125\n",
      "0-versus-the-rest, test accuracy: 0.985\n",
      "1-versus-the-rest, train accuracy: 0.98725\n",
      "1-versus-the-rest, test accuracy: 0.993\n",
      "2-versus-the-rest, train accuracy: 0.96925\n",
      "2-versus-the-rest, test accuracy: 0.967\n",
      "3-versus-the-rest, train accuracy: 0.968\n",
      "3-versus-the-rest, test accuracy: 0.959\n",
      "4-versus-the-rest, train accuracy: 0.977\n",
      "4-versus-the-rest, test accuracy: 0.971\n",
      "5-versus-the-rest, train accuracy: 0.95925\n",
      "5-versus-the-rest, test accuracy: 0.945\n",
      "6-versus-the-rest, train accuracy: 0.9815\n",
      "6-versus-the-rest, test accuracy: 0.976\n",
      "7-versus-the-rest, train accuracy: 0.98025\n",
      "7-versus-the-rest, test accuracy: 0.969\n",
      "8-versus-the-rest, train accuracy: 0.9525\n",
      "8-versus-the-rest, test accuracy: 0.946\n",
      "9-versus-the-rest, train accuracy: 0.95475\n",
      "9-versus-the-rest, test accuracy: 0.961\n"
     ]
    }
   ],
   "source": [
    "# TODO\n",
    "from sklearn.linear_model import LogisticRegression\n",
    "\n",
    "classes = np.unique(train_samples_labels)\n",
    "train_probs_lr = np.zeros((len(classes), len(train_samples)))\n",
    "test_probs_lr = np.zeros((len(classes), len(test_samples)))\n",
    "X_train = train_samples.copy()\n",
    "X_test = test_samples.copy()\n",
    "\n",
    "for i, curr_class in enumerate(classes):\n",
    "    y_train = np.where(train_samples_labels == curr_class, 1, -1)\n",
    "    svm = LogisticRegression()\n",
    "    svm.fit(train_samples, y_train.ravel())\n",
    "    y_test = np.where(test_samples_labels == curr_class, 1, -1)\n",
    "    train_probs_lr[i] = svm.predict_proba(train_samples)[:, 1]\n",
    "    test_probs_lr[i] = svm.predict_proba(test_samples)[:, 1]\n",
    "    print(\"{}-versus-the-rest, train accuracy: {}\".format(i, svm.score(X_train, y_train)))\n",
    "    print(\"{}-versus-the-rest, test accuracy: {}\".format(i, svm.score(X_test, y_test)))\n"
   ]
  },
  {
   "cell_type": "markdown",
   "metadata": {},
   "source": [
    "Create a table comparing model accuracy on train and test data."
   ]
  },
  {
   "cell_type": "markdown",
   "source": [
    "| Method | Train Acc. (%) | Test Acc. (%) |\n",
    "|--------|----------------|---------------|\n",
    "| 0      | 99.125         | 98.5          |\n",
    "| 1      | 98.725         | 99.3          |\n",
    "| 2      | 96.925         | 96.7          |\n",
    "| 3      | 96.8           | 95.9          |\n",
    "| 4      | 97.7           | 97.1          |\n",
    "| 5      | 95.925         | 94.5          |\n",
    "| 6      | 98.15          | 97.6          |\n",
    "| 7      | 98.025         | 96.9          |\n",
    "| 8      | 95.25          | 94.6          |\n",
    "| 9      | 95.475         | 96.1          |\n"
   ],
   "metadata": {
    "collapsed": false
   }
  },
  {
   "cell_type": "markdown",
   "metadata": {},
   "source": [
    "Create 9 graphs (one for each label) with two ROC curves (one for each model).\n"
   ]
  },
  {
   "cell_type": "code",
   "execution_count": 42,
   "metadata": {
    "ExecuteTime": {
     "start_time": "2023-04-13T22:50:53.721314Z",
     "end_time": "2023-04-13T22:50:54.919916Z"
    }
   },
   "outputs": [
    {
     "data": {
      "text/plain": "<Figure size 2000x1500 with 12 Axes>",
      "image/png": "[encoded data removed]"
     },
     "metadata": {},
     "output_type": "display_data"
    }
   ],
   "source": [
    "# TODO\n",
    "from sklearn.metrics import roc_curve, auc\n",
    "\n",
    "# Define the classes\n",
    "classes = np.unique(train_samples_labels)\n",
    "\n",
    "# Create subplots for each label\n",
    "fig, axs = plt.subplots(3, 4, figsize=(20, 15))\n",
    "axs = axs.ravel()\n",
    "threshold = 0.0\n",
    "# Iterate over each class\n",
    "for i, curr_class in enumerate(classes):\n",
    "\n",
    "    # Extract the true labels for the current class\n",
    "    y_true = np.where(test_samples_labels == curr_class, 1, 0)\n",
    "\n",
    "    # Calculate the ROC curve and AUC for SVM model\n",
    "    fpr_svm, tpr_svm, threshold = roc_curve(y_true, test_probs_svm[i])\n",
    "    auc_svm = auc(fpr_svm, tpr_svm)\n",
    "\n",
    "    # Calculate the ROC curve and AUC for logistic regression model\n",
    "    fpr_lr, tpr_lr, threshold = roc_curve(y_true, test_probs_lr[i])\n",
    "    auc_lr = auc(fpr_lr, tpr_lr)\n",
    "\n",
    "    # Plot the ROC curves\n",
    "    axs[i].plot(fpr_svm, tpr_svm, label='SVM (AUC = {:.2f})'.format(auc_svm))\n",
    "    axs[i].plot(fpr_lr, tpr_lr, label='Logistic Regression (AUC = {:.2f})'.format(auc_lr))\n",
    "\n",
    "    # Set the axis labels and title\n",
    "    axs[i].set_xlabel('False Positive Rate')\n",
    "    axs[i].set_ylabel('True Positive Rate')\n",
    "    axs[i].set_title('ROC Curve for Label {}'.format(curr_class))\n",
    "\n",
    "    # Add the legend\n",
    "    axs[i].legend()\n",
    "\n",
    "plt.tight_layout()\n",
    "plt.show()"
   ]
  },
  {
   "cell_type": "markdown",
   "metadata": {},
   "source": [
    "# BONUS (+5 points): Non-linear kernel\n",
    "## Intuition Behind Kernels\n",
    "The SVM classifier obtained by solving the convex Lagrange dual of the primal max-margin SVM formulation is as follows:\n",
    "\n",
    "$$ f(x) = \\sum_{i=1}^N\\alpha_i\\cdot y_i\\cdot\\mathrm{K}(x,x_i)+b,$$\n",
    "\n",
    "where $N$ is the number of support vectors.\n",
    "\n",
    "If you know the intuition behind a linear discriminant function, the non-parametric SVM classifier above is very easy to understand. Instead of imagining the original features of each data point, consider a transformation to a new feature space where the data point has $N$ features, one for each support vector. The value of the $i^{th}$ feature is equal to the value of the kernel between the $i^{th}$ support vector and the data point is classified. The original (possibly non-linear) SVM classifier is like any other linear discriminant in this space.\n",
    "\n",
    "Note that after the transformation, the original features of the data point are irrelevant. Its dot products with support vectors (special data points chosen by the SVM optimization algorithm) represent it only. One of my professors used a loose analogy while explaining this idea: A person has seen lakes, rivers, streams, fords, etc., but has never seen the sea. How would you explain to this person what a sea is? By relating the amount of water in an ocean to that found in a water body, the person already knows, etc.\n",
    "\n",
    "In some instances, like the RBF kernel, defining the transformed features in terms of the original features of a data point leads to an infinite-dimensional representation. Unfortunately, though this an awe-inspiring fact often mentioned while explaining how powerful SVMs are, it drops in only after repeated encounters with the idea ranging from introductory machine learning to statistical learning theory.\n",
    "\n",
    "\n",
    "## Intuition Behind Gaussian Kernels\n",
    "\n",
    "The Gaussian/RBF kernel is as follows:\n",
    "\n",
    "$$ \\mathrm{K}(x,y)=exp(−\\frac{||x−y||^2}{2\\sigma^2})$$\n",
    "\n",
    "\n",
    "Like any other kernel, we can understand the RBF kernel regarding feature transformation via the dot products given above. However, the intuition that helps best when analyzing the RBF kernel is that of the Gaussian distribution (as provided by [Akihiro Matsukawa](https://www.quora.com/profile/Akihiro-Matsukawa)).\n",
    "\n",
    "The Gaussian kernel computed with a support vector is an exponentially decaying function in the input feature space, the maximum value of which is attained at the support vector and which decays uniformly in all directions around the support vector, leading to hyper-spherical contours of the kernel function. The SVM classifier with the Gaussian kernel is simply a weighted linear combination of the kernel function computed between a data point and each support vector. The role of a support vector in the classification of a data point gets tempered with $\\alpha$, the global prediction usefulness of the support vector, and $\\mathrm{K}(x,y)$, the local influence of a support vector in prediction at a particular data point.\n",
    "\n",
    "In the 2D feature space, each support vector's kernel function's heat map decay away from the support vector and the resulting classifier (see the following figure).\n",
    "\n",
    "\n",
    "## Notion of Universal Kernels\n",
    "\n",
    "(This comes from learning theory, it could be more intuitive, but good to know.)\n",
    "\n",
    "Gaussian kernels are universal kernels, i.e., their use with appropriate regularization guarantees a globally optimal predictor, which minimizes a classifier's estimation and approximation errors. Here, we incur approximation error by limiting the space of classification models over which the search space. Estimation error refers to errors in estimating the model parameters.\n"
   ]
  },
  {
   "cell_type": "markdown",
   "metadata": {},
   "source": [
    "## Intuition Behind Gaussian Kernels\n",
    "\n",
    "The Gaussian/RBF kernel is as follows:\n",
    "\n",
    "$$ \\mathrm{K}(x,y)=exp(−\\frac{||x−y||^2}{2\\sigma^2})$$\n",
    "\n",
    "\n",
    "Like any other kernel, we can understand the RBF kernel regarding feature transformation via the dot products given above. However, the intuition that helps best when analyzing the RBF kernel is that of the Gaussian distribution (as provided by [Akihiro Matsukawa](https://www.quora.com/profile/Akihiro-Matsukawa)).\n",
    "\n",
    "The Gaussian kernel computed with a support vector is an exponentially decaying function in the input feature space, the maximum value of which is attained at the support vector and which decays uniformly in all directions around the support vector, leading to hyper-spherical contours of the kernel function. The SVM classifier with the Gaussian kernel is simply a weighted linear combination of the kernel function computed between a data point and each support vector. The role of a support vector in the classification of a data point gets tempered with $\\alpha$, the global prediction usefulness of the support vector, and $\\mathrm{K}(x,y)$, the local influence of a support vector in prediction at a particular data point.\n",
    "\n",
    "In the 2D feature space, each support vector's kernel function's heat map decay away from the support vector and the resulting classifier (see the following figure).\n",
    "\n",
    "![gkernel in 2D](images/gkernel-2d.jpeg \" kernel function of each support vector\")\n"
   ]
  },
  {
   "cell_type": "markdown",
   "metadata": {},
   "source": [
    "### Notion of Universal Kernels\n",
    "(This comes from learning theory, it could be more intuitive, but good to know.)\n",
    "\n",
    "Gaussian kernels are universal kernels, i.e., their use with appropriate regularization guarantees a globally optimal predictor, which minimizes a classifier's estimation and approximation errors. Here, we incur approximation error by limiting the space of classification models over which the search space. Estimation error refers to errors in estimating the model parameters.\n"
   ]
  },
  {
   "cell_type": "markdown",
   "metadata": {},
   "source": [
    "Implement `nonlinear_kernel()` in `implementation.py`, use it, and compare with others (repeat above for SVM using non-linear kernel and do analysis)."
   ]
  },
  {
   "cell_type": "code",
   "execution_count": 43,
   "metadata": {
    "jupyter": {
     "outputs_hidden": false
    },
    "ExecuteTime": {
     "start_time": "2023-04-13T22:50:54.919835Z",
     "end_time": "2023-04-13T22:50:54.938395Z"
    }
   },
   "outputs": [],
   "source": [
    "# (Bonus) TODO "
   ]
  }
 ],
 "metadata": {
  "kernelspec": {
   "display_name": "Python 3 (ipykernel)",
   "language": "python",
   "name": "python3"
  },
  "language_info": {
   "codemirror_mode": {
    "name": "ipython",
    "version": 3
   },
   "file_extension": ".py",
   "mimetype": "text/x-python",
   "name": "python",
   "nbconvert_exporter": "python",
   "pygments_lexer": "ipython3",
   "version": "3.8.5"
  },
  "vscode": {
   "interpreter": {
    "hash": "31f2aee4e71d21fbe5cf8b01ff0e069b9275f58929596ceb00d14d90e3e16cd6"
   }
  }
 },
 "nbformat": 4,
 "nbformat_minor": 5
}
