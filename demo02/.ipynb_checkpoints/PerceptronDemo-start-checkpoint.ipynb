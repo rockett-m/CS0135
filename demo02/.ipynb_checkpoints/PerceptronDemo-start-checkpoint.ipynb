{
 "cells": [
  {
   "cell_type": "markdown",
   "metadata": {},
   "source": [
    "## Building our own perceptron learner\n",
    "\n",
    "Here, we will see an implementation of perceptron learning, from scratch, on a synthetic classification data-set."
   ]
  },
  {
   "cell_type": "code",
   "execution_count": 1,
   "metadata": {},
   "outputs": [],
   "source": [
    "# imports and setup\n",
    "from random import random\n",
    "import numpy as np\n",
    "\n",
    "from sklearn.datasets import make_classification\n",
    "\n",
    "import matplotlib\n",
    "import matplotlib.pyplot as plt\n",
    "\n",
    "%matplotlib inline\n",
    "np.set_printoptions(suppress=True, precision=3)"
   ]
  },
  {
   "cell_type": "markdown",
   "metadata": {},
   "source": [
    "### Define initial weights\n",
    "Here, we set each initial weight randomly as $w_i \\in (-1, 1)$."
   ]
  },
  {
   "cell_type": "code",
   "execution_count": 2,
   "metadata": {},
   "outputs": [],
   "source": [
    "def random_weight():\n",
    "    weight = random()\n",
    "    if (random() < 0.5):\n",
    "        weight = -weight\n",
    "    return weight"
   ]
  },
  {
   "cell_type": "markdown",
   "metadata": {},
   "source": [
    "### Define the separator line, given weights\n",
    "In general, given $\\mathbf{w} = (w_0, w_1, \\ldots, w_n)$ we want to define the separator line using the basic linear solution $\\mathbf{w} \\cdot \\mathbf{x} = 0$.\n",
    "\n",
    "Assuming two-dimensional data: $\\mathbf{x} = (x_1, x_2) \\qquad \\mathbf{w} = (w_0, w_1, w_2)$\n",
    "\n",
    "The equation of interest is: $w_0 + w_1 x_1 + w_2 x_2 = 0$\n",
    "\n",
    "We can then use basic algebra to solve for the $x_1$ and $x_2$ intercepts: \n",
    "$x_1^i = -w_0 / w_1 \\qquad x_2^i = -w_0 / w_2$\n",
    "\n",
    "Solving for the slope of the line between the intercepts gives us the separator: \n",
    "$x_2 = -(w_1/w_2)x_1 + -(w_0/w_2)$"
   ]
  },
  {
   "cell_type": "code",
   "execution_count": 3,
   "metadata": {},
   "outputs": [],
   "source": [
    "def define_separator(weights):\n",
    "    slope = -(weights[1] / weights[2])\n",
    "    intercept = -(weights[0] / weights[2]) \n",
    "    return slope, intercept"
   ]
  },
  {
   "cell_type": "markdown",
   "metadata": {},
   "source": [
    "### Build simple prediction function\n",
    "For the perceptron, given a set of weights $\\mathbf{w}$, we simply compute the linear sum $\\mathbf{w} \\cdot \\mathbf{x}$, and use the threshold hypothesis function:\n",
    "$$h_\\mathbf{w} =\n",
    "\\begin{cases}\n",
    "    1 & \\mathbf{w} \\cdot \\mathbf{x} \\geq 0 \\\\\n",
    "    0 & \\text{else } (\\mathbf{w} \\cdot \\mathbf{x} < 0)\n",
    "\\end{cases}\n",
    "$$"
   ]
  },
  {
   "cell_type": "code",
   "execution_count": null,
   "metadata": {},
   "outputs": [],
   "source": []
  },
  {
   "cell_type": "markdown",
   "metadata": {},
   "source": [
    "### Perceptron learning with one-item stochastic updates\n",
    "The learning algorithm iterates until it either has a perfect linear separator, or until it reaches some maximum number of iterations.  (You could play with that parameter, as well as the value of the learning rate `alpha`, including making the latter adaptive, diminishing over time.)\n",
    "\n",
    "On each iteration, we take some misclassified element $\\mathbf{x}_i$ and then update each weight using:\n",
    "$$w_j \\leftarrow w_j + \\alpha(y_i - h_\\mathbf{w}(\\mathbf{x}_i)) \\times x_{i,j}$$\n",
    "(and remembering that we treat the bias weight $w_0$ as if there is some dummy feature $x_0 = 1$)."
   ]
  },
  {
   "cell_type": "code",
   "execution_count": null,
   "metadata": {},
   "outputs": [],
   "source": []
  },
  {
   "cell_type": "markdown",
   "metadata": {},
   "source": [
    "### Create simple dataset   \n",
    "We create a simple two-dimensional data-set of 50 points $\\mathbf{x} = (x_1, x_2)$, using the `sklearn` function `make_classification`.\n",
    "\n",
    "https://scikit-learn.org/stable/modules/generated/sklearn.datasets.make_classification.html\n",
    "\n",
    "This is pretty self-explanatory; the data is randomized into classes with numeric labels starting at 0, and the `class_sep` parameter controls how easy it is to separate "
   ]
  },
  {
   "cell_type": "code",
   "execution_count": 4,
   "metadata": {},
   "outputs": [],
   "source": [
    "x_N, y_N = make_classification(n_samples=50, n_features=2, n_redundant=0, \n",
    "                               n_clusters_per_class=1, class_sep=1.1)\n",
    "class0_x_N = x_N[y_N==0]\n",
    "class1_x_N = x_N[y_N==1]"
   ]
  },
  {
   "cell_type": "code",
   "execution_count": 5,
   "metadata": {},
   "outputs": [
    {
     "data": {
      "image/png": "[encoded data removed]",
      "text/plain": [
       "<Figure size 432x288 with 1 Axes>"
      ]
     },
     "metadata": {
      "needs_background": "light"
     },
     "output_type": "display_data"
    }
   ],
   "source": [
    "plt.scatter(class0_x_N[:,0], class0_x_N[:,1], c='r', marker='x', label='Class 0')\n",
    "plt.scatter(class1_x_N[:,0], class1_x_N[:,1], c='b', marker='o', label='Class 1')\n",
    "plt.legend()\n",
    "plt.title(\"Initial data\");"
   ]
  },
  {
   "cell_type": "code",
   "execution_count": null,
   "metadata": {},
   "outputs": [],
   "source": []
  }
 ],
 "metadata": {
  "kernelspec": {
   "display_name": "Python 3",
   "language": "python",
   "name": "python3"
  },
  "language_info": {
   "codemirror_mode": {
    "name": "ipython",
    "version": 3
   },
   "file_extension": ".py",
   "mimetype": "text/x-python",
   "name": "python",
   "nbconvert_exporter": "python",
   "pygments_lexer": "ipython3",
   "version": "3.8.5"
  }
 },
 "nbformat": 4,
 "nbformat_minor": 2
}
